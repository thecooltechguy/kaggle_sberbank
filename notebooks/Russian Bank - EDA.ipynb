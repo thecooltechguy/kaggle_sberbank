{
 "cells": [
  {
   "cell_type": "markdown",
   "metadata": {
    "deletable": true,
    "editable": true
   },
   "source": [
    "# Sberbank Kaggle Data - Exploratory Data Analysis (EDA)"
   ]
  },
  {
   "cell_type": "code",
   "execution_count": 1,
   "metadata": {
    "collapsed": true,
    "deletable": true,
    "editable": true
   },
   "outputs": [],
   "source": [
    "from matplotlib import pyplot as plt\n",
    "from sklearn.model_selection import train_test_split\n",
    "import pandas as pd, seaborn as sns, numpy as np"
   ]
  },
  {
   "cell_type": "code",
   "execution_count": 2,
   "metadata": {
    "collapsed": true,
    "deletable": true,
    "editable": true
   },
   "outputs": [],
   "source": [
    "%matplotlib inline"
   ]
  },
  {
   "cell_type": "code",
   "execution_count": 3,
   "metadata": {
    "collapsed": true,
    "deletable": true,
    "editable": true
   },
   "outputs": [],
   "source": [
    "train_data = \"/mnt/h/Kaggle/Competitions/Russian Bank/data/train.csv/train.csv\"\n",
    "test_data = \"/mnt/h/Kaggle/Competitions/Russian Bank/data/test.csv/test.csv\"\n",
    "macro_data = \"/mnt/h/Kaggle/Competitions/Russian Bank/data/macro.csv/macro.csv\""
   ]
  },
  {
   "cell_type": "code",
   "execution_count": 4,
   "metadata": {
    "collapsed": true,
    "deletable": true,
    "editable": true
   },
   "outputs": [],
   "source": [
    "train_df = pd.read_csv(train_data, parse_dates=['timestamp'])\n",
    "test_df = pd.read_csv(test_data, parse_dates=['timestamp'])\n",
    "macro_df = pd.read_csv(macro_data, parse_dates=['timestamp'])"
   ]
  },
  {
   "cell_type": "code",
   "execution_count": 5,
   "metadata": {
    "collapsed": true,
    "deletable": true,
    "editable": true
   },
   "outputs": [],
   "source": [
    "LABEL = \"price_doc\""
   ]
  },
  {
   "cell_type": "code",
   "execution_count": 6,
   "metadata": {
    "collapsed": false,
    "deletable": true,
    "editable": true
   },
   "outputs": [],
   "source": [
    "final_df = pd.merge(train_df, macro_df, on='timestamp')"
   ]
  },
  {
   "cell_type": "code",
   "execution_count": 7,
   "metadata": {
    "collapsed": false,
    "deletable": true,
    "editable": true
   },
   "outputs": [],
   "source": [
    "final_df['timestamp_epoch'] = final_df.apply(lambda row: row['timestamp'].value, axis=1)"
   ]
  },
  {
   "cell_type": "code",
   "execution_count": 8,
   "metadata": {
    "collapsed": true,
    "deletable": true,
    "editable": true
   },
   "outputs": [],
   "source": [
    "final_df['timestamp_month'] = final_df.apply(lambda row: row['timestamp'].month, axis=1)"
   ]
  },
  {
   "cell_type": "code",
   "execution_count": 9,
   "metadata": {
    "collapsed": true,
    "deletable": true,
    "editable": true
   },
   "outputs": [],
   "source": [
    "final_df['timestamp_day'] = final_df.apply(lambda row: row['timestamp'].day, axis=1)"
   ]
  },
  {
   "cell_type": "code",
   "execution_count": 10,
   "metadata": {
    "collapsed": true,
    "deletable": true,
    "editable": true
   },
   "outputs": [],
   "source": [
    "final_df['timestamp_dayofweek'] = final_df.apply(lambda row: row['timestamp'].dayofweek, axis=1)"
   ]
  },
  {
   "cell_type": "code",
   "execution_count": 11,
   "metadata": {
    "collapsed": true,
    "deletable": true,
    "editable": true
   },
   "outputs": [],
   "source": [
    "final_df['timestamp_week'] = final_df.apply(lambda row: row['timestamp'].week, axis=1)"
   ]
  },
  {
   "cell_type": "code",
   "execution_count": 12,
   "metadata": {
    "collapsed": true
   },
   "outputs": [],
   "source": [
    "del train_df, test_df, macro_df"
   ]
  },
  {
   "cell_type": "markdown",
   "metadata": {
    "deletable": true,
    "editable": true
   },
   "source": [
    "# Preview the dataset"
   ]
  },
  {
   "cell_type": "markdown",
   "metadata": {
    "deletable": true,
    "editable": true
   },
   "source": [
    "There's a lot of feature columns..."
   ]
  },
  {
   "cell_type": "code",
   "execution_count": 13,
   "metadata": {
    "collapsed": false,
    "deletable": true,
    "editable": true
   },
   "outputs": [
    {
     "data": {
      "text/html": [
       "<div>\n",
       "<style>\n",
       "    .dataframe thead tr:only-child th {\n",
       "        text-align: right;\n",
       "    }\n",
       "\n",
       "    .dataframe thead th {\n",
       "        text-align: left;\n",
       "    }\n",
       "\n",
       "    .dataframe tbody tr th {\n",
       "        vertical-align: top;\n",
       "    }\n",
       "</style>\n",
       "<table border=\"1\" class=\"dataframe\">\n",
       "  <thead>\n",
       "    <tr style=\"text-align: right;\">\n",
       "      <th></th>\n",
       "      <th>id</th>\n",
       "      <th>timestamp</th>\n",
       "      <th>full_sq</th>\n",
       "      <th>life_sq</th>\n",
       "      <th>floor</th>\n",
       "      <th>max_floor</th>\n",
       "      <th>material</th>\n",
       "      <th>build_year</th>\n",
       "      <th>num_room</th>\n",
       "      <th>kitch_sq</th>\n",
       "      <th>...</th>\n",
       "      <th>bandwidth_sports</th>\n",
       "      <th>population_reg_sports_share</th>\n",
       "      <th>students_reg_sports_share</th>\n",
       "      <th>apartment_build</th>\n",
       "      <th>apartment_fund_sqm</th>\n",
       "      <th>timestamp_epoch</th>\n",
       "      <th>timestamp_month</th>\n",
       "      <th>timestamp_day</th>\n",
       "      <th>timestamp_dayofweek</th>\n",
       "      <th>timestamp_week</th>\n",
       "    </tr>\n",
       "  </thead>\n",
       "  <tbody>\n",
       "    <tr>\n",
       "      <th>0</th>\n",
       "      <td>1</td>\n",
       "      <td>2011-08-20</td>\n",
       "      <td>43</td>\n",
       "      <td>27.0</td>\n",
       "      <td>4.0</td>\n",
       "      <td>NaN</td>\n",
       "      <td>NaN</td>\n",
       "      <td>NaN</td>\n",
       "      <td>NaN</td>\n",
       "      <td>NaN</td>\n",
       "      <td>...</td>\n",
       "      <td>269768.0</td>\n",
       "      <td>22.37</td>\n",
       "      <td>64.12</td>\n",
       "      <td>23587.0</td>\n",
       "      <td>230310.0</td>\n",
       "      <td>1313798400000000000</td>\n",
       "      <td>8</td>\n",
       "      <td>20</td>\n",
       "      <td>5</td>\n",
       "      <td>33</td>\n",
       "    </tr>\n",
       "    <tr>\n",
       "      <th>1</th>\n",
       "      <td>2</td>\n",
       "      <td>2011-08-23</td>\n",
       "      <td>34</td>\n",
       "      <td>19.0</td>\n",
       "      <td>3.0</td>\n",
       "      <td>NaN</td>\n",
       "      <td>NaN</td>\n",
       "      <td>NaN</td>\n",
       "      <td>NaN</td>\n",
       "      <td>NaN</td>\n",
       "      <td>...</td>\n",
       "      <td>269768.0</td>\n",
       "      <td>22.37</td>\n",
       "      <td>64.12</td>\n",
       "      <td>23587.0</td>\n",
       "      <td>230310.0</td>\n",
       "      <td>1314057600000000000</td>\n",
       "      <td>8</td>\n",
       "      <td>23</td>\n",
       "      <td>1</td>\n",
       "      <td>34</td>\n",
       "    </tr>\n",
       "    <tr>\n",
       "      <th>2</th>\n",
       "      <td>3</td>\n",
       "      <td>2011-08-27</td>\n",
       "      <td>43</td>\n",
       "      <td>29.0</td>\n",
       "      <td>2.0</td>\n",
       "      <td>NaN</td>\n",
       "      <td>NaN</td>\n",
       "      <td>NaN</td>\n",
       "      <td>NaN</td>\n",
       "      <td>NaN</td>\n",
       "      <td>...</td>\n",
       "      <td>269768.0</td>\n",
       "      <td>22.37</td>\n",
       "      <td>64.12</td>\n",
       "      <td>23587.0</td>\n",
       "      <td>230310.0</td>\n",
       "      <td>1314403200000000000</td>\n",
       "      <td>8</td>\n",
       "      <td>27</td>\n",
       "      <td>5</td>\n",
       "      <td>34</td>\n",
       "    </tr>\n",
       "    <tr>\n",
       "      <th>3</th>\n",
       "      <td>4</td>\n",
       "      <td>2011-09-01</td>\n",
       "      <td>89</td>\n",
       "      <td>50.0</td>\n",
       "      <td>9.0</td>\n",
       "      <td>NaN</td>\n",
       "      <td>NaN</td>\n",
       "      <td>NaN</td>\n",
       "      <td>NaN</td>\n",
       "      <td>NaN</td>\n",
       "      <td>...</td>\n",
       "      <td>269768.0</td>\n",
       "      <td>22.37</td>\n",
       "      <td>64.12</td>\n",
       "      <td>23587.0</td>\n",
       "      <td>230310.0</td>\n",
       "      <td>1314835200000000000</td>\n",
       "      <td>9</td>\n",
       "      <td>1</td>\n",
       "      <td>3</td>\n",
       "      <td>35</td>\n",
       "    </tr>\n",
       "    <tr>\n",
       "      <th>4</th>\n",
       "      <td>5</td>\n",
       "      <td>2011-09-05</td>\n",
       "      <td>77</td>\n",
       "      <td>77.0</td>\n",
       "      <td>4.0</td>\n",
       "      <td>NaN</td>\n",
       "      <td>NaN</td>\n",
       "      <td>NaN</td>\n",
       "      <td>NaN</td>\n",
       "      <td>NaN</td>\n",
       "      <td>...</td>\n",
       "      <td>269768.0</td>\n",
       "      <td>22.37</td>\n",
       "      <td>64.12</td>\n",
       "      <td>23587.0</td>\n",
       "      <td>230310.0</td>\n",
       "      <td>1315180800000000000</td>\n",
       "      <td>9</td>\n",
       "      <td>5</td>\n",
       "      <td>0</td>\n",
       "      <td>36</td>\n",
       "    </tr>\n",
       "  </tbody>\n",
       "</table>\n",
       "<p>5 rows × 396 columns</p>\n",
       "</div>"
      ],
      "text/plain": [
       "   id  timestamp  full_sq  life_sq  floor  max_floor  material  build_year  \\\n",
       "0   1 2011-08-20       43     27.0    4.0        NaN       NaN         NaN   \n",
       "1   2 2011-08-23       34     19.0    3.0        NaN       NaN         NaN   \n",
       "2   3 2011-08-27       43     29.0    2.0        NaN       NaN         NaN   \n",
       "3   4 2011-09-01       89     50.0    9.0        NaN       NaN         NaN   \n",
       "4   5 2011-09-05       77     77.0    4.0        NaN       NaN         NaN   \n",
       "\n",
       "   num_room  kitch_sq       ...        bandwidth_sports  \\\n",
       "0       NaN       NaN       ...                269768.0   \n",
       "1       NaN       NaN       ...                269768.0   \n",
       "2       NaN       NaN       ...                269768.0   \n",
       "3       NaN       NaN       ...                269768.0   \n",
       "4       NaN       NaN       ...                269768.0   \n",
       "\n",
       "  population_reg_sports_share students_reg_sports_share  apartment_build  \\\n",
       "0                       22.37                     64.12          23587.0   \n",
       "1                       22.37                     64.12          23587.0   \n",
       "2                       22.37                     64.12          23587.0   \n",
       "3                       22.37                     64.12          23587.0   \n",
       "4                       22.37                     64.12          23587.0   \n",
       "\n",
       "   apartment_fund_sqm      timestamp_epoch  timestamp_month  timestamp_day  \\\n",
       "0            230310.0  1313798400000000000                8             20   \n",
       "1            230310.0  1314057600000000000                8             23   \n",
       "2            230310.0  1314403200000000000                8             27   \n",
       "3            230310.0  1314835200000000000                9              1   \n",
       "4            230310.0  1315180800000000000                9              5   \n",
       "\n",
       "   timestamp_dayofweek  timestamp_week  \n",
       "0                    5              33  \n",
       "1                    1              34  \n",
       "2                    5              34  \n",
       "3                    3              35  \n",
       "4                    0              36  \n",
       "\n",
       "[5 rows x 396 columns]"
      ]
     },
     "execution_count": 13,
     "metadata": {},
     "output_type": "execute_result"
    }
   ],
   "source": [
    "final_df.head()"
   ]
  },
  {
   "cell_type": "markdown",
   "metadata": {},
   "source": [
    "# train.csv and test.csv\n",
    "\n",
    "- price_doc: sale price (this is the target variable)\n",
    "- id: transaction id\n",
    "- timestamp: date of transaction\n",
    "- full_sq: total area in square meters, including loggias, balconies and other non-residential areas\n",
    "- life_sq: living area in square meters, excluding loggias, balconies and other non-residential areas\n",
    "- floor: for apartments, floor of the building\n",
    "- max_floor: number of floors in the building\n",
    "- material: wall material\n",
    "- build_year: year built\n",
    "- num_room: number of living rooms\n",
    "- kitch_sq: kitchen area\n",
    "- state: apartment condition\n",
    "- product_type: owner-occupier purchase or investment\n",
    "- sub_area: name of the district\n",
    "\n",
    "##### The dataset also includes a collection of features about each property's surrounding neighbourhood, and some features that are constant across each sub area (known as a Raion). Most of the feature names are self explanatory, with the following notes. See below for a complete list.\n",
    "\n",
    "- full_all: subarea population\n",
    "- male_f, female_f: subarea population by gender\n",
    "- young_*: population younger than working age\n",
    "- work_*: working-age population\n",
    "- ekder_*: retirement-age population\n",
    "- n_m_{all|male|female}: population between n and m years old\n",
    "- build_count_*: buildings in the subarea by construction type or year\n",
    "- x_count_500: the number of x within 500m of the property\n",
    "- x_part_500: the share of x within 500m of the property\n",
    "- _sqm_: square meters\n",
    "- cafe_count_d_price_p: number of cafes within d meters of the property that have an average bill under p RUB\n",
    "- trc_: shopping malls\n",
    "- prom_: industrial zones\n",
    "- green_: green zones\n",
    "- metro_: subway\n",
    "- _avto_: distances by car\n",
    "- mkad_: Moscow Circle Auto Road\n",
    "- ttk_: Third Transport Ring\n",
    "- sadovoe_: Garden Ring\n",
    "- bulvar_ring_: Boulevard Ring\n",
    "- kremlin_: City center\n",
    "- zd_vokzaly_: Train station\n",
    "- oil_chemistry_: Dirty industry\n",
    "- ts_: Power plant\n",
    "\n",
    "\n",
    "# macro.csv\n",
    "\n",
    "##### A set of macroeconomic indicators, one for each date.\n",
    "\n",
    "- timestamp: Transaction timestamp\n",
    "- oil_urals: Crude Oil Urals (dollars/bbl)\n",
    "- gdp_quart: GDP\n",
    "- gdp_quart_growth: Real GDP growth\n",
    "- cpi: Inflation - Consumer Price Index Growth\n",
    "- ppi: Inflation - Producer Price index Growth\n",
    "- gdp_deflator: Inflation - GDP deflator\n",
    "- balance_trade: Trade surplus\n",
    "- balance_trade_growth: Trade balance (as a percentage of previous year)\n",
    "- usdrub: Ruble/USD exchange rate\n",
    "- eurrub: Ruble/EUR exchange rate\n",
    "- brent: London Brent (dollars/bbl)\n",
    "- net_capital_export: Net import / export of capital\n",
    "- gdp_annual: GDP at current prices\n",
    "- gdp_annual_growth: GDP growth (in real terms)\n",
    "- average_provision_of_build_contract: Provision by orders in Russia (for the developer)\n",
    "- average_provision_of_build_contract_moscow: Provision by orders in Moscow (for the developer)\n",
    "- rts: Index RTS / return\n",
    "- micex: MICEX index / return\n",
    "- micex_rgbi_tr: MICEX index for government bonds (MICEX RGBI TR) / yield\n",
    "- micex_cbi_tr: MICEX Index corporate bonds (MICEX CBI TR) / yield\n",
    "- deposits_value: Volume of household deposits\n",
    "- deposits_growth: Volume growth of population's deposits\n",
    "- deposits_rate: Average interest rate on deposits\n",
    "- mortgage_value: Volume of mortgage loans\n",
    "- mortgage_growth: Growth of mortgage lending\n",
    "- mortgage_rate: Weighted average rate of mortgage loans\n",
    "- grp: GRP of the subject of Russian Federation where Apartment is located\n",
    "- grp_growth: Growth of gross regional product of the subject of the Russian Federation where Apartment is located\n",
    "- income_per_cap: Average income per capita \n",
    "- real_dispos_income_per_cap_growth: Growth in real disposable income of Population\n",
    "- salary: Average monthly salary\n",
    "- salary_growth: Growth of nominal wages\n",
    "- fixed_basket: Cost of a fixed basket of consumer goods and services for inter-regional comparisons of purchasing power\n",
    "- retail_trade_turnover: Retail trade turnover\n",
    "- retail_trade_turnover_per_cap: Retail trade turnover per capita\n",
    "- retail_trade_turnover_growth: Retail turnover (in comparable prices in% to corresponding period of previous year)\n",
    "- labor_force: Size of labor force\n",
    "- unemployment: Unemployment rate\n",
    "- employment: Employment rate\n",
    "- invest_fixed_capital_per_cap: Investments in fixed capital per capita\n",
    "- invest_fixed_assets: Absolute volume of investments in fixed assets\n",
    "- profitable_enterpr_share: Share of profitable enterprises\n",
    "- unprofitable_enterpr_share: The share of unprofitable enterprises\n",
    "- share_own_revenues: The share of own revenues in the total consolidated budget revenues\n",
    "- overdue_wages_per_cap: Overdue wages per person\n",
    "- fin_res_per_cap: The financial results of companies per capita\n",
    "- marriages_per_1000_cap: Number of marriages per 1,000 people\n",
    "- divorce_rate: The divorce rate / growth rate\n",
    "- construction_value: Volume of construction work performed (million rubles)\n",
    "- invest_fixed_assets_phys: The index of physical volume of investment in fixed assets (in comparable prices in% to the - corresponding month of Previous year)\n",
    "- pop_natural_increase: Rate of natural increase / decrease in Population (1,000 persons)\n",
    "- pop_migration: Migration increase (decrease) of population\n",
    "- pop_total_inc: Total population growth\n",
    "- childbirth: Childbirth\n",
    "- mortality: Mortality\n",
    "- housing_fund_sqm: Housing Fund (sqm)\n",
    "- lodging_sqm_per_cap: Lodging (sqm / pax)\n",
    "- water_pipes_share: Plumbing availability (pax)\n",
    "- baths_share: Bath availability (pax)\n",
    "- sewerage_share: Canalization availability\n",
    "- gas_share: Gas (mains, liquefied) availability\n",
    "- hot_water_share: Hot water availability\n",
    "- electric_stove_share: Electric heating for the floor\n",
    "- heating_share: Heating availability\n",
    "- old_house_share: Proportion of old and dilapidated housing, percent\n",
    "- average_life_exp: Average life expectancy\n",
    "- infant_mortarity_per_1000_cap: Infant mortality rate (per 1,000 children aged up to one year)\n",
    "- perinatal_mort_per_1000_cap: Perinatal mortality rate (per 1,000 live births)\n",
    "- incidence_population: Overall incidence of the total population\n",
    "- rent_price_4+room_bus: rent price for 4-room apartment, business class\n",
    "- rent_price_3room_bus: rent price for 3-room apartment, business class\n",
    "- rent_price_2room_bus: rent price for 2-room apartment, business class\n",
    "- rent_price_1room_bus: rent price for 1-room apartment, business class\n",
    "- rent_price_3room_eco: rent price for 3-room apartment, econom class\n",
    "- rent_price_2room_eco: rent price for 2-room apartment, econom class\n",
    "- rent_price_1room_eco: rent price for 1-room apartment, econom class\n",
    "- load_of_teachers_preschool_per_teacher: Load of teachers of preschool educational institutions (number of children per 100 teachers);\n",
    "- child_on_acc_pre_school: Number of children waiting for the determination to pre-school educational institutions, for capacity of 100\n",
    "- load_of_teachers_school_per_teacher: Load on teachers in high school (number of pupils in hugh school for 100 teachers)\n",
    "- students_state_oneshift: Proportion of pupils in high schools with one shift, of the total number of pupils in high schools\n",
    "- modern_education_share: Share of state (municipal) educational organizations, corresponding to modern requirements of education in the total number of high schools;\n",
    "- old_education_build_share: The share of state (municipal) educational organizations, buildings are in disrepair and in need of major repairs of the total number.\n",
    "- provision_doctors: Provision (relative number) of medical doctors in area\n",
    "- provision_nurse: Provision of nursing staff\n",
    "- load_on_doctors: The load on doctors (number of visits per physician)\n",
    "- power_clinics: Capacity of outpatient clinics\n",
    "- hospital_beds_available_per_cap: Availability of hospital beds per 100 000 persons\n",
    "- hospital_bed_occupancy_per_year: Average occupancy rate of the hospital beds during a year\n",
    "- provision_retail_space_sqm: Retail space\n",
    "- provision_retail_space_modern_sqm: Provision of population with retail space of modern formats, square meter\n",
    "- retail_trade_turnover_per_cap: Retail trade turnover per capita\n",
    "- turnover_catering_per_cap: Turnover of catering industry per person\n",
    "- theaters_viewers_per_1000_cap: Number of theaters viewers per 1000 population\n",
    "- seats_theather_rfmin_per_100000_cap: Total number of seats in Auditorium of the Ministry of Culture Russian theaters per 100,000 population\n",
    "- museum_visitis_per_100_cap: Number of visits to museums per 1000 of population\n",
    "- bandwidth_sports: Capacity of sports facilities\n",
    "- population_reg_sports_share: Proportion of population regularly doing  sports\n",
    "- students_reg_sports_share: Proportion of pupils and students regularly doing sports in the total number\n",
    "- apartment_build: City residential apartment construction\n",
    "- apartment_fund_sqm: City residential apartment fund \n",
    "\n",
    "\n",
    "# Complete description of neighbourhood features\n",
    "\n",
    "- area_m\tArea mun. area, sq.m.\n",
    "- raion_popul\tNumber of municipality population. district\n",
    "- green_zone_part\tProportion of area of ​​greenery in the total area\n",
    "- indust_part\tShare of industrial zones in area of ​​the total area\n",
    "- children_preschool\tNumber of pre-school age population\n",
    "- preschool_quota\tNumber of seats in pre-school organizations\n",
    "- preschool_education_centers_raion\tNumber of pre-school  institutions\n",
    "- children_school\tPopulation of school-age children\n",
    "- school_quota\tNumber of high school seats in area\n",
    "- school_education_centers_raion\tNumber of  high school institutions\n",
    "- school_education_centers_top_20_raion\tNumber of high schools of the top 20 best schools in Moscow\n",
    "- hospital_beds_raion\tNumber of hospital beds for the district\n",
    "- healthcare_centers_raion\tNumber of healthcare centers in district\n",
    "- university_top_20_raion\tNumber of higher education institutions in the top ten ranking of the Federal rank\n",
    "- sport_objects_raion\tNumber of higher education institutions\n",
    "- additional_education_raion\tNumber of additional education organizations\n",
    "- culture_objects_top_25\tPresence of the key objects of cultural heritage (significant objects for the level of the RF constituent entities, city)\n",
    "- culture_objects_top_25_raion\tNumber of  objects of cultural heritage\n",
    "- shopping_centers_raion\tNumber of malls and shopping centres in district\n",
    "- office_raion\tNumber of malls and shopping centres in district\n",
    "- thermal_power_plant_raion\tPresence of thermal power station in district\n",
    "- incineration_raion\tPresence of incinerators\n",
    "- oil_chemistry_raion\tPresence of dirty industries\n",
    "- radiation_raion\tPresence of radioactive waste disposal\n",
    "- railroad_terminal_raion\tPresence of the railroad terminal in district\n",
    "- big_market_raion\tPresence of large grocery / wholesale markets\n",
    "- nuclear_reactor_raion\tPresence of existing nuclear reactors\n",
    "- detention_facility_raion\tPresence of detention centers, prisons\n",
    "- full_all\tTotal number of  population in the municipality\n",
    "- male_f\tMale population\n",
    "- female_f\tFemale population\n",
    "- young_all\tPopulation younger than working age\n",
    "- young_male\tMale population younger than working age \n",
    "- young_female\tFeale population younger than working age \n",
    "- work_all\tWorking-age population\n",
    "- work_male\tMale working-age population\n",
    "- work_female\tFemale working-age population\n",
    "- ekder_all\tPopulation older than  working age\n",
    "- ekder_male\tMale population older than  working age\n",
    "- ekder_female\tFemale population older than  working age\n",
    "- 0_6_all\tPopulation aged 0-6\n",
    "- 0_6_male\tMale population aged 0-7\n",
    "- 0_6_female\tFemale population aged 0-8\n",
    "- 7_14_all\tPopulation aged  7-14\n",
    "- 7_14_male\tMale population aged 7-14\n",
    "- 7_14_female\tFemale population aged 7-14\n",
    "- 0_17_all\tPopulation aged 0-17\n",
    "- 0_17_male\tMale population aged 0-17\n",
    "- 0_17_female\tFemale population aged 0-17\n",
    "- 16_29_all\tPopulation aged 16-19\n",
    "- 16_29_male\tMale population aged 16-19\n",
    "- 16_29_female\tFemale population aged 16-19\n",
    "- 0_13_all\tPopulation aged 0-13\n",
    "- 0_13_male\tMale population aged 0-13\n",
    "- 0_13_female\tFemale population aged 0-13\n",
    "- raion_build_count_with_material_info\tNumber of building with material info in district\n",
    "- build_count_block\tShare of block buildings\n",
    "- build_count_wood\tShare of wood buildings\n",
    "- build_count_frame\tShare of frame buildings\n",
    "- build_count_brick\tShare of brick buildings\n",
    "- build_count_monolith\tShare of monolith buildings\n",
    "- build_count_panel\tShare of panel buildings\n",
    "- build_count_foam\tShare of foam buildings\n",
    "- build_count_slag\tShare of slag buildings\n",
    "- build_count_mix\tShare of mixed buildings\n",
    "- raion_build_count_with_builddate_info\tNumber of building with build year info in district\n",
    "- build_count_before_1920\tShare of before_1920 buildings\n",
    "- build_count_1921-1945\tShare of 1921-1945 buildings\n",
    "- build_count_1946-1970\tShare of 1946-1970 buildings\n",
    "- build_count_1971-1995\tShare of 1971-1995 buildings\n",
    "- build_count_after_1995\tShare of after_1995 buildings\n",
    "- 7_14_male\tMale population aged 7-14\n",
    "- 7_14_female\tFemale population aged 7-14\n",
    "- 0_17_all\tPopulation aged 0-17\n",
    "- 0_17_male\tMale population aged 0-17\n",
    "- 0_17_female\tFemale population aged 0-17\n",
    "- 16_29_all\tPopulation aged 16-19\n",
    "- 16_29_male\tMale population aged 16-19\n",
    "- 16_29_female\tFemale population aged 16-19\n",
    "- 0_13_all\tPopulation aged 0-13\n",
    "- 0_13_male\tMale population aged 0-13\n",
    "- 0_13_female\tFemale population aged 0-13\n",
    "- metro_min_avto\tTime to subway by car, min.\n",
    "- metro_km_avto\tDistance to subway by car, km\n",
    "- metro_min_walk\tTime to metro by foot\n",
    "- metro_km_walk\tDistance to the metro, km\n",
    "- kindergarten_km\tDistance to kindergarten\n",
    "- school_km\tDistance to high school \n",
    "- park_km\tDistance to park\n",
    "- green_zone_km\tDistance to green zone\n",
    "- industrial_zone_km\tDistance to industrial zone\n",
    "- water_treatment_km\tDistance to water treatment\n",
    "- cemetery_km\tDistance to the cemetery\n",
    "- incineration_km\tDistance to the incineration\n",
    "- railroad_station_walk_km\tDistance to the railroad station (walk)\n",
    "- railroad_station_walk_min\tTime to the railroad station (walk)\n",
    "- ID_railroad_station_walk\tNearest railroad station id (walk)\n",
    "- railroad_station_avto_km\tDistance to the railroad station (avto)\n",
    "- railroad_station_avto_min\tTime to the railroad station (avto)\n",
    "- ID_railroad_station_avto\tNearest railroad station id (avto)\n",
    "- public_transport_station_km\tDistance to the public transport station (walk)\n",
    "- public_transport_station_min_walk\tTime to the public transport station (walk)\n",
    "- water_km\tDistance to the water reservoir / river\n",
    "- water_1line\tFirst line to the river (150 m)\n",
    "- mkad_km\tDistance to MKAD (Moscow Circle Auto Road)\n",
    "- ttk_km\tDistance to the TTC (Third Transport Ring)\n",
    "- sadovoe_km\tDistance to the Garden Ring\n",
    "- bulvar_ring_km\tThe distance to the Boulevard Ring\n",
    "- kremlin_km\tDistance to the city center (Kremlin)\n",
    "- big_road1_km\tDistance to Nearest major road\n",
    "- ID_big_road1\tNearest big road id\n",
    "- big_road1_1line\tFirst line to the road (100 m for highwys, 250 m to MKAD)\n",
    "- big_road2_km\tThe distance to next distant major road\n",
    "- ID_big_road2\t2nd nearest big road id\n",
    "- railroad_km\tDistance to the railway / Moscow Central Ring / open areas Underground\n",
    "- railroad_1line\tFirst line to the railway (100 m)\n",
    "- zd_vokzaly_avto_km\tDistance to train station\n",
    "- ID_railroad_terminal\tNearest railroad terminal id\n",
    "- bus_terminal_avto_km\tDistance to bus terminal (avto)\n",
    "- ID_bus_terminal\tNearest bus terminal id\n",
    "- oil_chemistry_km\tDistance to dirty industries\n",
    "- nuclear_reactor_km\tDistance to nuclear reactor\n",
    "- radiation_km\tDistance to burial of radioactive waste\n",
    "- power_transmission_line_km\tDistance to power transmission line\n",
    "- thermal_power_plant_km\tDistance to thermal power plant\n",
    "- ts_km\tDistance to power station\n",
    "- big_market_km\tDistance to grocery / wholesale markets\n",
    "- market_shop_km\tDistance to markets and department stores\n",
    "- fitness_km\tDistance to fitness\n",
    "- swim_pool_km\tDistance to swimming pool\n",
    "- ice_rink_km\tDistance to ice palace\n",
    "- stadium_km\tDistance to stadium\n",
    "- basketball_km\tDistance to the basketball courts\n",
    "- hospice_morgue_km\tDistance to hospice/morgue\n",
    "- detention_facility_km\tDistance to detention facility\n",
    "- public_healthcare_km\tDistance to public healthcare\n",
    "- university_km\tDistance to universities\n",
    "- workplaces_km\tDistance to workplaces\n",
    "- shopping_centers_km\tDistance to shopping centers\n",
    "- office_km\tDistance to business centers/ offices\n",
    "- additional_education_km\tDistance to additional education\n",
    "- preschool_km\tDistance to preschool education organizations\n",
    "- big_church_km\tDistance to large church\n",
    "- church_synagogue_km\tDistance to Christian chirches and Synagogues\n",
    "- mosque_km\tDistance to mosques\n",
    "- theater_km\tDistance to theater\n",
    "- museum_km\tDistance to museums\n",
    "- exhibition_km\tDistance to exhibition\n",
    "- catering_km\tDistance to catering\n",
    "- ecology\tEcological zone where the house is located\n",
    "- green_part_500\tThe share of green zones in 500 meters zone\n",
    "- prom_part_500\tThe share of industrial zones in 500 meters zone\n",
    "- office_count_500\tThe number of office space in 500 meters zone\n",
    "- office_sqm_500\tThe square of office space in 500 meters zone\n",
    "- trc_count_500\tThe number of shopping malls in 500 meters zone\n",
    "- trc_sqm_500\tThe square of shopping malls in 500 meters zone\n",
    "- cafe_count_500\tThe number of cafes or restaurants in 500 meters zone\n",
    "- cafe_sum_500_min_price_avg\tCafes and restaurant min average bill in 500 meters zone\n",
    "- cafe_sum_500_max_price_avg\tCafes and restaurant max average bill in 500 meters zone\n",
    "- cafe_avg_price_500\tCafes and restaurant average bill in 500 meters zone\n",
    "- cafe_count_500_na_price\tCafes and restaurant bill N/A in 500 meters zone\n",
    "- cafe_count_500_price_500\tCafes and restaurant bill, average under 500 in 500 meters zone\n",
    "- cafe_count_500_price_1000\tCafes and restaurant bill, average  500-1000 in 500 meters zone\n",
    "- cafe_count_500_price_1500\tCafes and restaurant bill, average  1000-1500 in 500 meters zone\n",
    "- cafe_count_500_price_2500\tCafes and restaurant bill, average  1500-2500 in 500 meters zone\n",
    "- cafe_count_500_price_4000\tCafes and restaurant bill, average  2500-4000 in 500 meters zone\n",
    "- cafe_count_500_price_high\tCafes and restaurant bill, average  over 4000 in 500 meters zone\n",
    "- big_church_count_500\tThe number of big churchs in 500 meters zone\n",
    "- church_count_500\tThe number of churchs in 500 meters zone\n",
    "- mosque_count_500\tThe number of mosques in 500 meters zone\n",
    "- leisure_count_500\tThe number of leisure facilities in 500 meters zone\n",
    "- sport_count_500\tThe number of sport facilities in 500 meters zone\n",
    "- market_count_500\tThe number of markets in 500 meters zone\n",
    "- green_part_1000\tThe share of green zones in 1000 meters zone\n",
    "- prom_part_1000\tThe share of industrial zones in 1000 meters zone\n",
    "- office_count_1000\tThe number of office space in 1000 meters zone\n",
    "- office_sqm_1000\tThe square of office space in 1000 meters zone\n",
    "- trc_count_1000\tThe number of shopping malls in 1000 meters zone\n",
    "- trc_sqm_1000\tThe square of shopping malls in 1000 meters zone\n",
    "- cafe_count_1000\tThe number of cafes or restaurants in 1000 meters zone\n",
    "- cafe_sum_1000_min_price_avg\tCafes and restaurant min average bill in 1000 meters zone\n",
    "- cafe_sum_1000_max_price_avg\tCafes and restaurant max average bill in 1000 meters zone\n",
    "- cafe_avg_price_1000\tCafes and restaurant average bill in 1000 meters zone\n",
    "- cafe_count_1000_na_price\tCafes and restaurant bill N/A in 1000 meters zone\n",
    "- cafe_count_1000_price_500\tCafes and restaurant bill, average under 500 in 1000 meters zone\n",
    "- cafe_count_1000_price_1000\tCafes and restaurant bill, average  500-1000 in 1000 meters zone\n",
    "- cafe_count_1000_price_1500\tCafes and restaurant bill, average  1000-1500 in 1000 meters zone\n",
    "- cafe_count_1000_price_2500\tCafes and restaurant bill, average  1500-2500 in 1000 meters zone\n",
    "- cafe_count_1000_price_4000\tCafes and restaurant bill, average  2500-4000 in 1000 meters zone\n",
    "- cafe_count_1000_price_high\tCafes and restaurant bill, average  over 4000 in 1000 meters zone\n",
    "- big_church_count_1000\tThe number of big churchs in 1000 meters zone\n",
    "- church_count_1000\tThe number of churchs in 1000 meters zone\n",
    "- mosque_count_1000\tThe number of mosques in 1000 meters zone\n",
    "- leisure_count_1000\tThe number of leisure facilities in 1000 meters zone\n",
    "- sport_count_1000\tThe number of sport facilities in 1000 meters zone\n",
    "- market_count_1000\tThe number of markets in 1000 meters zone\n",
    "- green_part_1500\tThe share of green zones in 1500 meters zone\n",
    "- prom_part_1500\tThe share of industrial zones in 1500 meters zone\n",
    "- office_count_1500\tThe number of office space in 1500 meters zone\n",
    "- office_sqm_1500\tThe square of office space in 1500 meters zone\n",
    "- trc_count_1500\tThe number of shopping malls in 1500 meters zone\n",
    "- trc_sqm_1500\tThe square of shopping malls in 1500 meters zone\n",
    "- cafe_count_1500\tThe number of cafes or restaurants in 1500 meters zone\n",
    "- cafe_sum_1500_min_price_avg\tCafes and restaurant min average bill in 1500 meters zone\n",
    "- cafe_sum_1500_max_price_avg\tCafes and restaurant max average bill in 1500 meters zone\n",
    "- cafe_avg_price_1500\tCafes and restaurant average bill in 1500 meters zone\n",
    "- cafe_count_1500_na_price\tCafes and restaurant bill N/A in 1500 meters zone\n",
    "- cafe_count_1500_price_500\tCafes and restaurant bill, average under 500 in 1500 meters zone\n",
    "- cafe_count_1500_price_1000\tCafes and restaurant bill, average  500-1000 in 1500 meters zone\n",
    "- cafe_count_1500_price_1500\tCafes and restaurant bill, average  1000-1500 in 1500 meters zone\n",
    "- cafe_count_1500_price_2500\tCafes and restaurant bill, average  1500-2500 in 1500 meters zone\n",
    "- cafe_count_1500_price_4000\tCafes and restaurant bill, average  2500-4000 in 1500 meters zone\n",
    "- cafe_count_1500_price_high\tCafes and restaurant bill, average  over 4000 in 1500 meters zone\n",
    "- big_church_count_1500\tThe number of big churchs in 1500 meters zone\n",
    "- church_count_1500\tThe number of churchs in 1500 meters zone\n",
    "- mosque_count_1500\tThe number of mosques in 1500 meters zone\n",
    "- leisure_count_1500\tThe number of leisure facilities in 1500 meters zone\n",
    "- sport_count_1500\tThe number of sport facilities in 1500 meters zone\n",
    "- market_count_1500\tThe number of markets in 1500 meters zone\n",
    "- green_part_2000\tThe share of green zones in 2000 meters zone\n",
    "- prom_part_2000\tThe share of industrial zones in 2000 meters zone\n",
    "- office_count_2000\tThe number of office space in 2000 meters zone\n",
    "- office_sqm_2000\tThe square of office space in 2000 meters zone\n",
    "- trc_count_2000\tThe number of shopping malls in 2000 meters zone\n",
    "- trc_sqm_2000\tThe square of shopping malls in 2000 meters zone\n",
    "- cafe_count_2000\tThe number of cafes or restaurants in 1500 meters zone\n",
    "- cafe_sum_2000_min_price_avg\tCafes and restaurant min average bill in 2000 meters zone\n",
    "- cafe_sum_2000_max_price_avg\tCafes and restaurant max average bill in 2000 meters zone\n",
    "- cafe_avg_price_2000\tCafes and restaurant average bill in 2000 meters zone\n",
    "- cafe_count_2000_na_price\tCafes and restaurant bill N/A in 2000 meters zone\n",
    "- cafe_count_2000_price_500\tCafes and restaurant bill, average under 500 in 2000 meters zone\n",
    "- cafe_count_2000_price_1000\tCafes and restaurant bill, average  500-1000 in 2000 meters zone\n",
    "- cafe_count_2000_price_1500\tCafes and restaurant bill, average  1000-1500 in 2000 meters zone\n",
    "- cafe_count_2000_price_2500\tCafes and restaurant bill, average  1500-2500 in 2000 meters zone\n",
    "- cafe_count_2000_price_4000\tCafes and restaurant bill, average  2500-4000 in 2000 meters zone\n",
    "- cafe_count_2000_price_high\tCafes and restaurant bill, average  over 4000 in 2000 meters zone\n",
    "- big_church_count_2000\tThe number of big churchs in 2000 meters zone\n",
    "- church_count_2000\tThe number of churchs in 2000 meters zone\n",
    "- mosque_count_2000\tThe number of mosques in 2000 meters zone\n",
    "- leisure_count_2000\tThe number of leisure facilities in 2000 meters zone\n",
    "- sport_count_2000\tThe number of sport facilities in 2000 meters zone\n",
    "- market_count_2000\tThe number of markets in 2000 meters zone\n",
    "- green_part_3000\tThe share of green zones in 3000 meters zone\n",
    "- prom_part_3000\tThe share of industrial zones in 3000 meters zone\n",
    "- office_count_3000\tThe number of office space in 3000 meters zone\n",
    "- office_sqm_3000\tThe square of office space in 3000 meters zone\n",
    "- trc_count_3000\tThe number of shopping malls in 3000 meters zone\n",
    "- trc_sqm_3000\tThe square of shopping malls in 3000 meters zone\n",
    "- cafe_count_3000\tThe number of cafes or restaurants in 1500 meters zone\n",
    "- cafe_sum_3000_min_price_avg\tCafes and restaurant min average bill in 3000 meters zone\n",
    "- cafe_sum_3000_max_price_avg\tCafes and restaurant max average bill in 3000 meters zone\n",
    "- cafe_avg_price_3000\tCafes and restaurant average bill in 3000 meters zone\n",
    "- cafe_count_3000_na_price\tCafes and restaurant bill N/A in 3000 meters zone\n",
    "- cafe_count_3000_price_500\tCafes and restaurant bill, average under 500 in 3000 meters zone\n",
    "- cafe_count_3000_price_1000\tCafes and restaurant bill, average  500-1000 in 3000 meters zone\n",
    "- cafe_count_3000_price_1500\tCafes and restaurant bill, average  1000-1500 in 3000 meters zone\n",
    "- cafe_count_3000_price_2500\tCafes and restaurant bill, average  1500-2500 in 3000 meters zone\n",
    "- cafe_count_3000_price_4000\tCafes and restaurant bill, average  2500-4000 in 3000 meters zone\n",
    "- cafe_count_3000_price_high\tCafes and restaurant bill, average  over 4000 in 3000 meters zone\n",
    "- big_church_count_3000\tThe number of big churchs in 3000 meters zone\n",
    "- church_count_3000\tThe number of churchs in 3000 meters zone\n",
    "- mosque_count_3000\tThe number of mosques in 3000 meters zone\n",
    "- leisure_count_3000\tThe number of leisure facilities in 3000 meters zone\n",
    "- sport_count_3000\tThe number of sport facilities in 3000 meters zone\n",
    "- market_count_3000\tThe number of markets in 3000 meters zone\n",
    "- green_part_5000\tThe share of green zones in 5000 meters zone\n",
    "- prom_part_5000\tThe share of industrial zones in 5000 meters zone\n",
    "- office_count_5000\tThe number of office space in 5000 meters zone\n",
    "- office_sqm_5000\tThe square of office space in 5000 meters zone\n",
    "- trc_count_5000\tThe number of shopping malls in 5000 meters zone\n",
    "- trc_sqm_5000\tThe square of shopping malls in 5000 meters zone\n",
    "- cafe_count_5000\tThe number of cafes or restaurants in 1500 meters zone\n",
    "- cafe_sum_5000_min_price_avg\tCafes and restaurant min average bill in 5000 meters zone\n",
    "- cafe_sum_5000_max_price_avg\tCafes and restaurant max average bill in 5000 meters zone\n",
    "- cafe_avg_price_5000\tCafes and restaurant average bill in 5000 meters zone\n",
    "- cafe_count_5000_na_price\tCafes and restaurant bill N/A in 5000 meters zone\n",
    "- cafe_count_5000_price_500\tCafes and restaurant bill, average under 500 in 5000 meters zone\n",
    "- cafe_count_5000_price_1000\tCafes and restaurant bill, average  500-1000 in 5000 meters zone\n",
    "- cafe_count_5000_price_1500\tCafes and restaurant bill, average  1000-1500 in 5000 meters zone\n",
    "- cafe_count_5000_price_2500\tCafes and restaurant bill, average  1500-2500 in 5000 meters zone\n",
    "- cafe_count_5000_price_4000\tCafes and restaurant bill, average  2500-4000 in 5000 meters zone\n",
    "- cafe_count_5000_price_high\tCafes and restaurant bill, average  over 4000 in 5000 meters zone\n",
    "- big_church_count_5000\tThe number of big churchs in 5000 meters zone\n",
    "- church_count_5000\tThe number of churchs in 5000 meters zone\n",
    "- mosque_count_5000\tThe number of mosques in 5000 meters zone\n",
    "- leisure_count_5000\tThe number of leisure facilities in 5000 meters zone\n",
    "- sport_count_5000\tThe number of sport facilities in 5000 meters zone\n",
    "- market_count_5000\tThe number of markets in 5000 meters zone"
   ]
  },
  {
   "cell_type": "markdown",
   "metadata": {},
   "source": [
    "# Preliminary feature analysis\n",
    "These features are included with the train.csv and test.csv files themselves"
   ]
  },
  {
   "cell_type": "markdown",
   "metadata": {},
   "source": [
    "## Correlation matrix"
   ]
  },
  {
   "cell_type": "code",
   "execution_count": 14,
   "metadata": {
    "collapsed": false
   },
   "outputs": [
    {
     "name": "stderr",
     "output_type": "stream",
     "text": [
      "/usr/local/lib/python2.7/dist-packages/matplotlib/font_manager.py:1297: UserWarning: findfont: Font family [u'sans-serif'] not found. Falling back to DejaVu Sans\n",
      "  (prop.get_family(), self.defaultFamily[fontext]))\n"
     ]
    },
    {
     "data": {
      "text/plain": [
       "<matplotlib.axes._subplots.AxesSubplot at 0x7f49dfaabb90>"
      ]
     },
     "execution_count": 14,
     "metadata": {},
     "output_type": "execute_result"
    },
    {
     "data": {
      "image/png": "[encoded data removed]",
      "text/plain": [
       "<matplotlib.figure.Figure at 0x7f49dfaabfd0>"
      ]
     },
     "metadata": {},
     "output_type": "display_data"
    }
   ],
   "source": [
    "fig, ax = plt.subplots(figsize=(15,10)) \n",
    "sns.heatmap(final_df[['price_doc', 'id', 'timestamp', 'full_sq', 'life_sq', 'floor', \n",
    "                      'max_floor', 'material', 'build_year', 'num_room','kitch_sq',\n",
    "                      'state', 'product_type', 'sub_area']].corr(), ax=ax)"
   ]
  },
  {
   "cell_type": "markdown",
   "metadata": {},
   "source": [
    "- full_sq, life_sq, and num_room are the most correlated features with price.\n",
    "- Also full_sq and life_sq are <b><i>highly</i></b> correlated with num_rooms. No surprise!"
   ]
  },
  {
   "cell_type": "markdown",
   "metadata": {
    "deletable": true,
    "editable": true
   },
   "source": [
    "## Price distribution"
   ]
  },
  {
   "cell_type": "code",
   "execution_count": 15,
   "metadata": {
    "collapsed": false,
    "deletable": true,
    "editable": true
   },
   "outputs": [
    {
     "data": {
      "text/plain": [
       "count    3.047100e+04\n",
       "mean     7.123035e+06\n",
       "std      4.780111e+06\n",
       "min      1.000000e+05\n",
       "25%      4.740002e+06\n",
       "50%      6.274411e+06\n",
       "75%      8.300000e+06\n",
       "max      1.111111e+08\n",
       "Name: price_doc, dtype: float64"
      ]
     },
     "execution_count": 15,
     "metadata": {},
     "output_type": "execute_result"
    }
   ],
   "source": [
    "final_df[LABEL].describe()"
   ]
  },
  {
   "cell_type": "code",
   "execution_count": 16,
   "metadata": {
    "collapsed": false,
    "deletable": true,
    "editable": true
   },
   "outputs": [
    {
     "data": {
      "text/plain": [
       "<matplotlib.axes._subplots.AxesSubplot at 0x7f49df784050>"
      ]
     },
     "execution_count": 16,
     "metadata": {},
     "output_type": "execute_result"
    },
    {
     "data": {
      "image/png": "[encoded data removed]",
      "text/plain": [
       "<matplotlib.figure.Figure at 0x7f49dfa55950>"
      ]
     },
     "metadata": {},
     "output_type": "display_data"
    }
   ],
   "source": [
    "fig, axes = plt.subplots(nrows=1, ncols=3, figsize=(17, 5))\n",
    "final_df[LABEL].hist(ax=axes[0])\n",
    "final_df[LABEL].plot.box(ax=axes[1])\n",
    "final_df.plot.scatter(x='timestamp_epoch', y=LABEL, ax=axes[2])"
   ]
  },
  {
   "cell_type": "markdown",
   "metadata": {
    "deletable": true,
    "editable": true
   },
   "source": [
    "- The price distribution is skewed, so there must be some outliers"
   ]
  },
  {
   "cell_type": "markdown",
   "metadata": {
    "deletable": true,
    "editable": true
   },
   "source": [
    "## Price relation graphs"
   ]
  },
  {
   "cell_type": "markdown",
   "metadata": {
    "deletable": true,
    "editable": true
   },
   "source": [
    "### Price trends per year"
   ]
  },
  {
   "cell_type": "code",
   "execution_count": 17,
   "metadata": {
    "collapsed": true
   },
   "outputs": [],
   "source": [
    "price_x_time_df = pd.DataFrame({LABEL: final_df[LABEL].values},\n",
    "              index=pd.DatetimeIndex(final_df['timestamp'].values))"
   ]
  },
  {
   "cell_type": "code",
   "execution_count": 18,
   "metadata": {
    "collapsed": false
   },
   "outputs": [
    {
     "data": {
      "text/plain": [
       "[<matplotlib.text.Text at 0x7f49df465910>,\n",
       " <matplotlib.text.Text at 0x7f49df443a90>]"
      ]
     },
     "execution_count": 18,
     "metadata": {},
     "output_type": "execute_result"
    },
    {
     "data": {
      "image/png": "[encoded data removed]",
      "text/plain": [
       "<matplotlib.figure.Figure at 0x7f49df96e310>"
      ]
     },
     "metadata": {},
     "output_type": "display_data"
    }
   ],
   "source": [
    "pt_pv = pd.pivot_table(price_x_time_df, index=price_x_time_df.index.month, columns=price_x_time_df.index.year,\n",
    "                    values=LABEL, aggfunc='mean')\n",
    "pt_pv.plot(title=\"Average real estate price each year\", figsize=(15, 10), legend=True,).set(xlabel='Month', ylabel='Price')"
   ]
  },
  {
   "cell_type": "markdown",
   "metadata": {},
   "source": [
    "- In the years 2012, 2011, and 2015, the price seems to fall as we near the year's end.\n",
    "- For the years, 2013 and 2014, the average price seems to increase as we approach the end of the year."
   ]
  },
  {
   "cell_type": "markdown",
   "metadata": {},
   "source": [
    "### Price trends per month"
   ]
  },
  {
   "cell_type": "code",
   "execution_count": 19,
   "metadata": {
    "collapsed": false
   },
   "outputs": [
    {
     "data": {
      "text/plain": [
       "[<matplotlib.text.Text at 0x7f49df5395d0>,\n",
       " <matplotlib.text.Text at 0x7f49df465390>]"
      ]
     },
     "execution_count": 19,
     "metadata": {},
     "output_type": "execute_result"
    },
    {
     "data": {
      "image/png": "[encoded data removed]",
      "text/plain": [
       "<matplotlib.figure.Figure at 0x7f49df9bcdd0>"
      ]
     },
     "metadata": {},
     "output_type": "display_data"
    }
   ],
   "source": [
    "pt_pv = pd.pivot_table(price_x_time_df, index=price_x_time_df.index.year, columns=price_x_time_df.index.month,\n",
    "                    values=LABEL, aggfunc='mean')\n",
    "pt_pv.plot(kind='bar', title=\"Average real estate price each month\", figsize=(15, 10), legend=True, ).set(xlabel='Year', ylabel='Price')"
   ]
  },
  {
   "cell_type": "markdown",
   "metadata": {},
   "source": [
    "- months near the end tend to have higher prices in recent years"
   ]
  },
  {
   "cell_type": "markdown",
   "metadata": {
    "collapsed": true,
    "deletable": true,
    "editable": true
   },
   "source": [
    "### Price trends vs. full_sq"
   ]
  },
  {
   "cell_type": "markdown",
   "metadata": {},
   "source": [
    "#### Analysis: full_sq"
   ]
  },
  {
   "cell_type": "code",
   "execution_count": 20,
   "metadata": {
    "collapsed": false
   },
   "outputs": [
    {
     "data": {
      "text/html": [
       "<div>\n",
       "<style>\n",
       "    .dataframe thead tr:only-child th {\n",
       "        text-align: right;\n",
       "    }\n",
       "\n",
       "    .dataframe thead th {\n",
       "        text-align: left;\n",
       "    }\n",
       "\n",
       "    .dataframe tbody tr th {\n",
       "        vertical-align: top;\n",
       "    }\n",
       "</style>\n",
       "<table border=\"1\" class=\"dataframe\">\n",
       "  <thead>\n",
       "    <tr style=\"text-align: right;\">\n",
       "      <th></th>\n",
       "      <th>full_sq</th>\n",
       "    </tr>\n",
       "  </thead>\n",
       "  <tbody>\n",
       "    <tr>\n",
       "      <th>count</th>\n",
       "      <td>30471.000000</td>\n",
       "    </tr>\n",
       "    <tr>\n",
       "      <th>mean</th>\n",
       "      <td>54.214269</td>\n",
       "    </tr>\n",
       "    <tr>\n",
       "      <th>std</th>\n",
       "      <td>38.031487</td>\n",
       "    </tr>\n",
       "    <tr>\n",
       "      <th>min</th>\n",
       "      <td>0.000000</td>\n",
       "    </tr>\n",
       "    <tr>\n",
       "      <th>25%</th>\n",
       "      <td>38.000000</td>\n",
       "    </tr>\n",
       "    <tr>\n",
       "      <th>50%</th>\n",
       "      <td>49.000000</td>\n",
       "    </tr>\n",
       "    <tr>\n",
       "      <th>75%</th>\n",
       "      <td>63.000000</td>\n",
       "    </tr>\n",
       "    <tr>\n",
       "      <th>max</th>\n",
       "      <td>5326.000000</td>\n",
       "    </tr>\n",
       "  </tbody>\n",
       "</table>\n",
       "</div>"
      ],
      "text/plain": [
       "            full_sq\n",
       "count  30471.000000\n",
       "mean      54.214269\n",
       "std       38.031487\n",
       "min        0.000000\n",
       "25%       38.000000\n",
       "50%       49.000000\n",
       "75%       63.000000\n",
       "max     5326.000000"
      ]
     },
     "execution_count": 20,
     "metadata": {},
     "output_type": "execute_result"
    }
   ],
   "source": [
    "final_df[['full_sq']].describe()"
   ]
  },
  {
   "cell_type": "code",
   "execution_count": 21,
   "metadata": {
    "collapsed": false,
    "scrolled": true
   },
   "outputs": [
    {
     "data": {
      "text/plain": [
       "array([[<matplotlib.axes._subplots.AxesSubplot object at 0x7f49de3913d0>]], dtype=object)"
      ]
     },
     "execution_count": 21,
     "metadata": {},
     "output_type": "execute_result"
    },
    {
     "data": {
      "image/png": "[encoded data removed]",
      "text/plain": [
       "<matplotlib.figure.Figure at 0x7f49df8b8fd0>"
      ]
     },
     "metadata": {},
     "output_type": "display_data"
    }
   ],
   "source": [
    "final_df[['full_sq']].hist()"
   ]
  },
  {
   "cell_type": "markdown",
   "metadata": {},
   "source": [
    "- Distribution of full_sq seems skewed; makes sense since most of the full_sq values for most houses would probably be moderate and within the typical range (excluding bungalows, etc.) "
   ]
  },
  {
   "cell_type": "markdown",
   "metadata": {},
   "source": [
    "#### Correlation: full_sq vs. price"
   ]
  },
  {
   "cell_type": "code",
   "execution_count": 22,
   "metadata": {
    "collapsed": false
   },
   "outputs": [
    {
     "name": "stdout",
     "output_type": "stream",
     "text": [
      "Correlation:  0.341840459754\n"
     ]
    }
   ],
   "source": [
    "print 'Correlation: ', final_df[['full_sq']].corrwith(final_df[LABEL]).values[0]"
   ]
  },
  {
   "cell_type": "code",
   "execution_count": 23,
   "metadata": {
    "collapsed": false,
    "deletable": true,
    "editable": true
   },
   "outputs": [
    {
     "data": {
      "text/html": [
       "<div>\n",
       "<style>\n",
       "    .dataframe thead tr:only-child th {\n",
       "        text-align: right;\n",
       "    }\n",
       "\n",
       "    .dataframe thead th {\n",
       "        text-align: left;\n",
       "    }\n",
       "\n",
       "    .dataframe tbody tr th {\n",
       "        vertical-align: top;\n",
       "    }\n",
       "</style>\n",
       "<table border=\"1\" class=\"dataframe\">\n",
       "  <thead>\n",
       "    <tr style=\"text-align: right;\">\n",
       "      <th></th>\n",
       "      <th>full_sq</th>\n",
       "      <th>price_doc</th>\n",
       "    </tr>\n",
       "  </thead>\n",
       "  <tbody>\n",
       "    <tr>\n",
       "      <th>0</th>\n",
       "      <td>43</td>\n",
       "      <td>5850000</td>\n",
       "    </tr>\n",
       "    <tr>\n",
       "      <th>1</th>\n",
       "      <td>34</td>\n",
       "      <td>6000000</td>\n",
       "    </tr>\n",
       "    <tr>\n",
       "      <th>2</th>\n",
       "      <td>43</td>\n",
       "      <td>5700000</td>\n",
       "    </tr>\n",
       "    <tr>\n",
       "      <th>3</th>\n",
       "      <td>89</td>\n",
       "      <td>13100000</td>\n",
       "    </tr>\n",
       "    <tr>\n",
       "      <th>4</th>\n",
       "      <td>77</td>\n",
       "      <td>16331452</td>\n",
       "    </tr>\n",
       "  </tbody>\n",
       "</table>\n",
       "</div>"
      ],
      "text/plain": [
       "   full_sq  price_doc\n",
       "0       43    5850000\n",
       "1       34    6000000\n",
       "2       43    5700000\n",
       "3       89   13100000\n",
       "4       77   16331452"
      ]
     },
     "execution_count": 23,
     "metadata": {},
     "output_type": "execute_result"
    }
   ],
   "source": [
    "full_sq_vs_price_df = final_df[['full_sq', LABEL]]\n",
    "full_sq_vs_price_df.head()"
   ]
  },
  {
   "cell_type": "code",
   "execution_count": 24,
   "metadata": {
    "collapsed": false,
    "scrolled": true
   },
   "outputs": [
    {
     "data": {
      "text/plain": [
       "<matplotlib.axes._subplots.AxesSubplot at 0x7f49de20d7d0>"
      ]
     },
     "execution_count": 24,
     "metadata": {},
     "output_type": "execute_result"
    },
    {
     "data": {
      "image/png": "[encoded data removed]",
      "text/plain": [
       "<matplotlib.figure.Figure at 0x7f49de1b6810>"
      ]
     },
     "metadata": {},
     "output_type": "display_data"
    }
   ],
   "source": [
    "full_sq_vs_price_df.plot(kind='scatter', x = 'full_sq', y = LABEL)"
   ]
  },
  {
   "cell_type": "markdown",
   "metadata": {},
   "source": [
    "- The price seems to increase as full_sq increases (ignoring the outlier), which makes perfect sense"
   ]
  },
  {
   "cell_type": "markdown",
   "metadata": {
    "collapsed": true,
    "deletable": true,
    "editable": true
   },
   "source": [
    "### Price trends vs. life_sq"
   ]
  },
  {
   "cell_type": "markdown",
   "metadata": {
    "deletable": true,
    "editable": true
   },
   "source": [
    "#### Analysis: life_sq"
   ]
  },
  {
   "cell_type": "code",
   "execution_count": 25,
   "metadata": {
    "collapsed": false,
    "deletable": true,
    "editable": true
   },
   "outputs": [
    {
     "data": {
      "text/html": [
       "<div>\n",
       "<style>\n",
       "    .dataframe thead tr:only-child th {\n",
       "        text-align: right;\n",
       "    }\n",
       "\n",
       "    .dataframe thead th {\n",
       "        text-align: left;\n",
       "    }\n",
       "\n",
       "    .dataframe tbody tr th {\n",
       "        vertical-align: top;\n",
       "    }\n",
       "</style>\n",
       "<table border=\"1\" class=\"dataframe\">\n",
       "  <thead>\n",
       "    <tr style=\"text-align: right;\">\n",
       "      <th></th>\n",
       "      <th>life_sq</th>\n",
       "    </tr>\n",
       "  </thead>\n",
       "  <tbody>\n",
       "    <tr>\n",
       "      <th>count</th>\n",
       "      <td>24088.000000</td>\n",
       "    </tr>\n",
       "    <tr>\n",
       "      <th>mean</th>\n",
       "      <td>34.403271</td>\n",
       "    </tr>\n",
       "    <tr>\n",
       "      <th>std</th>\n",
       "      <td>52.285733</td>\n",
       "    </tr>\n",
       "    <tr>\n",
       "      <th>min</th>\n",
       "      <td>0.000000</td>\n",
       "    </tr>\n",
       "    <tr>\n",
       "      <th>25%</th>\n",
       "      <td>20.000000</td>\n",
       "    </tr>\n",
       "    <tr>\n",
       "      <th>50%</th>\n",
       "      <td>30.000000</td>\n",
       "    </tr>\n",
       "    <tr>\n",
       "      <th>75%</th>\n",
       "      <td>43.000000</td>\n",
       "    </tr>\n",
       "    <tr>\n",
       "      <th>max</th>\n",
       "      <td>7478.000000</td>\n",
       "    </tr>\n",
       "  </tbody>\n",
       "</table>\n",
       "</div>"
      ],
      "text/plain": [
       "            life_sq\n",
       "count  24088.000000\n",
       "mean      34.403271\n",
       "std       52.285733\n",
       "min        0.000000\n",
       "25%       20.000000\n",
       "50%       30.000000\n",
       "75%       43.000000\n",
       "max     7478.000000"
      ]
     },
     "execution_count": 25,
     "metadata": {},
     "output_type": "execute_result"
    }
   ],
   "source": [
    "final_df[['life_sq']].describe()"
   ]
  },
  {
   "cell_type": "code",
   "execution_count": 26,
   "metadata": {
    "collapsed": false,
    "deletable": true,
    "editable": true,
    "scrolled": true
   },
   "outputs": [
    {
     "data": {
      "text/plain": [
       "array([[<matplotlib.axes._subplots.AxesSubplot object at 0x7f49ddee0ed0>]], dtype=object)"
      ]
     },
     "execution_count": 26,
     "metadata": {},
     "output_type": "execute_result"
    },
    {
     "data": {
      "image/png": "[encoded data removed]",
      "text/plain": [
       "<matplotlib.figure.Figure at 0x7f49ddef7590>"
      ]
     },
     "metadata": {},
     "output_type": "display_data"
    }
   ],
   "source": [
    "final_df[['life_sq']].hist()"
   ]
  },
  {
   "cell_type": "markdown",
   "metadata": {
    "deletable": true,
    "editable": true
   },
   "source": [
    "- Distribution of life_sq seems skewed; makes sense since most of the life_sq valuea for most houses would probably be moderate and within the typical range (excluding bungalows, etc.) "
   ]
  },
  {
   "cell_type": "markdown",
   "metadata": {
    "deletable": true,
    "editable": true
   },
   "source": [
    "#### Correlation: life_sq vs. price"
   ]
  },
  {
   "cell_type": "code",
   "execution_count": 27,
   "metadata": {
    "collapsed": false,
    "deletable": true,
    "editable": true
   },
   "outputs": [
    {
     "name": "stdout",
     "output_type": "stream",
     "text": [
      "Correlation:  0.165605969193\n"
     ]
    }
   ],
   "source": [
    "print 'Correlation: ', final_df[['life_sq']].corrwith(final_df[LABEL]).values[0]"
   ]
  },
  {
   "cell_type": "code",
   "execution_count": 28,
   "metadata": {
    "collapsed": false,
    "deletable": true,
    "editable": true
   },
   "outputs": [
    {
     "data": {
      "text/html": [
       "<div>\n",
       "<style>\n",
       "    .dataframe thead tr:only-child th {\n",
       "        text-align: right;\n",
       "    }\n",
       "\n",
       "    .dataframe thead th {\n",
       "        text-align: left;\n",
       "    }\n",
       "\n",
       "    .dataframe tbody tr th {\n",
       "        vertical-align: top;\n",
       "    }\n",
       "</style>\n",
       "<table border=\"1\" class=\"dataframe\">\n",
       "  <thead>\n",
       "    <tr style=\"text-align: right;\">\n",
       "      <th></th>\n",
       "      <th>life_sq</th>\n",
       "      <th>price_doc</th>\n",
       "    </tr>\n",
       "  </thead>\n",
       "  <tbody>\n",
       "    <tr>\n",
       "      <th>0</th>\n",
       "      <td>27.0</td>\n",
       "      <td>5850000</td>\n",
       "    </tr>\n",
       "    <tr>\n",
       "      <th>1</th>\n",
       "      <td>19.0</td>\n",
       "      <td>6000000</td>\n",
       "    </tr>\n",
       "    <tr>\n",
       "      <th>2</th>\n",
       "      <td>29.0</td>\n",
       "      <td>5700000</td>\n",
       "    </tr>\n",
       "    <tr>\n",
       "      <th>3</th>\n",
       "      <td>50.0</td>\n",
       "      <td>13100000</td>\n",
       "    </tr>\n",
       "    <tr>\n",
       "      <th>4</th>\n",
       "      <td>77.0</td>\n",
       "      <td>16331452</td>\n",
       "    </tr>\n",
       "  </tbody>\n",
       "</table>\n",
       "</div>"
      ],
      "text/plain": [
       "   life_sq  price_doc\n",
       "0     27.0    5850000\n",
       "1     19.0    6000000\n",
       "2     29.0    5700000\n",
       "3     50.0   13100000\n",
       "4     77.0   16331452"
      ]
     },
     "execution_count": 28,
     "metadata": {},
     "output_type": "execute_result"
    }
   ],
   "source": [
    "life_sq_vs_price_df = final_df[['life_sq', LABEL]]\n",
    "life_sq_vs_price_df.head()"
   ]
  },
  {
   "cell_type": "code",
   "execution_count": 29,
   "metadata": {
    "collapsed": false,
    "deletable": true,
    "editable": true,
    "scrolled": true
   },
   "outputs": [
    {
     "data": {
      "text/plain": [
       "<matplotlib.axes._subplots.AxesSubplot at 0x7f49dde9ad10>"
      ]
     },
     "execution_count": 29,
     "metadata": {},
     "output_type": "execute_result"
    },
    {
     "data": {
      "image/png": "[encoded data removed]",
      "text/plain": [
       "<matplotlib.figure.Figure at 0x7f49de0c3bd0>"
      ]
     },
     "metadata": {},
     "output_type": "display_data"
    }
   ],
   "source": [
    "life_sq_vs_price_df.plot(kind='scatter', x = 'life_sq', y = LABEL)"
   ]
  },
  {
   "cell_type": "markdown",
   "metadata": {},
   "source": [
    "- The price seems to increase as life_sq increases (ignoring the outlier), which makes perfect sense"
   ]
  },
  {
   "cell_type": "markdown",
   "metadata": {
    "collapsed": true,
    "deletable": true,
    "editable": true
   },
   "source": [
    "### Price trends vs. floor (only applies to apartments)"
   ]
  },
  {
   "cell_type": "markdown",
   "metadata": {
    "deletable": true,
    "editable": true
   },
   "source": [
    "#### Analysis: floor"
   ]
  },
  {
   "cell_type": "code",
   "execution_count": 30,
   "metadata": {
    "collapsed": false,
    "deletable": true,
    "editable": true
   },
   "outputs": [
    {
     "data": {
      "text/html": [
       "<div>\n",
       "<style>\n",
       "    .dataframe thead tr:only-child th {\n",
       "        text-align: right;\n",
       "    }\n",
       "\n",
       "    .dataframe thead th {\n",
       "        text-align: left;\n",
       "    }\n",
       "\n",
       "    .dataframe tbody tr th {\n",
       "        vertical-align: top;\n",
       "    }\n",
       "</style>\n",
       "<table border=\"1\" class=\"dataframe\">\n",
       "  <thead>\n",
       "    <tr style=\"text-align: right;\">\n",
       "      <th></th>\n",
       "      <th>floor</th>\n",
       "    </tr>\n",
       "  </thead>\n",
       "  <tbody>\n",
       "    <tr>\n",
       "      <th>count</th>\n",
       "      <td>30304.000000</td>\n",
       "    </tr>\n",
       "    <tr>\n",
       "      <th>mean</th>\n",
       "      <td>7.670803</td>\n",
       "    </tr>\n",
       "    <tr>\n",
       "      <th>std</th>\n",
       "      <td>5.319989</td>\n",
       "    </tr>\n",
       "    <tr>\n",
       "      <th>min</th>\n",
       "      <td>0.000000</td>\n",
       "    </tr>\n",
       "    <tr>\n",
       "      <th>25%</th>\n",
       "      <td>3.000000</td>\n",
       "    </tr>\n",
       "    <tr>\n",
       "      <th>50%</th>\n",
       "      <td>6.500000</td>\n",
       "    </tr>\n",
       "    <tr>\n",
       "      <th>75%</th>\n",
       "      <td>11.000000</td>\n",
       "    </tr>\n",
       "    <tr>\n",
       "      <th>max</th>\n",
       "      <td>77.000000</td>\n",
       "    </tr>\n",
       "  </tbody>\n",
       "</table>\n",
       "</div>"
      ],
      "text/plain": [
       "              floor\n",
       "count  30304.000000\n",
       "mean       7.670803\n",
       "std        5.319989\n",
       "min        0.000000\n",
       "25%        3.000000\n",
       "50%        6.500000\n",
       "75%       11.000000\n",
       "max       77.000000"
      ]
     },
     "execution_count": 30,
     "metadata": {},
     "output_type": "execute_result"
    }
   ],
   "source": [
    "final_df[['floor']].describe()"
   ]
  },
  {
   "cell_type": "code",
   "execution_count": 31,
   "metadata": {
    "collapsed": false,
    "deletable": true,
    "editable": true,
    "scrolled": true
   },
   "outputs": [
    {
     "data": {
      "text/plain": [
       "array([[<matplotlib.axes._subplots.AxesSubplot object at 0x7f49de032e50>]], dtype=object)"
      ]
     },
     "execution_count": 31,
     "metadata": {},
     "output_type": "execute_result"
    },
    {
     "data": {
      "image/png": "[encoded data removed]",
      "text/plain": [
       "<matplotlib.figure.Figure at 0x7f49ddd22410>"
      ]
     },
     "metadata": {},
     "output_type": "display_data"
    }
   ],
   "source": [
    "final_df[['floor']].hist()"
   ]
  },
  {
   "cell_type": "markdown",
   "metadata": {
    "deletable": true,
    "editable": true
   },
   "source": [
    "- Distribution of floor seems skewed; makes sense since most of the possible floors in an apartment would range from 0 to 40."
   ]
  },
  {
   "cell_type": "markdown",
   "metadata": {
    "deletable": true,
    "editable": true
   },
   "source": [
    "#### Correlation: floor vs. price"
   ]
  },
  {
   "cell_type": "code",
   "execution_count": 32,
   "metadata": {
    "collapsed": false,
    "deletable": true,
    "editable": true
   },
   "outputs": [
    {
     "name": "stdout",
     "output_type": "stream",
     "text": [
      "Correlation:  0.117447207668\n"
     ]
    }
   ],
   "source": [
    "print 'Correlation: ', final_df[['floor']].corrwith(final_df[LABEL]).values[0]"
   ]
  },
  {
   "cell_type": "code",
   "execution_count": 33,
   "metadata": {
    "collapsed": false,
    "deletable": true,
    "editable": true
   },
   "outputs": [
    {
     "data": {
      "text/html": [
       "<div>\n",
       "<style>\n",
       "    .dataframe thead tr:only-child th {\n",
       "        text-align: right;\n",
       "    }\n",
       "\n",
       "    .dataframe thead th {\n",
       "        text-align: left;\n",
       "    }\n",
       "\n",
       "    .dataframe tbody tr th {\n",
       "        vertical-align: top;\n",
       "    }\n",
       "</style>\n",
       "<table border=\"1\" class=\"dataframe\">\n",
       "  <thead>\n",
       "    <tr style=\"text-align: right;\">\n",
       "      <th></th>\n",
       "      <th>floor</th>\n",
       "      <th>price_doc</th>\n",
       "    </tr>\n",
       "  </thead>\n",
       "  <tbody>\n",
       "    <tr>\n",
       "      <th>0</th>\n",
       "      <td>4.0</td>\n",
       "      <td>5850000</td>\n",
       "    </tr>\n",
       "    <tr>\n",
       "      <th>1</th>\n",
       "      <td>3.0</td>\n",
       "      <td>6000000</td>\n",
       "    </tr>\n",
       "    <tr>\n",
       "      <th>2</th>\n",
       "      <td>2.0</td>\n",
       "      <td>5700000</td>\n",
       "    </tr>\n",
       "    <tr>\n",
       "      <th>3</th>\n",
       "      <td>9.0</td>\n",
       "      <td>13100000</td>\n",
       "    </tr>\n",
       "    <tr>\n",
       "      <th>4</th>\n",
       "      <td>4.0</td>\n",
       "      <td>16331452</td>\n",
       "    </tr>\n",
       "  </tbody>\n",
       "</table>\n",
       "</div>"
      ],
      "text/plain": [
       "   floor  price_doc\n",
       "0    4.0    5850000\n",
       "1    3.0    6000000\n",
       "2    2.0    5700000\n",
       "3    9.0   13100000\n",
       "4    4.0   16331452"
      ]
     },
     "execution_count": 33,
     "metadata": {},
     "output_type": "execute_result"
    }
   ],
   "source": [
    "floor_vs_price_df = final_df[['floor', LABEL]]\n",
    "floor_vs_price_df.head()"
   ]
  },
  {
   "cell_type": "code",
   "execution_count": 37,
   "metadata": {
    "collapsed": false,
    "deletable": true,
    "editable": true,
    "scrolled": false
   },
   "outputs": [
    {
     "data": {
      "text/plain": [
       "<matplotlib.axes._subplots.AxesSubplot at 0x7f49dda05a10>"
      ]
     },
     "execution_count": 37,
     "metadata": {},
     "output_type": "execute_result"
    },
    {
     "data": {
      "image/png": "[encoded data removed]",
      "text/plain": [
       "<matplotlib.figure.Figure at 0x7f49dd9a2e10>"
      ]
     },
     "metadata": {},
     "output_type": "display_data"
    }
   ],
   "source": [
    "floor_vs_price_df.plot(kind='scatter', x = 'floor', y = LABEL)"
   ]
  },
  {
   "cell_type": "markdown",
   "metadata": {
    "deletable": true,
    "editable": true
   },
   "source": [
    "- The price seems to decrease as floor increases.\n",
    "- This means that houses at higher floors in apartments typically have lower prices than the houses at lower floors."
   ]
  },
  {
   "cell_type": "code",
   "execution_count": null,
   "metadata": {
    "collapsed": true
   },
   "outputs": [],
   "source": []
  }
 ],
 "metadata": {
  "kernelspec": {
   "display_name": "Python 2",
   "language": "python",
   "name": "python2"
  },
  "language_info": {
   "codemirror_mode": {
    "name": "ipython",
    "version": 2
   },
   "file_extension": ".py",
   "mimetype": "text/x-python",
   "name": "python",
   "nbconvert_exporter": "python",
   "pygments_lexer": "ipython2",
   "version": "2.7.6"
  }
 },
 "nbformat": 4,
 "nbformat_minor": 2
}
