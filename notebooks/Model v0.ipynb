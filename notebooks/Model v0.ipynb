{
 "cells": [
  {
   "cell_type": "markdown",
   "metadata": {},
   "source": [
    "# Model v0\n",
    "- Kaggle public leaderboard score: 0.38679\n",
    "- Kaggle public leaderboard position: 1196"
   ]
  },
  {
   "cell_type": "code",
   "execution_count": 1,
   "metadata": {
    "collapsed": false,
    "deletable": true,
    "editable": true
   },
   "outputs": [
    {
     "name": "stderr",
     "output_type": "stream",
     "text": [
      "Using TensorFlow backend.\n"
     ]
    }
   ],
   "source": [
    "from keras.layers import Input, LSTM, Dense, Dropout, Embedding, TimeDistributed, Reshape\n",
    "from keras.layers.normalization import BatchNormalization"
   ]
  },
  {
   "cell_type": "code",
   "execution_count": 2,
   "metadata": {
    "collapsed": true,
    "deletable": true,
    "editable": true
   },
   "outputs": [],
   "source": [
    "from keras.models import Model, Sequential\n",
    "from keras.layers.merge import Concatenate"
   ]
  },
  {
   "cell_type": "code",
   "execution_count": 3,
   "metadata": {
    "collapsed": true,
    "deletable": true,
    "editable": true
   },
   "outputs": [],
   "source": [
    "from keras.callbacks import TensorBoard, ModelCheckpoint, EarlyStopping"
   ]
  },
  {
   "cell_type": "code",
   "execution_count": 4,
   "metadata": {
    "collapsed": true,
    "deletable": true,
    "editable": true
   },
   "outputs": [],
   "source": [
    "import tensorflow as tf\n",
    "from keras import backend as K"
   ]
  },
  {
   "cell_type": "code",
   "execution_count": 5,
   "metadata": {
    "collapsed": true,
    "deletable": true,
    "editable": true
   },
   "outputs": [],
   "source": [
    "from sklearn import preprocessing"
   ]
  },
  {
   "cell_type": "code",
   "execution_count": 6,
   "metadata": {
    "collapsed": true,
    "deletable": true,
    "editable": true
   },
   "outputs": [],
   "source": [
    "from sklearn_pandas import DataFrameMapper"
   ]
  },
  {
   "cell_type": "code",
   "execution_count": 7,
   "metadata": {
    "collapsed": true,
    "deletable": true,
    "editable": true
   },
   "outputs": [],
   "source": [
    "import pandas as pd\n",
    "import numpy as np"
   ]
  },
  {
   "cell_type": "code",
   "execution_count": 8,
   "metadata": {
    "collapsed": true,
    "deletable": true,
    "editable": true
   },
   "outputs": [],
   "source": [
    "from keras.utils.np_utils import to_categorical"
   ]
  },
  {
   "cell_type": "code",
   "execution_count": 9,
   "metadata": {
    "collapsed": true,
    "deletable": true,
    "editable": true
   },
   "outputs": [],
   "source": [
    "LABEL = \"price_doc\""
   ]
  },
  {
   "cell_type": "code",
   "execution_count": 10,
   "metadata": {
    "collapsed": true,
    "deletable": true,
    "editable": true
   },
   "outputs": [],
   "source": [
    "def prepare_dataset(df, test=False, trunc_fields=False):\n",
    "    global LABEL\n",
    "    t_fields = ['id', 'timestamp', 'full_sq', 'life_sq', 'floor', 'max_floor','material', 'build_year', 'num_room', 'kitch_sq', 'state', 'product_type', 'sub_area', LABEL]\n",
    "    \n",
    "    if not test:\n",
    "        if trunc_fields:\n",
    "            df = df[t_fields.append + LABEL]\n",
    "        else:\n",
    "            df = df\n",
    "    else:\n",
    "        if trunc_fields:\n",
    "            df = df[t_fields]\n",
    "        else:\n",
    "            df = df\n",
    "    \n",
    "    df['timestamp_converted'] = pd.to_datetime(df['timestamp'])\n",
    "    df['timestamp_day'] = df.apply(lambda row: row['timestamp_converted'].day, axis=1)\n",
    "    df['timestamp_month'] = df.apply(lambda row: row['timestamp_converted'].month, axis=1)\n",
    "    df['timestamp_year'] = df.apply(lambda row: row['timestamp_converted'].year, axis=1)\n",
    "    df['state_refractored'] = df.apply( lambda row: 5 if row['state'] == 33 else row['state'] , axis = 1)\n",
    "    \n",
    "    df = df.fillna(0)\n",
    "    \n",
    "    df['state_refractored'] = df['state_refractored'].astype(int)    \n",
    "    df['material'] = df['material'].astype(int)    \n",
    "    return df"
   ]
  },
  {
   "cell_type": "code",
   "execution_count": 11,
   "metadata": {
    "collapsed": false,
    "deletable": true,
    "editable": true
   },
   "outputs": [
    {
     "name": "stderr",
     "output_type": "stream",
     "text": [
      "/usr/local/lib/python2.7/dist-packages/IPython/core/interactiveshell.py:2717: DtypeWarning: Columns (375,378,379) have mixed types. Specify dtype option on import or set low_memory=False.\n",
      "  interactivity=interactivity, compiler=compiler, result=result)\n"
     ]
    }
   ],
   "source": [
    "final_train_df = pd.read_csv(\"/mnt/h/Kaggle/Competitions/Russian Bank/data/final_training_dataset.csv\")"
   ]
  },
  {
   "cell_type": "code",
   "execution_count": 12,
   "metadata": {
    "collapsed": false,
    "deletable": true,
    "editable": true
   },
   "outputs": [],
   "source": [
    "final_train_df = prepare_dataset(final_train_df)"
   ]
  },
  {
   "cell_type": "code",
   "execution_count": 13,
   "metadata": {
    "collapsed": true,
    "deletable": true,
    "editable": true
   },
   "outputs": [],
   "source": [
    "del final_train_df['Unnamed: 0']"
   ]
  },
  {
   "cell_type": "code",
   "execution_count": 14,
   "metadata": {
    "collapsed": false,
    "deletable": true,
    "editable": true
   },
   "outputs": [
    {
     "data": {
      "text/html": [
       "<div>\n",
       "<table border=\"1\" class=\"dataframe\">\n",
       "  <thead>\n",
       "    <tr style=\"text-align: right;\">\n",
       "      <th></th>\n",
       "      <th>id</th>\n",
       "      <th>timestamp</th>\n",
       "      <th>full_sq</th>\n",
       "      <th>life_sq</th>\n",
       "      <th>floor</th>\n",
       "      <th>max_floor</th>\n",
       "      <th>material</th>\n",
       "      <th>build_year</th>\n",
       "      <th>num_room</th>\n",
       "      <th>kitch_sq</th>\n",
       "      <th>...</th>\n",
       "      <th>provision_retail_space_modern_sqm</th>\n",
       "      <th>turnover_catering_per_cap</th>\n",
       "      <th>theaters_viewers_per_1000_cap</th>\n",
       "      <th>seats_theather_rfmin_per_100000_cap</th>\n",
       "      <th>museum_visitis_per_100_cap</th>\n",
       "      <th>bandwidth_sports</th>\n",
       "      <th>population_reg_sports_share</th>\n",
       "      <th>students_reg_sports_share</th>\n",
       "      <th>apartment_build</th>\n",
       "      <th>apartment_fund_sqm</th>\n",
       "    </tr>\n",
       "  </thead>\n",
       "  <tbody>\n",
       "    <tr>\n",
       "      <th>0</th>\n",
       "      <td>1</td>\n",
       "      <td>2011-08-20</td>\n",
       "      <td>43</td>\n",
       "      <td>27.0</td>\n",
       "      <td>4.0</td>\n",
       "      <td>0.0</td>\n",
       "      <td>0</td>\n",
       "      <td>0.0</td>\n",
       "      <td>0.0</td>\n",
       "      <td>0.0</td>\n",
       "      <td>...</td>\n",
       "      <td>271.0</td>\n",
       "      <td>6943.0</td>\n",
       "      <td>565.0</td>\n",
       "      <td>0.45356</td>\n",
       "      <td>1240.0</td>\n",
       "      <td>269768.0</td>\n",
       "      <td>22.37</td>\n",
       "      <td>64.12</td>\n",
       "      <td>23587.0</td>\n",
       "      <td>230310.0</td>\n",
       "    </tr>\n",
       "    <tr>\n",
       "      <th>1</th>\n",
       "      <td>2</td>\n",
       "      <td>2011-08-23</td>\n",
       "      <td>34</td>\n",
       "      <td>19.0</td>\n",
       "      <td>3.0</td>\n",
       "      <td>0.0</td>\n",
       "      <td>0</td>\n",
       "      <td>0.0</td>\n",
       "      <td>0.0</td>\n",
       "      <td>0.0</td>\n",
       "      <td>...</td>\n",
       "      <td>271.0</td>\n",
       "      <td>6943.0</td>\n",
       "      <td>565.0</td>\n",
       "      <td>0.45356</td>\n",
       "      <td>1240.0</td>\n",
       "      <td>269768.0</td>\n",
       "      <td>22.37</td>\n",
       "      <td>64.12</td>\n",
       "      <td>23587.0</td>\n",
       "      <td>230310.0</td>\n",
       "    </tr>\n",
       "    <tr>\n",
       "      <th>2</th>\n",
       "      <td>3</td>\n",
       "      <td>2011-08-27</td>\n",
       "      <td>43</td>\n",
       "      <td>29.0</td>\n",
       "      <td>2.0</td>\n",
       "      <td>0.0</td>\n",
       "      <td>0</td>\n",
       "      <td>0.0</td>\n",
       "      <td>0.0</td>\n",
       "      <td>0.0</td>\n",
       "      <td>...</td>\n",
       "      <td>271.0</td>\n",
       "      <td>6943.0</td>\n",
       "      <td>565.0</td>\n",
       "      <td>0.45356</td>\n",
       "      <td>1240.0</td>\n",
       "      <td>269768.0</td>\n",
       "      <td>22.37</td>\n",
       "      <td>64.12</td>\n",
       "      <td>23587.0</td>\n",
       "      <td>230310.0</td>\n",
       "    </tr>\n",
       "    <tr>\n",
       "      <th>3</th>\n",
       "      <td>4</td>\n",
       "      <td>2011-09-01</td>\n",
       "      <td>89</td>\n",
       "      <td>50.0</td>\n",
       "      <td>9.0</td>\n",
       "      <td>0.0</td>\n",
       "      <td>0</td>\n",
       "      <td>0.0</td>\n",
       "      <td>0.0</td>\n",
       "      <td>0.0</td>\n",
       "      <td>...</td>\n",
       "      <td>271.0</td>\n",
       "      <td>6943.0</td>\n",
       "      <td>565.0</td>\n",
       "      <td>0.45356</td>\n",
       "      <td>1240.0</td>\n",
       "      <td>269768.0</td>\n",
       "      <td>22.37</td>\n",
       "      <td>64.12</td>\n",
       "      <td>23587.0</td>\n",
       "      <td>230310.0</td>\n",
       "    </tr>\n",
       "    <tr>\n",
       "      <th>4</th>\n",
       "      <td>5</td>\n",
       "      <td>2011-09-05</td>\n",
       "      <td>77</td>\n",
       "      <td>77.0</td>\n",
       "      <td>4.0</td>\n",
       "      <td>0.0</td>\n",
       "      <td>0</td>\n",
       "      <td>0.0</td>\n",
       "      <td>0.0</td>\n",
       "      <td>0.0</td>\n",
       "      <td>...</td>\n",
       "      <td>271.0</td>\n",
       "      <td>6943.0</td>\n",
       "      <td>565.0</td>\n",
       "      <td>0.45356</td>\n",
       "      <td>1240.0</td>\n",
       "      <td>269768.0</td>\n",
       "      <td>22.37</td>\n",
       "      <td>64.12</td>\n",
       "      <td>23587.0</td>\n",
       "      <td>230310.0</td>\n",
       "    </tr>\n",
       "  </tbody>\n",
       "</table>\n",
       "<p>5 rows × 396 columns</p>\n",
       "</div>"
      ],
      "text/plain": [
       "   id   timestamp  full_sq  life_sq  floor  max_floor  material  build_year  \\\n",
       "0   1  2011-08-20       43     27.0    4.0        0.0         0         0.0   \n",
       "1   2  2011-08-23       34     19.0    3.0        0.0         0         0.0   \n",
       "2   3  2011-08-27       43     29.0    2.0        0.0         0         0.0   \n",
       "3   4  2011-09-01       89     50.0    9.0        0.0         0         0.0   \n",
       "4   5  2011-09-05       77     77.0    4.0        0.0         0         0.0   \n",
       "\n",
       "   num_room  kitch_sq         ...          provision_retail_space_modern_sqm  \\\n",
       "0       0.0       0.0         ...                                      271.0   \n",
       "1       0.0       0.0         ...                                      271.0   \n",
       "2       0.0       0.0         ...                                      271.0   \n",
       "3       0.0       0.0         ...                                      271.0   \n",
       "4       0.0       0.0         ...                                      271.0   \n",
       "\n",
       "  turnover_catering_per_cap theaters_viewers_per_1000_cap  \\\n",
       "0                    6943.0                         565.0   \n",
       "1                    6943.0                         565.0   \n",
       "2                    6943.0                         565.0   \n",
       "3                    6943.0                         565.0   \n",
       "4                    6943.0                         565.0   \n",
       "\n",
       "   seats_theather_rfmin_per_100000_cap  museum_visitis_per_100_cap  \\\n",
       "0                              0.45356                      1240.0   \n",
       "1                              0.45356                      1240.0   \n",
       "2                              0.45356                      1240.0   \n",
       "3                              0.45356                      1240.0   \n",
       "4                              0.45356                      1240.0   \n",
       "\n",
       "   bandwidth_sports  population_reg_sports_share  students_reg_sports_share  \\\n",
       "0          269768.0                        22.37                      64.12   \n",
       "1          269768.0                        22.37                      64.12   \n",
       "2          269768.0                        22.37                      64.12   \n",
       "3          269768.0                        22.37                      64.12   \n",
       "4          269768.0                        22.37                      64.12   \n",
       "\n",
       "   apartment_build  apartment_fund_sqm  \n",
       "0          23587.0            230310.0  \n",
       "1          23587.0            230310.0  \n",
       "2          23587.0            230310.0  \n",
       "3          23587.0            230310.0  \n",
       "4          23587.0            230310.0  \n",
       "\n",
       "[5 rows x 396 columns]"
      ]
     },
     "execution_count": 14,
     "metadata": {},
     "output_type": "execute_result"
    }
   ],
   "source": [
    "final_train_df.head()"
   ]
  },
  {
   "cell_type": "markdown",
   "metadata": {
    "deletable": true,
    "editable": true
   },
   "source": [
    "## Data prep"
   ]
  },
  {
   "cell_type": "code",
   "execution_count": 15,
   "metadata": {
    "collapsed": true,
    "deletable": true,
    "editable": true
   },
   "outputs": [],
   "source": [
    "columns = [\n",
    " 'full_sq',\n",
    "'kitch_sq',\n",
    " 'floor',\n",
    " 'life_sq',\n",
    " 'build_year',\n",
    " 'railroad_km',\n",
    " 'metro_min_avto',\n",
    " 'green_zone_km',\n",
    " 'kindergarten_km',\n",
    " 'num_room',\n",
    " 'material',\n",
    " 'public_transport_station_km',\n",
    " 'metro_km_avto',\n",
    " 'max_floor',\n",
    " 'micex',\n",
    " 'usdrub',\n",
    " 'sub_area',\n",
    " 'state_refractored',\n",
    " 'park_km',\n",
    " 'micex_cbi_tr',\n",
    " 'timestamp_day',\n",
    " 'timestamp_month',\n",
    " 'timestamp_year',\n",
    " 'cemetery_km',\n",
    " 'mosque_km',\n",
    " 'public_healthcare_km',\n",
    " 'catering_km',\n",
    " 'big_road2_km',\n",
    " 'hospice_morgue_km',\n",
    " 'swim_pool_km',\n",
    " 'water_treatment_km',\n",
    " 'power_transmission_line_km',\n",
    " 'water_km',\n",
    " 'school_km',\n",
    " 'ttk_km',\n",
    " 'area_m',\n",
    " 'university_km',\n",
    " 'oil_chemistry_km',\n",
    " 'exhibition_km',\n",
    " 'shopping_centers_km',\n",
    " 'ts_km',\n",
    " 'zd_vokzaly_avto_km',\n",
    " 'railroad_station_avto_min',\n",
    " 'brent',\n",
    " 'preschool_km',\n",
    " 'big_road1_km',\n",
    " 'additional_education_km',\n",
    " 'green_part_1000',\n",
    " 'church_synagogue_km',\n",
    " 'big_church_km',\n",
    " 'green_part_1500',\n",
    " 'incineration_km',\n",
    " 'industrial_km',\n",
    " 'nuclear_reactor_km',\n",
    "]\n",
    "\n",
    "one_hot_cols = [\n",
    "    'material',\n",
    "    'state_refractored'\n",
    "]\n",
    "\n",
    "label_cols = [\n",
    "    'sub_area',\n",
    "]\n",
    "\n",
    "exclude_normalize_columns = [\n",
    "    # Specific columns to exclude...\n",
    "] + one_hot_cols + label_cols\n",
    "\n",
    "normalize_columns = [c for c in columns if c not in exclude_normalize_columns]\n",
    "\n",
    "locality_columns = [c for c in columns if \"_km\" in c]\n",
    "continuous_columns = [c for c in columns if c not in one_hot_cols and c not in label_cols]\n",
    "continuous_columns_without_locality = [c for c in continuous_columns if c not in locality_columns]"
   ]
  },
  {
   "cell_type": "code",
   "execution_count": 16,
   "metadata": {
    "collapsed": false,
    "deletable": true,
    "editable": true
   },
   "outputs": [],
   "source": [
    "final_train_df = final_train_df[columns + [LABEL]]"
   ]
  },
  {
   "cell_type": "code",
   "execution_count": 17,
   "metadata": {
    "collapsed": false,
    "deletable": true,
    "editable": true
   },
   "outputs": [
    {
     "data": {
      "text/html": [
       "<div>\n",
       "<table border=\"1\" class=\"dataframe\">\n",
       "  <thead>\n",
       "    <tr style=\"text-align: right;\">\n",
       "      <th></th>\n",
       "      <th>full_sq</th>\n",
       "      <th>kitch_sq</th>\n",
       "      <th>floor</th>\n",
       "      <th>life_sq</th>\n",
       "      <th>build_year</th>\n",
       "      <th>railroad_km</th>\n",
       "      <th>metro_min_avto</th>\n",
       "      <th>green_zone_km</th>\n",
       "      <th>kindergarten_km</th>\n",
       "      <th>num_room</th>\n",
       "      <th>...</th>\n",
       "      <th>big_road1_km</th>\n",
       "      <th>additional_education_km</th>\n",
       "      <th>green_part_1000</th>\n",
       "      <th>church_synagogue_km</th>\n",
       "      <th>big_church_km</th>\n",
       "      <th>green_part_1500</th>\n",
       "      <th>incineration_km</th>\n",
       "      <th>industrial_km</th>\n",
       "      <th>nuclear_reactor_km</th>\n",
       "      <th>price_doc</th>\n",
       "    </tr>\n",
       "  </thead>\n",
       "  <tbody>\n",
       "    <tr>\n",
       "      <th>0</th>\n",
       "      <td>43</td>\n",
       "      <td>0.0</td>\n",
       "      <td>4.0</td>\n",
       "      <td>27.0</td>\n",
       "      <td>0.0</td>\n",
       "      <td>1.305159</td>\n",
       "      <td>2.590241</td>\n",
       "      <td>0.600973</td>\n",
       "      <td>0.145700</td>\n",
       "      <td>0.0</td>\n",
       "      <td>...</td>\n",
       "      <td>1.422391</td>\n",
       "      <td>0.947962</td>\n",
       "      <td>7.36</td>\n",
       "      <td>0.628187</td>\n",
       "      <td>0.625783</td>\n",
       "      <td>14.27</td>\n",
       "      <td>3.633334</td>\n",
       "      <td>1.080934</td>\n",
       "      <td>5.718519</td>\n",
       "      <td>5850000</td>\n",
       "    </tr>\n",
       "    <tr>\n",
       "      <th>1</th>\n",
       "      <td>34</td>\n",
       "      <td>0.0</td>\n",
       "      <td>3.0</td>\n",
       "      <td>19.0</td>\n",
       "      <td>0.0</td>\n",
       "      <td>0.694536</td>\n",
       "      <td>0.936700</td>\n",
       "      <td>0.065321</td>\n",
       "      <td>0.147754</td>\n",
       "      <td>0.0</td>\n",
       "      <td>...</td>\n",
       "      <td>2.887377</td>\n",
       "      <td>1.072315</td>\n",
       "      <td>26.66</td>\n",
       "      <td>0.471447</td>\n",
       "      <td>0.967821</td>\n",
       "      <td>21.53</td>\n",
       "      <td>8.648587</td>\n",
       "      <td>0.966479</td>\n",
       "      <td>3.489954</td>\n",
       "      <td>6000000</td>\n",
       "    </tr>\n",
       "    <tr>\n",
       "      <th>2</th>\n",
       "      <td>43</td>\n",
       "      <td>0.0</td>\n",
       "      <td>2.0</td>\n",
       "      <td>29.0</td>\n",
       "      <td>0.0</td>\n",
       "      <td>0.700691</td>\n",
       "      <td>2.120999</td>\n",
       "      <td>0.453172</td>\n",
       "      <td>0.049102</td>\n",
       "      <td>0.0</td>\n",
       "      <td>...</td>\n",
       "      <td>0.647250</td>\n",
       "      <td>0.391957</td>\n",
       "      <td>4.99</td>\n",
       "      <td>0.755946</td>\n",
       "      <td>3.178751</td>\n",
       "      <td>9.92</td>\n",
       "      <td>11.996480</td>\n",
       "      <td>0.939275</td>\n",
       "      <td>7.506612</td>\n",
       "      <td>5700000</td>\n",
       "    </tr>\n",
       "    <tr>\n",
       "      <th>3</th>\n",
       "      <td>89</td>\n",
       "      <td>0.0</td>\n",
       "      <td>9.0</td>\n",
       "      <td>50.0</td>\n",
       "      <td>0.0</td>\n",
       "      <td>1.999265</td>\n",
       "      <td>1.489049</td>\n",
       "      <td>0.106125</td>\n",
       "      <td>0.179441</td>\n",
       "      <td>0.0</td>\n",
       "      <td>...</td>\n",
       "      <td>2.677824</td>\n",
       "      <td>0.892674</td>\n",
       "      <td>19.25</td>\n",
       "      <td>1.561505</td>\n",
       "      <td>1.031777</td>\n",
       "      <td>28.38</td>\n",
       "      <td>14.317640</td>\n",
       "      <td>0.451173</td>\n",
       "      <td>9.522538</td>\n",
       "      <td>13100000</td>\n",
       "    </tr>\n",
       "    <tr>\n",
       "      <th>4</th>\n",
       "      <td>77</td>\n",
       "      <td>0.0</td>\n",
       "      <td>4.0</td>\n",
       "      <td>77.0</td>\n",
       "      <td>0.0</td>\n",
       "      <td>0.084113</td>\n",
       "      <td>1.257186</td>\n",
       "      <td>0.236214</td>\n",
       "      <td>0.247901</td>\n",
       "      <td>0.0</td>\n",
       "      <td>...</td>\n",
       "      <td>1.721834</td>\n",
       "      <td>0.810801</td>\n",
       "      <td>3.34</td>\n",
       "      <td>0.121681</td>\n",
       "      <td>0.378756</td>\n",
       "      <td>4.12</td>\n",
       "      <td>11.903910</td>\n",
       "      <td>0.392871</td>\n",
       "      <td>8.671016</td>\n",
       "      <td>16331452</td>\n",
       "    </tr>\n",
       "  </tbody>\n",
       "</table>\n",
       "<p>5 rows × 55 columns</p>\n",
       "</div>"
      ],
      "text/plain": [
       "   full_sq  kitch_sq  floor  life_sq  build_year  railroad_km  metro_min_avto  \\\n",
       "0       43       0.0    4.0     27.0         0.0     1.305159        2.590241   \n",
       "1       34       0.0    3.0     19.0         0.0     0.694536        0.936700   \n",
       "2       43       0.0    2.0     29.0         0.0     0.700691        2.120999   \n",
       "3       89       0.0    9.0     50.0         0.0     1.999265        1.489049   \n",
       "4       77       0.0    4.0     77.0         0.0     0.084113        1.257186   \n",
       "\n",
       "   green_zone_km  kindergarten_km  num_room    ...      big_road1_km  \\\n",
       "0       0.600973         0.145700       0.0    ...          1.422391   \n",
       "1       0.065321         0.147754       0.0    ...          2.887377   \n",
       "2       0.453172         0.049102       0.0    ...          0.647250   \n",
       "3       0.106125         0.179441       0.0    ...          2.677824   \n",
       "4       0.236214         0.247901       0.0    ...          1.721834   \n",
       "\n",
       "   additional_education_km  green_part_1000  church_synagogue_km  \\\n",
       "0                 0.947962             7.36             0.628187   \n",
       "1                 1.072315            26.66             0.471447   \n",
       "2                 0.391957             4.99             0.755946   \n",
       "3                 0.892674            19.25             1.561505   \n",
       "4                 0.810801             3.34             0.121681   \n",
       "\n",
       "   big_church_km  green_part_1500 incineration_km  industrial_km  \\\n",
       "0       0.625783            14.27        3.633334       1.080934   \n",
       "1       0.967821            21.53        8.648587       0.966479   \n",
       "2       3.178751             9.92       11.996480       0.939275   \n",
       "3       1.031777            28.38       14.317640       0.451173   \n",
       "4       0.378756             4.12       11.903910       0.392871   \n",
       "\n",
       "   nuclear_reactor_km  price_doc  \n",
       "0            5.718519    5850000  \n",
       "1            3.489954    6000000  \n",
       "2            7.506612    5700000  \n",
       "3            9.522538   13100000  \n",
       "4            8.671016   16331452  \n",
       "\n",
       "[5 rows x 55 columns]"
      ]
     },
     "execution_count": 17,
     "metadata": {},
     "output_type": "execute_result"
    }
   ],
   "source": [
    "final_train_df.head()"
   ]
  },
  {
   "cell_type": "code",
   "execution_count": 18,
   "metadata": {
    "collapsed": false,
    "deletable": true,
    "editable": true
   },
   "outputs": [
    {
     "name": "stderr",
     "output_type": "stream",
     "text": [
      "/usr/local/lib/python2.7/dist-packages/ipykernel/__main__.py:1: FutureWarning: convert_objects is deprecated.  Use the data-type specific converters pd.to_datetime, pd.to_timedelta and pd.to_numeric.\n",
      "  if __name__ == '__main__':\n"
     ]
    }
   ],
   "source": [
    "final_train_df = final_train_df.convert_objects(convert_numeric=True)"
   ]
  },
  {
   "cell_type": "markdown",
   "metadata": {
    "deletable": true,
    "editable": true
   },
   "source": [
    "## Prepare numeric data scalers & normalizers"
   ]
  },
  {
   "cell_type": "code",
   "execution_count": 19,
   "metadata": {
    "collapsed": true,
    "deletable": true,
    "editable": true
   },
   "outputs": [],
   "source": [
    "norm_scalers = {column : preprocessing.StandardScaler() for column in normalize_columns}"
   ]
  },
  {
   "cell_type": "code",
   "execution_count": 20,
   "metadata": {
    "collapsed": false,
    "deletable": true,
    "editable": true
   },
   "outputs": [
    {
     "data": {
      "text/plain": [
       "{'additional_education_km': StandardScaler(copy=True, with_mean=True, with_std=True),\n",
       " 'area_m': StandardScaler(copy=True, with_mean=True, with_std=True),\n",
       " 'big_church_km': StandardScaler(copy=True, with_mean=True, with_std=True),\n",
       " 'big_road1_km': StandardScaler(copy=True, with_mean=True, with_std=True),\n",
       " 'big_road2_km': StandardScaler(copy=True, with_mean=True, with_std=True),\n",
       " 'brent': StandardScaler(copy=True, with_mean=True, with_std=True),\n",
       " 'build_year': StandardScaler(copy=True, with_mean=True, with_std=True),\n",
       " 'catering_km': StandardScaler(copy=True, with_mean=True, with_std=True),\n",
       " 'cemetery_km': StandardScaler(copy=True, with_mean=True, with_std=True),\n",
       " 'church_synagogue_km': StandardScaler(copy=True, with_mean=True, with_std=True),\n",
       " 'exhibition_km': StandardScaler(copy=True, with_mean=True, with_std=True),\n",
       " 'floor': StandardScaler(copy=True, with_mean=True, with_std=True),\n",
       " 'full_sq': StandardScaler(copy=True, with_mean=True, with_std=True),\n",
       " 'green_part_1000': StandardScaler(copy=True, with_mean=True, with_std=True),\n",
       " 'green_part_1500': StandardScaler(copy=True, with_mean=True, with_std=True),\n",
       " 'green_zone_km': StandardScaler(copy=True, with_mean=True, with_std=True),\n",
       " 'hospice_morgue_km': StandardScaler(copy=True, with_mean=True, with_std=True),\n",
       " 'incineration_km': StandardScaler(copy=True, with_mean=True, with_std=True),\n",
       " 'industrial_km': StandardScaler(copy=True, with_mean=True, with_std=True),\n",
       " 'kindergarten_km': StandardScaler(copy=True, with_mean=True, with_std=True),\n",
       " 'kitch_sq': StandardScaler(copy=True, with_mean=True, with_std=True),\n",
       " 'life_sq': StandardScaler(copy=True, with_mean=True, with_std=True),\n",
       " 'max_floor': StandardScaler(copy=True, with_mean=True, with_std=True),\n",
       " 'metro_km_avto': StandardScaler(copy=True, with_mean=True, with_std=True),\n",
       " 'metro_min_avto': StandardScaler(copy=True, with_mean=True, with_std=True),\n",
       " 'micex': StandardScaler(copy=True, with_mean=True, with_std=True),\n",
       " 'micex_cbi_tr': StandardScaler(copy=True, with_mean=True, with_std=True),\n",
       " 'mosque_km': StandardScaler(copy=True, with_mean=True, with_std=True),\n",
       " 'nuclear_reactor_km': StandardScaler(copy=True, with_mean=True, with_std=True),\n",
       " 'num_room': StandardScaler(copy=True, with_mean=True, with_std=True),\n",
       " 'oil_chemistry_km': StandardScaler(copy=True, with_mean=True, with_std=True),\n",
       " 'park_km': StandardScaler(copy=True, with_mean=True, with_std=True),\n",
       " 'power_transmission_line_km': StandardScaler(copy=True, with_mean=True, with_std=True),\n",
       " 'preschool_km': StandardScaler(copy=True, with_mean=True, with_std=True),\n",
       " 'public_healthcare_km': StandardScaler(copy=True, with_mean=True, with_std=True),\n",
       " 'public_transport_station_km': StandardScaler(copy=True, with_mean=True, with_std=True),\n",
       " 'railroad_km': StandardScaler(copy=True, with_mean=True, with_std=True),\n",
       " 'railroad_station_avto_min': StandardScaler(copy=True, with_mean=True, with_std=True),\n",
       " 'school_km': StandardScaler(copy=True, with_mean=True, with_std=True),\n",
       " 'shopping_centers_km': StandardScaler(copy=True, with_mean=True, with_std=True),\n",
       " 'swim_pool_km': StandardScaler(copy=True, with_mean=True, with_std=True),\n",
       " 'timestamp_day': StandardScaler(copy=True, with_mean=True, with_std=True),\n",
       " 'timestamp_month': StandardScaler(copy=True, with_mean=True, with_std=True),\n",
       " 'timestamp_year': StandardScaler(copy=True, with_mean=True, with_std=True),\n",
       " 'ts_km': StandardScaler(copy=True, with_mean=True, with_std=True),\n",
       " 'ttk_km': StandardScaler(copy=True, with_mean=True, with_std=True),\n",
       " 'university_km': StandardScaler(copy=True, with_mean=True, with_std=True),\n",
       " 'usdrub': StandardScaler(copy=True, with_mean=True, with_std=True),\n",
       " 'water_km': StandardScaler(copy=True, with_mean=True, with_std=True),\n",
       " 'water_treatment_km': StandardScaler(copy=True, with_mean=True, with_std=True),\n",
       " 'zd_vokzaly_avto_km': StandardScaler(copy=True, with_mean=True, with_std=True)}"
      ]
     },
     "execution_count": 20,
     "metadata": {},
     "output_type": "execute_result"
    }
   ],
   "source": [
    "norm_scalers"
   ]
  },
  {
   "cell_type": "code",
   "execution_count": 21,
   "metadata": {
    "collapsed": true,
    "deletable": true,
    "editable": true
   },
   "outputs": [],
   "source": [
    "ont_hot_scalers = {column : (preprocessing.LabelEncoder(), preprocessing.OneHotEncoder(sparse=False)) for column in one_hot_cols}"
   ]
  },
  {
   "cell_type": "code",
   "execution_count": 22,
   "metadata": {
    "collapsed": false,
    "deletable": true,
    "editable": true
   },
   "outputs": [
    {
     "data": {
      "text/plain": [
       "{'material': (LabelEncoder(),\n",
       "  OneHotEncoder(categorical_features='all', dtype=<type 'numpy.float64'>,\n",
       "         handle_unknown='error', n_values='auto', sparse=False)),\n",
       " 'state_refractored': (LabelEncoder(),\n",
       "  OneHotEncoder(categorical_features='all', dtype=<type 'numpy.float64'>,\n",
       "         handle_unknown='error', n_values='auto', sparse=False))}"
      ]
     },
     "execution_count": 22,
     "metadata": {},
     "output_type": "execute_result"
    }
   ],
   "source": [
    "ont_hot_scalers"
   ]
  },
  {
   "cell_type": "code",
   "execution_count": 23,
   "metadata": {
    "collapsed": true,
    "deletable": true,
    "editable": true
   },
   "outputs": [],
   "source": [
    "label_scalers = {column : preprocessing.LabelEncoder() for column in label_cols}"
   ]
  },
  {
   "cell_type": "code",
   "execution_count": 24,
   "metadata": {
    "collapsed": false,
    "deletable": true,
    "editable": true
   },
   "outputs": [
    {
     "data": {
      "text/plain": [
       "{'sub_area': LabelEncoder()}"
      ]
     },
     "execution_count": 24,
     "metadata": {},
     "output_type": "execute_result"
    }
   ],
   "source": [
    "label_scalers"
   ]
  },
  {
   "cell_type": "code",
   "execution_count": 25,
   "metadata": {
    "collapsed": false,
    "deletable": true,
    "editable": true
   },
   "outputs": [
    {
     "name": "stderr",
     "output_type": "stream",
     "text": [
      "/usr/local/lib/python2.7/dist-packages/sklearn/utils/validation.py:429: DataConversionWarning: Data with input dtype int64 was converted to float64 by StandardScaler.\n",
      "  warnings.warn(msg, _DataConversionWarning)\n"
     ]
    }
   ],
   "source": [
    "for column in normalize_columns:\n",
    "    c_scaler = norm_scalers[column]\n",
    "    c_scaler.fit(final_train_df[[column]].values)"
   ]
  },
  {
   "cell_type": "code",
   "execution_count": 26,
   "metadata": {
    "collapsed": false,
    "deletable": true,
    "editable": true
   },
   "outputs": [
    {
     "name": "stderr",
     "output_type": "stream",
     "text": [
      "/usr/local/lib/python2.7/dist-packages/sklearn/preprocessing/label.py:129: DataConversionWarning: A column-vector y was passed when a 1d array was expected. Please change the shape of y to (n_samples, ), for example using ravel().\n",
      "  y = column_or_1d(y, warn=True)\n"
     ]
    }
   ],
   "source": [
    "for column in one_hot_cols:\n",
    "    label_enc, one_hot_enc = ont_hot_scalers[column]\n",
    "    r = label_enc.fit_transform(final_train_df[[column]].values)\n",
    "    r = np.expand_dims(r, axis=1)\n",
    "    one_hot_enc.fit(r)"
   ]
  },
  {
   "cell_type": "code",
   "execution_count": 139,
   "metadata": {
    "collapsed": false,
    "deletable": true,
    "editable": true
   },
   "outputs": [],
   "source": [
    "for column in label_cols:\n",
    "    label_enc = label_scalers[column]\n",
    "    label_enc.fit(final_train_df[[column]].values)"
   ]
  },
  {
   "cell_type": "markdown",
   "metadata": {
    "deletable": true,
    "editable": true
   },
   "source": [
    "### Test the scalers..."
   ]
  },
  {
   "cell_type": "code",
   "execution_count": 28,
   "metadata": {
    "collapsed": false,
    "deletable": true,
    "editable": true
   },
   "outputs": [
    {
     "name": "stderr",
     "output_type": "stream",
     "text": [
      "/usr/local/lib/python2.7/dist-packages/sklearn/preprocessing/data.py:649: DeprecationWarning: Passing 1d arrays as data is deprecated in 0.17 and will raise ValueError in 0.19. Reshape your data either using X.reshape(-1, 1) if your data has a single feature or X.reshape(1, -1) if it contains a single sample.\n",
      "  warnings.warn(DEPRECATION_MSG_1D, DeprecationWarning)\n"
     ]
    },
    {
     "data": {
      "text/plain": [
       "array([ 0.40933319])"
      ]
     },
     "execution_count": 28,
     "metadata": {},
     "output_type": "execute_result"
    }
   ],
   "source": [
    "norm_scalers['timestamp_day'].transform([final_train_df.ix[0]['timestamp_day']])"
   ]
  },
  {
   "cell_type": "code",
   "execution_count": 29,
   "metadata": {
    "collapsed": false,
    "deletable": true,
    "editable": true
   },
   "outputs": [
    {
     "name": "stderr",
     "output_type": "stream",
     "text": [
      "/usr/local/lib/python2.7/dist-packages/sklearn/utils/validation.py:395: DeprecationWarning: Passing 1d arrays as data is deprecated in 0.17 and will raise ValueError in 0.19. Reshape your data either using X.reshape(-1, 1) if your data has a single feature or X.reshape(1, -1) if it contains a single sample.\n",
      "  DeprecationWarning)\n"
     ]
    },
    {
     "data": {
      "text/plain": [
       "array([[ 1.,  0.,  0.,  0.,  0.,  0.,  0.]])"
      ]
     },
     "execution_count": 29,
     "metadata": {},
     "output_type": "execute_result"
    }
   ],
   "source": [
    "ont_hot_scalers['material'][1].transform([final_train_df.ix[70]['material']])"
   ]
  },
  {
   "cell_type": "code",
   "execution_count": 30,
   "metadata": {
    "collapsed": false,
    "deletable": true,
    "editable": true
   },
   "outputs": [
    {
     "data": {
      "text/plain": [
       "array([9])"
      ]
     },
     "execution_count": 30,
     "metadata": {},
     "output_type": "execute_result"
    }
   ],
   "source": [
    "label_scalers['sub_area'].transform([final_train_df.ix[0]['sub_area']])"
   ]
  },
  {
   "cell_type": "code",
   "execution_count": 31,
   "metadata": {
    "collapsed": false,
    "deletable": true,
    "editable": true
   },
   "outputs": [],
   "source": [
    "sub_area_metadata = open('/mnt/h/Kaggle/Competitions/Russian Bank/models/metadata/sub_area_metadata.tsv', 'w+')\n",
    "sub_area_metadata.write(\"Sub area\\n\" + \"\\n\".join([label_scalers['sub_area'].inverse_transform([i])[0] for i in range(146)]))\n",
    "sub_area_metadata.close()"
   ]
  },
  {
   "cell_type": "markdown",
   "metadata": {
    "deletable": true,
    "editable": true
   },
   "source": [
    "### Save them to disk"
   ]
  },
  {
   "cell_type": "code",
   "execution_count": 32,
   "metadata": {
    "collapsed": true,
    "deletable": true,
    "editable": true
   },
   "outputs": [],
   "source": [
    "from sklearn.externals import joblib"
   ]
  },
  {
   "cell_type": "code",
   "execution_count": 33,
   "metadata": {
    "collapsed": false,
    "deletable": true,
    "editable": true
   },
   "outputs": [
    {
     "data": {
      "text/plain": [
       "['/mnt/h/Kaggle/Competitions/Russian Bank/code/data/norm_scalers.pkl']"
      ]
     },
     "execution_count": 33,
     "metadata": {},
     "output_type": "execute_result"
    }
   ],
   "source": [
    "joblib.dump(norm_scalers, '/mnt/h/Kaggle/Competitions/Russian Bank/code/data/norm_scalers.pkl') "
   ]
  },
  {
   "cell_type": "code",
   "execution_count": 34,
   "metadata": {
    "collapsed": false,
    "deletable": true,
    "editable": true
   },
   "outputs": [
    {
     "data": {
      "text/plain": [
       "['/mnt/h/Kaggle/Competitions/Russian Bank/code/data/one_hot_scalers.pkl']"
      ]
     },
     "execution_count": 34,
     "metadata": {},
     "output_type": "execute_result"
    }
   ],
   "source": [
    "joblib.dump(ont_hot_scalers, '/mnt/h/Kaggle/Competitions/Russian Bank/code/data/one_hot_scalers.pkl') "
   ]
  },
  {
   "cell_type": "code",
   "execution_count": 35,
   "metadata": {
    "collapsed": false,
    "deletable": true,
    "editable": true
   },
   "outputs": [
    {
     "data": {
      "text/plain": [
       "['/mnt/h/Kaggle/Competitions/Russian Bank/code/data/label_scalers.pkl']"
      ]
     },
     "execution_count": 35,
     "metadata": {},
     "output_type": "execute_result"
    }
   ],
   "source": [
    "joblib.dump(label_scalers, '/mnt/h/Kaggle/Competitions/Russian Bank/code/data/label_scalers.pkl') "
   ]
  },
  {
   "cell_type": "markdown",
   "metadata": {
    "collapsed": true,
    "deletable": true,
    "editable": true
   },
   "source": [
    "### Transform the whole training data"
   ]
  },
  {
   "cell_type": "code",
   "execution_count": 36,
   "metadata": {
    "collapsed": false,
    "deletable": true,
    "editable": true
   },
   "outputs": [],
   "source": [
    "for continuous_norm_col in normalize_columns:\n",
    "    scaler = norm_scalers[continuous_norm_col]\n",
    "    scaled_values = scaler.transform(final_train_df[[continuous_norm_col]].values)\n",
    "    final_train_df[continuous_norm_col + \"_scaled_feature\"] = scaled_values"
   ]
  },
  {
   "cell_type": "code",
   "execution_count": 37,
   "metadata": {
    "collapsed": false,
    "deletable": true,
    "editable": true
   },
   "outputs": [
    {
     "name": "stderr",
     "output_type": "stream",
     "text": [
      "/usr/local/lib/python2.7/dist-packages/sklearn/preprocessing/label.py:147: DataConversionWarning: A column-vector y was passed when a 1d array was expected. Please change the shape of y to (n_samples, ), for example using ravel().\n",
      "  y = column_or_1d(y, warn=True)\n"
     ]
    }
   ],
   "source": [
    "for one_hot_col in one_hot_cols:\n",
    "    l_scaler = ont_hot_scalers[one_hot_col][0]\n",
    "    scaler = ont_hot_scalers[one_hot_col][1]\n",
    "    r = l_scaler.transform(final_train_df[[one_hot_col]].values)\n",
    "    r = np.expand_dims(r, axis=1)\n",
    "    scaled_values = scaler.transform(r)\n",
    "    final_train_df[one_hot_col + \"_scaled_feature\"] = list(scaled_values)"
   ]
  },
  {
   "cell_type": "code",
   "execution_count": 38,
   "metadata": {
    "collapsed": true,
    "deletable": true,
    "editable": true
   },
   "outputs": [],
   "source": [
    "for label_col in label_cols:\n",
    "    label_enc = label_scalers[label_col]\n",
    "    encoded_values = label_enc.transform(final_train_df[[label_col]].values)\n",
    "    final_train_df[label_col + \"_scaled_feature\"] = encoded_values"
   ]
  },
  {
   "cell_type": "code",
   "execution_count": 39,
   "metadata": {
    "collapsed": true,
    "deletable": true,
    "editable": true
   },
   "outputs": [],
   "source": [
    "def extract_normalized_feature(df, feature_name):\n",
    "    return np.array(df[feature_name + \"_scaled_feature\"].values.tolist())"
   ]
  },
  {
   "cell_type": "code",
   "execution_count": 40,
   "metadata": {
    "collapsed": false,
    "deletable": true,
    "editable": true
   },
   "outputs": [
    {
     "data": {
      "text/plain": [
       "array([-0.29487286, -0.53152276, -0.29487286, ..., -0.24228399,\n",
       "        0.25731024, -0.29487286])"
      ]
     },
     "execution_count": 40,
     "metadata": {},
     "output_type": "execute_result"
    }
   ],
   "source": [
    "extract_normalized_feature(final_train_df, \"full_sq\")"
   ]
  },
  {
   "cell_type": "code",
   "execution_count": 41,
   "metadata": {
    "collapsed": false,
    "deletable": true,
    "editable": true
   },
   "outputs": [
    {
     "data": {
      "text/plain": [
       "array([-0.00404841, -0.16882931,  0.03714682, ..., -0.56018395,\n",
       "        0.09893965,  0.0165492 ])"
      ]
     },
     "execution_count": 41,
     "metadata": {},
     "output_type": "execute_result"
    }
   ],
   "source": [
    "extract_normalized_feature(final_train_df, \"life_sq\")"
   ]
  },
  {
   "cell_type": "code",
   "execution_count": 137,
   "metadata": {
    "collapsed": false
   },
   "outputs": [
    {
     "data": {
      "text/plain": [
       "array([  9,  70, 129, ..., 103,  77,  75])"
      ]
     },
     "execution_count": 137,
     "metadata": {},
     "output_type": "execute_result"
    }
   ],
   "source": [
    "extract_normalized_feature(final_train_df, \"sub_area\")"
   ]
  },
  {
   "cell_type": "code",
   "execution_count": 42,
   "metadata": {
    "collapsed": false,
    "deletable": true,
    "editable": true
   },
   "outputs": [
    {
     "data": {
      "text/plain": [
       "('railroad_km', array([-0.2961396 , -0.60566319, -0.60254304, ..., -0.08219654,\n",
       "         1.52508579, -0.58517786]))"
      ]
     },
     "execution_count": 42,
     "metadata": {},
     "output_type": "execute_result"
    }
   ],
   "source": [
    "locality_columns[0], extract_normalized_feature(final_train_df, locality_columns[0])"
   ]
  },
  {
   "cell_type": "code",
   "execution_count": 43,
   "metadata": {
    "collapsed": false,
    "deletable": true,
    "editable": true
   },
   "outputs": [
    {
     "data": {
      "text/plain": [
       "array([  9,  70, 129, ..., 103,  77,  75])"
      ]
     },
     "execution_count": 43,
     "metadata": {},
     "output_type": "execute_result"
    }
   ],
   "source": [
    "extract_normalized_feature(final_train_df, \"sub_area\")"
   ]
  },
  {
   "cell_type": "code",
   "execution_count": 44,
   "metadata": {
    "collapsed": true,
    "deletable": true,
    "editable": true
   },
   "outputs": [],
   "source": [
    "def extract_continuous_features(df):\n",
    "    global continuous_columns\n",
    "    vals = []\n",
    "    for c in continuous_columns:\n",
    "        vals.append(extract_normalized_feature(df, c).reshape(-1, 1))\n",
    "    return np.hstack(tuple(vals))"
   ]
  },
  {
   "cell_type": "code",
   "execution_count": 45,
   "metadata": {
    "collapsed": true,
    "deletable": true,
    "editable": true
   },
   "outputs": [],
   "source": [
    "def extract_locality_features(df):\n",
    "    global locality_columns\n",
    "    vals = []\n",
    "    for c in locality_columns:\n",
    "        vals.append(extract_normalized_feature(df, c).reshape(-1, 1))\n",
    "    return np.hstack(tuple(vals))"
   ]
  },
  {
   "cell_type": "code",
   "execution_count": 46,
   "metadata": {
    "collapsed": true,
    "deletable": true,
    "editable": true
   },
   "outputs": [],
   "source": [
    "def extract_categorical_features(df):\n",
    "    global one_hot_cols, label_cols\n",
    "    vals = {}\n",
    "    for c in one_hot_cols + label_cols:\n",
    "        vals[c]  = extract_normalized_feature(df, c)\n",
    "    return vals"
   ]
  },
  {
   "cell_type": "code",
   "execution_count": 86,
   "metadata": {
    "collapsed": false,
    "deletable": true,
    "editable": true
   },
   "outputs": [
    {
     "data": {
      "text/plain": [
       "(30471, 51)"
      ]
     },
     "execution_count": 86,
     "metadata": {},
     "output_type": "execute_result"
    }
   ],
   "source": [
    "extract_continuous_features(final_train_df).shape # 51 + 3 (one hot columns) + 1 (label) = 55 (total dataframe columns excluding id)..."
   ]
  },
  {
   "cell_type": "code",
   "execution_count": 87,
   "metadata": {
    "collapsed": false,
    "deletable": true,
    "editable": true
   },
   "outputs": [
    {
     "data": {
      "text/plain": [
       "(30471, 32)"
      ]
     },
     "execution_count": 87,
     "metadata": {},
     "output_type": "execute_result"
    }
   ],
   "source": [
    "extract_locality_features(final_train_df).shape"
   ]
  },
  {
   "cell_type": "code",
   "execution_count": 88,
   "metadata": {
    "collapsed": false,
    "deletable": true,
    "editable": true
   },
   "outputs": [
    {
     "data": {
      "text/plain": [
       "{'material': array([[ 1.,  0.,  0., ...,  0.,  0.,  0.],\n",
       "        [ 1.,  0.,  0., ...,  0.,  0.,  0.],\n",
       "        [ 1.,  0.,  0., ...,  0.,  0.,  0.],\n",
       "        ..., \n",
       "        [ 0.,  1.,  0., ...,  0.,  0.,  0.],\n",
       "        [ 0.,  1.,  0., ...,  0.,  0.,  0.],\n",
       "        [ 0.,  1.,  0., ...,  0.,  0.,  0.]]),\n",
       " 'state_refractored': array([[ 1.,  0.,  0.,  0.,  0.,  0.],\n",
       "        [ 1.,  0.,  0.,  0.,  0.,  0.],\n",
       "        [ 1.,  0.,  0.,  0.,  0.,  0.],\n",
       "        ..., \n",
       "        [ 0.,  1.,  0.,  0.,  0.,  0.],\n",
       "        [ 0.,  0.,  1.,  0.,  0.,  0.],\n",
       "        [ 0.,  0.,  1.,  0.,  0.,  0.]]),\n",
       " 'sub_area': array([  9,  70, 129, ..., 103,  77,  75])}"
      ]
     },
     "execution_count": 88,
     "metadata": {},
     "output_type": "execute_result"
    }
   ],
   "source": [
    "extract_categorical_features(final_train_df)"
   ]
  },
  {
   "cell_type": "code",
   "execution_count": 92,
   "metadata": {
    "collapsed": true,
    "deletable": true,
    "editable": true
   },
   "outputs": [],
   "source": [
    "def train_validate_test_split(df, train_percent=.6, validate_percent=.2):\n",
    "    perm = np.random.permutation(df.index)\n",
    "    m = len(df)\n",
    "    train_end = int(train_percent * m)\n",
    "    validate_end = int(validate_percent * m) + train_end\n",
    "    train = df.ix[perm[:train_end]]\n",
    "    validate = df.ix[perm[train_end:validate_end]]\n",
    "    test = df.ix[perm[validate_end:]]\n",
    "    return train, validate, test"
   ]
  },
  {
   "cell_type": "code",
   "execution_count": 93,
   "metadata": {
    "collapsed": true,
    "deletable": true,
    "editable": true
   },
   "outputs": [],
   "source": [
    "train_split_df, val_split_df, test_split_df = train_validate_test_split(final_train_df)"
   ]
  },
  {
   "cell_type": "code",
   "execution_count": 94,
   "metadata": {
    "collapsed": false,
    "deletable": true,
    "editable": true
   },
   "outputs": [],
   "source": [
    "train_split_df_locality_features = extract_locality_features(train_split_df)\n",
    "val_split_df_locality_features = extract_locality_features(val_split_df)\n",
    "test_split_df_locality_features = extract_locality_features(test_split_df)"
   ]
  },
  {
   "cell_type": "code",
   "execution_count": 95,
   "metadata": {
    "collapsed": false,
    "deletable": true,
    "editable": true
   },
   "outputs": [],
   "source": [
    "train_split_df_continuous_features = extract_continuous_features(train_split_df)\n",
    "val_split_df_continuous_features = extract_continuous_features(val_split_df)\n",
    "test_split_df_continuous_features = extract_continuous_features(test_split_df)"
   ]
  },
  {
   "cell_type": "code",
   "execution_count": 96,
   "metadata": {
    "collapsed": false,
    "deletable": true,
    "editable": true
   },
   "outputs": [],
   "source": [
    "train_split_df_categorical_features = extract_categorical_features(train_split_df)\n",
    "val_split_df_categorical_features = extract_categorical_features(val_split_df,)\n",
    "test_split_df_categorical_features = extract_categorical_features(test_split_df)"
   ]
  },
  {
   "cell_type": "code",
   "execution_count": 111,
   "metadata": {
    "collapsed": true
   },
   "outputs": [],
   "source": [
    "def format_input(df):\n",
    "    locality_features = extract_locality_features(df)\n",
    "    continuous_features = extract_continuous_features(df)\n",
    "    categorical_features = extract_categorical_features(df)\n",
    "    return locality_features, continuous_features, categorical_features"
   ]
  },
  {
   "cell_type": "markdown",
   "metadata": {
    "deletable": true,
    "editable": true
   },
   "source": [
    "## Model"
   ]
  },
  {
   "cell_type": "code",
   "execution_count": 97,
   "metadata": {
    "collapsed": true,
    "deletable": true,
    "editable": true
   },
   "outputs": [],
   "source": [
    "def locality_submodel(num_locality_features, dropout=0.25):\n",
    "    \"\"\"\n",
    "    This submodel processess the locality-based features for a given place (eg. nearest subway in kilometers, etc.)\n",
    "    \"\"\"\n",
    "    with tf.name_scope(\"locality_submodel\"):\n",
    "        locality_model = Sequential()\n",
    "        locality_model.add(Dense(128, input_shape=(num_locality_features,), activation='relu', name=\"dense_1\"))\n",
    "        locality_model.add(Dropout(dropout, name=\"dropout\"))\n",
    "        locality_model.add(Dense(64, activation='relu', name=\"dense_2\"))\n",
    "        return locality_model"
   ]
  },
  {
   "cell_type": "code",
   "execution_count": 98,
   "metadata": {
    "collapsed": true,
    "deletable": true,
    "editable": true
   },
   "outputs": [],
   "source": [
    "def economy_submodel(num_economy_features, dropout=0.25):\n",
    "    \"\"\"\n",
    "    This submodel processess the economy-based features at a given time (eg. unemployment rate, etc.)\n",
    "    Note: TO BE IMPLEMENTED!\n",
    "    \"\"\"\n",
    "    economy_model = Sequential()\n",
    "    economy_model.add(Dense(128, input_shape=(num_economy_features,), activation='relu'))\n",
    "    economy_model.add(Dropout(dropout))\n",
    "    economy_model.add(Dense(64, activation='relu'))\n",
    "    economy_model.add(Dropout(dropout))\n",
    "    economy_model.add(Dense(32, activation='relu'))\n",
    "    return economy_model"
   ]
  },
  {
   "cell_type": "code",
   "execution_count": 99,
   "metadata": {
    "collapsed": false,
    "deletable": true,
    "editable": true
   },
   "outputs": [],
   "source": [
    "\"\"\"\n",
    "The main model, version: 0\n",
    "\"\"\" \n",
    "def main_model_v0(num_material_classes, num_state_classes, output_activation='relu'):\n",
    "    \n",
    "    with tf.name_scope(\"house_price_model\"):\n",
    "    \n",
    "        # Constants\n",
    "        num_locality_features = len(locality_columns)\n",
    "        num_continuous_features = len(columns) - len(one_hot_cols) - 1\n",
    "        #num_material_classes = to_categorical(final_train_df[['material']].values).shape[1]\n",
    "        #num_state_classes = to_categorical(final_train_df[['state_refractored']].values).shape[1]\n",
    "\n",
    "        # Inputs\n",
    "        with tf.name_scope(\"inputs\"):\n",
    "            ## Continuous\n",
    "            locality_input = Input(shape=(num_locality_features,), name='locality_input')\n",
    "            continuous_input = Input(shape=(num_continuous_features,), name='continuous_input')\n",
    "            ## Categorical (one-hot encoding; not using embeddings cuz number of classes is very small, but maybe should try later???)\n",
    "            material_input = Input(shape=(num_material_classes,), name='material_input')\n",
    "            state_input = Input(shape=(num_state_classes,), name='state_input')\n",
    "            sub_area_input = Input(shape=(1,), dtype='int32', name='sub_area_input')\n",
    "            sub_area_vocab_size = 200 # It's actually 146, but rounding it to 200\n",
    "            sub_area_embedding_dim = 8\n",
    "            \n",
    "        with tf.name_scope(\"sub_area_embedding\"):\n",
    "            # Network\n",
    "            ## Embedding\n",
    "            sub_area_vector = Embedding(output_dim=sub_area_embedding_dim, input_dim=sub_area_vocab_size, input_length=1, name=\"sub_area_embedding\")(sub_area_input)\n",
    "            sub_area_vector = TimeDistributed(Dense(64, activation='relu'))(sub_area_vector)\n",
    "            sub_area_vector = Reshape((64,))(sub_area_vector)\n",
    "            \n",
    "        with tf.name_scope(\"continuous_network\"):\n",
    "            ## Map continuous input features into network\n",
    "            continuous_vector = Dense(256, activation='relu')(continuous_input)\n",
    "            continuous_vector = Dropout(0.4)(continuous_vector)\n",
    "            continuous_vector = Dense(128, activation='relu')(continuous_vector)\n",
    "            continuous_vector = Dropout(0.4)(continuous_vector)\n",
    "            continuous_vector = Dense(64, activation='relu')(continuous_vector)\n",
    "            \n",
    "        with tf.name_scope(\"locality_network\"):\n",
    "            ## Map locality based input features into network via submodel\n",
    "            locality_model = locality_submodel(num_locality_features=num_locality_features) # Load submodel\n",
    "            locality_vector = locality_model(locality_input)\n",
    "            \n",
    "        with tf.name_scope(\"material_network\"):\n",
    "            ## Map material input feature into network\n",
    "            material_vector = Dense(128, activation='relu')(material_input)\n",
    "            material_vector = Dropout(0.2)(material_vector)\n",
    "            material_vector = Dense(64, activation='relu')(material_vector)\n",
    "            \n",
    "        with tf.name_scope(\"state_network\"): \n",
    "            ## Map state input feature into network\n",
    "            state_vector = Dense(128, activation='relu')(state_input)\n",
    "            state_vector = Dropout(0.2)(state_vector)\n",
    "            state_vector = Dense(64, activation='relu')(state_vector)\n",
    "            \n",
    "        with tf.name_scope(\"merge_layer\"):\n",
    "            ## Concatenate all suboutput vectors into one big vector\n",
    "            merged_output_vector = Concatenate()([continuous_vector, locality_vector, material_vector, state_vector, sub_area_vector])\n",
    "            merged_output_vector = BatchNormalization()(merged_output_vector) # Batch normalize this combined pre-output vector\n",
    "\n",
    "            \n",
    "        with tf.name_scope(\"fully_connected\"):\n",
    "            ## Some final hidden layers\n",
    "            merged_output_vector = Dense(256, activation='relu')(merged_output_vector)\n",
    "            merged_output_vector = Dropout(0.25)(merged_output_vector)\n",
    "            merged_output_vector = Dense(128, activation='relu')(merged_output_vector)\n",
    "            merged_output_vector = Dropout(0.1)(merged_output_vector)\n",
    "    \n",
    "        output = Dense(1, activation=output_activation, name=\"output\")(merged_output_vector)\n",
    "        \n",
    "        return [locality_input, continuous_input, material_input, state_input, sub_area_input], output"
   ]
  },
  {
   "cell_type": "code",
   "execution_count": 100,
   "metadata": {
    "collapsed": false,
    "deletable": true,
    "editable": true
   },
   "outputs": [],
   "source": [
    "num_classes_material = train_split_df_categorical_features['material'].shape[1]\n",
    "num_classes_state = train_split_df_categorical_features['state_refractored'].shape[1]\n",
    "\n",
    "inputs, output = main_model_v0(num_classes_material, num_classes_state)\n",
    "\n",
    "house_price_model = Model(inputs=inputs, outputs=output)"
   ]
  },
  {
   "cell_type": "code",
   "execution_count": 101,
   "metadata": {
    "collapsed": false,
    "deletable": true,
    "editable": true
   },
   "outputs": [
    {
     "data": {
      "image/svg+xml": [
       "<svg height=\"934pt\" viewBox=\"0.00 0.00 1225.00 934.00\" width=\"1225pt\" xmlns=\"http://www.w3.org/2000/svg\" xmlns:xlink=\"http://www.w3.org/1999/xlink\">\n",
       "<g class=\"graph\" id=\"graph0\" transform=\"scale(1 1) rotate(0) translate(4 930)\">\n",
       "<title>G</title>\n",
       "<polygon fill=\"white\" points=\"-4,4 -4,-930 1221,-930 1221,4 -4,4\" stroke=\"none\"/>\n",
       "<!-- 140229605183824 -->\n",
       "<g class=\"node\" id=\"node1\"><title>140229605183824</title>\n",
       "<polygon fill=\"none\" points=\"0,-889 0,-925 230,-925 230,-889 0,-889\" stroke=\"black\"/>\n",
       "<text font-family=\"Times,serif\" font-size=\"14.00\" text-anchor=\"middle\" x=\"115\" y=\"-903.3\">continuous_input: InputLayer</text>\n",
       "</g>\n",
       "<!-- 140229050831504 -->\n",
       "<g class=\"node\" id=\"node2\"><title>140229050831504</title>\n",
       "<polygon fill=\"none\" points=\"46.5,-815 46.5,-851 183.5,-851 183.5,-815 46.5,-815\" stroke=\"black\"/>\n",
       "<text font-family=\"Times,serif\" font-size=\"14.00\" text-anchor=\"middle\" x=\"115\" y=\"-829.3\">dense_22: Dense</text>\n",
       "</g>\n",
       "<!-- 140229605183824&#45;&gt;140229050831504 -->\n",
       "<g class=\"edge\" id=\"edge1\"><title>140229605183824-&gt;140229050831504</title>\n",
       "<path d=\"M115,-888.937C115,-880.807 115,-870.876 115,-861.705\" fill=\"none\" stroke=\"black\"/>\n",
       "<polygon fill=\"black\" points=\"118.5,-861.441 115,-851.441 111.5,-861.441 118.5,-861.441\" stroke=\"black\"/>\n",
       "</g>\n",
       "<!-- 140229605171152 -->\n",
       "<g class=\"node\" id=\"node3\"><title>140229605171152</title>\n",
       "<polygon fill=\"none\" points=\"32,-741 32,-777 198,-777 198,-741 32,-741\" stroke=\"black\"/>\n",
       "<text font-family=\"Times,serif\" font-size=\"14.00\" text-anchor=\"middle\" x=\"115\" y=\"-755.3\">dropout_13: Dropout</text>\n",
       "</g>\n",
       "<!-- 140229050831504&#45;&gt;140229605171152 -->\n",
       "<g class=\"edge\" id=\"edge2\"><title>140229050831504-&gt;140229605171152</title>\n",
       "<path d=\"M115,-814.937C115,-806.807 115,-796.876 115,-787.705\" fill=\"none\" stroke=\"black\"/>\n",
       "<polygon fill=\"black\" points=\"118.5,-787.441 115,-777.441 111.5,-787.441 118.5,-787.441\" stroke=\"black\"/>\n",
       "</g>\n",
       "<!-- 140229605170448 -->\n",
       "<g class=\"node\" id=\"node7\"><title>140229605170448</title>\n",
       "<polygon fill=\"none\" points=\"46.5,-667 46.5,-703 183.5,-703 183.5,-667 46.5,-667\" stroke=\"black\"/>\n",
       "<text font-family=\"Times,serif\" font-size=\"14.00\" text-anchor=\"middle\" x=\"115\" y=\"-681.3\">dense_23: Dense</text>\n",
       "</g>\n",
       "<!-- 140229605171152&#45;&gt;140229605170448 -->\n",
       "<g class=\"edge\" id=\"edge3\"><title>140229605171152-&gt;140229605170448</title>\n",
       "<path d=\"M115,-740.937C115,-732.807 115,-722.876 115,-713.705\" fill=\"none\" stroke=\"black\"/>\n",
       "<polygon fill=\"black\" points=\"118.5,-713.441 115,-703.441 111.5,-713.441 118.5,-713.441\" stroke=\"black\"/>\n",
       "</g>\n",
       "<!-- 140229050831952 -->\n",
       "<g class=\"node\" id=\"node4\"><title>140229050831952</title>\n",
       "<polygon fill=\"none\" points=\"391.5,-741 391.5,-777 602.5,-777 602.5,-741 391.5,-741\" stroke=\"black\"/>\n",
       "<text font-family=\"Times,serif\" font-size=\"14.00\" text-anchor=\"middle\" x=\"497\" y=\"-755.3\">material_input: InputLayer</text>\n",
       "</g>\n",
       "<!-- 140228602160272 -->\n",
       "<g class=\"node\" id=\"node8\"><title>140228602160272</title>\n",
       "<polygon fill=\"none\" points=\"436.5,-667 436.5,-703 573.5,-703 573.5,-667 436.5,-667\" stroke=\"black\"/>\n",
       "<text font-family=\"Times,serif\" font-size=\"14.00\" text-anchor=\"middle\" x=\"505\" y=\"-681.3\">dense_25: Dense</text>\n",
       "</g>\n",
       "<!-- 140229050831952&#45;&gt;140228602160272 -->\n",
       "<g class=\"edge\" id=\"edge4\"><title>140229050831952-&gt;140228602160272</title>\n",
       "<path d=\"M498.896,-740.937C499.809,-732.719 500.927,-722.66 501.955,-713.406\" fill=\"none\" stroke=\"black\"/>\n",
       "<polygon fill=\"black\" points=\"505.436,-713.766 503.062,-703.441 498.479,-712.993 505.436,-713.766\" stroke=\"black\"/>\n",
       "</g>\n",
       "<!-- 140229050833104 -->\n",
       "<g class=\"node\" id=\"node5\"><title>140229050833104</title>\n",
       "<polygon fill=\"none\" points=\"620.5,-741 620.5,-777 807.5,-777 807.5,-741 620.5,-741\" stroke=\"black\"/>\n",
       "<text font-family=\"Times,serif\" font-size=\"14.00\" text-anchor=\"middle\" x=\"714\" y=\"-755.3\">state_input: InputLayer</text>\n",
       "</g>\n",
       "<!-- 140228883856144 -->\n",
       "<g class=\"node\" id=\"node9\"><title>140228883856144</title>\n",
       "<polygon fill=\"none\" points=\"640.5,-667 640.5,-703 777.5,-703 777.5,-667 640.5,-667\" stroke=\"black\"/>\n",
       "<text font-family=\"Times,serif\" font-size=\"14.00\" text-anchor=\"middle\" x=\"709\" y=\"-681.3\">dense_27: Dense</text>\n",
       "</g>\n",
       "<!-- 140229050833104&#45;&gt;140228883856144 -->\n",
       "<g class=\"edge\" id=\"edge5\"><title>140229050833104-&gt;140228883856144</title>\n",
       "<path d=\"M712.815,-740.937C712.25,-732.807 711.561,-722.876 710.924,-713.705\" fill=\"none\" stroke=\"black\"/>\n",
       "<polygon fill=\"black\" points=\"714.396,-713.174 710.211,-703.441 707.412,-713.659 714.396,-713.174\" stroke=\"black\"/>\n",
       "</g>\n",
       "<!-- 140229050834448 -->\n",
       "<g class=\"node\" id=\"node6\"><title>140229050834448</title>\n",
       "<polygon fill=\"none\" points=\"904.5,-741 904.5,-777 1119.5,-777 1119.5,-741 904.5,-741\" stroke=\"black\"/>\n",
       "<text font-family=\"Times,serif\" font-size=\"14.00\" text-anchor=\"middle\" x=\"1012\" y=\"-755.3\">sub_area_input: InputLayer</text>\n",
       "</g>\n",
       "<!-- 140229050830928 -->\n",
       "<g class=\"node\" id=\"node10\"><title>140229050830928</title>\n",
       "<polygon fill=\"none\" points=\"882.5,-667 882.5,-703 1141.5,-703 1141.5,-667 882.5,-667\" stroke=\"black\"/>\n",
       "<text font-family=\"Times,serif\" font-size=\"14.00\" text-anchor=\"middle\" x=\"1012\" y=\"-681.3\">sub_area_embedding: Embedding</text>\n",
       "</g>\n",
       "<!-- 140229050834448&#45;&gt;140229050830928 -->\n",
       "<g class=\"edge\" id=\"edge6\"><title>140229050834448-&gt;140229050830928</title>\n",
       "<path d=\"M1012,-740.937C1012,-732.807 1012,-722.876 1012,-713.705\" fill=\"none\" stroke=\"black\"/>\n",
       "<polygon fill=\"black\" points=\"1015.5,-713.441 1012,-703.441 1008.5,-713.441 1015.5,-713.441\" stroke=\"black\"/>\n",
       "</g>\n",
       "<!-- 140228894101968 -->\n",
       "<g class=\"node\" id=\"node11\"><title>140228894101968</title>\n",
       "<polygon fill=\"none\" points=\"32,-593 32,-629 198,-629 198,-593 32,-593\" stroke=\"black\"/>\n",
       "<text font-family=\"Times,serif\" font-size=\"14.00\" text-anchor=\"middle\" x=\"115\" y=\"-607.3\">dropout_14: Dropout</text>\n",
       "</g>\n",
       "<!-- 140229605170448&#45;&gt;140228894101968 -->\n",
       "<g class=\"edge\" id=\"edge7\"><title>140229605170448-&gt;140228894101968</title>\n",
       "<path d=\"M115,-666.937C115,-658.807 115,-648.876 115,-639.705\" fill=\"none\" stroke=\"black\"/>\n",
       "<polygon fill=\"black\" points=\"118.5,-639.441 115,-629.441 111.5,-639.441 118.5,-639.441\" stroke=\"black\"/>\n",
       "</g>\n",
       "<!-- 140228600862864 -->\n",
       "<g class=\"node\" id=\"node13\"><title>140228600862864</title>\n",
       "<polygon fill=\"none\" points=\"438,-593 438,-629 604,-629 604,-593 438,-593\" stroke=\"black\"/>\n",
       "<text font-family=\"Times,serif\" font-size=\"14.00\" text-anchor=\"middle\" x=\"521\" y=\"-607.3\">dropout_15: Dropout</text>\n",
       "</g>\n",
       "<!-- 140228602160272&#45;&gt;140228600862864 -->\n",
       "<g class=\"edge\" id=\"edge8\"><title>140228602160272-&gt;140228600862864</title>\n",
       "<path d=\"M508.792,-666.937C510.618,-658.719 512.853,-648.66 514.91,-639.406\" fill=\"none\" stroke=\"black\"/>\n",
       "<polygon fill=\"black\" points=\"518.372,-639.962 517.124,-629.441 511.538,-638.443 518.372,-639.962\" stroke=\"black\"/>\n",
       "</g>\n",
       "<!-- 140229061835600 -->\n",
       "<g class=\"node\" id=\"node14\"><title>140229061835600</title>\n",
       "<polygon fill=\"none\" points=\"622,-593 622,-629 788,-629 788,-593 622,-593\" stroke=\"black\"/>\n",
       "<text font-family=\"Times,serif\" font-size=\"14.00\" text-anchor=\"middle\" x=\"705\" y=\"-607.3\">dropout_16: Dropout</text>\n",
       "</g>\n",
       "<!-- 140228883856144&#45;&gt;140229061835600 -->\n",
       "<g class=\"edge\" id=\"edge9\"><title>140228883856144-&gt;140229061835600</title>\n",
       "<path d=\"M708.052,-666.937C707.6,-658.807 707.049,-648.876 706.539,-639.705\" fill=\"none\" stroke=\"black\"/>\n",
       "<polygon fill=\"black\" points=\"710.018,-639.231 705.969,-629.441 703.029,-639.619 710.018,-639.231\" stroke=\"black\"/>\n",
       "</g>\n",
       "<!-- 140229605169744 -->\n",
       "<g class=\"node\" id=\"node15\"><title>140229605169744</title>\n",
       "<polygon fill=\"none\" points=\"806.5,-593 806.5,-629 1217.5,-629 1217.5,-593 806.5,-593\" stroke=\"black\"/>\n",
       "<text font-family=\"Times,serif\" font-size=\"14.00\" text-anchor=\"middle\" x=\"1012\" y=\"-607.3\">time_distributed_3(dense_21): TimeDistributed(Dense)</text>\n",
       "</g>\n",
       "<!-- 140229050830928&#45;&gt;140229605169744 -->\n",
       "<g class=\"edge\" id=\"edge10\"><title>140229050830928-&gt;140229605169744</title>\n",
       "<path d=\"M1012,-666.937C1012,-658.807 1012,-648.876 1012,-639.705\" fill=\"none\" stroke=\"black\"/>\n",
       "<polygon fill=\"black\" points=\"1015.5,-639.441 1012,-629.441 1008.5,-639.441 1015.5,-639.441\" stroke=\"black\"/>\n",
       "</g>\n",
       "<!-- 140228892062672 -->\n",
       "<g class=\"node\" id=\"node16\"><title>140228892062672</title>\n",
       "<polygon fill=\"none\" points=\"56.5,-519 56.5,-555 193.5,-555 193.5,-519 56.5,-519\" stroke=\"black\"/>\n",
       "<text font-family=\"Times,serif\" font-size=\"14.00\" text-anchor=\"middle\" x=\"125\" y=\"-533.3\">dense_24: Dense</text>\n",
       "</g>\n",
       "<!-- 140228894101968&#45;&gt;140228892062672 -->\n",
       "<g class=\"edge\" id=\"edge11\"><title>140228894101968-&gt;140228892062672</title>\n",
       "<path d=\"M117.37,-592.937C118.511,-584.719 119.908,-574.66 121.194,-565.406\" fill=\"none\" stroke=\"black\"/>\n",
       "<polygon fill=\"black\" points=\"124.669,-565.827 122.578,-555.441 117.735,-564.864 124.669,-565.827\" stroke=\"black\"/>\n",
       "</g>\n",
       "<!-- 140229050831312 -->\n",
       "<g class=\"node\" id=\"node12\"><title>140229050831312</title>\n",
       "<polygon fill=\"none\" points=\"216.5,-593 216.5,-629 419.5,-629 419.5,-593 216.5,-593\" stroke=\"black\"/>\n",
       "<text font-family=\"Times,serif\" font-size=\"14.00\" text-anchor=\"middle\" x=\"318\" y=\"-607.3\">locality_input: InputLayer</text>\n",
       "</g>\n",
       "<!-- 140228617600464 -->\n",
       "<g class=\"node\" id=\"node17\"><title>140228617600464</title>\n",
       "<polygon fill=\"none\" points=\"232,-519 232,-555 424,-555 424,-519 232,-519\" stroke=\"black\"/>\n",
       "<text font-family=\"Times,serif\" font-size=\"14.00\" text-anchor=\"middle\" x=\"328\" y=\"-533.3\">sequential_3: Sequential</text>\n",
       "</g>\n",
       "<!-- 140229050831312&#45;&gt;140228617600464 -->\n",
       "<g class=\"edge\" id=\"edge12\"><title>140229050831312-&gt;140228617600464</title>\n",
       "<path d=\"M320.37,-592.937C321.511,-584.719 322.908,-574.66 324.194,-565.406\" fill=\"none\" stroke=\"black\"/>\n",
       "<polygon fill=\"black\" points=\"327.669,-565.827 325.578,-555.441 320.735,-564.864 327.669,-565.827\" stroke=\"black\"/>\n",
       "</g>\n",
       "<!-- 140228899589328 -->\n",
       "<g class=\"node\" id=\"node18\"><title>140228899589328</title>\n",
       "<polygon fill=\"none\" points=\"452.5,-519 452.5,-555 589.5,-555 589.5,-519 452.5,-519\" stroke=\"black\"/>\n",
       "<text font-family=\"Times,serif\" font-size=\"14.00\" text-anchor=\"middle\" x=\"521\" y=\"-533.3\">dense_26: Dense</text>\n",
       "</g>\n",
       "<!-- 140228600862864&#45;&gt;140228899589328 -->\n",
       "<g class=\"edge\" id=\"edge13\"><title>140228600862864-&gt;140228899589328</title>\n",
       "<path d=\"M521,-592.937C521,-584.807 521,-574.876 521,-565.705\" fill=\"none\" stroke=\"black\"/>\n",
       "<polygon fill=\"black\" points=\"524.5,-565.441 521,-555.441 517.5,-565.441 524.5,-565.441\" stroke=\"black\"/>\n",
       "</g>\n",
       "<!-- 140229061186576 -->\n",
       "<g class=\"node\" id=\"node19\"><title>140229061186576</title>\n",
       "<polygon fill=\"none\" points=\"621.5,-519 621.5,-555 758.5,-555 758.5,-519 621.5,-519\" stroke=\"black\"/>\n",
       "<text font-family=\"Times,serif\" font-size=\"14.00\" text-anchor=\"middle\" x=\"690\" y=\"-533.3\">dense_28: Dense</text>\n",
       "</g>\n",
       "<!-- 140229061835600&#45;&gt;140229061186576 -->\n",
       "<g class=\"edge\" id=\"edge14\"><title>140229061835600-&gt;140229061186576</title>\n",
       "<path d=\"M701.445,-592.937C699.733,-584.719 697.638,-574.66 695.71,-565.406\" fill=\"none\" stroke=\"black\"/>\n",
       "<polygon fill=\"black\" points=\"699.1,-564.517 693.633,-555.441 692.247,-565.944 699.1,-564.517\" stroke=\"black\"/>\n",
       "</g>\n",
       "<!-- 140229071392208 -->\n",
       "<g class=\"node\" id=\"node20\"><title>140229071392208</title>\n",
       "<polygon fill=\"none\" points=\"854,-519 854,-555 1014,-555 1014,-519 854,-519\" stroke=\"black\"/>\n",
       "<text font-family=\"Times,serif\" font-size=\"14.00\" text-anchor=\"middle\" x=\"934\" y=\"-533.3\">reshape_3: Reshape</text>\n",
       "</g>\n",
       "<!-- 140229605169744&#45;&gt;140229071392208 -->\n",
       "<g class=\"edge\" id=\"edge15\"><title>140229605169744-&gt;140229071392208</title>\n",
       "<path d=\"M993.515,-592.937C983.582,-583.768 971.167,-572.308 960.25,-562.231\" fill=\"none\" stroke=\"black\"/>\n",
       "<polygon fill=\"black\" points=\"962.345,-559.401 952.623,-555.19 957.597,-564.545 962.345,-559.401\" stroke=\"black\"/>\n",
       "</g>\n",
       "<!-- 140229050831440 -->\n",
       "<g class=\"node\" id=\"node21\"><title>140229050831440</title>\n",
       "<polygon fill=\"none\" points=\"410.5,-445 410.5,-481 631.5,-481 631.5,-445 410.5,-445\" stroke=\"black\"/>\n",
       "<text font-family=\"Times,serif\" font-size=\"14.00\" text-anchor=\"middle\" x=\"521\" y=\"-459.3\">concatenate_3: Concatenate</text>\n",
       "</g>\n",
       "<!-- 140228892062672&#45;&gt;140229050831440 -->\n",
       "<g class=\"edge\" id=\"edge16\"><title>140228892062672-&gt;140229050831440</title>\n",
       "<path d=\"M193.534,-523.391C203.42,-521.578 213.47,-519.739 223,-518 287.288,-506.271 359.393,-493.203 416.573,-482.86\" fill=\"none\" stroke=\"black\"/>\n",
       "<polygon fill=\"black\" points=\"417.488,-486.251 426.706,-481.028 416.242,-479.363 417.488,-486.251\" stroke=\"black\"/>\n",
       "</g>\n",
       "<!-- 140228617600464&#45;&gt;140229050831440 -->\n",
       "<g class=\"edge\" id=\"edge17\"><title>140228617600464-&gt;140229050831440</title>\n",
       "<path d=\"M373.738,-518.937C401.279,-508.663 436.532,-495.511 465.64,-484.652\" fill=\"none\" stroke=\"black\"/>\n",
       "<polygon fill=\"black\" points=\"467.11,-487.84 475.256,-481.065 464.663,-481.281 467.11,-487.84\" stroke=\"black\"/>\n",
       "</g>\n",
       "<!-- 140228899589328&#45;&gt;140229050831440 -->\n",
       "<g class=\"edge\" id=\"edge18\"><title>140228899589328-&gt;140229050831440</title>\n",
       "<path d=\"M521,-518.937C521,-510.807 521,-500.876 521,-491.705\" fill=\"none\" stroke=\"black\"/>\n",
       "<polygon fill=\"black\" points=\"524.5,-491.441 521,-481.441 517.5,-491.441 524.5,-491.441\" stroke=\"black\"/>\n",
       "</g>\n",
       "<!-- 140229061186576&#45;&gt;140229050831440 -->\n",
       "<g class=\"edge\" id=\"edge19\"><title>140229061186576-&gt;140229050831440</title>\n",
       "<path d=\"M649.949,-518.937C626.148,-508.797 595.769,-495.854 570.476,-485.078\" fill=\"none\" stroke=\"black\"/>\n",
       "<polygon fill=\"black\" points=\"571.627,-481.765 561.056,-481.065 568.884,-488.205 571.627,-481.765\" stroke=\"black\"/>\n",
       "</g>\n",
       "<!-- 140229071392208&#45;&gt;140229050831440 -->\n",
       "<g class=\"edge\" id=\"edge20\"><title>140229071392208-&gt;140229050831440</title>\n",
       "<path d=\"M853.88,-522.032C789.824,-510.865 699.407,-495.102 628.969,-482.823\" fill=\"none\" stroke=\"black\"/>\n",
       "<polygon fill=\"black\" points=\"629.179,-479.307 618.727,-481.037 627.977,-486.203 629.179,-479.307\" stroke=\"black\"/>\n",
       "</g>\n",
       "<!-- 140229061253136 -->\n",
       "<g class=\"node\" id=\"node22\"><title>140229061253136</title>\n",
       "<polygon fill=\"none\" points=\"355,-371 355,-407 687,-407 687,-371 355,-371\" stroke=\"black\"/>\n",
       "<text font-family=\"Times,serif\" font-size=\"14.00\" text-anchor=\"middle\" x=\"521\" y=\"-385.3\">batch_normalization_3: BatchNormalization</text>\n",
       "</g>\n",
       "<!-- 140229050831440&#45;&gt;140229061253136 -->\n",
       "<g class=\"edge\" id=\"edge21\"><title>140229050831440-&gt;140229061253136</title>\n",
       "<path d=\"M521,-444.937C521,-436.807 521,-426.876 521,-417.705\" fill=\"none\" stroke=\"black\"/>\n",
       "<polygon fill=\"black\" points=\"524.5,-417.441 521,-407.441 517.5,-417.441 524.5,-417.441\" stroke=\"black\"/>\n",
       "</g>\n",
       "<!-- 140229061515728 -->\n",
       "<g class=\"node\" id=\"node23\"><title>140229061515728</title>\n",
       "<polygon fill=\"none\" points=\"452.5,-297 452.5,-333 589.5,-333 589.5,-297 452.5,-297\" stroke=\"black\"/>\n",
       "<text font-family=\"Times,serif\" font-size=\"14.00\" text-anchor=\"middle\" x=\"521\" y=\"-311.3\">dense_29: Dense</text>\n",
       "</g>\n",
       "<!-- 140229061253136&#45;&gt;140229061515728 -->\n",
       "<g class=\"edge\" id=\"edge22\"><title>140229061253136-&gt;140229061515728</title>\n",
       "<path d=\"M521,-370.937C521,-362.807 521,-352.876 521,-343.705\" fill=\"none\" stroke=\"black\"/>\n",
       "<polygon fill=\"black\" points=\"524.5,-343.441 521,-333.441 517.5,-343.441 524.5,-343.441\" stroke=\"black\"/>\n",
       "</g>\n",
       "<!-- 140229053861392 -->\n",
       "<g class=\"node\" id=\"node24\"><title>140229053861392</title>\n",
       "<polygon fill=\"none\" points=\"438,-223 438,-259 604,-259 604,-223 438,-223\" stroke=\"black\"/>\n",
       "<text font-family=\"Times,serif\" font-size=\"14.00\" text-anchor=\"middle\" x=\"521\" y=\"-237.3\">dropout_17: Dropout</text>\n",
       "</g>\n",
       "<!-- 140229061515728&#45;&gt;140229053861392 -->\n",
       "<g class=\"edge\" id=\"edge23\"><title>140229061515728-&gt;140229053861392</title>\n",
       "<path d=\"M521,-296.937C521,-288.807 521,-278.876 521,-269.705\" fill=\"none\" stroke=\"black\"/>\n",
       "<polygon fill=\"black\" points=\"524.5,-269.441 521,-259.441 517.5,-269.441 524.5,-269.441\" stroke=\"black\"/>\n",
       "</g>\n",
       "<!-- 140229053684752 -->\n",
       "<g class=\"node\" id=\"node25\"><title>140229053684752</title>\n",
       "<polygon fill=\"none\" points=\"452.5,-149 452.5,-185 589.5,-185 589.5,-149 452.5,-149\" stroke=\"black\"/>\n",
       "<text font-family=\"Times,serif\" font-size=\"14.00\" text-anchor=\"middle\" x=\"521\" y=\"-163.3\">dense_30: Dense</text>\n",
       "</g>\n",
       "<!-- 140229053861392&#45;&gt;140229053684752 -->\n",
       "<g class=\"edge\" id=\"edge24\"><title>140229053861392-&gt;140229053684752</title>\n",
       "<path d=\"M521,-222.937C521,-214.807 521,-204.876 521,-195.705\" fill=\"none\" stroke=\"black\"/>\n",
       "<polygon fill=\"black\" points=\"524.5,-195.441 521,-185.441 517.5,-195.441 524.5,-195.441\" stroke=\"black\"/>\n",
       "</g>\n",
       "<!-- 140229053356880 -->\n",
       "<g class=\"node\" id=\"node26\"><title>140229053356880</title>\n",
       "<polygon fill=\"none\" points=\"438,-75 438,-111 604,-111 604,-75 438,-75\" stroke=\"black\"/>\n",
       "<text font-family=\"Times,serif\" font-size=\"14.00\" text-anchor=\"middle\" x=\"521\" y=\"-89.3\">dropout_18: Dropout</text>\n",
       "</g>\n",
       "<!-- 140229053684752&#45;&gt;140229053356880 -->\n",
       "<g class=\"edge\" id=\"edge25\"><title>140229053684752-&gt;140229053356880</title>\n",
       "<path d=\"M521,-148.937C521,-140.807 521,-130.876 521,-121.705\" fill=\"none\" stroke=\"black\"/>\n",
       "<polygon fill=\"black\" points=\"524.5,-121.441 521,-111.441 517.5,-121.441 524.5,-121.441\" stroke=\"black\"/>\n",
       "</g>\n",
       "<!-- 140229062596112 -->\n",
       "<g class=\"node\" id=\"node27\"><title>140229062596112</title>\n",
       "<polygon fill=\"none\" points=\"462.5,-1 462.5,-37 579.5,-37 579.5,-1 462.5,-1\" stroke=\"black\"/>\n",
       "<text font-family=\"Times,serif\" font-size=\"14.00\" text-anchor=\"middle\" x=\"521\" y=\"-15.3\">output: Dense</text>\n",
       "</g>\n",
       "<!-- 140229053356880&#45;&gt;140229062596112 -->\n",
       "<g class=\"edge\" id=\"edge26\"><title>140229053356880-&gt;140229062596112</title>\n",
       "<path d=\"M521,-74.937C521,-66.8072 521,-56.8761 521,-47.7047\" fill=\"none\" stroke=\"black\"/>\n",
       "<polygon fill=\"black\" points=\"524.5,-47.4406 521,-37.4407 517.5,-47.4407 524.5,-47.4406\" stroke=\"black\"/>\n",
       "</g>\n",
       "</g>\n",
       "</svg>"
      ],
      "text/plain": [
       "<IPython.core.display.SVG object>"
      ]
     },
     "execution_count": 101,
     "metadata": {},
     "output_type": "execute_result"
    }
   ],
   "source": [
    "from IPython.display import Image, display, SVG\n",
    "from keras.utils.vis_utils import model_to_dot\n",
    "\n",
    "# Show the model in ipython notebook\n",
    "SVG(model_to_dot(house_price_model).create(prog='dot', format='svg'))"
   ]
  },
  {
   "cell_type": "code",
   "execution_count": 102,
   "metadata": {
    "collapsed": true,
    "deletable": true,
    "editable": true
   },
   "outputs": [],
   "source": [
    "def root_mean_squared_logarithmic_error(y_true, y_pred):\n",
    "    y_pred_log = K.log(y_pred + 1.)\n",
    "    y_true_log = K.log(y_true + 1.)\n",
    "    return K.sqrt(K.mean(K.square(y_pred_log - y_true_log), axis = -1))"
   ]
  },
  {
   "cell_type": "code",
   "execution_count": 103,
   "metadata": {
    "collapsed": true,
    "deletable": true,
    "editable": true
   },
   "outputs": [],
   "source": [
    "house_price_model.compile(optimizer = \"adam\", loss = root_mean_squared_logarithmic_error)"
   ]
  },
  {
   "cell_type": "markdown",
   "metadata": {
    "deletable": true,
    "editable": true
   },
   "source": [
    "### Train the model"
   ]
  },
  {
   "cell_type": "code",
   "execution_count": 107,
   "metadata": {
    "collapsed": true,
    "deletable": true,
    "editable": true
   },
   "outputs": [],
   "source": [
    "epochs = 100\n",
    "version = 0"
   ]
  },
  {
   "cell_type": "code",
   "execution_count": 108,
   "metadata": {
    "collapsed": false,
    "deletable": true,
    "editable": true
   },
   "outputs": [],
   "source": [
    "checkpointer = ModelCheckpoint(filepath=\"/mnt/h/Kaggle/Competitions/Russian Bank/models/v\" + str(version) + \"/\" + \"weights.{epoch:02d}-{val_loss:.2f}.hdf5\", verbose=1, save_best_only=True)\n",
    "tensorboard = TensorBoard(log_dir=\"/mnt/h/Kaggle/Competitions/Russian Bank/models/v\" + str(version) + \"/logs/\",\n",
    "                          histogram_freq=0, \n",
    "                          write_graph=True, \n",
    "                         # write_grads=True, \n",
    "                          write_images=False, \n",
    "                          embeddings_freq=10, \n",
    "                          embeddings_layer_names=[\n",
    "                              'sub_area_embedding'\n",
    "                          ], embeddings_metadata={\n",
    "                              'sub_area_embedding':'/mnt/h/Kaggle/Competitions/Russian Bank/models/metadata/sub_area_metadata.tsv'\n",
    "                          })\n",
    "early_stopping = EarlyStopping(monitor='val_loss', patience=50, verbose=0, mode='auto')\n",
    "callbacks = [checkpointer, tensorboard, early_stopping]"
   ]
  },
  {
   "cell_type": "code",
   "execution_count": 109,
   "metadata": {
    "collapsed": false,
    "deletable": true,
    "editable": true
   },
   "outputs": [
    {
     "name": "stdout",
     "output_type": "stream",
     "text": [
      "Train on 19500 samples, validate on 4876 samples\n",
      "Epoch 1/100\n",
      "Epoch 00000: val_loss improved from inf to 4.65488, saving model to /mnt/h/Kaggle/Competitions/Russian Bank/models/v0/weights.00-4.65.hdf5\n",
      "42s - loss: 7.2849 - val_loss: 4.6549\n",
      "Epoch 2/100\n",
      "Epoch 00001: val_loss improved from 4.65488 to 2.66864, saving model to /mnt/h/Kaggle/Competitions/Russian Bank/models/v0/weights.01-2.67.hdf5\n",
      "15s - loss: 3.6077 - val_loss: 2.6686\n",
      "Epoch 3/100\n",
      "Epoch 00002: val_loss improved from 2.66864 to 1.45690, saving model to /mnt/h/Kaggle/Competitions/Russian Bank/models/v0/weights.02-1.46.hdf5\n",
      "16s - loss: 2.0435 - val_loss: 1.4569\n",
      "Epoch 4/100\n",
      "Epoch 00003: val_loss improved from 1.45690 to 0.70688, saving model to /mnt/h/Kaggle/Competitions/Russian Bank/models/v0/weights.03-0.71.hdf5\n",
      "18s - loss: 1.0529 - val_loss: 0.7069\n",
      "Epoch 5/100\n",
      "Epoch 00004: val_loss improved from 0.70688 to 0.37053, saving model to /mnt/h/Kaggle/Competitions/Russian Bank/models/v0/weights.04-0.37.hdf5\n",
      "17s - loss: 0.5227 - val_loss: 0.3705\n",
      "Epoch 6/100\n",
      "Epoch 00005: val_loss improved from 0.37053 to 0.27978, saving model to /mnt/h/Kaggle/Competitions/Russian Bank/models/v0/weights.05-0.28.hdf5\n",
      "15s - loss: 0.3286 - val_loss: 0.2798\n",
      "Epoch 7/100\n",
      "Epoch 00006: val_loss improved from 0.27978 to 0.27565, saving model to /mnt/h/Kaggle/Competitions/Russian Bank/models/v0/weights.06-0.28.hdf5\n",
      "15s - loss: 0.2963 - val_loss: 0.2756\n",
      "Epoch 8/100\n",
      "Epoch 00007: val_loss improved from 0.27565 to 0.26401, saving model to /mnt/h/Kaggle/Competitions/Russian Bank/models/v0/weights.07-0.26.hdf5\n",
      "16s - loss: 0.2876 - val_loss: 0.2640\n",
      "Epoch 9/100\n",
      "Epoch 00008: val_loss did not improve\n",
      "17s - loss: 0.2835 - val_loss: 0.2676\n",
      "Epoch 10/100\n",
      "Epoch 00009: val_loss did not improve\n",
      "15s - loss: 0.2781 - val_loss: 0.2642\n",
      "Epoch 11/100\n",
      "Epoch 00010: val_loss improved from 0.26401 to 0.26261, saving model to /mnt/h/Kaggle/Competitions/Russian Bank/models/v0/weights.10-0.26.hdf5\n",
      "36s - loss: 0.2759 - val_loss: 0.2626\n",
      "Epoch 12/100\n",
      "Epoch 00011: val_loss improved from 0.26261 to 0.25931, saving model to /mnt/h/Kaggle/Competitions/Russian Bank/models/v0/weights.11-0.26.hdf5\n",
      "15s - loss: 0.2752 - val_loss: 0.2593\n",
      "Epoch 13/100\n",
      "Epoch 00012: val_loss did not improve\n",
      "16s - loss: 0.2740 - val_loss: 0.2707\n",
      "Epoch 14/100\n",
      "Epoch 00013: val_loss did not improve\n",
      "14s - loss: 6.0296 - val_loss: 15.6246\n",
      "Epoch 15/100\n",
      "Epoch 00014: val_loss did not improve\n",
      "14s - loss: 15.6064 - val_loss: 15.6246\n",
      "Epoch 16/100\n"
     ]
    },
    {
     "ename": "KeyboardInterrupt",
     "evalue": "",
     "output_type": "error",
     "traceback": [
      "\u001b[0;31m---------------------------------------------------------------------------\u001b[0m",
      "\u001b[0;31mKeyboardInterrupt\u001b[0m                         Traceback (most recent call last)",
      "\u001b[0;32m<ipython-input-109-abec138cbf93>\u001b[0m in \u001b[0;36m<module>\u001b[0;34m()\u001b[0m\n\u001b[1;32m     10\u001b[0m                       \u001b[0mvalidation_split\u001b[0m\u001b[0;34m=\u001b[0m\u001b[0;36m0.20\u001b[0m\u001b[0;34m,\u001b[0m\u001b[0;34m\u001b[0m\u001b[0m\n\u001b[1;32m     11\u001b[0m                       \u001b[0mshuffle\u001b[0m\u001b[0;34m=\u001b[0m\u001b[0mTrue\u001b[0m\u001b[0;34m,\u001b[0m\u001b[0;34m\u001b[0m\u001b[0m\n\u001b[0;32m---> 12\u001b[0;31m                       epochs=epochs)\n\u001b[0m",
      "\u001b[0;32m/usr/local/lib/python2.7/dist-packages/keras/engine/training.pyc\u001b[0m in \u001b[0;36mfit\u001b[0;34m(self, x, y, batch_size, epochs, verbose, callbacks, validation_split, validation_data, shuffle, class_weight, sample_weight, initial_epoch, **kwargs)\u001b[0m\n\u001b[1;32m   1491\u001b[0m                               \u001b[0mval_f\u001b[0m\u001b[0;34m=\u001b[0m\u001b[0mval_f\u001b[0m\u001b[0;34m,\u001b[0m \u001b[0mval_ins\u001b[0m\u001b[0;34m=\u001b[0m\u001b[0mval_ins\u001b[0m\u001b[0;34m,\u001b[0m \u001b[0mshuffle\u001b[0m\u001b[0;34m=\u001b[0m\u001b[0mshuffle\u001b[0m\u001b[0;34m,\u001b[0m\u001b[0;34m\u001b[0m\u001b[0m\n\u001b[1;32m   1492\u001b[0m                               \u001b[0mcallback_metrics\u001b[0m\u001b[0;34m=\u001b[0m\u001b[0mcallback_metrics\u001b[0m\u001b[0;34m,\u001b[0m\u001b[0;34m\u001b[0m\u001b[0m\n\u001b[0;32m-> 1493\u001b[0;31m                               initial_epoch=initial_epoch)\n\u001b[0m\u001b[1;32m   1494\u001b[0m \u001b[0;34m\u001b[0m\u001b[0m\n\u001b[1;32m   1495\u001b[0m     \u001b[0;32mdef\u001b[0m \u001b[0mevaluate\u001b[0m\u001b[0;34m(\u001b[0m\u001b[0mself\u001b[0m\u001b[0;34m,\u001b[0m \u001b[0mx\u001b[0m\u001b[0;34m,\u001b[0m \u001b[0my\u001b[0m\u001b[0;34m,\u001b[0m \u001b[0mbatch_size\u001b[0m\u001b[0;34m=\u001b[0m\u001b[0;36m32\u001b[0m\u001b[0;34m,\u001b[0m \u001b[0mverbose\u001b[0m\u001b[0;34m=\u001b[0m\u001b[0;36m1\u001b[0m\u001b[0;34m,\u001b[0m \u001b[0msample_weight\u001b[0m\u001b[0;34m=\u001b[0m\u001b[0mNone\u001b[0m\u001b[0;34m)\u001b[0m\u001b[0;34m:\u001b[0m\u001b[0;34m\u001b[0m\u001b[0m\n",
      "\u001b[0;32m/usr/local/lib/python2.7/dist-packages/keras/engine/training.pyc\u001b[0m in \u001b[0;36m_fit_loop\u001b[0;34m(self, f, ins, out_labels, batch_size, epochs, verbose, callbacks, val_f, val_ins, shuffle, callback_metrics, initial_epoch)\u001b[0m\n\u001b[1;32m   1145\u001b[0m                 \u001b[0mbatch_logs\u001b[0m\u001b[0;34m[\u001b[0m\u001b[0;34m'size'\u001b[0m\u001b[0;34m]\u001b[0m \u001b[0;34m=\u001b[0m \u001b[0mlen\u001b[0m\u001b[0;34m(\u001b[0m\u001b[0mbatch_ids\u001b[0m\u001b[0;34m)\u001b[0m\u001b[0;34m\u001b[0m\u001b[0m\n\u001b[1;32m   1146\u001b[0m                 \u001b[0mcallbacks\u001b[0m\u001b[0;34m.\u001b[0m\u001b[0mon_batch_begin\u001b[0m\u001b[0;34m(\u001b[0m\u001b[0mbatch_index\u001b[0m\u001b[0;34m,\u001b[0m \u001b[0mbatch_logs\u001b[0m\u001b[0;34m)\u001b[0m\u001b[0;34m\u001b[0m\u001b[0m\n\u001b[0;32m-> 1147\u001b[0;31m                 \u001b[0mouts\u001b[0m \u001b[0;34m=\u001b[0m \u001b[0mf\u001b[0m\u001b[0;34m(\u001b[0m\u001b[0mins_batch\u001b[0m\u001b[0;34m)\u001b[0m\u001b[0;34m\u001b[0m\u001b[0m\n\u001b[0m\u001b[1;32m   1148\u001b[0m                 \u001b[0;32mif\u001b[0m \u001b[0;32mnot\u001b[0m \u001b[0misinstance\u001b[0m\u001b[0;34m(\u001b[0m\u001b[0mouts\u001b[0m\u001b[0;34m,\u001b[0m \u001b[0mlist\u001b[0m\u001b[0;34m)\u001b[0m\u001b[0;34m:\u001b[0m\u001b[0;34m\u001b[0m\u001b[0m\n\u001b[1;32m   1149\u001b[0m                     \u001b[0mouts\u001b[0m \u001b[0;34m=\u001b[0m \u001b[0;34m[\u001b[0m\u001b[0mouts\u001b[0m\u001b[0;34m]\u001b[0m\u001b[0;34m\u001b[0m\u001b[0m\n",
      "\u001b[0;32m/usr/local/lib/python2.7/dist-packages/keras/backend/tensorflow_backend.pyc\u001b[0m in \u001b[0;36m__call__\u001b[0;34m(self, inputs)\u001b[0m\n\u001b[1;32m   2129\u001b[0m         \u001b[0msession\u001b[0m \u001b[0;34m=\u001b[0m \u001b[0mget_session\u001b[0m\u001b[0;34m(\u001b[0m\u001b[0;34m)\u001b[0m\u001b[0;34m\u001b[0m\u001b[0m\n\u001b[1;32m   2130\u001b[0m         updated = session.run(self.outputs + [self.updates_op],\n\u001b[0;32m-> 2131\u001b[0;31m                               feed_dict=feed_dict)\n\u001b[0m\u001b[1;32m   2132\u001b[0m         \u001b[0;32mreturn\u001b[0m \u001b[0mupdated\u001b[0m\u001b[0;34m[\u001b[0m\u001b[0;34m:\u001b[0m\u001b[0mlen\u001b[0m\u001b[0;34m(\u001b[0m\u001b[0mself\u001b[0m\u001b[0;34m.\u001b[0m\u001b[0moutputs\u001b[0m\u001b[0;34m)\u001b[0m\u001b[0;34m]\u001b[0m\u001b[0;34m\u001b[0m\u001b[0m\n\u001b[1;32m   2133\u001b[0m \u001b[0;34m\u001b[0m\u001b[0m\n",
      "\u001b[0;32m/usr/local/lib/python2.7/dist-packages/tensorflow/python/client/session.pyc\u001b[0m in \u001b[0;36mrun\u001b[0;34m(self, fetches, feed_dict, options, run_metadata)\u001b[0m\n\u001b[1;32m    765\u001b[0m     \u001b[0;32mtry\u001b[0m\u001b[0;34m:\u001b[0m\u001b[0;34m\u001b[0m\u001b[0m\n\u001b[1;32m    766\u001b[0m       result = self._run(None, fetches, feed_dict, options_ptr,\n\u001b[0;32m--> 767\u001b[0;31m                          run_metadata_ptr)\n\u001b[0m\u001b[1;32m    768\u001b[0m       \u001b[0;32mif\u001b[0m \u001b[0mrun_metadata\u001b[0m\u001b[0;34m:\u001b[0m\u001b[0;34m\u001b[0m\u001b[0m\n\u001b[1;32m    769\u001b[0m         \u001b[0mproto_data\u001b[0m \u001b[0;34m=\u001b[0m \u001b[0mtf_session\u001b[0m\u001b[0;34m.\u001b[0m\u001b[0mTF_GetBuffer\u001b[0m\u001b[0;34m(\u001b[0m\u001b[0mrun_metadata_ptr\u001b[0m\u001b[0;34m)\u001b[0m\u001b[0;34m\u001b[0m\u001b[0m\n",
      "\u001b[0;32m/usr/local/lib/python2.7/dist-packages/tensorflow/python/client/session.pyc\u001b[0m in \u001b[0;36m_run\u001b[0;34m(self, handle, fetches, feed_dict, options, run_metadata)\u001b[0m\n\u001b[1;32m    963\u001b[0m     \u001b[0;32mif\u001b[0m \u001b[0mfinal_fetches\u001b[0m \u001b[0;32mor\u001b[0m \u001b[0mfinal_targets\u001b[0m\u001b[0;34m:\u001b[0m\u001b[0;34m\u001b[0m\u001b[0m\n\u001b[1;32m    964\u001b[0m       results = self._do_run(handle, final_targets, final_fetches,\n\u001b[0;32m--> 965\u001b[0;31m                              feed_dict_string, options, run_metadata)\n\u001b[0m\u001b[1;32m    966\u001b[0m     \u001b[0;32melse\u001b[0m\u001b[0;34m:\u001b[0m\u001b[0;34m\u001b[0m\u001b[0m\n\u001b[1;32m    967\u001b[0m       \u001b[0mresults\u001b[0m \u001b[0;34m=\u001b[0m \u001b[0;34m[\u001b[0m\u001b[0;34m]\u001b[0m\u001b[0;34m\u001b[0m\u001b[0m\n",
      "\u001b[0;32m/usr/local/lib/python2.7/dist-packages/tensorflow/python/client/session.pyc\u001b[0m in \u001b[0;36m_do_run\u001b[0;34m(self, handle, target_list, fetch_list, feed_dict, options, run_metadata)\u001b[0m\n\u001b[1;32m   1013\u001b[0m     \u001b[0;32mif\u001b[0m \u001b[0mhandle\u001b[0m \u001b[0;32mis\u001b[0m \u001b[0mNone\u001b[0m\u001b[0;34m:\u001b[0m\u001b[0;34m\u001b[0m\u001b[0m\n\u001b[1;32m   1014\u001b[0m       return self._do_call(_run_fn, self._session, feed_dict, fetch_list,\n\u001b[0;32m-> 1015\u001b[0;31m                            target_list, options, run_metadata)\n\u001b[0m\u001b[1;32m   1016\u001b[0m     \u001b[0;32melse\u001b[0m\u001b[0;34m:\u001b[0m\u001b[0;34m\u001b[0m\u001b[0m\n\u001b[1;32m   1017\u001b[0m       return self._do_call(_prun_fn, self._session, handle, feed_dict,\n",
      "\u001b[0;32m/usr/local/lib/python2.7/dist-packages/tensorflow/python/client/session.pyc\u001b[0m in \u001b[0;36m_do_call\u001b[0;34m(self, fn, *args)\u001b[0m\n\u001b[1;32m   1020\u001b[0m   \u001b[0;32mdef\u001b[0m \u001b[0m_do_call\u001b[0m\u001b[0;34m(\u001b[0m\u001b[0mself\u001b[0m\u001b[0;34m,\u001b[0m \u001b[0mfn\u001b[0m\u001b[0;34m,\u001b[0m \u001b[0;34m*\u001b[0m\u001b[0margs\u001b[0m\u001b[0;34m)\u001b[0m\u001b[0;34m:\u001b[0m\u001b[0;34m\u001b[0m\u001b[0m\n\u001b[1;32m   1021\u001b[0m     \u001b[0;32mtry\u001b[0m\u001b[0;34m:\u001b[0m\u001b[0;34m\u001b[0m\u001b[0m\n\u001b[0;32m-> 1022\u001b[0;31m       \u001b[0;32mreturn\u001b[0m \u001b[0mfn\u001b[0m\u001b[0;34m(\u001b[0m\u001b[0;34m*\u001b[0m\u001b[0margs\u001b[0m\u001b[0;34m)\u001b[0m\u001b[0;34m\u001b[0m\u001b[0m\n\u001b[0m\u001b[1;32m   1023\u001b[0m     \u001b[0;32mexcept\u001b[0m \u001b[0merrors\u001b[0m\u001b[0;34m.\u001b[0m\u001b[0mOpError\u001b[0m \u001b[0;32mas\u001b[0m \u001b[0me\u001b[0m\u001b[0;34m:\u001b[0m\u001b[0;34m\u001b[0m\u001b[0m\n\u001b[1;32m   1024\u001b[0m       \u001b[0mmessage\u001b[0m \u001b[0;34m=\u001b[0m \u001b[0mcompat\u001b[0m\u001b[0;34m.\u001b[0m\u001b[0mas_text\u001b[0m\u001b[0;34m(\u001b[0m\u001b[0me\u001b[0m\u001b[0;34m.\u001b[0m\u001b[0mmessage\u001b[0m\u001b[0;34m)\u001b[0m\u001b[0;34m\u001b[0m\u001b[0m\n",
      "\u001b[0;32m/usr/local/lib/python2.7/dist-packages/tensorflow/python/client/session.pyc\u001b[0m in \u001b[0;36m_run_fn\u001b[0;34m(session, feed_dict, fetch_list, target_list, options, run_metadata)\u001b[0m\n\u001b[1;32m   1002\u001b[0m         return tf_session.TF_Run(session, options,\n\u001b[1;32m   1003\u001b[0m                                  \u001b[0mfeed_dict\u001b[0m\u001b[0;34m,\u001b[0m \u001b[0mfetch_list\u001b[0m\u001b[0;34m,\u001b[0m \u001b[0mtarget_list\u001b[0m\u001b[0;34m,\u001b[0m\u001b[0;34m\u001b[0m\u001b[0m\n\u001b[0;32m-> 1004\u001b[0;31m                                  status, run_metadata)\n\u001b[0m\u001b[1;32m   1005\u001b[0m \u001b[0;34m\u001b[0m\u001b[0m\n\u001b[1;32m   1006\u001b[0m     \u001b[0;32mdef\u001b[0m \u001b[0m_prun_fn\u001b[0m\u001b[0;34m(\u001b[0m\u001b[0msession\u001b[0m\u001b[0;34m,\u001b[0m \u001b[0mhandle\u001b[0m\u001b[0;34m,\u001b[0m \u001b[0mfeed_dict\u001b[0m\u001b[0;34m,\u001b[0m \u001b[0mfetch_list\u001b[0m\u001b[0;34m)\u001b[0m\u001b[0;34m:\u001b[0m\u001b[0;34m\u001b[0m\u001b[0m\n",
      "\u001b[0;31mKeyboardInterrupt\u001b[0m: "
     ]
    }
   ],
   "source": [
    "house_price_model.fit(x={'locality_input': np.concatenate((train_split_df_locality_features, val_split_df_locality_features), axis=0), \n",
    "                       'continuous_input': np.concatenate((train_split_df_continuous_features, val_split_df_continuous_features), axis=0),\n",
    "                       'state_input' : np.concatenate((train_split_df_categorical_features['state_refractored'], val_split_df_categorical_features['state_refractored']), axis=0),\n",
    "                       'material_input' : np.concatenate((train_split_df_categorical_features['material'], val_split_df_categorical_features['material']), axis=0),\n",
    "                       'sub_area_input' : np.concatenate((train_split_df_categorical_features['sub_area'], val_split_df_categorical_features['sub_area']), axis=0)\n",
    "                      },\n",
    "                      y = np.concatenate((train_split_df['price_doc'].values, val_split_df['price_doc'].values), 0),\n",
    "                      callbacks=callbacks,\n",
    "                      verbose = 2,\n",
    "                      validation_split=0.20,\n",
    "                      shuffle=True,\n",
    "                      epochs=epochs)"
   ]
  },
  {
   "cell_type": "code",
   "execution_count": 110,
   "metadata": {
    "collapsed": true
   },
   "outputs": [],
   "source": [
    "house_price_model.load_weights('/mnt/h/Kaggle/Competitions/Russian Bank/models/v0/weights.11-0.26.hdf5')"
   ]
  },
  {
   "cell_type": "code",
   "execution_count": 113,
   "metadata": {
    "collapsed": false
   },
   "outputs": [
    {
     "data": {
      "text/html": [
       "<div>\n",
       "<table border=\"1\" class=\"dataframe\">\n",
       "  <thead>\n",
       "    <tr style=\"text-align: right;\">\n",
       "      <th></th>\n",
       "      <th>full_sq</th>\n",
       "      <th>kitch_sq</th>\n",
       "      <th>floor</th>\n",
       "      <th>life_sq</th>\n",
       "      <th>build_year</th>\n",
       "      <th>railroad_km</th>\n",
       "      <th>metro_min_avto</th>\n",
       "      <th>green_zone_km</th>\n",
       "      <th>kindergarten_km</th>\n",
       "      <th>num_room</th>\n",
       "      <th>...</th>\n",
       "      <th>green_part_1000_scaled_feature</th>\n",
       "      <th>church_synagogue_km_scaled_feature</th>\n",
       "      <th>big_church_km_scaled_feature</th>\n",
       "      <th>green_part_1500_scaled_feature</th>\n",
       "      <th>incineration_km_scaled_feature</th>\n",
       "      <th>industrial_km_scaled_feature</th>\n",
       "      <th>nuclear_reactor_km_scaled_feature</th>\n",
       "      <th>material_scaled_feature</th>\n",
       "      <th>state_refractored_scaled_feature</th>\n",
       "      <th>sub_area_scaled_feature</th>\n",
       "    </tr>\n",
       "  </thead>\n",
       "  <tbody>\n",
       "    <tr>\n",
       "      <th>9834</th>\n",
       "      <td>37</td>\n",
       "      <td>7.0</td>\n",
       "      <td>6.0</td>\n",
       "      <td>19.0</td>\n",
       "      <td>2005.0</td>\n",
       "      <td>1.957592</td>\n",
       "      <td>1.614250</td>\n",
       "      <td>0.820522</td>\n",
       "      <td>0.128803</td>\n",
       "      <td>1.0</td>\n",
       "      <td>...</td>\n",
       "      <td>-0.999843</td>\n",
       "      <td>1.425651</td>\n",
       "      <td>-0.094035</td>\n",
       "      <td>-0.651228</td>\n",
       "      <td>-1.189135</td>\n",
       "      <td>-0.116983</td>\n",
       "      <td>0.565621</td>\n",
       "      <td>[0.0, 1.0, 0.0, 0.0, 0.0, 0.0, 0.0]</td>\n",
       "      <td>[0.0, 0.0, 1.0, 0.0, 0.0, 0.0]</td>\n",
       "      <td>45</td>\n",
       "    </tr>\n",
       "    <tr>\n",
       "      <th>14575</th>\n",
       "      <td>33</td>\n",
       "      <td>9.0</td>\n",
       "      <td>7.0</td>\n",
       "      <td>17.0</td>\n",
       "      <td>1969.0</td>\n",
       "      <td>0.537434</td>\n",
       "      <td>1.150791</td>\n",
       "      <td>0.077744</td>\n",
       "      <td>0.063817</td>\n",
       "      <td>1.0</td>\n",
       "      <td>...</td>\n",
       "      <td>-0.525153</td>\n",
       "      <td>-1.040911</td>\n",
       "      <td>-0.614657</td>\n",
       "      <td>-0.951932</td>\n",
       "      <td>0.508119</td>\n",
       "      <td>0.387158</td>\n",
       "      <td>-1.064232</td>\n",
       "      <td>[0.0, 0.0, 0.0, 0.0, 0.0, 1.0, 0.0]</td>\n",
       "      <td>[1.0, 0.0, 0.0, 0.0, 0.0, 0.0]</td>\n",
       "      <td>29</td>\n",
       "    </tr>\n",
       "    <tr>\n",
       "      <th>15018</th>\n",
       "      <td>40</td>\n",
       "      <td>0.0</td>\n",
       "      <td>11.0</td>\n",
       "      <td>0.0</td>\n",
       "      <td>0.0</td>\n",
       "      <td>1.686871</td>\n",
       "      <td>2.596394</td>\n",
       "      <td>0.214336</td>\n",
       "      <td>1.170413</td>\n",
       "      <td>1.0</td>\n",
       "      <td>...</td>\n",
       "      <td>1.217904</td>\n",
       "      <td>0.469289</td>\n",
       "      <td>-0.335492</td>\n",
       "      <td>1.238203</td>\n",
       "      <td>1.272490</td>\n",
       "      <td>-0.907235</td>\n",
       "      <td>0.938649</td>\n",
       "      <td>[0.0, 1.0, 0.0, 0.0, 0.0, 0.0, 0.0]</td>\n",
       "      <td>[1.0, 0.0, 0.0, 0.0, 0.0, 0.0]</td>\n",
       "      <td>103</td>\n",
       "    </tr>\n",
       "    <tr>\n",
       "      <th>1215</th>\n",
       "      <td>37</td>\n",
       "      <td>0.0</td>\n",
       "      <td>11.0</td>\n",
       "      <td>16.0</td>\n",
       "      <td>0.0</td>\n",
       "      <td>1.855308</td>\n",
       "      <td>2.177926</td>\n",
       "      <td>0.065910</td>\n",
       "      <td>0.291386</td>\n",
       "      <td>0.0</td>\n",
       "      <td>...</td>\n",
       "      <td>-0.940593</td>\n",
       "      <td>-0.075855</td>\n",
       "      <td>0.135646</td>\n",
       "      <td>-0.849819</td>\n",
       "      <td>0.326067</td>\n",
       "      <td>2.086563</td>\n",
       "      <td>-0.894526</td>\n",
       "      <td>[1.0, 0.0, 0.0, 0.0, 0.0, 0.0, 0.0]</td>\n",
       "      <td>[1.0, 0.0, 0.0, 0.0, 0.0, 0.0]</td>\n",
       "      <td>109</td>\n",
       "    </tr>\n",
       "    <tr>\n",
       "      <th>7636</th>\n",
       "      <td>43</td>\n",
       "      <td>0.0</td>\n",
       "      <td>8.0</td>\n",
       "      <td>0.0</td>\n",
       "      <td>0.0</td>\n",
       "      <td>1.632706</td>\n",
       "      <td>3.253826</td>\n",
       "      <td>0.354124</td>\n",
       "      <td>0.128175</td>\n",
       "      <td>0.0</td>\n",
       "      <td>...</td>\n",
       "      <td>0.671562</td>\n",
       "      <td>-0.434085</td>\n",
       "      <td>-0.567126</td>\n",
       "      <td>0.440318</td>\n",
       "      <td>-0.874026</td>\n",
       "      <td>0.435830</td>\n",
       "      <td>-1.077061</td>\n",
       "      <td>[1.0, 0.0, 0.0, 0.0, 0.0, 0.0, 0.0]</td>\n",
       "      <td>[1.0, 0.0, 0.0, 0.0, 0.0, 0.0]</td>\n",
       "      <td>80</td>\n",
       "    </tr>\n",
       "    <tr>\n",
       "      <th>6092</th>\n",
       "      <td>116</td>\n",
       "      <td>0.0</td>\n",
       "      <td>13.0</td>\n",
       "      <td>70.0</td>\n",
       "      <td>0.0</td>\n",
       "      <td>1.106429</td>\n",
       "      <td>10.744654</td>\n",
       "      <td>0.000000</td>\n",
       "      <td>0.089663</td>\n",
       "      <td>0.0</td>\n",
       "      <td>...</td>\n",
       "      <td>-0.020149</td>\n",
       "      <td>0.945246</td>\n",
       "      <td>-0.043772</td>\n",
       "      <td>-0.455454</td>\n",
       "      <td>0.297044</td>\n",
       "      <td>0.547003</td>\n",
       "      <td>-0.405206</td>\n",
       "      <td>[1.0, 0.0, 0.0, 0.0, 0.0, 0.0, 0.0]</td>\n",
       "      <td>[1.0, 0.0, 0.0, 0.0, 0.0, 0.0]</td>\n",
       "      <td>51</td>\n",
       "    </tr>\n",
       "    <tr>\n",
       "      <th>19319</th>\n",
       "      <td>34</td>\n",
       "      <td>7.0</td>\n",
       "      <td>5.0</td>\n",
       "      <td>17.0</td>\n",
       "      <td>1955.0</td>\n",
       "      <td>0.637758</td>\n",
       "      <td>1.370650</td>\n",
       "      <td>0.161826</td>\n",
       "      <td>0.455536</td>\n",
       "      <td>1.0</td>\n",
       "      <td>...</td>\n",
       "      <td>-0.648476</td>\n",
       "      <td>1.144598</td>\n",
       "      <td>-0.168376</td>\n",
       "      <td>-1.085030</td>\n",
       "      <td>0.158253</td>\n",
       "      <td>-0.391341</td>\n",
       "      <td>-0.304718</td>\n",
       "      <td>[0.0, 1.0, 0.0, 0.0, 0.0, 0.0, 0.0]</td>\n",
       "      <td>[0.0, 0.0, 1.0, 0.0, 0.0, 0.0]</td>\n",
       "      <td>129</td>\n",
       "    </tr>\n",
       "    <tr>\n",
       "      <th>23284</th>\n",
       "      <td>31</td>\n",
       "      <td>5.0</td>\n",
       "      <td>5.0</td>\n",
       "      <td>21.0</td>\n",
       "      <td>1967.0</td>\n",
       "      <td>0.037588</td>\n",
       "      <td>1.611313</td>\n",
       "      <td>0.108827</td>\n",
       "      <td>0.126053</td>\n",
       "      <td>2.0</td>\n",
       "      <td>...</td>\n",
       "      <td>-0.929570</td>\n",
       "      <td>-1.035338</td>\n",
       "      <td>-0.682632</td>\n",
       "      <td>-1.088551</td>\n",
       "      <td>0.127561</td>\n",
       "      <td>-0.402791</td>\n",
       "      <td>-0.294378</td>\n",
       "      <td>[0.0, 0.0, 0.0, 0.0, 0.0, 1.0, 0.0]</td>\n",
       "      <td>[0.0, 0.0, 0.0, 1.0, 0.0, 0.0]</td>\n",
       "      <td>6</td>\n",
       "    </tr>\n",
       "    <tr>\n",
       "      <th>29822</th>\n",
       "      <td>53</td>\n",
       "      <td>1.0</td>\n",
       "      <td>3.0</td>\n",
       "      <td>0.0</td>\n",
       "      <td>0.0</td>\n",
       "      <td>0.663572</td>\n",
       "      <td>32.400256</td>\n",
       "      <td>0.556235</td>\n",
       "      <td>23.526686</td>\n",
       "      <td>2.0</td>\n",
       "      <td>...</td>\n",
       "      <td>1.634033</td>\n",
       "      <td>9.691475</td>\n",
       "      <td>6.463573</td>\n",
       "      <td>3.367774</td>\n",
       "      <td>5.167325</td>\n",
       "      <td>7.161745</td>\n",
       "      <td>4.961127</td>\n",
       "      <td>[0.0, 1.0, 0.0, 0.0, 0.0, 0.0, 0.0]</td>\n",
       "      <td>[1.0, 0.0, 0.0, 0.0, 0.0, 0.0]</td>\n",
       "      <td>96</td>\n",
       "    </tr>\n",
       "    <tr>\n",
       "      <th>10903</th>\n",
       "      <td>32</td>\n",
       "      <td>6.0</td>\n",
       "      <td>7.0</td>\n",
       "      <td>19.0</td>\n",
       "      <td>1969.0</td>\n",
       "      <td>0.210546</td>\n",
       "      <td>5.017302</td>\n",
       "      <td>0.497769</td>\n",
       "      <td>0.191126</td>\n",
       "      <td>1.0</td>\n",
       "      <td>...</td>\n",
       "      <td>-0.739418</td>\n",
       "      <td>1.175750</td>\n",
       "      <td>-0.131558</td>\n",
       "      <td>-1.049819</td>\n",
       "      <td>-1.370275</td>\n",
       "      <td>-0.777619</td>\n",
       "      <td>-0.978441</td>\n",
       "      <td>[0.0, 1.0, 0.0, 0.0, 0.0, 0.0, 0.0]</td>\n",
       "      <td>[1.0, 0.0, 0.0, 0.0, 0.0, 0.0]</td>\n",
       "      <td>3</td>\n",
       "    </tr>\n",
       "  </tbody>\n",
       "</table>\n",
       "<p>10 rows × 109 columns</p>\n",
       "</div>"
      ],
      "text/plain": [
       "       full_sq  kitch_sq  floor  life_sq  build_year  railroad_km  \\\n",
       "9834        37       7.0    6.0     19.0      2005.0     1.957592   \n",
       "14575       33       9.0    7.0     17.0      1969.0     0.537434   \n",
       "15018       40       0.0   11.0      0.0         0.0     1.686871   \n",
       "1215        37       0.0   11.0     16.0         0.0     1.855308   \n",
       "7636        43       0.0    8.0      0.0         0.0     1.632706   \n",
       "6092       116       0.0   13.0     70.0         0.0     1.106429   \n",
       "19319       34       7.0    5.0     17.0      1955.0     0.637758   \n",
       "23284       31       5.0    5.0     21.0      1967.0     0.037588   \n",
       "29822       53       1.0    3.0      0.0         0.0     0.663572   \n",
       "10903       32       6.0    7.0     19.0      1969.0     0.210546   \n",
       "\n",
       "       metro_min_avto  green_zone_km  kindergarten_km  num_room  \\\n",
       "9834         1.614250       0.820522         0.128803       1.0   \n",
       "14575        1.150791       0.077744         0.063817       1.0   \n",
       "15018        2.596394       0.214336         1.170413       1.0   \n",
       "1215         2.177926       0.065910         0.291386       0.0   \n",
       "7636         3.253826       0.354124         0.128175       0.0   \n",
       "6092        10.744654       0.000000         0.089663       0.0   \n",
       "19319        1.370650       0.161826         0.455536       1.0   \n",
       "23284        1.611313       0.108827         0.126053       2.0   \n",
       "29822       32.400256       0.556235        23.526686       2.0   \n",
       "10903        5.017302       0.497769         0.191126       1.0   \n",
       "\n",
       "                ...             green_part_1000_scaled_feature  \\\n",
       "9834            ...                                  -0.999843   \n",
       "14575           ...                                  -0.525153   \n",
       "15018           ...                                   1.217904   \n",
       "1215            ...                                  -0.940593   \n",
       "7636            ...                                   0.671562   \n",
       "6092            ...                                  -0.020149   \n",
       "19319           ...                                  -0.648476   \n",
       "23284           ...                                  -0.929570   \n",
       "29822           ...                                   1.634033   \n",
       "10903           ...                                  -0.739418   \n",
       "\n",
       "       church_synagogue_km_scaled_feature  big_church_km_scaled_feature  \\\n",
       "9834                             1.425651                     -0.094035   \n",
       "14575                           -1.040911                     -0.614657   \n",
       "15018                            0.469289                     -0.335492   \n",
       "1215                            -0.075855                      0.135646   \n",
       "7636                            -0.434085                     -0.567126   \n",
       "6092                             0.945246                     -0.043772   \n",
       "19319                            1.144598                     -0.168376   \n",
       "23284                           -1.035338                     -0.682632   \n",
       "29822                            9.691475                      6.463573   \n",
       "10903                            1.175750                     -0.131558   \n",
       "\n",
       "       green_part_1500_scaled_feature  incineration_km_scaled_feature  \\\n",
       "9834                        -0.651228                       -1.189135   \n",
       "14575                       -0.951932                        0.508119   \n",
       "15018                        1.238203                        1.272490   \n",
       "1215                        -0.849819                        0.326067   \n",
       "7636                         0.440318                       -0.874026   \n",
       "6092                        -0.455454                        0.297044   \n",
       "19319                       -1.085030                        0.158253   \n",
       "23284                       -1.088551                        0.127561   \n",
       "29822                        3.367774                        5.167325   \n",
       "10903                       -1.049819                       -1.370275   \n",
       "\n",
       "       industrial_km_scaled_feature nuclear_reactor_km_scaled_feature  \\\n",
       "9834                      -0.116983                          0.565621   \n",
       "14575                      0.387158                         -1.064232   \n",
       "15018                     -0.907235                          0.938649   \n",
       "1215                       2.086563                         -0.894526   \n",
       "7636                       0.435830                         -1.077061   \n",
       "6092                       0.547003                         -0.405206   \n",
       "19319                     -0.391341                         -0.304718   \n",
       "23284                     -0.402791                         -0.294378   \n",
       "29822                      7.161745                          4.961127   \n",
       "10903                     -0.777619                         -0.978441   \n",
       "\n",
       "                   material_scaled_feature  state_refractored_scaled_feature  \\\n",
       "9834   [0.0, 1.0, 0.0, 0.0, 0.0, 0.0, 0.0]    [0.0, 0.0, 1.0, 0.0, 0.0, 0.0]   \n",
       "14575  [0.0, 0.0, 0.0, 0.0, 0.0, 1.0, 0.0]    [1.0, 0.0, 0.0, 0.0, 0.0, 0.0]   \n",
       "15018  [0.0, 1.0, 0.0, 0.0, 0.0, 0.0, 0.0]    [1.0, 0.0, 0.0, 0.0, 0.0, 0.0]   \n",
       "1215   [1.0, 0.0, 0.0, 0.0, 0.0, 0.0, 0.0]    [1.0, 0.0, 0.0, 0.0, 0.0, 0.0]   \n",
       "7636   [1.0, 0.0, 0.0, 0.0, 0.0, 0.0, 0.0]    [1.0, 0.0, 0.0, 0.0, 0.0, 0.0]   \n",
       "6092   [1.0, 0.0, 0.0, 0.0, 0.0, 0.0, 0.0]    [1.0, 0.0, 0.0, 0.0, 0.0, 0.0]   \n",
       "19319  [0.0, 1.0, 0.0, 0.0, 0.0, 0.0, 0.0]    [0.0, 0.0, 1.0, 0.0, 0.0, 0.0]   \n",
       "23284  [0.0, 0.0, 0.0, 0.0, 0.0, 1.0, 0.0]    [0.0, 0.0, 0.0, 1.0, 0.0, 0.0]   \n",
       "29822  [0.0, 1.0, 0.0, 0.0, 0.0, 0.0, 0.0]    [1.0, 0.0, 0.0, 0.0, 0.0, 0.0]   \n",
       "10903  [0.0, 1.0, 0.0, 0.0, 0.0, 0.0, 0.0]    [1.0, 0.0, 0.0, 0.0, 0.0, 0.0]   \n",
       "\n",
       "       sub_area_scaled_feature  \n",
       "9834                        45  \n",
       "14575                       29  \n",
       "15018                      103  \n",
       "1215                       109  \n",
       "7636                        80  \n",
       "6092                        51  \n",
       "19319                      129  \n",
       "23284                        6  \n",
       "29822                       96  \n",
       "10903                        3  \n",
       "\n",
       "[10 rows x 109 columns]"
      ]
     },
     "execution_count": 113,
     "metadata": {},
     "output_type": "execute_result"
    }
   ],
   "source": [
    "test_split_df[:10]"
   ]
  },
  {
   "cell_type": "code",
   "execution_count": 116,
   "metadata": {
    "collapsed": false
   },
   "outputs": [],
   "source": [
    "test_locality, test_continuous, test_cat = format_input(test_split_df[:10])\n",
    "test_preds = house_price_model.predict({'locality_input': test_locality, \n",
    "                       'continuous_input': test_continuous,\n",
    "                       'state_input' : test_cat['state_refractored'],\n",
    "                       'material_input' : test_cat['material'],\n",
    "                       'sub_area_input' : test_cat['sub_area']\n",
    "                      })\n",
    "test_actuals = test_split_df[:10].price_doc.values"
   ]
  },
  {
   "cell_type": "code",
   "execution_count": 122,
   "metadata": {
    "collapsed": false
   },
   "outputs": [
    {
     "data": {
      "text/plain": [
       "[(5200000, 5537588.0),\n",
       " (9500000, 11733996.0),\n",
       " (4317880, 5418635.0),\n",
       " (1000000, 7600478.0),\n",
       " (3984584, 5914595.0),\n",
       " (15500000, 13758412.0),\n",
       " (5600000, 4990829.0),\n",
       " (8500000, 8578904.0),\n",
       " (3175380, 3498355.5),\n",
       " (4850000, 5653930.0)]"
      ]
     },
     "execution_count": 122,
     "metadata": {},
     "output_type": "execute_result"
    }
   ],
   "source": [
    "zip(test_actuals, test_preds.ravel())"
   ]
  },
  {
   "cell_type": "code",
   "execution_count": 125,
   "metadata": {
    "collapsed": false
   },
   "outputs": [
    {
     "name": "stdout",
     "output_type": "stream",
     "text": [
      "6095/6095 [==============================] - 3s      \b\b\b\b\b\b\b\b\b\b\b\b\b\b\b\b\b\b\b\b\b\b\b\b\b\b\b\b\b\b\b\b\b\b\b\b\b\b\b\b\b\b\b\b\b\b\b\b\b\b\b\b\b\b\b\b\b\b\b\b\b\b\b\b\b\b\b\b\b\b\b\b\b\b\b\b\b\b\b\b\b\b\b\b\b\b\b\b\b\b\b\b\b\b\b\b\b\b\b\b\b\b\b\b\b\b\b\b\b\b\b\b\b\b\b\b\b\b\b\b\b\b\b\b\b\b\b\b\b\b\b\b\b\b\b\b\b\b\b\b\b\b\b\b\b\b\b\b\b\b\b\b\b\b\b\b\b\b\b\b\b\b\b\b\b\b\b\b\b\b\b\b\b\b\b\b\b\b\b\b\b\b\b\b\b\b\b\b\b\b\b\b\b\b\b\b\b\b\b\b\b\b\b\b\b\b\b\b\b\b\b\b\b\b\b\b\b\b\b\b\b\b\b\b\b\b\b\b\b\b\b\b\b\b\b\b\b\b\b\b\b\b\b\b\b\b\b\b\b\b\b\b\b\b\b\b\b\b\b\b\b\b\b\b\b\b\b\b\b\b\b\b\b\b\b\b\b\b\b\b\b\b\b\b\b\b\b\b\b\b\b\b\b\b\b\b\b\b\b\b\b\b\b\b\b\b\b\b\b\b\b\b\b\b\b\b\b\b\b\b\b\b\b\b\b\b\b\b\b\b\b\b\b\b\b\b\b\b\b\b\b\b\b\b\b\b\b\b\b\b\b\b\b\b\b\b\b\b\b\b\b\b\b\b\b\b\b\b\b\b\b\b\b\b\b\b\b\b\b\b\b\b\b\b\b\b\b\b\b\b\b\b\b\b\b\b\b\b\b\b\b\b\b\b\b\b\b\b\b\b\b\b\b\b\b\b\b\b\b\b\b\b\b\b\b\b\b\b\b\b\b\b\b\b\b\b\b\b\b\b\b\b\b\b\b\b\b\b\b\b\b\b\b\b\b\b\b\b\b\b\b\b\b\b\b\b\b\b\b\b\b\b\b\b\b\b\b\b\b\b\b\b\b\b\b\b\b\b\b\b\b\b\b\b\b\b\b\b\b\b\b\b\b\b\b\b\b\b\b\b\b\b\b\b\b\b\b\b\b\b\b\b\b\b\b\b\b\b\b\b\b\b\b\b\b\b\b\b\b\b\b\b\b\b\b\b\b\b\b\b\b\b\b\b\b\b\b\b\b\b\b\b\b\b\b\b\b\b\b\b\b\b\b\b\b\b\b\b\b\b\b\b\b\b\b\b\b\b\b\b\b\b\b\b\b\b\b\b\b\b\b\b\b\b\b\b\b\b\b\b\b\b\b\b\b\b\b\b\b\b\b\b\b\b\b\b\b\b\b\b\b\b\b\b\b\b\b\b\b\b\b\b\b\b\b\b\b\b\b\b\b\b\b\b\b\b\b\b\b\b\b\b\b\b\b\b\b\b\b\b\b\b\b\b\b\b\b\b\b\b\b\b\b\b\b\b\b\b\b\b\b\b\b\b\b\b\b\b\b\b\b\b\b\b\b\b\b\b\b\b\b\b\b\b\b\b\b\b\b\b\b\b\b\b\b\b\b\b\b\b\b\b\b\b\b\b\b\b\b\b\b\b\b\b\b\b\b\b\b\b\b\b\b\b\b\b\b\b\b\b\b\b\b\b\b\b\b\b\b\b\b\b\b\b\b\b\b\b\b\b\b\b\b\b\b\b\b\b\b\b\b\b\b\b\b\b\b\b\b\b\b\b\b\b\b\b\b\b\b\b\b\b\b\b\b\b\b\b\b\b\b\b\b\b\b\b\b\b\b\b\b\b\b\b\b\b\b\b\b\b\b\b\b\b\b\b\b\b\b\b\b\b\b\b\b\b\b\b\b\b\b\b\b\b\b\b\b\b\b\b\b\b\b\b\b\b\b\b\b\b\b\b\b\b\b\b\b\b\b\b\b\b\b\b\b\b\b\b\b\b\b\b\b\b\b\b\b\b\b\b\b\b\b\b\b\b\b\b\b\b\b\b\b\b\b\b\b\b\b\b\b\b\b\b\b\b\b\b\b\b\b\b\b\b\b\b\b\b\b\b\b\b\b\b\b\b\b\b\b\b\b\b\b\b\b\b\b\b\b\b\b\b\b\b\b\b\b\b\b\b\b\b\b\b\b\b\b\b\b\b\b\b\b\b\b\b\b\b\b\b\b\b\b\b\b\b\b\b\b\b\b\b\b\b\b\b\b\b\b\b\b\b\b\b\b\b\b\b\b\b\b\b\b\b\b\b\b\b\b\b\b\b\b\b\b\b\b\b\b\b\b\b\b\b\b\b\b\b\b\b\b\b\b\b\b\b\b\b\b\b\b\b\b\b\b\b\b\b\b\b\b\b\b\b\b\b\b\b\b\b\b\b\b\b\b\b\b\b\b\b\b\b\b\b\b\b\b\b\b\b\b\b\b\b\b\b\b\b\b\b\b\b\b\b\b\b\b\b\b\b\b\b\b\b\b\b\b\b\b\b\b\b\b\b\b\b\b\b\b\b\b\b\b\b\b\b\b\b\b\b\b\b\b\b\b\b\b\b\b\b\b\b\b\b\b\b\b\b\b\b\b\b\b\b\b\b\b\b\b\b\b\b\b\b\b\b\b\b\b\b\b\b\b\b\b\b\b\b\b\b\b\b\b\b\b\b\b\b\b\b\b\b\b\b\b\b\b\b\b\b\b\b\b\b\b\b\b\b\b\b\b\b\b\b\b\b\b\b\b\b\b\b\b\b\b\b\b\b\b\b\b\b\b\b\b\b\b\b\b\b\b\b\b\b\b\b\b\b\b\b\b\b\b\b\b\b\b\b\b\b\b\b\b\b\b\b\b\b\b\b\b\b\b\b\b\b\b\b\b\b\b\b\b\b\b\b\b\b\b\b\b\b\b\b\b\b\b\b\b\b\b\b\b\b\b\b\b\b\b\b\b\b\b\b\b\b\b\b\b\b\b\b\b\b\b\b\b\b\b\b\b\b\b\b\b\b\b\b\b\b\b\b\b\b\b\b\b\b\b\b\b\b\b\b\b\b\b\b\b\b\b\b\b\b\b\b\b\b\b\b\b\b\b\b\b\b\b\b\b\b\b\b\b\b\b\b\b\b\b\b\b\b\b\b\b\b\b\b\b\b\b\b\b\b\b\b\b\b\b\b\b\b\b\b\b\b\b\b\b\b\b\b\b\b\b\b\b\b\b\b\b\b\b\b\b\b\b\b\b\b\b\b\b\b\b\b\b\b\b\b\b\b\b\b\b\b\b\b\b\b\b\b\b\b\b\b\b\b\b\b\b\b\b\b\b\b\b\b\b\b\b\b\b\b\b\b\b\b\b\b\b\b\b\b\b\b\b\b\b\b\b\b\b\b\b\b\b\b\b\b\b\b\b\b\b\b\b\b\b\b\b\b\b\b\b\b\b\b\b\b\b\b\b\b\b\b\b\b\b\b\b\b\b\b\b\b\b\b\b\b\b\b\b\b\b\b\b\b\b\b\b\b\b\b\b\b\b\b\b\b\b\b\b\b\b\b\b\b\b\b\b\b\b\b\b\b\b\b\b\b\b\b\b\b\b\b\b\b\b\b\b\b\b\b\b\b\b\b\b\b\b\b\b\b\b\b\b\b\b\b\b\b\b\b\b\b\b\b\b\b\b\b\b\b\b\b\b\b\b\b\b\b\b\b\b\b\b\b\b\b\b\b\b\b\b\b\b\b\b\b\b\b\b\b\b\b\b\b\b\b\b\b\b\b\b\b\b\b\b\b\b\b\b\b\b\b\b\b\b\b\b\b\b\b\b\b\b\b\b\b\b\b\b\b\b\b\b\b\b\b\b\b\b\b\b\b\b\b\b\b\b\b\b\b\b\b\b\b\b\b\b\b\b\b\b\b\b\b\b\b\b\b\b\b\b\b\b\b\b\b\b\b\b\b\b\b\b\b\b\b\b\b\b\b\b\b\b\b\b\b\b\b\b\b\b\b\b\b\b\b\b\b\b\b\b\b\b\b\b\b\b\b\b\b\b\b\b\b\b\b\b\b\b\b\b\b\b\b\b\b\b\b\b\b\b\b\b\b\b\b\b\b\b\b\b\b\b\b\b\b\b\b\b\b\b\b\b\b\b\b\b\b\b\b\b\b\b\b\b\b\b\b\b\b\b\b\b\b\b\b\b\b\b\b\b\b\b\b\b\b\b\b\b\b\b\b\b\b\b\b\b\b\b\b\b\b\b\b\b\b\b\b\b\b\b\b\b\b\b\b\b\b\b\b\b\b\b\b\b\b\b\b\b\b\b\b\b\b\b\b\b\b\b\b\b\b\b\b\b\b\b\b\b\b\b\b\b\b\b\b\b\b\b\b\b\b\b\b\b\b\b\b\b\b\b\b\b\b\b\b\b\b\b\b\b\b\b\b\b\b\b\b\b\b\b\b\b\b\b\b\b\b\b\b\b\b\b\b\b\b\b\b\b\b\b\b\b\b\b\b\b\b\b\b\b\b\b\b\b\b\b\b\b\b\b\b\b\b\b\b\b\b\b\b\b\b\b\b\b\b\b\b\b\b\b\b\b\b\b\b\b\b\b\b\b\b\b\b\b\b\b\b\b\b\b\b\b\b\b\b\b\b\b\b\b\b\b\b\b\b\b\b\b\b\b\b\b\b\b\b\b\b\b\b\b\b\b\b\b\b\b\b\b\b\b\b\b\b\b\b\b\b\b\b\b\b\b\b\b\b\b\b\b\b\b\b\b\b\b\b\b\b\b\b\b\b\b\b\b\b\b\b\b\b\b\b\b\b\b\b\b\b\b\b\b\b\b\b\b\b\b\b\b\b\b\b\b\b\b\b\b\b\b\b\b\b\b\b\b\b\b\b\b\b\b\b\b\b\b\b\b\b\b\b\b\b\b\b\b\b\b\b\b\b\b\b\b\b\b\b\b\b\b\b\b\b\b\b\b\b\b\b\b\b\b\b\b\b\b\b\b\b\b\b\b\b\b\b\b\b\b\b\b\b\b\b\b\b\b\b\b\b\b\b\b\b\b\b\b\b\b\b\b\b\b\b\b\b\b\b\b\b\b\b\b\b\b\b\b\b\b\b\b\b\b\b\b\b\b\b\b\b\b\b\b\b\b\b\b\b\b\b\b\b\b\b\b\b\b\b\b\b\b\b\b\b\b\b\b\b\b\b\b\b\b\b\b\b\b\b\b\b\b\b\b\b\b\b\b\b\b\b\b\b\b\b\b\b\b\b\b\b\b\b\b\b\b\b\b\b\b\b\b\b\b\b\b\b\b\b\b\b\b\b\b\b\b\b\b\b\b\b\b\b\b\b\b\b\b\b\b\b\b\b\b\b\b\b\b\b\b\b\b\b\b\b\b\b\b\b\b\b\b\b\b\b\b\b\b\b\b\b\b\b\b\b\b\b\b\b\b\b\b\b\b\b\b\b\b\b\b\b\b\b\b\b\b\b\b\b\b\b\b\b\b\b\b\b\b\b\b\b\b\b\b\b\b\b\b\b\b\b\b\b\b\b\b\b\b\b\b\b\b\b\b\b\b\b\b\b\b\b\b\b\b\b\b\b\b\b\b\b\b\b\b\b\b\b\b\b\b\b\b\b\b\b\b\b\b\b\b\b\b\b\b\b\b\b\b\b\b\b\b\b\b\b\b\b\b\b\b\b\b\b\b\b\b\b\b\b\b\b\b\b\b\b\b\b\b\b\b\b\b\b\b\b\b\b\b\b\b\b\b\b\b\b\b\b\b\b\b\b\b\b\b\b\b\b\b\b\b\b\b\b\b\b\b\b\b\b\b\b\b\b\b\b\b\b\b\b\b\b\b\b\b\b\b\b\b\b\b\b\b\b\b\b\b\b\b\b\b\b\b\b\b\b\b\b\b\b\b\b\b\b\b\b\b\b\b\b\b\b\b\b\b\b\b\b\b\b\b\b\b\b\b\b\b\b\b\b\b\b\b\b\b\b\b\b\b\b\b\b\b\b\b\b\n"
     ]
    }
   ],
   "source": [
    "test_locality, test_continuous, test_cat = format_input(test_split_df)\n",
    "test_eval = house_price_model.evaluate(x={'locality_input': test_locality, \n",
    "                       'continuous_input': test_continuous,\n",
    "                       'state_input' : test_cat['state_refractored'],\n",
    "                       'material_input' : test_cat['material'],\n",
    "                       'sub_area_input' : test_cat['sub_area']\n",
    "                      },\n",
    "                      y = test_split_df.price_doc.values,\n",
    "                                      verbose = 0)\n",
    "test_actuals = test_split_df.price_doc.values"
   ]
  },
  {
   "cell_type": "code",
   "execution_count": 126,
   "metadata": {
    "collapsed": false
   },
   "outputs": [
    {
     "data": {
      "text/plain": [
       "0.26461586624114997"
      ]
     },
     "execution_count": 126,
     "metadata": {},
     "output_type": "execute_result"
    }
   ],
   "source": [
    "test_eval # WOW! AMAZING!!! An error of 0.2646"
   ]
  },
  {
   "cell_type": "code",
   "execution_count": 143,
   "metadata": {
    "collapsed": true
   },
   "outputs": [],
   "source": [
    "kaggle_test = pd.read_csv(\"/mnt/h/Kaggle/Competitions/Russian Bank/data/test.csv/test.csv\")"
   ]
  },
  {
   "cell_type": "code",
   "execution_count": 144,
   "metadata": {
    "collapsed": false
   },
   "outputs": [
    {
     "data": {
      "text/html": [
       "<div>\n",
       "<table border=\"1\" class=\"dataframe\">\n",
       "  <thead>\n",
       "    <tr style=\"text-align: right;\">\n",
       "      <th></th>\n",
       "      <th>id</th>\n",
       "      <th>timestamp</th>\n",
       "      <th>full_sq</th>\n",
       "      <th>life_sq</th>\n",
       "      <th>floor</th>\n",
       "      <th>max_floor</th>\n",
       "      <th>material</th>\n",
       "      <th>build_year</th>\n",
       "      <th>num_room</th>\n",
       "      <th>kitch_sq</th>\n",
       "      <th>...</th>\n",
       "      <th>cafe_count_5000_price_1500</th>\n",
       "      <th>cafe_count_5000_price_2500</th>\n",
       "      <th>cafe_count_5000_price_4000</th>\n",
       "      <th>cafe_count_5000_price_high</th>\n",
       "      <th>big_church_count_5000</th>\n",
       "      <th>church_count_5000</th>\n",
       "      <th>mosque_count_5000</th>\n",
       "      <th>leisure_count_5000</th>\n",
       "      <th>sport_count_5000</th>\n",
       "      <th>market_count_5000</th>\n",
       "    </tr>\n",
       "  </thead>\n",
       "  <tbody>\n",
       "    <tr>\n",
       "      <th>0</th>\n",
       "      <td>30474</td>\n",
       "      <td>2015-07-01</td>\n",
       "      <td>39.0</td>\n",
       "      <td>20.7</td>\n",
       "      <td>2</td>\n",
       "      <td>9</td>\n",
       "      <td>1</td>\n",
       "      <td>1998.0</td>\n",
       "      <td>1</td>\n",
       "      <td>8.9</td>\n",
       "      <td>...</td>\n",
       "      <td>8</td>\n",
       "      <td>0</td>\n",
       "      <td>0</td>\n",
       "      <td>0</td>\n",
       "      <td>1</td>\n",
       "      <td>10</td>\n",
       "      <td>1</td>\n",
       "      <td>0</td>\n",
       "      <td>14</td>\n",
       "      <td>1</td>\n",
       "    </tr>\n",
       "    <tr>\n",
       "      <th>1</th>\n",
       "      <td>30475</td>\n",
       "      <td>2015-07-01</td>\n",
       "      <td>79.2</td>\n",
       "      <td>NaN</td>\n",
       "      <td>8</td>\n",
       "      <td>17</td>\n",
       "      <td>1</td>\n",
       "      <td>0.0</td>\n",
       "      <td>3</td>\n",
       "      <td>1.0</td>\n",
       "      <td>...</td>\n",
       "      <td>4</td>\n",
       "      <td>1</td>\n",
       "      <td>1</td>\n",
       "      <td>0</td>\n",
       "      <td>2</td>\n",
       "      <td>11</td>\n",
       "      <td>0</td>\n",
       "      <td>1</td>\n",
       "      <td>12</td>\n",
       "      <td>1</td>\n",
       "    </tr>\n",
       "    <tr>\n",
       "      <th>2</th>\n",
       "      <td>30476</td>\n",
       "      <td>2015-07-01</td>\n",
       "      <td>40.5</td>\n",
       "      <td>25.1</td>\n",
       "      <td>3</td>\n",
       "      <td>5</td>\n",
       "      <td>2</td>\n",
       "      <td>1960.0</td>\n",
       "      <td>2</td>\n",
       "      <td>4.8</td>\n",
       "      <td>...</td>\n",
       "      <td>42</td>\n",
       "      <td>11</td>\n",
       "      <td>4</td>\n",
       "      <td>0</td>\n",
       "      <td>10</td>\n",
       "      <td>21</td>\n",
       "      <td>0</td>\n",
       "      <td>10</td>\n",
       "      <td>71</td>\n",
       "      <td>11</td>\n",
       "    </tr>\n",
       "    <tr>\n",
       "      <th>3</th>\n",
       "      <td>30477</td>\n",
       "      <td>2015-07-01</td>\n",
       "      <td>62.8</td>\n",
       "      <td>36.0</td>\n",
       "      <td>17</td>\n",
       "      <td>17</td>\n",
       "      <td>1</td>\n",
       "      <td>2016.0</td>\n",
       "      <td>2</td>\n",
       "      <td>62.8</td>\n",
       "      <td>...</td>\n",
       "      <td>1</td>\n",
       "      <td>1</td>\n",
       "      <td>2</td>\n",
       "      <td>0</td>\n",
       "      <td>0</td>\n",
       "      <td>10</td>\n",
       "      <td>0</td>\n",
       "      <td>0</td>\n",
       "      <td>2</td>\n",
       "      <td>0</td>\n",
       "    </tr>\n",
       "    <tr>\n",
       "      <th>4</th>\n",
       "      <td>30478</td>\n",
       "      <td>2015-07-01</td>\n",
       "      <td>40.0</td>\n",
       "      <td>40.0</td>\n",
       "      <td>17</td>\n",
       "      <td>17</td>\n",
       "      <td>1</td>\n",
       "      <td>0.0</td>\n",
       "      <td>1</td>\n",
       "      <td>1.0</td>\n",
       "      <td>...</td>\n",
       "      <td>5</td>\n",
       "      <td>1</td>\n",
       "      <td>1</td>\n",
       "      <td>0</td>\n",
       "      <td>2</td>\n",
       "      <td>12</td>\n",
       "      <td>0</td>\n",
       "      <td>1</td>\n",
       "      <td>11</td>\n",
       "      <td>1</td>\n",
       "    </tr>\n",
       "  </tbody>\n",
       "</table>\n",
       "<p>5 rows × 291 columns</p>\n",
       "</div>"
      ],
      "text/plain": [
       "      id   timestamp  full_sq  life_sq  floor  max_floor  material  \\\n",
       "0  30474  2015-07-01     39.0     20.7      2          9         1   \n",
       "1  30475  2015-07-01     79.2      NaN      8         17         1   \n",
       "2  30476  2015-07-01     40.5     25.1      3          5         2   \n",
       "3  30477  2015-07-01     62.8     36.0     17         17         1   \n",
       "4  30478  2015-07-01     40.0     40.0     17         17         1   \n",
       "\n",
       "   build_year  num_room  kitch_sq        ...          \\\n",
       "0      1998.0         1       8.9        ...           \n",
       "1         0.0         3       1.0        ...           \n",
       "2      1960.0         2       4.8        ...           \n",
       "3      2016.0         2      62.8        ...           \n",
       "4         0.0         1       1.0        ...           \n",
       "\n",
       "   cafe_count_5000_price_1500 cafe_count_5000_price_2500  \\\n",
       "0                           8                          0   \n",
       "1                           4                          1   \n",
       "2                          42                         11   \n",
       "3                           1                          1   \n",
       "4                           5                          1   \n",
       "\n",
       "  cafe_count_5000_price_4000  cafe_count_5000_price_high  \\\n",
       "0                          0                           0   \n",
       "1                          1                           0   \n",
       "2                          4                           0   \n",
       "3                          2                           0   \n",
       "4                          1                           0   \n",
       "\n",
       "   big_church_count_5000  church_count_5000  mosque_count_5000  \\\n",
       "0                      1                 10                  1   \n",
       "1                      2                 11                  0   \n",
       "2                     10                 21                  0   \n",
       "3                      0                 10                  0   \n",
       "4                      2                 12                  0   \n",
       "\n",
       "   leisure_count_5000  sport_count_5000  market_count_5000  \n",
       "0                   0                14                  1  \n",
       "1                   1                12                  1  \n",
       "2                  10                71                 11  \n",
       "3                   0                 2                  0  \n",
       "4                   1                11                  1  \n",
       "\n",
       "[5 rows x 291 columns]"
      ]
     },
     "execution_count": 144,
     "metadata": {},
     "output_type": "execute_result"
    }
   ],
   "source": [
    "kaggle_test.head()"
   ]
  },
  {
   "cell_type": "code",
   "execution_count": 145,
   "metadata": {
    "collapsed": true
   },
   "outputs": [],
   "source": [
    "macro_df = pd.read_csv(\"/mnt/h/Kaggle/Competitions/Russian Bank/data/macro.csv/macro.csv\")"
   ]
  },
  {
   "cell_type": "code",
   "execution_count": 146,
   "metadata": {
    "collapsed": true
   },
   "outputs": [],
   "source": [
    "final_kaggle_df = pd.merge(kaggle_test, macro_df, on='timestamp')"
   ]
  },
  {
   "cell_type": "code",
   "execution_count": 147,
   "metadata": {
    "collapsed": false
   },
   "outputs": [
    {
     "data": {
      "text/html": [
       "<div>\n",
       "<table border=\"1\" class=\"dataframe\">\n",
       "  <thead>\n",
       "    <tr style=\"text-align: right;\">\n",
       "      <th></th>\n",
       "      <th>id</th>\n",
       "      <th>timestamp</th>\n",
       "      <th>full_sq</th>\n",
       "      <th>life_sq</th>\n",
       "      <th>floor</th>\n",
       "      <th>max_floor</th>\n",
       "      <th>material</th>\n",
       "      <th>build_year</th>\n",
       "      <th>num_room</th>\n",
       "      <th>kitch_sq</th>\n",
       "      <th>...</th>\n",
       "      <th>provision_retail_space_modern_sqm</th>\n",
       "      <th>turnover_catering_per_cap</th>\n",
       "      <th>theaters_viewers_per_1000_cap</th>\n",
       "      <th>seats_theather_rfmin_per_100000_cap</th>\n",
       "      <th>museum_visitis_per_100_cap</th>\n",
       "      <th>bandwidth_sports</th>\n",
       "      <th>population_reg_sports_share</th>\n",
       "      <th>students_reg_sports_share</th>\n",
       "      <th>apartment_build</th>\n",
       "      <th>apartment_fund_sqm</th>\n",
       "    </tr>\n",
       "  </thead>\n",
       "  <tbody>\n",
       "    <tr>\n",
       "      <th>0</th>\n",
       "      <td>30474</td>\n",
       "      <td>2015-07-01</td>\n",
       "      <td>39.0</td>\n",
       "      <td>20.7</td>\n",
       "      <td>2</td>\n",
       "      <td>9</td>\n",
       "      <td>1</td>\n",
       "      <td>1998.0</td>\n",
       "      <td>1</td>\n",
       "      <td>8.9</td>\n",
       "      <td>...</td>\n",
       "      <td>NaN</td>\n",
       "      <td>10805.0</td>\n",
       "      <td>NaN</td>\n",
       "      <td>0.45888</td>\n",
       "      <td>NaN</td>\n",
       "      <td>463938.0</td>\n",
       "      <td>NaN</td>\n",
       "      <td>NaN</td>\n",
       "      <td>NaN</td>\n",
       "      <td>234576.9</td>\n",
       "    </tr>\n",
       "    <tr>\n",
       "      <th>1</th>\n",
       "      <td>30475</td>\n",
       "      <td>2015-07-01</td>\n",
       "      <td>79.2</td>\n",
       "      <td>NaN</td>\n",
       "      <td>8</td>\n",
       "      <td>17</td>\n",
       "      <td>1</td>\n",
       "      <td>0.0</td>\n",
       "      <td>3</td>\n",
       "      <td>1.0</td>\n",
       "      <td>...</td>\n",
       "      <td>NaN</td>\n",
       "      <td>10805.0</td>\n",
       "      <td>NaN</td>\n",
       "      <td>0.45888</td>\n",
       "      <td>NaN</td>\n",
       "      <td>463938.0</td>\n",
       "      <td>NaN</td>\n",
       "      <td>NaN</td>\n",
       "      <td>NaN</td>\n",
       "      <td>234576.9</td>\n",
       "    </tr>\n",
       "    <tr>\n",
       "      <th>2</th>\n",
       "      <td>30476</td>\n",
       "      <td>2015-07-01</td>\n",
       "      <td>40.5</td>\n",
       "      <td>25.1</td>\n",
       "      <td>3</td>\n",
       "      <td>5</td>\n",
       "      <td>2</td>\n",
       "      <td>1960.0</td>\n",
       "      <td>2</td>\n",
       "      <td>4.8</td>\n",
       "      <td>...</td>\n",
       "      <td>NaN</td>\n",
       "      <td>10805.0</td>\n",
       "      <td>NaN</td>\n",
       "      <td>0.45888</td>\n",
       "      <td>NaN</td>\n",
       "      <td>463938.0</td>\n",
       "      <td>NaN</td>\n",
       "      <td>NaN</td>\n",
       "      <td>NaN</td>\n",
       "      <td>234576.9</td>\n",
       "    </tr>\n",
       "    <tr>\n",
       "      <th>3</th>\n",
       "      <td>30477</td>\n",
       "      <td>2015-07-01</td>\n",
       "      <td>62.8</td>\n",
       "      <td>36.0</td>\n",
       "      <td>17</td>\n",
       "      <td>17</td>\n",
       "      <td>1</td>\n",
       "      <td>2016.0</td>\n",
       "      <td>2</td>\n",
       "      <td>62.8</td>\n",
       "      <td>...</td>\n",
       "      <td>NaN</td>\n",
       "      <td>10805.0</td>\n",
       "      <td>NaN</td>\n",
       "      <td>0.45888</td>\n",
       "      <td>NaN</td>\n",
       "      <td>463938.0</td>\n",
       "      <td>NaN</td>\n",
       "      <td>NaN</td>\n",
       "      <td>NaN</td>\n",
       "      <td>234576.9</td>\n",
       "    </tr>\n",
       "    <tr>\n",
       "      <th>4</th>\n",
       "      <td>30478</td>\n",
       "      <td>2015-07-01</td>\n",
       "      <td>40.0</td>\n",
       "      <td>40.0</td>\n",
       "      <td>17</td>\n",
       "      <td>17</td>\n",
       "      <td>1</td>\n",
       "      <td>0.0</td>\n",
       "      <td>1</td>\n",
       "      <td>1.0</td>\n",
       "      <td>...</td>\n",
       "      <td>NaN</td>\n",
       "      <td>10805.0</td>\n",
       "      <td>NaN</td>\n",
       "      <td>0.45888</td>\n",
       "      <td>NaN</td>\n",
       "      <td>463938.0</td>\n",
       "      <td>NaN</td>\n",
       "      <td>NaN</td>\n",
       "      <td>NaN</td>\n",
       "      <td>234576.9</td>\n",
       "    </tr>\n",
       "  </tbody>\n",
       "</table>\n",
       "<p>5 rows × 390 columns</p>\n",
       "</div>"
      ],
      "text/plain": [
       "      id   timestamp  full_sq  life_sq  floor  max_floor  material  \\\n",
       "0  30474  2015-07-01     39.0     20.7      2          9         1   \n",
       "1  30475  2015-07-01     79.2      NaN      8         17         1   \n",
       "2  30476  2015-07-01     40.5     25.1      3          5         2   \n",
       "3  30477  2015-07-01     62.8     36.0     17         17         1   \n",
       "4  30478  2015-07-01     40.0     40.0     17         17         1   \n",
       "\n",
       "   build_year  num_room  kitch_sq         ...          \\\n",
       "0      1998.0         1       8.9         ...           \n",
       "1         0.0         3       1.0         ...           \n",
       "2      1960.0         2       4.8         ...           \n",
       "3      2016.0         2      62.8         ...           \n",
       "4         0.0         1       1.0         ...           \n",
       "\n",
       "   provision_retail_space_modern_sqm turnover_catering_per_cap  \\\n",
       "0                                NaN                   10805.0   \n",
       "1                                NaN                   10805.0   \n",
       "2                                NaN                   10805.0   \n",
       "3                                NaN                   10805.0   \n",
       "4                                NaN                   10805.0   \n",
       "\n",
       "  theaters_viewers_per_1000_cap  seats_theather_rfmin_per_100000_cap  \\\n",
       "0                           NaN                              0.45888   \n",
       "1                           NaN                              0.45888   \n",
       "2                           NaN                              0.45888   \n",
       "3                           NaN                              0.45888   \n",
       "4                           NaN                              0.45888   \n",
       "\n",
       "   museum_visitis_per_100_cap  bandwidth_sports  population_reg_sports_share  \\\n",
       "0                         NaN          463938.0                          NaN   \n",
       "1                         NaN          463938.0                          NaN   \n",
       "2                         NaN          463938.0                          NaN   \n",
       "3                         NaN          463938.0                          NaN   \n",
       "4                         NaN          463938.0                          NaN   \n",
       "\n",
       "   students_reg_sports_share  apartment_build  apartment_fund_sqm  \n",
       "0                        NaN              NaN            234576.9  \n",
       "1                        NaN              NaN            234576.9  \n",
       "2                        NaN              NaN            234576.9  \n",
       "3                        NaN              NaN            234576.9  \n",
       "4                        NaN              NaN            234576.9  \n",
       "\n",
       "[5 rows x 390 columns]"
      ]
     },
     "execution_count": 147,
     "metadata": {},
     "output_type": "execute_result"
    }
   ],
   "source": [
    "final_kaggle_df.head()"
   ]
  },
  {
   "cell_type": "code",
   "execution_count": 148,
   "metadata": {
    "collapsed": true
   },
   "outputs": [],
   "source": [
    "final_kaggle_df = prepare_dataset(final_kaggle_df)"
   ]
  },
  {
   "cell_type": "code",
   "execution_count": 149,
   "metadata": {
    "collapsed": true
   },
   "outputs": [],
   "source": [
    "for continuous_norm_col in normalize_columns:\n",
    "    scaler = norm_scalers[continuous_norm_col]\n",
    "    scaled_values = scaler.transform(final_kaggle_df[[continuous_norm_col]].values)\n",
    "    final_kaggle_df[continuous_norm_col + \"_scaled_feature\"] = scaled_values"
   ]
  },
  {
   "cell_type": "code",
   "execution_count": 150,
   "metadata": {
    "collapsed": true
   },
   "outputs": [],
   "source": [
    "for one_hot_col in one_hot_cols:\n",
    "    l_scaler = ont_hot_scalers[one_hot_col][0]\n",
    "    scaler = ont_hot_scalers[one_hot_col][1]\n",
    "    r = l_scaler.transform(final_kaggle_df[[one_hot_col]].values)\n",
    "    r = np.expand_dims(r, axis=1)\n",
    "    scaled_values = scaler.transform(r)\n",
    "    final_kaggle_df[one_hot_col + \"_scaled_feature\"] = list(scaled_values)"
   ]
  },
  {
   "cell_type": "code",
   "execution_count": 153,
   "metadata": {
    "collapsed": true
   },
   "outputs": [],
   "source": [
    "for label_col in label_cols:\n",
    "    label_enc = label_scalers[label_col]\n",
    "    encoded_values = label_enc.transform(final_kaggle_df[[label_col]].values)\n",
    "    final_kaggle_df[label_col + \"_scaled_feature\"] = encoded_values"
   ]
  },
  {
   "cell_type": "code",
   "execution_count": 154,
   "metadata": {
    "collapsed": false
   },
   "outputs": [
    {
     "data": {
      "text/plain": [
       "['full_sq_scaled_feature',\n",
       " 'kitch_sq_scaled_feature',\n",
       " 'floor_scaled_feature',\n",
       " 'life_sq_scaled_feature',\n",
       " 'build_year_scaled_feature',\n",
       " 'railroad_km_scaled_feature',\n",
       " 'metro_min_avto_scaled_feature',\n",
       " 'green_zone_km_scaled_feature',\n",
       " 'kindergarten_km_scaled_feature',\n",
       " 'num_room_scaled_feature',\n",
       " 'public_transport_station_km_scaled_feature',\n",
       " 'metro_km_avto_scaled_feature',\n",
       " 'max_floor_scaled_feature',\n",
       " 'micex_scaled_feature',\n",
       " 'usdrub_scaled_feature',\n",
       " 'park_km_scaled_feature',\n",
       " 'micex_cbi_tr_scaled_feature',\n",
       " 'timestamp_day_scaled_feature',\n",
       " 'timestamp_month_scaled_feature',\n",
       " 'timestamp_year_scaled_feature',\n",
       " 'cemetery_km_scaled_feature',\n",
       " 'mosque_km_scaled_feature',\n",
       " 'public_healthcare_km_scaled_feature',\n",
       " 'catering_km_scaled_feature',\n",
       " 'big_road2_km_scaled_feature',\n",
       " 'hospice_morgue_km_scaled_feature',\n",
       " 'swim_pool_km_scaled_feature',\n",
       " 'water_treatment_km_scaled_feature',\n",
       " 'power_transmission_line_km_scaled_feature',\n",
       " 'water_km_scaled_feature',\n",
       " 'school_km_scaled_feature',\n",
       " 'ttk_km_scaled_feature',\n",
       " 'area_m_scaled_feature',\n",
       " 'university_km_scaled_feature',\n",
       " 'oil_chemistry_km_scaled_feature',\n",
       " 'exhibition_km_scaled_feature',\n",
       " 'shopping_centers_km_scaled_feature',\n",
       " 'ts_km_scaled_feature',\n",
       " 'zd_vokzaly_avto_km_scaled_feature',\n",
       " 'railroad_station_avto_min_scaled_feature',\n",
       " 'brent_scaled_feature',\n",
       " 'preschool_km_scaled_feature',\n",
       " 'big_road1_km_scaled_feature',\n",
       " 'additional_education_km_scaled_feature',\n",
       " 'green_part_1000_scaled_feature',\n",
       " 'church_synagogue_km_scaled_feature',\n",
       " 'big_church_km_scaled_feature',\n",
       " 'green_part_1500_scaled_feature',\n",
       " 'incineration_km_scaled_feature',\n",
       " 'industrial_km_scaled_feature',\n",
       " 'nuclear_reactor_km_scaled_feature',\n",
       " 'material_scaled_feature',\n",
       " 'state_refractored_scaled_feature',\n",
       " 'sub_area_scaled_feature']"
      ]
     },
     "execution_count": 154,
     "metadata": {},
     "output_type": "execute_result"
    }
   ],
   "source": [
    "[c for c in final_kaggle_df.columns.tolist() if \"_scaled_feature\" in c]"
   ]
  },
  {
   "cell_type": "code",
   "execution_count": 155,
   "metadata": {
    "collapsed": false
   },
   "outputs": [],
   "source": [
    "kaggle_locality, kaggle_continuous, kaggle_cat = format_input(final_kaggle_df)\n",
    "kaggle_preds = house_price_model.predict({'locality_input': kaggle_locality, \n",
    "                       'continuous_input': kaggle_continuous,\n",
    "                       'state_input' : kaggle_cat['state_refractored'],\n",
    "                       'material_input' : kaggle_cat['material'],\n",
    "                       'sub_area_input' : kaggle_cat['sub_area']\n",
    "                      })"
   ]
  },
  {
   "cell_type": "code",
   "execution_count": 160,
   "metadata": {
    "collapsed": false
   },
   "outputs": [],
   "source": [
    "final_kaggle_df['price_doc'] = kaggle_preds"
   ]
  },
  {
   "cell_type": "code",
   "execution_count": 161,
   "metadata": {
    "collapsed": true
   },
   "outputs": [
    {
     "data": {
      "text/plain": [
       "0        6654852.50\n",
       "1        8137595.50\n",
       "2        6643443.00\n",
       "3        7558576.00\n",
       "4        6021214.50\n",
       "5        9761289.00\n",
       "6        5222332.00\n",
       "7        4738903.00\n",
       "8        6210076.50\n",
       "9        5893429.00\n",
       "10       6833310.00\n",
       "11       5909655.50\n",
       "12       5441475.50\n",
       "13       5358815.50\n",
       "14       5392649.00\n",
       "15       6625846.50\n",
       "16      10857244.00\n",
       "17      11826922.00\n",
       "18       6834672.00\n",
       "19      11518202.00\n",
       "20       7825843.50\n",
       "21      10500059.00\n",
       "22       8354817.50\n",
       "23       8536329.00\n",
       "24       5420567.00\n",
       "25       9973714.00\n",
       "26      10584601.00\n",
       "27       8417826.00\n",
       "28       3887790.75\n",
       "29       7488494.00\n",
       "           ...     \n",
       "7632     6934862.00\n",
       "7633     4155310.75\n",
       "7634    11951322.00\n",
       "7635     6548668.00\n",
       "7636     3756825.00\n",
       "7637     5837263.50\n",
       "7638     4721193.00\n",
       "7639     7713059.00\n",
       "7640     7179763.50\n",
       "7641     4699787.00\n",
       "7642     8086678.00\n",
       "7643     7411773.00\n",
       "7644     8673637.00\n",
       "7645     5052364.00\n",
       "7646     8423050.00\n",
       "7647     7729265.00\n",
       "7648     8618761.00\n",
       "7649     6426324.50\n",
       "7650     7680965.00\n",
       "7651     8638502.00\n",
       "7652     9416448.00\n",
       "7653     7567264.00\n",
       "7654     2901600.00\n",
       "7655     4350274.00\n",
       "7656     5495668.00\n",
       "7657     9195237.00\n",
       "7658     5806339.00\n",
       "7659     4873653.00\n",
       "7660     6165102.50\n",
       "7661     9635620.00\n",
       "Name: price_doc, dtype: float32"
      ]
     },
     "execution_count": 161,
     "metadata": {},
     "output_type": "execute_result"
    }
   ],
   "source": [
    "final_kaggle_df['price_doc']"
   ]
  },
  {
   "cell_type": "code",
   "execution_count": 162,
   "metadata": {
    "collapsed": false
   },
   "outputs": [
    {
     "data": {
      "text/html": [
       "<div>\n",
       "<table border=\"1\" class=\"dataframe\">\n",
       "  <thead>\n",
       "    <tr style=\"text-align: right;\">\n",
       "      <th></th>\n",
       "      <th>id</th>\n",
       "      <th>price_doc</th>\n",
       "    </tr>\n",
       "  </thead>\n",
       "  <tbody>\n",
       "    <tr>\n",
       "      <th>0</th>\n",
       "      <td>30474</td>\n",
       "      <td>6654852.50</td>\n",
       "    </tr>\n",
       "    <tr>\n",
       "      <th>1</th>\n",
       "      <td>30475</td>\n",
       "      <td>8137595.50</td>\n",
       "    </tr>\n",
       "    <tr>\n",
       "      <th>2</th>\n",
       "      <td>30476</td>\n",
       "      <td>6643443.00</td>\n",
       "    </tr>\n",
       "    <tr>\n",
       "      <th>3</th>\n",
       "      <td>30477</td>\n",
       "      <td>7558576.00</td>\n",
       "    </tr>\n",
       "    <tr>\n",
       "      <th>4</th>\n",
       "      <td>30478</td>\n",
       "      <td>6021214.50</td>\n",
       "    </tr>\n",
       "    <tr>\n",
       "      <th>5</th>\n",
       "      <td>30479</td>\n",
       "      <td>9761289.00</td>\n",
       "    </tr>\n",
       "    <tr>\n",
       "      <th>6</th>\n",
       "      <td>30480</td>\n",
       "      <td>5222332.00</td>\n",
       "    </tr>\n",
       "    <tr>\n",
       "      <th>7</th>\n",
       "      <td>30481</td>\n",
       "      <td>4738903.00</td>\n",
       "    </tr>\n",
       "    <tr>\n",
       "      <th>8</th>\n",
       "      <td>30482</td>\n",
       "      <td>6210076.50</td>\n",
       "    </tr>\n",
       "    <tr>\n",
       "      <th>9</th>\n",
       "      <td>30483</td>\n",
       "      <td>5893429.00</td>\n",
       "    </tr>\n",
       "    <tr>\n",
       "      <th>10</th>\n",
       "      <td>30484</td>\n",
       "      <td>6833310.00</td>\n",
       "    </tr>\n",
       "    <tr>\n",
       "      <th>11</th>\n",
       "      <td>30485</td>\n",
       "      <td>5909655.50</td>\n",
       "    </tr>\n",
       "    <tr>\n",
       "      <th>12</th>\n",
       "      <td>30486</td>\n",
       "      <td>5441475.50</td>\n",
       "    </tr>\n",
       "    <tr>\n",
       "      <th>13</th>\n",
       "      <td>30487</td>\n",
       "      <td>5358815.50</td>\n",
       "    </tr>\n",
       "    <tr>\n",
       "      <th>14</th>\n",
       "      <td>30488</td>\n",
       "      <td>5392649.00</td>\n",
       "    </tr>\n",
       "    <tr>\n",
       "      <th>15</th>\n",
       "      <td>30489</td>\n",
       "      <td>6625846.50</td>\n",
       "    </tr>\n",
       "    <tr>\n",
       "      <th>16</th>\n",
       "      <td>30490</td>\n",
       "      <td>10857244.00</td>\n",
       "    </tr>\n",
       "    <tr>\n",
       "      <th>17</th>\n",
       "      <td>30491</td>\n",
       "      <td>11826922.00</td>\n",
       "    </tr>\n",
       "    <tr>\n",
       "      <th>18</th>\n",
       "      <td>30492</td>\n",
       "      <td>6834672.00</td>\n",
       "    </tr>\n",
       "    <tr>\n",
       "      <th>19</th>\n",
       "      <td>30493</td>\n",
       "      <td>11518202.00</td>\n",
       "    </tr>\n",
       "    <tr>\n",
       "      <th>20</th>\n",
       "      <td>30494</td>\n",
       "      <td>7825843.50</td>\n",
       "    </tr>\n",
       "    <tr>\n",
       "      <th>21</th>\n",
       "      <td>30495</td>\n",
       "      <td>10500059.00</td>\n",
       "    </tr>\n",
       "    <tr>\n",
       "      <th>22</th>\n",
       "      <td>30496</td>\n",
       "      <td>8354817.50</td>\n",
       "    </tr>\n",
       "    <tr>\n",
       "      <th>23</th>\n",
       "      <td>30497</td>\n",
       "      <td>8536329.00</td>\n",
       "    </tr>\n",
       "    <tr>\n",
       "      <th>24</th>\n",
       "      <td>30498</td>\n",
       "      <td>5420567.00</td>\n",
       "    </tr>\n",
       "    <tr>\n",
       "      <th>25</th>\n",
       "      <td>30499</td>\n",
       "      <td>9973714.00</td>\n",
       "    </tr>\n",
       "    <tr>\n",
       "      <th>26</th>\n",
       "      <td>30500</td>\n",
       "      <td>10584601.00</td>\n",
       "    </tr>\n",
       "    <tr>\n",
       "      <th>27</th>\n",
       "      <td>30501</td>\n",
       "      <td>8417826.00</td>\n",
       "    </tr>\n",
       "    <tr>\n",
       "      <th>28</th>\n",
       "      <td>30502</td>\n",
       "      <td>3887790.75</td>\n",
       "    </tr>\n",
       "    <tr>\n",
       "      <th>29</th>\n",
       "      <td>30503</td>\n",
       "      <td>7488494.00</td>\n",
       "    </tr>\n",
       "    <tr>\n",
       "      <th>...</th>\n",
       "      <td>...</td>\n",
       "      <td>...</td>\n",
       "    </tr>\n",
       "    <tr>\n",
       "      <th>7632</th>\n",
       "      <td>38106</td>\n",
       "      <td>6934862.00</td>\n",
       "    </tr>\n",
       "    <tr>\n",
       "      <th>7633</th>\n",
       "      <td>38107</td>\n",
       "      <td>4155310.75</td>\n",
       "    </tr>\n",
       "    <tr>\n",
       "      <th>7634</th>\n",
       "      <td>38108</td>\n",
       "      <td>11951322.00</td>\n",
       "    </tr>\n",
       "    <tr>\n",
       "      <th>7635</th>\n",
       "      <td>38109</td>\n",
       "      <td>6548668.00</td>\n",
       "    </tr>\n",
       "    <tr>\n",
       "      <th>7636</th>\n",
       "      <td>38110</td>\n",
       "      <td>3756825.00</td>\n",
       "    </tr>\n",
       "    <tr>\n",
       "      <th>7637</th>\n",
       "      <td>38111</td>\n",
       "      <td>5837263.50</td>\n",
       "    </tr>\n",
       "    <tr>\n",
       "      <th>7638</th>\n",
       "      <td>38112</td>\n",
       "      <td>4721193.00</td>\n",
       "    </tr>\n",
       "    <tr>\n",
       "      <th>7639</th>\n",
       "      <td>38113</td>\n",
       "      <td>7713059.00</td>\n",
       "    </tr>\n",
       "    <tr>\n",
       "      <th>7640</th>\n",
       "      <td>38114</td>\n",
       "      <td>7179763.50</td>\n",
       "    </tr>\n",
       "    <tr>\n",
       "      <th>7641</th>\n",
       "      <td>38115</td>\n",
       "      <td>4699787.00</td>\n",
       "    </tr>\n",
       "    <tr>\n",
       "      <th>7642</th>\n",
       "      <td>38116</td>\n",
       "      <td>8086678.00</td>\n",
       "    </tr>\n",
       "    <tr>\n",
       "      <th>7643</th>\n",
       "      <td>38117</td>\n",
       "      <td>7411773.00</td>\n",
       "    </tr>\n",
       "    <tr>\n",
       "      <th>7644</th>\n",
       "      <td>38118</td>\n",
       "      <td>8673637.00</td>\n",
       "    </tr>\n",
       "    <tr>\n",
       "      <th>7645</th>\n",
       "      <td>38119</td>\n",
       "      <td>5052364.00</td>\n",
       "    </tr>\n",
       "    <tr>\n",
       "      <th>7646</th>\n",
       "      <td>38120</td>\n",
       "      <td>8423050.00</td>\n",
       "    </tr>\n",
       "    <tr>\n",
       "      <th>7647</th>\n",
       "      <td>38121</td>\n",
       "      <td>7729265.00</td>\n",
       "    </tr>\n",
       "    <tr>\n",
       "      <th>7648</th>\n",
       "      <td>38122</td>\n",
       "      <td>8618761.00</td>\n",
       "    </tr>\n",
       "    <tr>\n",
       "      <th>7649</th>\n",
       "      <td>38123</td>\n",
       "      <td>6426324.50</td>\n",
       "    </tr>\n",
       "    <tr>\n",
       "      <th>7650</th>\n",
       "      <td>38124</td>\n",
       "      <td>7680965.00</td>\n",
       "    </tr>\n",
       "    <tr>\n",
       "      <th>7651</th>\n",
       "      <td>38125</td>\n",
       "      <td>8638502.00</td>\n",
       "    </tr>\n",
       "    <tr>\n",
       "      <th>7652</th>\n",
       "      <td>38126</td>\n",
       "      <td>9416448.00</td>\n",
       "    </tr>\n",
       "    <tr>\n",
       "      <th>7653</th>\n",
       "      <td>38127</td>\n",
       "      <td>7567264.00</td>\n",
       "    </tr>\n",
       "    <tr>\n",
       "      <th>7654</th>\n",
       "      <td>38128</td>\n",
       "      <td>2901600.00</td>\n",
       "    </tr>\n",
       "    <tr>\n",
       "      <th>7655</th>\n",
       "      <td>38129</td>\n",
       "      <td>4350274.00</td>\n",
       "    </tr>\n",
       "    <tr>\n",
       "      <th>7656</th>\n",
       "      <td>38130</td>\n",
       "      <td>5495668.00</td>\n",
       "    </tr>\n",
       "    <tr>\n",
       "      <th>7657</th>\n",
       "      <td>38131</td>\n",
       "      <td>9195237.00</td>\n",
       "    </tr>\n",
       "    <tr>\n",
       "      <th>7658</th>\n",
       "      <td>38132</td>\n",
       "      <td>5806339.00</td>\n",
       "    </tr>\n",
       "    <tr>\n",
       "      <th>7659</th>\n",
       "      <td>38133</td>\n",
       "      <td>4873653.00</td>\n",
       "    </tr>\n",
       "    <tr>\n",
       "      <th>7660</th>\n",
       "      <td>38134</td>\n",
       "      <td>6165102.50</td>\n",
       "    </tr>\n",
       "    <tr>\n",
       "      <th>7661</th>\n",
       "      <td>38135</td>\n",
       "      <td>9635620.00</td>\n",
       "    </tr>\n",
       "  </tbody>\n",
       "</table>\n",
       "<p>7662 rows × 2 columns</p>\n",
       "</div>"
      ],
      "text/plain": [
       "         id    price_doc\n",
       "0     30474   6654852.50\n",
       "1     30475   8137595.50\n",
       "2     30476   6643443.00\n",
       "3     30477   7558576.00\n",
       "4     30478   6021214.50\n",
       "5     30479   9761289.00\n",
       "6     30480   5222332.00\n",
       "7     30481   4738903.00\n",
       "8     30482   6210076.50\n",
       "9     30483   5893429.00\n",
       "10    30484   6833310.00\n",
       "11    30485   5909655.50\n",
       "12    30486   5441475.50\n",
       "13    30487   5358815.50\n",
       "14    30488   5392649.00\n",
       "15    30489   6625846.50\n",
       "16    30490  10857244.00\n",
       "17    30491  11826922.00\n",
       "18    30492   6834672.00\n",
       "19    30493  11518202.00\n",
       "20    30494   7825843.50\n",
       "21    30495  10500059.00\n",
       "22    30496   8354817.50\n",
       "23    30497   8536329.00\n",
       "24    30498   5420567.00\n",
       "25    30499   9973714.00\n",
       "26    30500  10584601.00\n",
       "27    30501   8417826.00\n",
       "28    30502   3887790.75\n",
       "29    30503   7488494.00\n",
       "...     ...          ...\n",
       "7632  38106   6934862.00\n",
       "7633  38107   4155310.75\n",
       "7634  38108  11951322.00\n",
       "7635  38109   6548668.00\n",
       "7636  38110   3756825.00\n",
       "7637  38111   5837263.50\n",
       "7638  38112   4721193.00\n",
       "7639  38113   7713059.00\n",
       "7640  38114   7179763.50\n",
       "7641  38115   4699787.00\n",
       "7642  38116   8086678.00\n",
       "7643  38117   7411773.00\n",
       "7644  38118   8673637.00\n",
       "7645  38119   5052364.00\n",
       "7646  38120   8423050.00\n",
       "7647  38121   7729265.00\n",
       "7648  38122   8618761.00\n",
       "7649  38123   6426324.50\n",
       "7650  38124   7680965.00\n",
       "7651  38125   8638502.00\n",
       "7652  38126   9416448.00\n",
       "7653  38127   7567264.00\n",
       "7654  38128   2901600.00\n",
       "7655  38129   4350274.00\n",
       "7656  38130   5495668.00\n",
       "7657  38131   9195237.00\n",
       "7658  38132   5806339.00\n",
       "7659  38133   4873653.00\n",
       "7660  38134   6165102.50\n",
       "7661  38135   9635620.00\n",
       "\n",
       "[7662 rows x 2 columns]"
      ]
     },
     "execution_count": 162,
     "metadata": {},
     "output_type": "execute_result"
    }
   ],
   "source": [
    "final_kaggle_df[['id', 'price_doc']]"
   ]
  },
  {
   "cell_type": "code",
   "execution_count": 164,
   "metadata": {
    "collapsed": true
   },
   "outputs": [],
   "source": [
    "final_kaggle_df[['id', 'price_doc']].to_csv(\"/mnt/h/Kaggle/Competitions/Russian Bank/models/v0/submission.csv\", index=False) # output submission csv file"
   ]
  }
 ],
 "metadata": {
  "kernelspec": {
   "display_name": "Python 2",
   "language": "python",
   "name": "python2"
  },
  "language_info": {
   "codemirror_mode": {
    "name": "ipython",
    "version": 2
   },
   "file_extension": ".py",
   "mimetype": "text/x-python",
   "name": "python",
   "nbconvert_exporter": "python",
   "pygments_lexer": "ipython2",
   "version": "2.7.6"
  }
 },
 "nbformat": 4,
 "nbformat_minor": 2
}
