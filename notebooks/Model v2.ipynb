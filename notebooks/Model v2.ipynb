{
 "cells": [
  {
   "cell_type": "markdown",
   "metadata": {
    "deletable": true,
    "editable": true
   },
   "source": [
    "# Model v2\n",
    "### Leaderboard: 0.36987"
   ]
  },
  {
   "cell_type": "code",
   "execution_count": 114,
   "metadata": {
    "collapsed": false,
    "deletable": true,
    "editable": true
   },
   "outputs": [],
   "source": [
    "from keras.layers import Input, LSTM, Dense, Dropout, Embedding, TimeDistributed, Reshape, Flatten\n",
    "from keras.layers.advanced_activations import PReLU\n",
    "from keras.layers.normalization import BatchNormalization\n",
    "from keras.layers.noise import GaussianDropout, GaussianNoise"
   ]
  },
  {
   "cell_type": "code",
   "execution_count": 2,
   "metadata": {
    "collapsed": true,
    "deletable": true,
    "editable": true
   },
   "outputs": [],
   "source": [
    "from keras.models import Model, Sequential\n",
    "from keras.layers.merge import Concatenate"
   ]
  },
  {
   "cell_type": "code",
   "execution_count": 3,
   "metadata": {
    "collapsed": true,
    "deletable": true,
    "editable": true
   },
   "outputs": [],
   "source": [
    "from keras.callbacks import TensorBoard, ModelCheckpoint, EarlyStopping"
   ]
  },
  {
   "cell_type": "code",
   "execution_count": 4,
   "metadata": {
    "collapsed": true,
    "deletable": true,
    "editable": true
   },
   "outputs": [],
   "source": [
    "import tensorflow as tf\n",
    "from keras import backend as K"
   ]
  },
  {
   "cell_type": "code",
   "execution_count": 5,
   "metadata": {
    "collapsed": true,
    "deletable": true,
    "editable": true
   },
   "outputs": [],
   "source": [
    "from sklearn import preprocessing\n",
    "from sklearn.model_selection import train_test_split"
   ]
  },
  {
   "cell_type": "code",
   "execution_count": 6,
   "metadata": {
    "collapsed": true,
    "deletable": true,
    "editable": true
   },
   "outputs": [],
   "source": [
    "from sklearn_pandas import DataFrameMapper"
   ]
  },
  {
   "cell_type": "code",
   "execution_count": 7,
   "metadata": {
    "collapsed": true,
    "deletable": true,
    "editable": true
   },
   "outputs": [],
   "source": [
    "import pandas as pd\n",
    "import numpy as np"
   ]
  },
  {
   "cell_type": "code",
   "execution_count": 8,
   "metadata": {
    "collapsed": true,
    "deletable": true,
    "editable": true
   },
   "outputs": [],
   "source": [
    "from keras.utils.np_utils import to_categorical"
   ]
  },
  {
   "cell_type": "code",
   "execution_count": 115,
   "metadata": {
    "collapsed": true,
    "deletable": true,
    "editable": true
   },
   "outputs": [],
   "source": [
    "version = 2\n",
    "version_str = \"v\" + str(version)"
   ]
  },
  {
   "cell_type": "code",
   "execution_count": 10,
   "metadata": {
    "collapsed": true,
    "deletable": true,
    "editable": true
   },
   "outputs": [],
   "source": [
    "LABEL = \"price_doc\""
   ]
  },
  {
   "cell_type": "code",
   "execution_count": 11,
   "metadata": {
    "collapsed": true,
    "deletable": true,
    "editable": true
   },
   "outputs": [],
   "source": [
    "def prepare_dataset(df, test=False, trunc_fields=False):\n",
    "    global LABEL\n",
    "    t_fields = ['id', 'timestamp', 'full_sq', 'life_sq', 'floor', 'max_floor','material', 'build_year', 'num_room', 'kitch_sq', 'state', 'product_type', 'sub_area', LABEL]\n",
    "    \n",
    "    if not test:\n",
    "        if trunc_fields:\n",
    "            df = df[t_fields.append + LABEL]\n",
    "        else:\n",
    "            df = df\n",
    "    else:\n",
    "        if trunc_fields:\n",
    "            df = df[t_fields]\n",
    "        else:\n",
    "            df = df\n",
    "    \n",
    "    df['timestamp_converted'] = pd.to_datetime(df['timestamp'])\n",
    "    df['timestamp_day'] = df.apply(lambda row: row['timestamp_converted'].day, axis=1)\n",
    "    df['timestamp_month'] = df.apply(lambda row: row['timestamp_converted'].month, axis=1)\n",
    "    df['timestamp_year'] = df.apply(lambda row: row['timestamp_converted'].year, axis=1)\n",
    "    df['state_refractored'] = df.apply( lambda row: 5 if row['state'] == 33 else row['state'] , axis = 1)\n",
    "    \n",
    "    df = df.fillna(0)\n",
    "    \n",
    "    df['state_refractored'] = df['state_refractored'].astype(int)    \n",
    "    df['material'] = df['material'].astype(int)    \n",
    "    return df"
   ]
  },
  {
   "cell_type": "code",
   "execution_count": 12,
   "metadata": {
    "collapsed": false,
    "deletable": true,
    "editable": true
   },
   "outputs": [
    {
     "name": "stderr",
     "output_type": "stream",
     "text": [
      "/usr/local/lib/python2.7/dist-packages/IPython/core/interactiveshell.py:2717: DtypeWarning: Columns (375,378,379) have mixed types. Specify dtype option on import or set low_memory=False.\n",
      "  interactivity=interactivity, compiler=compiler, result=result)\n"
     ]
    }
   ],
   "source": [
    "final_train_df = pd.read_csv(\"/mnt/h/Kaggle/Competitions/Russian Bank/data/final_training_dataset.csv\")"
   ]
  },
  {
   "cell_type": "code",
   "execution_count": 13,
   "metadata": {
    "collapsed": false,
    "deletable": true,
    "editable": true
   },
   "outputs": [],
   "source": [
    "final_train_df = prepare_dataset(final_train_df)"
   ]
  },
  {
   "cell_type": "code",
   "execution_count": 14,
   "metadata": {
    "collapsed": true,
    "deletable": true,
    "editable": true
   },
   "outputs": [],
   "source": [
    "del final_train_df['Unnamed: 0']"
   ]
  },
  {
   "cell_type": "code",
   "execution_count": 15,
   "metadata": {
    "collapsed": false,
    "deletable": true,
    "editable": true
   },
   "outputs": [
    {
     "data": {
      "text/html": [
       "<div>\n",
       "<table border=\"1\" class=\"dataframe\">\n",
       "  <thead>\n",
       "    <tr style=\"text-align: right;\">\n",
       "      <th></th>\n",
       "      <th>id</th>\n",
       "      <th>timestamp</th>\n",
       "      <th>full_sq</th>\n",
       "      <th>life_sq</th>\n",
       "      <th>floor</th>\n",
       "      <th>max_floor</th>\n",
       "      <th>material</th>\n",
       "      <th>build_year</th>\n",
       "      <th>num_room</th>\n",
       "      <th>kitch_sq</th>\n",
       "      <th>...</th>\n",
       "      <th>provision_retail_space_modern_sqm</th>\n",
       "      <th>turnover_catering_per_cap</th>\n",
       "      <th>theaters_viewers_per_1000_cap</th>\n",
       "      <th>seats_theather_rfmin_per_100000_cap</th>\n",
       "      <th>museum_visitis_per_100_cap</th>\n",
       "      <th>bandwidth_sports</th>\n",
       "      <th>population_reg_sports_share</th>\n",
       "      <th>students_reg_sports_share</th>\n",
       "      <th>apartment_build</th>\n",
       "      <th>apartment_fund_sqm</th>\n",
       "    </tr>\n",
       "  </thead>\n",
       "  <tbody>\n",
       "    <tr>\n",
       "      <th>0</th>\n",
       "      <td>1</td>\n",
       "      <td>2011-08-20</td>\n",
       "      <td>43</td>\n",
       "      <td>27.0</td>\n",
       "      <td>4.0</td>\n",
       "      <td>0.0</td>\n",
       "      <td>0</td>\n",
       "      <td>0.0</td>\n",
       "      <td>0.0</td>\n",
       "      <td>0.0</td>\n",
       "      <td>...</td>\n",
       "      <td>271.0</td>\n",
       "      <td>6943.0</td>\n",
       "      <td>565.0</td>\n",
       "      <td>0.45356</td>\n",
       "      <td>1240.0</td>\n",
       "      <td>269768.0</td>\n",
       "      <td>22.37</td>\n",
       "      <td>64.12</td>\n",
       "      <td>23587.0</td>\n",
       "      <td>230310.0</td>\n",
       "    </tr>\n",
       "    <tr>\n",
       "      <th>1</th>\n",
       "      <td>2</td>\n",
       "      <td>2011-08-23</td>\n",
       "      <td>34</td>\n",
       "      <td>19.0</td>\n",
       "      <td>3.0</td>\n",
       "      <td>0.0</td>\n",
       "      <td>0</td>\n",
       "      <td>0.0</td>\n",
       "      <td>0.0</td>\n",
       "      <td>0.0</td>\n",
       "      <td>...</td>\n",
       "      <td>271.0</td>\n",
       "      <td>6943.0</td>\n",
       "      <td>565.0</td>\n",
       "      <td>0.45356</td>\n",
       "      <td>1240.0</td>\n",
       "      <td>269768.0</td>\n",
       "      <td>22.37</td>\n",
       "      <td>64.12</td>\n",
       "      <td>23587.0</td>\n",
       "      <td>230310.0</td>\n",
       "    </tr>\n",
       "    <tr>\n",
       "      <th>2</th>\n",
       "      <td>3</td>\n",
       "      <td>2011-08-27</td>\n",
       "      <td>43</td>\n",
       "      <td>29.0</td>\n",
       "      <td>2.0</td>\n",
       "      <td>0.0</td>\n",
       "      <td>0</td>\n",
       "      <td>0.0</td>\n",
       "      <td>0.0</td>\n",
       "      <td>0.0</td>\n",
       "      <td>...</td>\n",
       "      <td>271.0</td>\n",
       "      <td>6943.0</td>\n",
       "      <td>565.0</td>\n",
       "      <td>0.45356</td>\n",
       "      <td>1240.0</td>\n",
       "      <td>269768.0</td>\n",
       "      <td>22.37</td>\n",
       "      <td>64.12</td>\n",
       "      <td>23587.0</td>\n",
       "      <td>230310.0</td>\n",
       "    </tr>\n",
       "    <tr>\n",
       "      <th>3</th>\n",
       "      <td>4</td>\n",
       "      <td>2011-09-01</td>\n",
       "      <td>89</td>\n",
       "      <td>50.0</td>\n",
       "      <td>9.0</td>\n",
       "      <td>0.0</td>\n",
       "      <td>0</td>\n",
       "      <td>0.0</td>\n",
       "      <td>0.0</td>\n",
       "      <td>0.0</td>\n",
       "      <td>...</td>\n",
       "      <td>271.0</td>\n",
       "      <td>6943.0</td>\n",
       "      <td>565.0</td>\n",
       "      <td>0.45356</td>\n",
       "      <td>1240.0</td>\n",
       "      <td>269768.0</td>\n",
       "      <td>22.37</td>\n",
       "      <td>64.12</td>\n",
       "      <td>23587.0</td>\n",
       "      <td>230310.0</td>\n",
       "    </tr>\n",
       "    <tr>\n",
       "      <th>4</th>\n",
       "      <td>5</td>\n",
       "      <td>2011-09-05</td>\n",
       "      <td>77</td>\n",
       "      <td>77.0</td>\n",
       "      <td>4.0</td>\n",
       "      <td>0.0</td>\n",
       "      <td>0</td>\n",
       "      <td>0.0</td>\n",
       "      <td>0.0</td>\n",
       "      <td>0.0</td>\n",
       "      <td>...</td>\n",
       "      <td>271.0</td>\n",
       "      <td>6943.0</td>\n",
       "      <td>565.0</td>\n",
       "      <td>0.45356</td>\n",
       "      <td>1240.0</td>\n",
       "      <td>269768.0</td>\n",
       "      <td>22.37</td>\n",
       "      <td>64.12</td>\n",
       "      <td>23587.0</td>\n",
       "      <td>230310.0</td>\n",
       "    </tr>\n",
       "  </tbody>\n",
       "</table>\n",
       "<p>5 rows × 396 columns</p>\n",
       "</div>"
      ],
      "text/plain": [
       "   id   timestamp  full_sq  life_sq  floor  max_floor  material  build_year  \\\n",
       "0   1  2011-08-20       43     27.0    4.0        0.0         0         0.0   \n",
       "1   2  2011-08-23       34     19.0    3.0        0.0         0         0.0   \n",
       "2   3  2011-08-27       43     29.0    2.0        0.0         0         0.0   \n",
       "3   4  2011-09-01       89     50.0    9.0        0.0         0         0.0   \n",
       "4   5  2011-09-05       77     77.0    4.0        0.0         0         0.0   \n",
       "\n",
       "   num_room  kitch_sq         ...          provision_retail_space_modern_sqm  \\\n",
       "0       0.0       0.0         ...                                      271.0   \n",
       "1       0.0       0.0         ...                                      271.0   \n",
       "2       0.0       0.0         ...                                      271.0   \n",
       "3       0.0       0.0         ...                                      271.0   \n",
       "4       0.0       0.0         ...                                      271.0   \n",
       "\n",
       "  turnover_catering_per_cap theaters_viewers_per_1000_cap  \\\n",
       "0                    6943.0                         565.0   \n",
       "1                    6943.0                         565.0   \n",
       "2                    6943.0                         565.0   \n",
       "3                    6943.0                         565.0   \n",
       "4                    6943.0                         565.0   \n",
       "\n",
       "   seats_theather_rfmin_per_100000_cap  museum_visitis_per_100_cap  \\\n",
       "0                              0.45356                      1240.0   \n",
       "1                              0.45356                      1240.0   \n",
       "2                              0.45356                      1240.0   \n",
       "3                              0.45356                      1240.0   \n",
       "4                              0.45356                      1240.0   \n",
       "\n",
       "   bandwidth_sports  population_reg_sports_share  students_reg_sports_share  \\\n",
       "0          269768.0                        22.37                      64.12   \n",
       "1          269768.0                        22.37                      64.12   \n",
       "2          269768.0                        22.37                      64.12   \n",
       "3          269768.0                        22.37                      64.12   \n",
       "4          269768.0                        22.37                      64.12   \n",
       "\n",
       "   apartment_build  apartment_fund_sqm  \n",
       "0          23587.0            230310.0  \n",
       "1          23587.0            230310.0  \n",
       "2          23587.0            230310.0  \n",
       "3          23587.0            230310.0  \n",
       "4          23587.0            230310.0  \n",
       "\n",
       "[5 rows x 396 columns]"
      ]
     },
     "execution_count": 15,
     "metadata": {},
     "output_type": "execute_result"
    }
   ],
   "source": [
    "final_train_df.head()"
   ]
  },
  {
   "cell_type": "markdown",
   "metadata": {
    "deletable": true,
    "editable": true
   },
   "source": [
    "## Data prep"
   ]
  },
  {
   "cell_type": "code",
   "execution_count": 16,
   "metadata": {
    "collapsed": true,
    "deletable": true,
    "editable": true
   },
   "outputs": [],
   "source": [
    "def dedup(listy):\n",
    "    return list(set(listy))"
   ]
  },
  {
   "cell_type": "code",
   "execution_count": 116,
   "metadata": {
    "collapsed": false,
    "deletable": true,
    "editable": true
   },
   "outputs": [],
   "source": [
    "property_columns = [\n",
    "    # Place features\n",
    " 'full_sq',\n",
    " 'kitch_sq',\n",
    " 'floor',\n",
    " 'life_sq',\n",
    " 'build_year',\n",
    " 'num_room',\n",
    " 'max_floor',\n",
    " 'sub_area',\n",
    "]\n",
    "\n",
    "time_columns = [\n",
    " 'timestamp_day',\n",
    " 'timestamp_month',\n",
    " 'timestamp_year',\n",
    "]\n",
    "\n",
    "population_columns = [\n",
    "    # Economy: Population\n",
    "    'male_f',\n",
    "    'female_f',\n",
    "    'young_all',\n",
    "    'young_male',\n",
    "    'young_female',\n",
    "    'work_all',\n",
    "    'work_male',\n",
    "    'work_female',\n",
    "    'ekder_all',\n",
    "    'ekder_male',\n",
    "    'ekder_female',\n",
    "    \n",
    "    'marriages_per_1000_cap',\n",
    "    'divorce_rate',\n",
    "    'pop_natural_increase',\n",
    "    'pop_migration',\n",
    "    'pop_total_inc',\n",
    "    'childbirth',\n",
    "    'mortality',\n",
    "    'average_life_exp',\n",
    "]\n",
    "\n",
    "locality_columns = [\n",
    " 'metro_min_avto',\n",
    "    \n",
    " 'railroad_station_avto_min',\n",
    "    \n",
    " 'green_part_1000',\n",
    " 'green_part_1500',\n",
    "    \n",
    "     # Raion = number of...\n",
    "  'big_market_raion',\n",
    "  'nuclear_reactor_raion',\n",
    "  'detention_facility_raion',\n",
    "  'full_all',\n",
    "  'shopping_centers_raion',\n",
    "  'office_raion',\n",
    "  'thermal_power_plant_raion',\n",
    "  'healthcare_centers_raion',\n",
    "  'university_top_20_raion',\n",
    "    \n",
    "  # Locality features...\n",
    " 'railroad_km',\n",
    " 'green_zone_km',\n",
    " 'kindergarten_km',\n",
    " 'public_transport_station_km',\n",
    " 'metro_km_avto',\n",
    " 'park_km',\n",
    " 'cemetery_km',\n",
    " 'mosque_km',\n",
    " 'public_healthcare_km',\n",
    " 'catering_km',\n",
    " 'big_road2_km',\n",
    " 'hospice_morgue_km',\n",
    " 'swim_pool_km',\n",
    " 'water_treatment_km',\n",
    " 'power_transmission_line_km',\n",
    " 'water_km',\n",
    " 'school_km',\n",
    " 'ttk_km',\n",
    " 'area_m',\n",
    " 'ts_km',\n",
    " 'university_km',\n",
    " 'oil_chemistry_km',\n",
    " 'exhibition_km',\n",
    " 'shopping_centers_km',\n",
    " 'zd_vokzaly_avto_km',\n",
    " 'preschool_km',\n",
    " 'big_road1_km',\n",
    " 'additional_education_km',\n",
    " 'church_synagogue_km',\n",
    " 'big_church_km',\n",
    " 'incineration_km',\n",
    " 'industrial_km',\n",
    " 'nuclear_reactor_km',\n",
    "]\n",
    "\n",
    "economy_columns = [\n",
    "    \n",
    "    \n",
    "     'usdrub',\n",
    " 'micex_cbi_tr',\n",
    " 'brent', \n",
    "    \n",
    "     'micex',\n",
    "    \n",
    "    'oil_urals',\n",
    "     \n",
    " # Economy features\n",
    " 'gdp_quart',\n",
    " 'gdp_quart_growth',\n",
    " 'cpi',\n",
    "    'ppi',\n",
    "    'gdp_deflator',\n",
    "    'gdp_annual',\n",
    "    'gdp_annual_growth',\n",
    "    'average_provision_of_build_contract',\n",
    "    'average_provision_of_build_contract_moscow',\n",
    "    'rts',\n",
    "    'deposits_value',\n",
    "    'deposits_growth',\n",
    "    'deposits_rate',\n",
    "    'mortgage_value',\n",
    "    'mortgage_growth',\n",
    "    'mortgage_rate',\n",
    "    'grp',\n",
    "    'grp_growth',\n",
    "    'income_per_cap',\n",
    "    'real_dispos_income_per_cap_growth',\n",
    "    'salary',\n",
    "    'salary_growth',\n",
    "    'labor_force',\n",
    "    'unemployment',\n",
    "    'employment',\n",
    "    'construction_value',\n",
    "    'housing_fund_sqm',\n",
    "    'lodging_sqm_per_cap',\n",
    "    'water_pipes_share',\n",
    "    'baths_share',\n",
    "    'sewerage_share',\n",
    "    'gas_share',\n",
    "    'hot_water_share',\n",
    "    'electric_stove_share',\n",
    "    'heating_share',\n",
    "    'old_house_share',\n",
    "    'incidence_population',\n",
    "    'rent_price_4+room_bus',\n",
    "    'rent_price_3room_bus',\n",
    "    'rent_price_2room_bus',\n",
    "    'rent_price_1room_bus',\n",
    "    'rent_price_3room_eco',\n",
    "    'rent_price_2room_eco',\n",
    "    'rent_price_1room_eco',\n",
    "    'apartment_build',\n",
    "    'apartment_fund_sqm',\n",
    "    'indust_part',\n",
    "]\n",
    "\n",
    "one_hot_cols = [\n",
    "    'material',\n",
    "    'state_refractored'\n",
    "]\n",
    "\n",
    "columns = dedup(property_columns + population_columns + economy_columns + locality_columns + time_columns + one_hot_cols)\n",
    "\n",
    "label_cols = [\n",
    "    'sub_area',\n",
    "    'big_market_raion',\n",
    "    'nuclear_reactor_raion',\n",
    "    'thermal_power_plant_raion',\n",
    "    'detention_facility_raion',\n",
    "    'big_market_raion',\n",
    "  'nuclear_reactor_raion',\n",
    "  'detention_facility_raion',\n",
    "  'full_all',\n",
    "  'shopping_centers_raion',\n",
    "  'office_raion',\n",
    "  'thermal_power_plant_raion',\n",
    "  'healthcare_centers_raion',\n",
    "  'university_top_20_raion',\n",
    "]\n",
    "\n",
    "exclude_normalize_columns = [\n",
    "    # Specific columns to exclude...\n",
    "] + one_hot_cols + label_cols\n",
    "\n",
    "\n",
    "embedding_columns = [\n",
    "    'sub_area'\n",
    "]\n",
    "\n",
    "normalize_columns = [c for c in columns if c not in exclude_normalize_columns]\n",
    "\n",
    "#locality_columns = [c for c in columns if \"_km\" in c]\n",
    "continuous_columns = [c for c in columns if c not in one_hot_cols and c not in label_cols]\n",
    "continuous_columns_without_locality = [c for c in continuous_columns if c not in locality_columns]"
   ]
  },
  {
   "cell_type": "code",
   "execution_count": 117,
   "metadata": {
    "collapsed": false,
    "deletable": true,
    "editable": true
   },
   "outputs": [],
   "source": [
    "final_train_df = final_train_df[columns + [LABEL, 'timestamp_converted']]"
   ]
  },
  {
   "cell_type": "code",
   "execution_count": 118,
   "metadata": {
    "collapsed": false,
    "deletable": true,
    "editable": true
   },
   "outputs": [
    {
     "data": {
      "text/html": [
       "<div>\n",
       "<table border=\"1\" class=\"dataframe\">\n",
       "  <thead>\n",
       "    <tr style=\"text-align: right;\">\n",
       "      <th></th>\n",
       "      <th>micex_cbi_tr</th>\n",
       "      <th>unemployment</th>\n",
       "      <th>apartment_build</th>\n",
       "      <th>railroad_station_avto_min</th>\n",
       "      <th>rts</th>\n",
       "      <th>pop_migration</th>\n",
       "      <th>work_all</th>\n",
       "      <th>state_refractored</th>\n",
       "      <th>healthcare_centers_raion</th>\n",
       "      <th>max_floor</th>\n",
       "      <th>...</th>\n",
       "      <th>salary</th>\n",
       "      <th>cpi</th>\n",
       "      <th>rent_price_4+room_bus</th>\n",
       "      <th>micex</th>\n",
       "      <th>rent_price_3room_bus</th>\n",
       "      <th>average_provision_of_build_contract_moscow</th>\n",
       "      <th>average_life_exp</th>\n",
       "      <th>marriages_per_1000_cap</th>\n",
       "      <th>price_doc</th>\n",
       "      <th>timestamp_converted</th>\n",
       "    </tr>\n",
       "  </thead>\n",
       "  <tbody>\n",
       "    <tr>\n",
       "      <th>0</th>\n",
       "      <td>204.78</td>\n",
       "      <td>0.014</td>\n",
       "      <td>23587.0</td>\n",
       "      <td>6.905893</td>\n",
       "      <td>1575.33</td>\n",
       "      <td>5.1</td>\n",
       "      <td>98207</td>\n",
       "      <td>0</td>\n",
       "      <td>1</td>\n",
       "      <td>0.0</td>\n",
       "      <td>...</td>\n",
       "      <td>44898.7</td>\n",
       "      <td>354.0</td>\n",
       "      <td>136.11</td>\n",
       "      <td>1438.74</td>\n",
       "      <td>77.93</td>\n",
       "      <td>6.74</td>\n",
       "      <td>75.79</td>\n",
       "      <td>8.5</td>\n",
       "      <td>5850000</td>\n",
       "      <td>2011-08-20</td>\n",
       "    </tr>\n",
       "    <tr>\n",
       "      <th>1</th>\n",
       "      <td>204.92</td>\n",
       "      <td>0.014</td>\n",
       "      <td>23587.0</td>\n",
       "      <td>4.679745</td>\n",
       "      <td>1578.91</td>\n",
       "      <td>5.1</td>\n",
       "      <td>70194</td>\n",
       "      <td>0</td>\n",
       "      <td>1</td>\n",
       "      <td>0.0</td>\n",
       "      <td>...</td>\n",
       "      <td>44898.7</td>\n",
       "      <td>354.0</td>\n",
       "      <td>136.11</td>\n",
       "      <td>1444.11</td>\n",
       "      <td>77.93</td>\n",
       "      <td>6.74</td>\n",
       "      <td>75.79</td>\n",
       "      <td>8.5</td>\n",
       "      <td>6000000</td>\n",
       "      <td>2011-08-23</td>\n",
       "    </tr>\n",
       "    <tr>\n",
       "      <th>2</th>\n",
       "      <td>204.84</td>\n",
       "      <td>0.014</td>\n",
       "      <td>23587.0</td>\n",
       "      <td>1.701420</td>\n",
       "      <td>1596.17</td>\n",
       "      <td>5.1</td>\n",
       "      <td>63388</td>\n",
       "      <td>0</td>\n",
       "      <td>1</td>\n",
       "      <td>0.0</td>\n",
       "      <td>...</td>\n",
       "      <td>44898.7</td>\n",
       "      <td>354.0</td>\n",
       "      <td>136.11</td>\n",
       "      <td>1458.84</td>\n",
       "      <td>77.93</td>\n",
       "      <td>6.74</td>\n",
       "      <td>75.79</td>\n",
       "      <td>8.5</td>\n",
       "      <td>5700000</td>\n",
       "      <td>2011-08-27</td>\n",
       "    </tr>\n",
       "    <tr>\n",
       "      <th>3</th>\n",
       "      <td>205.42</td>\n",
       "      <td>0.014</td>\n",
       "      <td>23587.0</td>\n",
       "      <td>5.271136</td>\n",
       "      <td>1703.86</td>\n",
       "      <td>5.1</td>\n",
       "      <td>120381</td>\n",
       "      <td>0</td>\n",
       "      <td>1</td>\n",
       "      <td>0.0</td>\n",
       "      <td>...</td>\n",
       "      <td>44898.7</td>\n",
       "      <td>353.2</td>\n",
       "      <td>155.22</td>\n",
       "      <td>1551.58</td>\n",
       "      <td>94.02</td>\n",
       "      <td>6.74</td>\n",
       "      <td>75.79</td>\n",
       "      <td>8.5</td>\n",
       "      <td>13100000</td>\n",
       "      <td>2011-09-01</td>\n",
       "    </tr>\n",
       "    <tr>\n",
       "      <th>4</th>\n",
       "      <td>198.24</td>\n",
       "      <td>0.014</td>\n",
       "      <td>23587.0</td>\n",
       "      <td>2.156284</td>\n",
       "      <td>1617.01</td>\n",
       "      <td>5.1</td>\n",
       "      <td>68043</td>\n",
       "      <td>0</td>\n",
       "      <td>4</td>\n",
       "      <td>0.0</td>\n",
       "      <td>...</td>\n",
       "      <td>44898.7</td>\n",
       "      <td>353.2</td>\n",
       "      <td>155.22</td>\n",
       "      <td>1492.83</td>\n",
       "      <td>94.02</td>\n",
       "      <td>6.74</td>\n",
       "      <td>75.79</td>\n",
       "      <td>8.5</td>\n",
       "      <td>16331452</td>\n",
       "      <td>2011-09-05</td>\n",
       "    </tr>\n",
       "  </tbody>\n",
       "</table>\n",
       "<p>5 rows × 132 columns</p>\n",
       "</div>"
      ],
      "text/plain": [
       "   micex_cbi_tr  unemployment  apartment_build  railroad_station_avto_min  \\\n",
       "0        204.78         0.014          23587.0                   6.905893   \n",
       "1        204.92         0.014          23587.0                   4.679745   \n",
       "2        204.84         0.014          23587.0                   1.701420   \n",
       "3        205.42         0.014          23587.0                   5.271136   \n",
       "4        198.24         0.014          23587.0                   2.156284   \n",
       "\n",
       "       rts  pop_migration  work_all  state_refractored  \\\n",
       "0  1575.33            5.1     98207                  0   \n",
       "1  1578.91            5.1     70194                  0   \n",
       "2  1596.17            5.1     63388                  0   \n",
       "3  1703.86            5.1    120381                  0   \n",
       "4  1617.01            5.1     68043                  0   \n",
       "\n",
       "   healthcare_centers_raion  max_floor         ...            salary    cpi  \\\n",
       "0                         1        0.0         ...           44898.7  354.0   \n",
       "1                         1        0.0         ...           44898.7  354.0   \n",
       "2                         1        0.0         ...           44898.7  354.0   \n",
       "3                         1        0.0         ...           44898.7  353.2   \n",
       "4                         4        0.0         ...           44898.7  353.2   \n",
       "\n",
       "   rent_price_4+room_bus    micex  rent_price_3room_bus  \\\n",
       "0                 136.11  1438.74                 77.93   \n",
       "1                 136.11  1444.11                 77.93   \n",
       "2                 136.11  1458.84                 77.93   \n",
       "3                 155.22  1551.58                 94.02   \n",
       "4                 155.22  1492.83                 94.02   \n",
       "\n",
       "   average_provision_of_build_contract_moscow  average_life_exp  \\\n",
       "0                                        6.74             75.79   \n",
       "1                                        6.74             75.79   \n",
       "2                                        6.74             75.79   \n",
       "3                                        6.74             75.79   \n",
       "4                                        6.74             75.79   \n",
       "\n",
       "   marriages_per_1000_cap  price_doc  timestamp_converted  \n",
       "0                     8.5    5850000           2011-08-20  \n",
       "1                     8.5    6000000           2011-08-23  \n",
       "2                     8.5    5700000           2011-08-27  \n",
       "3                     8.5   13100000           2011-09-01  \n",
       "4                     8.5   16331452           2011-09-05  \n",
       "\n",
       "[5 rows x 132 columns]"
      ]
     },
     "execution_count": 118,
     "metadata": {},
     "output_type": "execute_result"
    }
   ],
   "source": [
    "final_train_df.head()"
   ]
  },
  {
   "cell_type": "code",
   "execution_count": 119,
   "metadata": {
    "collapsed": false,
    "deletable": true,
    "editable": true
   },
   "outputs": [
    {
     "name": "stderr",
     "output_type": "stream",
     "text": [
      "/usr/local/lib/python2.7/dist-packages/ipykernel/__main__.py:1: FutureWarning: convert_objects is deprecated.  Use the data-type specific converters pd.to_datetime, pd.to_timedelta and pd.to_numeric.\n",
      "  if __name__ == '__main__':\n"
     ]
    }
   ],
   "source": [
    "final_train_df = final_train_df.convert_objects(convert_numeric=True)"
   ]
  },
  {
   "cell_type": "markdown",
   "metadata": {
    "deletable": true,
    "editable": true
   },
   "source": [
    "## Prepare numeric data scalers & normalizers"
   ]
  },
  {
   "cell_type": "code",
   "execution_count": 120,
   "metadata": {
    "collapsed": true,
    "deletable": true,
    "editable": true
   },
   "outputs": [],
   "source": [
    "norm_scalers = {column : preprocessing.StandardScaler() for column in normalize_columns}"
   ]
  },
  {
   "cell_type": "code",
   "execution_count": 121,
   "metadata": {
    "collapsed": false,
    "deletable": true,
    "editable": true
   },
   "outputs": [
    {
     "data": {
      "text/plain": [
       "{'additional_education_km': StandardScaler(copy=True, with_mean=True, with_std=True),\n",
       " 'apartment_build': StandardScaler(copy=True, with_mean=True, with_std=True),\n",
       " 'apartment_fund_sqm': StandardScaler(copy=True, with_mean=True, with_std=True),\n",
       " 'area_m': StandardScaler(copy=True, with_mean=True, with_std=True),\n",
       " 'average_life_exp': StandardScaler(copy=True, with_mean=True, with_std=True),\n",
       " 'average_provision_of_build_contract': StandardScaler(copy=True, with_mean=True, with_std=True),\n",
       " 'average_provision_of_build_contract_moscow': StandardScaler(copy=True, with_mean=True, with_std=True),\n",
       " 'baths_share': StandardScaler(copy=True, with_mean=True, with_std=True),\n",
       " 'big_church_km': StandardScaler(copy=True, with_mean=True, with_std=True),\n",
       " 'big_road1_km': StandardScaler(copy=True, with_mean=True, with_std=True),\n",
       " 'big_road2_km': StandardScaler(copy=True, with_mean=True, with_std=True),\n",
       " 'brent': StandardScaler(copy=True, with_mean=True, with_std=True),\n",
       " 'build_year': StandardScaler(copy=True, with_mean=True, with_std=True),\n",
       " 'catering_km': StandardScaler(copy=True, with_mean=True, with_std=True),\n",
       " 'cemetery_km': StandardScaler(copy=True, with_mean=True, with_std=True),\n",
       " 'childbirth': StandardScaler(copy=True, with_mean=True, with_std=True),\n",
       " 'church_synagogue_km': StandardScaler(copy=True, with_mean=True, with_std=True),\n",
       " 'construction_value': StandardScaler(copy=True, with_mean=True, with_std=True),\n",
       " 'cpi': StandardScaler(copy=True, with_mean=True, with_std=True),\n",
       " 'deposits_growth': StandardScaler(copy=True, with_mean=True, with_std=True),\n",
       " 'deposits_rate': StandardScaler(copy=True, with_mean=True, with_std=True),\n",
       " 'deposits_value': StandardScaler(copy=True, with_mean=True, with_std=True),\n",
       " 'divorce_rate': StandardScaler(copy=True, with_mean=True, with_std=True),\n",
       " 'ekder_all': StandardScaler(copy=True, with_mean=True, with_std=True),\n",
       " 'ekder_female': StandardScaler(copy=True, with_mean=True, with_std=True),\n",
       " 'ekder_male': StandardScaler(copy=True, with_mean=True, with_std=True),\n",
       " 'electric_stove_share': StandardScaler(copy=True, with_mean=True, with_std=True),\n",
       " 'employment': StandardScaler(copy=True, with_mean=True, with_std=True),\n",
       " 'exhibition_km': StandardScaler(copy=True, with_mean=True, with_std=True),\n",
       " 'female_f': StandardScaler(copy=True, with_mean=True, with_std=True),\n",
       " 'floor': StandardScaler(copy=True, with_mean=True, with_std=True),\n",
       " 'full_sq': StandardScaler(copy=True, with_mean=True, with_std=True),\n",
       " 'gas_share': StandardScaler(copy=True, with_mean=True, with_std=True),\n",
       " 'gdp_annual': StandardScaler(copy=True, with_mean=True, with_std=True),\n",
       " 'gdp_annual_growth': StandardScaler(copy=True, with_mean=True, with_std=True),\n",
       " 'gdp_deflator': StandardScaler(copy=True, with_mean=True, with_std=True),\n",
       " 'gdp_quart': StandardScaler(copy=True, with_mean=True, with_std=True),\n",
       " 'gdp_quart_growth': StandardScaler(copy=True, with_mean=True, with_std=True),\n",
       " 'green_part_1000': StandardScaler(copy=True, with_mean=True, with_std=True),\n",
       " 'green_part_1500': StandardScaler(copy=True, with_mean=True, with_std=True),\n",
       " 'green_zone_km': StandardScaler(copy=True, with_mean=True, with_std=True),\n",
       " 'grp': StandardScaler(copy=True, with_mean=True, with_std=True),\n",
       " 'grp_growth': StandardScaler(copy=True, with_mean=True, with_std=True),\n",
       " 'heating_share': StandardScaler(copy=True, with_mean=True, with_std=True),\n",
       " 'hospice_morgue_km': StandardScaler(copy=True, with_mean=True, with_std=True),\n",
       " 'hot_water_share': StandardScaler(copy=True, with_mean=True, with_std=True),\n",
       " 'housing_fund_sqm': StandardScaler(copy=True, with_mean=True, with_std=True),\n",
       " 'incidence_population': StandardScaler(copy=True, with_mean=True, with_std=True),\n",
       " 'incineration_km': StandardScaler(copy=True, with_mean=True, with_std=True),\n",
       " 'income_per_cap': StandardScaler(copy=True, with_mean=True, with_std=True),\n",
       " 'indust_part': StandardScaler(copy=True, with_mean=True, with_std=True),\n",
       " 'industrial_km': StandardScaler(copy=True, with_mean=True, with_std=True),\n",
       " 'kindergarten_km': StandardScaler(copy=True, with_mean=True, with_std=True),\n",
       " 'kitch_sq': StandardScaler(copy=True, with_mean=True, with_std=True),\n",
       " 'labor_force': StandardScaler(copy=True, with_mean=True, with_std=True),\n",
       " 'life_sq': StandardScaler(copy=True, with_mean=True, with_std=True),\n",
       " 'lodging_sqm_per_cap': StandardScaler(copy=True, with_mean=True, with_std=True),\n",
       " 'male_f': StandardScaler(copy=True, with_mean=True, with_std=True),\n",
       " 'marriages_per_1000_cap': StandardScaler(copy=True, with_mean=True, with_std=True),\n",
       " 'max_floor': StandardScaler(copy=True, with_mean=True, with_std=True),\n",
       " 'metro_km_avto': StandardScaler(copy=True, with_mean=True, with_std=True),\n",
       " 'metro_min_avto': StandardScaler(copy=True, with_mean=True, with_std=True),\n",
       " 'micex': StandardScaler(copy=True, with_mean=True, with_std=True),\n",
       " 'micex_cbi_tr': StandardScaler(copy=True, with_mean=True, with_std=True),\n",
       " 'mortality': StandardScaler(copy=True, with_mean=True, with_std=True),\n",
       " 'mortgage_growth': StandardScaler(copy=True, with_mean=True, with_std=True),\n",
       " 'mortgage_rate': StandardScaler(copy=True, with_mean=True, with_std=True),\n",
       " 'mortgage_value': StandardScaler(copy=True, with_mean=True, with_std=True),\n",
       " 'mosque_km': StandardScaler(copy=True, with_mean=True, with_std=True),\n",
       " 'nuclear_reactor_km': StandardScaler(copy=True, with_mean=True, with_std=True),\n",
       " 'num_room': StandardScaler(copy=True, with_mean=True, with_std=True),\n",
       " 'oil_chemistry_km': StandardScaler(copy=True, with_mean=True, with_std=True),\n",
       " 'oil_urals': StandardScaler(copy=True, with_mean=True, with_std=True),\n",
       " 'old_house_share': StandardScaler(copy=True, with_mean=True, with_std=True),\n",
       " 'park_km': StandardScaler(copy=True, with_mean=True, with_std=True),\n",
       " 'pop_migration': StandardScaler(copy=True, with_mean=True, with_std=True),\n",
       " 'pop_natural_increase': StandardScaler(copy=True, with_mean=True, with_std=True),\n",
       " 'pop_total_inc': StandardScaler(copy=True, with_mean=True, with_std=True),\n",
       " 'power_transmission_line_km': StandardScaler(copy=True, with_mean=True, with_std=True),\n",
       " 'ppi': StandardScaler(copy=True, with_mean=True, with_std=True),\n",
       " 'preschool_km': StandardScaler(copy=True, with_mean=True, with_std=True),\n",
       " 'public_healthcare_km': StandardScaler(copy=True, with_mean=True, with_std=True),\n",
       " 'public_transport_station_km': StandardScaler(copy=True, with_mean=True, with_std=True),\n",
       " 'railroad_km': StandardScaler(copy=True, with_mean=True, with_std=True),\n",
       " 'railroad_station_avto_min': StandardScaler(copy=True, with_mean=True, with_std=True),\n",
       " 'real_dispos_income_per_cap_growth': StandardScaler(copy=True, with_mean=True, with_std=True),\n",
       " 'rent_price_1room_bus': StandardScaler(copy=True, with_mean=True, with_std=True),\n",
       " 'rent_price_1room_eco': StandardScaler(copy=True, with_mean=True, with_std=True),\n",
       " 'rent_price_2room_bus': StandardScaler(copy=True, with_mean=True, with_std=True),\n",
       " 'rent_price_2room_eco': StandardScaler(copy=True, with_mean=True, with_std=True),\n",
       " 'rent_price_3room_bus': StandardScaler(copy=True, with_mean=True, with_std=True),\n",
       " 'rent_price_3room_eco': StandardScaler(copy=True, with_mean=True, with_std=True),\n",
       " 'rent_price_4+room_bus': StandardScaler(copy=True, with_mean=True, with_std=True),\n",
       " 'rts': StandardScaler(copy=True, with_mean=True, with_std=True),\n",
       " 'salary': StandardScaler(copy=True, with_mean=True, with_std=True),\n",
       " 'salary_growth': StandardScaler(copy=True, with_mean=True, with_std=True),\n",
       " 'school_km': StandardScaler(copy=True, with_mean=True, with_std=True),\n",
       " 'sewerage_share': StandardScaler(copy=True, with_mean=True, with_std=True),\n",
       " 'shopping_centers_km': StandardScaler(copy=True, with_mean=True, with_std=True),\n",
       " 'swim_pool_km': StandardScaler(copy=True, with_mean=True, with_std=True),\n",
       " 'timestamp_day': StandardScaler(copy=True, with_mean=True, with_std=True),\n",
       " 'timestamp_month': StandardScaler(copy=True, with_mean=True, with_std=True),\n",
       " 'timestamp_year': StandardScaler(copy=True, with_mean=True, with_std=True),\n",
       " 'ts_km': StandardScaler(copy=True, with_mean=True, with_std=True),\n",
       " 'ttk_km': StandardScaler(copy=True, with_mean=True, with_std=True),\n",
       " 'unemployment': StandardScaler(copy=True, with_mean=True, with_std=True),\n",
       " 'university_km': StandardScaler(copy=True, with_mean=True, with_std=True),\n",
       " 'usdrub': StandardScaler(copy=True, with_mean=True, with_std=True),\n",
       " 'water_km': StandardScaler(copy=True, with_mean=True, with_std=True),\n",
       " 'water_pipes_share': StandardScaler(copy=True, with_mean=True, with_std=True),\n",
       " 'water_treatment_km': StandardScaler(copy=True, with_mean=True, with_std=True),\n",
       " 'work_all': StandardScaler(copy=True, with_mean=True, with_std=True),\n",
       " 'work_female': StandardScaler(copy=True, with_mean=True, with_std=True),\n",
       " 'work_male': StandardScaler(copy=True, with_mean=True, with_std=True),\n",
       " 'young_all': StandardScaler(copy=True, with_mean=True, with_std=True),\n",
       " 'young_female': StandardScaler(copy=True, with_mean=True, with_std=True),\n",
       " 'young_male': StandardScaler(copy=True, with_mean=True, with_std=True),\n",
       " 'zd_vokzaly_avto_km': StandardScaler(copy=True, with_mean=True, with_std=True)}"
      ]
     },
     "execution_count": 121,
     "metadata": {},
     "output_type": "execute_result"
    }
   ],
   "source": [
    "norm_scalers"
   ]
  },
  {
   "cell_type": "code",
   "execution_count": 122,
   "metadata": {
    "collapsed": false,
    "deletable": true,
    "editable": true
   },
   "outputs": [
    {
     "data": {
      "text/plain": [
       "118"
      ]
     },
     "execution_count": 122,
     "metadata": {},
     "output_type": "execute_result"
    }
   ],
   "source": [
    "len(norm_scalers)"
   ]
  },
  {
   "cell_type": "code",
   "execution_count": 123,
   "metadata": {
    "collapsed": true,
    "deletable": true,
    "editable": true
   },
   "outputs": [],
   "source": [
    "ont_hot_scalers = {column : (preprocessing.LabelEncoder(), preprocessing.OneHotEncoder(sparse=False)) for column in one_hot_cols}"
   ]
  },
  {
   "cell_type": "code",
   "execution_count": 124,
   "metadata": {
    "collapsed": false,
    "deletable": true,
    "editable": true
   },
   "outputs": [
    {
     "data": {
      "text/plain": [
       "{'material': (LabelEncoder(),\n",
       "  OneHotEncoder(categorical_features='all', dtype=<type 'numpy.float64'>,\n",
       "         handle_unknown='error', n_values='auto', sparse=False)),\n",
       " 'state_refractored': (LabelEncoder(),\n",
       "  OneHotEncoder(categorical_features='all', dtype=<type 'numpy.float64'>,\n",
       "         handle_unknown='error', n_values='auto', sparse=False))}"
      ]
     },
     "execution_count": 124,
     "metadata": {},
     "output_type": "execute_result"
    }
   ],
   "source": [
    "ont_hot_scalers"
   ]
  },
  {
   "cell_type": "code",
   "execution_count": 125,
   "metadata": {
    "collapsed": true,
    "deletable": true,
    "editable": true
   },
   "outputs": [],
   "source": [
    "label_scalers = {column : preprocessing.LabelEncoder() for column in label_cols}"
   ]
  },
  {
   "cell_type": "code",
   "execution_count": 126,
   "metadata": {
    "collapsed": false,
    "deletable": true,
    "editable": true
   },
   "outputs": [
    {
     "data": {
      "text/plain": [
       "{'big_market_raion': LabelEncoder(),\n",
       " 'detention_facility_raion': LabelEncoder(),\n",
       " 'full_all': LabelEncoder(),\n",
       " 'healthcare_centers_raion': LabelEncoder(),\n",
       " 'nuclear_reactor_raion': LabelEncoder(),\n",
       " 'office_raion': LabelEncoder(),\n",
       " 'shopping_centers_raion': LabelEncoder(),\n",
       " 'sub_area': LabelEncoder(),\n",
       " 'thermal_power_plant_raion': LabelEncoder(),\n",
       " 'university_top_20_raion': LabelEncoder()}"
      ]
     },
     "execution_count": 126,
     "metadata": {},
     "output_type": "execute_result"
    }
   ],
   "source": [
    "label_scalers"
   ]
  },
  {
   "cell_type": "code",
   "execution_count": 127,
   "metadata": {
    "collapsed": false,
    "deletable": true,
    "editable": true
   },
   "outputs": [],
   "source": [
    "for column in normalize_columns:\n",
    "    c_scaler = norm_scalers[column]\n",
    "    try:\n",
    "        c_scaler.fit(final_train_df[[column]].values)\n",
    "    except:\n",
    "        print 'failed: ', column"
   ]
  },
  {
   "cell_type": "code",
   "execution_count": 128,
   "metadata": {
    "collapsed": false,
    "deletable": true,
    "editable": true
   },
   "outputs": [],
   "source": [
    "for column in one_hot_cols:\n",
    "    label_enc, one_hot_enc = ont_hot_scalers[column]\n",
    "    r = label_enc.fit_transform(final_train_df[[column]].values)\n",
    "    r = np.expand_dims(r, axis=1)\n",
    "    one_hot_enc.fit(r)"
   ]
  },
  {
   "cell_type": "code",
   "execution_count": 129,
   "metadata": {
    "collapsed": false,
    "deletable": true,
    "editable": true
   },
   "outputs": [],
   "source": [
    "for column in label_cols:\n",
    "    label_enc = label_scalers[column]\n",
    "    label_enc.fit(final_train_df[[column]].values)"
   ]
  },
  {
   "cell_type": "markdown",
   "metadata": {
    "deletable": true,
    "editable": true
   },
   "source": [
    "### Test the scalers..."
   ]
  },
  {
   "cell_type": "code",
   "execution_count": 130,
   "metadata": {
    "collapsed": false,
    "deletable": true,
    "editable": true
   },
   "outputs": [
    {
     "name": "stderr",
     "output_type": "stream",
     "text": [
      "/usr/local/lib/python2.7/dist-packages/sklearn/preprocessing/data.py:649: DeprecationWarning: Passing 1d arrays as data is deprecated in 0.17 and will raise ValueError in 0.19. Reshape your data either using X.reshape(-1, 1) if your data has a single feature or X.reshape(1, -1) if it contains a single sample.\n",
      "  warnings.warn(DEPRECATION_MSG_1D, DeprecationWarning)\n"
     ]
    },
    {
     "data": {
      "text/plain": [
       "array([ 0.40933319])"
      ]
     },
     "execution_count": 130,
     "metadata": {},
     "output_type": "execute_result"
    }
   ],
   "source": [
    "norm_scalers['timestamp_day'].transform([final_train_df.ix[0]['timestamp_day']])"
   ]
  },
  {
   "cell_type": "code",
   "execution_count": 131,
   "metadata": {
    "collapsed": false,
    "deletable": true,
    "editable": true
   },
   "outputs": [
    {
     "name": "stderr",
     "output_type": "stream",
     "text": [
      "/usr/local/lib/python2.7/dist-packages/sklearn/utils/validation.py:395: DeprecationWarning: Passing 1d arrays as data is deprecated in 0.17 and will raise ValueError in 0.19. Reshape your data either using X.reshape(-1, 1) if your data has a single feature or X.reshape(1, -1) if it contains a single sample.\n",
      "  DeprecationWarning)\n"
     ]
    },
    {
     "data": {
      "text/plain": [
       "array([[ 1.,  0.,  0.,  0.,  0.,  0.,  0.]])"
      ]
     },
     "execution_count": 131,
     "metadata": {},
     "output_type": "execute_result"
    }
   ],
   "source": [
    "ont_hot_scalers['material'][1].transform([final_train_df.ix[70]['material']])"
   ]
  },
  {
   "cell_type": "code",
   "execution_count": 132,
   "metadata": {
    "collapsed": false,
    "deletable": true,
    "editable": true
   },
   "outputs": [
    {
     "data": {
      "text/plain": [
       "array([9])"
      ]
     },
     "execution_count": 132,
     "metadata": {},
     "output_type": "execute_result"
    }
   ],
   "source": [
    "label_scalers['sub_area'].transform([final_train_df.ix[0]['sub_area']])"
   ]
  },
  {
   "cell_type": "code",
   "execution_count": 133,
   "metadata": {
    "collapsed": false,
    "deletable": true,
    "editable": true
   },
   "outputs": [],
   "source": [
    "sub_area_metadata = open('/mnt/h/Kaggle/Competitions/Russian Bank/models/metadata/sub_area_metadata.tsv', 'w+')\n",
    "sub_area_metadata.write(\"Sub area\\n\" + \"\\n\".join([label_scalers['sub_area'].inverse_transform([i])[0] for i in range(146)]))\n",
    "sub_area_metadata.close()"
   ]
  },
  {
   "cell_type": "markdown",
   "metadata": {
    "deletable": true,
    "editable": true
   },
   "source": [
    "### Save them to disk"
   ]
  },
  {
   "cell_type": "code",
   "execution_count": 134,
   "metadata": {
    "collapsed": true,
    "deletable": true,
    "editable": true
   },
   "outputs": [],
   "source": [
    "from sklearn.externals import joblib"
   ]
  },
  {
   "cell_type": "code",
   "execution_count": 135,
   "metadata": {
    "collapsed": false,
    "deletable": true,
    "editable": true
   },
   "outputs": [
    {
     "data": {
      "text/plain": [
       "['/mnt/h/Kaggle/Competitions/Russian Bank/code/data/norm_scalers.pkl']"
      ]
     },
     "execution_count": 135,
     "metadata": {},
     "output_type": "execute_result"
    }
   ],
   "source": [
    "joblib.dump(norm_scalers, '/mnt/h/Kaggle/Competitions/Russian Bank/code/data/norm_scalers.pkl') "
   ]
  },
  {
   "cell_type": "code",
   "execution_count": 136,
   "metadata": {
    "collapsed": false,
    "deletable": true,
    "editable": true
   },
   "outputs": [
    {
     "data": {
      "text/plain": [
       "['/mnt/h/Kaggle/Competitions/Russian Bank/code/data/one_hot_scalers.pkl']"
      ]
     },
     "execution_count": 136,
     "metadata": {},
     "output_type": "execute_result"
    }
   ],
   "source": [
    "joblib.dump(ont_hot_scalers, '/mnt/h/Kaggle/Competitions/Russian Bank/code/data/one_hot_scalers.pkl') "
   ]
  },
  {
   "cell_type": "code",
   "execution_count": 137,
   "metadata": {
    "collapsed": false,
    "deletable": true,
    "editable": true
   },
   "outputs": [
    {
     "data": {
      "text/plain": [
       "['/mnt/h/Kaggle/Competitions/Russian Bank/code/data/label_scalers.pkl']"
      ]
     },
     "execution_count": 137,
     "metadata": {},
     "output_type": "execute_result"
    }
   ],
   "source": [
    "joblib.dump(label_scalers, '/mnt/h/Kaggle/Competitions/Russian Bank/code/data/label_scalers.pkl') "
   ]
  },
  {
   "cell_type": "markdown",
   "metadata": {
    "collapsed": true,
    "deletable": true,
    "editable": true
   },
   "source": [
    "### Transform the whole training data"
   ]
  },
  {
   "cell_type": "code",
   "execution_count": 138,
   "metadata": {
    "collapsed": false,
    "deletable": true,
    "editable": true
   },
   "outputs": [],
   "source": [
    "for continuous_norm_col in normalize_columns:\n",
    "    scaler = norm_scalers[continuous_norm_col]\n",
    "    scaled_values = scaler.transform(final_train_df[[continuous_norm_col]].values)\n",
    "    final_train_df[continuous_norm_col + \"_scaled_feature\"] = scaled_values"
   ]
  },
  {
   "cell_type": "code",
   "execution_count": 139,
   "metadata": {
    "collapsed": false,
    "deletable": true,
    "editable": true
   },
   "outputs": [],
   "source": [
    "for one_hot_col in one_hot_cols:\n",
    "    l_scaler = ont_hot_scalers[one_hot_col][0]\n",
    "    scaler = ont_hot_scalers[one_hot_col][1]\n",
    "    r = l_scaler.transform(final_train_df[[one_hot_col]].values)\n",
    "    r = np.expand_dims(r, axis=1)\n",
    "    scaled_values = scaler.transform(r)\n",
    "    final_train_df[one_hot_col + \"_scaled_feature\"] = list(scaled_values)"
   ]
  },
  {
   "cell_type": "code",
   "execution_count": 140,
   "metadata": {
    "collapsed": true,
    "deletable": true,
    "editable": true
   },
   "outputs": [],
   "source": [
    "for label_col in label_cols:\n",
    "    label_enc = label_scalers[label_col]\n",
    "    encoded_values = label_enc.transform(final_train_df[[label_col]].values)\n",
    "    final_train_df[label_col + \"_scaled_feature\"] = encoded_values"
   ]
  },
  {
   "cell_type": "code",
   "execution_count": 141,
   "metadata": {
    "collapsed": true,
    "deletable": true,
    "editable": true
   },
   "outputs": [],
   "source": [
    "def extract_normalized_feature(df, feature_name):\n",
    "    return np.array(df[feature_name + \"_scaled_feature\"].values.tolist())"
   ]
  },
  {
   "cell_type": "code",
   "execution_count": 142,
   "metadata": {
    "collapsed": false,
    "deletable": true,
    "editable": true
   },
   "outputs": [
    {
     "data": {
      "text/plain": [
       "array([-0.29487286, -0.53152276, -0.29487286, ..., -0.24228399,\n",
       "        0.25731024, -0.29487286])"
      ]
     },
     "execution_count": 142,
     "metadata": {},
     "output_type": "execute_result"
    }
   ],
   "source": [
    "extract_normalized_feature(final_train_df, \"full_sq\")"
   ]
  },
  {
   "cell_type": "code",
   "execution_count": 143,
   "metadata": {
    "collapsed": false,
    "deletable": true,
    "editable": true
   },
   "outputs": [
    {
     "data": {
      "text/plain": [
       "array([-0.00404841, -0.16882931,  0.03714682, ..., -0.56018395,\n",
       "        0.09893965,  0.0165492 ])"
      ]
     },
     "execution_count": 143,
     "metadata": {},
     "output_type": "execute_result"
    }
   ],
   "source": [
    "extract_normalized_feature(final_train_df, \"life_sq\")"
   ]
  },
  {
   "cell_type": "code",
   "execution_count": 144,
   "metadata": {
    "collapsed": false,
    "deletable": true,
    "editable": true
   },
   "outputs": [
    {
     "data": {
      "text/plain": [
       "array([  9,  70, 129, ..., 103,  77,  75])"
      ]
     },
     "execution_count": 144,
     "metadata": {},
     "output_type": "execute_result"
    }
   ],
   "source": [
    "extract_normalized_feature(final_train_df, \"sub_area\")"
   ]
  },
  {
   "cell_type": "code",
   "execution_count": 145,
   "metadata": {
    "collapsed": false,
    "deletable": true,
    "editable": true
   },
   "outputs": [
    {
     "data": {
      "text/plain": [
       "('metro_min_avto',\n",
       " array([-0.36180133, -0.61411914, -0.43340412, ..., -0.42855279,\n",
       "        -0.24162376, -0.66784139]))"
      ]
     },
     "execution_count": 145,
     "metadata": {},
     "output_type": "execute_result"
    }
   ],
   "source": [
    "locality_columns[0], extract_normalized_feature(final_train_df, locality_columns[0])"
   ]
  },
  {
   "cell_type": "code",
   "execution_count": 146,
   "metadata": {
    "collapsed": false,
    "deletable": true,
    "editable": true
   },
   "outputs": [
    {
     "data": {
      "text/plain": [
       "array([  9,  70, 129, ..., 103,  77,  75])"
      ]
     },
     "execution_count": 146,
     "metadata": {},
     "output_type": "execute_result"
    }
   ],
   "source": [
    "extract_normalized_feature(final_train_df, \"sub_area\")"
   ]
  },
  {
   "cell_type": "code",
   "execution_count": 147,
   "metadata": {
    "collapsed": true,
    "deletable": true,
    "editable": true
   },
   "outputs": [],
   "source": [
    "def extract_temporal_features(df):\n",
    "    global time_columns\n",
    "    vals = []\n",
    "    for c in time_columns:\n",
    "        vals.append(extract_normalized_feature(df, c).reshape(-1, 1))\n",
    "    return np.hstack(tuple(vals))"
   ]
  },
  {
   "cell_type": "code",
   "execution_count": 148,
   "metadata": {
    "collapsed": true,
    "deletable": true,
    "editable": true
   },
   "outputs": [],
   "source": [
    "def extract_property_place_features(df):\n",
    "    global property_columns\n",
    "    vals = []\n",
    "    for c in property_columns:\n",
    "        vals.append(extract_normalized_feature(df, c).reshape(-1, 1))\n",
    "    return np.hstack(tuple(vals))"
   ]
  },
  {
   "cell_type": "code",
   "execution_count": 149,
   "metadata": {
    "collapsed": true,
    "deletable": true,
    "editable": true
   },
   "outputs": [],
   "source": [
    "def extract_economy_features(df):\n",
    "    global economy_columns\n",
    "    vals = []\n",
    "    for c in economy_columns:\n",
    "        vals.append(extract_normalized_feature(df, c).reshape(-1, 1))\n",
    "    return np.hstack(tuple(vals))"
   ]
  },
  {
   "cell_type": "code",
   "execution_count": 150,
   "metadata": {
    "collapsed": true,
    "deletable": true,
    "editable": true
   },
   "outputs": [],
   "source": [
    "def extract_population_features(df):\n",
    "    global population_columns\n",
    "    vals = []\n",
    "    for c in population_columns:\n",
    "        vals.append(extract_normalized_feature(df, c).reshape(-1, 1))\n",
    "    return np.hstack(tuple(vals))"
   ]
  },
  {
   "cell_type": "code",
   "execution_count": 151,
   "metadata": {
    "collapsed": true,
    "deletable": true,
    "editable": true
   },
   "outputs": [],
   "source": [
    "def extract_locality_features(df):\n",
    "    global locality_columns\n",
    "    vals = []\n",
    "    for c in locality_columns:\n",
    "        vals.append(extract_normalized_feature(df, c).reshape(-1, 1))\n",
    "    return np.hstack(tuple(vals))"
   ]
  },
  {
   "cell_type": "code",
   "execution_count": 152,
   "metadata": {
    "collapsed": true,
    "deletable": true,
    "editable": true
   },
   "outputs": [],
   "source": [
    "def extract_categorical_features(df):\n",
    "    global one_hot_cols, label_cols\n",
    "    vals = {}\n",
    "    for c in one_hot_cols + label_cols:\n",
    "        vals[c]  = extract_normalized_feature(df, c)\n",
    "    return vals"
   ]
  },
  {
   "cell_type": "code",
   "execution_count": 153,
   "metadata": {
    "collapsed": false,
    "deletable": true,
    "editable": true
   },
   "outputs": [],
   "source": [
    "#extract_continuous_features(final_train_df).shape # 51 + 3 (one hot columns) + 1 (label) = 55 (total dataframe columns excluding id)..."
   ]
  },
  {
   "cell_type": "code",
   "execution_count": 154,
   "metadata": {
    "collapsed": false,
    "deletable": true,
    "editable": true
   },
   "outputs": [
    {
     "data": {
      "text/plain": [
       "(30471, 46)"
      ]
     },
     "execution_count": 154,
     "metadata": {},
     "output_type": "execute_result"
    }
   ],
   "source": [
    "extract_locality_features(final_train_df).shape"
   ]
  },
  {
   "cell_type": "code",
   "execution_count": 155,
   "metadata": {
    "collapsed": false,
    "deletable": true,
    "editable": true
   },
   "outputs": [
    {
     "data": {
      "text/plain": [
       "{'big_market_raion': array([0, 0, 0, ..., 0, 0, 0]),\n",
       " 'detention_facility_raion': array([0, 0, 0, ..., 0, 0, 0]),\n",
       " 'full_all': array([78, 59, 89, ..., 18, 73, 54]),\n",
       " 'healthcare_centers_raion': array([1, 1, 1, ..., 0, 2, 2]),\n",
       " 'material': array([[ 1.,  0.,  0., ...,  0.,  0.,  0.],\n",
       "        [ 1.,  0.,  0., ...,  0.,  0.,  0.],\n",
       "        [ 1.,  0.,  0., ...,  0.,  0.,  0.],\n",
       "        ..., \n",
       "        [ 0.,  1.,  0., ...,  0.,  0.,  0.],\n",
       "        [ 0.,  1.,  0., ...,  0.,  0.,  0.],\n",
       "        [ 0.,  1.,  0., ...,  0.,  0.,  0.]]),\n",
       " 'nuclear_reactor_raion': array([0, 0, 0, ..., 0, 0, 0]),\n",
       " 'office_raion': array([1, 0, 1, ..., 0, 5, 1]),\n",
       " 'shopping_centers_raion': array([13,  3,  0, ...,  1,  4,  5]),\n",
       " 'state_refractored': array([[ 1.,  0.,  0.,  0.,  0.,  0.],\n",
       "        [ 1.,  0.,  0.,  0.,  0.,  0.],\n",
       "        [ 1.,  0.,  0.,  0.,  0.,  0.],\n",
       "        ..., \n",
       "        [ 0.,  1.,  0.,  0.,  0.,  0.],\n",
       "        [ 0.,  0.,  1.,  0.,  0.,  0.],\n",
       "        [ 0.,  0.,  1.,  0.,  0.,  0.]]),\n",
       " 'sub_area': array([  9,  70, 129, ..., 103,  77,  75]),\n",
       " 'thermal_power_plant_raion': array([0, 0, 0, ..., 0, 0, 0]),\n",
       " 'university_top_20_raion': array([0, 0, 0, ..., 0, 1, 0])}"
      ]
     },
     "execution_count": 155,
     "metadata": {},
     "output_type": "execute_result"
    }
   ],
   "source": [
    "extract_categorical_features(final_train_df)"
   ]
  },
  {
   "cell_type": "markdown",
   "metadata": {
    "deletable": true,
    "editable": true
   },
   "source": [
    "### Generate LSTM timestep input data"
   ]
  },
  {
   "cell_type": "code",
   "execution_count": 156,
   "metadata": {
    "collapsed": true,
    "deletable": true,
    "editable": true
   },
   "outputs": [],
   "source": [
    "timesteps = 3"
   ]
  },
  {
   "cell_type": "code",
   "execution_count": 157,
   "metadata": {
    "collapsed": false,
    "deletable": true,
    "editable": true
   },
   "outputs": [],
   "source": [
    "final_train_df['timestamp_converted'] = pd.to_datetime(final_train_df['timestamp_converted'])"
   ]
  },
  {
   "cell_type": "code",
   "execution_count": 158,
   "metadata": {
    "collapsed": false,
    "deletable": true,
    "editable": true
   },
   "outputs": [
    {
     "name": "stderr",
     "output_type": "stream",
     "text": [
      "/usr/local/lib/python2.7/dist-packages/ipykernel/__main__.py:1: FutureWarning: sort(columns=....) is deprecated, use sort_values(by=.....)\n",
      "  if __name__ == '__main__':\n"
     ]
    },
    {
     "data": {
      "text/html": [
       "<div>\n",
       "<table border=\"1\" class=\"dataframe\">\n",
       "  <thead>\n",
       "    <tr style=\"text-align: right;\">\n",
       "      <th></th>\n",
       "      <th>timestamp_converted</th>\n",
       "      <th>price_doc</th>\n",
       "    </tr>\n",
       "  </thead>\n",
       "  <tbody>\n",
       "    <tr>\n",
       "      <th>0</th>\n",
       "      <td>2011-08-20</td>\n",
       "      <td>5850000</td>\n",
       "    </tr>\n",
       "    <tr>\n",
       "      <th>1</th>\n",
       "      <td>2011-08-23</td>\n",
       "      <td>6000000</td>\n",
       "    </tr>\n",
       "    <tr>\n",
       "      <th>2</th>\n",
       "      <td>2011-08-27</td>\n",
       "      <td>5700000</td>\n",
       "    </tr>\n",
       "    <tr>\n",
       "      <th>3</th>\n",
       "      <td>2011-09-01</td>\n",
       "      <td>13100000</td>\n",
       "    </tr>\n",
       "    <tr>\n",
       "      <th>4</th>\n",
       "      <td>2011-09-05</td>\n",
       "      <td>16331452</td>\n",
       "    </tr>\n",
       "    <tr>\n",
       "      <th>5</th>\n",
       "      <td>2011-09-06</td>\n",
       "      <td>9100000</td>\n",
       "    </tr>\n",
       "    <tr>\n",
       "      <th>6</th>\n",
       "      <td>2011-09-08</td>\n",
       "      <td>5500000</td>\n",
       "    </tr>\n",
       "    <tr>\n",
       "      <th>7</th>\n",
       "      <td>2011-09-09</td>\n",
       "      <td>2000000</td>\n",
       "    </tr>\n",
       "    <tr>\n",
       "      <th>8</th>\n",
       "      <td>2011-09-10</td>\n",
       "      <td>5300000</td>\n",
       "    </tr>\n",
       "    <tr>\n",
       "      <th>9</th>\n",
       "      <td>2011-09-13</td>\n",
       "      <td>2000000</td>\n",
       "    </tr>\n",
       "    <tr>\n",
       "      <th>10</th>\n",
       "      <td>2011-09-16</td>\n",
       "      <td>4650000</td>\n",
       "    </tr>\n",
       "    <tr>\n",
       "      <th>11</th>\n",
       "      <td>2011-09-16</td>\n",
       "      <td>4800000</td>\n",
       "    </tr>\n",
       "    <tr>\n",
       "      <th>12</th>\n",
       "      <td>2011-09-17</td>\n",
       "      <td>5100000</td>\n",
       "    </tr>\n",
       "    <tr>\n",
       "      <th>14</th>\n",
       "      <td>2011-09-19</td>\n",
       "      <td>5000000</td>\n",
       "    </tr>\n",
       "    <tr>\n",
       "      <th>13</th>\n",
       "      <td>2011-09-19</td>\n",
       "      <td>5200000</td>\n",
       "    </tr>\n",
       "    <tr>\n",
       "      <th>15</th>\n",
       "      <td>2011-09-20</td>\n",
       "      <td>1850000</td>\n",
       "    </tr>\n",
       "    <tr>\n",
       "      <th>16</th>\n",
       "      <td>2011-09-20</td>\n",
       "      <td>6300000</td>\n",
       "    </tr>\n",
       "    <tr>\n",
       "      <th>17</th>\n",
       "      <td>2011-09-20</td>\n",
       "      <td>5900000</td>\n",
       "    </tr>\n",
       "    <tr>\n",
       "      <th>18</th>\n",
       "      <td>2011-09-22</td>\n",
       "      <td>7900000</td>\n",
       "    </tr>\n",
       "    <tr>\n",
       "      <th>19</th>\n",
       "      <td>2011-09-22</td>\n",
       "      <td>5200000</td>\n",
       "    </tr>\n",
       "    <tr>\n",
       "      <th>20</th>\n",
       "      <td>2011-09-22</td>\n",
       "      <td>8200000</td>\n",
       "    </tr>\n",
       "    <tr>\n",
       "      <th>21</th>\n",
       "      <td>2011-09-22</td>\n",
       "      <td>5200000</td>\n",
       "    </tr>\n",
       "    <tr>\n",
       "      <th>22</th>\n",
       "      <td>2011-09-23</td>\n",
       "      <td>6250000</td>\n",
       "    </tr>\n",
       "    <tr>\n",
       "      <th>23</th>\n",
       "      <td>2011-09-23</td>\n",
       "      <td>5750000</td>\n",
       "    </tr>\n",
       "    <tr>\n",
       "      <th>24</th>\n",
       "      <td>2011-09-23</td>\n",
       "      <td>6000000</td>\n",
       "    </tr>\n",
       "    <tr>\n",
       "      <th>25</th>\n",
       "      <td>2011-09-24</td>\n",
       "      <td>1050000</td>\n",
       "    </tr>\n",
       "    <tr>\n",
       "      <th>28</th>\n",
       "      <td>2011-09-26</td>\n",
       "      <td>8254400</td>\n",
       "    </tr>\n",
       "    <tr>\n",
       "      <th>26</th>\n",
       "      <td>2011-09-26</td>\n",
       "      <td>5000000</td>\n",
       "    </tr>\n",
       "    <tr>\n",
       "      <th>27</th>\n",
       "      <td>2011-09-26</td>\n",
       "      <td>4700000</td>\n",
       "    </tr>\n",
       "    <tr>\n",
       "      <th>31</th>\n",
       "      <td>2011-09-27</td>\n",
       "      <td>18300000</td>\n",
       "    </tr>\n",
       "    <tr>\n",
       "      <th>...</th>\n",
       "      <td>...</td>\n",
       "      <td>...</td>\n",
       "    </tr>\n",
       "    <tr>\n",
       "      <th>30447</th>\n",
       "      <td>2015-06-27</td>\n",
       "      <td>6373324</td>\n",
       "    </tr>\n",
       "    <tr>\n",
       "      <th>30446</th>\n",
       "      <td>2015-06-27</td>\n",
       "      <td>6125400</td>\n",
       "    </tr>\n",
       "    <tr>\n",
       "      <th>30445</th>\n",
       "      <td>2015-06-27</td>\n",
       "      <td>10139368</td>\n",
       "    </tr>\n",
       "    <tr>\n",
       "      <th>30444</th>\n",
       "      <td>2015-06-27</td>\n",
       "      <td>11438948</td>\n",
       "    </tr>\n",
       "    <tr>\n",
       "      <th>30442</th>\n",
       "      <td>2015-06-27</td>\n",
       "      <td>4350000</td>\n",
       "    </tr>\n",
       "    <tr>\n",
       "      <th>30441</th>\n",
       "      <td>2015-06-27</td>\n",
       "      <td>25039300</td>\n",
       "    </tr>\n",
       "    <tr>\n",
       "      <th>30440</th>\n",
       "      <td>2015-06-27</td>\n",
       "      <td>10000000</td>\n",
       "    </tr>\n",
       "    <tr>\n",
       "      <th>30439</th>\n",
       "      <td>2015-06-27</td>\n",
       "      <td>8535937</td>\n",
       "    </tr>\n",
       "    <tr>\n",
       "      <th>30443</th>\n",
       "      <td>2015-06-27</td>\n",
       "      <td>7567425</td>\n",
       "    </tr>\n",
       "    <tr>\n",
       "      <th>30460</th>\n",
       "      <td>2015-06-29</td>\n",
       "      <td>9500000</td>\n",
       "    </tr>\n",
       "    <tr>\n",
       "      <th>30459</th>\n",
       "      <td>2015-06-29</td>\n",
       "      <td>5778893</td>\n",
       "    </tr>\n",
       "    <tr>\n",
       "      <th>30458</th>\n",
       "      <td>2015-06-29</td>\n",
       "      <td>6370777</td>\n",
       "    </tr>\n",
       "    <tr>\n",
       "      <th>30456</th>\n",
       "      <td>2015-06-29</td>\n",
       "      <td>1000000</td>\n",
       "    </tr>\n",
       "    <tr>\n",
       "      <th>30455</th>\n",
       "      <td>2015-06-29</td>\n",
       "      <td>9014972</td>\n",
       "    </tr>\n",
       "    <tr>\n",
       "      <th>30457</th>\n",
       "      <td>2015-06-29</td>\n",
       "      <td>7800000</td>\n",
       "    </tr>\n",
       "    <tr>\n",
       "      <th>30453</th>\n",
       "      <td>2015-06-29</td>\n",
       "      <td>4066740</td>\n",
       "    </tr>\n",
       "    <tr>\n",
       "      <th>30452</th>\n",
       "      <td>2015-06-29</td>\n",
       "      <td>6800000</td>\n",
       "    </tr>\n",
       "    <tr>\n",
       "      <th>30451</th>\n",
       "      <td>2015-06-29</td>\n",
       "      <td>2394300</td>\n",
       "    </tr>\n",
       "    <tr>\n",
       "      <th>30450</th>\n",
       "      <td>2015-06-29</td>\n",
       "      <td>12610000</td>\n",
       "    </tr>\n",
       "    <tr>\n",
       "      <th>30454</th>\n",
       "      <td>2015-06-29</td>\n",
       "      <td>6300000</td>\n",
       "    </tr>\n",
       "    <tr>\n",
       "      <th>30469</th>\n",
       "      <td>2015-06-30</td>\n",
       "      <td>13500000</td>\n",
       "    </tr>\n",
       "    <tr>\n",
       "      <th>30461</th>\n",
       "      <td>2015-06-30</td>\n",
       "      <td>5000000</td>\n",
       "    </tr>\n",
       "    <tr>\n",
       "      <th>30462</th>\n",
       "      <td>2015-06-30</td>\n",
       "      <td>10544070</td>\n",
       "    </tr>\n",
       "    <tr>\n",
       "      <th>30463</th>\n",
       "      <td>2015-06-30</td>\n",
       "      <td>12000000</td>\n",
       "    </tr>\n",
       "    <tr>\n",
       "      <th>30464</th>\n",
       "      <td>2015-06-30</td>\n",
       "      <td>10262010</td>\n",
       "    </tr>\n",
       "    <tr>\n",
       "      <th>30465</th>\n",
       "      <td>2015-06-30</td>\n",
       "      <td>6750554</td>\n",
       "    </tr>\n",
       "    <tr>\n",
       "      <th>30466</th>\n",
       "      <td>2015-06-30</td>\n",
       "      <td>7400000</td>\n",
       "    </tr>\n",
       "    <tr>\n",
       "      <th>30467</th>\n",
       "      <td>2015-06-30</td>\n",
       "      <td>25000000</td>\n",
       "    </tr>\n",
       "    <tr>\n",
       "      <th>30468</th>\n",
       "      <td>2015-06-30</td>\n",
       "      <td>6970959</td>\n",
       "    </tr>\n",
       "    <tr>\n",
       "      <th>30470</th>\n",
       "      <td>2015-06-30</td>\n",
       "      <td>5600000</td>\n",
       "    </tr>\n",
       "  </tbody>\n",
       "</table>\n",
       "<p>30471 rows × 2 columns</p>\n",
       "</div>"
      ],
      "text/plain": [
       "      timestamp_converted  price_doc\n",
       "0              2011-08-20    5850000\n",
       "1              2011-08-23    6000000\n",
       "2              2011-08-27    5700000\n",
       "3              2011-09-01   13100000\n",
       "4              2011-09-05   16331452\n",
       "5              2011-09-06    9100000\n",
       "6              2011-09-08    5500000\n",
       "7              2011-09-09    2000000\n",
       "8              2011-09-10    5300000\n",
       "9              2011-09-13    2000000\n",
       "10             2011-09-16    4650000\n",
       "11             2011-09-16    4800000\n",
       "12             2011-09-17    5100000\n",
       "14             2011-09-19    5000000\n",
       "13             2011-09-19    5200000\n",
       "15             2011-09-20    1850000\n",
       "16             2011-09-20    6300000\n",
       "17             2011-09-20    5900000\n",
       "18             2011-09-22    7900000\n",
       "19             2011-09-22    5200000\n",
       "20             2011-09-22    8200000\n",
       "21             2011-09-22    5200000\n",
       "22             2011-09-23    6250000\n",
       "23             2011-09-23    5750000\n",
       "24             2011-09-23    6000000\n",
       "25             2011-09-24    1050000\n",
       "28             2011-09-26    8254400\n",
       "26             2011-09-26    5000000\n",
       "27             2011-09-26    4700000\n",
       "31             2011-09-27   18300000\n",
       "...                   ...        ...\n",
       "30447          2015-06-27    6373324\n",
       "30446          2015-06-27    6125400\n",
       "30445          2015-06-27   10139368\n",
       "30444          2015-06-27   11438948\n",
       "30442          2015-06-27    4350000\n",
       "30441          2015-06-27   25039300\n",
       "30440          2015-06-27   10000000\n",
       "30439          2015-06-27    8535937\n",
       "30443          2015-06-27    7567425\n",
       "30460          2015-06-29    9500000\n",
       "30459          2015-06-29    5778893\n",
       "30458          2015-06-29    6370777\n",
       "30456          2015-06-29    1000000\n",
       "30455          2015-06-29    9014972\n",
       "30457          2015-06-29    7800000\n",
       "30453          2015-06-29    4066740\n",
       "30452          2015-06-29    6800000\n",
       "30451          2015-06-29    2394300\n",
       "30450          2015-06-29   12610000\n",
       "30454          2015-06-29    6300000\n",
       "30469          2015-06-30   13500000\n",
       "30461          2015-06-30    5000000\n",
       "30462          2015-06-30   10544070\n",
       "30463          2015-06-30   12000000\n",
       "30464          2015-06-30   10262010\n",
       "30465          2015-06-30    6750554\n",
       "30466          2015-06-30    7400000\n",
       "30467          2015-06-30   25000000\n",
       "30468          2015-06-30    6970959\n",
       "30470          2015-06-30    5600000\n",
       "\n",
       "[30471 rows x 2 columns]"
      ]
     },
     "execution_count": 158,
     "metadata": {},
     "output_type": "execute_result"
    }
   ],
   "source": [
    "final_train_df.sort('timestamp_converted')[['timestamp_converted', 'price_doc']]"
   ]
  },
  {
   "cell_type": "code",
   "execution_count": null,
   "metadata": {
    "collapsed": true,
    "deletable": true,
    "editable": true
   },
   "outputs": [],
   "source": []
  },
  {
   "cell_type": "code",
   "execution_count": null,
   "metadata": {
    "collapsed": true,
    "deletable": true,
    "editable": true
   },
   "outputs": [],
   "source": []
  },
  {
   "cell_type": "code",
   "execution_count": null,
   "metadata": {
    "collapsed": true,
    "deletable": true,
    "editable": true
   },
   "outputs": [],
   "source": []
  },
  {
   "cell_type": "code",
   "execution_count": 159,
   "metadata": {
    "collapsed": true,
    "deletable": true,
    "editable": true
   },
   "outputs": [],
   "source": [
    "def train_validate_test_split(df, train_percent=.6, validate_percent=.2):\n",
    "    perm = np.random.permutation(df.index)\n",
    "    m = len(df)\n",
    "    train_end = int(train_percent * m)\n",
    "    validate_end = int(validate_percent * m) + train_end\n",
    "    train = df.ix[perm[:train_end]]\n",
    "    validate = df.ix[perm[train_end:validate_end]]\n",
    "    test = df.ix[perm[validate_end:]]\n",
    "    return train, validate, test"
   ]
  },
  {
   "cell_type": "code",
   "execution_count": 222,
   "metadata": {
    "collapsed": true,
    "deletable": true,
    "editable": true
   },
   "outputs": [],
   "source": [
    "train_split_df, test_split_df = train_test_split(final_train_df, test_size = 0.1)"
   ]
  },
  {
   "cell_type": "code",
   "execution_count": 223,
   "metadata": {
    "collapsed": true,
    "deletable": true,
    "editable": true
   },
   "outputs": [],
   "source": [
    "train_split_df_temporal_features = extract_temporal_features(train_split_df)\n",
    "test_split_df_temporal_features = extract_temporal_features(test_split_df)"
   ]
  },
  {
   "cell_type": "code",
   "execution_count": 224,
   "metadata": {
    "collapsed": false,
    "deletable": true,
    "editable": true
   },
   "outputs": [],
   "source": [
    "train_split_df_property_features = extract_property_place_features(train_split_df)\n",
    "test_split_df_property_features = extract_property_place_features(test_split_df)"
   ]
  },
  {
   "cell_type": "code",
   "execution_count": 225,
   "metadata": {
    "collapsed": false,
    "deletable": true,
    "editable": true
   },
   "outputs": [],
   "source": [
    "train_split_df_locality_features = extract_locality_features(train_split_df)\n",
    "test_split_df_locality_features = extract_locality_features(test_split_df)"
   ]
  },
  {
   "cell_type": "code",
   "execution_count": 226,
   "metadata": {
    "collapsed": true,
    "deletable": true,
    "editable": true
   },
   "outputs": [],
   "source": [
    "train_split_df_economy_features = extract_economy_features(train_split_df)\n",
    "test_split_df_economy_features = extract_economy_features(test_split_df)"
   ]
  },
  {
   "cell_type": "code",
   "execution_count": 227,
   "metadata": {
    "collapsed": true,
    "deletable": true,
    "editable": true
   },
   "outputs": [],
   "source": [
    "train_split_df_population_features = extract_population_features(train_split_df)\n",
    "test_split_df_population_features = extract_population_features(test_split_df)"
   ]
  },
  {
   "cell_type": "code",
   "execution_count": 228,
   "metadata": {
    "collapsed": false,
    "deletable": true,
    "editable": true
   },
   "outputs": [],
   "source": [
    "train_split_df_categorical_features = extract_categorical_features(train_split_df)\n",
    "test_split_df_categorical_features = extract_categorical_features(test_split_df)"
   ]
  },
  {
   "cell_type": "code",
   "execution_count": 229,
   "metadata": {
    "collapsed": true,
    "deletable": true,
    "editable": true
   },
   "outputs": [],
   "source": [
    "def format_input(df):\n",
    "    temporal_features = extract_temporal_features(df)\n",
    "    property_features = extract_property_place_features(df)\n",
    "    locality_features = extract_locality_features(df)\n",
    "    economy_features = extract_economy_features(df)\n",
    "    population_features = extract_population_features(df)\n",
    "    categorical_features = extract_categorical_features(df)\n",
    "    return temporal_features, property_features, locality_features, economy_features, population_features, categorical_features"
   ]
  },
  {
   "cell_type": "code",
   "execution_count": 230,
   "metadata": {
    "collapsed": false
   },
   "outputs": [
    {
     "data": {
      "text/plain": [
       "((27423, 3), (27423, 8), (27423, 46), (27423, 52), (27423, 19))"
      ]
     },
     "execution_count": 230,
     "metadata": {},
     "output_type": "execute_result"
    }
   ],
   "source": [
    "train_split_df_temporal_features.shape, train_split_df_property_features.shape, train_split_df_locality_features.shape, train_split_df_economy_features.shape,  train_split_df_population_features.shape"
   ]
  },
  {
   "cell_type": "code",
   "execution_count": 231,
   "metadata": {
    "collapsed": true
   },
   "outputs": [],
   "source": [
    "def combine_inputs(features, axis=1):\n",
    "    fts = []\n",
    "    for f in features:\n",
    "        if len(f.shape) == 1:\n",
    "            fts.append(np.expand_dims(f, axis=1))\n",
    "        else:\n",
    "            fts.append(f)\n",
    "    return np.concatenate(tuple(fts), axis=axis)"
   ]
  },
  {
   "cell_type": "code",
   "execution_count": 232,
   "metadata": {
    "collapsed": false
   },
   "outputs": [],
   "source": [
    "train_split_df_combined_inputs = combine_inputs([train_split_df_temporal_features, train_split_df_property_features, train_split_df_locality_features, train_split_df_economy_features, train_split_df_population_features] + [v for k,v in train_split_df_categorical_features.items() if k not in embedding_columns])"
   ]
  },
  {
   "cell_type": "code",
   "execution_count": 233,
   "metadata": {
    "collapsed": true
   },
   "outputs": [],
   "source": [
    "test_split_df_combined_inputs = combine_inputs([test_split_df_temporal_features, test_split_df_property_features, test_split_df_locality_features, test_split_df_economy_features, test_split_df_population_features] + [v for k,v in test_split_df_categorical_features.items() if k not in embedding_columns])"
   ]
  },
  {
   "cell_type": "code",
   "execution_count": 234,
   "metadata": {
    "collapsed": false
   },
   "outputs": [
    {
     "data": {
      "text/plain": [
       "((27423, 150), (3048, 150))"
      ]
     },
     "execution_count": 234,
     "metadata": {},
     "output_type": "execute_result"
    }
   ],
   "source": [
    "train_split_df_combined_inputs.shape, test_split_df_combined_inputs.shape"
   ]
  },
  {
   "cell_type": "code",
   "execution_count": 235,
   "metadata": {
    "collapsed": false
   },
   "outputs": [
    {
     "data": {
      "text/plain": [
       "150"
      ]
     },
     "execution_count": 235,
     "metadata": {},
     "output_type": "execute_result"
    }
   ],
   "source": [
    "num_main_features = train_split_df_combined_inputs.shape[1]\n",
    "num_main_features"
   ]
  },
  {
   "cell_type": "markdown",
   "metadata": {
    "deletable": true,
    "editable": true
   },
   "source": [
    "## Model"
   ]
  },
  {
   "cell_type": "code",
   "execution_count": 236,
   "metadata": {
    "collapsed": false,
    "deletable": true,
    "editable": true
   },
   "outputs": [],
   "source": [
    "\"\"\"\n",
    "The main model, version: 2\n",
    "\"\"\" \n",
    "def main_model_v2(num_continuous_features, output_activation='relu'):\n",
    "    \n",
    "    with tf.name_scope(\"house_price_model\"):\n",
    "        \n",
    "        # Inputs\n",
    "        with tf.name_scope(\"inputs\"):\n",
    "            ## Continuous\n",
    "            main_input = Input(shape=(num_continuous_features,), name=\"main_input\")\n",
    "            \n",
    "            ## Categorical (labelled)\n",
    "            sub_area_input = Input(shape=(1,), dtype='int32', name='sub_area_input')\n",
    "            sub_area_vocab_size = 200 # It's actually 146, but rounding it to 200\n",
    "            sub_area_embedding_dim = 8\n",
    "            \n",
    "        with tf.name_scope(\"sub_area_embedding\"):\n",
    "            # Network\n",
    "            ## Embedding\n",
    "            sub_area_vector = Embedding(output_dim=sub_area_embedding_dim, input_dim=sub_area_vocab_size, input_length=1, name=\"sub_area_embedding\")(sub_area_input)\n",
    "            sub_area_vector = Flatten()(sub_area_vector)\n",
    "            \n",
    "        with tf.name_scope(\"fully_connected\"):\n",
    "            ## Concatenate all suboutput vectors into one big vector\n",
    "            merged_output_vector = Concatenate()([main_input, sub_area_vector])\n",
    "            merged_output_vector = GaussianNoise(0.01)(merged_output_vector)      \n",
    "        \n",
    "            ## Some final hidden layers\n",
    "            #merged_output_vector = GaussianDropout(0.4)(merged_output_vector)\n",
    "            merged_output_vector = Dense(512, activation='relu')(merged_output_vector)\n",
    "            merged_output_vector = Dropout(0.4)(merged_output_vector) # Batch normalize this combined pre-output vector\n",
    "            #merged_output_vector = Dropout(0.4)(merged_output_vector)\n",
    "            merged_output_vector = Dense(256, activation='relu')(merged_output_vector)\n",
    "            merged_output_vector = Dropout(0.2)(merged_output_vector) # Batch normalize this combined pre-output vector\n",
    "            #merged_output_vector = Dropout(0.4)(merged_output_vector)\n",
    "            merged_output_vector = Dense(128, activation='relu')(merged_output_vector)\n",
    "            merged_output_vector = Dropout(0.1)(merged_output_vector) # Batch normalize this combined pre-output vector\n",
    "    \n",
    "            main_output = Dense(1, activation=output_activation, name=\"main_output\")(merged_output_vector)\n",
    "        \n",
    "        return [main_input, sub_area_input], main_output"
   ]
  },
  {
   "cell_type": "code",
   "execution_count": 237,
   "metadata": {
    "collapsed": false,
    "deletable": true,
    "editable": true
   },
   "outputs": [],
   "source": [
    "inputs, outputs = main_model_v2(num_main_features)\n",
    "\n",
    "real_estate_price_model = Model(inputs=inputs, outputs=outputs)"
   ]
  },
  {
   "cell_type": "code",
   "execution_count": 238,
   "metadata": {
    "collapsed": false,
    "deletable": true,
    "editable": true
   },
   "outputs": [
    {
     "data": {
      "image/svg+xml": [
       "<svg height=\"860pt\" viewBox=\"0.00 0.00 411.00 860.00\" width=\"411pt\" xmlns=\"http://www.w3.org/2000/svg\" xmlns:xlink=\"http://www.w3.org/1999/xlink\">\n",
       "<g class=\"graph\" id=\"graph0\" transform=\"scale(1 1) rotate(0) translate(4 856)\">\n",
       "<title>G</title>\n",
       "<polygon fill=\"white\" points=\"-4,4 -4,-856 407,-856 407,4 -4,4\" stroke=\"none\"/>\n",
       "<!-- 139787238686416 -->\n",
       "<g class=\"node\" id=\"node1\"><title>139787238686416</title>\n",
       "<polygon fill=\"none\" points=\"21.5,-815 21.5,-851 236.5,-851 236.5,-815 21.5,-815\" stroke=\"black\"/>\n",
       "<text font-family=\"Times,serif\" font-size=\"14.00\" text-anchor=\"middle\" x=\"129\" y=\"-829.3\">sub_area_input: InputLayer</text>\n",
       "</g>\n",
       "<!-- 139787324689360 -->\n",
       "<g class=\"node\" id=\"node2\"><title>139787324689360</title>\n",
       "<polygon fill=\"none\" points=\"-0.5,-741 -0.5,-777 258.5,-777 258.5,-741 -0.5,-741\" stroke=\"black\"/>\n",
       "<text font-family=\"Times,serif\" font-size=\"14.00\" text-anchor=\"middle\" x=\"129\" y=\"-755.3\">sub_area_embedding: Embedding</text>\n",
       "</g>\n",
       "<!-- 139787238686416&#45;&gt;139787324689360 -->\n",
       "<g class=\"edge\" id=\"edge1\"><title>139787238686416-&gt;139787324689360</title>\n",
       "<path d=\"M129,-814.937C129,-806.807 129,-796.876 129,-787.705\" fill=\"none\" stroke=\"black\"/>\n",
       "<polygon fill=\"black\" points=\"132.5,-787.441 129,-777.441 125.5,-787.441 132.5,-787.441\" stroke=\"black\"/>\n",
       "</g>\n",
       "<!-- 139787106708944 -->\n",
       "<g class=\"node\" id=\"node4\"><title>139787106708944</title>\n",
       "<polygon fill=\"none\" points=\"59,-667 59,-703 199,-703 199,-667 59,-667\" stroke=\"black\"/>\n",
       "<text font-family=\"Times,serif\" font-size=\"14.00\" text-anchor=\"middle\" x=\"129\" y=\"-681.3\">flatten_5: Flatten</text>\n",
       "</g>\n",
       "<!-- 139787324689360&#45;&gt;139787106708944 -->\n",
       "<g class=\"edge\" id=\"edge2\"><title>139787324689360-&gt;139787106708944</title>\n",
       "<path d=\"M129,-740.937C129,-732.807 129,-722.876 129,-713.705\" fill=\"none\" stroke=\"black\"/>\n",
       "<polygon fill=\"black\" points=\"132.5,-713.441 129,-703.441 125.5,-713.441 132.5,-713.441\" stroke=\"black\"/>\n",
       "</g>\n",
       "<!-- 139787324688208 -->\n",
       "<g class=\"node\" id=\"node3\"><title>139787324688208</title>\n",
       "<polygon fill=\"none\" points=\"217,-667 217,-703 403,-703 403,-667 217,-667\" stroke=\"black\"/>\n",
       "<text font-family=\"Times,serif\" font-size=\"14.00\" text-anchor=\"middle\" x=\"310\" y=\"-681.3\">main_input: InputLayer</text>\n",
       "</g>\n",
       "<!-- 139787324687952 -->\n",
       "<g class=\"node\" id=\"node5\"><title>139787324687952</title>\n",
       "<polygon fill=\"none\" points=\"108.5,-593 108.5,-629 329.5,-629 329.5,-593 108.5,-593\" stroke=\"black\"/>\n",
       "<text font-family=\"Times,serif\" font-size=\"14.00\" text-anchor=\"middle\" x=\"219\" y=\"-607.3\">concatenate_5: Concatenate</text>\n",
       "</g>\n",
       "<!-- 139787324688208&#45;&gt;139787324687952 -->\n",
       "<g class=\"edge\" id=\"edge3\"><title>139787324688208-&gt;139787324687952</title>\n",
       "<path d=\"M288.434,-666.937C276.621,-657.59 261.798,-645.863 248.885,-635.646\" fill=\"none\" stroke=\"black\"/>\n",
       "<polygon fill=\"black\" points=\"250.74,-632.65 240.726,-629.19 246.397,-638.14 250.74,-632.65\" stroke=\"black\"/>\n",
       "</g>\n",
       "<!-- 139787106708944&#45;&gt;139787324687952 -->\n",
       "<g class=\"edge\" id=\"edge4\"><title>139787106708944-&gt;139787324687952</title>\n",
       "<path d=\"M150.329,-666.937C162.012,-657.59 176.672,-645.863 189.443,-635.646\" fill=\"none\" stroke=\"black\"/>\n",
       "<polygon fill=\"black\" points=\"191.89,-638.17 197.512,-629.19 187.517,-632.704 191.89,-638.17\" stroke=\"black\"/>\n",
       "</g>\n",
       "<!-- 139787092966864 -->\n",
       "<g class=\"node\" id=\"node6\"><title>139787092966864</title>\n",
       "<polygon fill=\"none\" points=\"90.5,-519 90.5,-555 347.5,-555 347.5,-519 90.5,-519\" stroke=\"black\"/>\n",
       "<text font-family=\"Times,serif\" font-size=\"14.00\" text-anchor=\"middle\" x=\"219\" y=\"-533.3\">gaussian_noise_5: GaussianNoise</text>\n",
       "</g>\n",
       "<!-- 139787324687952&#45;&gt;139787092966864 -->\n",
       "<g class=\"edge\" id=\"edge5\"><title>139787324687952-&gt;139787092966864</title>\n",
       "<path d=\"M219,-592.937C219,-584.807 219,-574.876 219,-565.705\" fill=\"none\" stroke=\"black\"/>\n",
       "<polygon fill=\"black\" points=\"222.5,-565.441 219,-555.441 215.5,-565.441 222.5,-565.441\" stroke=\"black\"/>\n",
       "</g>\n",
       "<!-- 139787092966160 -->\n",
       "<g class=\"node\" id=\"node7\"><title>139787092966160</title>\n",
       "<polygon fill=\"none\" points=\"150.5,-445 150.5,-481 287.5,-481 287.5,-445 150.5,-445\" stroke=\"black\"/>\n",
       "<text font-family=\"Times,serif\" font-size=\"14.00\" text-anchor=\"middle\" x=\"219\" y=\"-459.3\">dense_19: Dense</text>\n",
       "</g>\n",
       "<!-- 139787092966864&#45;&gt;139787092966160 -->\n",
       "<g class=\"edge\" id=\"edge6\"><title>139787092966864-&gt;139787092966160</title>\n",
       "<path d=\"M219,-518.937C219,-510.807 219,-500.876 219,-491.705\" fill=\"none\" stroke=\"black\"/>\n",
       "<polygon fill=\"black\" points=\"222.5,-491.441 219,-481.441 215.5,-491.441 222.5,-491.441\" stroke=\"black\"/>\n",
       "</g>\n",
       "<!-- 139787098066896 -->\n",
       "<g class=\"node\" id=\"node8\"><title>139787098066896</title>\n",
       "<polygon fill=\"none\" points=\"140.5,-371 140.5,-407 297.5,-407 297.5,-371 140.5,-371\" stroke=\"black\"/>\n",
       "<text font-family=\"Times,serif\" font-size=\"14.00\" text-anchor=\"middle\" x=\"219\" y=\"-385.3\">dropout_7: Dropout</text>\n",
       "</g>\n",
       "<!-- 139787092966160&#45;&gt;139787098066896 -->\n",
       "<g class=\"edge\" id=\"edge7\"><title>139787092966160-&gt;139787098066896</title>\n",
       "<path d=\"M219,-444.937C219,-436.807 219,-426.876 219,-417.705\" fill=\"none\" stroke=\"black\"/>\n",
       "<polygon fill=\"black\" points=\"222.5,-417.441 219,-407.441 215.5,-417.441 222.5,-417.441\" stroke=\"black\"/>\n",
       "</g>\n",
       "<!-- 139787092904720 -->\n",
       "<g class=\"node\" id=\"node9\"><title>139787092904720</title>\n",
       "<polygon fill=\"none\" points=\"150.5,-297 150.5,-333 287.5,-333 287.5,-297 150.5,-297\" stroke=\"black\"/>\n",
       "<text font-family=\"Times,serif\" font-size=\"14.00\" text-anchor=\"middle\" x=\"219\" y=\"-311.3\">dense_20: Dense</text>\n",
       "</g>\n",
       "<!-- 139787098066896&#45;&gt;139787092904720 -->\n",
       "<g class=\"edge\" id=\"edge8\"><title>139787098066896-&gt;139787092904720</title>\n",
       "<path d=\"M219,-370.937C219,-362.807 219,-352.876 219,-343.705\" fill=\"none\" stroke=\"black\"/>\n",
       "<polygon fill=\"black\" points=\"222.5,-343.441 219,-333.441 215.5,-343.441 222.5,-343.441\" stroke=\"black\"/>\n",
       "</g>\n",
       "<!-- 139787053950672 -->\n",
       "<g class=\"node\" id=\"node10\"><title>139787053950672</title>\n",
       "<polygon fill=\"none\" points=\"140.5,-223 140.5,-259 297.5,-259 297.5,-223 140.5,-223\" stroke=\"black\"/>\n",
       "<text font-family=\"Times,serif\" font-size=\"14.00\" text-anchor=\"middle\" x=\"219\" y=\"-237.3\">dropout_8: Dropout</text>\n",
       "</g>\n",
       "<!-- 139787092904720&#45;&gt;139787053950672 -->\n",
       "<g class=\"edge\" id=\"edge9\"><title>139787092904720-&gt;139787053950672</title>\n",
       "<path d=\"M219,-296.937C219,-288.807 219,-278.876 219,-269.705\" fill=\"none\" stroke=\"black\"/>\n",
       "<polygon fill=\"black\" points=\"222.5,-269.441 219,-259.441 215.5,-269.441 222.5,-269.441\" stroke=\"black\"/>\n",
       "</g>\n",
       "<!-- 139787053950224 -->\n",
       "<g class=\"node\" id=\"node11\"><title>139787053950224</title>\n",
       "<polygon fill=\"none\" points=\"150.5,-149 150.5,-185 287.5,-185 287.5,-149 150.5,-149\" stroke=\"black\"/>\n",
       "<text font-family=\"Times,serif\" font-size=\"14.00\" text-anchor=\"middle\" x=\"219\" y=\"-163.3\">dense_21: Dense</text>\n",
       "</g>\n",
       "<!-- 139787053950672&#45;&gt;139787053950224 -->\n",
       "<g class=\"edge\" id=\"edge10\"><title>139787053950672-&gt;139787053950224</title>\n",
       "<path d=\"M219,-222.937C219,-214.807 219,-204.876 219,-195.705\" fill=\"none\" stroke=\"black\"/>\n",
       "<polygon fill=\"black\" points=\"222.5,-195.441 219,-185.441 215.5,-195.441 222.5,-195.441\" stroke=\"black\"/>\n",
       "</g>\n",
       "<!-- 139786305568080 -->\n",
       "<g class=\"node\" id=\"node12\"><title>139786305568080</title>\n",
       "<polygon fill=\"none\" points=\"140.5,-75 140.5,-111 297.5,-111 297.5,-75 140.5,-75\" stroke=\"black\"/>\n",
       "<text font-family=\"Times,serif\" font-size=\"14.00\" text-anchor=\"middle\" x=\"219\" y=\"-89.3\">dropout_9: Dropout</text>\n",
       "</g>\n",
       "<!-- 139787053950224&#45;&gt;139786305568080 -->\n",
       "<g class=\"edge\" id=\"edge11\"><title>139787053950224-&gt;139786305568080</title>\n",
       "<path d=\"M219,-148.937C219,-140.807 219,-130.876 219,-121.705\" fill=\"none\" stroke=\"black\"/>\n",
       "<polygon fill=\"black\" points=\"222.5,-121.441 219,-111.441 215.5,-121.441 222.5,-121.441\" stroke=\"black\"/>\n",
       "</g>\n",
       "<!-- 139787053943632 -->\n",
       "<g class=\"node\" id=\"node13\"><title>139787053943632</title>\n",
       "<polygon fill=\"none\" points=\"139,-1 139,-37 299,-37 299,-1 139,-1\" stroke=\"black\"/>\n",
       "<text font-family=\"Times,serif\" font-size=\"14.00\" text-anchor=\"middle\" x=\"219\" y=\"-15.3\">main_output: Dense</text>\n",
       "</g>\n",
       "<!-- 139786305568080&#45;&gt;139787053943632 -->\n",
       "<g class=\"edge\" id=\"edge12\"><title>139786305568080-&gt;139787053943632</title>\n",
       "<path d=\"M219,-74.937C219,-66.8072 219,-56.8761 219,-47.7047\" fill=\"none\" stroke=\"black\"/>\n",
       "<polygon fill=\"black\" points=\"222.5,-47.4406 219,-37.4407 215.5,-47.4407 222.5,-47.4406\" stroke=\"black\"/>\n",
       "</g>\n",
       "</g>\n",
       "</svg>"
      ],
      "text/plain": [
       "<IPython.core.display.SVG object>"
      ]
     },
     "execution_count": 238,
     "metadata": {},
     "output_type": "execute_result"
    }
   ],
   "source": [
    "from IPython.display import Image, display, SVG\n",
    "from keras.utils.vis_utils import model_to_dot\n",
    "\n",
    "# Show the model in ipython notebook\n",
    "SVG(model_to_dot(real_estate_price_model).create(prog='dot', format='svg'))"
   ]
  },
  {
   "cell_type": "code",
   "execution_count": 239,
   "metadata": {
    "collapsed": false,
    "deletable": true,
    "editable": true
   },
   "outputs": [],
   "source": [
    "# Save the model as png file\n",
    "from keras.utils.vis_utils import plot_model\n",
    "plot_model(real_estate_price_model, to_file='/mnt/h/Kaggle/Competitions/Russian Bank/models/'+version_str+'/model.png', show_shapes=True)"
   ]
  },
  {
   "cell_type": "code",
   "execution_count": 240,
   "metadata": {
    "collapsed": true,
    "deletable": true,
    "editable": true
   },
   "outputs": [],
   "source": [
    "def root_mean_squared_logarithmic_error(y_true, y_pred):\n",
    "    y_pred_log = K.log(y_pred + 1.)\n",
    "    y_true_log = K.log(y_true + 1.)\n",
    "    return K.sqrt(K.mean(K.square(y_pred_log - y_true_log), axis = -1))"
   ]
  },
  {
   "cell_type": "code",
   "execution_count": 241,
   "metadata": {
    "collapsed": true,
    "deletable": true,
    "editable": true
   },
   "outputs": [],
   "source": [
    "real_estate_price_model.compile(optimizer = \"adam\", \n",
    "                          loss = root_mean_squared_logarithmic_error\n",
    "                         )"
   ]
  },
  {
   "cell_type": "markdown",
   "metadata": {
    "deletable": true,
    "editable": true
   },
   "source": [
    "### Train the model"
   ]
  },
  {
   "cell_type": "code",
   "execution_count": 242,
   "metadata": {
    "collapsed": true,
    "deletable": true,
    "editable": true
   },
   "outputs": [],
   "source": [
    "epochs = 100"
   ]
  },
  {
   "cell_type": "code",
   "execution_count": 243,
   "metadata": {
    "collapsed": false,
    "deletable": true,
    "editable": true
   },
   "outputs": [],
   "source": [
    "checkpointer = ModelCheckpoint(filepath=\"/mnt/h/Kaggle/Competitions/Russian Bank/models/\" + version_str + \"/\" + \"weights.{epoch:02d}-{val_loss:.2f}.hdf5\", verbose=1, save_best_only=True)\n",
    "tensorboard = TensorBoard(log_dir=\"/mnt/h/Kaggle/Competitions/Russian Bank/models/\" + version_str + \"/logs/\",\n",
    "                          histogram_freq=0, \n",
    "                          write_graph=True, \n",
    "                         # write_grads=True, \n",
    "                          write_images=False, \n",
    "                          embeddings_freq=5, \n",
    "                          embeddings_layer_names=[\n",
    "                              'sub_area_embedding'\n",
    "                          ], embeddings_metadata={\n",
    "                              'sub_area_embedding':'/mnt/h/Kaggle/Competitions/Russian Bank/models/metadata/sub_area_metadata.tsv'\n",
    "                          })\n",
    "early_stopping = EarlyStopping(monitor='val_loss', patience=20, verbose=0, mode='auto')\n",
    "callbacks = [checkpointer, tensorboard, early_stopping]"
   ]
  },
  {
   "cell_type": "code",
   "execution_count": 244,
   "metadata": {
    "collapsed": false,
    "deletable": true,
    "editable": true
   },
   "outputs": [
    {
     "name": "stdout",
     "output_type": "stream",
     "text": [
      "____________________________________________________________________________________________________\n",
      "Layer (type)                     Output Shape          Param #     Connected to                     \n",
      "====================================================================================================\n",
      "sub_area_input (InputLayer)      (None, 1)             0                                            \n",
      "____________________________________________________________________________________________________\n",
      "sub_area_embedding (Embedding)   (None, 1, 8)          1600        sub_area_input[0][0]             \n",
      "____________________________________________________________________________________________________\n",
      "main_input (InputLayer)          (None, 150)           0                                            \n",
      "____________________________________________________________________________________________________\n",
      "flatten_5 (Flatten)              (None, 8)             0           sub_area_embedding[0][0]         \n",
      "____________________________________________________________________________________________________\n",
      "concatenate_5 (Concatenate)      (None, 158)           0           main_input[0][0]                 \n",
      "                                                                   flatten_5[0][0]                  \n",
      "____________________________________________________________________________________________________\n",
      "gaussian_noise_5 (GaussianNoise) (None, 158)           0           concatenate_5[0][0]              \n",
      "____________________________________________________________________________________________________\n",
      "dense_19 (Dense)                 (None, 512)           81408       gaussian_noise_5[0][0]           \n",
      "____________________________________________________________________________________________________\n",
      "dropout_7 (Dropout)              (None, 512)           0           dense_19[0][0]                   \n",
      "____________________________________________________________________________________________________\n",
      "dense_20 (Dense)                 (None, 256)           131328      dropout_7[0][0]                  \n",
      "____________________________________________________________________________________________________\n",
      "dropout_8 (Dropout)              (None, 256)           0           dense_20[0][0]                   \n",
      "____________________________________________________________________________________________________\n",
      "dense_21 (Dense)                 (None, 128)           32896       dropout_8[0][0]                  \n",
      "____________________________________________________________________________________________________\n",
      "dropout_9 (Dropout)              (None, 128)           0           dense_21[0][0]                   \n",
      "____________________________________________________________________________________________________\n",
      "main_output (Dense)              (None, 1)             129         dropout_9[0][0]                  \n",
      "====================================================================================================\n",
      "Total params: 247,361\n",
      "Trainable params: 247,361\n",
      "Non-trainable params: 0\n",
      "____________________________________________________________________________________________________\n"
     ]
    }
   ],
   "source": [
    "real_estate_price_model.summary()"
   ]
  },
  {
   "cell_type": "code",
   "execution_count": 245,
   "metadata": {
    "collapsed": false,
    "deletable": true,
    "editable": true
   },
   "outputs": [
    {
     "name": "stdout",
     "output_type": "stream",
     "text": [
      "Train on 20567 samples, validate on 6856 samples\n",
      "Epoch 1/100\n",
      "Epoch 00000: val_loss improved from inf to 0.49642, saving model to /mnt/h/Kaggle/Competitions/Russian Bank/models/v2/weights.00-0.50.hdf5\n",
      "32s - loss: 2.3247 - val_loss: 0.4964\n",
      "Epoch 2/100\n",
      "Epoch 00001: val_loss improved from 0.49642 to 0.44536, saving model to /mnt/h/Kaggle/Competitions/Russian Bank/models/v2/weights.01-0.45.hdf5\n",
      "15s - loss: 0.4667 - val_loss: 0.4454\n",
      "Epoch 3/100\n",
      "Epoch 00002: val_loss improved from 0.44536 to 0.40340, saving model to /mnt/h/Kaggle/Competitions/Russian Bank/models/v2/weights.02-0.40.hdf5\n",
      "17s - loss: 0.4166 - val_loss: 0.4034\n",
      "Epoch 4/100\n",
      "Epoch 00003: val_loss improved from 0.40340 to 0.37446, saving model to /mnt/h/Kaggle/Competitions/Russian Bank/models/v2/weights.03-0.37.hdf5\n",
      "15s - loss: 0.3821 - val_loss: 0.3745\n",
      "Epoch 5/100\n",
      "Epoch 00004: val_loss improved from 0.37446 to 0.34681, saving model to /mnt/h/Kaggle/Competitions/Russian Bank/models/v2/weights.04-0.35.hdf5\n",
      "16s - loss: 0.3550 - val_loss: 0.3468\n",
      "Epoch 6/100\n",
      "Epoch 00005: val_loss improved from 0.34681 to 0.32785, saving model to /mnt/h/Kaggle/Competitions/Russian Bank/models/v2/weights.05-0.33.hdf5\n",
      "32s - loss: 0.3348 - val_loss: 0.3278\n",
      "Epoch 7/100\n",
      "Epoch 00006: val_loss improved from 0.32785 to 0.31308, saving model to /mnt/h/Kaggle/Competitions/Russian Bank/models/v2/weights.06-0.31.hdf5\n",
      "15s - loss: 0.3197 - val_loss: 0.3131\n",
      "Epoch 8/100\n",
      "Epoch 00007: val_loss improved from 0.31308 to 0.29969, saving model to /mnt/h/Kaggle/Competitions/Russian Bank/models/v2/weights.07-0.30.hdf5\n",
      "15s - loss: 0.3060 - val_loss: 0.2997\n",
      "Epoch 9/100\n",
      "Epoch 00008: val_loss improved from 0.29969 to 0.28799, saving model to /mnt/h/Kaggle/Competitions/Russian Bank/models/v2/weights.08-0.29.hdf5\n",
      "16s - loss: 0.2934 - val_loss: 0.2880\n",
      "Epoch 10/100\n",
      "Epoch 00009: val_loss improved from 0.28799 to 0.27996, saving model to /mnt/h/Kaggle/Competitions/Russian Bank/models/v2/weights.09-0.28.hdf5\n",
      "16s - loss: 0.2866 - val_loss: 0.2800\n",
      "Epoch 11/100\n",
      "Epoch 00010: val_loss improved from 0.27996 to 0.27484, saving model to /mnt/h/Kaggle/Competitions/Russian Bank/models/v2/weights.10-0.27.hdf5\n",
      "31s - loss: 0.2806 - val_loss: 0.2748\n",
      "Epoch 12/100\n",
      "Epoch 00011: val_loss improved from 0.27484 to 0.26992, saving model to /mnt/h/Kaggle/Competitions/Russian Bank/models/v2/weights.11-0.27.hdf5\n",
      "17s - loss: 0.2758 - val_loss: 0.2699\n",
      "Epoch 13/100\n",
      "Epoch 00012: val_loss did not improve\n",
      "15s - loss: 0.2724 - val_loss: 0.2705\n",
      "Epoch 14/100\n",
      "Epoch 00013: val_loss improved from 0.26992 to 0.26374, saving model to /mnt/h/Kaggle/Competitions/Russian Bank/models/v2/weights.13-0.26.hdf5\n",
      "15s - loss: 0.2696 - val_loss: 0.2637\n",
      "Epoch 15/100\n",
      "Epoch 00014: val_loss improved from 0.26374 to 0.26132, saving model to /mnt/h/Kaggle/Competitions/Russian Bank/models/v2/weights.14-0.26.hdf5\n",
      "16s - loss: 0.2674 - val_loss: 0.2613\n",
      "Epoch 16/100\n",
      "Epoch 00015: val_loss improved from 0.26132 to 0.25818, saving model to /mnt/h/Kaggle/Competitions/Russian Bank/models/v2/weights.15-0.26.hdf5\n",
      "34s - loss: 0.2646 - val_loss: 0.2582\n",
      "Epoch 17/100\n",
      "Epoch 00016: val_loss improved from 0.25818 to 0.25768, saving model to /mnt/h/Kaggle/Competitions/Russian Bank/models/v2/weights.16-0.26.hdf5\n",
      "16s - loss: 0.2627 - val_loss: 0.2577\n",
      "Epoch 18/100\n",
      "Epoch 00017: val_loss improved from 0.25768 to 0.25606, saving model to /mnt/h/Kaggle/Competitions/Russian Bank/models/v2/weights.17-0.26.hdf5\n",
      "16s - loss: 0.2621 - val_loss: 0.2561\n",
      "Epoch 19/100\n",
      "Epoch 00018: val_loss improved from 0.25606 to 0.25441, saving model to /mnt/h/Kaggle/Competitions/Russian Bank/models/v2/weights.18-0.25.hdf5\n",
      "16s - loss: 0.2596 - val_loss: 0.2544\n",
      "Epoch 20/100\n",
      "Epoch 00019: val_loss did not improve\n",
      "15s - loss: 0.2589 - val_loss: 0.2567\n",
      "Epoch 21/100\n",
      "Epoch 00020: val_loss did not improve\n",
      "32s - loss: nan - val_loss: 15.6136\n",
      "Epoch 22/100\n",
      "Epoch 00021: val_loss did not improve\n",
      "14s - loss: nan - val_loss: 15.6136\n",
      "Epoch 23/100\n",
      "Epoch 00022: val_loss did not improve\n",
      "15s - loss: nan - val_loss: 15.6136\n",
      "Epoch 24/100\n",
      "Epoch 00023: val_loss did not improve\n",
      "14s - loss: nan - val_loss: 15.6136\n",
      "Epoch 25/100\n",
      "Epoch 00024: val_loss did not improve\n",
      "14s - loss: nan - val_loss: 15.6136\n",
      "Epoch 26/100\n",
      "Epoch 00025: val_loss did not improve\n",
      "31s - loss: nan - val_loss: 15.6136\n",
      "Epoch 27/100\n",
      "Epoch 00026: val_loss did not improve\n",
      "14s - loss: nan - val_loss: 15.6136\n",
      "Epoch 28/100\n",
      "Epoch 00027: val_loss did not improve\n",
      "15s - loss: nan - val_loss: 15.6136\n",
      "Epoch 29/100\n",
      "Epoch 00028: val_loss did not improve\n",
      "14s - loss: nan - val_loss: 15.6136\n",
      "Epoch 30/100\n",
      "Epoch 00029: val_loss did not improve\n",
      "14s - loss: nan - val_loss: 15.6136\n",
      "Epoch 31/100\n",
      "Epoch 00030: val_loss did not improve\n",
      "32s - loss: nan - val_loss: 15.6136\n",
      "Epoch 32/100\n",
      "Epoch 00031: val_loss did not improve\n",
      "14s - loss: nan - val_loss: 15.6136\n",
      "Epoch 33/100\n",
      "Epoch 00032: val_loss did not improve\n",
      "14s - loss: nan - val_loss: 15.6136\n",
      "Epoch 34/100\n",
      "Epoch 00033: val_loss did not improve\n",
      "14s - loss: nan - val_loss: 15.6136\n",
      "Epoch 35/100\n",
      "Epoch 00034: val_loss did not improve\n",
      "15s - loss: nan - val_loss: 15.6136\n",
      "Epoch 36/100\n",
      "Epoch 00035: val_loss did not improve\n",
      "32s - loss: nan - val_loss: 15.6136\n",
      "Epoch 37/100\n",
      "Epoch 00036: val_loss did not improve\n",
      "14s - loss: nan - val_loss: 15.6136\n",
      "Epoch 38/100\n",
      "Epoch 00037: val_loss did not improve\n",
      "16s - loss: nan - val_loss: 15.6136\n",
      "Epoch 39/100\n",
      "Epoch 00038: val_loss did not improve\n",
      "15s - loss: nan - val_loss: 15.6136\n",
      "Epoch 40/100\n",
      "Epoch 00039: val_loss did not improve\n",
      "15s - loss: nan - val_loss: 15.6136\n"
     ]
    },
    {
     "data": {
      "text/plain": [
       "<keras.callbacks.History at 0x7f22b5842a10>"
      ]
     },
     "execution_count": 245,
     "metadata": {},
     "output_type": "execute_result"
    }
   ],
   "source": [
    "real_estate_price_model.fit(x={\n",
    "    'main_input' : train_split_df_combined_inputs,\n",
    "    'sub_area_input' : train_split_df_categorical_features['sub_area']},\n",
    "                      y = train_split_df['price_doc'].values,\n",
    "                      callbacks=callbacks,\n",
    "                      verbose = 2,\n",
    "                      validation_split=0.25,\n",
    "                      shuffle=True,\n",
    "                      epochs=epochs)"
   ]
  },
  {
   "cell_type": "code",
   "execution_count": null,
   "metadata": {
    "collapsed": true,
    "deletable": true,
    "editable": true
   },
   "outputs": [],
   "source": []
  },
  {
   "cell_type": "code",
   "execution_count": null,
   "metadata": {
    "collapsed": true
   },
   "outputs": [],
   "source": []
  },
  {
   "cell_type": "code",
   "execution_count": null,
   "metadata": {
    "collapsed": true
   },
   "outputs": [],
   "source": []
  },
  {
   "cell_type": "code",
   "execution_count": null,
   "metadata": {
    "collapsed": true
   },
   "outputs": [],
   "source": []
  },
  {
   "cell_type": "code",
   "execution_count": 246,
   "metadata": {
    "collapsed": false,
    "deletable": true,
    "editable": true
   },
   "outputs": [],
   "source": [
    "real_estate_price_model.load_weights('/mnt/h/Kaggle/Competitions/Russian Bank/models/v'+str(version) + '/weights.18-0.25.hdf5')"
   ]
  },
  {
   "cell_type": "code",
   "execution_count": 247,
   "metadata": {
    "collapsed": false,
    "deletable": true,
    "editable": true
   },
   "outputs": [
    {
     "data": {
      "text/plain": [
       "('Train loss: ', 0.24662114753550304)"
      ]
     },
     "execution_count": 247,
     "metadata": {},
     "output_type": "execute_result"
    }
   ],
   "source": [
    "train_loss = real_estate_price_model.evaluate(x={\n",
    "    'main_input' : train_split_df_combined_inputs,\n",
    "    'sub_area_input' : train_split_df_categorical_features['sub_area']},\n",
    "                      y = train_split_df['price_doc'].values,\n",
    "                      verbose = 2)\n",
    "'Train loss: ', train_loss"
   ]
  },
  {
   "cell_type": "code",
   "execution_count": 248,
   "metadata": {
    "collapsed": false,
    "deletable": true,
    "editable": true
   },
   "outputs": [
    {
     "data": {
      "text/plain": [
       "('Test loss: ', 0.23727549639899587)"
      ]
     },
     "execution_count": 248,
     "metadata": {},
     "output_type": "execute_result"
    }
   ],
   "source": [
    "test_loss = real_estate_price_model.evaluate(x={\n",
    "   'main_input' : test_split_df_combined_inputs,\n",
    "    'sub_area_input' : test_split_df_categorical_features['sub_area']},\n",
    "                      y = test_split_df['price_doc'].values,\n",
    "                      verbose = 2)\n",
    "'Test loss: ', test_loss"
   ]
  },
  {
   "cell_type": "code",
   "execution_count": 249,
   "metadata": {
    "collapsed": true,
    "deletable": true,
    "editable": true
   },
   "outputs": [],
   "source": [
    "from sklearn.model_selection import StratifiedKFold\n",
    "from sklearn.model_selection import KFold"
   ]
  },
  {
   "cell_type": "code",
   "execution_count": 250,
   "metadata": {
    "collapsed": true,
    "deletable": true,
    "editable": true
   },
   "outputs": [],
   "source": [
    "seed = 7\n",
    "kfold = StratifiedKFold(n_splits=10, shuffle=True, random_state=seed)"
   ]
  },
  {
   "cell_type": "code",
   "execution_count": 251,
   "metadata": {
    "collapsed": false,
    "deletable": true,
    "editable": true
   },
   "outputs": [
    {
     "data": {
      "text/plain": [
       "10"
      ]
     },
     "execution_count": 251,
     "metadata": {},
     "output_type": "execute_result"
    }
   ],
   "source": [
    "kfold.get_n_splits(final_train_df, final_train_df[[LABEL]].values)"
   ]
  },
  {
   "cell_type": "code",
   "execution_count": 252,
   "metadata": {
    "collapsed": false,
    "deletable": true,
    "editable": true
   },
   "outputs": [
    {
     "name": "stderr",
     "output_type": "stream",
     "text": [
      "/usr/local/lib/python2.7/dist-packages/sklearn/model_selection/_split.py:581: Warning: The least populated class in y has only 1 members, which is too few. The minimum number of groups for any class cannot be less than n_splits=10.\n",
      "  % (min_groups, self.n_splits)), Warning)\n"
     ]
    },
    {
     "name": "stdout",
     "output_type": "stream",
     "text": [
      "Cross validating.... step:  0\n",
      "Temp train loss:  0.246602402664  index:  0\n",
      "Temp test loss:  0.237900917667  index:  0\n",
      "Cross validating.... step:  1\n",
      "Temp train loss:  0.24563480725  index:  1\n",
      "Temp test loss:  0.24613140233  index:  1\n",
      "Cross validating.... step:  2\n",
      "Temp train loss:  0.245356192985  index:  2\n",
      "Temp test loss:  0.248577097021  index:  2\n",
      "Cross validating.... step:  3\n",
      "Temp train loss:  0.245613432265  index:  3\n",
      "Temp test loss:  0.246334391987  index:  3\n",
      "Cross validating.... step:  4\n",
      "Temp train loss:  0.245590202969  index:  4\n",
      "Temp test loss:  0.246558900655  index:  4\n",
      "Cross validating.... step:  5\n",
      "Temp train loss:  0.246109629462  index:  5\n",
      "Temp test loss:  0.241867908244  index:  5\n",
      "Cross validating.... step:  6\n",
      "Temp train loss:  0.245505946937  index:  6\n",
      "Temp test loss:  0.247358237658  index:  6\n",
      "Cross validating.... step:  7\n",
      "Temp train loss:  0.245466008387  index:  7\n",
      "Temp test loss:  0.247696141151  index:  7\n",
      "Cross validating.... step:  8\n",
      "Temp train loss:  0.245724684932  index:  8\n",
      "Temp test loss:  0.245327730367  index:  8\n",
      "Cross validating.... step:  9\n",
      "Temp train loss:  0.245266645031  index:  9\n",
      "Temp test loss:  0.249656448895  index:  9\n",
      "[0.24660240266392439, 0.23790091766680863, 0.24563480725021611, 0.24613140232955352, 0.24535619298477557, 0.24857709702107908, 0.24561343226543866, 0.24633439198716894, 0.24559020296855349, 0.24655890065512434, 0.24610962946181136, 0.24186790824446072, 0.24550594693703176, 0.24735823765844056, 0.24546600838680954, 0.24769614115109873, 0.24572468493225139, 0.24532773036658967, 0.24526664503072826, 0.24965644889462252]\n"
     ]
    }
   ],
   "source": [
    "eval_loss_scores = []\n",
    "\n",
    "for idx, (train, test) in enumerate(kfold.split(final_train_df, final_train_df[[LABEL]].values.ravel())):\n",
    "    \n",
    "    temp_x, temp_y = final_train_df.ix[train, :], final_train_df.ix[train, :][LABEL].values\n",
    "    temp_test_x, temp_test_y = final_train_df.ix[test, :], final_train_df.ix[test, :][LABEL].values\n",
    "    \n",
    "    temp_train_split_df_temporal_features = extract_temporal_features(temp_x)\n",
    "    temp_test_split_df_temporal_features = extract_temporal_features(temp_test_x)\n",
    "    \n",
    "    temp_train_split_df_property_features = extract_property_place_features(temp_x)\n",
    "    temp_test_split_df_property_features = extract_property_place_features(temp_test_x)\n",
    "    \n",
    "    temp_train_split_df_locality_features = extract_locality_features(temp_x)\n",
    "    temp_test_split_df_locality_features = extract_locality_features(temp_test_x)\n",
    "    \n",
    "    temp_train_split_df_economy_features = extract_economy_features(temp_x)\n",
    "    temp_test_split_df_economy_features = extract_economy_features(temp_test_x)\n",
    "    \n",
    "    temp_train_split_df_population_features = extract_population_features(temp_x)\n",
    "    temp_test_split_df_population_features = extract_population_features(temp_test_x)\n",
    "    \n",
    "    temp_train_split_df_categorical_features = extract_categorical_features(temp_x)\n",
    "    temp_test_split_df_categorical_features = extract_categorical_features(temp_test_x)\n",
    "    \n",
    "    temp_train_split_df_combined_inputs = combine_inputs([temp_train_split_df_temporal_features, \n",
    "                                                     temp_train_split_df_property_features, \n",
    "                                                     temp_train_split_df_locality_features, \n",
    "                                                     temp_train_split_df_economy_features,\n",
    "                                                    temp_train_split_df_population_features] + \n",
    "                                                    [v for k,v in temp_train_split_df_categorical_features.items() if k not in embedding_columns])\n",
    "    temp_test_split_df_combined_inputs = combine_inputs([temp_test_split_df_temporal_features, \n",
    "                                                     temp_test_split_df_property_features, \n",
    "                                                     temp_test_split_df_locality_features, \n",
    "                                                     temp_test_split_df_economy_features,\n",
    "                                                    temp_test_split_df_population_features] + \n",
    "                                                    [v for k,v in temp_test_split_df_categorical_features.items() if k not in embedding_columns])\n",
    "    \n",
    "    print 'Cross validating.... step: ', idx\n",
    "    \n",
    "    temp_train_loss = real_estate_price_model.evaluate(x={\n",
    "        'main_input' : temp_train_split_df_combined_inputs,\n",
    "        'sub_area_input' : temp_train_split_df_categorical_features['sub_area']},\n",
    "                      y = temp_y,\n",
    "                      verbose = 2)\n",
    "    print 'Temp train loss: ', temp_train_loss, ' index: ', idx\n",
    "    eval_loss_scores.append(temp_train_loss)\n",
    "    \n",
    "    temp_test_loss = real_estate_price_model.evaluate(x={\n",
    "        'main_input' : temp_test_split_df_combined_inputs,\n",
    "        'sub_area_input' : temp_test_split_df_categorical_features['sub_area']},\n",
    "                      y = temp_test_y,\n",
    "                      verbose = 2)\n",
    "    print 'Temp test loss: ', temp_test_loss, ' index: ', idx\n",
    "    eval_loss_scores.append(temp_test_loss)\n",
    "    \n",
    "    \n",
    "print eval_loss_scores\n"
   ]
  },
  {
   "cell_type": "code",
   "execution_count": 253,
   "metadata": {
    "collapsed": false,
    "deletable": true,
    "editable": true
   },
   "outputs": [
    {
     "name": "stdout",
     "output_type": "stream",
     "text": [
      "0.25% (+/- 0.00%)\n"
     ]
    }
   ],
   "source": [
    "print(\"%.2f%% (+/- %.2f%%)\" % (np.mean(eval_loss_scores), np.std(eval_loss_scores)))"
   ]
  },
  {
   "cell_type": "code",
   "execution_count": 273,
   "metadata": {
    "collapsed": true,
    "deletable": true,
    "editable": true
   },
   "outputs": [],
   "source": [
    "real_estate_price_model.save('/mnt/h/Kaggle/Competitions/Russian Bank/models/v'+str(version) + '/trained_model_0.25_val_loss.h5')"
   ]
  },
  {
   "cell_type": "code",
   "execution_count": 117,
   "metadata": {
    "collapsed": true,
    "deletable": true,
    "editable": true
   },
   "outputs": [],
   "source": [
    "from keras.models import load_model"
   ]
  },
  {
   "cell_type": "code",
   "execution_count": 118,
   "metadata": {
    "collapsed": true,
    "deletable": true,
    "editable": true
   },
   "outputs": [],
   "source": [
    "real_estate_price_model_duplicate = load_model('/mnt/h/Kaggle/Competitions/Russian Bank/models/v'+str(version) + '/trained_model_0.22_val_loss.h5', custom_objects={\"root_mean_squared_logarithmic_error\":root_mean_squared_logarithmic_error})"
   ]
  },
  {
   "cell_type": "code",
   "execution_count": 255,
   "metadata": {
    "collapsed": false,
    "deletable": true,
    "editable": true
   },
   "outputs": [],
   "source": [
    "test_temporal_features, test_property_features, test_locality_features, test_economy_features, test_population_features, test_categorical_features = format_input(test_split_df[:10])\n",
    "test_t_combined_inputs = combine_inputs([test_temporal_features, \n",
    "                                                     test_property_features, \n",
    "                                                     test_locality_features, \n",
    "                                                     test_economy_features,\n",
    "                                                    test_population_features] + \n",
    "                                                    [v for k,v in test_categorical_features.items() if k not in embedding_columns])\n",
    "test_preds = real_estate_price_model.predict(x={\n",
    "    'main_input' : test_t_combined_inputs,\n",
    "    'sub_area_input' : test_categorical_features['sub_area']})\n",
    "test_actuals = test_split_df[:10].price_doc.values"
   ]
  },
  {
   "cell_type": "code",
   "execution_count": 256,
   "metadata": {
    "collapsed": false,
    "deletable": true,
    "editable": true
   },
   "outputs": [
    {
     "data": {
      "text/plain": [
       "[(3423615, 3223575.0),\n",
       " (7300000, 7537837.0),\n",
       " (990000, 5850316.0),\n",
       " (5467000, 5752084.0),\n",
       " (11600000, 11861280.0),\n",
       " (8215901, 9805575.0),\n",
       " (13500000, 12316355.0),\n",
       " (7505546, 6895373.0),\n",
       " (5300000, 5654896.0),\n",
       " (5550000, 5670680.0)]"
      ]
     },
     "execution_count": 256,
     "metadata": {},
     "output_type": "execute_result"
    }
   ],
   "source": [
    "zip(test_actuals, test_preds.ravel())"
   ]
  },
  {
   "cell_type": "code",
   "execution_count": 257,
   "metadata": {
    "collapsed": true,
    "deletable": true,
    "editable": true
   },
   "outputs": [],
   "source": [
    "kaggle_test = pd.read_csv(\"/mnt/h/Kaggle/Competitions/Russian Bank/data/test.csv/test.csv\")"
   ]
  },
  {
   "cell_type": "code",
   "execution_count": 258,
   "metadata": {
    "collapsed": false,
    "deletable": true,
    "editable": true
   },
   "outputs": [
    {
     "data": {
      "text/html": [
       "<div>\n",
       "<table border=\"1\" class=\"dataframe\">\n",
       "  <thead>\n",
       "    <tr style=\"text-align: right;\">\n",
       "      <th></th>\n",
       "      <th>id</th>\n",
       "      <th>timestamp</th>\n",
       "      <th>full_sq</th>\n",
       "      <th>life_sq</th>\n",
       "      <th>floor</th>\n",
       "      <th>max_floor</th>\n",
       "      <th>material</th>\n",
       "      <th>build_year</th>\n",
       "      <th>num_room</th>\n",
       "      <th>kitch_sq</th>\n",
       "      <th>...</th>\n",
       "      <th>cafe_count_5000_price_1500</th>\n",
       "      <th>cafe_count_5000_price_2500</th>\n",
       "      <th>cafe_count_5000_price_4000</th>\n",
       "      <th>cafe_count_5000_price_high</th>\n",
       "      <th>big_church_count_5000</th>\n",
       "      <th>church_count_5000</th>\n",
       "      <th>mosque_count_5000</th>\n",
       "      <th>leisure_count_5000</th>\n",
       "      <th>sport_count_5000</th>\n",
       "      <th>market_count_5000</th>\n",
       "    </tr>\n",
       "  </thead>\n",
       "  <tbody>\n",
       "    <tr>\n",
       "      <th>0</th>\n",
       "      <td>30474</td>\n",
       "      <td>2015-07-01</td>\n",
       "      <td>39.0</td>\n",
       "      <td>20.7</td>\n",
       "      <td>2</td>\n",
       "      <td>9</td>\n",
       "      <td>1</td>\n",
       "      <td>1998.0</td>\n",
       "      <td>1</td>\n",
       "      <td>8.9</td>\n",
       "      <td>...</td>\n",
       "      <td>8</td>\n",
       "      <td>0</td>\n",
       "      <td>0</td>\n",
       "      <td>0</td>\n",
       "      <td>1</td>\n",
       "      <td>10</td>\n",
       "      <td>1</td>\n",
       "      <td>0</td>\n",
       "      <td>14</td>\n",
       "      <td>1</td>\n",
       "    </tr>\n",
       "    <tr>\n",
       "      <th>1</th>\n",
       "      <td>30475</td>\n",
       "      <td>2015-07-01</td>\n",
       "      <td>79.2</td>\n",
       "      <td>NaN</td>\n",
       "      <td>8</td>\n",
       "      <td>17</td>\n",
       "      <td>1</td>\n",
       "      <td>0.0</td>\n",
       "      <td>3</td>\n",
       "      <td>1.0</td>\n",
       "      <td>...</td>\n",
       "      <td>4</td>\n",
       "      <td>1</td>\n",
       "      <td>1</td>\n",
       "      <td>0</td>\n",
       "      <td>2</td>\n",
       "      <td>11</td>\n",
       "      <td>0</td>\n",
       "      <td>1</td>\n",
       "      <td>12</td>\n",
       "      <td>1</td>\n",
       "    </tr>\n",
       "    <tr>\n",
       "      <th>2</th>\n",
       "      <td>30476</td>\n",
       "      <td>2015-07-01</td>\n",
       "      <td>40.5</td>\n",
       "      <td>25.1</td>\n",
       "      <td>3</td>\n",
       "      <td>5</td>\n",
       "      <td>2</td>\n",
       "      <td>1960.0</td>\n",
       "      <td>2</td>\n",
       "      <td>4.8</td>\n",
       "      <td>...</td>\n",
       "      <td>42</td>\n",
       "      <td>11</td>\n",
       "      <td>4</td>\n",
       "      <td>0</td>\n",
       "      <td>10</td>\n",
       "      <td>21</td>\n",
       "      <td>0</td>\n",
       "      <td>10</td>\n",
       "      <td>71</td>\n",
       "      <td>11</td>\n",
       "    </tr>\n",
       "    <tr>\n",
       "      <th>3</th>\n",
       "      <td>30477</td>\n",
       "      <td>2015-07-01</td>\n",
       "      <td>62.8</td>\n",
       "      <td>36.0</td>\n",
       "      <td>17</td>\n",
       "      <td>17</td>\n",
       "      <td>1</td>\n",
       "      <td>2016.0</td>\n",
       "      <td>2</td>\n",
       "      <td>62.8</td>\n",
       "      <td>...</td>\n",
       "      <td>1</td>\n",
       "      <td>1</td>\n",
       "      <td>2</td>\n",
       "      <td>0</td>\n",
       "      <td>0</td>\n",
       "      <td>10</td>\n",
       "      <td>0</td>\n",
       "      <td>0</td>\n",
       "      <td>2</td>\n",
       "      <td>0</td>\n",
       "    </tr>\n",
       "    <tr>\n",
       "      <th>4</th>\n",
       "      <td>30478</td>\n",
       "      <td>2015-07-01</td>\n",
       "      <td>40.0</td>\n",
       "      <td>40.0</td>\n",
       "      <td>17</td>\n",
       "      <td>17</td>\n",
       "      <td>1</td>\n",
       "      <td>0.0</td>\n",
       "      <td>1</td>\n",
       "      <td>1.0</td>\n",
       "      <td>...</td>\n",
       "      <td>5</td>\n",
       "      <td>1</td>\n",
       "      <td>1</td>\n",
       "      <td>0</td>\n",
       "      <td>2</td>\n",
       "      <td>12</td>\n",
       "      <td>0</td>\n",
       "      <td>1</td>\n",
       "      <td>11</td>\n",
       "      <td>1</td>\n",
       "    </tr>\n",
       "  </tbody>\n",
       "</table>\n",
       "<p>5 rows × 291 columns</p>\n",
       "</div>"
      ],
      "text/plain": [
       "      id   timestamp  full_sq  life_sq  floor  max_floor  material  \\\n",
       "0  30474  2015-07-01     39.0     20.7      2          9         1   \n",
       "1  30475  2015-07-01     79.2      NaN      8         17         1   \n",
       "2  30476  2015-07-01     40.5     25.1      3          5         2   \n",
       "3  30477  2015-07-01     62.8     36.0     17         17         1   \n",
       "4  30478  2015-07-01     40.0     40.0     17         17         1   \n",
       "\n",
       "   build_year  num_room  kitch_sq        ...          \\\n",
       "0      1998.0         1       8.9        ...           \n",
       "1         0.0         3       1.0        ...           \n",
       "2      1960.0         2       4.8        ...           \n",
       "3      2016.0         2      62.8        ...           \n",
       "4         0.0         1       1.0        ...           \n",
       "\n",
       "   cafe_count_5000_price_1500 cafe_count_5000_price_2500  \\\n",
       "0                           8                          0   \n",
       "1                           4                          1   \n",
       "2                          42                         11   \n",
       "3                           1                          1   \n",
       "4                           5                          1   \n",
       "\n",
       "  cafe_count_5000_price_4000  cafe_count_5000_price_high  \\\n",
       "0                          0                           0   \n",
       "1                          1                           0   \n",
       "2                          4                           0   \n",
       "3                          2                           0   \n",
       "4                          1                           0   \n",
       "\n",
       "   big_church_count_5000  church_count_5000  mosque_count_5000  \\\n",
       "0                      1                 10                  1   \n",
       "1                      2                 11                  0   \n",
       "2                     10                 21                  0   \n",
       "3                      0                 10                  0   \n",
       "4                      2                 12                  0   \n",
       "\n",
       "   leisure_count_5000  sport_count_5000  market_count_5000  \n",
       "0                   0                14                  1  \n",
       "1                   1                12                  1  \n",
       "2                  10                71                 11  \n",
       "3                   0                 2                  0  \n",
       "4                   1                11                  1  \n",
       "\n",
       "[5 rows x 291 columns]"
      ]
     },
     "execution_count": 258,
     "metadata": {},
     "output_type": "execute_result"
    }
   ],
   "source": [
    "kaggle_test.head()"
   ]
  },
  {
   "cell_type": "code",
   "execution_count": 259,
   "metadata": {
    "collapsed": true,
    "deletable": true,
    "editable": true
   },
   "outputs": [],
   "source": [
    "macro_df = pd.read_csv(\"/mnt/h/Kaggle/Competitions/Russian Bank/data/macro.csv/macro.csv\")"
   ]
  },
  {
   "cell_type": "code",
   "execution_count": 260,
   "metadata": {
    "collapsed": true,
    "deletable": true,
    "editable": true
   },
   "outputs": [],
   "source": [
    "final_kaggle_df = pd.merge(kaggle_test, macro_df, on='timestamp')"
   ]
  },
  {
   "cell_type": "code",
   "execution_count": 261,
   "metadata": {
    "collapsed": false,
    "deletable": true,
    "editable": true
   },
   "outputs": [
    {
     "data": {
      "text/html": [
       "<div>\n",
       "<table border=\"1\" class=\"dataframe\">\n",
       "  <thead>\n",
       "    <tr style=\"text-align: right;\">\n",
       "      <th></th>\n",
       "      <th>id</th>\n",
       "      <th>timestamp</th>\n",
       "      <th>full_sq</th>\n",
       "      <th>life_sq</th>\n",
       "      <th>floor</th>\n",
       "      <th>max_floor</th>\n",
       "      <th>material</th>\n",
       "      <th>build_year</th>\n",
       "      <th>num_room</th>\n",
       "      <th>kitch_sq</th>\n",
       "      <th>...</th>\n",
       "      <th>provision_retail_space_modern_sqm</th>\n",
       "      <th>turnover_catering_per_cap</th>\n",
       "      <th>theaters_viewers_per_1000_cap</th>\n",
       "      <th>seats_theather_rfmin_per_100000_cap</th>\n",
       "      <th>museum_visitis_per_100_cap</th>\n",
       "      <th>bandwidth_sports</th>\n",
       "      <th>population_reg_sports_share</th>\n",
       "      <th>students_reg_sports_share</th>\n",
       "      <th>apartment_build</th>\n",
       "      <th>apartment_fund_sqm</th>\n",
       "    </tr>\n",
       "  </thead>\n",
       "  <tbody>\n",
       "    <tr>\n",
       "      <th>0</th>\n",
       "      <td>30474</td>\n",
       "      <td>2015-07-01</td>\n",
       "      <td>39.0</td>\n",
       "      <td>20.7</td>\n",
       "      <td>2</td>\n",
       "      <td>9</td>\n",
       "      <td>1</td>\n",
       "      <td>1998.0</td>\n",
       "      <td>1</td>\n",
       "      <td>8.9</td>\n",
       "      <td>...</td>\n",
       "      <td>NaN</td>\n",
       "      <td>10805.0</td>\n",
       "      <td>NaN</td>\n",
       "      <td>0.45888</td>\n",
       "      <td>NaN</td>\n",
       "      <td>463938.0</td>\n",
       "      <td>NaN</td>\n",
       "      <td>NaN</td>\n",
       "      <td>NaN</td>\n",
       "      <td>234576.9</td>\n",
       "    </tr>\n",
       "    <tr>\n",
       "      <th>1</th>\n",
       "      <td>30475</td>\n",
       "      <td>2015-07-01</td>\n",
       "      <td>79.2</td>\n",
       "      <td>NaN</td>\n",
       "      <td>8</td>\n",
       "      <td>17</td>\n",
       "      <td>1</td>\n",
       "      <td>0.0</td>\n",
       "      <td>3</td>\n",
       "      <td>1.0</td>\n",
       "      <td>...</td>\n",
       "      <td>NaN</td>\n",
       "      <td>10805.0</td>\n",
       "      <td>NaN</td>\n",
       "      <td>0.45888</td>\n",
       "      <td>NaN</td>\n",
       "      <td>463938.0</td>\n",
       "      <td>NaN</td>\n",
       "      <td>NaN</td>\n",
       "      <td>NaN</td>\n",
       "      <td>234576.9</td>\n",
       "    </tr>\n",
       "    <tr>\n",
       "      <th>2</th>\n",
       "      <td>30476</td>\n",
       "      <td>2015-07-01</td>\n",
       "      <td>40.5</td>\n",
       "      <td>25.1</td>\n",
       "      <td>3</td>\n",
       "      <td>5</td>\n",
       "      <td>2</td>\n",
       "      <td>1960.0</td>\n",
       "      <td>2</td>\n",
       "      <td>4.8</td>\n",
       "      <td>...</td>\n",
       "      <td>NaN</td>\n",
       "      <td>10805.0</td>\n",
       "      <td>NaN</td>\n",
       "      <td>0.45888</td>\n",
       "      <td>NaN</td>\n",
       "      <td>463938.0</td>\n",
       "      <td>NaN</td>\n",
       "      <td>NaN</td>\n",
       "      <td>NaN</td>\n",
       "      <td>234576.9</td>\n",
       "    </tr>\n",
       "    <tr>\n",
       "      <th>3</th>\n",
       "      <td>30477</td>\n",
       "      <td>2015-07-01</td>\n",
       "      <td>62.8</td>\n",
       "      <td>36.0</td>\n",
       "      <td>17</td>\n",
       "      <td>17</td>\n",
       "      <td>1</td>\n",
       "      <td>2016.0</td>\n",
       "      <td>2</td>\n",
       "      <td>62.8</td>\n",
       "      <td>...</td>\n",
       "      <td>NaN</td>\n",
       "      <td>10805.0</td>\n",
       "      <td>NaN</td>\n",
       "      <td>0.45888</td>\n",
       "      <td>NaN</td>\n",
       "      <td>463938.0</td>\n",
       "      <td>NaN</td>\n",
       "      <td>NaN</td>\n",
       "      <td>NaN</td>\n",
       "      <td>234576.9</td>\n",
       "    </tr>\n",
       "    <tr>\n",
       "      <th>4</th>\n",
       "      <td>30478</td>\n",
       "      <td>2015-07-01</td>\n",
       "      <td>40.0</td>\n",
       "      <td>40.0</td>\n",
       "      <td>17</td>\n",
       "      <td>17</td>\n",
       "      <td>1</td>\n",
       "      <td>0.0</td>\n",
       "      <td>1</td>\n",
       "      <td>1.0</td>\n",
       "      <td>...</td>\n",
       "      <td>NaN</td>\n",
       "      <td>10805.0</td>\n",
       "      <td>NaN</td>\n",
       "      <td>0.45888</td>\n",
       "      <td>NaN</td>\n",
       "      <td>463938.0</td>\n",
       "      <td>NaN</td>\n",
       "      <td>NaN</td>\n",
       "      <td>NaN</td>\n",
       "      <td>234576.9</td>\n",
       "    </tr>\n",
       "  </tbody>\n",
       "</table>\n",
       "<p>5 rows × 390 columns</p>\n",
       "</div>"
      ],
      "text/plain": [
       "      id   timestamp  full_sq  life_sq  floor  max_floor  material  \\\n",
       "0  30474  2015-07-01     39.0     20.7      2          9         1   \n",
       "1  30475  2015-07-01     79.2      NaN      8         17         1   \n",
       "2  30476  2015-07-01     40.5     25.1      3          5         2   \n",
       "3  30477  2015-07-01     62.8     36.0     17         17         1   \n",
       "4  30478  2015-07-01     40.0     40.0     17         17         1   \n",
       "\n",
       "   build_year  num_room  kitch_sq         ...          \\\n",
       "0      1998.0         1       8.9         ...           \n",
       "1         0.0         3       1.0         ...           \n",
       "2      1960.0         2       4.8         ...           \n",
       "3      2016.0         2      62.8         ...           \n",
       "4         0.0         1       1.0         ...           \n",
       "\n",
       "   provision_retail_space_modern_sqm turnover_catering_per_cap  \\\n",
       "0                                NaN                   10805.0   \n",
       "1                                NaN                   10805.0   \n",
       "2                                NaN                   10805.0   \n",
       "3                                NaN                   10805.0   \n",
       "4                                NaN                   10805.0   \n",
       "\n",
       "  theaters_viewers_per_1000_cap  seats_theather_rfmin_per_100000_cap  \\\n",
       "0                           NaN                              0.45888   \n",
       "1                           NaN                              0.45888   \n",
       "2                           NaN                              0.45888   \n",
       "3                           NaN                              0.45888   \n",
       "4                           NaN                              0.45888   \n",
       "\n",
       "   museum_visitis_per_100_cap  bandwidth_sports  population_reg_sports_share  \\\n",
       "0                         NaN          463938.0                          NaN   \n",
       "1                         NaN          463938.0                          NaN   \n",
       "2                         NaN          463938.0                          NaN   \n",
       "3                         NaN          463938.0                          NaN   \n",
       "4                         NaN          463938.0                          NaN   \n",
       "\n",
       "   students_reg_sports_share  apartment_build  apartment_fund_sqm  \n",
       "0                        NaN              NaN            234576.9  \n",
       "1                        NaN              NaN            234576.9  \n",
       "2                        NaN              NaN            234576.9  \n",
       "3                        NaN              NaN            234576.9  \n",
       "4                        NaN              NaN            234576.9  \n",
       "\n",
       "[5 rows x 390 columns]"
      ]
     },
     "execution_count": 261,
     "metadata": {},
     "output_type": "execute_result"
    }
   ],
   "source": [
    "final_kaggle_df.head()"
   ]
  },
  {
   "cell_type": "code",
   "execution_count": 262,
   "metadata": {
    "collapsed": true,
    "deletable": true,
    "editable": true
   },
   "outputs": [],
   "source": [
    "final_kaggle_df = prepare_dataset(final_kaggle_df)"
   ]
  },
  {
   "cell_type": "code",
   "execution_count": 263,
   "metadata": {
    "collapsed": true,
    "deletable": true,
    "editable": true
   },
   "outputs": [],
   "source": [
    "for continuous_norm_col in normalize_columns:\n",
    "    scaler = norm_scalers[continuous_norm_col]\n",
    "    scaled_values = scaler.transform(final_kaggle_df[[continuous_norm_col]].values)\n",
    "    final_kaggle_df[continuous_norm_col + \"_scaled_feature\"] = scaled_values"
   ]
  },
  {
   "cell_type": "code",
   "execution_count": 264,
   "metadata": {
    "collapsed": true,
    "deletable": true,
    "editable": true
   },
   "outputs": [],
   "source": [
    "for one_hot_col in one_hot_cols:\n",
    "    l_scaler = ont_hot_scalers[one_hot_col][0]\n",
    "    scaler = ont_hot_scalers[one_hot_col][1]\n",
    "    r = l_scaler.transform(final_kaggle_df[[one_hot_col]].values)\n",
    "    r = np.expand_dims(r, axis=1)\n",
    "    scaled_values = scaler.transform(r)\n",
    "    final_kaggle_df[one_hot_col + \"_scaled_feature\"] = list(scaled_values)"
   ]
  },
  {
   "cell_type": "code",
   "execution_count": 265,
   "metadata": {
    "collapsed": true,
    "deletable": true,
    "editable": true
   },
   "outputs": [],
   "source": [
    "for label_col in label_cols:\n",
    "    label_enc = label_scalers[label_col]\n",
    "    encoded_values = label_enc.transform(final_kaggle_df[[label_col]].values)\n",
    "    final_kaggle_df[label_col + \"_scaled_feature\"] = encoded_values"
   ]
  },
  {
   "cell_type": "code",
   "execution_count": 266,
   "metadata": {
    "collapsed": false,
    "deletable": true,
    "editable": true
   },
   "outputs": [
    {
     "data": {
      "text/plain": [
       "['micex_cbi_tr_scaled_feature',\n",
       " 'unemployment_scaled_feature',\n",
       " 'apartment_build_scaled_feature',\n",
       " 'railroad_station_avto_min_scaled_feature',\n",
       " 'rts_scaled_feature',\n",
       " 'pop_migration_scaled_feature',\n",
       " 'work_all_scaled_feature',\n",
       " 'max_floor_scaled_feature',\n",
       " 'housing_fund_sqm_scaled_feature',\n",
       " 'heating_share_scaled_feature',\n",
       " 'catering_km_scaled_feature',\n",
       " 'zd_vokzaly_avto_km_scaled_feature',\n",
       " 'mortality_scaled_feature',\n",
       " 'water_km_scaled_feature',\n",
       " 'green_part_1000_scaled_feature',\n",
       " 'deposits_rate_scaled_feature',\n",
       " 'park_km_scaled_feature',\n",
       " 'big_road1_km_scaled_feature',\n",
       " 'hospice_morgue_km_scaled_feature',\n",
       " 'metro_km_avto_scaled_feature',\n",
       " 'ekder_male_scaled_feature',\n",
       " 'female_f_scaled_feature',\n",
       " 'deposits_growth_scaled_feature',\n",
       " 'usdrub_scaled_feature',\n",
       " 'deposits_value_scaled_feature',\n",
       " 'gdp_annual_growth_scaled_feature',\n",
       " 'big_church_km_scaled_feature',\n",
       " 'exhibition_km_scaled_feature',\n",
       " 'area_m_scaled_feature',\n",
       " 'young_male_scaled_feature',\n",
       " 'ekder_all_scaled_feature',\n",
       " 'divorce_rate_scaled_feature',\n",
       " 'employment_scaled_feature',\n",
       " 'hot_water_share_scaled_feature',\n",
       " 'brent_scaled_feature',\n",
       " 'income_per_cap_scaled_feature',\n",
       " 'incineration_km_scaled_feature',\n",
       " 'full_sq_scaled_feature',\n",
       " 'mosque_km_scaled_feature',\n",
       " 'rent_price_3room_eco_scaled_feature',\n",
       " 'industrial_km_scaled_feature',\n",
       " 'real_dispos_income_per_cap_growth_scaled_feature',\n",
       " 'young_all_scaled_feature',\n",
       " 'work_male_scaled_feature',\n",
       " 'childbirth_scaled_feature',\n",
       " 'mortgage_growth_scaled_feature',\n",
       " 'power_transmission_line_km_scaled_feature',\n",
       " 'water_treatment_km_scaled_feature',\n",
       " 'university_km_scaled_feature',\n",
       " 'church_synagogue_km_scaled_feature',\n",
       " 'construction_value_scaled_feature',\n",
       " 'mortgage_value_scaled_feature',\n",
       " 'green_zone_km_scaled_feature',\n",
       " 'indust_part_scaled_feature',\n",
       " 'pop_natural_increase_scaled_feature',\n",
       " 'timestamp_month_scaled_feature',\n",
       " 'metro_min_avto_scaled_feature',\n",
       " 'oil_urals_scaled_feature',\n",
       " 'ppi_scaled_feature',\n",
       " 'labor_force_scaled_feature',\n",
       " 'timestamp_year_scaled_feature',\n",
       " 'work_female_scaled_feature',\n",
       " 'railroad_km_scaled_feature',\n",
       " 'mortgage_rate_scaled_feature',\n",
       " 'oil_chemistry_km_scaled_feature',\n",
       " 'nuclear_reactor_km_scaled_feature',\n",
       " 'public_transport_station_km_scaled_feature',\n",
       " 'timestamp_day_scaled_feature',\n",
       " 'green_part_1500_scaled_feature',\n",
       " 'old_house_share_scaled_feature',\n",
       " 'rent_price_2room_eco_scaled_feature',\n",
       " 'water_pipes_share_scaled_feature',\n",
       " 'ttk_km_scaled_feature',\n",
       " 'build_year_scaled_feature',\n",
       " 'life_sq_scaled_feature',\n",
       " 'baths_share_scaled_feature',\n",
       " 'additional_education_km_scaled_feature',\n",
       " 'rent_price_1room_bus_scaled_feature',\n",
       " 'kindergarten_km_scaled_feature',\n",
       " 'average_provision_of_build_contract_scaled_feature',\n",
       " 'gdp_quart_growth_scaled_feature',\n",
       " 'salary_growth_scaled_feature',\n",
       " 'gas_share_scaled_feature',\n",
       " 'gdp_quart_scaled_feature',\n",
       " 'num_room_scaled_feature',\n",
       " 'cemetery_km_scaled_feature',\n",
       " 'big_road2_km_scaled_feature',\n",
       " 'young_female_scaled_feature',\n",
       " 'incidence_population_scaled_feature',\n",
       " 'gdp_deflator_scaled_feature',\n",
       " 'ekder_female_scaled_feature',\n",
       " 'pop_total_inc_scaled_feature',\n",
       " 'kitch_sq_scaled_feature',\n",
       " 'rent_price_2room_bus_scaled_feature',\n",
       " 'grp_growth_scaled_feature',\n",
       " 'swim_pool_km_scaled_feature',\n",
       " 'gdp_annual_scaled_feature',\n",
       " 'grp_scaled_feature',\n",
       " 'floor_scaled_feature',\n",
       " 'lodging_sqm_per_cap_scaled_feature',\n",
       " 'school_km_scaled_feature',\n",
       " 'rent_price_1room_eco_scaled_feature',\n",
       " 'public_healthcare_km_scaled_feature',\n",
       " 'ts_km_scaled_feature',\n",
       " 'sewerage_share_scaled_feature',\n",
       " 'shopping_centers_km_scaled_feature',\n",
       " 'male_f_scaled_feature',\n",
       " 'preschool_km_scaled_feature',\n",
       " 'apartment_fund_sqm_scaled_feature',\n",
       " 'electric_stove_share_scaled_feature',\n",
       " 'salary_scaled_feature',\n",
       " 'cpi_scaled_feature',\n",
       " 'rent_price_4+room_bus_scaled_feature',\n",
       " 'micex_scaled_feature',\n",
       " 'rent_price_3room_bus_scaled_feature',\n",
       " 'average_provision_of_build_contract_moscow_scaled_feature',\n",
       " 'average_life_exp_scaled_feature',\n",
       " 'marriages_per_1000_cap_scaled_feature',\n",
       " 'material_scaled_feature',\n",
       " 'state_refractored_scaled_feature',\n",
       " 'sub_area_scaled_feature',\n",
       " 'big_market_raion_scaled_feature',\n",
       " 'nuclear_reactor_raion_scaled_feature',\n",
       " 'thermal_power_plant_raion_scaled_feature',\n",
       " 'detention_facility_raion_scaled_feature',\n",
       " 'full_all_scaled_feature',\n",
       " 'shopping_centers_raion_scaled_feature',\n",
       " 'office_raion_scaled_feature',\n",
       " 'healthcare_centers_raion_scaled_feature',\n",
       " 'university_top_20_raion_scaled_feature']"
      ]
     },
     "execution_count": 266,
     "metadata": {},
     "output_type": "execute_result"
    }
   ],
   "source": [
    "[c for c in final_kaggle_df.columns.tolist() if \"_scaled_feature\" in c]"
   ]
  },
  {
   "cell_type": "code",
   "execution_count": 267,
   "metadata": {
    "collapsed": false,
    "deletable": true,
    "editable": true
   },
   "outputs": [],
   "source": [
    "kaggle_temporal_features, kaggle_property_features, kaggle_locality_features, kaggle_economy_features, kaggle_population_features, kaggle_categorical_features = format_input(final_kaggle_df)\n",
    "kaggle_combined_inputs = combine_inputs([kaggle_temporal_features, \n",
    "                                                     kaggle_property_features, \n",
    "                                                     kaggle_locality_features, \n",
    "                                                     kaggle_economy_features,\n",
    "                                                    kaggle_population_features] + \n",
    "                                                    [v for k,v in kaggle_categorical_features.items() if k not in embedding_columns])\n",
    "kaggle_preds = real_estate_price_model.predict(x={\n",
    "    'main_input' : kaggle_combined_inputs,\n",
    "    'sub_area_input' : kaggle_categorical_features['sub_area']})"
   ]
  },
  {
   "cell_type": "code",
   "execution_count": 268,
   "metadata": {
    "collapsed": false,
    "deletable": true,
    "editable": true
   },
   "outputs": [],
   "source": [
    "final_kaggle_df['price_doc'] = kaggle_preds"
   ]
  },
  {
   "cell_type": "code",
   "execution_count": 269,
   "metadata": {
    "collapsed": false,
    "deletable": true,
    "editable": true
   },
   "outputs": [
    {
     "data": {
      "text/plain": [
       "0        5880385.00\n",
       "1        8747043.00\n",
       "2        6298690.00\n",
       "3        6858484.00\n",
       "4        5549552.00\n",
       "5        8727317.00\n",
       "6        4832307.00\n",
       "7        4594226.00\n",
       "8        5736204.00\n",
       "9        5148752.00\n",
       "10       6578606.00\n",
       "11       5241682.50\n",
       "12       4955262.00\n",
       "13       4775061.00\n",
       "14       4861991.50\n",
       "15       6553341.50\n",
       "16      15251378.00\n",
       "17      15826982.00\n",
       "18       6276733.00\n",
       "19      12756315.00\n",
       "20       7439958.00\n",
       "21      10608332.00\n",
       "22       9471844.00\n",
       "23       9561188.00\n",
       "24       5613341.00\n",
       "25      10385531.00\n",
       "26      11192737.00\n",
       "27       8029026.50\n",
       "28       3457591.00\n",
       "29       7588155.00\n",
       "           ...     \n",
       "7632     5395088.50\n",
       "7633     3818764.50\n",
       "7634     9053429.00\n",
       "7635     5843685.00\n",
       "7636     3000335.25\n",
       "7637     4398782.00\n",
       "7638     3272240.50\n",
       "7639     6565595.00\n",
       "7640     6662632.50\n",
       "7641     3215262.25\n",
       "7642     6269689.50\n",
       "7643     6126363.00\n",
       "7644     6988746.00\n",
       "7645     3320255.25\n",
       "7646     6477169.50\n",
       "7647     6265315.00\n",
       "7648     6612234.50\n",
       "7649     5803001.50\n",
       "7650     5714071.00\n",
       "7651     7696539.00\n",
       "7652     7756061.50\n",
       "7653     6139387.50\n",
       "7654     2404006.00\n",
       "7655     3862035.50\n",
       "7656     4787133.00\n",
       "7657     7213634.00\n",
       "7658     4247625.00\n",
       "7659     4821589.00\n",
       "7660     5442102.50\n",
       "7661     8152384.50\n",
       "Name: price_doc, dtype: float32"
      ]
     },
     "execution_count": 269,
     "metadata": {},
     "output_type": "execute_result"
    }
   ],
   "source": [
    "final_kaggle_df['price_doc']"
   ]
  },
  {
   "cell_type": "code",
   "execution_count": 271,
   "metadata": {
    "collapsed": true,
    "deletable": true,
    "editable": true
   },
   "outputs": [
    {
     "data": {
      "text/html": [
       "<div>\n",
       "<table border=\"1\" class=\"dataframe\">\n",
       "  <thead>\n",
       "    <tr style=\"text-align: right;\">\n",
       "      <th></th>\n",
       "      <th>id</th>\n",
       "      <th>price_doc</th>\n",
       "    </tr>\n",
       "  </thead>\n",
       "  <tbody>\n",
       "    <tr>\n",
       "      <th>0</th>\n",
       "      <td>30474</td>\n",
       "      <td>5880385.00</td>\n",
       "    </tr>\n",
       "    <tr>\n",
       "      <th>1</th>\n",
       "      <td>30475</td>\n",
       "      <td>8747043.00</td>\n",
       "    </tr>\n",
       "    <tr>\n",
       "      <th>2</th>\n",
       "      <td>30476</td>\n",
       "      <td>6298690.00</td>\n",
       "    </tr>\n",
       "    <tr>\n",
       "      <th>3</th>\n",
       "      <td>30477</td>\n",
       "      <td>6858484.00</td>\n",
       "    </tr>\n",
       "    <tr>\n",
       "      <th>4</th>\n",
       "      <td>30478</td>\n",
       "      <td>5549552.00</td>\n",
       "    </tr>\n",
       "    <tr>\n",
       "      <th>5</th>\n",
       "      <td>30479</td>\n",
       "      <td>8727317.00</td>\n",
       "    </tr>\n",
       "    <tr>\n",
       "      <th>6</th>\n",
       "      <td>30480</td>\n",
       "      <td>4832307.00</td>\n",
       "    </tr>\n",
       "    <tr>\n",
       "      <th>7</th>\n",
       "      <td>30481</td>\n",
       "      <td>4594226.00</td>\n",
       "    </tr>\n",
       "    <tr>\n",
       "      <th>8</th>\n",
       "      <td>30482</td>\n",
       "      <td>5736204.00</td>\n",
       "    </tr>\n",
       "    <tr>\n",
       "      <th>9</th>\n",
       "      <td>30483</td>\n",
       "      <td>5148752.00</td>\n",
       "    </tr>\n",
       "    <tr>\n",
       "      <th>10</th>\n",
       "      <td>30484</td>\n",
       "      <td>6578606.00</td>\n",
       "    </tr>\n",
       "    <tr>\n",
       "      <th>11</th>\n",
       "      <td>30485</td>\n",
       "      <td>5241682.50</td>\n",
       "    </tr>\n",
       "    <tr>\n",
       "      <th>12</th>\n",
       "      <td>30486</td>\n",
       "      <td>4955262.00</td>\n",
       "    </tr>\n",
       "    <tr>\n",
       "      <th>13</th>\n",
       "      <td>30487</td>\n",
       "      <td>4775061.00</td>\n",
       "    </tr>\n",
       "    <tr>\n",
       "      <th>14</th>\n",
       "      <td>30488</td>\n",
       "      <td>4861991.50</td>\n",
       "    </tr>\n",
       "    <tr>\n",
       "      <th>15</th>\n",
       "      <td>30489</td>\n",
       "      <td>6553341.50</td>\n",
       "    </tr>\n",
       "    <tr>\n",
       "      <th>16</th>\n",
       "      <td>30490</td>\n",
       "      <td>15251378.00</td>\n",
       "    </tr>\n",
       "    <tr>\n",
       "      <th>17</th>\n",
       "      <td>30491</td>\n",
       "      <td>15826982.00</td>\n",
       "    </tr>\n",
       "    <tr>\n",
       "      <th>18</th>\n",
       "      <td>30492</td>\n",
       "      <td>6276733.00</td>\n",
       "    </tr>\n",
       "    <tr>\n",
       "      <th>19</th>\n",
       "      <td>30493</td>\n",
       "      <td>12756315.00</td>\n",
       "    </tr>\n",
       "    <tr>\n",
       "      <th>20</th>\n",
       "      <td>30494</td>\n",
       "      <td>7439958.00</td>\n",
       "    </tr>\n",
       "    <tr>\n",
       "      <th>21</th>\n",
       "      <td>30495</td>\n",
       "      <td>10608332.00</td>\n",
       "    </tr>\n",
       "    <tr>\n",
       "      <th>22</th>\n",
       "      <td>30496</td>\n",
       "      <td>9471844.00</td>\n",
       "    </tr>\n",
       "    <tr>\n",
       "      <th>23</th>\n",
       "      <td>30497</td>\n",
       "      <td>9561188.00</td>\n",
       "    </tr>\n",
       "    <tr>\n",
       "      <th>24</th>\n",
       "      <td>30498</td>\n",
       "      <td>5613341.00</td>\n",
       "    </tr>\n",
       "    <tr>\n",
       "      <th>25</th>\n",
       "      <td>30499</td>\n",
       "      <td>10385531.00</td>\n",
       "    </tr>\n",
       "    <tr>\n",
       "      <th>26</th>\n",
       "      <td>30500</td>\n",
       "      <td>11192737.00</td>\n",
       "    </tr>\n",
       "    <tr>\n",
       "      <th>27</th>\n",
       "      <td>30501</td>\n",
       "      <td>8029026.50</td>\n",
       "    </tr>\n",
       "    <tr>\n",
       "      <th>28</th>\n",
       "      <td>30502</td>\n",
       "      <td>3457591.00</td>\n",
       "    </tr>\n",
       "    <tr>\n",
       "      <th>29</th>\n",
       "      <td>30503</td>\n",
       "      <td>7588155.00</td>\n",
       "    </tr>\n",
       "    <tr>\n",
       "      <th>...</th>\n",
       "      <td>...</td>\n",
       "      <td>...</td>\n",
       "    </tr>\n",
       "    <tr>\n",
       "      <th>7632</th>\n",
       "      <td>38106</td>\n",
       "      <td>5395088.50</td>\n",
       "    </tr>\n",
       "    <tr>\n",
       "      <th>7633</th>\n",
       "      <td>38107</td>\n",
       "      <td>3818764.50</td>\n",
       "    </tr>\n",
       "    <tr>\n",
       "      <th>7634</th>\n",
       "      <td>38108</td>\n",
       "      <td>9053429.00</td>\n",
       "    </tr>\n",
       "    <tr>\n",
       "      <th>7635</th>\n",
       "      <td>38109</td>\n",
       "      <td>5843685.00</td>\n",
       "    </tr>\n",
       "    <tr>\n",
       "      <th>7636</th>\n",
       "      <td>38110</td>\n",
       "      <td>3000335.25</td>\n",
       "    </tr>\n",
       "    <tr>\n",
       "      <th>7637</th>\n",
       "      <td>38111</td>\n",
       "      <td>4398782.00</td>\n",
       "    </tr>\n",
       "    <tr>\n",
       "      <th>7638</th>\n",
       "      <td>38112</td>\n",
       "      <td>3272240.50</td>\n",
       "    </tr>\n",
       "    <tr>\n",
       "      <th>7639</th>\n",
       "      <td>38113</td>\n",
       "      <td>6565595.00</td>\n",
       "    </tr>\n",
       "    <tr>\n",
       "      <th>7640</th>\n",
       "      <td>38114</td>\n",
       "      <td>6662632.50</td>\n",
       "    </tr>\n",
       "    <tr>\n",
       "      <th>7641</th>\n",
       "      <td>38115</td>\n",
       "      <td>3215262.25</td>\n",
       "    </tr>\n",
       "    <tr>\n",
       "      <th>7642</th>\n",
       "      <td>38116</td>\n",
       "      <td>6269689.50</td>\n",
       "    </tr>\n",
       "    <tr>\n",
       "      <th>7643</th>\n",
       "      <td>38117</td>\n",
       "      <td>6126363.00</td>\n",
       "    </tr>\n",
       "    <tr>\n",
       "      <th>7644</th>\n",
       "      <td>38118</td>\n",
       "      <td>6988746.00</td>\n",
       "    </tr>\n",
       "    <tr>\n",
       "      <th>7645</th>\n",
       "      <td>38119</td>\n",
       "      <td>3320255.25</td>\n",
       "    </tr>\n",
       "    <tr>\n",
       "      <th>7646</th>\n",
       "      <td>38120</td>\n",
       "      <td>6477169.50</td>\n",
       "    </tr>\n",
       "    <tr>\n",
       "      <th>7647</th>\n",
       "      <td>38121</td>\n",
       "      <td>6265315.00</td>\n",
       "    </tr>\n",
       "    <tr>\n",
       "      <th>7648</th>\n",
       "      <td>38122</td>\n",
       "      <td>6612234.50</td>\n",
       "    </tr>\n",
       "    <tr>\n",
       "      <th>7649</th>\n",
       "      <td>38123</td>\n",
       "      <td>5803001.50</td>\n",
       "    </tr>\n",
       "    <tr>\n",
       "      <th>7650</th>\n",
       "      <td>38124</td>\n",
       "      <td>5714071.00</td>\n",
       "    </tr>\n",
       "    <tr>\n",
       "      <th>7651</th>\n",
       "      <td>38125</td>\n",
       "      <td>7696539.00</td>\n",
       "    </tr>\n",
       "    <tr>\n",
       "      <th>7652</th>\n",
       "      <td>38126</td>\n",
       "      <td>7756061.50</td>\n",
       "    </tr>\n",
       "    <tr>\n",
       "      <th>7653</th>\n",
       "      <td>38127</td>\n",
       "      <td>6139387.50</td>\n",
       "    </tr>\n",
       "    <tr>\n",
       "      <th>7654</th>\n",
       "      <td>38128</td>\n",
       "      <td>2404006.00</td>\n",
       "    </tr>\n",
       "    <tr>\n",
       "      <th>7655</th>\n",
       "      <td>38129</td>\n",
       "      <td>3862035.50</td>\n",
       "    </tr>\n",
       "    <tr>\n",
       "      <th>7656</th>\n",
       "      <td>38130</td>\n",
       "      <td>4787133.00</td>\n",
       "    </tr>\n",
       "    <tr>\n",
       "      <th>7657</th>\n",
       "      <td>38131</td>\n",
       "      <td>7213634.00</td>\n",
       "    </tr>\n",
       "    <tr>\n",
       "      <th>7658</th>\n",
       "      <td>38132</td>\n",
       "      <td>4247625.00</td>\n",
       "    </tr>\n",
       "    <tr>\n",
       "      <th>7659</th>\n",
       "      <td>38133</td>\n",
       "      <td>4821589.00</td>\n",
       "    </tr>\n",
       "    <tr>\n",
       "      <th>7660</th>\n",
       "      <td>38134</td>\n",
       "      <td>5442102.50</td>\n",
       "    </tr>\n",
       "    <tr>\n",
       "      <th>7661</th>\n",
       "      <td>38135</td>\n",
       "      <td>8152384.50</td>\n",
       "    </tr>\n",
       "  </tbody>\n",
       "</table>\n",
       "<p>7662 rows × 2 columns</p>\n",
       "</div>"
      ],
      "text/plain": [
       "         id    price_doc\n",
       "0     30474   5880385.00\n",
       "1     30475   8747043.00\n",
       "2     30476   6298690.00\n",
       "3     30477   6858484.00\n",
       "4     30478   5549552.00\n",
       "5     30479   8727317.00\n",
       "6     30480   4832307.00\n",
       "7     30481   4594226.00\n",
       "8     30482   5736204.00\n",
       "9     30483   5148752.00\n",
       "10    30484   6578606.00\n",
       "11    30485   5241682.50\n",
       "12    30486   4955262.00\n",
       "13    30487   4775061.00\n",
       "14    30488   4861991.50\n",
       "15    30489   6553341.50\n",
       "16    30490  15251378.00\n",
       "17    30491  15826982.00\n",
       "18    30492   6276733.00\n",
       "19    30493  12756315.00\n",
       "20    30494   7439958.00\n",
       "21    30495  10608332.00\n",
       "22    30496   9471844.00\n",
       "23    30497   9561188.00\n",
       "24    30498   5613341.00\n",
       "25    30499  10385531.00\n",
       "26    30500  11192737.00\n",
       "27    30501   8029026.50\n",
       "28    30502   3457591.00\n",
       "29    30503   7588155.00\n",
       "...     ...          ...\n",
       "7632  38106   5395088.50\n",
       "7633  38107   3818764.50\n",
       "7634  38108   9053429.00\n",
       "7635  38109   5843685.00\n",
       "7636  38110   3000335.25\n",
       "7637  38111   4398782.00\n",
       "7638  38112   3272240.50\n",
       "7639  38113   6565595.00\n",
       "7640  38114   6662632.50\n",
       "7641  38115   3215262.25\n",
       "7642  38116   6269689.50\n",
       "7643  38117   6126363.00\n",
       "7644  38118   6988746.00\n",
       "7645  38119   3320255.25\n",
       "7646  38120   6477169.50\n",
       "7647  38121   6265315.00\n",
       "7648  38122   6612234.50\n",
       "7649  38123   5803001.50\n",
       "7650  38124   5714071.00\n",
       "7651  38125   7696539.00\n",
       "7652  38126   7756061.50\n",
       "7653  38127   6139387.50\n",
       "7654  38128   2404006.00\n",
       "7655  38129   3862035.50\n",
       "7656  38130   4787133.00\n",
       "7657  38131   7213634.00\n",
       "7658  38132   4247625.00\n",
       "7659  38133   4821589.00\n",
       "7660  38134   5442102.50\n",
       "7661  38135   8152384.50\n",
       "\n",
       "[7662 rows x 2 columns]"
      ]
     },
     "execution_count": 271,
     "metadata": {},
     "output_type": "execute_result"
    }
   ],
   "source": [
    "final_kaggle_df[['id', 'price_doc']]"
   ]
  },
  {
   "cell_type": "code",
   "execution_count": 272,
   "metadata": {
    "collapsed": true,
    "deletable": true,
    "editable": true
   },
   "outputs": [],
   "source": [
    "final_kaggle_df[['id', 'price_doc']].to_csv(\"/mnt/h/Kaggle/Competitions/Russian Bank/models/v\" + str(version) + \"/submission.csv\", index=False) # output submission csv file"
   ]
  },
  {
   "cell_type": "code",
   "execution_count": null,
   "metadata": {
    "collapsed": true,
    "deletable": true,
    "editable": true
   },
   "outputs": [],
   "source": []
  }
 ],
 "metadata": {
  "kernelspec": {
   "display_name": "Python 2",
   "language": "python",
   "name": "python2"
  },
  "language_info": {
   "codemirror_mode": {
    "name": "ipython",
    "version": 2
   },
   "file_extension": ".py",
   "mimetype": "text/x-python",
   "name": "python",
   "nbconvert_exporter": "python",
   "pygments_lexer": "ipython2",
   "version": "2.7.6"
  }
 },
 "nbformat": 4,
 "nbformat_minor": 2
}
