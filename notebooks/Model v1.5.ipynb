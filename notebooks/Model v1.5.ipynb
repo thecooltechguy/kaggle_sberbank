{
 "cells": [
  {
   "cell_type": "markdown",
   "metadata": {
    "deletable": true,
    "editable": true
   },
   "source": [
    "# Model v1.5"
   ]
  },
  {
   "cell_type": "code",
   "execution_count": 176,
   "metadata": {
    "collapsed": false,
    "deletable": true,
    "editable": true
   },
   "outputs": [],
   "source": [
    "from keras.layers import Input, LSTM, Dense, Dropout, Embedding, TimeDistributed, Reshape\n",
    "from keras.layers.advanced_activations import PReLU\n",
    "from keras.layers.normalization import BatchNormalization\n",
    "from keras.layers.noise import GaussianDropout, GaussianNoise"
   ]
  },
  {
   "cell_type": "code",
   "execution_count": 2,
   "metadata": {
    "collapsed": true,
    "deletable": true,
    "editable": true
   },
   "outputs": [],
   "source": [
    "from keras.models import Model, Sequential\n",
    "from keras.layers.merge import Concatenate"
   ]
  },
  {
   "cell_type": "code",
   "execution_count": 3,
   "metadata": {
    "collapsed": true,
    "deletable": true,
    "editable": true
   },
   "outputs": [],
   "source": [
    "from keras.callbacks import TensorBoard, ModelCheckpoint, EarlyStopping"
   ]
  },
  {
   "cell_type": "code",
   "execution_count": 4,
   "metadata": {
    "collapsed": true,
    "deletable": true,
    "editable": true
   },
   "outputs": [],
   "source": [
    "import tensorflow as tf\n",
    "from keras import backend as K"
   ]
  },
  {
   "cell_type": "code",
   "execution_count": 5,
   "metadata": {
    "collapsed": true,
    "deletable": true,
    "editable": true
   },
   "outputs": [],
   "source": [
    "from sklearn import preprocessing\n",
    "from sklearn.model_selection import train_test_split"
   ]
  },
  {
   "cell_type": "code",
   "execution_count": 6,
   "metadata": {
    "collapsed": true,
    "deletable": true,
    "editable": true
   },
   "outputs": [],
   "source": [
    "from sklearn_pandas import DataFrameMapper"
   ]
  },
  {
   "cell_type": "code",
   "execution_count": 7,
   "metadata": {
    "collapsed": true,
    "deletable": true,
    "editable": true
   },
   "outputs": [],
   "source": [
    "import pandas as pd\n",
    "import numpy as np"
   ]
  },
  {
   "cell_type": "code",
   "execution_count": 8,
   "metadata": {
    "collapsed": true,
    "deletable": true,
    "editable": true
   },
   "outputs": [],
   "source": [
    "from keras.utils.np_utils import to_categorical"
   ]
  },
  {
   "cell_type": "code",
   "execution_count": 179,
   "metadata": {
    "collapsed": true,
    "deletable": true,
    "editable": true
   },
   "outputs": [],
   "source": [
    "version = 1.52\n",
    "version_str = \"v\" + str(version)"
   ]
  },
  {
   "cell_type": "code",
   "execution_count": 10,
   "metadata": {
    "collapsed": true,
    "deletable": true,
    "editable": true
   },
   "outputs": [],
   "source": [
    "LABEL = \"price_doc\""
   ]
  },
  {
   "cell_type": "code",
   "execution_count": 11,
   "metadata": {
    "collapsed": true,
    "deletable": true,
    "editable": true
   },
   "outputs": [],
   "source": [
    "def prepare_dataset(df, test=False, trunc_fields=False):\n",
    "    global LABEL\n",
    "    t_fields = ['id', 'timestamp', 'full_sq', 'life_sq', 'floor', 'max_floor','material', 'build_year', 'num_room', 'kitch_sq', 'state', 'product_type', 'sub_area', LABEL]\n",
    "    \n",
    "    if not test:\n",
    "        if trunc_fields:\n",
    "            df = df[t_fields.append + LABEL]\n",
    "        else:\n",
    "            df = df\n",
    "    else:\n",
    "        if trunc_fields:\n",
    "            df = df[t_fields]\n",
    "        else:\n",
    "            df = df\n",
    "    \n",
    "    df['timestamp_converted'] = pd.to_datetime(df['timestamp'])\n",
    "    df['timestamp_day'] = df.apply(lambda row: row['timestamp_converted'].day, axis=1)\n",
    "    df['timestamp_month'] = df.apply(lambda row: row['timestamp_converted'].month, axis=1)\n",
    "    df['timestamp_year'] = df.apply(lambda row: row['timestamp_converted'].year, axis=1)\n",
    "    df['state_refractored'] = df.apply( lambda row: 5 if row['state'] == 33 else row['state'] , axis = 1)\n",
    "    \n",
    "    df = df.fillna(0)\n",
    "    \n",
    "    df['state_refractored'] = df['state_refractored'].astype(int)    \n",
    "    df['material'] = df['material'].astype(int)    \n",
    "    return df"
   ]
  },
  {
   "cell_type": "code",
   "execution_count": 12,
   "metadata": {
    "collapsed": false,
    "deletable": true,
    "editable": true
   },
   "outputs": [
    {
     "name": "stderr",
     "output_type": "stream",
     "text": [
      "/usr/local/lib/python2.7/dist-packages/IPython/core/interactiveshell.py:2717: DtypeWarning: Columns (375,378,379) have mixed types. Specify dtype option on import or set low_memory=False.\n",
      "  interactivity=interactivity, compiler=compiler, result=result)\n"
     ]
    }
   ],
   "source": [
    "final_train_df = pd.read_csv(\"/mnt/h/Kaggle/Competitions/Russian Bank/data/final_training_dataset.csv\")"
   ]
  },
  {
   "cell_type": "code",
   "execution_count": 13,
   "metadata": {
    "collapsed": false,
    "deletable": true,
    "editable": true
   },
   "outputs": [],
   "source": [
    "final_train_df = prepare_dataset(final_train_df)"
   ]
  },
  {
   "cell_type": "code",
   "execution_count": 14,
   "metadata": {
    "collapsed": true,
    "deletable": true,
    "editable": true
   },
   "outputs": [],
   "source": [
    "del final_train_df['Unnamed: 0']"
   ]
  },
  {
   "cell_type": "code",
   "execution_count": 15,
   "metadata": {
    "collapsed": false,
    "deletable": true,
    "editable": true
   },
   "outputs": [
    {
     "data": {
      "text/html": [
       "<div>\n",
       "<table border=\"1\" class=\"dataframe\">\n",
       "  <thead>\n",
       "    <tr style=\"text-align: right;\">\n",
       "      <th></th>\n",
       "      <th>id</th>\n",
       "      <th>timestamp</th>\n",
       "      <th>full_sq</th>\n",
       "      <th>life_sq</th>\n",
       "      <th>floor</th>\n",
       "      <th>max_floor</th>\n",
       "      <th>material</th>\n",
       "      <th>build_year</th>\n",
       "      <th>num_room</th>\n",
       "      <th>kitch_sq</th>\n",
       "      <th>...</th>\n",
       "      <th>provision_retail_space_modern_sqm</th>\n",
       "      <th>turnover_catering_per_cap</th>\n",
       "      <th>theaters_viewers_per_1000_cap</th>\n",
       "      <th>seats_theather_rfmin_per_100000_cap</th>\n",
       "      <th>museum_visitis_per_100_cap</th>\n",
       "      <th>bandwidth_sports</th>\n",
       "      <th>population_reg_sports_share</th>\n",
       "      <th>students_reg_sports_share</th>\n",
       "      <th>apartment_build</th>\n",
       "      <th>apartment_fund_sqm</th>\n",
       "    </tr>\n",
       "  </thead>\n",
       "  <tbody>\n",
       "    <tr>\n",
       "      <th>0</th>\n",
       "      <td>1</td>\n",
       "      <td>2011-08-20</td>\n",
       "      <td>43</td>\n",
       "      <td>27.0</td>\n",
       "      <td>4.0</td>\n",
       "      <td>0.0</td>\n",
       "      <td>0</td>\n",
       "      <td>0.0</td>\n",
       "      <td>0.0</td>\n",
       "      <td>0.0</td>\n",
       "      <td>...</td>\n",
       "      <td>271.0</td>\n",
       "      <td>6943.0</td>\n",
       "      <td>565.0</td>\n",
       "      <td>0.45356</td>\n",
       "      <td>1240.0</td>\n",
       "      <td>269768.0</td>\n",
       "      <td>22.37</td>\n",
       "      <td>64.12</td>\n",
       "      <td>23587.0</td>\n",
       "      <td>230310.0</td>\n",
       "    </tr>\n",
       "    <tr>\n",
       "      <th>1</th>\n",
       "      <td>2</td>\n",
       "      <td>2011-08-23</td>\n",
       "      <td>34</td>\n",
       "      <td>19.0</td>\n",
       "      <td>3.0</td>\n",
       "      <td>0.0</td>\n",
       "      <td>0</td>\n",
       "      <td>0.0</td>\n",
       "      <td>0.0</td>\n",
       "      <td>0.0</td>\n",
       "      <td>...</td>\n",
       "      <td>271.0</td>\n",
       "      <td>6943.0</td>\n",
       "      <td>565.0</td>\n",
       "      <td>0.45356</td>\n",
       "      <td>1240.0</td>\n",
       "      <td>269768.0</td>\n",
       "      <td>22.37</td>\n",
       "      <td>64.12</td>\n",
       "      <td>23587.0</td>\n",
       "      <td>230310.0</td>\n",
       "    </tr>\n",
       "    <tr>\n",
       "      <th>2</th>\n",
       "      <td>3</td>\n",
       "      <td>2011-08-27</td>\n",
       "      <td>43</td>\n",
       "      <td>29.0</td>\n",
       "      <td>2.0</td>\n",
       "      <td>0.0</td>\n",
       "      <td>0</td>\n",
       "      <td>0.0</td>\n",
       "      <td>0.0</td>\n",
       "      <td>0.0</td>\n",
       "      <td>...</td>\n",
       "      <td>271.0</td>\n",
       "      <td>6943.0</td>\n",
       "      <td>565.0</td>\n",
       "      <td>0.45356</td>\n",
       "      <td>1240.0</td>\n",
       "      <td>269768.0</td>\n",
       "      <td>22.37</td>\n",
       "      <td>64.12</td>\n",
       "      <td>23587.0</td>\n",
       "      <td>230310.0</td>\n",
       "    </tr>\n",
       "    <tr>\n",
       "      <th>3</th>\n",
       "      <td>4</td>\n",
       "      <td>2011-09-01</td>\n",
       "      <td>89</td>\n",
       "      <td>50.0</td>\n",
       "      <td>9.0</td>\n",
       "      <td>0.0</td>\n",
       "      <td>0</td>\n",
       "      <td>0.0</td>\n",
       "      <td>0.0</td>\n",
       "      <td>0.0</td>\n",
       "      <td>...</td>\n",
       "      <td>271.0</td>\n",
       "      <td>6943.0</td>\n",
       "      <td>565.0</td>\n",
       "      <td>0.45356</td>\n",
       "      <td>1240.0</td>\n",
       "      <td>269768.0</td>\n",
       "      <td>22.37</td>\n",
       "      <td>64.12</td>\n",
       "      <td>23587.0</td>\n",
       "      <td>230310.0</td>\n",
       "    </tr>\n",
       "    <tr>\n",
       "      <th>4</th>\n",
       "      <td>5</td>\n",
       "      <td>2011-09-05</td>\n",
       "      <td>77</td>\n",
       "      <td>77.0</td>\n",
       "      <td>4.0</td>\n",
       "      <td>0.0</td>\n",
       "      <td>0</td>\n",
       "      <td>0.0</td>\n",
       "      <td>0.0</td>\n",
       "      <td>0.0</td>\n",
       "      <td>...</td>\n",
       "      <td>271.0</td>\n",
       "      <td>6943.0</td>\n",
       "      <td>565.0</td>\n",
       "      <td>0.45356</td>\n",
       "      <td>1240.0</td>\n",
       "      <td>269768.0</td>\n",
       "      <td>22.37</td>\n",
       "      <td>64.12</td>\n",
       "      <td>23587.0</td>\n",
       "      <td>230310.0</td>\n",
       "    </tr>\n",
       "  </tbody>\n",
       "</table>\n",
       "<p>5 rows × 396 columns</p>\n",
       "</div>"
      ],
      "text/plain": [
       "   id   timestamp  full_sq  life_sq  floor  max_floor  material  build_year  \\\n",
       "0   1  2011-08-20       43     27.0    4.0        0.0         0         0.0   \n",
       "1   2  2011-08-23       34     19.0    3.0        0.0         0         0.0   \n",
       "2   3  2011-08-27       43     29.0    2.0        0.0         0         0.0   \n",
       "3   4  2011-09-01       89     50.0    9.0        0.0         0         0.0   \n",
       "4   5  2011-09-05       77     77.0    4.0        0.0         0         0.0   \n",
       "\n",
       "   num_room  kitch_sq         ...          provision_retail_space_modern_sqm  \\\n",
       "0       0.0       0.0         ...                                      271.0   \n",
       "1       0.0       0.0         ...                                      271.0   \n",
       "2       0.0       0.0         ...                                      271.0   \n",
       "3       0.0       0.0         ...                                      271.0   \n",
       "4       0.0       0.0         ...                                      271.0   \n",
       "\n",
       "  turnover_catering_per_cap theaters_viewers_per_1000_cap  \\\n",
       "0                    6943.0                         565.0   \n",
       "1                    6943.0                         565.0   \n",
       "2                    6943.0                         565.0   \n",
       "3                    6943.0                         565.0   \n",
       "4                    6943.0                         565.0   \n",
       "\n",
       "   seats_theather_rfmin_per_100000_cap  museum_visitis_per_100_cap  \\\n",
       "0                              0.45356                      1240.0   \n",
       "1                              0.45356                      1240.0   \n",
       "2                              0.45356                      1240.0   \n",
       "3                              0.45356                      1240.0   \n",
       "4                              0.45356                      1240.0   \n",
       "\n",
       "   bandwidth_sports  population_reg_sports_share  students_reg_sports_share  \\\n",
       "0          269768.0                        22.37                      64.12   \n",
       "1          269768.0                        22.37                      64.12   \n",
       "2          269768.0                        22.37                      64.12   \n",
       "3          269768.0                        22.37                      64.12   \n",
       "4          269768.0                        22.37                      64.12   \n",
       "\n",
       "   apartment_build  apartment_fund_sqm  \n",
       "0          23587.0            230310.0  \n",
       "1          23587.0            230310.0  \n",
       "2          23587.0            230310.0  \n",
       "3          23587.0            230310.0  \n",
       "4          23587.0            230310.0  \n",
       "\n",
       "[5 rows x 396 columns]"
      ]
     },
     "execution_count": 15,
     "metadata": {},
     "output_type": "execute_result"
    }
   ],
   "source": [
    "final_train_df.head()"
   ]
  },
  {
   "cell_type": "markdown",
   "metadata": {
    "deletable": true,
    "editable": true
   },
   "source": [
    "## Data prep"
   ]
  },
  {
   "cell_type": "code",
   "execution_count": 16,
   "metadata": {
    "collapsed": true,
    "deletable": true,
    "editable": true
   },
   "outputs": [],
   "source": [
    "def dedup(listy):\n",
    "    return list(set(listy))"
   ]
  },
  {
   "cell_type": "code",
   "execution_count": 17,
   "metadata": {
    "collapsed": false,
    "deletable": true,
    "editable": true
   },
   "outputs": [],
   "source": [
    "property_columns = [\n",
    "    # Place features\n",
    " 'full_sq',\n",
    " 'kitch_sq',\n",
    " 'floor',\n",
    " 'life_sq',\n",
    " 'build_year',\n",
    " 'num_room',\n",
    " 'max_floor',\n",
    " 'sub_area',\n",
    "]\n",
    "\n",
    "time_columns = [\n",
    " 'timestamp_day',\n",
    " 'timestamp_month',\n",
    " 'timestamp_year',\n",
    "]\n",
    "\n",
    "population_columns = [\n",
    "    # Economy: Population\n",
    "    'male_f',\n",
    "    'female_f',\n",
    "    'young_all',\n",
    "    'young_male',\n",
    "    'young_female',\n",
    "    'work_all',\n",
    "    'work_male',\n",
    "    'work_female',\n",
    "    'ekder_all',\n",
    "    'ekder_male',\n",
    "    'ekder_female',\n",
    "    \n",
    "    'marriages_per_1000_cap',\n",
    "    'divorce_rate',\n",
    "    'pop_natural_increase',\n",
    "    'pop_migration',\n",
    "    'pop_total_inc',\n",
    "    'childbirth',\n",
    "    'mortality',\n",
    "    'average_life_exp',\n",
    "]\n",
    "\n",
    "locality_columns = [\n",
    " 'metro_min_avto',\n",
    "    \n",
    " 'railroad_station_avto_min',\n",
    "    \n",
    " 'green_part_1000',\n",
    " 'green_part_1500',\n",
    "    \n",
    "     # Raion = number of...\n",
    "  'big_market_raion',\n",
    "  'nuclear_reactor_raion',\n",
    "  'detention_facility_raion',\n",
    "  'full_all',\n",
    "  'shopping_centers_raion',\n",
    "  'office_raion',\n",
    "  'thermal_power_plant_raion',\n",
    "  'healthcare_centers_raion',\n",
    "  'university_top_20_raion',\n",
    "    \n",
    "  # Locality features...\n",
    " 'railroad_km',\n",
    " 'green_zone_km',\n",
    " 'kindergarten_km',\n",
    " 'public_transport_station_km',\n",
    " 'metro_km_avto',\n",
    " 'park_km',\n",
    " 'cemetery_km',\n",
    " 'mosque_km',\n",
    " 'public_healthcare_km',\n",
    " 'catering_km',\n",
    " 'big_road2_km',\n",
    " 'hospice_morgue_km',\n",
    " 'swim_pool_km',\n",
    " 'water_treatment_km',\n",
    " 'power_transmission_line_km',\n",
    " 'water_km',\n",
    " 'school_km',\n",
    " 'ttk_km',\n",
    " 'area_m',\n",
    " 'ts_km',\n",
    " 'university_km',\n",
    " 'oil_chemistry_km',\n",
    " 'exhibition_km',\n",
    " 'shopping_centers_km',\n",
    " 'zd_vokzaly_avto_km',\n",
    " 'preschool_km',\n",
    " 'big_road1_km',\n",
    " 'additional_education_km',\n",
    " 'church_synagogue_km',\n",
    " 'big_church_km',\n",
    " 'incineration_km',\n",
    " 'industrial_km',\n",
    " 'nuclear_reactor_km',\n",
    "]\n",
    "\n",
    "economy_columns = [\n",
    "    \n",
    "    \n",
    "     'usdrub',\n",
    " 'micex_cbi_tr',\n",
    " 'brent', \n",
    "    \n",
    "     'micex',\n",
    "    \n",
    "    'oil_urals',\n",
    "     \n",
    " # Economy features\n",
    " 'gdp_quart',\n",
    " 'gdp_quart_growth',\n",
    " 'cpi',\n",
    "    'ppi',\n",
    "    'gdp_deflator',\n",
    "    'gdp_annual',\n",
    "    'gdp_annual_growth',\n",
    "    'average_provision_of_build_contract',\n",
    "    'average_provision_of_build_contract_moscow',\n",
    "    'rts',\n",
    "    'deposits_value',\n",
    "    'deposits_growth',\n",
    "    'deposits_rate',\n",
    "    'mortgage_value',\n",
    "    'mortgage_growth',\n",
    "    'mortgage_rate',\n",
    "    'grp',\n",
    "    'grp_growth',\n",
    "    'income_per_cap',\n",
    "    'real_dispos_income_per_cap_growth',\n",
    "    'salary',\n",
    "    'salary_growth',\n",
    "    'labor_force',\n",
    "    'unemployment',\n",
    "    'employment',\n",
    "    'construction_value',\n",
    "    'housing_fund_sqm',\n",
    "    'lodging_sqm_per_cap',\n",
    "    'water_pipes_share',\n",
    "    'baths_share',\n",
    "    'sewerage_share',\n",
    "    'gas_share',\n",
    "    'hot_water_share',\n",
    "    'electric_stove_share',\n",
    "    'heating_share',\n",
    "    'old_house_share',\n",
    "    'incidence_population',\n",
    "    'rent_price_4+room_bus',\n",
    "    'rent_price_3room_bus',\n",
    "    'rent_price_2room_bus',\n",
    "    'rent_price_1room_bus',\n",
    "    'rent_price_3room_eco',\n",
    "    'rent_price_2room_eco',\n",
    "    'rent_price_1room_eco',\n",
    "    'apartment_build',\n",
    "    'apartment_fund_sqm',\n",
    "    'indust_part',\n",
    "]\n",
    "\n",
    "one_hot_cols = [\n",
    "    'material',\n",
    "    'state_refractored'\n",
    "]\n",
    "\n",
    "columns = dedup(property_columns + population_columns + economy_columns + locality_columns + time_columns + one_hot_cols)\n",
    "\n",
    "label_cols = [\n",
    "    'sub_area',\n",
    "    'big_market_raion',\n",
    "    'nuclear_reactor_raion',\n",
    "    'thermal_power_plant_raion',\n",
    "    'detention_facility_raion',\n",
    "    'big_market_raion',\n",
    "  'nuclear_reactor_raion',\n",
    "  'detention_facility_raion',\n",
    "  'full_all',\n",
    "  'shopping_centers_raion',\n",
    "  'office_raion',\n",
    "  'thermal_power_plant_raion',\n",
    "  'healthcare_centers_raion',\n",
    "  'university_top_20_raion',\n",
    "]\n",
    "\n",
    "exclude_normalize_columns = [\n",
    "    # Specific columns to exclude...\n",
    "] + one_hot_cols + label_cols\n",
    "\n",
    "normalize_columns = [c for c in columns if c not in exclude_normalize_columns]\n",
    "\n",
    "#locality_columns = [c for c in columns if \"_km\" in c]\n",
    "continuous_columns = [c for c in columns if c not in one_hot_cols and c not in label_cols]\n",
    "continuous_columns_without_locality = [c for c in continuous_columns if c not in locality_columns]"
   ]
  },
  {
   "cell_type": "code",
   "execution_count": 18,
   "metadata": {
    "collapsed": false,
    "deletable": true,
    "editable": true
   },
   "outputs": [],
   "source": [
    "final_train_df = final_train_df[columns + [LABEL, 'timestamp_converted']]"
   ]
  },
  {
   "cell_type": "code",
   "execution_count": 19,
   "metadata": {
    "collapsed": false,
    "deletable": true,
    "editable": true
   },
   "outputs": [
    {
     "data": {
      "text/html": [
       "<div>\n",
       "<table border=\"1\" class=\"dataframe\">\n",
       "  <thead>\n",
       "    <tr style=\"text-align: right;\">\n",
       "      <th></th>\n",
       "      <th>micex_cbi_tr</th>\n",
       "      <th>unemployment</th>\n",
       "      <th>apartment_build</th>\n",
       "      <th>railroad_station_avto_min</th>\n",
       "      <th>rts</th>\n",
       "      <th>pop_migration</th>\n",
       "      <th>work_all</th>\n",
       "      <th>state_refractored</th>\n",
       "      <th>healthcare_centers_raion</th>\n",
       "      <th>max_floor</th>\n",
       "      <th>...</th>\n",
       "      <th>salary</th>\n",
       "      <th>cpi</th>\n",
       "      <th>rent_price_4+room_bus</th>\n",
       "      <th>micex</th>\n",
       "      <th>rent_price_3room_bus</th>\n",
       "      <th>average_provision_of_build_contract_moscow</th>\n",
       "      <th>average_life_exp</th>\n",
       "      <th>marriages_per_1000_cap</th>\n",
       "      <th>price_doc</th>\n",
       "      <th>timestamp_converted</th>\n",
       "    </tr>\n",
       "  </thead>\n",
       "  <tbody>\n",
       "    <tr>\n",
       "      <th>0</th>\n",
       "      <td>204.78</td>\n",
       "      <td>0.014</td>\n",
       "      <td>23587.0</td>\n",
       "      <td>6.905893</td>\n",
       "      <td>1575.33</td>\n",
       "      <td>5.1</td>\n",
       "      <td>98207</td>\n",
       "      <td>0</td>\n",
       "      <td>1</td>\n",
       "      <td>0.0</td>\n",
       "      <td>...</td>\n",
       "      <td>44898.7</td>\n",
       "      <td>354.0</td>\n",
       "      <td>136.11</td>\n",
       "      <td>1438.74</td>\n",
       "      <td>77.93</td>\n",
       "      <td>6.74</td>\n",
       "      <td>75.79</td>\n",
       "      <td>8.5</td>\n",
       "      <td>5850000</td>\n",
       "      <td>2011-08-20</td>\n",
       "    </tr>\n",
       "    <tr>\n",
       "      <th>1</th>\n",
       "      <td>204.92</td>\n",
       "      <td>0.014</td>\n",
       "      <td>23587.0</td>\n",
       "      <td>4.679745</td>\n",
       "      <td>1578.91</td>\n",
       "      <td>5.1</td>\n",
       "      <td>70194</td>\n",
       "      <td>0</td>\n",
       "      <td>1</td>\n",
       "      <td>0.0</td>\n",
       "      <td>...</td>\n",
       "      <td>44898.7</td>\n",
       "      <td>354.0</td>\n",
       "      <td>136.11</td>\n",
       "      <td>1444.11</td>\n",
       "      <td>77.93</td>\n",
       "      <td>6.74</td>\n",
       "      <td>75.79</td>\n",
       "      <td>8.5</td>\n",
       "      <td>6000000</td>\n",
       "      <td>2011-08-23</td>\n",
       "    </tr>\n",
       "    <tr>\n",
       "      <th>2</th>\n",
       "      <td>204.84</td>\n",
       "      <td>0.014</td>\n",
       "      <td>23587.0</td>\n",
       "      <td>1.701420</td>\n",
       "      <td>1596.17</td>\n",
       "      <td>5.1</td>\n",
       "      <td>63388</td>\n",
       "      <td>0</td>\n",
       "      <td>1</td>\n",
       "      <td>0.0</td>\n",
       "      <td>...</td>\n",
       "      <td>44898.7</td>\n",
       "      <td>354.0</td>\n",
       "      <td>136.11</td>\n",
       "      <td>1458.84</td>\n",
       "      <td>77.93</td>\n",
       "      <td>6.74</td>\n",
       "      <td>75.79</td>\n",
       "      <td>8.5</td>\n",
       "      <td>5700000</td>\n",
       "      <td>2011-08-27</td>\n",
       "    </tr>\n",
       "    <tr>\n",
       "      <th>3</th>\n",
       "      <td>205.42</td>\n",
       "      <td>0.014</td>\n",
       "      <td>23587.0</td>\n",
       "      <td>5.271136</td>\n",
       "      <td>1703.86</td>\n",
       "      <td>5.1</td>\n",
       "      <td>120381</td>\n",
       "      <td>0</td>\n",
       "      <td>1</td>\n",
       "      <td>0.0</td>\n",
       "      <td>...</td>\n",
       "      <td>44898.7</td>\n",
       "      <td>353.2</td>\n",
       "      <td>155.22</td>\n",
       "      <td>1551.58</td>\n",
       "      <td>94.02</td>\n",
       "      <td>6.74</td>\n",
       "      <td>75.79</td>\n",
       "      <td>8.5</td>\n",
       "      <td>13100000</td>\n",
       "      <td>2011-09-01</td>\n",
       "    </tr>\n",
       "    <tr>\n",
       "      <th>4</th>\n",
       "      <td>198.24</td>\n",
       "      <td>0.014</td>\n",
       "      <td>23587.0</td>\n",
       "      <td>2.156284</td>\n",
       "      <td>1617.01</td>\n",
       "      <td>5.1</td>\n",
       "      <td>68043</td>\n",
       "      <td>0</td>\n",
       "      <td>4</td>\n",
       "      <td>0.0</td>\n",
       "      <td>...</td>\n",
       "      <td>44898.7</td>\n",
       "      <td>353.2</td>\n",
       "      <td>155.22</td>\n",
       "      <td>1492.83</td>\n",
       "      <td>94.02</td>\n",
       "      <td>6.74</td>\n",
       "      <td>75.79</td>\n",
       "      <td>8.5</td>\n",
       "      <td>16331452</td>\n",
       "      <td>2011-09-05</td>\n",
       "    </tr>\n",
       "  </tbody>\n",
       "</table>\n",
       "<p>5 rows × 132 columns</p>\n",
       "</div>"
      ],
      "text/plain": [
       "   micex_cbi_tr  unemployment  apartment_build  railroad_station_avto_min  \\\n",
       "0        204.78         0.014          23587.0                   6.905893   \n",
       "1        204.92         0.014          23587.0                   4.679745   \n",
       "2        204.84         0.014          23587.0                   1.701420   \n",
       "3        205.42         0.014          23587.0                   5.271136   \n",
       "4        198.24         0.014          23587.0                   2.156284   \n",
       "\n",
       "       rts  pop_migration  work_all  state_refractored  \\\n",
       "0  1575.33            5.1     98207                  0   \n",
       "1  1578.91            5.1     70194                  0   \n",
       "2  1596.17            5.1     63388                  0   \n",
       "3  1703.86            5.1    120381                  0   \n",
       "4  1617.01            5.1     68043                  0   \n",
       "\n",
       "   healthcare_centers_raion  max_floor         ...            salary    cpi  \\\n",
       "0                         1        0.0         ...           44898.7  354.0   \n",
       "1                         1        0.0         ...           44898.7  354.0   \n",
       "2                         1        0.0         ...           44898.7  354.0   \n",
       "3                         1        0.0         ...           44898.7  353.2   \n",
       "4                         4        0.0         ...           44898.7  353.2   \n",
       "\n",
       "   rent_price_4+room_bus    micex  rent_price_3room_bus  \\\n",
       "0                 136.11  1438.74                 77.93   \n",
       "1                 136.11  1444.11                 77.93   \n",
       "2                 136.11  1458.84                 77.93   \n",
       "3                 155.22  1551.58                 94.02   \n",
       "4                 155.22  1492.83                 94.02   \n",
       "\n",
       "   average_provision_of_build_contract_moscow  average_life_exp  \\\n",
       "0                                        6.74             75.79   \n",
       "1                                        6.74             75.79   \n",
       "2                                        6.74             75.79   \n",
       "3                                        6.74             75.79   \n",
       "4                                        6.74             75.79   \n",
       "\n",
       "   marriages_per_1000_cap  price_doc  timestamp_converted  \n",
       "0                     8.5    5850000           2011-08-20  \n",
       "1                     8.5    6000000           2011-08-23  \n",
       "2                     8.5    5700000           2011-08-27  \n",
       "3                     8.5   13100000           2011-09-01  \n",
       "4                     8.5   16331452           2011-09-05  \n",
       "\n",
       "[5 rows x 132 columns]"
      ]
     },
     "execution_count": 19,
     "metadata": {},
     "output_type": "execute_result"
    }
   ],
   "source": [
    "final_train_df.head()"
   ]
  },
  {
   "cell_type": "code",
   "execution_count": 20,
   "metadata": {
    "collapsed": false,
    "deletable": true,
    "editable": true
   },
   "outputs": [
    {
     "name": "stderr",
     "output_type": "stream",
     "text": [
      "/usr/local/lib/python2.7/dist-packages/ipykernel/__main__.py:1: FutureWarning: convert_objects is deprecated.  Use the data-type specific converters pd.to_datetime, pd.to_timedelta and pd.to_numeric.\n",
      "  if __name__ == '__main__':\n"
     ]
    }
   ],
   "source": [
    "final_train_df = final_train_df.convert_objects(convert_numeric=True)"
   ]
  },
  {
   "cell_type": "markdown",
   "metadata": {
    "deletable": true,
    "editable": true
   },
   "source": [
    "## Prepare numeric data scalers & normalizers"
   ]
  },
  {
   "cell_type": "code",
   "execution_count": 21,
   "metadata": {
    "collapsed": true,
    "deletable": true,
    "editable": true
   },
   "outputs": [],
   "source": [
    "norm_scalers = {column : preprocessing.StandardScaler() for column in normalize_columns}"
   ]
  },
  {
   "cell_type": "code",
   "execution_count": 22,
   "metadata": {
    "collapsed": false,
    "deletable": true,
    "editable": true
   },
   "outputs": [
    {
     "data": {
      "text/plain": [
       "{'additional_education_km': StandardScaler(copy=True, with_mean=True, with_std=True),\n",
       " 'apartment_build': StandardScaler(copy=True, with_mean=True, with_std=True),\n",
       " 'apartment_fund_sqm': StandardScaler(copy=True, with_mean=True, with_std=True),\n",
       " 'area_m': StandardScaler(copy=True, with_mean=True, with_std=True),\n",
       " 'average_life_exp': StandardScaler(copy=True, with_mean=True, with_std=True),\n",
       " 'average_provision_of_build_contract': StandardScaler(copy=True, with_mean=True, with_std=True),\n",
       " 'average_provision_of_build_contract_moscow': StandardScaler(copy=True, with_mean=True, with_std=True),\n",
       " 'baths_share': StandardScaler(copy=True, with_mean=True, with_std=True),\n",
       " 'big_church_km': StandardScaler(copy=True, with_mean=True, with_std=True),\n",
       " 'big_road1_km': StandardScaler(copy=True, with_mean=True, with_std=True),\n",
       " 'big_road2_km': StandardScaler(copy=True, with_mean=True, with_std=True),\n",
       " 'brent': StandardScaler(copy=True, with_mean=True, with_std=True),\n",
       " 'build_year': StandardScaler(copy=True, with_mean=True, with_std=True),\n",
       " 'catering_km': StandardScaler(copy=True, with_mean=True, with_std=True),\n",
       " 'cemetery_km': StandardScaler(copy=True, with_mean=True, with_std=True),\n",
       " 'childbirth': StandardScaler(copy=True, with_mean=True, with_std=True),\n",
       " 'church_synagogue_km': StandardScaler(copy=True, with_mean=True, with_std=True),\n",
       " 'construction_value': StandardScaler(copy=True, with_mean=True, with_std=True),\n",
       " 'cpi': StandardScaler(copy=True, with_mean=True, with_std=True),\n",
       " 'deposits_growth': StandardScaler(copy=True, with_mean=True, with_std=True),\n",
       " 'deposits_rate': StandardScaler(copy=True, with_mean=True, with_std=True),\n",
       " 'deposits_value': StandardScaler(copy=True, with_mean=True, with_std=True),\n",
       " 'divorce_rate': StandardScaler(copy=True, with_mean=True, with_std=True),\n",
       " 'ekder_all': StandardScaler(copy=True, with_mean=True, with_std=True),\n",
       " 'ekder_female': StandardScaler(copy=True, with_mean=True, with_std=True),\n",
       " 'ekder_male': StandardScaler(copy=True, with_mean=True, with_std=True),\n",
       " 'electric_stove_share': StandardScaler(copy=True, with_mean=True, with_std=True),\n",
       " 'employment': StandardScaler(copy=True, with_mean=True, with_std=True),\n",
       " 'exhibition_km': StandardScaler(copy=True, with_mean=True, with_std=True),\n",
       " 'female_f': StandardScaler(copy=True, with_mean=True, with_std=True),\n",
       " 'floor': StandardScaler(copy=True, with_mean=True, with_std=True),\n",
       " 'full_sq': StandardScaler(copy=True, with_mean=True, with_std=True),\n",
       " 'gas_share': StandardScaler(copy=True, with_mean=True, with_std=True),\n",
       " 'gdp_annual': StandardScaler(copy=True, with_mean=True, with_std=True),\n",
       " 'gdp_annual_growth': StandardScaler(copy=True, with_mean=True, with_std=True),\n",
       " 'gdp_deflator': StandardScaler(copy=True, with_mean=True, with_std=True),\n",
       " 'gdp_quart': StandardScaler(copy=True, with_mean=True, with_std=True),\n",
       " 'gdp_quart_growth': StandardScaler(copy=True, with_mean=True, with_std=True),\n",
       " 'green_part_1000': StandardScaler(copy=True, with_mean=True, with_std=True),\n",
       " 'green_part_1500': StandardScaler(copy=True, with_mean=True, with_std=True),\n",
       " 'green_zone_km': StandardScaler(copy=True, with_mean=True, with_std=True),\n",
       " 'grp': StandardScaler(copy=True, with_mean=True, with_std=True),\n",
       " 'grp_growth': StandardScaler(copy=True, with_mean=True, with_std=True),\n",
       " 'heating_share': StandardScaler(copy=True, with_mean=True, with_std=True),\n",
       " 'hospice_morgue_km': StandardScaler(copy=True, with_mean=True, with_std=True),\n",
       " 'hot_water_share': StandardScaler(copy=True, with_mean=True, with_std=True),\n",
       " 'housing_fund_sqm': StandardScaler(copy=True, with_mean=True, with_std=True),\n",
       " 'incidence_population': StandardScaler(copy=True, with_mean=True, with_std=True),\n",
       " 'incineration_km': StandardScaler(copy=True, with_mean=True, with_std=True),\n",
       " 'income_per_cap': StandardScaler(copy=True, with_mean=True, with_std=True),\n",
       " 'indust_part': StandardScaler(copy=True, with_mean=True, with_std=True),\n",
       " 'industrial_km': StandardScaler(copy=True, with_mean=True, with_std=True),\n",
       " 'kindergarten_km': StandardScaler(copy=True, with_mean=True, with_std=True),\n",
       " 'kitch_sq': StandardScaler(copy=True, with_mean=True, with_std=True),\n",
       " 'labor_force': StandardScaler(copy=True, with_mean=True, with_std=True),\n",
       " 'life_sq': StandardScaler(copy=True, with_mean=True, with_std=True),\n",
       " 'lodging_sqm_per_cap': StandardScaler(copy=True, with_mean=True, with_std=True),\n",
       " 'male_f': StandardScaler(copy=True, with_mean=True, with_std=True),\n",
       " 'marriages_per_1000_cap': StandardScaler(copy=True, with_mean=True, with_std=True),\n",
       " 'max_floor': StandardScaler(copy=True, with_mean=True, with_std=True),\n",
       " 'metro_km_avto': StandardScaler(copy=True, with_mean=True, with_std=True),\n",
       " 'metro_min_avto': StandardScaler(copy=True, with_mean=True, with_std=True),\n",
       " 'micex': StandardScaler(copy=True, with_mean=True, with_std=True),\n",
       " 'micex_cbi_tr': StandardScaler(copy=True, with_mean=True, with_std=True),\n",
       " 'mortality': StandardScaler(copy=True, with_mean=True, with_std=True),\n",
       " 'mortgage_growth': StandardScaler(copy=True, with_mean=True, with_std=True),\n",
       " 'mortgage_rate': StandardScaler(copy=True, with_mean=True, with_std=True),\n",
       " 'mortgage_value': StandardScaler(copy=True, with_mean=True, with_std=True),\n",
       " 'mosque_km': StandardScaler(copy=True, with_mean=True, with_std=True),\n",
       " 'nuclear_reactor_km': StandardScaler(copy=True, with_mean=True, with_std=True),\n",
       " 'num_room': StandardScaler(copy=True, with_mean=True, with_std=True),\n",
       " 'oil_chemistry_km': StandardScaler(copy=True, with_mean=True, with_std=True),\n",
       " 'oil_urals': StandardScaler(copy=True, with_mean=True, with_std=True),\n",
       " 'old_house_share': StandardScaler(copy=True, with_mean=True, with_std=True),\n",
       " 'park_km': StandardScaler(copy=True, with_mean=True, with_std=True),\n",
       " 'pop_migration': StandardScaler(copy=True, with_mean=True, with_std=True),\n",
       " 'pop_natural_increase': StandardScaler(copy=True, with_mean=True, with_std=True),\n",
       " 'pop_total_inc': StandardScaler(copy=True, with_mean=True, with_std=True),\n",
       " 'power_transmission_line_km': StandardScaler(copy=True, with_mean=True, with_std=True),\n",
       " 'ppi': StandardScaler(copy=True, with_mean=True, with_std=True),\n",
       " 'preschool_km': StandardScaler(copy=True, with_mean=True, with_std=True),\n",
       " 'public_healthcare_km': StandardScaler(copy=True, with_mean=True, with_std=True),\n",
       " 'public_transport_station_km': StandardScaler(copy=True, with_mean=True, with_std=True),\n",
       " 'railroad_km': StandardScaler(copy=True, with_mean=True, with_std=True),\n",
       " 'railroad_station_avto_min': StandardScaler(copy=True, with_mean=True, with_std=True),\n",
       " 'real_dispos_income_per_cap_growth': StandardScaler(copy=True, with_mean=True, with_std=True),\n",
       " 'rent_price_1room_bus': StandardScaler(copy=True, with_mean=True, with_std=True),\n",
       " 'rent_price_1room_eco': StandardScaler(copy=True, with_mean=True, with_std=True),\n",
       " 'rent_price_2room_bus': StandardScaler(copy=True, with_mean=True, with_std=True),\n",
       " 'rent_price_2room_eco': StandardScaler(copy=True, with_mean=True, with_std=True),\n",
       " 'rent_price_3room_bus': StandardScaler(copy=True, with_mean=True, with_std=True),\n",
       " 'rent_price_3room_eco': StandardScaler(copy=True, with_mean=True, with_std=True),\n",
       " 'rent_price_4+room_bus': StandardScaler(copy=True, with_mean=True, with_std=True),\n",
       " 'rts': StandardScaler(copy=True, with_mean=True, with_std=True),\n",
       " 'salary': StandardScaler(copy=True, with_mean=True, with_std=True),\n",
       " 'salary_growth': StandardScaler(copy=True, with_mean=True, with_std=True),\n",
       " 'school_km': StandardScaler(copy=True, with_mean=True, with_std=True),\n",
       " 'sewerage_share': StandardScaler(copy=True, with_mean=True, with_std=True),\n",
       " 'shopping_centers_km': StandardScaler(copy=True, with_mean=True, with_std=True),\n",
       " 'swim_pool_km': StandardScaler(copy=True, with_mean=True, with_std=True),\n",
       " 'timestamp_day': StandardScaler(copy=True, with_mean=True, with_std=True),\n",
       " 'timestamp_month': StandardScaler(copy=True, with_mean=True, with_std=True),\n",
       " 'timestamp_year': StandardScaler(copy=True, with_mean=True, with_std=True),\n",
       " 'ts_km': StandardScaler(copy=True, with_mean=True, with_std=True),\n",
       " 'ttk_km': StandardScaler(copy=True, with_mean=True, with_std=True),\n",
       " 'unemployment': StandardScaler(copy=True, with_mean=True, with_std=True),\n",
       " 'university_km': StandardScaler(copy=True, with_mean=True, with_std=True),\n",
       " 'usdrub': StandardScaler(copy=True, with_mean=True, with_std=True),\n",
       " 'water_km': StandardScaler(copy=True, with_mean=True, with_std=True),\n",
       " 'water_pipes_share': StandardScaler(copy=True, with_mean=True, with_std=True),\n",
       " 'water_treatment_km': StandardScaler(copy=True, with_mean=True, with_std=True),\n",
       " 'work_all': StandardScaler(copy=True, with_mean=True, with_std=True),\n",
       " 'work_female': StandardScaler(copy=True, with_mean=True, with_std=True),\n",
       " 'work_male': StandardScaler(copy=True, with_mean=True, with_std=True),\n",
       " 'young_all': StandardScaler(copy=True, with_mean=True, with_std=True),\n",
       " 'young_female': StandardScaler(copy=True, with_mean=True, with_std=True),\n",
       " 'young_male': StandardScaler(copy=True, with_mean=True, with_std=True),\n",
       " 'zd_vokzaly_avto_km': StandardScaler(copy=True, with_mean=True, with_std=True)}"
      ]
     },
     "execution_count": 22,
     "metadata": {},
     "output_type": "execute_result"
    }
   ],
   "source": [
    "norm_scalers"
   ]
  },
  {
   "cell_type": "code",
   "execution_count": 23,
   "metadata": {
    "collapsed": false,
    "deletable": true,
    "editable": true
   },
   "outputs": [
    {
     "data": {
      "text/plain": [
       "118"
      ]
     },
     "execution_count": 23,
     "metadata": {},
     "output_type": "execute_result"
    }
   ],
   "source": [
    "len(norm_scalers)"
   ]
  },
  {
   "cell_type": "code",
   "execution_count": 24,
   "metadata": {
    "collapsed": true,
    "deletable": true,
    "editable": true
   },
   "outputs": [],
   "source": [
    "ont_hot_scalers = {column : (preprocessing.LabelEncoder(), preprocessing.OneHotEncoder(sparse=False)) for column in one_hot_cols}"
   ]
  },
  {
   "cell_type": "code",
   "execution_count": 25,
   "metadata": {
    "collapsed": false,
    "deletable": true,
    "editable": true
   },
   "outputs": [
    {
     "data": {
      "text/plain": [
       "{'material': (LabelEncoder(),\n",
       "  OneHotEncoder(categorical_features='all', dtype=<type 'numpy.float64'>,\n",
       "         handle_unknown='error', n_values='auto', sparse=False)),\n",
       " 'state_refractored': (LabelEncoder(),\n",
       "  OneHotEncoder(categorical_features='all', dtype=<type 'numpy.float64'>,\n",
       "         handle_unknown='error', n_values='auto', sparse=False))}"
      ]
     },
     "execution_count": 25,
     "metadata": {},
     "output_type": "execute_result"
    }
   ],
   "source": [
    "ont_hot_scalers"
   ]
  },
  {
   "cell_type": "code",
   "execution_count": 26,
   "metadata": {
    "collapsed": true,
    "deletable": true,
    "editable": true
   },
   "outputs": [],
   "source": [
    "label_scalers = {column : preprocessing.LabelEncoder() for column in label_cols}"
   ]
  },
  {
   "cell_type": "code",
   "execution_count": 27,
   "metadata": {
    "collapsed": false,
    "deletable": true,
    "editable": true
   },
   "outputs": [
    {
     "data": {
      "text/plain": [
       "{'big_market_raion': LabelEncoder(),\n",
       " 'detention_facility_raion': LabelEncoder(),\n",
       " 'full_all': LabelEncoder(),\n",
       " 'healthcare_centers_raion': LabelEncoder(),\n",
       " 'nuclear_reactor_raion': LabelEncoder(),\n",
       " 'office_raion': LabelEncoder(),\n",
       " 'shopping_centers_raion': LabelEncoder(),\n",
       " 'sub_area': LabelEncoder(),\n",
       " 'thermal_power_plant_raion': LabelEncoder(),\n",
       " 'university_top_20_raion': LabelEncoder()}"
      ]
     },
     "execution_count": 27,
     "metadata": {},
     "output_type": "execute_result"
    }
   ],
   "source": [
    "label_scalers"
   ]
  },
  {
   "cell_type": "code",
   "execution_count": 28,
   "metadata": {
    "collapsed": false,
    "deletable": true,
    "editable": true
   },
   "outputs": [
    {
     "name": "stderr",
     "output_type": "stream",
     "text": [
      "/usr/local/lib/python2.7/dist-packages/sklearn/utils/validation.py:429: DataConversionWarning: Data with input dtype int64 was converted to float64 by StandardScaler.\n",
      "  warnings.warn(msg, _DataConversionWarning)\n"
     ]
    }
   ],
   "source": [
    "for column in normalize_columns:\n",
    "    c_scaler = norm_scalers[column]\n",
    "    try:\n",
    "        c_scaler.fit(final_train_df[[column]].values)\n",
    "    except:\n",
    "        print 'failed: ', column"
   ]
  },
  {
   "cell_type": "code",
   "execution_count": 29,
   "metadata": {
    "collapsed": false,
    "deletable": true,
    "editable": true
   },
   "outputs": [
    {
     "name": "stderr",
     "output_type": "stream",
     "text": [
      "/usr/local/lib/python2.7/dist-packages/sklearn/preprocessing/label.py:129: DataConversionWarning: A column-vector y was passed when a 1d array was expected. Please change the shape of y to (n_samples, ), for example using ravel().\n",
      "  y = column_or_1d(y, warn=True)\n"
     ]
    }
   ],
   "source": [
    "for column in one_hot_cols:\n",
    "    label_enc, one_hot_enc = ont_hot_scalers[column]\n",
    "    r = label_enc.fit_transform(final_train_df[[column]].values)\n",
    "    r = np.expand_dims(r, axis=1)\n",
    "    one_hot_enc.fit(r)"
   ]
  },
  {
   "cell_type": "code",
   "execution_count": 30,
   "metadata": {
    "collapsed": false,
    "deletable": true,
    "editable": true
   },
   "outputs": [
    {
     "name": "stderr",
     "output_type": "stream",
     "text": [
      "/usr/local/lib/python2.7/dist-packages/sklearn/preprocessing/label.py:112: DataConversionWarning: A column-vector y was passed when a 1d array was expected. Please change the shape of y to (n_samples, ), for example using ravel().\n",
      "  y = column_or_1d(y, warn=True)\n"
     ]
    }
   ],
   "source": [
    "for column in label_cols:\n",
    "    label_enc = label_scalers[column]\n",
    "    label_enc.fit(final_train_df[[column]].values)"
   ]
  },
  {
   "cell_type": "markdown",
   "metadata": {
    "deletable": true,
    "editable": true
   },
   "source": [
    "### Test the scalers..."
   ]
  },
  {
   "cell_type": "code",
   "execution_count": 31,
   "metadata": {
    "collapsed": false,
    "deletable": true,
    "editable": true
   },
   "outputs": [
    {
     "name": "stderr",
     "output_type": "stream",
     "text": [
      "/usr/local/lib/python2.7/dist-packages/sklearn/preprocessing/data.py:649: DeprecationWarning: Passing 1d arrays as data is deprecated in 0.17 and will raise ValueError in 0.19. Reshape your data either using X.reshape(-1, 1) if your data has a single feature or X.reshape(1, -1) if it contains a single sample.\n",
      "  warnings.warn(DEPRECATION_MSG_1D, DeprecationWarning)\n"
     ]
    },
    {
     "data": {
      "text/plain": [
       "array([ 0.40933319])"
      ]
     },
     "execution_count": 31,
     "metadata": {},
     "output_type": "execute_result"
    }
   ],
   "source": [
    "norm_scalers['timestamp_day'].transform([final_train_df.ix[0]['timestamp_day']])"
   ]
  },
  {
   "cell_type": "code",
   "execution_count": 32,
   "metadata": {
    "collapsed": false,
    "deletable": true,
    "editable": true
   },
   "outputs": [
    {
     "name": "stderr",
     "output_type": "stream",
     "text": [
      "/usr/local/lib/python2.7/dist-packages/sklearn/utils/validation.py:395: DeprecationWarning: Passing 1d arrays as data is deprecated in 0.17 and will raise ValueError in 0.19. Reshape your data either using X.reshape(-1, 1) if your data has a single feature or X.reshape(1, -1) if it contains a single sample.\n",
      "  DeprecationWarning)\n"
     ]
    },
    {
     "data": {
      "text/plain": [
       "array([[ 1.,  0.,  0.,  0.,  0.,  0.,  0.]])"
      ]
     },
     "execution_count": 32,
     "metadata": {},
     "output_type": "execute_result"
    }
   ],
   "source": [
    "ont_hot_scalers['material'][1].transform([final_train_df.ix[70]['material']])"
   ]
  },
  {
   "cell_type": "code",
   "execution_count": 33,
   "metadata": {
    "collapsed": false,
    "deletable": true,
    "editable": true
   },
   "outputs": [
    {
     "data": {
      "text/plain": [
       "array([9])"
      ]
     },
     "execution_count": 33,
     "metadata": {},
     "output_type": "execute_result"
    }
   ],
   "source": [
    "label_scalers['sub_area'].transform([final_train_df.ix[0]['sub_area']])"
   ]
  },
  {
   "cell_type": "code",
   "execution_count": 34,
   "metadata": {
    "collapsed": false,
    "deletable": true,
    "editable": true
   },
   "outputs": [],
   "source": [
    "sub_area_metadata = open('/mnt/h/Kaggle/Competitions/Russian Bank/models/metadata/sub_area_metadata.tsv', 'w+')\n",
    "sub_area_metadata.write(\"Sub area\\n\" + \"\\n\".join([label_scalers['sub_area'].inverse_transform([i])[0] for i in range(146)]))\n",
    "sub_area_metadata.close()"
   ]
  },
  {
   "cell_type": "markdown",
   "metadata": {
    "deletable": true,
    "editable": true
   },
   "source": [
    "### Save them to disk"
   ]
  },
  {
   "cell_type": "code",
   "execution_count": 35,
   "metadata": {
    "collapsed": true,
    "deletable": true,
    "editable": true
   },
   "outputs": [],
   "source": [
    "from sklearn.externals import joblib"
   ]
  },
  {
   "cell_type": "code",
   "execution_count": 36,
   "metadata": {
    "collapsed": false,
    "deletable": true,
    "editable": true
   },
   "outputs": [
    {
     "data": {
      "text/plain": [
       "['/mnt/h/Kaggle/Competitions/Russian Bank/code/data/norm_scalers.pkl']"
      ]
     },
     "execution_count": 36,
     "metadata": {},
     "output_type": "execute_result"
    }
   ],
   "source": [
    "joblib.dump(norm_scalers, '/mnt/h/Kaggle/Competitions/Russian Bank/code/data/norm_scalers.pkl') "
   ]
  },
  {
   "cell_type": "code",
   "execution_count": 37,
   "metadata": {
    "collapsed": false,
    "deletable": true,
    "editable": true
   },
   "outputs": [
    {
     "data": {
      "text/plain": [
       "['/mnt/h/Kaggle/Competitions/Russian Bank/code/data/one_hot_scalers.pkl']"
      ]
     },
     "execution_count": 37,
     "metadata": {},
     "output_type": "execute_result"
    }
   ],
   "source": [
    "joblib.dump(ont_hot_scalers, '/mnt/h/Kaggle/Competitions/Russian Bank/code/data/one_hot_scalers.pkl') "
   ]
  },
  {
   "cell_type": "code",
   "execution_count": 38,
   "metadata": {
    "collapsed": false,
    "deletable": true,
    "editable": true
   },
   "outputs": [
    {
     "data": {
      "text/plain": [
       "['/mnt/h/Kaggle/Competitions/Russian Bank/code/data/label_scalers.pkl']"
      ]
     },
     "execution_count": 38,
     "metadata": {},
     "output_type": "execute_result"
    }
   ],
   "source": [
    "joblib.dump(label_scalers, '/mnt/h/Kaggle/Competitions/Russian Bank/code/data/label_scalers.pkl') "
   ]
  },
  {
   "cell_type": "markdown",
   "metadata": {
    "collapsed": true,
    "deletable": true,
    "editable": true
   },
   "source": [
    "### Transform the whole training data"
   ]
  },
  {
   "cell_type": "code",
   "execution_count": 39,
   "metadata": {
    "collapsed": false,
    "deletable": true,
    "editable": true
   },
   "outputs": [],
   "source": [
    "for continuous_norm_col in normalize_columns:\n",
    "    scaler = norm_scalers[continuous_norm_col]\n",
    "    scaled_values = scaler.transform(final_train_df[[continuous_norm_col]].values)\n",
    "    final_train_df[continuous_norm_col + \"_scaled_feature\"] = scaled_values"
   ]
  },
  {
   "cell_type": "code",
   "execution_count": 40,
   "metadata": {
    "collapsed": false,
    "deletable": true,
    "editable": true
   },
   "outputs": [
    {
     "name": "stderr",
     "output_type": "stream",
     "text": [
      "/usr/local/lib/python2.7/dist-packages/sklearn/preprocessing/label.py:147: DataConversionWarning: A column-vector y was passed when a 1d array was expected. Please change the shape of y to (n_samples, ), for example using ravel().\n",
      "  y = column_or_1d(y, warn=True)\n"
     ]
    }
   ],
   "source": [
    "for one_hot_col in one_hot_cols:\n",
    "    l_scaler = ont_hot_scalers[one_hot_col][0]\n",
    "    scaler = ont_hot_scalers[one_hot_col][1]\n",
    "    r = l_scaler.transform(final_train_df[[one_hot_col]].values)\n",
    "    r = np.expand_dims(r, axis=1)\n",
    "    scaled_values = scaler.transform(r)\n",
    "    final_train_df[one_hot_col + \"_scaled_feature\"] = list(scaled_values)"
   ]
  },
  {
   "cell_type": "code",
   "execution_count": 41,
   "metadata": {
    "collapsed": true,
    "deletable": true,
    "editable": true
   },
   "outputs": [],
   "source": [
    "for label_col in label_cols:\n",
    "    label_enc = label_scalers[label_col]\n",
    "    encoded_values = label_enc.transform(final_train_df[[label_col]].values)\n",
    "    final_train_df[label_col + \"_scaled_feature\"] = encoded_values"
   ]
  },
  {
   "cell_type": "code",
   "execution_count": 42,
   "metadata": {
    "collapsed": true,
    "deletable": true,
    "editable": true
   },
   "outputs": [],
   "source": [
    "def extract_normalized_feature(df, feature_name):\n",
    "    return np.array(df[feature_name + \"_scaled_feature\"].values.tolist())"
   ]
  },
  {
   "cell_type": "code",
   "execution_count": 43,
   "metadata": {
    "collapsed": false,
    "deletable": true,
    "editable": true
   },
   "outputs": [
    {
     "data": {
      "text/plain": [
       "array([-0.29487286, -0.53152276, -0.29487286, ..., -0.24228399,\n",
       "        0.25731024, -0.29487286])"
      ]
     },
     "execution_count": 43,
     "metadata": {},
     "output_type": "execute_result"
    }
   ],
   "source": [
    "extract_normalized_feature(final_train_df, \"full_sq\")"
   ]
  },
  {
   "cell_type": "code",
   "execution_count": 44,
   "metadata": {
    "collapsed": false,
    "deletable": true,
    "editable": true
   },
   "outputs": [
    {
     "data": {
      "text/plain": [
       "array([-0.00404841, -0.16882931,  0.03714682, ..., -0.56018395,\n",
       "        0.09893965,  0.0165492 ])"
      ]
     },
     "execution_count": 44,
     "metadata": {},
     "output_type": "execute_result"
    }
   ],
   "source": [
    "extract_normalized_feature(final_train_df, \"life_sq\")"
   ]
  },
  {
   "cell_type": "code",
   "execution_count": 45,
   "metadata": {
    "collapsed": false,
    "deletable": true,
    "editable": true
   },
   "outputs": [
    {
     "data": {
      "text/plain": [
       "array([  9,  70, 129, ..., 103,  77,  75])"
      ]
     },
     "execution_count": 45,
     "metadata": {},
     "output_type": "execute_result"
    }
   ],
   "source": [
    "extract_normalized_feature(final_train_df, \"sub_area\")"
   ]
  },
  {
   "cell_type": "code",
   "execution_count": 46,
   "metadata": {
    "collapsed": false,
    "deletable": true,
    "editable": true
   },
   "outputs": [
    {
     "data": {
      "text/plain": [
       "('metro_min_avto',\n",
       " array([-0.36180133, -0.61411914, -0.43340412, ..., -0.42855279,\n",
       "        -0.24162376, -0.66784139]))"
      ]
     },
     "execution_count": 46,
     "metadata": {},
     "output_type": "execute_result"
    }
   ],
   "source": [
    "locality_columns[0], extract_normalized_feature(final_train_df, locality_columns[0])"
   ]
  },
  {
   "cell_type": "code",
   "execution_count": 47,
   "metadata": {
    "collapsed": false,
    "deletable": true,
    "editable": true
   },
   "outputs": [
    {
     "data": {
      "text/plain": [
       "array([  9,  70, 129, ..., 103,  77,  75])"
      ]
     },
     "execution_count": 47,
     "metadata": {},
     "output_type": "execute_result"
    }
   ],
   "source": [
    "extract_normalized_feature(final_train_df, \"sub_area\")"
   ]
  },
  {
   "cell_type": "code",
   "execution_count": 48,
   "metadata": {
    "collapsed": true,
    "deletable": true,
    "editable": true
   },
   "outputs": [],
   "source": [
    "def extract_temporal_features(df):\n",
    "    global time_columns\n",
    "    vals = []\n",
    "    for c in time_columns:\n",
    "        vals.append(extract_normalized_feature(df, c).reshape(-1, 1))\n",
    "    return np.hstack(tuple(vals))"
   ]
  },
  {
   "cell_type": "code",
   "execution_count": 49,
   "metadata": {
    "collapsed": true,
    "deletable": true,
    "editable": true
   },
   "outputs": [],
   "source": [
    "def extract_property_place_features(df):\n",
    "    global property_columns\n",
    "    vals = []\n",
    "    for c in property_columns:\n",
    "        vals.append(extract_normalized_feature(df, c).reshape(-1, 1))\n",
    "    return np.hstack(tuple(vals))"
   ]
  },
  {
   "cell_type": "code",
   "execution_count": 50,
   "metadata": {
    "collapsed": true,
    "deletable": true,
    "editable": true
   },
   "outputs": [],
   "source": [
    "def extract_economy_features(df):\n",
    "    global economy_columns\n",
    "    vals = []\n",
    "    for c in economy_columns:\n",
    "        vals.append(extract_normalized_feature(df, c).reshape(-1, 1))\n",
    "    return np.hstack(tuple(vals))"
   ]
  },
  {
   "cell_type": "code",
   "execution_count": 51,
   "metadata": {
    "collapsed": true,
    "deletable": true,
    "editable": true
   },
   "outputs": [],
   "source": [
    "def extract_population_features(df):\n",
    "    global population_columns\n",
    "    vals = []\n",
    "    for c in population_columns:\n",
    "        vals.append(extract_normalized_feature(df, c).reshape(-1, 1))\n",
    "    return np.hstack(tuple(vals))"
   ]
  },
  {
   "cell_type": "code",
   "execution_count": 52,
   "metadata": {
    "collapsed": true,
    "deletable": true,
    "editable": true
   },
   "outputs": [],
   "source": [
    "def extract_locality_features(df):\n",
    "    global locality_columns\n",
    "    vals = []\n",
    "    for c in locality_columns:\n",
    "        vals.append(extract_normalized_feature(df, c).reshape(-1, 1))\n",
    "    return np.hstack(tuple(vals))"
   ]
  },
  {
   "cell_type": "code",
   "execution_count": 53,
   "metadata": {
    "collapsed": true,
    "deletable": true,
    "editable": true
   },
   "outputs": [],
   "source": [
    "def extract_categorical_features(df):\n",
    "    global one_hot_cols, label_cols\n",
    "    vals = {}\n",
    "    for c in one_hot_cols + label_cols:\n",
    "        vals[c]  = extract_normalized_feature(df, c)\n",
    "    return vals"
   ]
  },
  {
   "cell_type": "code",
   "execution_count": 54,
   "metadata": {
    "collapsed": false,
    "deletable": true,
    "editable": true
   },
   "outputs": [],
   "source": [
    "#extract_continuous_features(final_train_df).shape # 51 + 3 (one hot columns) + 1 (label) = 55 (total dataframe columns excluding id)..."
   ]
  },
  {
   "cell_type": "code",
   "execution_count": 55,
   "metadata": {
    "collapsed": false,
    "deletable": true,
    "editable": true
   },
   "outputs": [
    {
     "data": {
      "text/plain": [
       "(30471, 46)"
      ]
     },
     "execution_count": 55,
     "metadata": {},
     "output_type": "execute_result"
    }
   ],
   "source": [
    "extract_locality_features(final_train_df).shape"
   ]
  },
  {
   "cell_type": "code",
   "execution_count": 56,
   "metadata": {
    "collapsed": false,
    "deletable": true,
    "editable": true
   },
   "outputs": [
    {
     "data": {
      "text/plain": [
       "{'big_market_raion': array([0, 0, 0, ..., 0, 0, 0]),\n",
       " 'detention_facility_raion': array([0, 0, 0, ..., 0, 0, 0]),\n",
       " 'full_all': array([78, 59, 89, ..., 18, 73, 54]),\n",
       " 'healthcare_centers_raion': array([1, 1, 1, ..., 0, 2, 2]),\n",
       " 'material': array([[ 1.,  0.,  0., ...,  0.,  0.,  0.],\n",
       "        [ 1.,  0.,  0., ...,  0.,  0.,  0.],\n",
       "        [ 1.,  0.,  0., ...,  0.,  0.,  0.],\n",
       "        ..., \n",
       "        [ 0.,  1.,  0., ...,  0.,  0.,  0.],\n",
       "        [ 0.,  1.,  0., ...,  0.,  0.,  0.],\n",
       "        [ 0.,  1.,  0., ...,  0.,  0.,  0.]]),\n",
       " 'nuclear_reactor_raion': array([0, 0, 0, ..., 0, 0, 0]),\n",
       " 'office_raion': array([1, 0, 1, ..., 0, 5, 1]),\n",
       " 'shopping_centers_raion': array([13,  3,  0, ...,  1,  4,  5]),\n",
       " 'state_refractored': array([[ 1.,  0.,  0.,  0.,  0.,  0.],\n",
       "        [ 1.,  0.,  0.,  0.,  0.,  0.],\n",
       "        [ 1.,  0.,  0.,  0.,  0.,  0.],\n",
       "        ..., \n",
       "        [ 0.,  1.,  0.,  0.,  0.,  0.],\n",
       "        [ 0.,  0.,  1.,  0.,  0.,  0.],\n",
       "        [ 0.,  0.,  1.,  0.,  0.,  0.]]),\n",
       " 'sub_area': array([  9,  70, 129, ..., 103,  77,  75]),\n",
       " 'thermal_power_plant_raion': array([0, 0, 0, ..., 0, 0, 0]),\n",
       " 'university_top_20_raion': array([0, 0, 0, ..., 0, 1, 0])}"
      ]
     },
     "execution_count": 56,
     "metadata": {},
     "output_type": "execute_result"
    }
   ],
   "source": [
    "extract_categorical_features(final_train_df)"
   ]
  },
  {
   "cell_type": "markdown",
   "metadata": {
    "deletable": true,
    "editable": true
   },
   "source": [
    "### Generate LSTM timestep input data"
   ]
  },
  {
   "cell_type": "code",
   "execution_count": 57,
   "metadata": {
    "collapsed": true,
    "deletable": true,
    "editable": true
   },
   "outputs": [],
   "source": [
    "timesteps = 3"
   ]
  },
  {
   "cell_type": "code",
   "execution_count": 58,
   "metadata": {
    "collapsed": false,
    "deletable": true,
    "editable": true
   },
   "outputs": [],
   "source": [
    "final_train_df['timestamp_converted'] = pd.to_datetime(final_train_df['timestamp_converted'])"
   ]
  },
  {
   "cell_type": "code",
   "execution_count": 59,
   "metadata": {
    "collapsed": false,
    "deletable": true,
    "editable": true
   },
   "outputs": [
    {
     "name": "stderr",
     "output_type": "stream",
     "text": [
      "/usr/local/lib/python2.7/dist-packages/ipykernel/__main__.py:1: FutureWarning: sort(columns=....) is deprecated, use sort_values(by=.....)\n",
      "  if __name__ == '__main__':\n"
     ]
    },
    {
     "data": {
      "text/html": [
       "<div>\n",
       "<table border=\"1\" class=\"dataframe\">\n",
       "  <thead>\n",
       "    <tr style=\"text-align: right;\">\n",
       "      <th></th>\n",
       "      <th>timestamp_converted</th>\n",
       "      <th>price_doc</th>\n",
       "    </tr>\n",
       "  </thead>\n",
       "  <tbody>\n",
       "    <tr>\n",
       "      <th>0</th>\n",
       "      <td>2011-08-20</td>\n",
       "      <td>5850000</td>\n",
       "    </tr>\n",
       "    <tr>\n",
       "      <th>1</th>\n",
       "      <td>2011-08-23</td>\n",
       "      <td>6000000</td>\n",
       "    </tr>\n",
       "    <tr>\n",
       "      <th>2</th>\n",
       "      <td>2011-08-27</td>\n",
       "      <td>5700000</td>\n",
       "    </tr>\n",
       "    <tr>\n",
       "      <th>3</th>\n",
       "      <td>2011-09-01</td>\n",
       "      <td>13100000</td>\n",
       "    </tr>\n",
       "    <tr>\n",
       "      <th>4</th>\n",
       "      <td>2011-09-05</td>\n",
       "      <td>16331452</td>\n",
       "    </tr>\n",
       "    <tr>\n",
       "      <th>5</th>\n",
       "      <td>2011-09-06</td>\n",
       "      <td>9100000</td>\n",
       "    </tr>\n",
       "    <tr>\n",
       "      <th>6</th>\n",
       "      <td>2011-09-08</td>\n",
       "      <td>5500000</td>\n",
       "    </tr>\n",
       "    <tr>\n",
       "      <th>7</th>\n",
       "      <td>2011-09-09</td>\n",
       "      <td>2000000</td>\n",
       "    </tr>\n",
       "    <tr>\n",
       "      <th>8</th>\n",
       "      <td>2011-09-10</td>\n",
       "      <td>5300000</td>\n",
       "    </tr>\n",
       "    <tr>\n",
       "      <th>9</th>\n",
       "      <td>2011-09-13</td>\n",
       "      <td>2000000</td>\n",
       "    </tr>\n",
       "    <tr>\n",
       "      <th>10</th>\n",
       "      <td>2011-09-16</td>\n",
       "      <td>4650000</td>\n",
       "    </tr>\n",
       "    <tr>\n",
       "      <th>11</th>\n",
       "      <td>2011-09-16</td>\n",
       "      <td>4800000</td>\n",
       "    </tr>\n",
       "    <tr>\n",
       "      <th>12</th>\n",
       "      <td>2011-09-17</td>\n",
       "      <td>5100000</td>\n",
       "    </tr>\n",
       "    <tr>\n",
       "      <th>14</th>\n",
       "      <td>2011-09-19</td>\n",
       "      <td>5000000</td>\n",
       "    </tr>\n",
       "    <tr>\n",
       "      <th>13</th>\n",
       "      <td>2011-09-19</td>\n",
       "      <td>5200000</td>\n",
       "    </tr>\n",
       "    <tr>\n",
       "      <th>15</th>\n",
       "      <td>2011-09-20</td>\n",
       "      <td>1850000</td>\n",
       "    </tr>\n",
       "    <tr>\n",
       "      <th>16</th>\n",
       "      <td>2011-09-20</td>\n",
       "      <td>6300000</td>\n",
       "    </tr>\n",
       "    <tr>\n",
       "      <th>17</th>\n",
       "      <td>2011-09-20</td>\n",
       "      <td>5900000</td>\n",
       "    </tr>\n",
       "    <tr>\n",
       "      <th>18</th>\n",
       "      <td>2011-09-22</td>\n",
       "      <td>7900000</td>\n",
       "    </tr>\n",
       "    <tr>\n",
       "      <th>19</th>\n",
       "      <td>2011-09-22</td>\n",
       "      <td>5200000</td>\n",
       "    </tr>\n",
       "    <tr>\n",
       "      <th>20</th>\n",
       "      <td>2011-09-22</td>\n",
       "      <td>8200000</td>\n",
       "    </tr>\n",
       "    <tr>\n",
       "      <th>21</th>\n",
       "      <td>2011-09-22</td>\n",
       "      <td>5200000</td>\n",
       "    </tr>\n",
       "    <tr>\n",
       "      <th>22</th>\n",
       "      <td>2011-09-23</td>\n",
       "      <td>6250000</td>\n",
       "    </tr>\n",
       "    <tr>\n",
       "      <th>23</th>\n",
       "      <td>2011-09-23</td>\n",
       "      <td>5750000</td>\n",
       "    </tr>\n",
       "    <tr>\n",
       "      <th>24</th>\n",
       "      <td>2011-09-23</td>\n",
       "      <td>6000000</td>\n",
       "    </tr>\n",
       "    <tr>\n",
       "      <th>25</th>\n",
       "      <td>2011-09-24</td>\n",
       "      <td>1050000</td>\n",
       "    </tr>\n",
       "    <tr>\n",
       "      <th>28</th>\n",
       "      <td>2011-09-26</td>\n",
       "      <td>8254400</td>\n",
       "    </tr>\n",
       "    <tr>\n",
       "      <th>26</th>\n",
       "      <td>2011-09-26</td>\n",
       "      <td>5000000</td>\n",
       "    </tr>\n",
       "    <tr>\n",
       "      <th>27</th>\n",
       "      <td>2011-09-26</td>\n",
       "      <td>4700000</td>\n",
       "    </tr>\n",
       "    <tr>\n",
       "      <th>31</th>\n",
       "      <td>2011-09-27</td>\n",
       "      <td>18300000</td>\n",
       "    </tr>\n",
       "    <tr>\n",
       "      <th>...</th>\n",
       "      <td>...</td>\n",
       "      <td>...</td>\n",
       "    </tr>\n",
       "    <tr>\n",
       "      <th>30447</th>\n",
       "      <td>2015-06-27</td>\n",
       "      <td>6373324</td>\n",
       "    </tr>\n",
       "    <tr>\n",
       "      <th>30446</th>\n",
       "      <td>2015-06-27</td>\n",
       "      <td>6125400</td>\n",
       "    </tr>\n",
       "    <tr>\n",
       "      <th>30445</th>\n",
       "      <td>2015-06-27</td>\n",
       "      <td>10139368</td>\n",
       "    </tr>\n",
       "    <tr>\n",
       "      <th>30444</th>\n",
       "      <td>2015-06-27</td>\n",
       "      <td>11438948</td>\n",
       "    </tr>\n",
       "    <tr>\n",
       "      <th>30442</th>\n",
       "      <td>2015-06-27</td>\n",
       "      <td>4350000</td>\n",
       "    </tr>\n",
       "    <tr>\n",
       "      <th>30441</th>\n",
       "      <td>2015-06-27</td>\n",
       "      <td>25039300</td>\n",
       "    </tr>\n",
       "    <tr>\n",
       "      <th>30440</th>\n",
       "      <td>2015-06-27</td>\n",
       "      <td>10000000</td>\n",
       "    </tr>\n",
       "    <tr>\n",
       "      <th>30439</th>\n",
       "      <td>2015-06-27</td>\n",
       "      <td>8535937</td>\n",
       "    </tr>\n",
       "    <tr>\n",
       "      <th>30443</th>\n",
       "      <td>2015-06-27</td>\n",
       "      <td>7567425</td>\n",
       "    </tr>\n",
       "    <tr>\n",
       "      <th>30460</th>\n",
       "      <td>2015-06-29</td>\n",
       "      <td>9500000</td>\n",
       "    </tr>\n",
       "    <tr>\n",
       "      <th>30459</th>\n",
       "      <td>2015-06-29</td>\n",
       "      <td>5778893</td>\n",
       "    </tr>\n",
       "    <tr>\n",
       "      <th>30458</th>\n",
       "      <td>2015-06-29</td>\n",
       "      <td>6370777</td>\n",
       "    </tr>\n",
       "    <tr>\n",
       "      <th>30456</th>\n",
       "      <td>2015-06-29</td>\n",
       "      <td>1000000</td>\n",
       "    </tr>\n",
       "    <tr>\n",
       "      <th>30455</th>\n",
       "      <td>2015-06-29</td>\n",
       "      <td>9014972</td>\n",
       "    </tr>\n",
       "    <tr>\n",
       "      <th>30457</th>\n",
       "      <td>2015-06-29</td>\n",
       "      <td>7800000</td>\n",
       "    </tr>\n",
       "    <tr>\n",
       "      <th>30453</th>\n",
       "      <td>2015-06-29</td>\n",
       "      <td>4066740</td>\n",
       "    </tr>\n",
       "    <tr>\n",
       "      <th>30452</th>\n",
       "      <td>2015-06-29</td>\n",
       "      <td>6800000</td>\n",
       "    </tr>\n",
       "    <tr>\n",
       "      <th>30451</th>\n",
       "      <td>2015-06-29</td>\n",
       "      <td>2394300</td>\n",
       "    </tr>\n",
       "    <tr>\n",
       "      <th>30450</th>\n",
       "      <td>2015-06-29</td>\n",
       "      <td>12610000</td>\n",
       "    </tr>\n",
       "    <tr>\n",
       "      <th>30454</th>\n",
       "      <td>2015-06-29</td>\n",
       "      <td>6300000</td>\n",
       "    </tr>\n",
       "    <tr>\n",
       "      <th>30469</th>\n",
       "      <td>2015-06-30</td>\n",
       "      <td>13500000</td>\n",
       "    </tr>\n",
       "    <tr>\n",
       "      <th>30461</th>\n",
       "      <td>2015-06-30</td>\n",
       "      <td>5000000</td>\n",
       "    </tr>\n",
       "    <tr>\n",
       "      <th>30462</th>\n",
       "      <td>2015-06-30</td>\n",
       "      <td>10544070</td>\n",
       "    </tr>\n",
       "    <tr>\n",
       "      <th>30463</th>\n",
       "      <td>2015-06-30</td>\n",
       "      <td>12000000</td>\n",
       "    </tr>\n",
       "    <tr>\n",
       "      <th>30464</th>\n",
       "      <td>2015-06-30</td>\n",
       "      <td>10262010</td>\n",
       "    </tr>\n",
       "    <tr>\n",
       "      <th>30465</th>\n",
       "      <td>2015-06-30</td>\n",
       "      <td>6750554</td>\n",
       "    </tr>\n",
       "    <tr>\n",
       "      <th>30466</th>\n",
       "      <td>2015-06-30</td>\n",
       "      <td>7400000</td>\n",
       "    </tr>\n",
       "    <tr>\n",
       "      <th>30467</th>\n",
       "      <td>2015-06-30</td>\n",
       "      <td>25000000</td>\n",
       "    </tr>\n",
       "    <tr>\n",
       "      <th>30468</th>\n",
       "      <td>2015-06-30</td>\n",
       "      <td>6970959</td>\n",
       "    </tr>\n",
       "    <tr>\n",
       "      <th>30470</th>\n",
       "      <td>2015-06-30</td>\n",
       "      <td>5600000</td>\n",
       "    </tr>\n",
       "  </tbody>\n",
       "</table>\n",
       "<p>30471 rows × 2 columns</p>\n",
       "</div>"
      ],
      "text/plain": [
       "      timestamp_converted  price_doc\n",
       "0              2011-08-20    5850000\n",
       "1              2011-08-23    6000000\n",
       "2              2011-08-27    5700000\n",
       "3              2011-09-01   13100000\n",
       "4              2011-09-05   16331452\n",
       "5              2011-09-06    9100000\n",
       "6              2011-09-08    5500000\n",
       "7              2011-09-09    2000000\n",
       "8              2011-09-10    5300000\n",
       "9              2011-09-13    2000000\n",
       "10             2011-09-16    4650000\n",
       "11             2011-09-16    4800000\n",
       "12             2011-09-17    5100000\n",
       "14             2011-09-19    5000000\n",
       "13             2011-09-19    5200000\n",
       "15             2011-09-20    1850000\n",
       "16             2011-09-20    6300000\n",
       "17             2011-09-20    5900000\n",
       "18             2011-09-22    7900000\n",
       "19             2011-09-22    5200000\n",
       "20             2011-09-22    8200000\n",
       "21             2011-09-22    5200000\n",
       "22             2011-09-23    6250000\n",
       "23             2011-09-23    5750000\n",
       "24             2011-09-23    6000000\n",
       "25             2011-09-24    1050000\n",
       "28             2011-09-26    8254400\n",
       "26             2011-09-26    5000000\n",
       "27             2011-09-26    4700000\n",
       "31             2011-09-27   18300000\n",
       "...                   ...        ...\n",
       "30447          2015-06-27    6373324\n",
       "30446          2015-06-27    6125400\n",
       "30445          2015-06-27   10139368\n",
       "30444          2015-06-27   11438948\n",
       "30442          2015-06-27    4350000\n",
       "30441          2015-06-27   25039300\n",
       "30440          2015-06-27   10000000\n",
       "30439          2015-06-27    8535937\n",
       "30443          2015-06-27    7567425\n",
       "30460          2015-06-29    9500000\n",
       "30459          2015-06-29    5778893\n",
       "30458          2015-06-29    6370777\n",
       "30456          2015-06-29    1000000\n",
       "30455          2015-06-29    9014972\n",
       "30457          2015-06-29    7800000\n",
       "30453          2015-06-29    4066740\n",
       "30452          2015-06-29    6800000\n",
       "30451          2015-06-29    2394300\n",
       "30450          2015-06-29   12610000\n",
       "30454          2015-06-29    6300000\n",
       "30469          2015-06-30   13500000\n",
       "30461          2015-06-30    5000000\n",
       "30462          2015-06-30   10544070\n",
       "30463          2015-06-30   12000000\n",
       "30464          2015-06-30   10262010\n",
       "30465          2015-06-30    6750554\n",
       "30466          2015-06-30    7400000\n",
       "30467          2015-06-30   25000000\n",
       "30468          2015-06-30    6970959\n",
       "30470          2015-06-30    5600000\n",
       "\n",
       "[30471 rows x 2 columns]"
      ]
     },
     "execution_count": 59,
     "metadata": {},
     "output_type": "execute_result"
    }
   ],
   "source": [
    "final_train_df.sort('timestamp_converted')[['timestamp_converted', 'price_doc']]"
   ]
  },
  {
   "cell_type": "code",
   "execution_count": null,
   "metadata": {
    "collapsed": true,
    "deletable": true,
    "editable": true
   },
   "outputs": [],
   "source": []
  },
  {
   "cell_type": "code",
   "execution_count": null,
   "metadata": {
    "collapsed": true,
    "deletable": true,
    "editable": true
   },
   "outputs": [],
   "source": []
  },
  {
   "cell_type": "code",
   "execution_count": null,
   "metadata": {
    "collapsed": true,
    "deletable": true,
    "editable": true
   },
   "outputs": [],
   "source": []
  },
  {
   "cell_type": "code",
   "execution_count": 206,
   "metadata": {
    "collapsed": true,
    "deletable": true,
    "editable": true
   },
   "outputs": [],
   "source": [
    "def train_validate_test_split(df, train_percent=.6, validate_percent=.2):\n",
    "    perm = np.random.permutation(df.index)\n",
    "    m = len(df)\n",
    "    train_end = int(train_percent * m)\n",
    "    validate_end = int(validate_percent * m) + train_end\n",
    "    train = df.ix[perm[:train_end]]\n",
    "    validate = df.ix[perm[train_end:validate_end]]\n",
    "    test = df.ix[perm[validate_end:]]\n",
    "    return train, validate, test"
   ]
  },
  {
   "cell_type": "code",
   "execution_count": 207,
   "metadata": {
    "collapsed": true,
    "deletable": true,
    "editable": true
   },
   "outputs": [],
   "source": [
    "train_split_df, test_split_df = train_test_split(final_train_df, test_size = 0.1)"
   ]
  },
  {
   "cell_type": "code",
   "execution_count": 208,
   "metadata": {
    "collapsed": true,
    "deletable": true,
    "editable": true
   },
   "outputs": [],
   "source": [
    "train_split_df_temporal_features = extract_temporal_features(train_split_df)\n",
    "test_split_df_temporal_features = extract_temporal_features(test_split_df)"
   ]
  },
  {
   "cell_type": "code",
   "execution_count": 209,
   "metadata": {
    "collapsed": false,
    "deletable": true,
    "editable": true
   },
   "outputs": [],
   "source": [
    "train_split_df_property_features = extract_property_place_features(train_split_df)\n",
    "test_split_df_property_features = extract_property_place_features(test_split_df)"
   ]
  },
  {
   "cell_type": "code",
   "execution_count": 210,
   "metadata": {
    "collapsed": false,
    "deletable": true,
    "editable": true
   },
   "outputs": [],
   "source": [
    "train_split_df_locality_features = extract_locality_features(train_split_df)\n",
    "test_split_df_locality_features = extract_locality_features(test_split_df)"
   ]
  },
  {
   "cell_type": "code",
   "execution_count": 211,
   "metadata": {
    "collapsed": true,
    "deletable": true,
    "editable": true
   },
   "outputs": [],
   "source": [
    "train_split_df_economy_features = extract_economy_features(train_split_df)\n",
    "test_split_df_economy_features = extract_economy_features(test_split_df)"
   ]
  },
  {
   "cell_type": "code",
   "execution_count": 212,
   "metadata": {
    "collapsed": true,
    "deletable": true,
    "editable": true
   },
   "outputs": [],
   "source": [
    "train_split_df_population_features = extract_population_features(train_split_df)\n",
    "test_split_df_population_features = extract_population_features(test_split_df)"
   ]
  },
  {
   "cell_type": "code",
   "execution_count": 213,
   "metadata": {
    "collapsed": false,
    "deletable": true,
    "editable": true
   },
   "outputs": [],
   "source": [
    "train_split_df_categorical_features = extract_categorical_features(train_split_df)\n",
    "test_split_df_categorical_features = extract_categorical_features(test_split_df)"
   ]
  },
  {
   "cell_type": "code",
   "execution_count": 214,
   "metadata": {
    "collapsed": true,
    "deletable": true,
    "editable": true
   },
   "outputs": [],
   "source": [
    "def format_input(df):\n",
    "    temporal_features = extract_temporal_features(df)\n",
    "    property_features = extract_property_place_features(df)\n",
    "    locality_features = extract_locality_features(df)\n",
    "    economy_features = extract_economy_features(df)\n",
    "    population_features = extract_population_features(df)\n",
    "    categorical_features = extract_categorical_features(df)\n",
    "    return temporal_features, property_features, locality_features, economy_features, population_features, categorical_features"
   ]
  },
  {
   "cell_type": "markdown",
   "metadata": {
    "deletable": true,
    "editable": true
   },
   "source": [
    "## Model"
   ]
  },
  {
   "cell_type": "code",
   "execution_count": 230,
   "metadata": {
    "collapsed": false,
    "deletable": true,
    "editable": true
   },
   "outputs": [],
   "source": [
    "\"\"\"\n",
    "The main model, version: 1.5.2\n",
    "\"\"\" \n",
    "def main_model_v1_52(cat_num_classes={}, output_activation='relu'):\n",
    "    \n",
    "    with tf.name_scope(\"house_price_model\"):\n",
    "    \n",
    "        # Constants\n",
    "        num_locality_features = len(locality_columns)\n",
    "        num_economy_features = len(economy_columns)\n",
    "        num_population_features = len(population_columns)\n",
    "        num_property_features = len(property_columns)\n",
    "        num_temporal_features = len(time_columns)\n",
    "        num_material_classes = cat_num_classes[\"material\"]\n",
    "        num_state_classes = cat_num_classes['state']\n",
    "        \n",
    "        # Inputs\n",
    "        with tf.name_scope(\"inputs\"):\n",
    "            ## Continuous\n",
    "            time_input = Input(shape=(num_temporal_features,), name=\"temporal_input\")\n",
    "            property_input = Input(shape=(num_property_features,), name='property_input')\n",
    "            locality_input = Input(shape=(num_locality_features,), name='locality_input')\n",
    "            economy_input = Input(shape=(num_economy_features,), name=\"economy_input\")\n",
    "            population_input = Input(shape=(num_population_features,), name=\"population_input\")\n",
    "            ## Categorical (one-hot encoding; not using embeddings cuz number of classes is very small, but maybe should try later???)\n",
    "            material_input = Input(shape=(num_material_classes,), name='material_input')\n",
    "            state_input = Input(shape=(num_state_classes,), name='state_input')\n",
    "            ## Categorical (labelled)\n",
    "            sub_area_input = Input(shape=(1,), dtype='int32', name='sub_area_input')\n",
    "            sub_area_vocab_size = 200 # It's actually 146, but rounding it to 200\n",
    "            sub_area_embedding_dim = 8\n",
    "            \n",
    "        with tf.name_scope(\"sub_area_embedding\"):\n",
    "            # Network\n",
    "            ## Embedding\n",
    "            sub_area_vector = Embedding(output_dim=sub_area_embedding_dim, input_dim=sub_area_vocab_size, input_length=1, name=\"sub_area_embedding\")(sub_area_input)\n",
    "            sub_area_vector = TimeDistributed(Dense(64, activation='relu'))(sub_area_vector)\n",
    "            sub_area_vector = Reshape((64,))(sub_area_vector)\n",
    "            \n",
    "        with tf.name_scope(\"temporal_network\"):\n",
    "            temporal_model = Sequential()\n",
    "            temporal_model.add(Dense(64, activation='relu', input_dim=num_temporal_features))\n",
    "            temporal_model.add(GaussianNoise(0.01))\n",
    "            time_vector = temporal_model(time_input)\n",
    "           # time_output = Dense(1, activation='relu', name=\"time_output\")(time_vector)\n",
    "            \n",
    "        with tf.name_scope(\"property_network\"):\n",
    "            ## Map continuous input features into network\n",
    "            property_model = Sequential()\n",
    "            property_model.add(Dense(64, activation='relu', input_dim=num_property_features))\n",
    "            property_model.add(GaussianNoise(0.01))\n",
    "            property_vector = property_model(property_input)\n",
    "           # property_output = Dense(1, activation='relu', name=\"property_output\")(property_vector)\n",
    "            \n",
    "        with tf.name_scope(\"locality_network\"):\n",
    "            ## Map locality based input features into network via submodel\n",
    "            locality_model = Sequential()\n",
    "            locality_model.add(Dense(64, activation='relu', input_dim=num_locality_features))\n",
    "            locality_model.add(GaussianNoise(0.01))\n",
    "            locality_vector = locality_model(locality_input)\n",
    "           # locality_output = Dense(1, activation='relu', name=\"locality_output\")(locality_vector)\n",
    "            \n",
    "        with tf.name_scope(\"economy_network\"):\n",
    "            ## Map continuous input features into network\n",
    "            economy_model = Sequential()\n",
    "            economy_model.add(Dense(64, activation='relu', input_dim=num_economy_features))\n",
    "            economy_model.add(GaussianNoise(0.01))\n",
    "            economy_vector = economy_model(economy_input)\n",
    "           # economy_output = Dense(1, activation='relu', name=\"economy_output\")(economy_vector)\n",
    "            \n",
    "        with tf.name_scope(\"population_network\"):\n",
    "            ## Map continuous input features into network\n",
    "            population_model = Sequential()\n",
    "            population_model.add(Dense(64, activation='relu', input_dim=num_population_features))\n",
    "            population_model.add(GaussianNoise(0.01))\n",
    "            population_vector = population_model(population_input)\n",
    "           # population_output = Dense(1, activation='relu', name=\"population_output\")(population_vector)\n",
    "            \n",
    "        with tf.name_scope(\"material_network\"):\n",
    "            ## Map material input feature into network\n",
    "            material_vector = Dense(64, activation='relu')(material_input)\n",
    "            material_vector = GaussianNoise(0.01)(material_vector)\n",
    "            \n",
    "        with tf.name_scope(\"state_network\"): \n",
    "            ## Map state input feature into network\n",
    "            state_vector = Dense(64, activation='relu')(state_input)\n",
    "            state_vector = GaussianNoise(0.01)(state_vector)\n",
    "            \n",
    "        with tf.name_scope(\"merge_layer\"):\n",
    "            ## Concatenate all suboutput vectors into one big vector\n",
    "            merged_output_vector = Concatenate()([time_vector, property_vector, locality_vector, economy_vector, population_vector, material_vector, state_vector, sub_area_vector])\n",
    "            merged_output_vector = BatchNormalization()(merged_output_vector) # Batch normalize this combined pre-output vector\n",
    "            merged_output_vector = GaussianDropout(0.4)(merged_output_vector)\n",
    "            \n",
    "        with tf.name_scope(\"fully_connected\"):\n",
    "            ## Some final hidden layers\n",
    "            merged_output_vector = Dense(512, activation='relu')(merged_output_vector)\n",
    "            merged_output_vector = Dropout(0.4)(merged_output_vector)\n",
    "            merged_output_vector = Dense(256, activation='relu')(merged_output_vector)\n",
    "            merged_output_vector = Dropout(0.4)(merged_output_vector)\n",
    "            merged_output_vector = Dense(128, activation='relu')(merged_output_vector)\n",
    "    \n",
    "        main_output = Dense(1, activation=output_activation, name=\"main_output\")(merged_output_vector)\n",
    "        \n",
    "        return [time_input, property_input, locality_input, economy_input, population_input, material_input, state_input, sub_area_input], main_output"
   ]
  },
  {
   "cell_type": "code",
   "execution_count": 231,
   "metadata": {
    "collapsed": false,
    "deletable": true,
    "editable": true
   },
   "outputs": [],
   "source": [
    "num_classes_material = train_split_df_categorical_features['material'].shape[1]\n",
    "num_classes_state = train_split_df_categorical_features['state_refractored'].shape[1]\n",
    "\n",
    "inputs, outputs = main_model_v1_52({\"material\" : num_classes_material, \"state\" : num_classes_state})\n",
    "\n",
    "real_estate_price_model = Model(inputs=inputs, outputs=outputs)"
   ]
  },
  {
   "cell_type": "code",
   "execution_count": 232,
   "metadata": {
    "collapsed": false,
    "deletable": true,
    "editable": true
   },
   "outputs": [
    {
     "data": {
      "image/svg+xml": [
       "<svg height=\"934pt\" viewBox=\"0.00 0.00 2107.00 934.00\" width=\"2107pt\" xmlns=\"http://www.w3.org/2000/svg\" xmlns:xlink=\"http://www.w3.org/1999/xlink\">\n",
       "<g class=\"graph\" id=\"graph0\" transform=\"scale(1 1) rotate(0) translate(4 930)\">\n",
       "<title>G</title>\n",
       "<polygon fill=\"white\" points=\"-4,4 -4,-930 2103,-930 2103,4 -4,4\" stroke=\"none\"/>\n",
       "<!-- 140424434364816 -->\n",
       "<g class=\"node\" id=\"node1\"><title>140424434364816</title>\n",
       "<polygon fill=\"none\" points=\"97.5,-889 97.5,-925 312.5,-925 312.5,-889 97.5,-889\" stroke=\"black\"/>\n",
       "<text font-family=\"Times,serif\" font-size=\"14.00\" text-anchor=\"middle\" x=\"205\" y=\"-903.3\">sub_area_input: InputLayer</text>\n",
       "</g>\n",
       "<!-- 140424434364496 -->\n",
       "<g class=\"node\" id=\"node4\"><title>140424434364496</title>\n",
       "<polygon fill=\"none\" points=\"75.5,-815 75.5,-851 334.5,-851 334.5,-815 75.5,-815\" stroke=\"black\"/>\n",
       "<text font-family=\"Times,serif\" font-size=\"14.00\" text-anchor=\"middle\" x=\"205\" y=\"-829.3\">sub_area_embedding: Embedding</text>\n",
       "</g>\n",
       "<!-- 140424434364816&#45;&gt;140424434364496 -->\n",
       "<g class=\"edge\" id=\"edge1\"><title>140424434364816-&gt;140424434364496</title>\n",
       "<path d=\"M205,-888.937C205,-880.807 205,-870.876 205,-861.705\" fill=\"none\" stroke=\"black\"/>\n",
       "<polygon fill=\"black\" points=\"208.5,-861.441 205,-851.441 201.5,-861.441 208.5,-861.441\" stroke=\"black\"/>\n",
       "</g>\n",
       "<!-- 140424434368464 -->\n",
       "<g class=\"node\" id=\"node2\"><title>140424434368464</title>\n",
       "<polygon fill=\"none\" points=\"1576.5,-815 1576.5,-851 1787.5,-851 1787.5,-815 1576.5,-815\" stroke=\"black\"/>\n",
       "<text font-family=\"Times,serif\" font-size=\"14.00\" text-anchor=\"middle\" x=\"1682\" y=\"-829.3\">material_input: InputLayer</text>\n",
       "</g>\n",
       "<!-- 140424634924368 -->\n",
       "<g class=\"node\" id=\"node10\"><title>140424634924368</title>\n",
       "<polygon fill=\"none\" points=\"1609,-741 1609,-777 1755,-777 1755,-741 1609,-741\" stroke=\"black\"/>\n",
       "<text font-family=\"Times,serif\" font-size=\"14.00\" text-anchor=\"middle\" x=\"1682\" y=\"-755.3\">dense_102: Dense</text>\n",
       "</g>\n",
       "<!-- 140424434368464&#45;&gt;140424634924368 -->\n",
       "<g class=\"edge\" id=\"edge2\"><title>140424434368464-&gt;140424634924368</title>\n",
       "<path d=\"M1682,-814.937C1682,-806.807 1682,-796.876 1682,-787.705\" fill=\"none\" stroke=\"black\"/>\n",
       "<polygon fill=\"black\" points=\"1685.5,-787.441 1682,-777.441 1678.5,-787.441 1685.5,-787.441\" stroke=\"black\"/>\n",
       "</g>\n",
       "<!-- 140424434365328 -->\n",
       "<g class=\"node\" id=\"node3\"><title>140424434365328</title>\n",
       "<polygon fill=\"none\" points=\"1872.5,-815 1872.5,-851 2059.5,-851 2059.5,-815 1872.5,-815\" stroke=\"black\"/>\n",
       "<text font-family=\"Times,serif\" font-size=\"14.00\" text-anchor=\"middle\" x=\"1966\" y=\"-829.3\">state_input: InputLayer</text>\n",
       "</g>\n",
       "<!-- 140425018146320 -->\n",
       "<g class=\"node\" id=\"node11\"><title>140425018146320</title>\n",
       "<polygon fill=\"none\" points=\"1893,-741 1893,-777 2039,-777 2039,-741 1893,-741\" stroke=\"black\"/>\n",
       "<text font-family=\"Times,serif\" font-size=\"14.00\" text-anchor=\"middle\" x=\"1966\" y=\"-755.3\">dense_103: Dense</text>\n",
       "</g>\n",
       "<!-- 140424434365328&#45;&gt;140425018146320 -->\n",
       "<g class=\"edge\" id=\"edge3\"><title>140424434365328-&gt;140425018146320</title>\n",
       "<path d=\"M1966,-814.937C1966,-806.807 1966,-796.876 1966,-787.705\" fill=\"none\" stroke=\"black\"/>\n",
       "<polygon fill=\"black\" points=\"1969.5,-787.441 1966,-777.441 1962.5,-787.441 1969.5,-787.441\" stroke=\"black\"/>\n",
       "</g>\n",
       "<!-- 140424872848400 -->\n",
       "<g class=\"node\" id=\"node12\"><title>140424872848400</title>\n",
       "<polygon fill=\"none\" points=\"-0.5,-741 -0.5,-777 410.5,-777 410.5,-741 -0.5,-741\" stroke=\"black\"/>\n",
       "<text font-family=\"Times,serif\" font-size=\"14.00\" text-anchor=\"middle\" x=\"205\" y=\"-755.3\">time_distributed_9(dense_96): TimeDistributed(Dense)</text>\n",
       "</g>\n",
       "<!-- 140424434364496&#45;&gt;140424872848400 -->\n",
       "<g class=\"edge\" id=\"edge4\"><title>140424434364496-&gt;140424872848400</title>\n",
       "<path d=\"M205,-814.937C205,-806.807 205,-796.876 205,-787.705\" fill=\"none\" stroke=\"black\"/>\n",
       "<polygon fill=\"black\" points=\"208.5,-787.441 205,-777.441 201.5,-787.441 208.5,-787.441\" stroke=\"black\"/>\n",
       "</g>\n",
       "<!-- 140425053978064 -->\n",
       "<g class=\"node\" id=\"node5\"><title>140425053978064</title>\n",
       "<polygon fill=\"none\" points=\"428.5,-741 428.5,-777 643.5,-777 643.5,-741 428.5,-741\" stroke=\"black\"/>\n",
       "<text font-family=\"Times,serif\" font-size=\"14.00\" text-anchor=\"middle\" x=\"536\" y=\"-755.3\">temporal_input: InputLayer</text>\n",
       "</g>\n",
       "<!-- 140425217870416 -->\n",
       "<g class=\"node\" id=\"node13\"><title>140425217870416</title>\n",
       "<polygon fill=\"none\" points=\"442.5,-667 442.5,-703 643.5,-703 643.5,-667 442.5,-667\" stroke=\"black\"/>\n",
       "<text font-family=\"Times,serif\" font-size=\"14.00\" text-anchor=\"middle\" x=\"543\" y=\"-681.3\">sequential_41: Sequential</text>\n",
       "</g>\n",
       "<!-- 140425053978064&#45;&gt;140425217870416 -->\n",
       "<g class=\"edge\" id=\"edge5\"><title>140425053978064-&gt;140425217870416</title>\n",
       "<path d=\"M537.659,-740.937C538.458,-732.719 539.436,-722.66 540.336,-713.406\" fill=\"none\" stroke=\"black\"/>\n",
       "<polygon fill=\"black\" points=\"543.82,-713.732 541.304,-703.441 536.853,-713.055 543.82,-713.732\" stroke=\"black\"/>\n",
       "</g>\n",
       "<!-- 140424605790800 -->\n",
       "<g class=\"node\" id=\"node6\"><title>140424605790800</title>\n",
       "<polygon fill=\"none\" points=\"661.5,-741 661.5,-777 874.5,-777 874.5,-741 661.5,-741\" stroke=\"black\"/>\n",
       "<text font-family=\"Times,serif\" font-size=\"14.00\" text-anchor=\"middle\" x=\"768\" y=\"-755.3\">property_input: InputLayer</text>\n",
       "</g>\n",
       "<!-- 140424629999824 -->\n",
       "<g class=\"node\" id=\"node14\"><title>140424629999824</title>\n",
       "<polygon fill=\"none\" points=\"669.5,-667 669.5,-703 870.5,-703 870.5,-667 669.5,-667\" stroke=\"black\"/>\n",
       "<text font-family=\"Times,serif\" font-size=\"14.00\" text-anchor=\"middle\" x=\"770\" y=\"-681.3\">sequential_42: Sequential</text>\n",
       "</g>\n",
       "<!-- 140424605790800&#45;&gt;140424629999824 -->\n",
       "<g class=\"edge\" id=\"edge6\"><title>140424605790800-&gt;140424629999824</title>\n",
       "<path d=\"M768.474,-740.937C768.7,-732.807 768.976,-722.876 769.23,-713.705\" fill=\"none\" stroke=\"black\"/>\n",
       "<polygon fill=\"black\" points=\"772.736,-713.534 769.516,-703.441 765.739,-713.34 772.736,-713.534\" stroke=\"black\"/>\n",
       "</g>\n",
       "<!-- 140424705025872 -->\n",
       "<g class=\"node\" id=\"node7\"><title>140424705025872</title>\n",
       "<polygon fill=\"none\" points=\"892.5,-741 892.5,-777 1095.5,-777 1095.5,-741 892.5,-741\" stroke=\"black\"/>\n",
       "<text font-family=\"Times,serif\" font-size=\"14.00\" text-anchor=\"middle\" x=\"994\" y=\"-755.3\">locality_input: InputLayer</text>\n",
       "</g>\n",
       "<!-- 140424630053712 -->\n",
       "<g class=\"node\" id=\"node15\"><title>140424630053712</title>\n",
       "<polygon fill=\"none\" points=\"891.5,-667 891.5,-703 1092.5,-703 1092.5,-667 891.5,-667\" stroke=\"black\"/>\n",
       "<text font-family=\"Times,serif\" font-size=\"14.00\" text-anchor=\"middle\" x=\"992\" y=\"-681.3\">sequential_43: Sequential</text>\n",
       "</g>\n",
       "<!-- 140424705025872&#45;&gt;140424630053712 -->\n",
       "<g class=\"edge\" id=\"edge7\"><title>140424705025872-&gt;140424630053712</title>\n",
       "<path d=\"M993.526,-740.937C993.3,-732.807 993.024,-722.876 992.77,-713.705\" fill=\"none\" stroke=\"black\"/>\n",
       "<polygon fill=\"black\" points=\"996.261,-713.34 992.484,-703.441 989.264,-713.534 996.261,-713.34\" stroke=\"black\"/>\n",
       "</g>\n",
       "<!-- 140424434365072 -->\n",
       "<g class=\"node\" id=\"node8\"><title>140424434365072</title>\n",
       "<polygon fill=\"none\" points=\"1113.5,-741 1113.5,-777 1328.5,-777 1328.5,-741 1113.5,-741\" stroke=\"black\"/>\n",
       "<text font-family=\"Times,serif\" font-size=\"14.00\" text-anchor=\"middle\" x=\"1221\" y=\"-755.3\">economy_input: InputLayer</text>\n",
       "</g>\n",
       "<!-- 140424434216016 -->\n",
       "<g class=\"node\" id=\"node16\"><title>140424434216016</title>\n",
       "<polygon fill=\"none\" points=\"1110.5,-667 1110.5,-703 1311.5,-703 1311.5,-667 1110.5,-667\" stroke=\"black\"/>\n",
       "<text font-family=\"Times,serif\" font-size=\"14.00\" text-anchor=\"middle\" x=\"1211\" y=\"-681.3\">sequential_44: Sequential</text>\n",
       "</g>\n",
       "<!-- 140424434365072&#45;&gt;140424434216016 -->\n",
       "<g class=\"edge\" id=\"edge8\"><title>140424434365072-&gt;140424434216016</title>\n",
       "<path d=\"M1218.63,-740.937C1217.49,-732.719 1216.09,-722.66 1214.81,-713.406\" fill=\"none\" stroke=\"black\"/>\n",
       "<polygon fill=\"black\" points=\"1218.26,-712.864 1213.42,-703.441 1211.33,-713.827 1218.26,-712.864\" stroke=\"black\"/>\n",
       "</g>\n",
       "<!-- 140424434367888 -->\n",
       "<g class=\"node\" id=\"node9\"><title>140424434367888</title>\n",
       "<polygon fill=\"none\" points=\"1346.5,-741 1346.5,-777 1573.5,-777 1573.5,-741 1346.5,-741\" stroke=\"black\"/>\n",
       "<text font-family=\"Times,serif\" font-size=\"14.00\" text-anchor=\"middle\" x=\"1460\" y=\"-755.3\">population_input: InputLayer</text>\n",
       "</g>\n",
       "<!-- 140424444851728 -->\n",
       "<g class=\"node\" id=\"node17\"><title>140424444851728</title>\n",
       "<polygon fill=\"none\" points=\"1329.5,-667 1329.5,-703 1530.5,-703 1530.5,-667 1329.5,-667\" stroke=\"black\"/>\n",
       "<text font-family=\"Times,serif\" font-size=\"14.00\" text-anchor=\"middle\" x=\"1430\" y=\"-681.3\">sequential_45: Sequential</text>\n",
       "</g>\n",
       "<!-- 140424434367888&#45;&gt;140424444851728 -->\n",
       "<g class=\"edge\" id=\"edge9\"><title>140424434367888-&gt;140424444851728</title>\n",
       "<path d=\"M1452.89,-740.937C1449.39,-732.542 1445.09,-722.227 1441.17,-712.81\" fill=\"none\" stroke=\"black\"/>\n",
       "<polygon fill=\"black\" points=\"1444.34,-711.325 1437.27,-703.441 1437.88,-714.018 1444.34,-711.325\" stroke=\"black\"/>\n",
       "</g>\n",
       "<!-- 140425018146768 -->\n",
       "<g class=\"node\" id=\"node18\"><title>140425018146768</title>\n",
       "<polygon fill=\"none\" points=\"1549,-667 1549,-703 1815,-703 1815,-667 1549,-667\" stroke=\"black\"/>\n",
       "<text font-family=\"Times,serif\" font-size=\"14.00\" text-anchor=\"middle\" x=\"1682\" y=\"-681.3\">gaussian_noise_27: GaussianNoise</text>\n",
       "</g>\n",
       "<!-- 140424634924368&#45;&gt;140425018146768 -->\n",
       "<g class=\"edge\" id=\"edge10\"><title>140424634924368-&gt;140425018146768</title>\n",
       "<path d=\"M1682,-740.937C1682,-732.807 1682,-722.876 1682,-713.705\" fill=\"none\" stroke=\"black\"/>\n",
       "<polygon fill=\"black\" points=\"1685.5,-713.441 1682,-703.441 1678.5,-713.441 1685.5,-713.441\" stroke=\"black\"/>\n",
       "</g>\n",
       "<!-- 140425017892752 -->\n",
       "<g class=\"node\" id=\"node19\"><title>140425017892752</title>\n",
       "<polygon fill=\"none\" points=\"1833,-667 1833,-703 2099,-703 2099,-667 1833,-667\" stroke=\"black\"/>\n",
       "<text font-family=\"Times,serif\" font-size=\"14.00\" text-anchor=\"middle\" x=\"1966\" y=\"-681.3\">gaussian_noise_28: GaussianNoise</text>\n",
       "</g>\n",
       "<!-- 140425018146320&#45;&gt;140425017892752 -->\n",
       "<g class=\"edge\" id=\"edge11\"><title>140425018146320-&gt;140425017892752</title>\n",
       "<path d=\"M1966,-740.937C1966,-732.807 1966,-722.876 1966,-713.705\" fill=\"none\" stroke=\"black\"/>\n",
       "<polygon fill=\"black\" points=\"1969.5,-713.441 1966,-703.441 1962.5,-713.441 1969.5,-713.441\" stroke=\"black\"/>\n",
       "</g>\n",
       "<!-- 140425051537040 -->\n",
       "<g class=\"node\" id=\"node20\"><title>140425051537040</title>\n",
       "<polygon fill=\"none\" points=\"198,-667 198,-703 358,-703 358,-667 198,-667\" stroke=\"black\"/>\n",
       "<text font-family=\"Times,serif\" font-size=\"14.00\" text-anchor=\"middle\" x=\"278\" y=\"-681.3\">reshape_9: Reshape</text>\n",
       "</g>\n",
       "<!-- 140424872848400&#45;&gt;140425051537040 -->\n",
       "<g class=\"edge\" id=\"edge12\"><title>140424872848400-&gt;140425051537040</title>\n",
       "<path d=\"M222.3,-740.937C231.596,-731.768 243.215,-720.308 253.432,-710.231\" fill=\"none\" stroke=\"black\"/>\n",
       "<polygon fill=\"black\" points=\"255.909,-712.704 260.571,-703.19 250.994,-707.72 255.909,-712.704\" stroke=\"black\"/>\n",
       "</g>\n",
       "<!-- 140425017690704 -->\n",
       "<g class=\"node\" id=\"node21\"><title>140425017690704</title>\n",
       "<polygon fill=\"none\" points=\"990.5,-593 990.5,-629 1211.5,-629 1211.5,-593 990.5,-593\" stroke=\"black\"/>\n",
       "<text font-family=\"Times,serif\" font-size=\"14.00\" text-anchor=\"middle\" x=\"1101\" y=\"-607.3\">concatenate_9: Concatenate</text>\n",
       "</g>\n",
       "<!-- 140425217870416&#45;&gt;140425017690704 -->\n",
       "<g class=\"edge\" id=\"edge13\"><title>140425217870416-&gt;140425017690704</title>\n",
       "<path d=\"M643.807,-668.29C649.282,-667.499 654.707,-666.731 660,-666 768.153,-651.063 891.526,-636.135 980.225,-625.773\" fill=\"none\" stroke=\"black\"/>\n",
       "<polygon fill=\"black\" points=\"980.796,-629.23 990.323,-624.595 979.985,-622.277 980.796,-629.23\" stroke=\"black\"/>\n",
       "</g>\n",
       "<!-- 140424629999824&#45;&gt;140425017690704 -->\n",
       "<g class=\"edge\" id=\"edge14\"><title>140424629999824-&gt;140425017690704</title>\n",
       "<path d=\"M848.442,-666.937C897.819,-656.196 961.649,-642.312 1012.78,-631.189\" fill=\"none\" stroke=\"black\"/>\n",
       "<polygon fill=\"black\" points=\"1013.81,-634.548 1022.83,-629.003 1012.32,-627.708 1013.81,-634.548\" stroke=\"black\"/>\n",
       "</g>\n",
       "<!-- 140424630053712&#45;&gt;140425017690704 -->\n",
       "<g class=\"edge\" id=\"edge15\"><title>140424630053712-&gt;140425017690704</title>\n",
       "<path d=\"M1017.83,-666.937C1032.39,-657.323 1050.75,-645.19 1066.52,-634.774\" fill=\"none\" stroke=\"black\"/>\n",
       "<polygon fill=\"black\" points=\"1068.56,-637.622 1074.98,-629.19 1064.7,-631.781 1068.56,-637.622\" stroke=\"black\"/>\n",
       "</g>\n",
       "<!-- 140424434216016&#45;&gt;140425017690704 -->\n",
       "<g class=\"edge\" id=\"edge16\"><title>140424434216016-&gt;140425017690704</title>\n",
       "<path d=\"M1184.93,-666.937C1170.24,-657.323 1151.71,-645.19 1135.79,-634.774\" fill=\"none\" stroke=\"black\"/>\n",
       "<polygon fill=\"black\" points=\"1137.55,-631.738 1127.26,-629.19 1133.71,-637.595 1137.55,-631.738\" stroke=\"black\"/>\n",
       "</g>\n",
       "<!-- 140424444851728&#45;&gt;140425017690704 -->\n",
       "<g class=\"edge\" id=\"edge17\"><title>140424444851728-&gt;140425017690704</title>\n",
       "<path d=\"M1352.03,-666.937C1302.95,-656.196 1239.51,-642.312 1188.68,-631.189\" fill=\"none\" stroke=\"black\"/>\n",
       "<polygon fill=\"black\" points=\"1189.21,-627.722 1178.69,-629.003 1187.71,-634.56 1189.21,-627.722\" stroke=\"black\"/>\n",
       "</g>\n",
       "<!-- 140425018146768&#45;&gt;140425017690704 -->\n",
       "<g class=\"edge\" id=\"edge18\"><title>140425018146768-&gt;140425017690704</title>\n",
       "<path d=\"M1548.79,-667.222C1545.5,-666.81 1542.23,-666.402 1539,-666 1431.75,-652.639 1309.7,-637.606 1221.73,-626.801\" fill=\"none\" stroke=\"black\"/>\n",
       "<polygon fill=\"black\" points=\"1222.07,-623.316 1211.72,-625.571 1221.22,-630.264 1222.07,-623.316\" stroke=\"black\"/>\n",
       "</g>\n",
       "<!-- 140425017892752&#45;&gt;140425017690704 -->\n",
       "<g class=\"edge\" id=\"edge19\"><title>140425017892752-&gt;140425017690704</title>\n",
       "<path d=\"M1833.37,-666.969C1830.22,-666.635 1827.09,-666.311 1824,-666 1612.57,-644.718 1365.57,-628.021 1221.87,-619.117\" fill=\"none\" stroke=\"black\"/>\n",
       "<polygon fill=\"black\" points=\"1221.9,-615.613 1211.7,-618.49 1221.47,-622.599 1221.9,-615.613\" stroke=\"black\"/>\n",
       "</g>\n",
       "<!-- 140425051537040&#45;&gt;140425017690704 -->\n",
       "<g class=\"edge\" id=\"edge20\"><title>140425051537040-&gt;140425017690704</title>\n",
       "<path d=\"M358.391,-674.123C382.375,-671.323 408.736,-668.389 433,-666 624,-647.195 846.201,-630.204 980.095,-620.497\" fill=\"none\" stroke=\"black\"/>\n",
       "<polygon fill=\"black\" points=\"980.657,-623.966 990.378,-619.753 980.152,-616.984 980.657,-623.966\" stroke=\"black\"/>\n",
       "</g>\n",
       "<!-- 140425017324560 -->\n",
       "<g class=\"node\" id=\"node22\"><title>140425017324560</title>\n",
       "<polygon fill=\"none\" points=\"935,-519 935,-555 1267,-555 1267,-519 935,-519\" stroke=\"black\"/>\n",
       "<text font-family=\"Times,serif\" font-size=\"14.00\" text-anchor=\"middle\" x=\"1101\" y=\"-533.3\">batch_normalization_5: BatchNormalization</text>\n",
       "</g>\n",
       "<!-- 140425017690704&#45;&gt;140425017324560 -->\n",
       "<g class=\"edge\" id=\"edge21\"><title>140425017690704-&gt;140425017324560</title>\n",
       "<path d=\"M1101,-592.937C1101,-584.807 1101,-574.876 1101,-565.705\" fill=\"none\" stroke=\"black\"/>\n",
       "<polygon fill=\"black\" points=\"1104.5,-565.441 1101,-555.441 1097.5,-565.441 1104.5,-565.441\" stroke=\"black\"/>\n",
       "</g>\n",
       "<!-- 140425017383632 -->\n",
       "<g class=\"node\" id=\"node23\"><title>140425017383632</title>\n",
       "<polygon fill=\"none\" points=\"954.5,-445 954.5,-481 1247.5,-481 1247.5,-445 954.5,-445\" stroke=\"black\"/>\n",
       "<text font-family=\"Times,serif\" font-size=\"14.00\" text-anchor=\"middle\" x=\"1101\" y=\"-459.3\">gaussian_dropout_4: GaussianDropout</text>\n",
       "</g>\n",
       "<!-- 140425017324560&#45;&gt;140425017383632 -->\n",
       "<g class=\"edge\" id=\"edge22\"><title>140425017324560-&gt;140425017383632</title>\n",
       "<path d=\"M1101,-518.937C1101,-510.807 1101,-500.876 1101,-491.705\" fill=\"none\" stroke=\"black\"/>\n",
       "<polygon fill=\"black\" points=\"1104.5,-491.441 1101,-481.441 1097.5,-491.441 1104.5,-491.441\" stroke=\"black\"/>\n",
       "</g>\n",
       "<!-- 140425017383120 -->\n",
       "<g class=\"node\" id=\"node24\"><title>140425017383120</title>\n",
       "<polygon fill=\"none\" points=\"1028,-371 1028,-407 1174,-407 1174,-371 1028,-371\" stroke=\"black\"/>\n",
       "<text font-family=\"Times,serif\" font-size=\"14.00\" text-anchor=\"middle\" x=\"1101\" y=\"-385.3\">dense_104: Dense</text>\n",
       "</g>\n",
       "<!-- 140425017383632&#45;&gt;140425017383120 -->\n",
       "<g class=\"edge\" id=\"edge23\"><title>140425017383632-&gt;140425017383120</title>\n",
       "<path d=\"M1101,-444.937C1101,-436.807 1101,-426.876 1101,-417.705\" fill=\"none\" stroke=\"black\"/>\n",
       "<polygon fill=\"black\" points=\"1104.5,-417.441 1101,-407.441 1097.5,-417.441 1104.5,-417.441\" stroke=\"black\"/>\n",
       "</g>\n",
       "<!-- 140425016807376 -->\n",
       "<g class=\"node\" id=\"node25\"><title>140425016807376</title>\n",
       "<polygon fill=\"none\" points=\"1018,-297 1018,-333 1184,-333 1184,-297 1018,-297\" stroke=\"black\"/>\n",
       "<text font-family=\"Times,serif\" font-size=\"14.00\" text-anchor=\"middle\" x=\"1101\" y=\"-311.3\">dropout_29: Dropout</text>\n",
       "</g>\n",
       "<!-- 140425017383120&#45;&gt;140425016807376 -->\n",
       "<g class=\"edge\" id=\"edge24\"><title>140425017383120-&gt;140425016807376</title>\n",
       "<path d=\"M1101,-370.937C1101,-362.807 1101,-352.876 1101,-343.705\" fill=\"none\" stroke=\"black\"/>\n",
       "<polygon fill=\"black\" points=\"1104.5,-343.441 1101,-333.441 1097.5,-343.441 1104.5,-343.441\" stroke=\"black\"/>\n",
       "</g>\n",
       "<!-- 140425016290960 -->\n",
       "<g class=\"node\" id=\"node26\"><title>140425016290960</title>\n",
       "<polygon fill=\"none\" points=\"1028,-223 1028,-259 1174,-259 1174,-223 1028,-223\" stroke=\"black\"/>\n",
       "<text font-family=\"Times,serif\" font-size=\"14.00\" text-anchor=\"middle\" x=\"1101\" y=\"-237.3\">dense_105: Dense</text>\n",
       "</g>\n",
       "<!-- 140425016807376&#45;&gt;140425016290960 -->\n",
       "<g class=\"edge\" id=\"edge25\"><title>140425016807376-&gt;140425016290960</title>\n",
       "<path d=\"M1101,-296.937C1101,-288.807 1101,-278.876 1101,-269.705\" fill=\"none\" stroke=\"black\"/>\n",
       "<polygon fill=\"black\" points=\"1104.5,-269.441 1101,-259.441 1097.5,-269.441 1104.5,-269.441\" stroke=\"black\"/>\n",
       "</g>\n",
       "<!-- 140425015347536 -->\n",
       "<g class=\"node\" id=\"node27\"><title>140425015347536</title>\n",
       "<polygon fill=\"none\" points=\"1018,-149 1018,-185 1184,-185 1184,-149 1018,-149\" stroke=\"black\"/>\n",
       "<text font-family=\"Times,serif\" font-size=\"14.00\" text-anchor=\"middle\" x=\"1101\" y=\"-163.3\">dropout_30: Dropout</text>\n",
       "</g>\n",
       "<!-- 140425016290960&#45;&gt;140425015347536 -->\n",
       "<g class=\"edge\" id=\"edge26\"><title>140425016290960-&gt;140425015347536</title>\n",
       "<path d=\"M1101,-222.937C1101,-214.807 1101,-204.876 1101,-195.705\" fill=\"none\" stroke=\"black\"/>\n",
       "<polygon fill=\"black\" points=\"1104.5,-195.441 1101,-185.441 1097.5,-195.441 1104.5,-195.441\" stroke=\"black\"/>\n",
       "</g>\n",
       "<!-- 140425015479376 -->\n",
       "<g class=\"node\" id=\"node28\"><title>140425015479376</title>\n",
       "<polygon fill=\"none\" points=\"1028,-75 1028,-111 1174,-111 1174,-75 1028,-75\" stroke=\"black\"/>\n",
       "<text font-family=\"Times,serif\" font-size=\"14.00\" text-anchor=\"middle\" x=\"1101\" y=\"-89.3\">dense_106: Dense</text>\n",
       "</g>\n",
       "<!-- 140425015347536&#45;&gt;140425015479376 -->\n",
       "<g class=\"edge\" id=\"edge27\"><title>140425015347536-&gt;140425015479376</title>\n",
       "<path d=\"M1101,-148.937C1101,-140.807 1101,-130.876 1101,-121.705\" fill=\"none\" stroke=\"black\"/>\n",
       "<polygon fill=\"black\" points=\"1104.5,-121.441 1101,-111.441 1097.5,-121.441 1104.5,-121.441\" stroke=\"black\"/>\n",
       "</g>\n",
       "<!-- 140424964156048 -->\n",
       "<g class=\"node\" id=\"node29\"><title>140424964156048</title>\n",
       "<polygon fill=\"none\" points=\"1021,-1 1021,-37 1181,-37 1181,-1 1021,-1\" stroke=\"black\"/>\n",
       "<text font-family=\"Times,serif\" font-size=\"14.00\" text-anchor=\"middle\" x=\"1101\" y=\"-15.3\">main_output: Dense</text>\n",
       "</g>\n",
       "<!-- 140425015479376&#45;&gt;140424964156048 -->\n",
       "<g class=\"edge\" id=\"edge28\"><title>140425015479376-&gt;140424964156048</title>\n",
       "<path d=\"M1101,-74.937C1101,-66.8072 1101,-56.8761 1101,-47.7047\" fill=\"none\" stroke=\"black\"/>\n",
       "<polygon fill=\"black\" points=\"1104.5,-47.4406 1101,-37.4407 1097.5,-47.4407 1104.5,-47.4406\" stroke=\"black\"/>\n",
       "</g>\n",
       "</g>\n",
       "</svg>"
      ],
      "text/plain": [
       "<IPython.core.display.SVG object>"
      ]
     },
     "execution_count": 232,
     "metadata": {},
     "output_type": "execute_result"
    }
   ],
   "source": [
    "from IPython.display import Image, display, SVG\n",
    "from keras.utils.vis_utils import model_to_dot\n",
    "\n",
    "# Show the model in ipython notebook\n",
    "SVG(model_to_dot(real_estate_price_model).create(prog='dot', format='svg'))"
   ]
  },
  {
   "cell_type": "code",
   "execution_count": 233,
   "metadata": {
    "collapsed": false,
    "deletable": true,
    "editable": true
   },
   "outputs": [],
   "source": [
    "# Save the model as png file\n",
    "from keras.utils.vis_utils import plot_model\n",
    "plot_model(real_estate_price_model, to_file='/mnt/h/Kaggle/Competitions/Russian Bank/models/'+version_str+'/model.png', show_shapes=True)"
   ]
  },
  {
   "cell_type": "code",
   "execution_count": 234,
   "metadata": {
    "collapsed": true,
    "deletable": true,
    "editable": true
   },
   "outputs": [],
   "source": [
    "def root_mean_squared_logarithmic_error(y_true, y_pred):\n",
    "    y_pred_log = K.log(y_pred + 1.)\n",
    "    y_true_log = K.log(y_true + 1.)\n",
    "    return K.sqrt(K.mean(K.square(y_pred_log - y_true_log), axis = -1))"
   ]
  },
  {
   "cell_type": "code",
   "execution_count": 235,
   "metadata": {
    "collapsed": true,
    "deletable": true,
    "editable": true
   },
   "outputs": [],
   "source": [
    "real_estate_price_model.compile(optimizer = \"adam\", \n",
    "                          loss = root_mean_squared_logarithmic_error\n",
    "                         )"
   ]
  },
  {
   "cell_type": "markdown",
   "metadata": {
    "deletable": true,
    "editable": true
   },
   "source": [
    "### Train the model"
   ]
  },
  {
   "cell_type": "code",
   "execution_count": 236,
   "metadata": {
    "collapsed": true,
    "deletable": true,
    "editable": true
   },
   "outputs": [],
   "source": [
    "epochs = 100"
   ]
  },
  {
   "cell_type": "code",
   "execution_count": 237,
   "metadata": {
    "collapsed": false,
    "deletable": true,
    "editable": true
   },
   "outputs": [],
   "source": [
    "checkpointer = ModelCheckpoint(filepath=\"/mnt/h/Kaggle/Competitions/Russian Bank/models/\" + version_str + \"/\" + \"weights.{epoch:02d}-{val_loss:.2f}.hdf5\", verbose=1, save_best_only=True)\n",
    "tensorboard = TensorBoard(log_dir=\"/mnt/h/Kaggle/Competitions/Russian Bank/models/\" + version_str + \"/logs/\",\n",
    "                          histogram_freq=0, \n",
    "                          write_graph=True, \n",
    "                         # write_grads=True, \n",
    "                          write_images=False, \n",
    "                          embeddings_freq=5, \n",
    "                          embeddings_layer_names=[\n",
    "                              'sub_area_embedding'\n",
    "                          ], embeddings_metadata={\n",
    "                              'sub_area_embedding':'/mnt/h/Kaggle/Competitions/Russian Bank/models/metadata/sub_area_metadata.tsv'\n",
    "                          })\n",
    "early_stopping = EarlyStopping(monitor='val_loss', patience=20, verbose=0, mode='auto')\n",
    "callbacks = [checkpointer, tensorboard, early_stopping]"
   ]
  },
  {
   "cell_type": "code",
   "execution_count": 238,
   "metadata": {
    "collapsed": false
   },
   "outputs": [
    {
     "name": "stdout",
     "output_type": "stream",
     "text": [
      "____________________________________________________________________________________________________\n",
      "Layer (type)                     Output Shape          Param #     Connected to                     \n",
      "====================================================================================================\n",
      "sub_area_input (InputLayer)      (None, 1)             0                                            \n",
      "____________________________________________________________________________________________________\n",
      "material_input (InputLayer)      (None, 7)             0                                            \n",
      "____________________________________________________________________________________________________\n",
      "state_input (InputLayer)         (None, 6)             0                                            \n",
      "____________________________________________________________________________________________________\n",
      "sub_area_embedding (Embedding)   (None, 1, 8)          1600        sub_area_input[0][0]             \n",
      "____________________________________________________________________________________________________\n",
      "temporal_input (InputLayer)      (None, 3)             0                                            \n",
      "____________________________________________________________________________________________________\n",
      "property_input (InputLayer)      (None, 8)             0                                            \n",
      "____________________________________________________________________________________________________\n",
      "locality_input (InputLayer)      (None, 46)            0                                            \n",
      "____________________________________________________________________________________________________\n",
      "economy_input (InputLayer)       (None, 52)            0                                            \n",
      "____________________________________________________________________________________________________\n",
      "population_input (InputLayer)    (None, 19)            0                                            \n",
      "____________________________________________________________________________________________________\n",
      "dense_102 (Dense)                (None, 64)            512         material_input[0][0]             \n",
      "____________________________________________________________________________________________________\n",
      "dense_103 (Dense)                (None, 64)            448         state_input[0][0]                \n",
      "____________________________________________________________________________________________________\n",
      "time_distributed_9 (TimeDistribu (None, 1, 64)         576         sub_area_embedding[0][0]         \n",
      "____________________________________________________________________________________________________\n",
      "sequential_41 (Sequential)       (None, 64)            256         temporal_input[0][0]             \n",
      "____________________________________________________________________________________________________\n",
      "sequential_42 (Sequential)       (None, 64)            576         property_input[0][0]             \n",
      "____________________________________________________________________________________________________\n",
      "sequential_43 (Sequential)       (None, 64)            3008        locality_input[0][0]             \n",
      "____________________________________________________________________________________________________\n",
      "sequential_44 (Sequential)       (None, 64)            3392        economy_input[0][0]              \n",
      "____________________________________________________________________________________________________\n",
      "sequential_45 (Sequential)       (None, 64)            1280        population_input[0][0]           \n",
      "____________________________________________________________________________________________________\n",
      "gaussian_noise_27 (GaussianNoise (None, 64)            0           dense_102[0][0]                  \n",
      "____________________________________________________________________________________________________\n",
      "gaussian_noise_28 (GaussianNoise (None, 64)            0           dense_103[0][0]                  \n",
      "____________________________________________________________________________________________________\n",
      "reshape_9 (Reshape)              (None, 64)            0           time_distributed_9[0][0]         \n",
      "____________________________________________________________________________________________________\n",
      "concatenate_9 (Concatenate)      (None, 512)           0           sequential_41[1][0]              \n",
      "                                                                   sequential_42[1][0]              \n",
      "                                                                   sequential_43[1][0]              \n",
      "                                                                   sequential_44[1][0]              \n",
      "                                                                   sequential_45[1][0]              \n",
      "                                                                   gaussian_noise_27[0][0]          \n",
      "                                                                   gaussian_noise_28[0][0]          \n",
      "                                                                   reshape_9[0][0]                  \n",
      "____________________________________________________________________________________________________\n",
      "batch_normalization_5 (BatchNorm (None, 512)           2048        concatenate_9[0][0]              \n",
      "____________________________________________________________________________________________________\n",
      "gaussian_dropout_4 (GaussianDrop (None, 512)           0           batch_normalization_5[0][0]      \n",
      "____________________________________________________________________________________________________\n",
      "dense_104 (Dense)                (None, 512)           262656      gaussian_dropout_4[0][0]         \n",
      "____________________________________________________________________________________________________\n",
      "dropout_29 (Dropout)             (None, 512)           0           dense_104[0][0]                  \n",
      "____________________________________________________________________________________________________\n",
      "dense_105 (Dense)                (None, 256)           131328      dropout_29[0][0]                 \n",
      "____________________________________________________________________________________________________\n",
      "dropout_30 (Dropout)             (None, 256)           0           dense_105[0][0]                  \n",
      "____________________________________________________________________________________________________\n",
      "dense_106 (Dense)                (None, 128)           32896       dropout_30[0][0]                 \n",
      "____________________________________________________________________________________________________\n",
      "main_output (Dense)              (None, 1)             129         dense_106[0][0]                  \n",
      "====================================================================================================\n",
      "Total params: 440,705\n",
      "Trainable params: 439,681\n",
      "Non-trainable params: 1,024\n",
      "____________________________________________________________________________________________________\n"
     ]
    }
   ],
   "source": [
    "real_estate_price_model.summary()"
   ]
  },
  {
   "cell_type": "code",
   "execution_count": 239,
   "metadata": {
    "collapsed": false,
    "deletable": true,
    "editable": true
   },
   "outputs": [
    {
     "name": "stdout",
     "output_type": "stream",
     "text": [
      "Train on 20567 samples, validate on 6856 samples\n",
      "Epoch 1/100\n",
      "Epoch 00000: val_loss improved from inf to 0.60471, saving model to /mnt/h/Kaggle/Competitions/Russian Bank/models/v1.52/weights.00-0.60.hdf5\n",
      "126s - loss: 3.7570 - val_loss: 0.6047\n",
      "Epoch 2/100\n",
      "Epoch 00001: val_loss improved from 0.60471 to 0.32750, saving model to /mnt/h/Kaggle/Competitions/Russian Bank/models/v1.52/weights.01-0.33.hdf5\n",
      "32s - loss: 0.4177 - val_loss: 0.3275\n",
      "Epoch 3/100\n",
      "Epoch 00002: val_loss improved from 0.32750 to 0.28876, saving model to /mnt/h/Kaggle/Competitions/Russian Bank/models/v1.52/weights.02-0.29.hdf5\n",
      "31s - loss: 0.3404 - val_loss: 0.2888\n",
      "Epoch 4/100\n",
      "Epoch 00003: val_loss improved from 0.28876 to 0.27172, saving model to /mnt/h/Kaggle/Competitions/Russian Bank/models/v1.52/weights.03-0.27.hdf5\n",
      "31s - loss: 0.3101 - val_loss: 0.2717\n",
      "Epoch 5/100\n",
      "Epoch 00004: val_loss improved from 0.27172 to 0.26537, saving model to /mnt/h/Kaggle/Competitions/Russian Bank/models/v1.52/weights.04-0.27.hdf5\n",
      "33s - loss: 0.3057 - val_loss: 0.2654\n",
      "Epoch 6/100\n",
      "Epoch 00005: val_loss improved from 0.26537 to 0.26286, saving model to /mnt/h/Kaggle/Competitions/Russian Bank/models/v1.52/weights.05-0.26.hdf5\n",
      "176s - loss: 0.3044 - val_loss: 0.2629\n",
      "Epoch 7/100\n",
      "Epoch 00006: val_loss did not improve\n",
      "35s - loss: 0.2996 - val_loss: 0.2674\n",
      "Epoch 8/100\n",
      "Epoch 00007: val_loss improved from 0.26286 to 0.25915, saving model to /mnt/h/Kaggle/Competitions/Russian Bank/models/v1.52/weights.07-0.26.hdf5\n",
      "34s - loss: 0.2965 - val_loss: 0.2591\n",
      "Epoch 9/100\n",
      "Epoch 00008: val_loss did not improve\n",
      "33s - loss: 0.2943 - val_loss: 0.2639\n",
      "Epoch 10/100\n",
      "Epoch 00009: val_loss did not improve\n",
      "37s - loss: 0.2916 - val_loss: 0.2638\n",
      "Epoch 11/100\n",
      "Epoch 00010: val_loss did not improve\n",
      "104s - loss: 0.2902 - val_loss: 0.2738\n",
      "Epoch 12/100\n",
      "Epoch 00011: val_loss improved from 0.25915 to 0.25335, saving model to /mnt/h/Kaggle/Competitions/Russian Bank/models/v1.52/weights.11-0.25.hdf5\n",
      "30s - loss: 0.2888 - val_loss: 0.2533\n",
      "Epoch 13/100\n",
      "Epoch 00012: val_loss did not improve\n",
      "31s - loss: 0.2864 - val_loss: 0.2830\n",
      "Epoch 14/100\n",
      "Epoch 00013: val_loss did not improve\n",
      "32s - loss: 0.2848 - val_loss: 0.2771\n",
      "Epoch 15/100\n",
      "Epoch 00014: val_loss did not improve\n",
      "34s - loss: 0.2852 - val_loss: 0.2809\n",
      "Epoch 16/100\n",
      "Epoch 00015: val_loss did not improve\n",
      "99s - loss: 0.2832 - val_loss: 0.2596\n",
      "Epoch 17/100\n",
      "Epoch 00016: val_loss improved from 0.25335 to 0.25060, saving model to /mnt/h/Kaggle/Competitions/Russian Bank/models/v1.52/weights.16-0.25.hdf5\n",
      "31s - loss: 0.2840 - val_loss: 0.2506\n",
      "Epoch 18/100\n",
      "Epoch 00017: val_loss did not improve\n",
      "35s - loss: 0.2810 - val_loss: 0.2564\n",
      "Epoch 19/100\n",
      "Epoch 00018: val_loss did not improve\n",
      "30s - loss: 0.2805 - val_loss: 0.2617\n",
      "Epoch 20/100\n",
      "Epoch 00019: val_loss improved from 0.25060 to 0.25051, saving model to /mnt/h/Kaggle/Competitions/Russian Bank/models/v1.52/weights.19-0.25.hdf5\n",
      "32s - loss: 0.2799 - val_loss: 0.2505\n",
      "Epoch 21/100\n",
      "Epoch 00020: val_loss did not improve\n",
      "97s - loss: 0.2790 - val_loss: 0.2534\n",
      "Epoch 22/100\n",
      "Epoch 00021: val_loss improved from 0.25051 to 0.24945, saving model to /mnt/h/Kaggle/Competitions/Russian Bank/models/v1.52/weights.21-0.25.hdf5\n",
      "32s - loss: 0.2798 - val_loss: 0.2495\n",
      "Epoch 23/100\n",
      "Epoch 00022: val_loss did not improve\n",
      "39s - loss: 0.2788 - val_loss: 0.2630\n",
      "Epoch 24/100\n",
      "Epoch 00023: val_loss did not improve\n",
      "34s - loss: 0.2793 - val_loss: 0.2659\n",
      "Epoch 25/100\n",
      "Epoch 00024: val_loss did not improve\n",
      "32s - loss: 0.2769 - val_loss: 0.2553\n",
      "Epoch 26/100\n",
      "Epoch 00025: val_loss did not improve\n",
      "105s - loss: 0.2789 - val_loss: 0.2560\n",
      "Epoch 27/100\n",
      "Epoch 00026: val_loss did not improve\n",
      "32s - loss: 0.2779 - val_loss: 0.2680\n",
      "Epoch 28/100\n",
      "Epoch 00027: val_loss did not improve\n",
      "34s - loss: 0.2763 - val_loss: 0.2547\n",
      "Epoch 29/100\n",
      "Epoch 00028: val_loss did not improve\n",
      "32s - loss: 0.2769 - val_loss: 0.2655\n",
      "Epoch 30/100\n",
      "Epoch 00029: val_loss did not improve\n",
      "31s - loss: 0.2754 - val_loss: 0.2612\n",
      "Epoch 31/100\n",
      "Epoch 00030: val_loss did not improve\n",
      "100s - loss: 0.2762 - val_loss: 0.2497\n",
      "Epoch 32/100\n",
      "Epoch 00031: val_loss did not improve\n",
      "36s - loss: 0.2746 - val_loss: 0.2757\n",
      "Epoch 33/100\n",
      "Epoch 00032: val_loss improved from 0.24945 to 0.24700, saving model to /mnt/h/Kaggle/Competitions/Russian Bank/models/v1.52/weights.32-0.25.hdf5\n",
      "34s - loss: 0.2758 - val_loss: 0.2470\n",
      "Epoch 34/100\n",
      "Epoch 00033: val_loss did not improve\n",
      "32s - loss: 0.2748 - val_loss: 0.2570\n",
      "Epoch 35/100\n",
      "Epoch 00034: val_loss improved from 0.24700 to 0.24297, saving model to /mnt/h/Kaggle/Competitions/Russian Bank/models/v1.52/weights.34-0.24.hdf5\n",
      "33s - loss: 0.2751 - val_loss: 0.2430\n",
      "Epoch 36/100\n",
      "Epoch 00035: val_loss improved from 0.24297 to 0.24252, saving model to /mnt/h/Kaggle/Competitions/Russian Bank/models/v1.52/weights.35-0.24.hdf5\n",
      "104s - loss: 0.2742 - val_loss: 0.2425\n",
      "Epoch 37/100\n",
      "Epoch 00036: val_loss improved from 0.24252 to 0.24042, saving model to /mnt/h/Kaggle/Competitions/Russian Bank/models/v1.52/weights.36-0.24.hdf5\n",
      "34s - loss: 0.2728 - val_loss: 0.2404\n",
      "Epoch 38/100\n",
      "Epoch 00037: val_loss did not improve\n",
      "33s - loss: 0.2741 - val_loss: 0.2502\n",
      "Epoch 39/100\n",
      "Epoch 00038: val_loss did not improve\n",
      "31s - loss: 0.2731 - val_loss: 0.2422\n",
      "Epoch 40/100\n",
      "Epoch 00039: val_loss did not improve\n",
      "30s - loss: nan - val_loss: 15.5960\n",
      "Epoch 41/100\n"
     ]
    },
    {
     "ename": "KeyboardInterrupt",
     "evalue": "",
     "output_type": "error",
     "traceback": [
      "\u001b[0;31m---------------------------------------------------------------------------\u001b[0m",
      "\u001b[0;31mKeyboardInterrupt\u001b[0m                         Traceback (most recent call last)",
      "\u001b[0;32m<ipython-input-239-a92a5f4da241>\u001b[0m in \u001b[0;36m<module>\u001b[0;34m()\u001b[0m\n\u001b[1;32m     13\u001b[0m                       \u001b[0mvalidation_split\u001b[0m\u001b[0;34m=\u001b[0m\u001b[0;36m0.25\u001b[0m\u001b[0;34m,\u001b[0m\u001b[0;34m\u001b[0m\u001b[0m\n\u001b[1;32m     14\u001b[0m                       \u001b[0mshuffle\u001b[0m\u001b[0;34m=\u001b[0m\u001b[0mTrue\u001b[0m\u001b[0;34m,\u001b[0m\u001b[0;34m\u001b[0m\u001b[0m\n\u001b[0;32m---> 15\u001b[0;31m                       epochs=epochs)\n\u001b[0m",
      "\u001b[0;32m/usr/local/lib/python2.7/dist-packages/keras/engine/training.pyc\u001b[0m in \u001b[0;36mfit\u001b[0;34m(self, x, y, batch_size, epochs, verbose, callbacks, validation_split, validation_data, shuffle, class_weight, sample_weight, initial_epoch, **kwargs)\u001b[0m\n\u001b[1;32m   1491\u001b[0m                               \u001b[0mval_f\u001b[0m\u001b[0;34m=\u001b[0m\u001b[0mval_f\u001b[0m\u001b[0;34m,\u001b[0m \u001b[0mval_ins\u001b[0m\u001b[0;34m=\u001b[0m\u001b[0mval_ins\u001b[0m\u001b[0;34m,\u001b[0m \u001b[0mshuffle\u001b[0m\u001b[0;34m=\u001b[0m\u001b[0mshuffle\u001b[0m\u001b[0;34m,\u001b[0m\u001b[0;34m\u001b[0m\u001b[0m\n\u001b[1;32m   1492\u001b[0m                               \u001b[0mcallback_metrics\u001b[0m\u001b[0;34m=\u001b[0m\u001b[0mcallback_metrics\u001b[0m\u001b[0;34m,\u001b[0m\u001b[0;34m\u001b[0m\u001b[0m\n\u001b[0;32m-> 1493\u001b[0;31m                               initial_epoch=initial_epoch)\n\u001b[0m\u001b[1;32m   1494\u001b[0m \u001b[0;34m\u001b[0m\u001b[0m\n\u001b[1;32m   1495\u001b[0m     \u001b[0;32mdef\u001b[0m \u001b[0mevaluate\u001b[0m\u001b[0;34m(\u001b[0m\u001b[0mself\u001b[0m\u001b[0;34m,\u001b[0m \u001b[0mx\u001b[0m\u001b[0;34m,\u001b[0m \u001b[0my\u001b[0m\u001b[0;34m,\u001b[0m \u001b[0mbatch_size\u001b[0m\u001b[0;34m=\u001b[0m\u001b[0;36m32\u001b[0m\u001b[0;34m,\u001b[0m \u001b[0mverbose\u001b[0m\u001b[0;34m=\u001b[0m\u001b[0;36m1\u001b[0m\u001b[0;34m,\u001b[0m \u001b[0msample_weight\u001b[0m\u001b[0;34m=\u001b[0m\u001b[0mNone\u001b[0m\u001b[0;34m)\u001b[0m\u001b[0;34m:\u001b[0m\u001b[0;34m\u001b[0m\u001b[0m\n",
      "\u001b[0;32m/usr/local/lib/python2.7/dist-packages/keras/engine/training.pyc\u001b[0m in \u001b[0;36m_fit_loop\u001b[0;34m(self, f, ins, out_labels, batch_size, epochs, verbose, callbacks, val_f, val_ins, shuffle, callback_metrics, initial_epoch)\u001b[0m\n\u001b[1;32m   1145\u001b[0m                 \u001b[0mbatch_logs\u001b[0m\u001b[0;34m[\u001b[0m\u001b[0;34m'size'\u001b[0m\u001b[0;34m]\u001b[0m \u001b[0;34m=\u001b[0m \u001b[0mlen\u001b[0m\u001b[0;34m(\u001b[0m\u001b[0mbatch_ids\u001b[0m\u001b[0;34m)\u001b[0m\u001b[0;34m\u001b[0m\u001b[0m\n\u001b[1;32m   1146\u001b[0m                 \u001b[0mcallbacks\u001b[0m\u001b[0;34m.\u001b[0m\u001b[0mon_batch_begin\u001b[0m\u001b[0;34m(\u001b[0m\u001b[0mbatch_index\u001b[0m\u001b[0;34m,\u001b[0m \u001b[0mbatch_logs\u001b[0m\u001b[0;34m)\u001b[0m\u001b[0;34m\u001b[0m\u001b[0m\n\u001b[0;32m-> 1147\u001b[0;31m                 \u001b[0mouts\u001b[0m \u001b[0;34m=\u001b[0m \u001b[0mf\u001b[0m\u001b[0;34m(\u001b[0m\u001b[0mins_batch\u001b[0m\u001b[0;34m)\u001b[0m\u001b[0;34m\u001b[0m\u001b[0m\n\u001b[0m\u001b[1;32m   1148\u001b[0m                 \u001b[0;32mif\u001b[0m \u001b[0;32mnot\u001b[0m \u001b[0misinstance\u001b[0m\u001b[0;34m(\u001b[0m\u001b[0mouts\u001b[0m\u001b[0;34m,\u001b[0m \u001b[0mlist\u001b[0m\u001b[0;34m)\u001b[0m\u001b[0;34m:\u001b[0m\u001b[0;34m\u001b[0m\u001b[0m\n\u001b[1;32m   1149\u001b[0m                     \u001b[0mouts\u001b[0m \u001b[0;34m=\u001b[0m \u001b[0;34m[\u001b[0m\u001b[0mouts\u001b[0m\u001b[0;34m]\u001b[0m\u001b[0;34m\u001b[0m\u001b[0m\n",
      "\u001b[0;32m/usr/local/lib/python2.7/dist-packages/keras/backend/tensorflow_backend.pyc\u001b[0m in \u001b[0;36m__call__\u001b[0;34m(self, inputs)\u001b[0m\n\u001b[1;32m   2129\u001b[0m         \u001b[0msession\u001b[0m \u001b[0;34m=\u001b[0m \u001b[0mget_session\u001b[0m\u001b[0;34m(\u001b[0m\u001b[0;34m)\u001b[0m\u001b[0;34m\u001b[0m\u001b[0m\n\u001b[1;32m   2130\u001b[0m         updated = session.run(self.outputs + [self.updates_op],\n\u001b[0;32m-> 2131\u001b[0;31m                               feed_dict=feed_dict)\n\u001b[0m\u001b[1;32m   2132\u001b[0m         \u001b[0;32mreturn\u001b[0m \u001b[0mupdated\u001b[0m\u001b[0;34m[\u001b[0m\u001b[0;34m:\u001b[0m\u001b[0mlen\u001b[0m\u001b[0;34m(\u001b[0m\u001b[0mself\u001b[0m\u001b[0;34m.\u001b[0m\u001b[0moutputs\u001b[0m\u001b[0;34m)\u001b[0m\u001b[0;34m]\u001b[0m\u001b[0;34m\u001b[0m\u001b[0m\n\u001b[1;32m   2133\u001b[0m \u001b[0;34m\u001b[0m\u001b[0m\n",
      "\u001b[0;32m/usr/local/lib/python2.7/dist-packages/tensorflow/python/client/session.pyc\u001b[0m in \u001b[0;36mrun\u001b[0;34m(self, fetches, feed_dict, options, run_metadata)\u001b[0m\n\u001b[1;32m    765\u001b[0m     \u001b[0;32mtry\u001b[0m\u001b[0;34m:\u001b[0m\u001b[0;34m\u001b[0m\u001b[0m\n\u001b[1;32m    766\u001b[0m       result = self._run(None, fetches, feed_dict, options_ptr,\n\u001b[0;32m--> 767\u001b[0;31m                          run_metadata_ptr)\n\u001b[0m\u001b[1;32m    768\u001b[0m       \u001b[0;32mif\u001b[0m \u001b[0mrun_metadata\u001b[0m\u001b[0;34m:\u001b[0m\u001b[0;34m\u001b[0m\u001b[0m\n\u001b[1;32m    769\u001b[0m         \u001b[0mproto_data\u001b[0m \u001b[0;34m=\u001b[0m \u001b[0mtf_session\u001b[0m\u001b[0;34m.\u001b[0m\u001b[0mTF_GetBuffer\u001b[0m\u001b[0;34m(\u001b[0m\u001b[0mrun_metadata_ptr\u001b[0m\u001b[0;34m)\u001b[0m\u001b[0;34m\u001b[0m\u001b[0m\n",
      "\u001b[0;32m/usr/local/lib/python2.7/dist-packages/tensorflow/python/client/session.pyc\u001b[0m in \u001b[0;36m_run\u001b[0;34m(self, handle, fetches, feed_dict, options, run_metadata)\u001b[0m\n\u001b[1;32m    963\u001b[0m     \u001b[0;32mif\u001b[0m \u001b[0mfinal_fetches\u001b[0m \u001b[0;32mor\u001b[0m \u001b[0mfinal_targets\u001b[0m\u001b[0;34m:\u001b[0m\u001b[0;34m\u001b[0m\u001b[0m\n\u001b[1;32m    964\u001b[0m       results = self._do_run(handle, final_targets, final_fetches,\n\u001b[0;32m--> 965\u001b[0;31m                              feed_dict_string, options, run_metadata)\n\u001b[0m\u001b[1;32m    966\u001b[0m     \u001b[0;32melse\u001b[0m\u001b[0;34m:\u001b[0m\u001b[0;34m\u001b[0m\u001b[0m\n\u001b[1;32m    967\u001b[0m       \u001b[0mresults\u001b[0m \u001b[0;34m=\u001b[0m \u001b[0;34m[\u001b[0m\u001b[0;34m]\u001b[0m\u001b[0;34m\u001b[0m\u001b[0m\n",
      "\u001b[0;32m/usr/local/lib/python2.7/dist-packages/tensorflow/python/client/session.pyc\u001b[0m in \u001b[0;36m_do_run\u001b[0;34m(self, handle, target_list, fetch_list, feed_dict, options, run_metadata)\u001b[0m\n\u001b[1;32m   1013\u001b[0m     \u001b[0;32mif\u001b[0m \u001b[0mhandle\u001b[0m \u001b[0;32mis\u001b[0m \u001b[0mNone\u001b[0m\u001b[0;34m:\u001b[0m\u001b[0;34m\u001b[0m\u001b[0m\n\u001b[1;32m   1014\u001b[0m       return self._do_call(_run_fn, self._session, feed_dict, fetch_list,\n\u001b[0;32m-> 1015\u001b[0;31m                            target_list, options, run_metadata)\n\u001b[0m\u001b[1;32m   1016\u001b[0m     \u001b[0;32melse\u001b[0m\u001b[0;34m:\u001b[0m\u001b[0;34m\u001b[0m\u001b[0m\n\u001b[1;32m   1017\u001b[0m       return self._do_call(_prun_fn, self._session, handle, feed_dict,\n",
      "\u001b[0;32m/usr/local/lib/python2.7/dist-packages/tensorflow/python/client/session.pyc\u001b[0m in \u001b[0;36m_do_call\u001b[0;34m(self, fn, *args)\u001b[0m\n\u001b[1;32m   1020\u001b[0m   \u001b[0;32mdef\u001b[0m \u001b[0m_do_call\u001b[0m\u001b[0;34m(\u001b[0m\u001b[0mself\u001b[0m\u001b[0;34m,\u001b[0m \u001b[0mfn\u001b[0m\u001b[0;34m,\u001b[0m \u001b[0;34m*\u001b[0m\u001b[0margs\u001b[0m\u001b[0;34m)\u001b[0m\u001b[0;34m:\u001b[0m\u001b[0;34m\u001b[0m\u001b[0m\n\u001b[1;32m   1021\u001b[0m     \u001b[0;32mtry\u001b[0m\u001b[0;34m:\u001b[0m\u001b[0;34m\u001b[0m\u001b[0m\n\u001b[0;32m-> 1022\u001b[0;31m       \u001b[0;32mreturn\u001b[0m \u001b[0mfn\u001b[0m\u001b[0;34m(\u001b[0m\u001b[0;34m*\u001b[0m\u001b[0margs\u001b[0m\u001b[0;34m)\u001b[0m\u001b[0;34m\u001b[0m\u001b[0m\n\u001b[0m\u001b[1;32m   1023\u001b[0m     \u001b[0;32mexcept\u001b[0m \u001b[0merrors\u001b[0m\u001b[0;34m.\u001b[0m\u001b[0mOpError\u001b[0m \u001b[0;32mas\u001b[0m \u001b[0me\u001b[0m\u001b[0;34m:\u001b[0m\u001b[0;34m\u001b[0m\u001b[0m\n\u001b[1;32m   1024\u001b[0m       \u001b[0mmessage\u001b[0m \u001b[0;34m=\u001b[0m \u001b[0mcompat\u001b[0m\u001b[0;34m.\u001b[0m\u001b[0mas_text\u001b[0m\u001b[0;34m(\u001b[0m\u001b[0me\u001b[0m\u001b[0;34m.\u001b[0m\u001b[0mmessage\u001b[0m\u001b[0;34m)\u001b[0m\u001b[0;34m\u001b[0m\u001b[0m\n",
      "\u001b[0;32m/usr/local/lib/python2.7/dist-packages/tensorflow/python/client/session.pyc\u001b[0m in \u001b[0;36m_run_fn\u001b[0;34m(session, feed_dict, fetch_list, target_list, options, run_metadata)\u001b[0m\n\u001b[1;32m   1002\u001b[0m         return tf_session.TF_Run(session, options,\n\u001b[1;32m   1003\u001b[0m                                  \u001b[0mfeed_dict\u001b[0m\u001b[0;34m,\u001b[0m \u001b[0mfetch_list\u001b[0m\u001b[0;34m,\u001b[0m \u001b[0mtarget_list\u001b[0m\u001b[0;34m,\u001b[0m\u001b[0;34m\u001b[0m\u001b[0m\n\u001b[0;32m-> 1004\u001b[0;31m                                  status, run_metadata)\n\u001b[0m\u001b[1;32m   1005\u001b[0m \u001b[0;34m\u001b[0m\u001b[0m\n\u001b[1;32m   1006\u001b[0m     \u001b[0;32mdef\u001b[0m \u001b[0m_prun_fn\u001b[0m\u001b[0;34m(\u001b[0m\u001b[0msession\u001b[0m\u001b[0;34m,\u001b[0m \u001b[0mhandle\u001b[0m\u001b[0;34m,\u001b[0m \u001b[0mfeed_dict\u001b[0m\u001b[0;34m,\u001b[0m \u001b[0mfetch_list\u001b[0m\u001b[0;34m)\u001b[0m\u001b[0;34m:\u001b[0m\u001b[0;34m\u001b[0m\u001b[0m\n",
      "\u001b[0;31mKeyboardInterrupt\u001b[0m: "
     ]
    }
   ],
   "source": [
    "real_estate_price_model.fit(x={\n",
    "    'temporal_input' : train_split_df_temporal_features,\n",
    "    'property_input' : train_split_df_property_features,\n",
    "    'locality_input' : train_split_df_locality_features,\n",
    "    'economy_input' : train_split_df_economy_features,\n",
    "    'population_input' : train_split_df_population_features,\n",
    "    'state_input' : train_split_df_categorical_features['state_refractored'],\n",
    "    'material_input' : train_split_df_categorical_features['material'],\n",
    "    'sub_area_input' : train_split_df_categorical_features['sub_area']},\n",
    "                      y = train_split_df['price_doc'].values,\n",
    "                      callbacks=callbacks,\n",
    "                      verbose = 2,\n",
    "                      validation_split=0.25,\n",
    "                      shuffle=True,\n",
    "                      epochs=epochs)"
   ]
  },
  {
   "cell_type": "code",
   "execution_count": null,
   "metadata": {
    "collapsed": true
   },
   "outputs": [],
   "source": []
  },
  {
   "cell_type": "code",
   "execution_count": 241,
   "metadata": {
    "collapsed": false,
    "deletable": true,
    "editable": true
   },
   "outputs": [],
   "source": [
    "real_estate_price_model.load_weights('/mnt/h/Kaggle/Competitions/Russian Bank/models/v'+str(version) + '/weights.36-0.24.hdf5')"
   ]
  },
  {
   "cell_type": "code",
   "execution_count": 242,
   "metadata": {
    "collapsed": false,
    "deletable": true,
    "editable": true
   },
   "outputs": [
    {
     "data": {
      "text/plain": [
       "('Train loss: ', 0.23611889806030417)"
      ]
     },
     "execution_count": 242,
     "metadata": {},
     "output_type": "execute_result"
    }
   ],
   "source": [
    "train_loss = real_estate_price_model.evaluate(x={\n",
    "    'temporal_input' : train_split_df_temporal_features,\n",
    "    'property_input' : train_split_df_property_features,\n",
    "    'locality_input' : train_split_df_locality_features,\n",
    "    'economy_input' : train_split_df_economy_features,\n",
    "    'population_input' : train_split_df_population_features,\n",
    "    'state_input' : train_split_df_categorical_features['state_refractored'],\n",
    "    'material_input' : train_split_df_categorical_features['material'],\n",
    "    'sub_area_input' : train_split_df_categorical_features['sub_area']},\n",
    "                      y = train_split_df['price_doc'].values,\n",
    "                      verbose = 2)\n",
    "'Train loss: ', train_loss"
   ]
  },
  {
   "cell_type": "code",
   "execution_count": 243,
   "metadata": {
    "collapsed": false,
    "deletable": true,
    "editable": true
   },
   "outputs": [
    {
     "data": {
      "text/plain": [
       "('Test loss: ', 0.22209240077674544)"
      ]
     },
     "execution_count": 243,
     "metadata": {},
     "output_type": "execute_result"
    }
   ],
   "source": [
    "test_loss = real_estate_price_model.evaluate(x={\n",
    "    'temporal_input' : test_split_df_temporal_features,\n",
    "    'property_input' : test_split_df_property_features,\n",
    "    'locality_input' : test_split_df_locality_features,\n",
    "    'economy_input' : test_split_df_economy_features,\n",
    "    'population_input' : test_split_df_population_features,\n",
    "    'state_input' : test_split_df_categorical_features['state_refractored'],\n",
    "    'material_input' : test_split_df_categorical_features['material'],\n",
    "    'sub_area_input' : test_split_df_categorical_features['sub_area']},\n",
    "                      y = test_split_df['price_doc'].values,\n",
    "                      verbose = 2)\n",
    "'Test loss: ', test_loss"
   ]
  },
  {
   "cell_type": "code",
   "execution_count": 244,
   "metadata": {
    "collapsed": true,
    "deletable": true,
    "editable": true
   },
   "outputs": [],
   "source": [
    "from sklearn.model_selection import StratifiedKFold\n",
    "from sklearn.model_selection import KFold"
   ]
  },
  {
   "cell_type": "code",
   "execution_count": 245,
   "metadata": {
    "collapsed": true,
    "deletable": true,
    "editable": true
   },
   "outputs": [],
   "source": [
    "seed = 7\n",
    "kfold = StratifiedKFold(n_splits=10, shuffle=True, random_state=seed)"
   ]
  },
  {
   "cell_type": "code",
   "execution_count": 246,
   "metadata": {
    "collapsed": false,
    "deletable": true,
    "editable": true
   },
   "outputs": [
    {
     "data": {
      "text/plain": [
       "10"
      ]
     },
     "execution_count": 246,
     "metadata": {},
     "output_type": "execute_result"
    }
   ],
   "source": [
    "kfold.get_n_splits(final_train_df, final_train_df[[LABEL]].values)"
   ]
  },
  {
   "cell_type": "code",
   "execution_count": 247,
   "metadata": {
    "collapsed": true,
    "deletable": true,
    "editable": true
   },
   "outputs": [
    {
     "name": "stdout",
     "output_type": "stream",
     "text": [
      "Cross validating.... step:  0\n",
      "Temp train loss:  0.235647157916  index:  0\n",
      "Temp test loss:  0.226801033329  index:  0\n",
      "Cross validating.... step:  1\n",
      "Temp train loss:  0.234377946971  index:  1\n",
      "Temp test loss:  0.237636096983  index:  1\n",
      "Cross validating.... step:  2\n",
      "Temp train loss:  0.234240017405  index:  2\n",
      "Temp test loss:  0.238882540602  index:  2\n",
      "Cross validating.... step:  3\n",
      "Temp train loss:  0.234741907712  index:  3\n",
      "Temp test loss:  0.234483955897  index:  3\n",
      "Cross validating.... step:  4\n"
     ]
    },
    {
     "ename": "KeyboardInterrupt",
     "evalue": "",
     "output_type": "error",
     "traceback": [
      "\u001b[0;31m---------------------------------------------------------------------------\u001b[0m",
      "\u001b[0;31mKeyboardInterrupt\u001b[0m                         Traceback (most recent call last)",
      "\u001b[0;32m<ipython-input-247-3075f53583fc>\u001b[0m in \u001b[0;36m<module>\u001b[0;34m()\u001b[0m\n\u001b[1;32m     36\u001b[0m         'sub_area_input' : temp_train_split_df_categorical_features['sub_area']},\n\u001b[1;32m     37\u001b[0m                       \u001b[0my\u001b[0m \u001b[0;34m=\u001b[0m \u001b[0mtemp_y\u001b[0m\u001b[0;34m,\u001b[0m\u001b[0;34m\u001b[0m\u001b[0m\n\u001b[0;32m---> 38\u001b[0;31m                       verbose = 2)\n\u001b[0m\u001b[1;32m     39\u001b[0m     \u001b[0;32mprint\u001b[0m \u001b[0;34m'Temp train loss: '\u001b[0m\u001b[0;34m,\u001b[0m \u001b[0mtemp_train_loss\u001b[0m\u001b[0;34m,\u001b[0m \u001b[0;34m' index: '\u001b[0m\u001b[0;34m,\u001b[0m \u001b[0midx\u001b[0m\u001b[0;34m\u001b[0m\u001b[0m\n\u001b[1;32m     40\u001b[0m     \u001b[0meval_loss_scores\u001b[0m\u001b[0;34m.\u001b[0m\u001b[0mappend\u001b[0m\u001b[0;34m(\u001b[0m\u001b[0mtemp_train_loss\u001b[0m\u001b[0;34m)\u001b[0m\u001b[0;34m\u001b[0m\u001b[0m\n",
      "\u001b[0;32m/usr/local/lib/python2.7/dist-packages/keras/engine/training.pyc\u001b[0m in \u001b[0;36mevaluate\u001b[0;34m(self, x, y, batch_size, verbose, sample_weight)\u001b[0m\n\u001b[1;32m   1535\u001b[0m         return self._test_loop(f, ins,\n\u001b[1;32m   1536\u001b[0m                                \u001b[0mbatch_size\u001b[0m\u001b[0;34m=\u001b[0m\u001b[0mbatch_size\u001b[0m\u001b[0;34m,\u001b[0m\u001b[0;34m\u001b[0m\u001b[0m\n\u001b[0;32m-> 1537\u001b[0;31m                                verbose=verbose)\n\u001b[0m\u001b[1;32m   1538\u001b[0m \u001b[0;34m\u001b[0m\u001b[0m\n\u001b[1;32m   1539\u001b[0m     \u001b[0;32mdef\u001b[0m \u001b[0mpredict\u001b[0m\u001b[0;34m(\u001b[0m\u001b[0mself\u001b[0m\u001b[0;34m,\u001b[0m \u001b[0mx\u001b[0m\u001b[0;34m,\u001b[0m \u001b[0mbatch_size\u001b[0m\u001b[0;34m=\u001b[0m\u001b[0;36m32\u001b[0m\u001b[0;34m,\u001b[0m \u001b[0mverbose\u001b[0m\u001b[0;34m=\u001b[0m\u001b[0;36m0\u001b[0m\u001b[0;34m)\u001b[0m\u001b[0;34m:\u001b[0m\u001b[0;34m\u001b[0m\u001b[0m\n",
      "\u001b[0;32m/usr/local/lib/python2.7/dist-packages/keras/engine/training.pyc\u001b[0m in \u001b[0;36m_test_loop\u001b[0;34m(self, f, ins, batch_size, verbose)\u001b[0m\n\u001b[1;32m   1259\u001b[0m                 \u001b[0mins_batch\u001b[0m \u001b[0;34m=\u001b[0m \u001b[0m_slice_arrays\u001b[0m\u001b[0;34m(\u001b[0m\u001b[0mins\u001b[0m\u001b[0;34m,\u001b[0m \u001b[0mbatch_ids\u001b[0m\u001b[0;34m)\u001b[0m\u001b[0;34m\u001b[0m\u001b[0m\n\u001b[1;32m   1260\u001b[0m \u001b[0;34m\u001b[0m\u001b[0m\n\u001b[0;32m-> 1261\u001b[0;31m             \u001b[0mbatch_outs\u001b[0m \u001b[0;34m=\u001b[0m \u001b[0mf\u001b[0m\u001b[0;34m(\u001b[0m\u001b[0mins_batch\u001b[0m\u001b[0;34m)\u001b[0m\u001b[0;34m\u001b[0m\u001b[0m\n\u001b[0m\u001b[1;32m   1262\u001b[0m             \u001b[0;32mif\u001b[0m \u001b[0misinstance\u001b[0m\u001b[0;34m(\u001b[0m\u001b[0mbatch_outs\u001b[0m\u001b[0;34m,\u001b[0m \u001b[0mlist\u001b[0m\u001b[0;34m)\u001b[0m\u001b[0;34m:\u001b[0m\u001b[0;34m\u001b[0m\u001b[0m\n\u001b[1;32m   1263\u001b[0m                 \u001b[0;32mif\u001b[0m \u001b[0mbatch_index\u001b[0m \u001b[0;34m==\u001b[0m \u001b[0;36m0\u001b[0m\u001b[0;34m:\u001b[0m\u001b[0;34m\u001b[0m\u001b[0m\n",
      "\u001b[0;32m/usr/local/lib/python2.7/dist-packages/keras/backend/tensorflow_backend.pyc\u001b[0m in \u001b[0;36m__call__\u001b[0;34m(self, inputs)\u001b[0m\n\u001b[1;32m   2129\u001b[0m         \u001b[0msession\u001b[0m \u001b[0;34m=\u001b[0m \u001b[0mget_session\u001b[0m\u001b[0;34m(\u001b[0m\u001b[0;34m)\u001b[0m\u001b[0;34m\u001b[0m\u001b[0m\n\u001b[1;32m   2130\u001b[0m         updated = session.run(self.outputs + [self.updates_op],\n\u001b[0;32m-> 2131\u001b[0;31m                               feed_dict=feed_dict)\n\u001b[0m\u001b[1;32m   2132\u001b[0m         \u001b[0;32mreturn\u001b[0m \u001b[0mupdated\u001b[0m\u001b[0;34m[\u001b[0m\u001b[0;34m:\u001b[0m\u001b[0mlen\u001b[0m\u001b[0;34m(\u001b[0m\u001b[0mself\u001b[0m\u001b[0;34m.\u001b[0m\u001b[0moutputs\u001b[0m\u001b[0;34m)\u001b[0m\u001b[0;34m]\u001b[0m\u001b[0;34m\u001b[0m\u001b[0m\n\u001b[1;32m   2133\u001b[0m \u001b[0;34m\u001b[0m\u001b[0m\n",
      "\u001b[0;32m/usr/local/lib/python2.7/dist-packages/tensorflow/python/client/session.pyc\u001b[0m in \u001b[0;36mrun\u001b[0;34m(self, fetches, feed_dict, options, run_metadata)\u001b[0m\n\u001b[1;32m    765\u001b[0m     \u001b[0;32mtry\u001b[0m\u001b[0;34m:\u001b[0m\u001b[0;34m\u001b[0m\u001b[0m\n\u001b[1;32m    766\u001b[0m       result = self._run(None, fetches, feed_dict, options_ptr,\n\u001b[0;32m--> 767\u001b[0;31m                          run_metadata_ptr)\n\u001b[0m\u001b[1;32m    768\u001b[0m       \u001b[0;32mif\u001b[0m \u001b[0mrun_metadata\u001b[0m\u001b[0;34m:\u001b[0m\u001b[0;34m\u001b[0m\u001b[0m\n\u001b[1;32m    769\u001b[0m         \u001b[0mproto_data\u001b[0m \u001b[0;34m=\u001b[0m \u001b[0mtf_session\u001b[0m\u001b[0;34m.\u001b[0m\u001b[0mTF_GetBuffer\u001b[0m\u001b[0;34m(\u001b[0m\u001b[0mrun_metadata_ptr\u001b[0m\u001b[0;34m)\u001b[0m\u001b[0;34m\u001b[0m\u001b[0m\n",
      "\u001b[0;32m/usr/local/lib/python2.7/dist-packages/tensorflow/python/client/session.pyc\u001b[0m in \u001b[0;36m_run\u001b[0;34m(self, handle, fetches, feed_dict, options, run_metadata)\u001b[0m\n\u001b[1;32m    963\u001b[0m     \u001b[0;32mif\u001b[0m \u001b[0mfinal_fetches\u001b[0m \u001b[0;32mor\u001b[0m \u001b[0mfinal_targets\u001b[0m\u001b[0;34m:\u001b[0m\u001b[0;34m\u001b[0m\u001b[0m\n\u001b[1;32m    964\u001b[0m       results = self._do_run(handle, final_targets, final_fetches,\n\u001b[0;32m--> 965\u001b[0;31m                              feed_dict_string, options, run_metadata)\n\u001b[0m\u001b[1;32m    966\u001b[0m     \u001b[0;32melse\u001b[0m\u001b[0;34m:\u001b[0m\u001b[0;34m\u001b[0m\u001b[0m\n\u001b[1;32m    967\u001b[0m       \u001b[0mresults\u001b[0m \u001b[0;34m=\u001b[0m \u001b[0;34m[\u001b[0m\u001b[0;34m]\u001b[0m\u001b[0;34m\u001b[0m\u001b[0m\n",
      "\u001b[0;32m/usr/local/lib/python2.7/dist-packages/tensorflow/python/client/session.pyc\u001b[0m in \u001b[0;36m_do_run\u001b[0;34m(self, handle, target_list, fetch_list, feed_dict, options, run_metadata)\u001b[0m\n\u001b[1;32m   1013\u001b[0m     \u001b[0;32mif\u001b[0m \u001b[0mhandle\u001b[0m \u001b[0;32mis\u001b[0m \u001b[0mNone\u001b[0m\u001b[0;34m:\u001b[0m\u001b[0;34m\u001b[0m\u001b[0m\n\u001b[1;32m   1014\u001b[0m       return self._do_call(_run_fn, self._session, feed_dict, fetch_list,\n\u001b[0;32m-> 1015\u001b[0;31m                            target_list, options, run_metadata)\n\u001b[0m\u001b[1;32m   1016\u001b[0m     \u001b[0;32melse\u001b[0m\u001b[0;34m:\u001b[0m\u001b[0;34m\u001b[0m\u001b[0m\n\u001b[1;32m   1017\u001b[0m       return self._do_call(_prun_fn, self._session, handle, feed_dict,\n",
      "\u001b[0;32m/usr/local/lib/python2.7/dist-packages/tensorflow/python/client/session.pyc\u001b[0m in \u001b[0;36m_do_call\u001b[0;34m(self, fn, *args)\u001b[0m\n\u001b[1;32m   1020\u001b[0m   \u001b[0;32mdef\u001b[0m \u001b[0m_do_call\u001b[0m\u001b[0;34m(\u001b[0m\u001b[0mself\u001b[0m\u001b[0;34m,\u001b[0m \u001b[0mfn\u001b[0m\u001b[0;34m,\u001b[0m \u001b[0;34m*\u001b[0m\u001b[0margs\u001b[0m\u001b[0;34m)\u001b[0m\u001b[0;34m:\u001b[0m\u001b[0;34m\u001b[0m\u001b[0m\n\u001b[1;32m   1021\u001b[0m     \u001b[0;32mtry\u001b[0m\u001b[0;34m:\u001b[0m\u001b[0;34m\u001b[0m\u001b[0m\n\u001b[0;32m-> 1022\u001b[0;31m       \u001b[0;32mreturn\u001b[0m \u001b[0mfn\u001b[0m\u001b[0;34m(\u001b[0m\u001b[0;34m*\u001b[0m\u001b[0margs\u001b[0m\u001b[0;34m)\u001b[0m\u001b[0;34m\u001b[0m\u001b[0m\n\u001b[0m\u001b[1;32m   1023\u001b[0m     \u001b[0;32mexcept\u001b[0m \u001b[0merrors\u001b[0m\u001b[0;34m.\u001b[0m\u001b[0mOpError\u001b[0m \u001b[0;32mas\u001b[0m \u001b[0me\u001b[0m\u001b[0;34m:\u001b[0m\u001b[0;34m\u001b[0m\u001b[0m\n\u001b[1;32m   1024\u001b[0m       \u001b[0mmessage\u001b[0m \u001b[0;34m=\u001b[0m \u001b[0mcompat\u001b[0m\u001b[0;34m.\u001b[0m\u001b[0mas_text\u001b[0m\u001b[0;34m(\u001b[0m\u001b[0me\u001b[0m\u001b[0;34m.\u001b[0m\u001b[0mmessage\u001b[0m\u001b[0;34m)\u001b[0m\u001b[0;34m\u001b[0m\u001b[0m\n",
      "\u001b[0;32m/usr/local/lib/python2.7/dist-packages/tensorflow/python/client/session.pyc\u001b[0m in \u001b[0;36m_run_fn\u001b[0;34m(session, feed_dict, fetch_list, target_list, options, run_metadata)\u001b[0m\n\u001b[1;32m   1002\u001b[0m         return tf_session.TF_Run(session, options,\n\u001b[1;32m   1003\u001b[0m                                  \u001b[0mfeed_dict\u001b[0m\u001b[0;34m,\u001b[0m \u001b[0mfetch_list\u001b[0m\u001b[0;34m,\u001b[0m \u001b[0mtarget_list\u001b[0m\u001b[0;34m,\u001b[0m\u001b[0;34m\u001b[0m\u001b[0m\n\u001b[0;32m-> 1004\u001b[0;31m                                  status, run_metadata)\n\u001b[0m\u001b[1;32m   1005\u001b[0m \u001b[0;34m\u001b[0m\u001b[0m\n\u001b[1;32m   1006\u001b[0m     \u001b[0;32mdef\u001b[0m \u001b[0m_prun_fn\u001b[0m\u001b[0;34m(\u001b[0m\u001b[0msession\u001b[0m\u001b[0;34m,\u001b[0m \u001b[0mhandle\u001b[0m\u001b[0;34m,\u001b[0m \u001b[0mfeed_dict\u001b[0m\u001b[0;34m,\u001b[0m \u001b[0mfetch_list\u001b[0m\u001b[0;34m)\u001b[0m\u001b[0;34m:\u001b[0m\u001b[0;34m\u001b[0m\u001b[0m\n",
      "\u001b[0;31mKeyboardInterrupt\u001b[0m: "
     ]
    }
   ],
   "source": [
    "eval_loss_scores = []\n",
    "\n",
    "for idx, (train, test) in enumerate(kfold.split(final_train_df, final_train_df[[LABEL]].values.ravel())):\n",
    "    \n",
    "    temp_x, temp_y = final_train_df.ix[train, :], final_train_df.ix[train, :][LABEL].values\n",
    "    temp_test_x, temp_test_y = final_train_df.ix[test, :], final_train_df.ix[test, :][LABEL].values\n",
    "    \n",
    "    temp_train_split_df_temporal_features = extract_temporal_features(temp_x)\n",
    "    temp_test_split_df_temporal_features = extract_temporal_features(temp_test_x)\n",
    "    \n",
    "    temp_train_split_df_property_features = extract_property_place_features(temp_x)\n",
    "    temp_test_split_df_property_features = extract_property_place_features(temp_test_x)\n",
    "    \n",
    "    temp_train_split_df_locality_features = extract_locality_features(temp_x)\n",
    "    temp_test_split_df_locality_features = extract_locality_features(temp_test_x)\n",
    "    \n",
    "    temp_train_split_df_economy_features = extract_economy_features(temp_x)\n",
    "    temp_test_split_df_economy_features = extract_economy_features(temp_test_x)\n",
    "    \n",
    "    temp_train_split_df_population_features = extract_population_features(temp_x)\n",
    "    temp_test_split_df_population_features = extract_population_features(temp_test_x)\n",
    "    \n",
    "    temp_train_split_df_categorical_features = extract_categorical_features(temp_x)\n",
    "    temp_test_split_df_categorical_features = extract_categorical_features(temp_test_x)\n",
    "    \n",
    "    print 'Cross validating.... step: ', idx\n",
    "    \n",
    "    temp_train_loss = real_estate_price_model.evaluate(x={\n",
    "        'temporal_input' : temp_train_split_df_temporal_features,\n",
    "        'property_input' : temp_train_split_df_property_features,\n",
    "        'locality_input' : temp_train_split_df_locality_features,\n",
    "        'economy_input' : temp_train_split_df_economy_features,\n",
    "        'population_input' : temp_train_split_df_population_features,\n",
    "        'state_input' : temp_train_split_df_categorical_features['state_refractored'],\n",
    "        'material_input' : temp_train_split_df_categorical_features['material'],\n",
    "        'sub_area_input' : temp_train_split_df_categorical_features['sub_area']},\n",
    "                      y = temp_y,\n",
    "                      verbose = 2)\n",
    "    print 'Temp train loss: ', temp_train_loss, ' index: ', idx\n",
    "    eval_loss_scores.append(temp_train_loss)\n",
    "    \n",
    "    temp_test_loss = real_estate_price_model.evaluate(x={\n",
    "        'temporal_input' : temp_test_split_df_temporal_features,\n",
    "        'property_input' : temp_test_split_df_property_features,\n",
    "        'locality_input' : temp_test_split_df_locality_features,\n",
    "        'economy_input' : temp_test_split_df_economy_features,\n",
    "        'population_input' : temp_test_split_df_population_features,\n",
    "        'state_input' : temp_test_split_df_categorical_features['state_refractored'],\n",
    "        'material_input' : temp_test_split_df_categorical_features['material'],\n",
    "        'sub_area_input' : temp_test_split_df_categorical_features['sub_area']},\n",
    "                      y = temp_test_y,\n",
    "                      verbose = 2)\n",
    "    print 'Temp test loss: ', temp_test_loss, ' index: ', idx\n",
    "    eval_loss_scores.append(temp_test_loss)\n",
    "    \n",
    "    \n",
    "print eval_loss_scores\n"
   ]
  },
  {
   "cell_type": "code",
   "execution_count": null,
   "metadata": {
    "collapsed": false,
    "deletable": true,
    "editable": true
   },
   "outputs": [],
   "source": [
    "print(\"%.2f%% (+/- %.2f%%)\" % (np.mean(eval_loss_scores), np.std(eval_loss_scores)))"
   ]
  },
  {
   "cell_type": "code",
   "execution_count": 248,
   "metadata": {
    "collapsed": true,
    "deletable": true,
    "editable": true
   },
   "outputs": [],
   "source": [
    "real_estate_price_model.save('/mnt/h/Kaggle/Competitions/Russian Bank/models/v'+str(version) + '/trained_model_0.24_val_loss.h5')"
   ]
  },
  {
   "cell_type": "code",
   "execution_count": 117,
   "metadata": {
    "collapsed": true,
    "deletable": true,
    "editable": true
   },
   "outputs": [],
   "source": [
    "from keras.models import load_model"
   ]
  },
  {
   "cell_type": "code",
   "execution_count": 118,
   "metadata": {
    "collapsed": true,
    "deletable": true,
    "editable": true
   },
   "outputs": [],
   "source": [
    "real_estate_price_model_duplicate = load_model('/mnt/h/Kaggle/Competitions/Russian Bank/models/v'+str(version) + '/trained_model_0.22_val_loss.h5', custom_objects={\"root_mean_squared_logarithmic_error\":root_mean_squared_logarithmic_error})"
   ]
  },
  {
   "cell_type": "code",
   "execution_count": 249,
   "metadata": {
    "collapsed": false,
    "deletable": true,
    "editable": true
   },
   "outputs": [],
   "source": [
    "test_temporal_features, test_property_features, test_locality_features, test_economy_features, test_population_features, test_categorical_features = format_input(test_split_df[:10])\n",
    "test_preds = real_estate_price_model.predict(x={\n",
    "    'temporal_input' : test_temporal_features,\n",
    "    'property_input' : test_property_features,\n",
    "    'locality_input' : test_locality_features,\n",
    "    'economy_input' : test_economy_features,\n",
    "    'population_input' : test_population_features,\n",
    "    'state_input' : test_categorical_features['state_refractored'],\n",
    "    'material_input' : test_categorical_features['material'],\n",
    "    'sub_area_input' : test_categorical_features['sub_area']})\n",
    "test_actuals = test_split_df[:10].price_doc.values"
   ]
  },
  {
   "cell_type": "code",
   "execution_count": 250,
   "metadata": {
    "collapsed": false,
    "deletable": true,
    "editable": true
   },
   "outputs": [
    {
     "data": {
      "text/plain": [
       "[(7400000, 6179720.0),\n",
       " (12500000, 12088158.0),\n",
       " (3190980, 3230652.2),\n",
       " (15000000, 12558874.0),\n",
       " (3865945, 3958091.0),\n",
       " (3846600, 3980255.5),\n",
       " (3950000, 3089794.0),\n",
       " (4347200, 4480296.0),\n",
       " (7400000, 6997464.0),\n",
       " (6238400, 5090870.0)]"
      ]
     },
     "execution_count": 250,
     "metadata": {},
     "output_type": "execute_result"
    }
   ],
   "source": [
    "zip(test_actuals, test_preds.ravel())"
   ]
  },
  {
   "cell_type": "code",
   "execution_count": 251,
   "metadata": {
    "collapsed": true,
    "deletable": true,
    "editable": true
   },
   "outputs": [],
   "source": [
    "kaggle_test = pd.read_csv(\"/mnt/h/Kaggle/Competitions/Russian Bank/data/test.csv/test.csv\")"
   ]
  },
  {
   "cell_type": "code",
   "execution_count": 252,
   "metadata": {
    "collapsed": false,
    "deletable": true,
    "editable": true
   },
   "outputs": [
    {
     "data": {
      "text/html": [
       "<div>\n",
       "<table border=\"1\" class=\"dataframe\">\n",
       "  <thead>\n",
       "    <tr style=\"text-align: right;\">\n",
       "      <th></th>\n",
       "      <th>id</th>\n",
       "      <th>timestamp</th>\n",
       "      <th>full_sq</th>\n",
       "      <th>life_sq</th>\n",
       "      <th>floor</th>\n",
       "      <th>max_floor</th>\n",
       "      <th>material</th>\n",
       "      <th>build_year</th>\n",
       "      <th>num_room</th>\n",
       "      <th>kitch_sq</th>\n",
       "      <th>...</th>\n",
       "      <th>cafe_count_5000_price_1500</th>\n",
       "      <th>cafe_count_5000_price_2500</th>\n",
       "      <th>cafe_count_5000_price_4000</th>\n",
       "      <th>cafe_count_5000_price_high</th>\n",
       "      <th>big_church_count_5000</th>\n",
       "      <th>church_count_5000</th>\n",
       "      <th>mosque_count_5000</th>\n",
       "      <th>leisure_count_5000</th>\n",
       "      <th>sport_count_5000</th>\n",
       "      <th>market_count_5000</th>\n",
       "    </tr>\n",
       "  </thead>\n",
       "  <tbody>\n",
       "    <tr>\n",
       "      <th>0</th>\n",
       "      <td>30474</td>\n",
       "      <td>2015-07-01</td>\n",
       "      <td>39.0</td>\n",
       "      <td>20.7</td>\n",
       "      <td>2</td>\n",
       "      <td>9</td>\n",
       "      <td>1</td>\n",
       "      <td>1998.0</td>\n",
       "      <td>1</td>\n",
       "      <td>8.9</td>\n",
       "      <td>...</td>\n",
       "      <td>8</td>\n",
       "      <td>0</td>\n",
       "      <td>0</td>\n",
       "      <td>0</td>\n",
       "      <td>1</td>\n",
       "      <td>10</td>\n",
       "      <td>1</td>\n",
       "      <td>0</td>\n",
       "      <td>14</td>\n",
       "      <td>1</td>\n",
       "    </tr>\n",
       "    <tr>\n",
       "      <th>1</th>\n",
       "      <td>30475</td>\n",
       "      <td>2015-07-01</td>\n",
       "      <td>79.2</td>\n",
       "      <td>NaN</td>\n",
       "      <td>8</td>\n",
       "      <td>17</td>\n",
       "      <td>1</td>\n",
       "      <td>0.0</td>\n",
       "      <td>3</td>\n",
       "      <td>1.0</td>\n",
       "      <td>...</td>\n",
       "      <td>4</td>\n",
       "      <td>1</td>\n",
       "      <td>1</td>\n",
       "      <td>0</td>\n",
       "      <td>2</td>\n",
       "      <td>11</td>\n",
       "      <td>0</td>\n",
       "      <td>1</td>\n",
       "      <td>12</td>\n",
       "      <td>1</td>\n",
       "    </tr>\n",
       "    <tr>\n",
       "      <th>2</th>\n",
       "      <td>30476</td>\n",
       "      <td>2015-07-01</td>\n",
       "      <td>40.5</td>\n",
       "      <td>25.1</td>\n",
       "      <td>3</td>\n",
       "      <td>5</td>\n",
       "      <td>2</td>\n",
       "      <td>1960.0</td>\n",
       "      <td>2</td>\n",
       "      <td>4.8</td>\n",
       "      <td>...</td>\n",
       "      <td>42</td>\n",
       "      <td>11</td>\n",
       "      <td>4</td>\n",
       "      <td>0</td>\n",
       "      <td>10</td>\n",
       "      <td>21</td>\n",
       "      <td>0</td>\n",
       "      <td>10</td>\n",
       "      <td>71</td>\n",
       "      <td>11</td>\n",
       "    </tr>\n",
       "    <tr>\n",
       "      <th>3</th>\n",
       "      <td>30477</td>\n",
       "      <td>2015-07-01</td>\n",
       "      <td>62.8</td>\n",
       "      <td>36.0</td>\n",
       "      <td>17</td>\n",
       "      <td>17</td>\n",
       "      <td>1</td>\n",
       "      <td>2016.0</td>\n",
       "      <td>2</td>\n",
       "      <td>62.8</td>\n",
       "      <td>...</td>\n",
       "      <td>1</td>\n",
       "      <td>1</td>\n",
       "      <td>2</td>\n",
       "      <td>0</td>\n",
       "      <td>0</td>\n",
       "      <td>10</td>\n",
       "      <td>0</td>\n",
       "      <td>0</td>\n",
       "      <td>2</td>\n",
       "      <td>0</td>\n",
       "    </tr>\n",
       "    <tr>\n",
       "      <th>4</th>\n",
       "      <td>30478</td>\n",
       "      <td>2015-07-01</td>\n",
       "      <td>40.0</td>\n",
       "      <td>40.0</td>\n",
       "      <td>17</td>\n",
       "      <td>17</td>\n",
       "      <td>1</td>\n",
       "      <td>0.0</td>\n",
       "      <td>1</td>\n",
       "      <td>1.0</td>\n",
       "      <td>...</td>\n",
       "      <td>5</td>\n",
       "      <td>1</td>\n",
       "      <td>1</td>\n",
       "      <td>0</td>\n",
       "      <td>2</td>\n",
       "      <td>12</td>\n",
       "      <td>0</td>\n",
       "      <td>1</td>\n",
       "      <td>11</td>\n",
       "      <td>1</td>\n",
       "    </tr>\n",
       "  </tbody>\n",
       "</table>\n",
       "<p>5 rows × 291 columns</p>\n",
       "</div>"
      ],
      "text/plain": [
       "      id   timestamp  full_sq  life_sq  floor  max_floor  material  \\\n",
       "0  30474  2015-07-01     39.0     20.7      2          9         1   \n",
       "1  30475  2015-07-01     79.2      NaN      8         17         1   \n",
       "2  30476  2015-07-01     40.5     25.1      3          5         2   \n",
       "3  30477  2015-07-01     62.8     36.0     17         17         1   \n",
       "4  30478  2015-07-01     40.0     40.0     17         17         1   \n",
       "\n",
       "   build_year  num_room  kitch_sq        ...          \\\n",
       "0      1998.0         1       8.9        ...           \n",
       "1         0.0         3       1.0        ...           \n",
       "2      1960.0         2       4.8        ...           \n",
       "3      2016.0         2      62.8        ...           \n",
       "4         0.0         1       1.0        ...           \n",
       "\n",
       "   cafe_count_5000_price_1500 cafe_count_5000_price_2500  \\\n",
       "0                           8                          0   \n",
       "1                           4                          1   \n",
       "2                          42                         11   \n",
       "3                           1                          1   \n",
       "4                           5                          1   \n",
       "\n",
       "  cafe_count_5000_price_4000  cafe_count_5000_price_high  \\\n",
       "0                          0                           0   \n",
       "1                          1                           0   \n",
       "2                          4                           0   \n",
       "3                          2                           0   \n",
       "4                          1                           0   \n",
       "\n",
       "   big_church_count_5000  church_count_5000  mosque_count_5000  \\\n",
       "0                      1                 10                  1   \n",
       "1                      2                 11                  0   \n",
       "2                     10                 21                  0   \n",
       "3                      0                 10                  0   \n",
       "4                      2                 12                  0   \n",
       "\n",
       "   leisure_count_5000  sport_count_5000  market_count_5000  \n",
       "0                   0                14                  1  \n",
       "1                   1                12                  1  \n",
       "2                  10                71                 11  \n",
       "3                   0                 2                  0  \n",
       "4                   1                11                  1  \n",
       "\n",
       "[5 rows x 291 columns]"
      ]
     },
     "execution_count": 252,
     "metadata": {},
     "output_type": "execute_result"
    }
   ],
   "source": [
    "kaggle_test.head()"
   ]
  },
  {
   "cell_type": "code",
   "execution_count": 253,
   "metadata": {
    "collapsed": true,
    "deletable": true,
    "editable": true
   },
   "outputs": [],
   "source": [
    "macro_df = pd.read_csv(\"/mnt/h/Kaggle/Competitions/Russian Bank/data/macro.csv/macro.csv\")"
   ]
  },
  {
   "cell_type": "code",
   "execution_count": 254,
   "metadata": {
    "collapsed": true,
    "deletable": true,
    "editable": true
   },
   "outputs": [],
   "source": [
    "final_kaggle_df = pd.merge(kaggle_test, macro_df, on='timestamp')"
   ]
  },
  {
   "cell_type": "code",
   "execution_count": 255,
   "metadata": {
    "collapsed": false,
    "deletable": true,
    "editable": true
   },
   "outputs": [
    {
     "data": {
      "text/html": [
       "<div>\n",
       "<table border=\"1\" class=\"dataframe\">\n",
       "  <thead>\n",
       "    <tr style=\"text-align: right;\">\n",
       "      <th></th>\n",
       "      <th>id</th>\n",
       "      <th>timestamp</th>\n",
       "      <th>full_sq</th>\n",
       "      <th>life_sq</th>\n",
       "      <th>floor</th>\n",
       "      <th>max_floor</th>\n",
       "      <th>material</th>\n",
       "      <th>build_year</th>\n",
       "      <th>num_room</th>\n",
       "      <th>kitch_sq</th>\n",
       "      <th>...</th>\n",
       "      <th>provision_retail_space_modern_sqm</th>\n",
       "      <th>turnover_catering_per_cap</th>\n",
       "      <th>theaters_viewers_per_1000_cap</th>\n",
       "      <th>seats_theather_rfmin_per_100000_cap</th>\n",
       "      <th>museum_visitis_per_100_cap</th>\n",
       "      <th>bandwidth_sports</th>\n",
       "      <th>population_reg_sports_share</th>\n",
       "      <th>students_reg_sports_share</th>\n",
       "      <th>apartment_build</th>\n",
       "      <th>apartment_fund_sqm</th>\n",
       "    </tr>\n",
       "  </thead>\n",
       "  <tbody>\n",
       "    <tr>\n",
       "      <th>0</th>\n",
       "      <td>30474</td>\n",
       "      <td>2015-07-01</td>\n",
       "      <td>39.0</td>\n",
       "      <td>20.7</td>\n",
       "      <td>2</td>\n",
       "      <td>9</td>\n",
       "      <td>1</td>\n",
       "      <td>1998.0</td>\n",
       "      <td>1</td>\n",
       "      <td>8.9</td>\n",
       "      <td>...</td>\n",
       "      <td>NaN</td>\n",
       "      <td>10805.0</td>\n",
       "      <td>NaN</td>\n",
       "      <td>0.45888</td>\n",
       "      <td>NaN</td>\n",
       "      <td>463938.0</td>\n",
       "      <td>NaN</td>\n",
       "      <td>NaN</td>\n",
       "      <td>NaN</td>\n",
       "      <td>234576.9</td>\n",
       "    </tr>\n",
       "    <tr>\n",
       "      <th>1</th>\n",
       "      <td>30475</td>\n",
       "      <td>2015-07-01</td>\n",
       "      <td>79.2</td>\n",
       "      <td>NaN</td>\n",
       "      <td>8</td>\n",
       "      <td>17</td>\n",
       "      <td>1</td>\n",
       "      <td>0.0</td>\n",
       "      <td>3</td>\n",
       "      <td>1.0</td>\n",
       "      <td>...</td>\n",
       "      <td>NaN</td>\n",
       "      <td>10805.0</td>\n",
       "      <td>NaN</td>\n",
       "      <td>0.45888</td>\n",
       "      <td>NaN</td>\n",
       "      <td>463938.0</td>\n",
       "      <td>NaN</td>\n",
       "      <td>NaN</td>\n",
       "      <td>NaN</td>\n",
       "      <td>234576.9</td>\n",
       "    </tr>\n",
       "    <tr>\n",
       "      <th>2</th>\n",
       "      <td>30476</td>\n",
       "      <td>2015-07-01</td>\n",
       "      <td>40.5</td>\n",
       "      <td>25.1</td>\n",
       "      <td>3</td>\n",
       "      <td>5</td>\n",
       "      <td>2</td>\n",
       "      <td>1960.0</td>\n",
       "      <td>2</td>\n",
       "      <td>4.8</td>\n",
       "      <td>...</td>\n",
       "      <td>NaN</td>\n",
       "      <td>10805.0</td>\n",
       "      <td>NaN</td>\n",
       "      <td>0.45888</td>\n",
       "      <td>NaN</td>\n",
       "      <td>463938.0</td>\n",
       "      <td>NaN</td>\n",
       "      <td>NaN</td>\n",
       "      <td>NaN</td>\n",
       "      <td>234576.9</td>\n",
       "    </tr>\n",
       "    <tr>\n",
       "      <th>3</th>\n",
       "      <td>30477</td>\n",
       "      <td>2015-07-01</td>\n",
       "      <td>62.8</td>\n",
       "      <td>36.0</td>\n",
       "      <td>17</td>\n",
       "      <td>17</td>\n",
       "      <td>1</td>\n",
       "      <td>2016.0</td>\n",
       "      <td>2</td>\n",
       "      <td>62.8</td>\n",
       "      <td>...</td>\n",
       "      <td>NaN</td>\n",
       "      <td>10805.0</td>\n",
       "      <td>NaN</td>\n",
       "      <td>0.45888</td>\n",
       "      <td>NaN</td>\n",
       "      <td>463938.0</td>\n",
       "      <td>NaN</td>\n",
       "      <td>NaN</td>\n",
       "      <td>NaN</td>\n",
       "      <td>234576.9</td>\n",
       "    </tr>\n",
       "    <tr>\n",
       "      <th>4</th>\n",
       "      <td>30478</td>\n",
       "      <td>2015-07-01</td>\n",
       "      <td>40.0</td>\n",
       "      <td>40.0</td>\n",
       "      <td>17</td>\n",
       "      <td>17</td>\n",
       "      <td>1</td>\n",
       "      <td>0.0</td>\n",
       "      <td>1</td>\n",
       "      <td>1.0</td>\n",
       "      <td>...</td>\n",
       "      <td>NaN</td>\n",
       "      <td>10805.0</td>\n",
       "      <td>NaN</td>\n",
       "      <td>0.45888</td>\n",
       "      <td>NaN</td>\n",
       "      <td>463938.0</td>\n",
       "      <td>NaN</td>\n",
       "      <td>NaN</td>\n",
       "      <td>NaN</td>\n",
       "      <td>234576.9</td>\n",
       "    </tr>\n",
       "  </tbody>\n",
       "</table>\n",
       "<p>5 rows × 390 columns</p>\n",
       "</div>"
      ],
      "text/plain": [
       "      id   timestamp  full_sq  life_sq  floor  max_floor  material  \\\n",
       "0  30474  2015-07-01     39.0     20.7      2          9         1   \n",
       "1  30475  2015-07-01     79.2      NaN      8         17         1   \n",
       "2  30476  2015-07-01     40.5     25.1      3          5         2   \n",
       "3  30477  2015-07-01     62.8     36.0     17         17         1   \n",
       "4  30478  2015-07-01     40.0     40.0     17         17         1   \n",
       "\n",
       "   build_year  num_room  kitch_sq         ...          \\\n",
       "0      1998.0         1       8.9         ...           \n",
       "1         0.0         3       1.0         ...           \n",
       "2      1960.0         2       4.8         ...           \n",
       "3      2016.0         2      62.8         ...           \n",
       "4         0.0         1       1.0         ...           \n",
       "\n",
       "   provision_retail_space_modern_sqm turnover_catering_per_cap  \\\n",
       "0                                NaN                   10805.0   \n",
       "1                                NaN                   10805.0   \n",
       "2                                NaN                   10805.0   \n",
       "3                                NaN                   10805.0   \n",
       "4                                NaN                   10805.0   \n",
       "\n",
       "  theaters_viewers_per_1000_cap  seats_theather_rfmin_per_100000_cap  \\\n",
       "0                           NaN                              0.45888   \n",
       "1                           NaN                              0.45888   \n",
       "2                           NaN                              0.45888   \n",
       "3                           NaN                              0.45888   \n",
       "4                           NaN                              0.45888   \n",
       "\n",
       "   museum_visitis_per_100_cap  bandwidth_sports  population_reg_sports_share  \\\n",
       "0                         NaN          463938.0                          NaN   \n",
       "1                         NaN          463938.0                          NaN   \n",
       "2                         NaN          463938.0                          NaN   \n",
       "3                         NaN          463938.0                          NaN   \n",
       "4                         NaN          463938.0                          NaN   \n",
       "\n",
       "   students_reg_sports_share  apartment_build  apartment_fund_sqm  \n",
       "0                        NaN              NaN            234576.9  \n",
       "1                        NaN              NaN            234576.9  \n",
       "2                        NaN              NaN            234576.9  \n",
       "3                        NaN              NaN            234576.9  \n",
       "4                        NaN              NaN            234576.9  \n",
       "\n",
       "[5 rows x 390 columns]"
      ]
     },
     "execution_count": 255,
     "metadata": {},
     "output_type": "execute_result"
    }
   ],
   "source": [
    "final_kaggle_df.head()"
   ]
  },
  {
   "cell_type": "code",
   "execution_count": 256,
   "metadata": {
    "collapsed": true,
    "deletable": true,
    "editable": true
   },
   "outputs": [],
   "source": [
    "final_kaggle_df = prepare_dataset(final_kaggle_df)"
   ]
  },
  {
   "cell_type": "code",
   "execution_count": 257,
   "metadata": {
    "collapsed": true,
    "deletable": true,
    "editable": true
   },
   "outputs": [],
   "source": [
    "for continuous_norm_col in normalize_columns:\n",
    "    scaler = norm_scalers[continuous_norm_col]\n",
    "    scaled_values = scaler.transform(final_kaggle_df[[continuous_norm_col]].values)\n",
    "    final_kaggle_df[continuous_norm_col + \"_scaled_feature\"] = scaled_values"
   ]
  },
  {
   "cell_type": "code",
   "execution_count": 258,
   "metadata": {
    "collapsed": true,
    "deletable": true,
    "editable": true
   },
   "outputs": [],
   "source": [
    "for one_hot_col in one_hot_cols:\n",
    "    l_scaler = ont_hot_scalers[one_hot_col][0]\n",
    "    scaler = ont_hot_scalers[one_hot_col][1]\n",
    "    r = l_scaler.transform(final_kaggle_df[[one_hot_col]].values)\n",
    "    r = np.expand_dims(r, axis=1)\n",
    "    scaled_values = scaler.transform(r)\n",
    "    final_kaggle_df[one_hot_col + \"_scaled_feature\"] = list(scaled_values)"
   ]
  },
  {
   "cell_type": "code",
   "execution_count": 259,
   "metadata": {
    "collapsed": true,
    "deletable": true,
    "editable": true
   },
   "outputs": [],
   "source": [
    "for label_col in label_cols:\n",
    "    label_enc = label_scalers[label_col]\n",
    "    encoded_values = label_enc.transform(final_kaggle_df[[label_col]].values)\n",
    "    final_kaggle_df[label_col + \"_scaled_feature\"] = encoded_values"
   ]
  },
  {
   "cell_type": "code",
   "execution_count": 260,
   "metadata": {
    "collapsed": false,
    "deletable": true,
    "editable": true
   },
   "outputs": [
    {
     "data": {
      "text/plain": [
       "['micex_cbi_tr_scaled_feature',\n",
       " 'unemployment_scaled_feature',\n",
       " 'apartment_build_scaled_feature',\n",
       " 'railroad_station_avto_min_scaled_feature',\n",
       " 'rts_scaled_feature',\n",
       " 'pop_migration_scaled_feature',\n",
       " 'work_all_scaled_feature',\n",
       " 'max_floor_scaled_feature',\n",
       " 'housing_fund_sqm_scaled_feature',\n",
       " 'heating_share_scaled_feature',\n",
       " 'catering_km_scaled_feature',\n",
       " 'zd_vokzaly_avto_km_scaled_feature',\n",
       " 'mortality_scaled_feature',\n",
       " 'water_km_scaled_feature',\n",
       " 'green_part_1000_scaled_feature',\n",
       " 'deposits_rate_scaled_feature',\n",
       " 'park_km_scaled_feature',\n",
       " 'big_road1_km_scaled_feature',\n",
       " 'hospice_morgue_km_scaled_feature',\n",
       " 'metro_km_avto_scaled_feature',\n",
       " 'ekder_male_scaled_feature',\n",
       " 'female_f_scaled_feature',\n",
       " 'deposits_growth_scaled_feature',\n",
       " 'usdrub_scaled_feature',\n",
       " 'deposits_value_scaled_feature',\n",
       " 'gdp_annual_growth_scaled_feature',\n",
       " 'big_church_km_scaled_feature',\n",
       " 'exhibition_km_scaled_feature',\n",
       " 'area_m_scaled_feature',\n",
       " 'young_male_scaled_feature',\n",
       " 'ekder_all_scaled_feature',\n",
       " 'divorce_rate_scaled_feature',\n",
       " 'employment_scaled_feature',\n",
       " 'hot_water_share_scaled_feature',\n",
       " 'brent_scaled_feature',\n",
       " 'income_per_cap_scaled_feature',\n",
       " 'incineration_km_scaled_feature',\n",
       " 'full_sq_scaled_feature',\n",
       " 'mosque_km_scaled_feature',\n",
       " 'rent_price_3room_eco_scaled_feature',\n",
       " 'industrial_km_scaled_feature',\n",
       " 'real_dispos_income_per_cap_growth_scaled_feature',\n",
       " 'young_all_scaled_feature',\n",
       " 'work_male_scaled_feature',\n",
       " 'childbirth_scaled_feature',\n",
       " 'mortgage_growth_scaled_feature',\n",
       " 'power_transmission_line_km_scaled_feature',\n",
       " 'water_treatment_km_scaled_feature',\n",
       " 'university_km_scaled_feature',\n",
       " 'church_synagogue_km_scaled_feature',\n",
       " 'construction_value_scaled_feature',\n",
       " 'mortgage_value_scaled_feature',\n",
       " 'green_zone_km_scaled_feature',\n",
       " 'indust_part_scaled_feature',\n",
       " 'pop_natural_increase_scaled_feature',\n",
       " 'timestamp_month_scaled_feature',\n",
       " 'metro_min_avto_scaled_feature',\n",
       " 'oil_urals_scaled_feature',\n",
       " 'ppi_scaled_feature',\n",
       " 'labor_force_scaled_feature',\n",
       " 'timestamp_year_scaled_feature',\n",
       " 'work_female_scaled_feature',\n",
       " 'railroad_km_scaled_feature',\n",
       " 'mortgage_rate_scaled_feature',\n",
       " 'oil_chemistry_km_scaled_feature',\n",
       " 'nuclear_reactor_km_scaled_feature',\n",
       " 'public_transport_station_km_scaled_feature',\n",
       " 'timestamp_day_scaled_feature',\n",
       " 'green_part_1500_scaled_feature',\n",
       " 'old_house_share_scaled_feature',\n",
       " 'rent_price_2room_eco_scaled_feature',\n",
       " 'water_pipes_share_scaled_feature',\n",
       " 'ttk_km_scaled_feature',\n",
       " 'build_year_scaled_feature',\n",
       " 'life_sq_scaled_feature',\n",
       " 'baths_share_scaled_feature',\n",
       " 'additional_education_km_scaled_feature',\n",
       " 'rent_price_1room_bus_scaled_feature',\n",
       " 'kindergarten_km_scaled_feature',\n",
       " 'average_provision_of_build_contract_scaled_feature',\n",
       " 'gdp_quart_growth_scaled_feature',\n",
       " 'salary_growth_scaled_feature',\n",
       " 'gas_share_scaled_feature',\n",
       " 'gdp_quart_scaled_feature',\n",
       " 'num_room_scaled_feature',\n",
       " 'cemetery_km_scaled_feature',\n",
       " 'big_road2_km_scaled_feature',\n",
       " 'young_female_scaled_feature',\n",
       " 'incidence_population_scaled_feature',\n",
       " 'gdp_deflator_scaled_feature',\n",
       " 'ekder_female_scaled_feature',\n",
       " 'pop_total_inc_scaled_feature',\n",
       " 'kitch_sq_scaled_feature',\n",
       " 'rent_price_2room_bus_scaled_feature',\n",
       " 'grp_growth_scaled_feature',\n",
       " 'swim_pool_km_scaled_feature',\n",
       " 'gdp_annual_scaled_feature',\n",
       " 'grp_scaled_feature',\n",
       " 'floor_scaled_feature',\n",
       " 'lodging_sqm_per_cap_scaled_feature',\n",
       " 'school_km_scaled_feature',\n",
       " 'rent_price_1room_eco_scaled_feature',\n",
       " 'public_healthcare_km_scaled_feature',\n",
       " 'ts_km_scaled_feature',\n",
       " 'sewerage_share_scaled_feature',\n",
       " 'shopping_centers_km_scaled_feature',\n",
       " 'male_f_scaled_feature',\n",
       " 'preschool_km_scaled_feature',\n",
       " 'apartment_fund_sqm_scaled_feature',\n",
       " 'electric_stove_share_scaled_feature',\n",
       " 'salary_scaled_feature',\n",
       " 'cpi_scaled_feature',\n",
       " 'rent_price_4+room_bus_scaled_feature',\n",
       " 'micex_scaled_feature',\n",
       " 'rent_price_3room_bus_scaled_feature',\n",
       " 'average_provision_of_build_contract_moscow_scaled_feature',\n",
       " 'average_life_exp_scaled_feature',\n",
       " 'marriages_per_1000_cap_scaled_feature',\n",
       " 'material_scaled_feature',\n",
       " 'state_refractored_scaled_feature',\n",
       " 'sub_area_scaled_feature',\n",
       " 'big_market_raion_scaled_feature',\n",
       " 'nuclear_reactor_raion_scaled_feature',\n",
       " 'thermal_power_plant_raion_scaled_feature',\n",
       " 'detention_facility_raion_scaled_feature',\n",
       " 'full_all_scaled_feature',\n",
       " 'shopping_centers_raion_scaled_feature',\n",
       " 'office_raion_scaled_feature',\n",
       " 'healthcare_centers_raion_scaled_feature',\n",
       " 'university_top_20_raion_scaled_feature']"
      ]
     },
     "execution_count": 260,
     "metadata": {},
     "output_type": "execute_result"
    }
   ],
   "source": [
    "[c for c in final_kaggle_df.columns.tolist() if \"_scaled_feature\" in c]"
   ]
  },
  {
   "cell_type": "code",
   "execution_count": 261,
   "metadata": {
    "collapsed": false,
    "deletable": true,
    "editable": true
   },
   "outputs": [],
   "source": [
    "kaggle_temporal_features, kaggle_property_features, kaggle_locality_features, kaggle_economy_features, kaggle_population_features, kaggle_categorical_features = format_input(final_kaggle_df)\n",
    "kaggle_preds = real_estate_price_model.predict(x={\n",
    "    'temporal_input' : kaggle_temporal_features,\n",
    "    'property_input' : kaggle_property_features,\n",
    "    'locality_input' : kaggle_locality_features,\n",
    "    'economy_input' : kaggle_economy_features,\n",
    "    'population_input' : kaggle_population_features,\n",
    "    'state_input' : kaggle_categorical_features['state_refractored'],\n",
    "    'material_input' : kaggle_categorical_features['material'],\n",
    "    'sub_area_input' : kaggle_categorical_features['sub_area']})"
   ]
  },
  {
   "cell_type": "code",
   "execution_count": 262,
   "metadata": {
    "collapsed": false,
    "deletable": true,
    "editable": true
   },
   "outputs": [],
   "source": [
    "final_kaggle_df['price_doc'] = kaggle_preds"
   ]
  },
  {
   "cell_type": "code",
   "execution_count": 263,
   "metadata": {
    "collapsed": false,
    "deletable": true,
    "editable": true
   },
   "outputs": [
    {
     "data": {
      "text/plain": [
       "0        6042252.0\n",
       "1        8217459.0\n",
       "2        5965669.0\n",
       "3        7382386.0\n",
       "4        5672783.0\n",
       "5        9165166.0\n",
       "6        4511050.0\n",
       "7        4288210.0\n",
       "8        5543336.5\n",
       "9        5570649.0\n",
       "10       6241466.5\n",
       "11       5523082.0\n",
       "12       5077549.5\n",
       "13       4998361.5\n",
       "14       5301414.0\n",
       "15       5889269.0\n",
       "16      16721626.0\n",
       "17      16848768.0\n",
       "18       6549974.0\n",
       "19      13665922.0\n",
       "20       7396836.0\n",
       "21       9800647.0\n",
       "22       8584151.0\n",
       "23       8873602.0\n",
       "24       5051827.0\n",
       "25       9663802.0\n",
       "26      12146443.0\n",
       "27       8082218.0\n",
       "28       3539396.0\n",
       "29       7514977.0\n",
       "           ...    \n",
       "7632     8122610.0\n",
       "7633     8189858.5\n",
       "7634     8909388.0\n",
       "7635     9172148.0\n",
       "7636     8368940.0\n",
       "7637     8726452.0\n",
       "7638     8429496.0\n",
       "7639     8556656.0\n",
       "7640     8763647.0\n",
       "7641     8438039.0\n",
       "7642     9252993.0\n",
       "7643     8584738.0\n",
       "7644     9774542.0\n",
       "7645     8488224.0\n",
       "7646     9712388.0\n",
       "7647     8626014.0\n",
       "7648     9277106.0\n",
       "7649     8622577.0\n",
       "7650     8783862.0\n",
       "7651     9199328.0\n",
       "7652     9574531.0\n",
       "7653     8963624.0\n",
       "7654     7878257.5\n",
       "7655     8245738.0\n",
       "7656     8886816.0\n",
       "7657     8764076.0\n",
       "7658     8779226.0\n",
       "7659     8134080.5\n",
       "7660     8307954.0\n",
       "7661     9205884.0\n",
       "Name: price_doc, dtype: float32"
      ]
     },
     "execution_count": 263,
     "metadata": {},
     "output_type": "execute_result"
    }
   ],
   "source": [
    "final_kaggle_df['price_doc']"
   ]
  },
  {
   "cell_type": "code",
   "execution_count": 264,
   "metadata": {
    "collapsed": false,
    "deletable": true,
    "editable": true
   },
   "outputs": [
    {
     "data": {
      "text/html": [
       "<div>\n",
       "<table border=\"1\" class=\"dataframe\">\n",
       "  <thead>\n",
       "    <tr style=\"text-align: right;\">\n",
       "      <th></th>\n",
       "      <th>id</th>\n",
       "      <th>price_doc</th>\n",
       "    </tr>\n",
       "  </thead>\n",
       "  <tbody>\n",
       "    <tr>\n",
       "      <th>0</th>\n",
       "      <td>30474</td>\n",
       "      <td>6042252.0</td>\n",
       "    </tr>\n",
       "    <tr>\n",
       "      <th>1</th>\n",
       "      <td>30475</td>\n",
       "      <td>8217459.0</td>\n",
       "    </tr>\n",
       "    <tr>\n",
       "      <th>2</th>\n",
       "      <td>30476</td>\n",
       "      <td>5965669.0</td>\n",
       "    </tr>\n",
       "    <tr>\n",
       "      <th>3</th>\n",
       "      <td>30477</td>\n",
       "      <td>7382386.0</td>\n",
       "    </tr>\n",
       "    <tr>\n",
       "      <th>4</th>\n",
       "      <td>30478</td>\n",
       "      <td>5672783.0</td>\n",
       "    </tr>\n",
       "    <tr>\n",
       "      <th>5</th>\n",
       "      <td>30479</td>\n",
       "      <td>9165166.0</td>\n",
       "    </tr>\n",
       "    <tr>\n",
       "      <th>6</th>\n",
       "      <td>30480</td>\n",
       "      <td>4511050.0</td>\n",
       "    </tr>\n",
       "    <tr>\n",
       "      <th>7</th>\n",
       "      <td>30481</td>\n",
       "      <td>4288210.0</td>\n",
       "    </tr>\n",
       "    <tr>\n",
       "      <th>8</th>\n",
       "      <td>30482</td>\n",
       "      <td>5543336.5</td>\n",
       "    </tr>\n",
       "    <tr>\n",
       "      <th>9</th>\n",
       "      <td>30483</td>\n",
       "      <td>5570649.0</td>\n",
       "    </tr>\n",
       "    <tr>\n",
       "      <th>10</th>\n",
       "      <td>30484</td>\n",
       "      <td>6241466.5</td>\n",
       "    </tr>\n",
       "    <tr>\n",
       "      <th>11</th>\n",
       "      <td>30485</td>\n",
       "      <td>5523082.0</td>\n",
       "    </tr>\n",
       "    <tr>\n",
       "      <th>12</th>\n",
       "      <td>30486</td>\n",
       "      <td>5077549.5</td>\n",
       "    </tr>\n",
       "    <tr>\n",
       "      <th>13</th>\n",
       "      <td>30487</td>\n",
       "      <td>4998361.5</td>\n",
       "    </tr>\n",
       "    <tr>\n",
       "      <th>14</th>\n",
       "      <td>30488</td>\n",
       "      <td>5301414.0</td>\n",
       "    </tr>\n",
       "    <tr>\n",
       "      <th>15</th>\n",
       "      <td>30489</td>\n",
       "      <td>5889269.0</td>\n",
       "    </tr>\n",
       "    <tr>\n",
       "      <th>16</th>\n",
       "      <td>30490</td>\n",
       "      <td>16721626.0</td>\n",
       "    </tr>\n",
       "    <tr>\n",
       "      <th>17</th>\n",
       "      <td>30491</td>\n",
       "      <td>16848768.0</td>\n",
       "    </tr>\n",
       "    <tr>\n",
       "      <th>18</th>\n",
       "      <td>30492</td>\n",
       "      <td>6549974.0</td>\n",
       "    </tr>\n",
       "    <tr>\n",
       "      <th>19</th>\n",
       "      <td>30493</td>\n",
       "      <td>13665922.0</td>\n",
       "    </tr>\n",
       "    <tr>\n",
       "      <th>20</th>\n",
       "      <td>30494</td>\n",
       "      <td>7396836.0</td>\n",
       "    </tr>\n",
       "    <tr>\n",
       "      <th>21</th>\n",
       "      <td>30495</td>\n",
       "      <td>9800647.0</td>\n",
       "    </tr>\n",
       "    <tr>\n",
       "      <th>22</th>\n",
       "      <td>30496</td>\n",
       "      <td>8584151.0</td>\n",
       "    </tr>\n",
       "    <tr>\n",
       "      <th>23</th>\n",
       "      <td>30497</td>\n",
       "      <td>8873602.0</td>\n",
       "    </tr>\n",
       "    <tr>\n",
       "      <th>24</th>\n",
       "      <td>30498</td>\n",
       "      <td>5051827.0</td>\n",
       "    </tr>\n",
       "    <tr>\n",
       "      <th>25</th>\n",
       "      <td>30499</td>\n",
       "      <td>9663802.0</td>\n",
       "    </tr>\n",
       "    <tr>\n",
       "      <th>26</th>\n",
       "      <td>30500</td>\n",
       "      <td>12146443.0</td>\n",
       "    </tr>\n",
       "    <tr>\n",
       "      <th>27</th>\n",
       "      <td>30501</td>\n",
       "      <td>8082218.0</td>\n",
       "    </tr>\n",
       "    <tr>\n",
       "      <th>28</th>\n",
       "      <td>30502</td>\n",
       "      <td>3539396.0</td>\n",
       "    </tr>\n",
       "    <tr>\n",
       "      <th>29</th>\n",
       "      <td>30503</td>\n",
       "      <td>7514977.0</td>\n",
       "    </tr>\n",
       "    <tr>\n",
       "      <th>...</th>\n",
       "      <td>...</td>\n",
       "      <td>...</td>\n",
       "    </tr>\n",
       "    <tr>\n",
       "      <th>7632</th>\n",
       "      <td>38106</td>\n",
       "      <td>8122610.0</td>\n",
       "    </tr>\n",
       "    <tr>\n",
       "      <th>7633</th>\n",
       "      <td>38107</td>\n",
       "      <td>8189858.5</td>\n",
       "    </tr>\n",
       "    <tr>\n",
       "      <th>7634</th>\n",
       "      <td>38108</td>\n",
       "      <td>8909388.0</td>\n",
       "    </tr>\n",
       "    <tr>\n",
       "      <th>7635</th>\n",
       "      <td>38109</td>\n",
       "      <td>9172148.0</td>\n",
       "    </tr>\n",
       "    <tr>\n",
       "      <th>7636</th>\n",
       "      <td>38110</td>\n",
       "      <td>8368940.0</td>\n",
       "    </tr>\n",
       "    <tr>\n",
       "      <th>7637</th>\n",
       "      <td>38111</td>\n",
       "      <td>8726452.0</td>\n",
       "    </tr>\n",
       "    <tr>\n",
       "      <th>7638</th>\n",
       "      <td>38112</td>\n",
       "      <td>8429496.0</td>\n",
       "    </tr>\n",
       "    <tr>\n",
       "      <th>7639</th>\n",
       "      <td>38113</td>\n",
       "      <td>8556656.0</td>\n",
       "    </tr>\n",
       "    <tr>\n",
       "      <th>7640</th>\n",
       "      <td>38114</td>\n",
       "      <td>8763647.0</td>\n",
       "    </tr>\n",
       "    <tr>\n",
       "      <th>7641</th>\n",
       "      <td>38115</td>\n",
       "      <td>8438039.0</td>\n",
       "    </tr>\n",
       "    <tr>\n",
       "      <th>7642</th>\n",
       "      <td>38116</td>\n",
       "      <td>9252993.0</td>\n",
       "    </tr>\n",
       "    <tr>\n",
       "      <th>7643</th>\n",
       "      <td>38117</td>\n",
       "      <td>8584738.0</td>\n",
       "    </tr>\n",
       "    <tr>\n",
       "      <th>7644</th>\n",
       "      <td>38118</td>\n",
       "      <td>9774542.0</td>\n",
       "    </tr>\n",
       "    <tr>\n",
       "      <th>7645</th>\n",
       "      <td>38119</td>\n",
       "      <td>8488224.0</td>\n",
       "    </tr>\n",
       "    <tr>\n",
       "      <th>7646</th>\n",
       "      <td>38120</td>\n",
       "      <td>9712388.0</td>\n",
       "    </tr>\n",
       "    <tr>\n",
       "      <th>7647</th>\n",
       "      <td>38121</td>\n",
       "      <td>8626014.0</td>\n",
       "    </tr>\n",
       "    <tr>\n",
       "      <th>7648</th>\n",
       "      <td>38122</td>\n",
       "      <td>9277106.0</td>\n",
       "    </tr>\n",
       "    <tr>\n",
       "      <th>7649</th>\n",
       "      <td>38123</td>\n",
       "      <td>8622577.0</td>\n",
       "    </tr>\n",
       "    <tr>\n",
       "      <th>7650</th>\n",
       "      <td>38124</td>\n",
       "      <td>8783862.0</td>\n",
       "    </tr>\n",
       "    <tr>\n",
       "      <th>7651</th>\n",
       "      <td>38125</td>\n",
       "      <td>9199328.0</td>\n",
       "    </tr>\n",
       "    <tr>\n",
       "      <th>7652</th>\n",
       "      <td>38126</td>\n",
       "      <td>9574531.0</td>\n",
       "    </tr>\n",
       "    <tr>\n",
       "      <th>7653</th>\n",
       "      <td>38127</td>\n",
       "      <td>8963624.0</td>\n",
       "    </tr>\n",
       "    <tr>\n",
       "      <th>7654</th>\n",
       "      <td>38128</td>\n",
       "      <td>7878257.5</td>\n",
       "    </tr>\n",
       "    <tr>\n",
       "      <th>7655</th>\n",
       "      <td>38129</td>\n",
       "      <td>8245738.0</td>\n",
       "    </tr>\n",
       "    <tr>\n",
       "      <th>7656</th>\n",
       "      <td>38130</td>\n",
       "      <td>8886816.0</td>\n",
       "    </tr>\n",
       "    <tr>\n",
       "      <th>7657</th>\n",
       "      <td>38131</td>\n",
       "      <td>8764076.0</td>\n",
       "    </tr>\n",
       "    <tr>\n",
       "      <th>7658</th>\n",
       "      <td>38132</td>\n",
       "      <td>8779226.0</td>\n",
       "    </tr>\n",
       "    <tr>\n",
       "      <th>7659</th>\n",
       "      <td>38133</td>\n",
       "      <td>8134080.5</td>\n",
       "    </tr>\n",
       "    <tr>\n",
       "      <th>7660</th>\n",
       "      <td>38134</td>\n",
       "      <td>8307954.0</td>\n",
       "    </tr>\n",
       "    <tr>\n",
       "      <th>7661</th>\n",
       "      <td>38135</td>\n",
       "      <td>9205884.0</td>\n",
       "    </tr>\n",
       "  </tbody>\n",
       "</table>\n",
       "<p>7662 rows × 2 columns</p>\n",
       "</div>"
      ],
      "text/plain": [
       "         id   price_doc\n",
       "0     30474   6042252.0\n",
       "1     30475   8217459.0\n",
       "2     30476   5965669.0\n",
       "3     30477   7382386.0\n",
       "4     30478   5672783.0\n",
       "5     30479   9165166.0\n",
       "6     30480   4511050.0\n",
       "7     30481   4288210.0\n",
       "8     30482   5543336.5\n",
       "9     30483   5570649.0\n",
       "10    30484   6241466.5\n",
       "11    30485   5523082.0\n",
       "12    30486   5077549.5\n",
       "13    30487   4998361.5\n",
       "14    30488   5301414.0\n",
       "15    30489   5889269.0\n",
       "16    30490  16721626.0\n",
       "17    30491  16848768.0\n",
       "18    30492   6549974.0\n",
       "19    30493  13665922.0\n",
       "20    30494   7396836.0\n",
       "21    30495   9800647.0\n",
       "22    30496   8584151.0\n",
       "23    30497   8873602.0\n",
       "24    30498   5051827.0\n",
       "25    30499   9663802.0\n",
       "26    30500  12146443.0\n",
       "27    30501   8082218.0\n",
       "28    30502   3539396.0\n",
       "29    30503   7514977.0\n",
       "...     ...         ...\n",
       "7632  38106   8122610.0\n",
       "7633  38107   8189858.5\n",
       "7634  38108   8909388.0\n",
       "7635  38109   9172148.0\n",
       "7636  38110   8368940.0\n",
       "7637  38111   8726452.0\n",
       "7638  38112   8429496.0\n",
       "7639  38113   8556656.0\n",
       "7640  38114   8763647.0\n",
       "7641  38115   8438039.0\n",
       "7642  38116   9252993.0\n",
       "7643  38117   8584738.0\n",
       "7644  38118   9774542.0\n",
       "7645  38119   8488224.0\n",
       "7646  38120   9712388.0\n",
       "7647  38121   8626014.0\n",
       "7648  38122   9277106.0\n",
       "7649  38123   8622577.0\n",
       "7650  38124   8783862.0\n",
       "7651  38125   9199328.0\n",
       "7652  38126   9574531.0\n",
       "7653  38127   8963624.0\n",
       "7654  38128   7878257.5\n",
       "7655  38129   8245738.0\n",
       "7656  38130   8886816.0\n",
       "7657  38131   8764076.0\n",
       "7658  38132   8779226.0\n",
       "7659  38133   8134080.5\n",
       "7660  38134   8307954.0\n",
       "7661  38135   9205884.0\n",
       "\n",
       "[7662 rows x 2 columns]"
      ]
     },
     "execution_count": 264,
     "metadata": {},
     "output_type": "execute_result"
    }
   ],
   "source": [
    "final_kaggle_df[['id', 'price_doc']]"
   ]
  },
  {
   "cell_type": "code",
   "execution_count": 265,
   "metadata": {
    "collapsed": true,
    "deletable": true,
    "editable": true
   },
   "outputs": [],
   "source": [
    "final_kaggle_df[['id', 'price_doc']].to_csv(\"/mnt/h/Kaggle/Competitions/Russian Bank/models/v\" + str(version) + \"/submission.csv\", index=False) # output submission csv file"
   ]
  },
  {
   "cell_type": "code",
   "execution_count": null,
   "metadata": {
    "collapsed": true,
    "deletable": true,
    "editable": true
   },
   "outputs": [],
   "source": []
  }
 ],
 "metadata": {
  "kernelspec": {
   "display_name": "Python 2",
   "language": "python",
   "name": "python2"
  },
  "language_info": {
   "codemirror_mode": {
    "name": "ipython",
    "version": 2
   },
   "file_extension": ".py",
   "mimetype": "text/x-python",
   "name": "python",
   "nbconvert_exporter": "python",
   "pygments_lexer": "ipython2",
   "version": "2.7.6"
  }
 },
 "nbformat": 4,
 "nbformat_minor": 2
}
