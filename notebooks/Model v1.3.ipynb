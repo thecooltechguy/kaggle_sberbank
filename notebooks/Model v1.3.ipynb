{
 "cells": [
  {
   "cell_type": "markdown",
   "metadata": {
    "deletable": true,
    "editable": true
   },
   "source": [
    "# Model v1.3"
   ]
  },
  {
   "cell_type": "markdown",
   "metadata": {},
   "source": [
    "## Leaderboard score: 1.65591"
   ]
  },
  {
   "cell_type": "code",
   "execution_count": 2,
   "metadata": {
    "collapsed": false,
    "deletable": true,
    "editable": true
   },
   "outputs": [
    {
     "name": "stderr",
     "output_type": "stream",
     "text": [
      "Using TensorFlow backend.\n"
     ]
    }
   ],
   "source": [
    "from keras.layers import Input, LSTM, Dense, Dropout, Embedding, TimeDistributed, Reshape\n",
    "from keras.layers.advanced_activations import PReLU\n",
    "from keras.layers.normalization import BatchNormalization"
   ]
  },
  {
   "cell_type": "code",
   "execution_count": 3,
   "metadata": {
    "collapsed": true,
    "deletable": true,
    "editable": true
   },
   "outputs": [],
   "source": [
    "from keras.models import Model, Sequential\n",
    "from keras.layers.merge import Concatenate"
   ]
  },
  {
   "cell_type": "code",
   "execution_count": 4,
   "metadata": {
    "collapsed": true,
    "deletable": true,
    "editable": true
   },
   "outputs": [],
   "source": [
    "from keras.callbacks import TensorBoard, ModelCheckpoint, EarlyStopping"
   ]
  },
  {
   "cell_type": "code",
   "execution_count": 5,
   "metadata": {
    "collapsed": true,
    "deletable": true,
    "editable": true
   },
   "outputs": [],
   "source": [
    "import tensorflow as tf\n",
    "from keras import backend as K"
   ]
  },
  {
   "cell_type": "code",
   "execution_count": 6,
   "metadata": {
    "collapsed": true,
    "deletable": true,
    "editable": true
   },
   "outputs": [],
   "source": [
    "from sklearn import preprocessing\n",
    "from sklearn.model_selection import train_test_split"
   ]
  },
  {
   "cell_type": "code",
   "execution_count": 7,
   "metadata": {
    "collapsed": true,
    "deletable": true,
    "editable": true
   },
   "outputs": [],
   "source": [
    "from sklearn_pandas import DataFrameMapper"
   ]
  },
  {
   "cell_type": "code",
   "execution_count": 8,
   "metadata": {
    "collapsed": true,
    "deletable": true,
    "editable": true
   },
   "outputs": [],
   "source": [
    "import pandas as pd\n",
    "import numpy as np"
   ]
  },
  {
   "cell_type": "code",
   "execution_count": 9,
   "metadata": {
    "collapsed": true,
    "deletable": true,
    "editable": true
   },
   "outputs": [],
   "source": [
    "from keras.utils.np_utils import to_categorical"
   ]
  },
  {
   "cell_type": "code",
   "execution_count": 10,
   "metadata": {
    "collapsed": true,
    "deletable": true,
    "editable": true
   },
   "outputs": [],
   "source": [
    "version = 1.3\n",
    "version_str = \"v\" + str(version)"
   ]
  },
  {
   "cell_type": "code",
   "execution_count": 11,
   "metadata": {
    "collapsed": true,
    "deletable": true,
    "editable": true
   },
   "outputs": [],
   "source": [
    "LABEL = \"price_doc\""
   ]
  },
  {
   "cell_type": "code",
   "execution_count": 12,
   "metadata": {
    "collapsed": true,
    "deletable": true,
    "editable": true
   },
   "outputs": [],
   "source": [
    "def prepare_dataset(df, test=False, trunc_fields=False):\n",
    "    global LABEL\n",
    "    t_fields = ['id', 'timestamp', 'full_sq', 'life_sq', 'floor', 'max_floor','material', 'build_year', 'num_room', 'kitch_sq', 'state', 'product_type', 'sub_area', LABEL]\n",
    "    \n",
    "    if not test:\n",
    "        if trunc_fields:\n",
    "            df = df[t_fields.append + LABEL]\n",
    "        else:\n",
    "            df = df\n",
    "    else:\n",
    "        if trunc_fields:\n",
    "            df = df[t_fields]\n",
    "        else:\n",
    "            df = df\n",
    "    \n",
    "    df['timestamp_converted'] = pd.to_datetime(df['timestamp'])\n",
    "    df['timestamp_day'] = df.apply(lambda row: row['timestamp_converted'].day, axis=1)\n",
    "    df['timestamp_month'] = df.apply(lambda row: row['timestamp_converted'].month, axis=1)\n",
    "    df['timestamp_year'] = df.apply(lambda row: row['timestamp_converted'].year, axis=1)\n",
    "    df['state_refractored'] = df.apply( lambda row: 5 if row['state'] == 33 else row['state'] , axis = 1)\n",
    "    \n",
    "    df = df.fillna(0)\n",
    "    \n",
    "    df['state_refractored'] = df['state_refractored'].astype(int)    \n",
    "    df['material'] = df['material'].astype(int)    \n",
    "    return df"
   ]
  },
  {
   "cell_type": "code",
   "execution_count": 13,
   "metadata": {
    "collapsed": false,
    "deletable": true,
    "editable": true
   },
   "outputs": [
    {
     "name": "stderr",
     "output_type": "stream",
     "text": [
      "/usr/local/lib/python2.7/dist-packages/IPython/core/interactiveshell.py:2717: DtypeWarning: Columns (375,378,379) have mixed types. Specify dtype option on import or set low_memory=False.\n",
      "  interactivity=interactivity, compiler=compiler, result=result)\n"
     ]
    }
   ],
   "source": [
    "final_train_df = pd.read_csv(\"/mnt/h/Kaggle/Competitions/Russian Bank/data/final_training_dataset.csv\")"
   ]
  },
  {
   "cell_type": "code",
   "execution_count": 14,
   "metadata": {
    "collapsed": false,
    "deletable": true,
    "editable": true
   },
   "outputs": [],
   "source": [
    "final_train_df = prepare_dataset(final_train_df)"
   ]
  },
  {
   "cell_type": "code",
   "execution_count": 15,
   "metadata": {
    "collapsed": true,
    "deletable": true,
    "editable": true
   },
   "outputs": [],
   "source": [
    "del final_train_df['Unnamed: 0']"
   ]
  },
  {
   "cell_type": "code",
   "execution_count": 16,
   "metadata": {
    "collapsed": false,
    "deletable": true,
    "editable": true
   },
   "outputs": [
    {
     "data": {
      "text/html": [
       "<div>\n",
       "<table border=\"1\" class=\"dataframe\">\n",
       "  <thead>\n",
       "    <tr style=\"text-align: right;\">\n",
       "      <th></th>\n",
       "      <th>id</th>\n",
       "      <th>timestamp</th>\n",
       "      <th>full_sq</th>\n",
       "      <th>life_sq</th>\n",
       "      <th>floor</th>\n",
       "      <th>max_floor</th>\n",
       "      <th>material</th>\n",
       "      <th>build_year</th>\n",
       "      <th>num_room</th>\n",
       "      <th>kitch_sq</th>\n",
       "      <th>...</th>\n",
       "      <th>provision_retail_space_modern_sqm</th>\n",
       "      <th>turnover_catering_per_cap</th>\n",
       "      <th>theaters_viewers_per_1000_cap</th>\n",
       "      <th>seats_theather_rfmin_per_100000_cap</th>\n",
       "      <th>museum_visitis_per_100_cap</th>\n",
       "      <th>bandwidth_sports</th>\n",
       "      <th>population_reg_sports_share</th>\n",
       "      <th>students_reg_sports_share</th>\n",
       "      <th>apartment_build</th>\n",
       "      <th>apartment_fund_sqm</th>\n",
       "    </tr>\n",
       "  </thead>\n",
       "  <tbody>\n",
       "    <tr>\n",
       "      <th>0</th>\n",
       "      <td>1</td>\n",
       "      <td>2011-08-20</td>\n",
       "      <td>43</td>\n",
       "      <td>27.0</td>\n",
       "      <td>4.0</td>\n",
       "      <td>0.0</td>\n",
       "      <td>0</td>\n",
       "      <td>0.0</td>\n",
       "      <td>0.0</td>\n",
       "      <td>0.0</td>\n",
       "      <td>...</td>\n",
       "      <td>271.0</td>\n",
       "      <td>6943.0</td>\n",
       "      <td>565.0</td>\n",
       "      <td>0.45356</td>\n",
       "      <td>1240.0</td>\n",
       "      <td>269768.0</td>\n",
       "      <td>22.37</td>\n",
       "      <td>64.12</td>\n",
       "      <td>23587.0</td>\n",
       "      <td>230310.0</td>\n",
       "    </tr>\n",
       "    <tr>\n",
       "      <th>1</th>\n",
       "      <td>2</td>\n",
       "      <td>2011-08-23</td>\n",
       "      <td>34</td>\n",
       "      <td>19.0</td>\n",
       "      <td>3.0</td>\n",
       "      <td>0.0</td>\n",
       "      <td>0</td>\n",
       "      <td>0.0</td>\n",
       "      <td>0.0</td>\n",
       "      <td>0.0</td>\n",
       "      <td>...</td>\n",
       "      <td>271.0</td>\n",
       "      <td>6943.0</td>\n",
       "      <td>565.0</td>\n",
       "      <td>0.45356</td>\n",
       "      <td>1240.0</td>\n",
       "      <td>269768.0</td>\n",
       "      <td>22.37</td>\n",
       "      <td>64.12</td>\n",
       "      <td>23587.0</td>\n",
       "      <td>230310.0</td>\n",
       "    </tr>\n",
       "    <tr>\n",
       "      <th>2</th>\n",
       "      <td>3</td>\n",
       "      <td>2011-08-27</td>\n",
       "      <td>43</td>\n",
       "      <td>29.0</td>\n",
       "      <td>2.0</td>\n",
       "      <td>0.0</td>\n",
       "      <td>0</td>\n",
       "      <td>0.0</td>\n",
       "      <td>0.0</td>\n",
       "      <td>0.0</td>\n",
       "      <td>...</td>\n",
       "      <td>271.0</td>\n",
       "      <td>6943.0</td>\n",
       "      <td>565.0</td>\n",
       "      <td>0.45356</td>\n",
       "      <td>1240.0</td>\n",
       "      <td>269768.0</td>\n",
       "      <td>22.37</td>\n",
       "      <td>64.12</td>\n",
       "      <td>23587.0</td>\n",
       "      <td>230310.0</td>\n",
       "    </tr>\n",
       "    <tr>\n",
       "      <th>3</th>\n",
       "      <td>4</td>\n",
       "      <td>2011-09-01</td>\n",
       "      <td>89</td>\n",
       "      <td>50.0</td>\n",
       "      <td>9.0</td>\n",
       "      <td>0.0</td>\n",
       "      <td>0</td>\n",
       "      <td>0.0</td>\n",
       "      <td>0.0</td>\n",
       "      <td>0.0</td>\n",
       "      <td>...</td>\n",
       "      <td>271.0</td>\n",
       "      <td>6943.0</td>\n",
       "      <td>565.0</td>\n",
       "      <td>0.45356</td>\n",
       "      <td>1240.0</td>\n",
       "      <td>269768.0</td>\n",
       "      <td>22.37</td>\n",
       "      <td>64.12</td>\n",
       "      <td>23587.0</td>\n",
       "      <td>230310.0</td>\n",
       "    </tr>\n",
       "    <tr>\n",
       "      <th>4</th>\n",
       "      <td>5</td>\n",
       "      <td>2011-09-05</td>\n",
       "      <td>77</td>\n",
       "      <td>77.0</td>\n",
       "      <td>4.0</td>\n",
       "      <td>0.0</td>\n",
       "      <td>0</td>\n",
       "      <td>0.0</td>\n",
       "      <td>0.0</td>\n",
       "      <td>0.0</td>\n",
       "      <td>...</td>\n",
       "      <td>271.0</td>\n",
       "      <td>6943.0</td>\n",
       "      <td>565.0</td>\n",
       "      <td>0.45356</td>\n",
       "      <td>1240.0</td>\n",
       "      <td>269768.0</td>\n",
       "      <td>22.37</td>\n",
       "      <td>64.12</td>\n",
       "      <td>23587.0</td>\n",
       "      <td>230310.0</td>\n",
       "    </tr>\n",
       "  </tbody>\n",
       "</table>\n",
       "<p>5 rows × 396 columns</p>\n",
       "</div>"
      ],
      "text/plain": [
       "   id   timestamp  full_sq  life_sq  floor  max_floor  material  build_year  \\\n",
       "0   1  2011-08-20       43     27.0    4.0        0.0         0         0.0   \n",
       "1   2  2011-08-23       34     19.0    3.0        0.0         0         0.0   \n",
       "2   3  2011-08-27       43     29.0    2.0        0.0         0         0.0   \n",
       "3   4  2011-09-01       89     50.0    9.0        0.0         0         0.0   \n",
       "4   5  2011-09-05       77     77.0    4.0        0.0         0         0.0   \n",
       "\n",
       "   num_room  kitch_sq         ...          provision_retail_space_modern_sqm  \\\n",
       "0       0.0       0.0         ...                                      271.0   \n",
       "1       0.0       0.0         ...                                      271.0   \n",
       "2       0.0       0.0         ...                                      271.0   \n",
       "3       0.0       0.0         ...                                      271.0   \n",
       "4       0.0       0.0         ...                                      271.0   \n",
       "\n",
       "  turnover_catering_per_cap theaters_viewers_per_1000_cap  \\\n",
       "0                    6943.0                         565.0   \n",
       "1                    6943.0                         565.0   \n",
       "2                    6943.0                         565.0   \n",
       "3                    6943.0                         565.0   \n",
       "4                    6943.0                         565.0   \n",
       "\n",
       "   seats_theather_rfmin_per_100000_cap  museum_visitis_per_100_cap  \\\n",
       "0                              0.45356                      1240.0   \n",
       "1                              0.45356                      1240.0   \n",
       "2                              0.45356                      1240.0   \n",
       "3                              0.45356                      1240.0   \n",
       "4                              0.45356                      1240.0   \n",
       "\n",
       "   bandwidth_sports  population_reg_sports_share  students_reg_sports_share  \\\n",
       "0          269768.0                        22.37                      64.12   \n",
       "1          269768.0                        22.37                      64.12   \n",
       "2          269768.0                        22.37                      64.12   \n",
       "3          269768.0                        22.37                      64.12   \n",
       "4          269768.0                        22.37                      64.12   \n",
       "\n",
       "   apartment_build  apartment_fund_sqm  \n",
       "0          23587.0            230310.0  \n",
       "1          23587.0            230310.0  \n",
       "2          23587.0            230310.0  \n",
       "3          23587.0            230310.0  \n",
       "4          23587.0            230310.0  \n",
       "\n",
       "[5 rows x 396 columns]"
      ]
     },
     "execution_count": 16,
     "metadata": {},
     "output_type": "execute_result"
    }
   ],
   "source": [
    "final_train_df.head()"
   ]
  },
  {
   "cell_type": "markdown",
   "metadata": {
    "deletable": true,
    "editable": true
   },
   "source": [
    "## Data prep"
   ]
  },
  {
   "cell_type": "code",
   "execution_count": 17,
   "metadata": {
    "collapsed": true,
    "deletable": true,
    "editable": true
   },
   "outputs": [],
   "source": [
    "def dedup(listy):\n",
    "    return list(set(listy))"
   ]
  },
  {
   "cell_type": "code",
   "execution_count": 18,
   "metadata": {
    "collapsed": false,
    "deletable": true,
    "editable": true
   },
   "outputs": [],
   "source": [
    "property_columns = [\n",
    "    # Place features\n",
    " 'full_sq',\n",
    " 'kitch_sq',\n",
    " 'floor',\n",
    " 'life_sq',\n",
    " 'build_year',\n",
    " 'num_room',\n",
    " 'max_floor',\n",
    " 'sub_area',\n",
    "]\n",
    "\n",
    "time_columns = [\n",
    " 'timestamp_day',\n",
    " 'timestamp_month',\n",
    " 'timestamp_year',\n",
    "]\n",
    "\n",
    "population_columns = [\n",
    "    # Economy: Population\n",
    "    'male_f',\n",
    "    'female_f',\n",
    "    'young_all',\n",
    "    'young_male',\n",
    "    'young_female',\n",
    "    'work_all',\n",
    "    'work_male',\n",
    "    'work_female',\n",
    "    'ekder_all',\n",
    "    'ekder_male',\n",
    "    'ekder_female',\n",
    "    \n",
    "    'marriages_per_1000_cap',\n",
    "    'divorce_rate',\n",
    "    'pop_natural_increase',\n",
    "    'pop_migration',\n",
    "    'pop_total_inc',\n",
    "    'childbirth',\n",
    "    'mortality',\n",
    "    'average_life_exp',\n",
    "]\n",
    "\n",
    "locality_columns = [\n",
    " 'metro_min_avto',\n",
    "    \n",
    " 'railroad_station_avto_min',\n",
    "    \n",
    " 'green_part_1000',\n",
    " 'green_part_1500',\n",
    "    \n",
    "     # Raion = number of...\n",
    "  'big_market_raion',\n",
    "  'nuclear_reactor_raion',\n",
    "  'detention_facility_raion',\n",
    "  'full_all',\n",
    "  'shopping_centers_raion',\n",
    "  'office_raion',\n",
    "  'thermal_power_plant_raion',\n",
    "  'healthcare_centers_raion',\n",
    "  'university_top_20_raion',\n",
    "    \n",
    "  # Locality features...\n",
    " 'railroad_km',\n",
    " 'green_zone_km',\n",
    " 'kindergarten_km',\n",
    " 'public_transport_station_km',\n",
    " 'metro_km_avto',\n",
    " 'park_km',\n",
    " 'cemetery_km',\n",
    " 'mosque_km',\n",
    " 'public_healthcare_km',\n",
    " 'catering_km',\n",
    " 'big_road2_km',\n",
    " 'hospice_morgue_km',\n",
    " 'swim_pool_km',\n",
    " 'water_treatment_km',\n",
    " 'power_transmission_line_km',\n",
    " 'water_km',\n",
    " 'school_km',\n",
    " 'ttk_km',\n",
    " 'area_m',\n",
    " 'ts_km',\n",
    " 'university_km',\n",
    " 'oil_chemistry_km',\n",
    " 'exhibition_km',\n",
    " 'shopping_centers_km',\n",
    " 'zd_vokzaly_avto_km',\n",
    " 'preschool_km',\n",
    " 'big_road1_km',\n",
    " 'additional_education_km',\n",
    " 'church_synagogue_km',\n",
    " 'big_church_km',\n",
    " 'incineration_km',\n",
    " 'industrial_km',\n",
    " 'nuclear_reactor_km',\n",
    "]\n",
    "\n",
    "economy_columns = [\n",
    "    \n",
    "    \n",
    "     'usdrub',\n",
    " 'micex_cbi_tr',\n",
    " 'brent', \n",
    "    \n",
    "     'micex',\n",
    "    \n",
    "    'oil_urals',\n",
    "     \n",
    " # Economy features\n",
    " 'gdp_quart',\n",
    " 'gdp_quart_growth',\n",
    " 'cpi',\n",
    "    'ppi',\n",
    "    'gdp_deflator',\n",
    "    'gdp_annual',\n",
    "    'gdp_annual_growth',\n",
    "    'average_provision_of_build_contract',\n",
    "    'average_provision_of_build_contract_moscow',\n",
    "    'rts',\n",
    "    'deposits_value',\n",
    "    'deposits_growth',\n",
    "    'deposits_rate',\n",
    "    'mortgage_value',\n",
    "    'mortgage_growth',\n",
    "    'mortgage_rate',\n",
    "    'grp',\n",
    "    'grp_growth',\n",
    "    'income_per_cap',\n",
    "    'real_dispos_income_per_cap_growth',\n",
    "    'salary',\n",
    "    'salary_growth',\n",
    "    'labor_force',\n",
    "    'unemployment',\n",
    "    'employment',\n",
    "    'construction_value',\n",
    "    'housing_fund_sqm',\n",
    "    'lodging_sqm_per_cap',\n",
    "    'water_pipes_share',\n",
    "    'baths_share',\n",
    "    'sewerage_share',\n",
    "    'gas_share',\n",
    "    'hot_water_share',\n",
    "    'electric_stove_share',\n",
    "    'heating_share',\n",
    "    'old_house_share',\n",
    "    'incidence_population',\n",
    "    'rent_price_4+room_bus',\n",
    "    'rent_price_3room_bus',\n",
    "    'rent_price_2room_bus',\n",
    "    'rent_price_1room_bus',\n",
    "    'rent_price_3room_eco',\n",
    "    'rent_price_2room_eco',\n",
    "    'rent_price_1room_eco',\n",
    "    'apartment_build',\n",
    "    'apartment_fund_sqm',\n",
    "    'indust_part',\n",
    "]\n",
    "\n",
    "one_hot_cols = [\n",
    "    'material',\n",
    "    'state_refractored'\n",
    "]\n",
    "\n",
    "columns = dedup(property_columns + population_columns + economy_columns + locality_columns + time_columns + one_hot_cols)\n",
    "\n",
    "label_cols = [\n",
    "    'sub_area',\n",
    "    'big_market_raion',\n",
    "    'nuclear_reactor_raion',\n",
    "    'thermal_power_plant_raion',\n",
    "    'detention_facility_raion',\n",
    "    'big_market_raion',\n",
    "  'nuclear_reactor_raion',\n",
    "  'detention_facility_raion',\n",
    "  'full_all',\n",
    "  'shopping_centers_raion',\n",
    "  'office_raion',\n",
    "  'thermal_power_plant_raion',\n",
    "  'healthcare_centers_raion',\n",
    "  'university_top_20_raion',\n",
    "]\n",
    "\n",
    "exclude_normalize_columns = [\n",
    "    # Specific columns to exclude...\n",
    "] + one_hot_cols + label_cols\n",
    "\n",
    "normalize_columns = [c for c in columns if c not in exclude_normalize_columns]\n",
    "\n",
    "#locality_columns = [c for c in columns if \"_km\" in c]\n",
    "continuous_columns = [c for c in columns if c not in one_hot_cols and c not in label_cols]\n",
    "continuous_columns_without_locality = [c for c in continuous_columns if c not in locality_columns]"
   ]
  },
  {
   "cell_type": "code",
   "execution_count": 19,
   "metadata": {
    "collapsed": false,
    "deletable": true,
    "editable": true
   },
   "outputs": [],
   "source": [
    "final_train_df = final_train_df[columns + [LABEL]]"
   ]
  },
  {
   "cell_type": "code",
   "execution_count": 20,
   "metadata": {
    "collapsed": false,
    "deletable": true,
    "editable": true
   },
   "outputs": [
    {
     "data": {
      "text/html": [
       "<div>\n",
       "<table border=\"1\" class=\"dataframe\">\n",
       "  <thead>\n",
       "    <tr style=\"text-align: right;\">\n",
       "      <th></th>\n",
       "      <th>micex_cbi_tr</th>\n",
       "      <th>unemployment</th>\n",
       "      <th>apartment_build</th>\n",
       "      <th>railroad_station_avto_min</th>\n",
       "      <th>rts</th>\n",
       "      <th>pop_migration</th>\n",
       "      <th>work_all</th>\n",
       "      <th>state_refractored</th>\n",
       "      <th>healthcare_centers_raion</th>\n",
       "      <th>max_floor</th>\n",
       "      <th>...</th>\n",
       "      <th>electric_stove_share</th>\n",
       "      <th>salary</th>\n",
       "      <th>cpi</th>\n",
       "      <th>rent_price_4+room_bus</th>\n",
       "      <th>micex</th>\n",
       "      <th>rent_price_3room_bus</th>\n",
       "      <th>average_provision_of_build_contract_moscow</th>\n",
       "      <th>average_life_exp</th>\n",
       "      <th>marriages_per_1000_cap</th>\n",
       "      <th>price_doc</th>\n",
       "    </tr>\n",
       "  </thead>\n",
       "  <tbody>\n",
       "    <tr>\n",
       "      <th>0</th>\n",
       "      <td>204.78</td>\n",
       "      <td>0.014</td>\n",
       "      <td>23587.0</td>\n",
       "      <td>6.905893</td>\n",
       "      <td>1575.33</td>\n",
       "      <td>5.1</td>\n",
       "      <td>98207</td>\n",
       "      <td>0</td>\n",
       "      <td>1</td>\n",
       "      <td>0.0</td>\n",
       "      <td>...</td>\n",
       "      <td>55.3</td>\n",
       "      <td>44898.7</td>\n",
       "      <td>354.0</td>\n",
       "      <td>136.11</td>\n",
       "      <td>1438.74</td>\n",
       "      <td>77.93</td>\n",
       "      <td>6.74</td>\n",
       "      <td>75.79</td>\n",
       "      <td>8.5</td>\n",
       "      <td>5850000</td>\n",
       "    </tr>\n",
       "    <tr>\n",
       "      <th>1</th>\n",
       "      <td>204.92</td>\n",
       "      <td>0.014</td>\n",
       "      <td>23587.0</td>\n",
       "      <td>4.679745</td>\n",
       "      <td>1578.91</td>\n",
       "      <td>5.1</td>\n",
       "      <td>70194</td>\n",
       "      <td>0</td>\n",
       "      <td>1</td>\n",
       "      <td>0.0</td>\n",
       "      <td>...</td>\n",
       "      <td>55.3</td>\n",
       "      <td>44898.7</td>\n",
       "      <td>354.0</td>\n",
       "      <td>136.11</td>\n",
       "      <td>1444.11</td>\n",
       "      <td>77.93</td>\n",
       "      <td>6.74</td>\n",
       "      <td>75.79</td>\n",
       "      <td>8.5</td>\n",
       "      <td>6000000</td>\n",
       "    </tr>\n",
       "    <tr>\n",
       "      <th>2</th>\n",
       "      <td>204.84</td>\n",
       "      <td>0.014</td>\n",
       "      <td>23587.0</td>\n",
       "      <td>1.701420</td>\n",
       "      <td>1596.17</td>\n",
       "      <td>5.1</td>\n",
       "      <td>63388</td>\n",
       "      <td>0</td>\n",
       "      <td>1</td>\n",
       "      <td>0.0</td>\n",
       "      <td>...</td>\n",
       "      <td>55.3</td>\n",
       "      <td>44898.7</td>\n",
       "      <td>354.0</td>\n",
       "      <td>136.11</td>\n",
       "      <td>1458.84</td>\n",
       "      <td>77.93</td>\n",
       "      <td>6.74</td>\n",
       "      <td>75.79</td>\n",
       "      <td>8.5</td>\n",
       "      <td>5700000</td>\n",
       "    </tr>\n",
       "    <tr>\n",
       "      <th>3</th>\n",
       "      <td>205.42</td>\n",
       "      <td>0.014</td>\n",
       "      <td>23587.0</td>\n",
       "      <td>5.271136</td>\n",
       "      <td>1703.86</td>\n",
       "      <td>5.1</td>\n",
       "      <td>120381</td>\n",
       "      <td>0</td>\n",
       "      <td>1</td>\n",
       "      <td>0.0</td>\n",
       "      <td>...</td>\n",
       "      <td>55.3</td>\n",
       "      <td>44898.7</td>\n",
       "      <td>353.2</td>\n",
       "      <td>155.22</td>\n",
       "      <td>1551.58</td>\n",
       "      <td>94.02</td>\n",
       "      <td>6.74</td>\n",
       "      <td>75.79</td>\n",
       "      <td>8.5</td>\n",
       "      <td>13100000</td>\n",
       "    </tr>\n",
       "    <tr>\n",
       "      <th>4</th>\n",
       "      <td>198.24</td>\n",
       "      <td>0.014</td>\n",
       "      <td>23587.0</td>\n",
       "      <td>2.156284</td>\n",
       "      <td>1617.01</td>\n",
       "      <td>5.1</td>\n",
       "      <td>68043</td>\n",
       "      <td>0</td>\n",
       "      <td>4</td>\n",
       "      <td>0.0</td>\n",
       "      <td>...</td>\n",
       "      <td>55.3</td>\n",
       "      <td>44898.7</td>\n",
       "      <td>353.2</td>\n",
       "      <td>155.22</td>\n",
       "      <td>1492.83</td>\n",
       "      <td>94.02</td>\n",
       "      <td>6.74</td>\n",
       "      <td>75.79</td>\n",
       "      <td>8.5</td>\n",
       "      <td>16331452</td>\n",
       "    </tr>\n",
       "  </tbody>\n",
       "</table>\n",
       "<p>5 rows × 131 columns</p>\n",
       "</div>"
      ],
      "text/plain": [
       "   micex_cbi_tr  unemployment  apartment_build  railroad_station_avto_min  \\\n",
       "0        204.78         0.014          23587.0                   6.905893   \n",
       "1        204.92         0.014          23587.0                   4.679745   \n",
       "2        204.84         0.014          23587.0                   1.701420   \n",
       "3        205.42         0.014          23587.0                   5.271136   \n",
       "4        198.24         0.014          23587.0                   2.156284   \n",
       "\n",
       "       rts  pop_migration  work_all  state_refractored  \\\n",
       "0  1575.33            5.1     98207                  0   \n",
       "1  1578.91            5.1     70194                  0   \n",
       "2  1596.17            5.1     63388                  0   \n",
       "3  1703.86            5.1    120381                  0   \n",
       "4  1617.01            5.1     68043                  0   \n",
       "\n",
       "   healthcare_centers_raion  max_floor    ...      electric_stove_share  \\\n",
       "0                         1        0.0    ...                      55.3   \n",
       "1                         1        0.0    ...                      55.3   \n",
       "2                         1        0.0    ...                      55.3   \n",
       "3                         1        0.0    ...                      55.3   \n",
       "4                         4        0.0    ...                      55.3   \n",
       "\n",
       "    salary    cpi  rent_price_4+room_bus    micex  rent_price_3room_bus  \\\n",
       "0  44898.7  354.0                 136.11  1438.74                 77.93   \n",
       "1  44898.7  354.0                 136.11  1444.11                 77.93   \n",
       "2  44898.7  354.0                 136.11  1458.84                 77.93   \n",
       "3  44898.7  353.2                 155.22  1551.58                 94.02   \n",
       "4  44898.7  353.2                 155.22  1492.83                 94.02   \n",
       "\n",
       "   average_provision_of_build_contract_moscow  average_life_exp  \\\n",
       "0                                        6.74             75.79   \n",
       "1                                        6.74             75.79   \n",
       "2                                        6.74             75.79   \n",
       "3                                        6.74             75.79   \n",
       "4                                        6.74             75.79   \n",
       "\n",
       "   marriages_per_1000_cap  price_doc  \n",
       "0                     8.5    5850000  \n",
       "1                     8.5    6000000  \n",
       "2                     8.5    5700000  \n",
       "3                     8.5   13100000  \n",
       "4                     8.5   16331452  \n",
       "\n",
       "[5 rows x 131 columns]"
      ]
     },
     "execution_count": 20,
     "metadata": {},
     "output_type": "execute_result"
    }
   ],
   "source": [
    "final_train_df.head()"
   ]
  },
  {
   "cell_type": "code",
   "execution_count": 21,
   "metadata": {
    "collapsed": false,
    "deletable": true,
    "editable": true
   },
   "outputs": [
    {
     "name": "stderr",
     "output_type": "stream",
     "text": [
      "/usr/local/lib/python2.7/dist-packages/ipykernel/__main__.py:1: FutureWarning: convert_objects is deprecated.  Use the data-type specific converters pd.to_datetime, pd.to_timedelta and pd.to_numeric.\n",
      "  if __name__ == '__main__':\n"
     ]
    }
   ],
   "source": [
    "final_train_df = final_train_df.convert_objects(convert_numeric=True)"
   ]
  },
  {
   "cell_type": "markdown",
   "metadata": {
    "deletable": true,
    "editable": true
   },
   "source": [
    "## Prepare numeric data scalers & normalizers"
   ]
  },
  {
   "cell_type": "code",
   "execution_count": 22,
   "metadata": {
    "collapsed": true,
    "deletable": true,
    "editable": true
   },
   "outputs": [],
   "source": [
    "norm_scalers = {column : preprocessing.StandardScaler() for column in normalize_columns}"
   ]
  },
  {
   "cell_type": "code",
   "execution_count": 23,
   "metadata": {
    "collapsed": false,
    "deletable": true,
    "editable": true
   },
   "outputs": [
    {
     "data": {
      "text/plain": [
       "{'additional_education_km': StandardScaler(copy=True, with_mean=True, with_std=True),\n",
       " 'apartment_build': StandardScaler(copy=True, with_mean=True, with_std=True),\n",
       " 'apartment_fund_sqm': StandardScaler(copy=True, with_mean=True, with_std=True),\n",
       " 'area_m': StandardScaler(copy=True, with_mean=True, with_std=True),\n",
       " 'average_life_exp': StandardScaler(copy=True, with_mean=True, with_std=True),\n",
       " 'average_provision_of_build_contract': StandardScaler(copy=True, with_mean=True, with_std=True),\n",
       " 'average_provision_of_build_contract_moscow': StandardScaler(copy=True, with_mean=True, with_std=True),\n",
       " 'baths_share': StandardScaler(copy=True, with_mean=True, with_std=True),\n",
       " 'big_church_km': StandardScaler(copy=True, with_mean=True, with_std=True),\n",
       " 'big_road1_km': StandardScaler(copy=True, with_mean=True, with_std=True),\n",
       " 'big_road2_km': StandardScaler(copy=True, with_mean=True, with_std=True),\n",
       " 'brent': StandardScaler(copy=True, with_mean=True, with_std=True),\n",
       " 'build_year': StandardScaler(copy=True, with_mean=True, with_std=True),\n",
       " 'catering_km': StandardScaler(copy=True, with_mean=True, with_std=True),\n",
       " 'cemetery_km': StandardScaler(copy=True, with_mean=True, with_std=True),\n",
       " 'childbirth': StandardScaler(copy=True, with_mean=True, with_std=True),\n",
       " 'church_synagogue_km': StandardScaler(copy=True, with_mean=True, with_std=True),\n",
       " 'construction_value': StandardScaler(copy=True, with_mean=True, with_std=True),\n",
       " 'cpi': StandardScaler(copy=True, with_mean=True, with_std=True),\n",
       " 'deposits_growth': StandardScaler(copy=True, with_mean=True, with_std=True),\n",
       " 'deposits_rate': StandardScaler(copy=True, with_mean=True, with_std=True),\n",
       " 'deposits_value': StandardScaler(copy=True, with_mean=True, with_std=True),\n",
       " 'divorce_rate': StandardScaler(copy=True, with_mean=True, with_std=True),\n",
       " 'ekder_all': StandardScaler(copy=True, with_mean=True, with_std=True),\n",
       " 'ekder_female': StandardScaler(copy=True, with_mean=True, with_std=True),\n",
       " 'ekder_male': StandardScaler(copy=True, with_mean=True, with_std=True),\n",
       " 'electric_stove_share': StandardScaler(copy=True, with_mean=True, with_std=True),\n",
       " 'employment': StandardScaler(copy=True, with_mean=True, with_std=True),\n",
       " 'exhibition_km': StandardScaler(copy=True, with_mean=True, with_std=True),\n",
       " 'female_f': StandardScaler(copy=True, with_mean=True, with_std=True),\n",
       " 'floor': StandardScaler(copy=True, with_mean=True, with_std=True),\n",
       " 'full_sq': StandardScaler(copy=True, with_mean=True, with_std=True),\n",
       " 'gas_share': StandardScaler(copy=True, with_mean=True, with_std=True),\n",
       " 'gdp_annual': StandardScaler(copy=True, with_mean=True, with_std=True),\n",
       " 'gdp_annual_growth': StandardScaler(copy=True, with_mean=True, with_std=True),\n",
       " 'gdp_deflator': StandardScaler(copy=True, with_mean=True, with_std=True),\n",
       " 'gdp_quart': StandardScaler(copy=True, with_mean=True, with_std=True),\n",
       " 'gdp_quart_growth': StandardScaler(copy=True, with_mean=True, with_std=True),\n",
       " 'green_part_1000': StandardScaler(copy=True, with_mean=True, with_std=True),\n",
       " 'green_part_1500': StandardScaler(copy=True, with_mean=True, with_std=True),\n",
       " 'green_zone_km': StandardScaler(copy=True, with_mean=True, with_std=True),\n",
       " 'grp': StandardScaler(copy=True, with_mean=True, with_std=True),\n",
       " 'grp_growth': StandardScaler(copy=True, with_mean=True, with_std=True),\n",
       " 'heating_share': StandardScaler(copy=True, with_mean=True, with_std=True),\n",
       " 'hospice_morgue_km': StandardScaler(copy=True, with_mean=True, with_std=True),\n",
       " 'hot_water_share': StandardScaler(copy=True, with_mean=True, with_std=True),\n",
       " 'housing_fund_sqm': StandardScaler(copy=True, with_mean=True, with_std=True),\n",
       " 'incidence_population': StandardScaler(copy=True, with_mean=True, with_std=True),\n",
       " 'incineration_km': StandardScaler(copy=True, with_mean=True, with_std=True),\n",
       " 'income_per_cap': StandardScaler(copy=True, with_mean=True, with_std=True),\n",
       " 'indust_part': StandardScaler(copy=True, with_mean=True, with_std=True),\n",
       " 'industrial_km': StandardScaler(copy=True, with_mean=True, with_std=True),\n",
       " 'kindergarten_km': StandardScaler(copy=True, with_mean=True, with_std=True),\n",
       " 'kitch_sq': StandardScaler(copy=True, with_mean=True, with_std=True),\n",
       " 'labor_force': StandardScaler(copy=True, with_mean=True, with_std=True),\n",
       " 'life_sq': StandardScaler(copy=True, with_mean=True, with_std=True),\n",
       " 'lodging_sqm_per_cap': StandardScaler(copy=True, with_mean=True, with_std=True),\n",
       " 'male_f': StandardScaler(copy=True, with_mean=True, with_std=True),\n",
       " 'marriages_per_1000_cap': StandardScaler(copy=True, with_mean=True, with_std=True),\n",
       " 'max_floor': StandardScaler(copy=True, with_mean=True, with_std=True),\n",
       " 'metro_km_avto': StandardScaler(copy=True, with_mean=True, with_std=True),\n",
       " 'metro_min_avto': StandardScaler(copy=True, with_mean=True, with_std=True),\n",
       " 'micex': StandardScaler(copy=True, with_mean=True, with_std=True),\n",
       " 'micex_cbi_tr': StandardScaler(copy=True, with_mean=True, with_std=True),\n",
       " 'mortality': StandardScaler(copy=True, with_mean=True, with_std=True),\n",
       " 'mortgage_growth': StandardScaler(copy=True, with_mean=True, with_std=True),\n",
       " 'mortgage_rate': StandardScaler(copy=True, with_mean=True, with_std=True),\n",
       " 'mortgage_value': StandardScaler(copy=True, with_mean=True, with_std=True),\n",
       " 'mosque_km': StandardScaler(copy=True, with_mean=True, with_std=True),\n",
       " 'nuclear_reactor_km': StandardScaler(copy=True, with_mean=True, with_std=True),\n",
       " 'num_room': StandardScaler(copy=True, with_mean=True, with_std=True),\n",
       " 'oil_chemistry_km': StandardScaler(copy=True, with_mean=True, with_std=True),\n",
       " 'oil_urals': StandardScaler(copy=True, with_mean=True, with_std=True),\n",
       " 'old_house_share': StandardScaler(copy=True, with_mean=True, with_std=True),\n",
       " 'park_km': StandardScaler(copy=True, with_mean=True, with_std=True),\n",
       " 'pop_migration': StandardScaler(copy=True, with_mean=True, with_std=True),\n",
       " 'pop_natural_increase': StandardScaler(copy=True, with_mean=True, with_std=True),\n",
       " 'pop_total_inc': StandardScaler(copy=True, with_mean=True, with_std=True),\n",
       " 'power_transmission_line_km': StandardScaler(copy=True, with_mean=True, with_std=True),\n",
       " 'ppi': StandardScaler(copy=True, with_mean=True, with_std=True),\n",
       " 'preschool_km': StandardScaler(copy=True, with_mean=True, with_std=True),\n",
       " 'public_healthcare_km': StandardScaler(copy=True, with_mean=True, with_std=True),\n",
       " 'public_transport_station_km': StandardScaler(copy=True, with_mean=True, with_std=True),\n",
       " 'railroad_km': StandardScaler(copy=True, with_mean=True, with_std=True),\n",
       " 'railroad_station_avto_min': StandardScaler(copy=True, with_mean=True, with_std=True),\n",
       " 'real_dispos_income_per_cap_growth': StandardScaler(copy=True, with_mean=True, with_std=True),\n",
       " 'rent_price_1room_bus': StandardScaler(copy=True, with_mean=True, with_std=True),\n",
       " 'rent_price_1room_eco': StandardScaler(copy=True, with_mean=True, with_std=True),\n",
       " 'rent_price_2room_bus': StandardScaler(copy=True, with_mean=True, with_std=True),\n",
       " 'rent_price_2room_eco': StandardScaler(copy=True, with_mean=True, with_std=True),\n",
       " 'rent_price_3room_bus': StandardScaler(copy=True, with_mean=True, with_std=True),\n",
       " 'rent_price_3room_eco': StandardScaler(copy=True, with_mean=True, with_std=True),\n",
       " 'rent_price_4+room_bus': StandardScaler(copy=True, with_mean=True, with_std=True),\n",
       " 'rts': StandardScaler(copy=True, with_mean=True, with_std=True),\n",
       " 'salary': StandardScaler(copy=True, with_mean=True, with_std=True),\n",
       " 'salary_growth': StandardScaler(copy=True, with_mean=True, with_std=True),\n",
       " 'school_km': StandardScaler(copy=True, with_mean=True, with_std=True),\n",
       " 'sewerage_share': StandardScaler(copy=True, with_mean=True, with_std=True),\n",
       " 'shopping_centers_km': StandardScaler(copy=True, with_mean=True, with_std=True),\n",
       " 'swim_pool_km': StandardScaler(copy=True, with_mean=True, with_std=True),\n",
       " 'timestamp_day': StandardScaler(copy=True, with_mean=True, with_std=True),\n",
       " 'timestamp_month': StandardScaler(copy=True, with_mean=True, with_std=True),\n",
       " 'timestamp_year': StandardScaler(copy=True, with_mean=True, with_std=True),\n",
       " 'ts_km': StandardScaler(copy=True, with_mean=True, with_std=True),\n",
       " 'ttk_km': StandardScaler(copy=True, with_mean=True, with_std=True),\n",
       " 'unemployment': StandardScaler(copy=True, with_mean=True, with_std=True),\n",
       " 'university_km': StandardScaler(copy=True, with_mean=True, with_std=True),\n",
       " 'usdrub': StandardScaler(copy=True, with_mean=True, with_std=True),\n",
       " 'water_km': StandardScaler(copy=True, with_mean=True, with_std=True),\n",
       " 'water_pipes_share': StandardScaler(copy=True, with_mean=True, with_std=True),\n",
       " 'water_treatment_km': StandardScaler(copy=True, with_mean=True, with_std=True),\n",
       " 'work_all': StandardScaler(copy=True, with_mean=True, with_std=True),\n",
       " 'work_female': StandardScaler(copy=True, with_mean=True, with_std=True),\n",
       " 'work_male': StandardScaler(copy=True, with_mean=True, with_std=True),\n",
       " 'young_all': StandardScaler(copy=True, with_mean=True, with_std=True),\n",
       " 'young_female': StandardScaler(copy=True, with_mean=True, with_std=True),\n",
       " 'young_male': StandardScaler(copy=True, with_mean=True, with_std=True),\n",
       " 'zd_vokzaly_avto_km': StandardScaler(copy=True, with_mean=True, with_std=True)}"
      ]
     },
     "execution_count": 23,
     "metadata": {},
     "output_type": "execute_result"
    }
   ],
   "source": [
    "norm_scalers"
   ]
  },
  {
   "cell_type": "code",
   "execution_count": 24,
   "metadata": {
    "collapsed": false,
    "deletable": true,
    "editable": true
   },
   "outputs": [
    {
     "data": {
      "text/plain": [
       "118"
      ]
     },
     "execution_count": 24,
     "metadata": {},
     "output_type": "execute_result"
    }
   ],
   "source": [
    "len(norm_scalers)"
   ]
  },
  {
   "cell_type": "code",
   "execution_count": 25,
   "metadata": {
    "collapsed": true,
    "deletable": true,
    "editable": true
   },
   "outputs": [],
   "source": [
    "ont_hot_scalers = {column : (preprocessing.LabelEncoder(), preprocessing.OneHotEncoder(sparse=False)) for column in one_hot_cols}"
   ]
  },
  {
   "cell_type": "code",
   "execution_count": 26,
   "metadata": {
    "collapsed": false,
    "deletable": true,
    "editable": true
   },
   "outputs": [
    {
     "data": {
      "text/plain": [
       "{'material': (LabelEncoder(),\n",
       "  OneHotEncoder(categorical_features='all', dtype=<type 'numpy.float64'>,\n",
       "         handle_unknown='error', n_values='auto', sparse=False)),\n",
       " 'state_refractored': (LabelEncoder(),\n",
       "  OneHotEncoder(categorical_features='all', dtype=<type 'numpy.float64'>,\n",
       "         handle_unknown='error', n_values='auto', sparse=False))}"
      ]
     },
     "execution_count": 26,
     "metadata": {},
     "output_type": "execute_result"
    }
   ],
   "source": [
    "ont_hot_scalers"
   ]
  },
  {
   "cell_type": "code",
   "execution_count": 27,
   "metadata": {
    "collapsed": true,
    "deletable": true,
    "editable": true
   },
   "outputs": [],
   "source": [
    "label_scalers = {column : preprocessing.LabelEncoder() for column in label_cols}"
   ]
  },
  {
   "cell_type": "code",
   "execution_count": 28,
   "metadata": {
    "collapsed": false,
    "deletable": true,
    "editable": true
   },
   "outputs": [
    {
     "data": {
      "text/plain": [
       "{'big_market_raion': LabelEncoder(),\n",
       " 'detention_facility_raion': LabelEncoder(),\n",
       " 'full_all': LabelEncoder(),\n",
       " 'healthcare_centers_raion': LabelEncoder(),\n",
       " 'nuclear_reactor_raion': LabelEncoder(),\n",
       " 'office_raion': LabelEncoder(),\n",
       " 'shopping_centers_raion': LabelEncoder(),\n",
       " 'sub_area': LabelEncoder(),\n",
       " 'thermal_power_plant_raion': LabelEncoder(),\n",
       " 'university_top_20_raion': LabelEncoder()}"
      ]
     },
     "execution_count": 28,
     "metadata": {},
     "output_type": "execute_result"
    }
   ],
   "source": [
    "label_scalers"
   ]
  },
  {
   "cell_type": "code",
   "execution_count": 29,
   "metadata": {
    "collapsed": false,
    "deletable": true,
    "editable": true
   },
   "outputs": [
    {
     "name": "stderr",
     "output_type": "stream",
     "text": [
      "/usr/local/lib/python2.7/dist-packages/sklearn/utils/validation.py:429: DataConversionWarning: Data with input dtype int64 was converted to float64 by StandardScaler.\n",
      "  warnings.warn(msg, _DataConversionWarning)\n"
     ]
    }
   ],
   "source": [
    "for column in normalize_columns:\n",
    "    c_scaler = norm_scalers[column]\n",
    "    try:\n",
    "        c_scaler.fit(final_train_df[[column]].values)\n",
    "    except:\n",
    "        print 'failed: ', column"
   ]
  },
  {
   "cell_type": "code",
   "execution_count": 30,
   "metadata": {
    "collapsed": false,
    "deletable": true,
    "editable": true
   },
   "outputs": [
    {
     "name": "stderr",
     "output_type": "stream",
     "text": [
      "/usr/local/lib/python2.7/dist-packages/sklearn/preprocessing/label.py:129: DataConversionWarning: A column-vector y was passed when a 1d array was expected. Please change the shape of y to (n_samples, ), for example using ravel().\n",
      "  y = column_or_1d(y, warn=True)\n"
     ]
    }
   ],
   "source": [
    "for column in one_hot_cols:\n",
    "    label_enc, one_hot_enc = ont_hot_scalers[column]\n",
    "    r = label_enc.fit_transform(final_train_df[[column]].values)\n",
    "    r = np.expand_dims(r, axis=1)\n",
    "    one_hot_enc.fit(r)"
   ]
  },
  {
   "cell_type": "code",
   "execution_count": 31,
   "metadata": {
    "collapsed": false,
    "deletable": true,
    "editable": true
   },
   "outputs": [
    {
     "name": "stderr",
     "output_type": "stream",
     "text": [
      "/usr/local/lib/python2.7/dist-packages/sklearn/preprocessing/label.py:112: DataConversionWarning: A column-vector y was passed when a 1d array was expected. Please change the shape of y to (n_samples, ), for example using ravel().\n",
      "  y = column_or_1d(y, warn=True)\n"
     ]
    }
   ],
   "source": [
    "for column in label_cols:\n",
    "    label_enc = label_scalers[column]\n",
    "    label_enc.fit(final_train_df[[column]].values)"
   ]
  },
  {
   "cell_type": "markdown",
   "metadata": {
    "deletable": true,
    "editable": true
   },
   "source": [
    "### Test the scalers..."
   ]
  },
  {
   "cell_type": "code",
   "execution_count": 32,
   "metadata": {
    "collapsed": false,
    "deletable": true,
    "editable": true
   },
   "outputs": [
    {
     "name": "stderr",
     "output_type": "stream",
     "text": [
      "/usr/local/lib/python2.7/dist-packages/sklearn/preprocessing/data.py:649: DeprecationWarning: Passing 1d arrays as data is deprecated in 0.17 and will raise ValueError in 0.19. Reshape your data either using X.reshape(-1, 1) if your data has a single feature or X.reshape(1, -1) if it contains a single sample.\n",
      "  warnings.warn(DEPRECATION_MSG_1D, DeprecationWarning)\n"
     ]
    },
    {
     "data": {
      "text/plain": [
       "array([ 0.40933319])"
      ]
     },
     "execution_count": 32,
     "metadata": {},
     "output_type": "execute_result"
    }
   ],
   "source": [
    "norm_scalers['timestamp_day'].transform([final_train_df.ix[0]['timestamp_day']])"
   ]
  },
  {
   "cell_type": "code",
   "execution_count": 33,
   "metadata": {
    "collapsed": false,
    "deletable": true,
    "editable": true
   },
   "outputs": [
    {
     "name": "stderr",
     "output_type": "stream",
     "text": [
      "/usr/local/lib/python2.7/dist-packages/sklearn/utils/validation.py:395: DeprecationWarning: Passing 1d arrays as data is deprecated in 0.17 and will raise ValueError in 0.19. Reshape your data either using X.reshape(-1, 1) if your data has a single feature or X.reshape(1, -1) if it contains a single sample.\n",
      "  DeprecationWarning)\n"
     ]
    },
    {
     "data": {
      "text/plain": [
       "array([[ 1.,  0.,  0.,  0.,  0.,  0.,  0.]])"
      ]
     },
     "execution_count": 33,
     "metadata": {},
     "output_type": "execute_result"
    }
   ],
   "source": [
    "ont_hot_scalers['material'][1].transform([final_train_df.ix[70]['material']])"
   ]
  },
  {
   "cell_type": "code",
   "execution_count": 34,
   "metadata": {
    "collapsed": false,
    "deletable": true,
    "editable": true
   },
   "outputs": [
    {
     "data": {
      "text/plain": [
       "array([9])"
      ]
     },
     "execution_count": 34,
     "metadata": {},
     "output_type": "execute_result"
    }
   ],
   "source": [
    "label_scalers['sub_area'].transform([final_train_df.ix[0]['sub_area']])"
   ]
  },
  {
   "cell_type": "code",
   "execution_count": 35,
   "metadata": {
    "collapsed": false,
    "deletable": true,
    "editable": true
   },
   "outputs": [],
   "source": [
    "sub_area_metadata = open('/mnt/h/Kaggle/Competitions/Russian Bank/models/metadata/sub_area_metadata.tsv', 'w+')\n",
    "sub_area_metadata.write(\"Sub area\\n\" + \"\\n\".join([label_scalers['sub_area'].inverse_transform([i])[0] for i in range(146)]))\n",
    "sub_area_metadata.close()"
   ]
  },
  {
   "cell_type": "markdown",
   "metadata": {
    "deletable": true,
    "editable": true
   },
   "source": [
    "### Save them to disk"
   ]
  },
  {
   "cell_type": "code",
   "execution_count": 36,
   "metadata": {
    "collapsed": true,
    "deletable": true,
    "editable": true
   },
   "outputs": [],
   "source": [
    "from sklearn.externals import joblib"
   ]
  },
  {
   "cell_type": "code",
   "execution_count": 37,
   "metadata": {
    "collapsed": false,
    "deletable": true,
    "editable": true
   },
   "outputs": [
    {
     "data": {
      "text/plain": [
       "['/mnt/h/Kaggle/Competitions/Russian Bank/code/data/norm_scalers.pkl']"
      ]
     },
     "execution_count": 37,
     "metadata": {},
     "output_type": "execute_result"
    }
   ],
   "source": [
    "joblib.dump(norm_scalers, '/mnt/h/Kaggle/Competitions/Russian Bank/code/data/norm_scalers.pkl') "
   ]
  },
  {
   "cell_type": "code",
   "execution_count": 38,
   "metadata": {
    "collapsed": false,
    "deletable": true,
    "editable": true
   },
   "outputs": [
    {
     "data": {
      "text/plain": [
       "['/mnt/h/Kaggle/Competitions/Russian Bank/code/data/one_hot_scalers.pkl']"
      ]
     },
     "execution_count": 38,
     "metadata": {},
     "output_type": "execute_result"
    }
   ],
   "source": [
    "joblib.dump(ont_hot_scalers, '/mnt/h/Kaggle/Competitions/Russian Bank/code/data/one_hot_scalers.pkl') "
   ]
  },
  {
   "cell_type": "code",
   "execution_count": 39,
   "metadata": {
    "collapsed": false,
    "deletable": true,
    "editable": true
   },
   "outputs": [
    {
     "data": {
      "text/plain": [
       "['/mnt/h/Kaggle/Competitions/Russian Bank/code/data/label_scalers.pkl']"
      ]
     },
     "execution_count": 39,
     "metadata": {},
     "output_type": "execute_result"
    }
   ],
   "source": [
    "joblib.dump(label_scalers, '/mnt/h/Kaggle/Competitions/Russian Bank/code/data/label_scalers.pkl') "
   ]
  },
  {
   "cell_type": "markdown",
   "metadata": {
    "collapsed": true,
    "deletable": true,
    "editable": true
   },
   "source": [
    "### Transform the whole training data"
   ]
  },
  {
   "cell_type": "code",
   "execution_count": 40,
   "metadata": {
    "collapsed": false,
    "deletable": true,
    "editable": true
   },
   "outputs": [],
   "source": [
    "for continuous_norm_col in normalize_columns:\n",
    "    scaler = norm_scalers[continuous_norm_col]\n",
    "    scaled_values = scaler.transform(final_train_df[[continuous_norm_col]].values)\n",
    "    final_train_df[continuous_norm_col + \"_scaled_feature\"] = scaled_values"
   ]
  },
  {
   "cell_type": "code",
   "execution_count": 41,
   "metadata": {
    "collapsed": false,
    "deletable": true,
    "editable": true
   },
   "outputs": [
    {
     "name": "stderr",
     "output_type": "stream",
     "text": [
      "/usr/local/lib/python2.7/dist-packages/sklearn/preprocessing/label.py:147: DataConversionWarning: A column-vector y was passed when a 1d array was expected. Please change the shape of y to (n_samples, ), for example using ravel().\n",
      "  y = column_or_1d(y, warn=True)\n"
     ]
    }
   ],
   "source": [
    "for one_hot_col in one_hot_cols:\n",
    "    l_scaler = ont_hot_scalers[one_hot_col][0]\n",
    "    scaler = ont_hot_scalers[one_hot_col][1]\n",
    "    r = l_scaler.transform(final_train_df[[one_hot_col]].values)\n",
    "    r = np.expand_dims(r, axis=1)\n",
    "    scaled_values = scaler.transform(r)\n",
    "    final_train_df[one_hot_col + \"_scaled_feature\"] = list(scaled_values)"
   ]
  },
  {
   "cell_type": "code",
   "execution_count": 42,
   "metadata": {
    "collapsed": true,
    "deletable": true,
    "editable": true
   },
   "outputs": [],
   "source": [
    "for label_col in label_cols:\n",
    "    label_enc = label_scalers[label_col]\n",
    "    encoded_values = label_enc.transform(final_train_df[[label_col]].values)\n",
    "    final_train_df[label_col + \"_scaled_feature\"] = encoded_values"
   ]
  },
  {
   "cell_type": "code",
   "execution_count": 43,
   "metadata": {
    "collapsed": true,
    "deletable": true,
    "editable": true
   },
   "outputs": [],
   "source": [
    "def extract_normalized_feature(df, feature_name):\n",
    "    return np.array(df[feature_name + \"_scaled_feature\"].values.tolist())"
   ]
  },
  {
   "cell_type": "code",
   "execution_count": 44,
   "metadata": {
    "collapsed": false,
    "deletable": true,
    "editable": true
   },
   "outputs": [
    {
     "data": {
      "text/plain": [
       "array([-0.29487286, -0.53152276, -0.29487286, ..., -0.24228399,\n",
       "        0.25731024, -0.29487286])"
      ]
     },
     "execution_count": 44,
     "metadata": {},
     "output_type": "execute_result"
    }
   ],
   "source": [
    "extract_normalized_feature(final_train_df, \"full_sq\")"
   ]
  },
  {
   "cell_type": "code",
   "execution_count": 45,
   "metadata": {
    "collapsed": false,
    "deletable": true,
    "editable": true
   },
   "outputs": [
    {
     "data": {
      "text/plain": [
       "array([-0.00404841, -0.16882931,  0.03714682, ..., -0.56018395,\n",
       "        0.09893965,  0.0165492 ])"
      ]
     },
     "execution_count": 45,
     "metadata": {},
     "output_type": "execute_result"
    }
   ],
   "source": [
    "extract_normalized_feature(final_train_df, \"life_sq\")"
   ]
  },
  {
   "cell_type": "code",
   "execution_count": 46,
   "metadata": {
    "collapsed": false,
    "deletable": true,
    "editable": true
   },
   "outputs": [
    {
     "data": {
      "text/plain": [
       "array([  9,  70, 129, ..., 103,  77,  75])"
      ]
     },
     "execution_count": 46,
     "metadata": {},
     "output_type": "execute_result"
    }
   ],
   "source": [
    "extract_normalized_feature(final_train_df, \"sub_area\")"
   ]
  },
  {
   "cell_type": "code",
   "execution_count": 47,
   "metadata": {
    "collapsed": false,
    "deletable": true,
    "editable": true
   },
   "outputs": [
    {
     "data": {
      "text/plain": [
       "('metro_min_avto',\n",
       " array([-0.36180133, -0.61411914, -0.43340412, ..., -0.42855279,\n",
       "        -0.24162376, -0.66784139]))"
      ]
     },
     "execution_count": 47,
     "metadata": {},
     "output_type": "execute_result"
    }
   ],
   "source": [
    "locality_columns[0], extract_normalized_feature(final_train_df, locality_columns[0])"
   ]
  },
  {
   "cell_type": "code",
   "execution_count": 48,
   "metadata": {
    "collapsed": false,
    "deletable": true,
    "editable": true
   },
   "outputs": [
    {
     "data": {
      "text/plain": [
       "array([  9,  70, 129, ..., 103,  77,  75])"
      ]
     },
     "execution_count": 48,
     "metadata": {},
     "output_type": "execute_result"
    }
   ],
   "source": [
    "extract_normalized_feature(final_train_df, \"sub_area\")"
   ]
  },
  {
   "cell_type": "code",
   "execution_count": 49,
   "metadata": {
    "collapsed": true,
    "deletable": true,
    "editable": true
   },
   "outputs": [],
   "source": [
    "def extract_temporal_features(df):\n",
    "    global time_columns\n",
    "    vals = []\n",
    "    for c in time_columns:\n",
    "        vals.append(extract_normalized_feature(df, c).reshape(-1, 1))\n",
    "    return np.hstack(tuple(vals))"
   ]
  },
  {
   "cell_type": "code",
   "execution_count": 50,
   "metadata": {
    "collapsed": true,
    "deletable": true,
    "editable": true
   },
   "outputs": [],
   "source": [
    "def extract_property_place_features(df):\n",
    "    global property_columns\n",
    "    vals = []\n",
    "    for c in property_columns:\n",
    "        vals.append(extract_normalized_feature(df, c).reshape(-1, 1))\n",
    "    return np.hstack(tuple(vals))"
   ]
  },
  {
   "cell_type": "code",
   "execution_count": 51,
   "metadata": {
    "collapsed": true,
    "deletable": true,
    "editable": true
   },
   "outputs": [],
   "source": [
    "def extract_economy_features(df):\n",
    "    global economy_columns\n",
    "    vals = []\n",
    "    for c in economy_columns:\n",
    "        vals.append(extract_normalized_feature(df, c).reshape(-1, 1))\n",
    "    return np.hstack(tuple(vals))"
   ]
  },
  {
   "cell_type": "code",
   "execution_count": 52,
   "metadata": {
    "collapsed": true,
    "deletable": true,
    "editable": true
   },
   "outputs": [],
   "source": [
    "def extract_population_features(df):\n",
    "    global population_columns\n",
    "    vals = []\n",
    "    for c in population_columns:\n",
    "        vals.append(extract_normalized_feature(df, c).reshape(-1, 1))\n",
    "    return np.hstack(tuple(vals))"
   ]
  },
  {
   "cell_type": "code",
   "execution_count": 53,
   "metadata": {
    "collapsed": true,
    "deletable": true,
    "editable": true
   },
   "outputs": [],
   "source": [
    "def extract_locality_features(df):\n",
    "    global locality_columns\n",
    "    vals = []\n",
    "    for c in locality_columns:\n",
    "        vals.append(extract_normalized_feature(df, c).reshape(-1, 1))\n",
    "    return np.hstack(tuple(vals))"
   ]
  },
  {
   "cell_type": "code",
   "execution_count": 54,
   "metadata": {
    "collapsed": true,
    "deletable": true,
    "editable": true
   },
   "outputs": [],
   "source": [
    "def extract_categorical_features(df):\n",
    "    global one_hot_cols, label_cols\n",
    "    vals = {}\n",
    "    for c in one_hot_cols + label_cols:\n",
    "        vals[c]  = extract_normalized_feature(df, c)\n",
    "    return vals"
   ]
  },
  {
   "cell_type": "code",
   "execution_count": 56,
   "metadata": {
    "collapsed": false,
    "deletable": true,
    "editable": true
   },
   "outputs": [],
   "source": [
    "#extract_continuous_features(final_train_df).shape # 51 + 3 (one hot columns) + 1 (label) = 55 (total dataframe columns excluding id)..."
   ]
  },
  {
   "cell_type": "code",
   "execution_count": 57,
   "metadata": {
    "collapsed": false,
    "deletable": true,
    "editable": true
   },
   "outputs": [
    {
     "data": {
      "text/plain": [
       "(30471, 46)"
      ]
     },
     "execution_count": 57,
     "metadata": {},
     "output_type": "execute_result"
    }
   ],
   "source": [
    "extract_locality_features(final_train_df).shape"
   ]
  },
  {
   "cell_type": "code",
   "execution_count": 58,
   "metadata": {
    "collapsed": false,
    "deletable": true,
    "editable": true
   },
   "outputs": [
    {
     "data": {
      "text/plain": [
       "{'big_market_raion': array([0, 0, 0, ..., 0, 0, 0]),\n",
       " 'detention_facility_raion': array([0, 0, 0, ..., 0, 0, 0]),\n",
       " 'full_all': array([78, 59, 89, ..., 18, 73, 54]),\n",
       " 'healthcare_centers_raion': array([1, 1, 1, ..., 0, 2, 2]),\n",
       " 'material': array([[ 1.,  0.,  0., ...,  0.,  0.,  0.],\n",
       "        [ 1.,  0.,  0., ...,  0.,  0.,  0.],\n",
       "        [ 1.,  0.,  0., ...,  0.,  0.,  0.],\n",
       "        ..., \n",
       "        [ 0.,  1.,  0., ...,  0.,  0.,  0.],\n",
       "        [ 0.,  1.,  0., ...,  0.,  0.,  0.],\n",
       "        [ 0.,  1.,  0., ...,  0.,  0.,  0.]]),\n",
       " 'nuclear_reactor_raion': array([0, 0, 0, ..., 0, 0, 0]),\n",
       " 'office_raion': array([1, 0, 1, ..., 0, 5, 1]),\n",
       " 'shopping_centers_raion': array([13,  3,  0, ...,  1,  4,  5]),\n",
       " 'state_refractored': array([[ 1.,  0.,  0.,  0.,  0.,  0.],\n",
       "        [ 1.,  0.,  0.,  0.,  0.,  0.],\n",
       "        [ 1.,  0.,  0.,  0.,  0.,  0.],\n",
       "        ..., \n",
       "        [ 0.,  1.,  0.,  0.,  0.,  0.],\n",
       "        [ 0.,  0.,  1.,  0.,  0.,  0.],\n",
       "        [ 0.,  0.,  1.,  0.,  0.,  0.]]),\n",
       " 'sub_area': array([  9,  70, 129, ..., 103,  77,  75]),\n",
       " 'thermal_power_plant_raion': array([0, 0, 0, ..., 0, 0, 0]),\n",
       " 'university_top_20_raion': array([0, 0, 0, ..., 0, 1, 0])}"
      ]
     },
     "execution_count": 58,
     "metadata": {},
     "output_type": "execute_result"
    }
   ],
   "source": [
    "extract_categorical_features(final_train_df)"
   ]
  },
  {
   "cell_type": "code",
   "execution_count": 59,
   "metadata": {
    "collapsed": true,
    "deletable": true,
    "editable": true
   },
   "outputs": [],
   "source": [
    "def train_validate_test_split(df, train_percent=.6, validate_percent=.2):\n",
    "    perm = np.random.permutation(df.index)\n",
    "    m = len(df)\n",
    "    train_end = int(train_percent * m)\n",
    "    validate_end = int(validate_percent * m) + train_end\n",
    "    train = df.ix[perm[:train_end]]\n",
    "    validate = df.ix[perm[train_end:validate_end]]\n",
    "    test = df.ix[perm[validate_end:]]\n",
    "    return train, validate, test"
   ]
  },
  {
   "cell_type": "code",
   "execution_count": 60,
   "metadata": {
    "collapsed": true,
    "deletable": true,
    "editable": true
   },
   "outputs": [],
   "source": [
    "train_split_df, test_split_df = train_test_split(final_train_df, test_size = 0.1)"
   ]
  },
  {
   "cell_type": "code",
   "execution_count": 61,
   "metadata": {
    "collapsed": true,
    "deletable": true,
    "editable": true
   },
   "outputs": [],
   "source": [
    "train_split_df_temporal_features = extract_temporal_features(train_split_df)\n",
    "test_split_df_temporal_features = extract_temporal_features(test_split_df)"
   ]
  },
  {
   "cell_type": "code",
   "execution_count": 62,
   "metadata": {
    "collapsed": false,
    "deletable": true,
    "editable": true
   },
   "outputs": [],
   "source": [
    "train_split_df_property_features = extract_property_place_features(train_split_df)\n",
    "test_split_df_property_features = extract_property_place_features(test_split_df)"
   ]
  },
  {
   "cell_type": "code",
   "execution_count": 63,
   "metadata": {
    "collapsed": false,
    "deletable": true,
    "editable": true
   },
   "outputs": [],
   "source": [
    "train_split_df_locality_features = extract_locality_features(train_split_df)\n",
    "test_split_df_locality_features = extract_locality_features(test_split_df)"
   ]
  },
  {
   "cell_type": "code",
   "execution_count": 64,
   "metadata": {
    "collapsed": true,
    "deletable": true,
    "editable": true
   },
   "outputs": [],
   "source": [
    "train_split_df_economy_features = extract_economy_features(train_split_df)\n",
    "test_split_df_economy_features = extract_economy_features(test_split_df)"
   ]
  },
  {
   "cell_type": "code",
   "execution_count": 65,
   "metadata": {
    "collapsed": true,
    "deletable": true,
    "editable": true
   },
   "outputs": [],
   "source": [
    "train_split_df_population_features = extract_population_features(train_split_df)\n",
    "test_split_df_population_features = extract_population_features(test_split_df)"
   ]
  },
  {
   "cell_type": "code",
   "execution_count": 66,
   "metadata": {
    "collapsed": false,
    "deletable": true,
    "editable": true
   },
   "outputs": [],
   "source": [
    "train_split_df_categorical_features = extract_categorical_features(train_split_df)\n",
    "test_split_df_categorical_features = extract_categorical_features(test_split_df)"
   ]
  },
  {
   "cell_type": "code",
   "execution_count": 67,
   "metadata": {
    "collapsed": true,
    "deletable": true,
    "editable": true
   },
   "outputs": [],
   "source": [
    "def format_input(df):\n",
    "    temporal_features = extract_temporal_features(df)\n",
    "    property_features = extract_property_place_features(df)\n",
    "    locality_features = extract_locality_features(df)\n",
    "    economy_features = extract_economy_features(df)\n",
    "    population_features = extract_population_features(df)\n",
    "    categorical_features = extract_categorical_features(df)\n",
    "    return temporal_features, property_features, locality_features, economy_features, population_features, categorical_features"
   ]
  },
  {
   "cell_type": "markdown",
   "metadata": {
    "deletable": true,
    "editable": true
   },
   "source": [
    "## Model"
   ]
  },
  {
   "cell_type": "code",
   "execution_count": 68,
   "metadata": {
    "collapsed": true,
    "deletable": true,
    "editable": true
   },
   "outputs": [],
   "source": [
    "def temporal_submodel(num_temporal_features, dropout=0.25):\n",
    "    with tf.name_scope(\"temporal_submodel\"):\n",
    "        temporal_model = Sequential()\n",
    "        temporal_model.add(Dense(64, input_shape=(num_temporal_features,)))\n",
    "        temporal_model.add(BatchNormalization())\n",
    "        temporal_model.add(PReLU())\n",
    "        return temporal_model  "
   ]
  },
  {
   "cell_type": "code",
   "execution_count": 69,
   "metadata": {
    "collapsed": true,
    "deletable": true,
    "editable": true
   },
   "outputs": [],
   "source": [
    "def locality_submodel(num_locality_features, hidden_units=[512, 256, 128, 64], dropout=0.25):\n",
    "    \"\"\"\n",
    "    This submodel processess the locality-based features for a given place (eg. nearest subway in kilometers, etc.)\n",
    "    \"\"\"\n",
    "    with tf.name_scope(\"locality_submodel\"):\n",
    "        locality_model = Sequential()\n",
    "        for index, hidden_unit in enumerate(hidden_units):\n",
    "            if index == 0:\n",
    "                locality_model.add(Dense(hidden_unit, input_shape=(num_locality_features,)))\n",
    "                locality_model.add(BatchNormalization())\n",
    "                locality_model.add(PReLU())\n",
    "            else:\n",
    "                locality_model.add(Dense(hidden_unit))\n",
    "                locality_model.add(BatchNormalization())\n",
    "                locality_model.add(PReLU())\n",
    "        #locality_model.add(Dropout(dropout))\n",
    "        return locality_model"
   ]
  },
  {
   "cell_type": "code",
   "execution_count": 70,
   "metadata": {
    "collapsed": true,
    "deletable": true,
    "editable": true
   },
   "outputs": [],
   "source": [
    "def economy_submodel(num_economy_features, hidden_units=[512, 256, 128, 64], dropout=0.25):\n",
    "    \"\"\"\n",
    "    This submodel processess the economy-based features at a given time (eg. unemployment rate, etc.)\n",
    "    \"\"\"\n",
    "    with tf.name_scope(\"economy_submodel\"):\n",
    "        economy_model = Sequential()\n",
    "        \n",
    "        for index, hidden_unit in enumerate(hidden_units):\n",
    "            if index == 0:\n",
    "                economy_model.add(Dense(hidden_unit, input_shape=(num_economy_features,)))\n",
    "                economy_model.add(BatchNormalization())\n",
    "                economy_model.add(PReLU())\n",
    "            else:\n",
    "                economy_model.add(Dense(hidden_unit))\n",
    "                economy_model.add(BatchNormalization())\n",
    "                economy_model.add(PReLU())\n",
    "        return economy_model"
   ]
  },
  {
   "cell_type": "code",
   "execution_count": 71,
   "metadata": {
    "collapsed": true,
    "deletable": true,
    "editable": true
   },
   "outputs": [],
   "source": [
    "def population_submodel(num_population_features, hidden_units=[128, 64], dropout=0.25):\n",
    "    with tf.name_scope(\"population_submodel\"):\n",
    "        population_model = Sequential()\n",
    "        for index, hidden_unit in enumerate(hidden_units):\n",
    "            if index == 0:\n",
    "                population_model.add(Dense(hidden_unit, input_shape=(num_population_features,)))\n",
    "                population_model.add(BatchNormalization())\n",
    "                population_model.add(PReLU())\n",
    "            else:\n",
    "                population_model.add(Dense(hidden_unit))\n",
    "                population_model.add(BatchNormalization())\n",
    "                population_model.add(PReLU())\n",
    "        return population_model"
   ]
  },
  {
   "cell_type": "code",
   "execution_count": 72,
   "metadata": {
    "collapsed": true,
    "deletable": true,
    "editable": true
   },
   "outputs": [],
   "source": [
    "def property_submodel(num_property_features, hidden_units=[128, 64], dropout=0.25):\n",
    "    with tf.name_scope(\"property_submodel\"):\n",
    "        property_model = Sequential()\n",
    "        for index, hidden_unit in enumerate(hidden_units):\n",
    "            if index == 0:\n",
    "                property_model.add(Dense(hidden_unit, input_shape=(num_property_features,)))\n",
    "                property_model.add(BatchNormalization())\n",
    "                property_model.add(PReLU())\n",
    "            else:\n",
    "                property_model.add(Dense(hidden_unit))\n",
    "                property_model.add(BatchNormalization())\n",
    "                property_model.add(PReLU())\n",
    "        return property_model"
   ]
  },
  {
   "cell_type": "code",
   "execution_count": 73,
   "metadata": {
    "collapsed": false,
    "deletable": true,
    "editable": true
   },
   "outputs": [],
   "source": [
    "\"\"\"\n",
    "The main model, version: 0\n",
    "\"\"\" \n",
    "def main_model_v1(cat_num_classes={}, output_activation='relu'):\n",
    "    \n",
    "    with tf.name_scope(\"house_price_model\"):\n",
    "    \n",
    "        # Constants\n",
    "        num_locality_features = len(locality_columns)\n",
    "        num_economy_features = len(economy_columns)\n",
    "        num_population_features = len(population_columns)\n",
    "        num_property_features = len(property_columns)\n",
    "        num_temporal_features = len(time_columns)\n",
    "        num_material_classes = cat_num_classes[\"material\"]\n",
    "        num_state_classes = cat_num_classes['state']\n",
    "        \n",
    "        # Inputs\n",
    "        with tf.name_scope(\"inputs\"):\n",
    "            ## Continuous\n",
    "            time_input = Input(shape=(num_temporal_features,), name=\"temporal_input\")\n",
    "            property_input = Input(shape=(num_property_features,), name='property_input')\n",
    "            locality_input = Input(shape=(num_locality_features,), name='locality_input')\n",
    "            economy_input = Input(shape=(num_economy_features,), name=\"economy_input\")\n",
    "            population_input = Input(shape=(num_population_features,), name=\"population_input\")\n",
    "            ## Categorical (one-hot encoding; not using embeddings cuz number of classes is very small, but maybe should try later???)\n",
    "            material_input = Input(shape=(num_material_classes,), name='material_input')\n",
    "            state_input = Input(shape=(num_state_classes,), name='state_input')\n",
    "            ## Categorical (labelled)\n",
    "            sub_area_input = Input(shape=(1,), dtype='int32', name='sub_area_input')\n",
    "            sub_area_vocab_size = 200 # It's actually 146, but rounding it to 200\n",
    "            sub_area_embedding_dim = 8\n",
    "            \n",
    "        with tf.name_scope(\"sub_area_embedding\"):\n",
    "            # Network\n",
    "            ## Embedding\n",
    "            sub_area_vector = Embedding(output_dim=sub_area_embedding_dim, input_dim=sub_area_vocab_size, input_length=1, name=\"sub_area_embedding\")(sub_area_input)\n",
    "            sub_area_vector = TimeDistributed(Dense(64, activation='relu'))(sub_area_vector)\n",
    "            sub_area_vector = Reshape((64,))(sub_area_vector)\n",
    "            \n",
    "        with tf.name_scope(\"temporal_network\"):\n",
    "            temporal_model = temporal_submodel(num_temporal_features=num_temporal_features)\n",
    "            time_vector = temporal_model(time_input)\n",
    "           # time_output = Dense(1, activation='relu', name=\"time_output\")(time_vector)\n",
    "            \n",
    "        with tf.name_scope(\"property_network\"):\n",
    "            ## Map continuous input features into network\n",
    "            property_model = property_submodel(num_property_features=num_property_features)\n",
    "            property_vector = property_model(property_input)\n",
    "           # property_output = Dense(1, activation='relu', name=\"property_output\")(property_vector)\n",
    "            \n",
    "        with tf.name_scope(\"locality_network\"):\n",
    "            ## Map locality based input features into network via submodel\n",
    "            locality_model = locality_submodel(num_locality_features=num_locality_features)\n",
    "            locality_vector = locality_model(locality_input)\n",
    "           # locality_output = Dense(1, activation='relu', name=\"locality_output\")(locality_vector)\n",
    "            \n",
    "        with tf.name_scope(\"economy_network\"):\n",
    "            ## Map continuous input features into network\n",
    "            economy_model = economy_submodel(num_economy_features=num_economy_features)\n",
    "            economy_vector = economy_model(economy_input)\n",
    "           # economy_output = Dense(1, activation='relu', name=\"economy_output\")(economy_vector)\n",
    "            \n",
    "        with tf.name_scope(\"population_network\"):\n",
    "            ## Map continuous input features into network\n",
    "            population_model = population_submodel(num_population_features=num_population_features)\n",
    "            population_vector = population_model(population_input)\n",
    "           # population_output = Dense(1, activation='relu', name=\"population_output\")(population_vector)\n",
    "            \n",
    "        with tf.name_scope(\"material_network\"):\n",
    "            ## Map material input feature into network\n",
    "            material_vector = Dense(128)(material_input)\n",
    "            material_vector = PReLU()(material_vector)\n",
    "            material_vector = Dropout(0.2)(material_vector)\n",
    "            material_vector = Dense(64)(material_vector)\n",
    "            material_vector = PReLU()(material_vector)\n",
    "            \n",
    "        with tf.name_scope(\"state_network\"): \n",
    "            ## Map state input feature into network\n",
    "            state_vector = Dense(128)(state_input)\n",
    "            state_vector = PReLU()(state_vector)\n",
    "            state_vector = Dropout(0.2)(state_vector)\n",
    "            state_vector = Dense(64)(state_vector)\n",
    "            state_vector = PReLU()(state_vector)\n",
    "            \n",
    "        with tf.name_scope(\"merge_layer\"):\n",
    "            ## Concatenate all suboutput vectors into one big vector\n",
    "            merged_output_vector = Concatenate()([time_vector, property_vector, locality_vector, economy_vector, population_vector, material_vector, state_vector, sub_area_vector])\n",
    "            merged_output_vector = BatchNormalization()(merged_output_vector) # Batch normalize this combined pre-output vector\n",
    "\n",
    "            \n",
    "        with tf.name_scope(\"fully_connected\"):\n",
    "            ## Some final hidden layers\n",
    "            merged_output_vector = Dense(1024)(merged_output_vector)\n",
    "            merged_output_vector = PReLU()(merged_output_vector)\n",
    "            merged_output_vector = Dropout(0.4)(merged_output_vector)\n",
    "            merged_output_vector = Dense(512)(merged_output_vector)\n",
    "            merged_output_vector = PReLU()(merged_output_vector)\n",
    "            merged_output_vector = Dropout(0.2)(merged_output_vector)\n",
    "            merged_output_vector = Dense(256)(merged_output_vector)\n",
    "            merged_output_vector = PReLU()(merged_output_vector)\n",
    "            merged_output_vector = Dropout(0.2)(merged_output_vector)\n",
    "            merged_output_vector = Dense(128)(merged_output_vector)\n",
    "            merged_output_vector = PReLU()(merged_output_vector)\n",
    "            merged_output_vector = Dropout(0.1)(merged_output_vector)\n",
    "    \n",
    "        main_output = Dense(1, activation=output_activation, name=\"main_output\")(merged_output_vector)\n",
    "        \n",
    "        return [time_input, property_input, locality_input, economy_input, population_input, material_input, state_input, sub_area_input], main_output"
   ]
  },
  {
   "cell_type": "code",
   "execution_count": 74,
   "metadata": {
    "collapsed": false,
    "deletable": true,
    "editable": true
   },
   "outputs": [],
   "source": [
    "num_classes_material = train_split_df_categorical_features['material'].shape[1]\n",
    "num_classes_state = train_split_df_categorical_features['state_refractored'].shape[1]\n",
    "\n",
    "inputs, outputs = main_model_v1({\"material\" : num_classes_material, \"state\" : num_classes_state})\n",
    "\n",
    "real_estate_price_model = Model(inputs=inputs, outputs=outputs)"
   ]
  },
  {
   "cell_type": "code",
   "execution_count": 75,
   "metadata": {
    "collapsed": false,
    "deletable": true,
    "editable": true
   },
   "outputs": [
    {
     "data": {
      "image/svg+xml": [
       "<svg height=\"1526pt\" viewBox=\"0.00 0.00 1920.00 1526.00\" width=\"1920pt\" xmlns=\"http://www.w3.org/2000/svg\" xmlns:xlink=\"http://www.w3.org/1999/xlink\">\n",
       "<g class=\"graph\" id=\"graph0\" transform=\"scale(1 1) rotate(0) translate(4 1522)\">\n",
       "<title>G</title>\n",
       "<polygon fill=\"white\" points=\"-4,4 -4,-1522 1916,-1522 1916,4 -4,4\" stroke=\"none\"/>\n",
       "<!-- 140220825110608 -->\n",
       "<g class=\"node\" id=\"node1\"><title>140220825110608</title>\n",
       "<polygon fill=\"none\" points=\"-0.5,-1481 -0.5,-1517 210.5,-1517 210.5,-1481 -0.5,-1481\" stroke=\"black\"/>\n",
       "<text font-family=\"Times,serif\" font-size=\"14.00\" text-anchor=\"middle\" x=\"105\" y=\"-1495.3\">material_input: InputLayer</text>\n",
       "</g>\n",
       "<!-- 140220825109712 -->\n",
       "<g class=\"node\" id=\"node3\"><title>140220825109712</title>\n",
       "<polygon fill=\"none\" points=\"36.5,-1407 36.5,-1443 173.5,-1443 173.5,-1407 36.5,-1407\" stroke=\"black\"/>\n",
       "<text font-family=\"Times,serif\" font-size=\"14.00\" text-anchor=\"middle\" x=\"105\" y=\"-1421.3\">dense_15: Dense</text>\n",
       "</g>\n",
       "<!-- 140220825110608&#45;&gt;140220825109712 -->\n",
       "<g class=\"edge\" id=\"edge1\"><title>140220825110608-&gt;140220825109712</title>\n",
       "<path d=\"M105,-1480.94C105,-1472.81 105,-1462.88 105,-1453.7\" fill=\"none\" stroke=\"black\"/>\n",
       "<polygon fill=\"black\" points=\"108.5,-1453.44 105,-1443.44 101.5,-1453.44 108.5,-1453.44\" stroke=\"black\"/>\n",
       "</g>\n",
       "<!-- 140220825012048 -->\n",
       "<g class=\"node\" id=\"node2\"><title>140220825012048</title>\n",
       "<polygon fill=\"none\" points=\"1329.5,-1481 1329.5,-1517 1516.5,-1517 1516.5,-1481 1329.5,-1481\" stroke=\"black\"/>\n",
       "<text font-family=\"Times,serif\" font-size=\"14.00\" text-anchor=\"middle\" x=\"1423\" y=\"-1495.3\">state_input: InputLayer</text>\n",
       "</g>\n",
       "<!-- 140220753391440 -->\n",
       "<g class=\"node\" id=\"node4\"><title>140220753391440</title>\n",
       "<polygon fill=\"none\" points=\"1354.5,-1407 1354.5,-1443 1491.5,-1443 1491.5,-1407 1354.5,-1407\" stroke=\"black\"/>\n",
       "<text font-family=\"Times,serif\" font-size=\"14.00\" text-anchor=\"middle\" x=\"1423\" y=\"-1421.3\">dense_17: Dense</text>\n",
       "</g>\n",
       "<!-- 140220825012048&#45;&gt;140220753391440 -->\n",
       "<g class=\"edge\" id=\"edge2\"><title>140220825012048-&gt;140220753391440</title>\n",
       "<path d=\"M1423,-1480.94C1423,-1472.81 1423,-1462.88 1423,-1453.7\" fill=\"none\" stroke=\"black\"/>\n",
       "<polygon fill=\"black\" points=\"1426.5,-1453.44 1423,-1443.44 1419.5,-1453.44 1426.5,-1453.44\" stroke=\"black\"/>\n",
       "</g>\n",
       "<!-- 140220756810576 -->\n",
       "<g class=\"node\" id=\"node5\"><title>140220756810576</title>\n",
       "<polygon fill=\"none\" points=\"29,-1333 29,-1369 181,-1369 181,-1333 29,-1333\" stroke=\"black\"/>\n",
       "<text font-family=\"Times,serif\" font-size=\"14.00\" text-anchor=\"middle\" x=\"105\" y=\"-1347.3\">p_re_lu_14: PReLU</text>\n",
       "</g>\n",
       "<!-- 140220825109712&#45;&gt;140220756810576 -->\n",
       "<g class=\"edge\" id=\"edge3\"><title>140220825109712-&gt;140220756810576</title>\n",
       "<path d=\"M105,-1406.94C105,-1398.81 105,-1388.88 105,-1379.7\" fill=\"none\" stroke=\"black\"/>\n",
       "<polygon fill=\"black\" points=\"108.5,-1379.44 105,-1369.44 101.5,-1379.44 108.5,-1379.44\" stroke=\"black\"/>\n",
       "</g>\n",
       "<!-- 140220753197968 -->\n",
       "<g class=\"node\" id=\"node6\"><title>140220753197968</title>\n",
       "<polygon fill=\"none\" points=\"1347,-1333 1347,-1369 1499,-1369 1499,-1333 1347,-1333\" stroke=\"black\"/>\n",
       "<text font-family=\"Times,serif\" font-size=\"14.00\" text-anchor=\"middle\" x=\"1423\" y=\"-1347.3\">p_re_lu_16: PReLU</text>\n",
       "</g>\n",
       "<!-- 140220753391440&#45;&gt;140220753197968 -->\n",
       "<g class=\"edge\" id=\"edge4\"><title>140220753391440-&gt;140220753197968</title>\n",
       "<path d=\"M1423,-1406.94C1423,-1398.81 1423,-1388.88 1423,-1379.7\" fill=\"none\" stroke=\"black\"/>\n",
       "<polygon fill=\"black\" points=\"1426.5,-1379.44 1423,-1369.44 1419.5,-1379.44 1426.5,-1379.44\" stroke=\"black\"/>\n",
       "</g>\n",
       "<!-- 140220754938896 -->\n",
       "<g class=\"node\" id=\"node8\"><title>140220754938896</title>\n",
       "<polygon fill=\"none\" points=\"26.5,-1259 26.5,-1295 183.5,-1295 183.5,-1259 26.5,-1259\" stroke=\"black\"/>\n",
       "<text font-family=\"Times,serif\" font-size=\"14.00\" text-anchor=\"middle\" x=\"105\" y=\"-1273.3\">dropout_1: Dropout</text>\n",
       "</g>\n",
       "<!-- 140220756810576&#45;&gt;140220754938896 -->\n",
       "<g class=\"edge\" id=\"edge5\"><title>140220756810576-&gt;140220754938896</title>\n",
       "<path d=\"M105,-1332.94C105,-1324.81 105,-1314.88 105,-1305.7\" fill=\"none\" stroke=\"black\"/>\n",
       "<polygon fill=\"black\" points=\"108.5,-1305.44 105,-1295.44 101.5,-1305.44 108.5,-1305.44\" stroke=\"black\"/>\n",
       "</g>\n",
       "<!-- 140220752939152 -->\n",
       "<g class=\"node\" id=\"node9\"><title>140220752939152</title>\n",
       "<polygon fill=\"none\" points=\"1344.5,-1259 1344.5,-1295 1501.5,-1295 1501.5,-1259 1344.5,-1259\" stroke=\"black\"/>\n",
       "<text font-family=\"Times,serif\" font-size=\"14.00\" text-anchor=\"middle\" x=\"1423\" y=\"-1273.3\">dropout_2: Dropout</text>\n",
       "</g>\n",
       "<!-- 140220753197968&#45;&gt;140220752939152 -->\n",
       "<g class=\"edge\" id=\"edge6\"><title>140220753197968-&gt;140220752939152</title>\n",
       "<path d=\"M1423,-1332.94C1423,-1324.81 1423,-1314.88 1423,-1305.7\" fill=\"none\" stroke=\"black\"/>\n",
       "<polygon fill=\"black\" points=\"1426.5,-1305.44 1423,-1295.44 1419.5,-1305.44 1426.5,-1305.44\" stroke=\"black\"/>\n",
       "</g>\n",
       "<!-- 140220825013776 -->\n",
       "<g class=\"node\" id=\"node7\"><title>140220825013776</title>\n",
       "<polygon fill=\"none\" points=\"1603.5,-1333 1603.5,-1369 1818.5,-1369 1818.5,-1333 1603.5,-1333\" stroke=\"black\"/>\n",
       "<text font-family=\"Times,serif\" font-size=\"14.00\" text-anchor=\"middle\" x=\"1711\" y=\"-1347.3\">sub_area_input: InputLayer</text>\n",
       "</g>\n",
       "<!-- 140220825110288 -->\n",
       "<g class=\"node\" id=\"node10\"><title>140220825110288</title>\n",
       "<polygon fill=\"none\" points=\"1581.5,-1259 1581.5,-1295 1840.5,-1295 1840.5,-1259 1581.5,-1259\" stroke=\"black\"/>\n",
       "<text font-family=\"Times,serif\" font-size=\"14.00\" text-anchor=\"middle\" x=\"1711\" y=\"-1273.3\">sub_area_embedding: Embedding</text>\n",
       "</g>\n",
       "<!-- 140220825013776&#45;&gt;140220825110288 -->\n",
       "<g class=\"edge\" id=\"edge7\"><title>140220825013776-&gt;140220825110288</title>\n",
       "<path d=\"M1711,-1332.94C1711,-1324.81 1711,-1314.88 1711,-1305.7\" fill=\"none\" stroke=\"black\"/>\n",
       "<polygon fill=\"black\" points=\"1714.5,-1305.44 1711,-1295.44 1707.5,-1305.44 1714.5,-1305.44\" stroke=\"black\"/>\n",
       "</g>\n",
       "<!-- 140220755727184 -->\n",
       "<g class=\"node\" id=\"node16\"><title>140220755727184</title>\n",
       "<polygon fill=\"none\" points=\"36.5,-1185 36.5,-1221 173.5,-1221 173.5,-1185 36.5,-1185\" stroke=\"black\"/>\n",
       "<text font-family=\"Times,serif\" font-size=\"14.00\" text-anchor=\"middle\" x=\"105\" y=\"-1199.3\">dense_16: Dense</text>\n",
       "</g>\n",
       "<!-- 140220754938896&#45;&gt;140220755727184 -->\n",
       "<g class=\"edge\" id=\"edge8\"><title>140220754938896-&gt;140220755727184</title>\n",
       "<path d=\"M105,-1258.94C105,-1250.81 105,-1240.88 105,-1231.7\" fill=\"none\" stroke=\"black\"/>\n",
       "<polygon fill=\"black\" points=\"108.5,-1231.44 105,-1221.44 101.5,-1231.44 108.5,-1231.44\" stroke=\"black\"/>\n",
       "</g>\n",
       "<!-- 140220752939984 -->\n",
       "<g class=\"node\" id=\"node17\"><title>140220752939984</title>\n",
       "<polygon fill=\"none\" points=\"1354.5,-1185 1354.5,-1221 1491.5,-1221 1491.5,-1185 1354.5,-1185\" stroke=\"black\"/>\n",
       "<text font-family=\"Times,serif\" font-size=\"14.00\" text-anchor=\"middle\" x=\"1423\" y=\"-1199.3\">dense_18: Dense</text>\n",
       "</g>\n",
       "<!-- 140220752939152&#45;&gt;140220752939984 -->\n",
       "<g class=\"edge\" id=\"edge9\"><title>140220752939152-&gt;140220752939984</title>\n",
       "<path d=\"M1423,-1258.94C1423,-1250.81 1423,-1240.88 1423,-1231.7\" fill=\"none\" stroke=\"black\"/>\n",
       "<polygon fill=\"black\" points=\"1426.5,-1231.44 1423,-1221.44 1419.5,-1231.44 1426.5,-1231.44\" stroke=\"black\"/>\n",
       "</g>\n",
       "<!-- 140220825011920 -->\n",
       "<g class=\"node\" id=\"node18\"><title>140220825011920</title>\n",
       "<polygon fill=\"none\" points=\"1510,-1185 1510,-1221 1912,-1221 1912,-1185 1510,-1185\" stroke=\"black\"/>\n",
       "<text font-family=\"Times,serif\" font-size=\"14.00\" text-anchor=\"middle\" x=\"1711\" y=\"-1199.3\">time_distributed_1(dense_1): TimeDistributed(Dense)</text>\n",
       "</g>\n",
       "<!-- 140220825110288&#45;&gt;140220825011920 -->\n",
       "<g class=\"edge\" id=\"edge10\"><title>140220825110288-&gt;140220825011920</title>\n",
       "<path d=\"M1711,-1258.94C1711,-1250.81 1711,-1240.88 1711,-1231.7\" fill=\"none\" stroke=\"black\"/>\n",
       "<polygon fill=\"black\" points=\"1714.5,-1231.44 1711,-1221.44 1707.5,-1231.44 1714.5,-1231.44\" stroke=\"black\"/>\n",
       "</g>\n",
       "<!-- 140220825109584 -->\n",
       "<g class=\"node\" id=\"node11\"><title>140220825109584</title>\n",
       "<polygon fill=\"none\" points=\"191.5,-1185 191.5,-1221 406.5,-1221 406.5,-1185 191.5,-1185\" stroke=\"black\"/>\n",
       "<text font-family=\"Times,serif\" font-size=\"14.00\" text-anchor=\"middle\" x=\"299\" y=\"-1199.3\">temporal_input: InputLayer</text>\n",
       "</g>\n",
       "<!-- 140220825194320 -->\n",
       "<g class=\"node\" id=\"node19\"><title>140220825194320</title>\n",
       "<polygon fill=\"none\" points=\"230,-1111 230,-1147 422,-1147 422,-1111 230,-1111\" stroke=\"black\"/>\n",
       "<text font-family=\"Times,serif\" font-size=\"14.00\" text-anchor=\"middle\" x=\"326\" y=\"-1125.3\">sequential_1: Sequential</text>\n",
       "</g>\n",
       "<!-- 140220825109584&#45;&gt;140220825194320 -->\n",
       "<g class=\"edge\" id=\"edge11\"><title>140220825109584-&gt;140220825194320</title>\n",
       "<path d=\"M305.399,-1184.94C308.547,-1176.54 312.415,-1166.23 315.946,-1156.81\" fill=\"none\" stroke=\"black\"/>\n",
       "<polygon fill=\"black\" points=\"319.226,-1158.03 319.46,-1147.44 312.671,-1155.58 319.226,-1158.03\" stroke=\"black\"/>\n",
       "</g>\n",
       "<!-- 140220856422992 -->\n",
       "<g class=\"node\" id=\"node12\"><title>140220856422992</title>\n",
       "<polygon fill=\"none\" points=\"424.5,-1185 424.5,-1221 637.5,-1221 637.5,-1185 424.5,-1185\" stroke=\"black\"/>\n",
       "<text font-family=\"Times,serif\" font-size=\"14.00\" text-anchor=\"middle\" x=\"531\" y=\"-1199.3\">property_input: InputLayer</text>\n",
       "</g>\n",
       "<!-- 140220775631952 -->\n",
       "<g class=\"node\" id=\"node20\"><title>140220775631952</title>\n",
       "<polygon fill=\"none\" points=\"450,-1111 450,-1147 642,-1147 642,-1111 450,-1111\" stroke=\"black\"/>\n",
       "<text font-family=\"Times,serif\" font-size=\"14.00\" text-anchor=\"middle\" x=\"546\" y=\"-1125.3\">sequential_2: Sequential</text>\n",
       "</g>\n",
       "<!-- 140220856422992&#45;&gt;140220775631952 -->\n",
       "<g class=\"edge\" id=\"edge12\"><title>140220856422992-&gt;140220775631952</title>\n",
       "<path d=\"M534.555,-1184.94C536.267,-1176.72 538.362,-1166.66 540.29,-1157.41\" fill=\"none\" stroke=\"black\"/>\n",
       "<polygon fill=\"black\" points=\"543.753,-1157.94 542.367,-1147.44 536.9,-1156.52 543.753,-1157.94\" stroke=\"black\"/>\n",
       "</g>\n",
       "<!-- 140220825111056 -->\n",
       "<g class=\"node\" id=\"node13\"><title>140220825111056</title>\n",
       "<polygon fill=\"none\" points=\"655.5,-1185 655.5,-1221 858.5,-1221 858.5,-1185 655.5,-1185\" stroke=\"black\"/>\n",
       "<text font-family=\"Times,serif\" font-size=\"14.00\" text-anchor=\"middle\" x=\"757\" y=\"-1199.3\">locality_input: InputLayer</text>\n",
       "</g>\n",
       "<!-- 140220825013904 -->\n",
       "<g class=\"node\" id=\"node21\"><title>140220825013904</title>\n",
       "<polygon fill=\"none\" points=\"665,-1111 665,-1147 857,-1147 857,-1111 665,-1111\" stroke=\"black\"/>\n",
       "<text font-family=\"Times,serif\" font-size=\"14.00\" text-anchor=\"middle\" x=\"761\" y=\"-1125.3\">sequential_3: Sequential</text>\n",
       "</g>\n",
       "<!-- 140220825111056&#45;&gt;140220825013904 -->\n",
       "<g class=\"edge\" id=\"edge13\"><title>140220825111056-&gt;140220825013904</title>\n",
       "<path d=\"M757.948,-1184.94C758.4,-1176.81 758.951,-1166.88 759.461,-1157.7\" fill=\"none\" stroke=\"black\"/>\n",
       "<polygon fill=\"black\" points=\"762.971,-1157.62 760.031,-1147.44 755.982,-1157.23 762.971,-1157.62\" stroke=\"black\"/>\n",
       "</g>\n",
       "<!-- 140220825112528 -->\n",
       "<g class=\"node\" id=\"node14\"><title>140220825112528</title>\n",
       "<polygon fill=\"none\" points=\"876.5,-1185 876.5,-1221 1091.5,-1221 1091.5,-1185 876.5,-1185\" stroke=\"black\"/>\n",
       "<text font-family=\"Times,serif\" font-size=\"14.00\" text-anchor=\"middle\" x=\"984\" y=\"-1199.3\">economy_input: InputLayer</text>\n",
       "</g>\n",
       "<!-- 140220731989456 -->\n",
       "<g class=\"node\" id=\"node22\"><title>140220731989456</title>\n",
       "<polygon fill=\"none\" points=\"883,-1111 883,-1147 1075,-1147 1075,-1111 883,-1111\" stroke=\"black\"/>\n",
       "<text font-family=\"Times,serif\" font-size=\"14.00\" text-anchor=\"middle\" x=\"979\" y=\"-1125.3\">sequential_4: Sequential</text>\n",
       "</g>\n",
       "<!-- 140220825112528&#45;&gt;140220731989456 -->\n",
       "<g class=\"edge\" id=\"edge14\"><title>140220825112528-&gt;140220731989456</title>\n",
       "<path d=\"M982.815,-1184.94C982.25,-1176.81 981.561,-1166.88 980.924,-1157.7\" fill=\"none\" stroke=\"black\"/>\n",
       "<polygon fill=\"black\" points=\"984.396,-1157.17 980.211,-1147.44 977.412,-1157.66 984.396,-1157.17\" stroke=\"black\"/>\n",
       "</g>\n",
       "<!-- 140220825111952 -->\n",
       "<g class=\"node\" id=\"node15\"><title>140220825111952</title>\n",
       "<polygon fill=\"none\" points=\"1109.5,-1185 1109.5,-1221 1336.5,-1221 1336.5,-1185 1109.5,-1185\" stroke=\"black\"/>\n",
       "<text font-family=\"Times,serif\" font-size=\"14.00\" text-anchor=\"middle\" x=\"1223\" y=\"-1199.3\">population_input: InputLayer</text>\n",
       "</g>\n",
       "<!-- 140220761848912 -->\n",
       "<g class=\"node\" id=\"node23\"><title>140220761848912</title>\n",
       "<polygon fill=\"none\" points=\"1112,-1111 1112,-1147 1304,-1147 1304,-1111 1112,-1111\" stroke=\"black\"/>\n",
       "<text font-family=\"Times,serif\" font-size=\"14.00\" text-anchor=\"middle\" x=\"1208\" y=\"-1125.3\">sequential_5: Sequential</text>\n",
       "</g>\n",
       "<!-- 140220825111952&#45;&gt;140220761848912 -->\n",
       "<g class=\"edge\" id=\"edge15\"><title>140220825111952-&gt;140220761848912</title>\n",
       "<path d=\"M1219.45,-1184.94C1217.73,-1176.72 1215.64,-1166.66 1213.71,-1157.41\" fill=\"none\" stroke=\"black\"/>\n",
       "<polygon fill=\"black\" points=\"1217.1,-1156.52 1211.63,-1147.44 1210.25,-1157.94 1217.1,-1156.52\" stroke=\"black\"/>\n",
       "</g>\n",
       "<!-- 140220753648272 -->\n",
       "<g class=\"node\" id=\"node24\"><title>140220753648272</title>\n",
       "<polygon fill=\"none\" points=\"39,-1111 39,-1147 191,-1147 191,-1111 39,-1111\" stroke=\"black\"/>\n",
       "<text font-family=\"Times,serif\" font-size=\"14.00\" text-anchor=\"middle\" x=\"115\" y=\"-1125.3\">p_re_lu_15: PReLU</text>\n",
       "</g>\n",
       "<!-- 140220755727184&#45;&gt;140220753648272 -->\n",
       "<g class=\"edge\" id=\"edge16\"><title>140220755727184-&gt;140220753648272</title>\n",
       "<path d=\"M107.37,-1184.94C108.511,-1176.72 109.908,-1166.66 111.194,-1157.41\" fill=\"none\" stroke=\"black\"/>\n",
       "<polygon fill=\"black\" points=\"114.669,-1157.83 112.578,-1147.44 107.735,-1156.86 114.669,-1157.83\" stroke=\"black\"/>\n",
       "</g>\n",
       "<!-- 140220752611408 -->\n",
       "<g class=\"node\" id=\"node25\"><title>140220752611408</title>\n",
       "<polygon fill=\"none\" points=\"1336,-1111 1336,-1147 1488,-1147 1488,-1111 1336,-1111\" stroke=\"black\"/>\n",
       "<text font-family=\"Times,serif\" font-size=\"14.00\" text-anchor=\"middle\" x=\"1412\" y=\"-1125.3\">p_re_lu_17: PReLU</text>\n",
       "</g>\n",
       "<!-- 140220752939984&#45;&gt;140220752611408 -->\n",
       "<g class=\"edge\" id=\"edge17\"><title>140220752939984-&gt;140220752611408</title>\n",
       "<path d=\"M1420.39,-1184.94C1419.14,-1176.72 1417.6,-1166.66 1416.19,-1157.41\" fill=\"none\" stroke=\"black\"/>\n",
       "<polygon fill=\"black\" points=\"1419.63,-1156.8 1414.66,-1147.44 1412.72,-1157.85 1419.63,-1156.8\" stroke=\"black\"/>\n",
       "</g>\n",
       "<!-- 140220852968400 -->\n",
       "<g class=\"node\" id=\"node26\"><title>140220852968400</title>\n",
       "<polygon fill=\"none\" points=\"1570,-1111 1570,-1147 1730,-1147 1730,-1111 1570,-1111\" stroke=\"black\"/>\n",
       "<text font-family=\"Times,serif\" font-size=\"14.00\" text-anchor=\"middle\" x=\"1650\" y=\"-1125.3\">reshape_1: Reshape</text>\n",
       "</g>\n",
       "<!-- 140220825011920&#45;&gt;140220852968400 -->\n",
       "<g class=\"edge\" id=\"edge18\"><title>140220825011920-&gt;140220852968400</title>\n",
       "<path d=\"M1696.54,-1184.94C1689.06,-1176.1 1679.77,-1165.14 1671.46,-1155.33\" fill=\"none\" stroke=\"black\"/>\n",
       "<polygon fill=\"black\" points=\"1673.91,-1152.81 1664.78,-1147.44 1668.57,-1157.33 1673.91,-1152.81\" stroke=\"black\"/>\n",
       "</g>\n",
       "<!-- 140220752424720 -->\n",
       "<g class=\"node\" id=\"node27\"><title>140220752424720</title>\n",
       "<polygon fill=\"none\" points=\"759.5,-1037 759.5,-1073 980.5,-1073 980.5,-1037 759.5,-1037\" stroke=\"black\"/>\n",
       "<text font-family=\"Times,serif\" font-size=\"14.00\" text-anchor=\"middle\" x=\"870\" y=\"-1051.3\">concatenate_1: Concatenate</text>\n",
       "</g>\n",
       "<!-- 140220825194320&#45;&gt;140220752424720 -->\n",
       "<g class=\"edge\" id=\"edge19\"><title>140220825194320-&gt;140220752424720</title>\n",
       "<path d=\"M422.286,-1112.71C428.616,-1111.77 434.897,-1110.86 441,-1110 544.852,-1095.34 663.131,-1080.6 749.154,-1070.23\" fill=\"none\" stroke=\"black\"/>\n",
       "<polygon fill=\"black\" points=\"749.707,-1073.69 759.217,-1069.02 748.871,-1066.74 749.707,-1073.69\" stroke=\"black\"/>\n",
       "</g>\n",
       "<!-- 140220775631952&#45;&gt;140220752424720 -->\n",
       "<g class=\"edge\" id=\"edge20\"><title>140220775631952-&gt;140220752424720</title>\n",
       "<path d=\"M622.783,-1110.94C671.116,-1100.2 733.596,-1086.31 783.65,-1075.19\" fill=\"none\" stroke=\"black\"/>\n",
       "<polygon fill=\"black\" points=\"784.485,-1078.59 793.487,-1073 782.966,-1071.76 784.485,-1078.59\" stroke=\"black\"/>\n",
       "</g>\n",
       "<!-- 140220825013904&#45;&gt;140220752424720 -->\n",
       "<g class=\"edge\" id=\"edge21\"><title>140220825013904-&gt;140220752424720</title>\n",
       "<path d=\"M786.831,-1110.94C801.386,-1101.32 819.753,-1089.19 835.523,-1078.77\" fill=\"none\" stroke=\"black\"/>\n",
       "<polygon fill=\"black\" points=\"837.561,-1081.62 843.976,-1073.19 833.703,-1075.78 837.561,-1081.62\" stroke=\"black\"/>\n",
       "</g>\n",
       "<!-- 140220731989456&#45;&gt;140220752424720 -->\n",
       "<g class=\"edge\" id=\"edge22\"><title>140220731989456-&gt;140220752424720</title>\n",
       "<path d=\"M953.169,-1110.94C938.614,-1101.32 920.247,-1089.19 904.477,-1078.77\" fill=\"none\" stroke=\"black\"/>\n",
       "<polygon fill=\"black\" points=\"906.297,-1075.78 896.024,-1073.19 902.439,-1081.62 906.297,-1075.78\" stroke=\"black\"/>\n",
       "</g>\n",
       "<!-- 140220761848912&#45;&gt;140220752424720 -->\n",
       "<g class=\"edge\" id=\"edge23\"><title>140220761848912-&gt;140220752424720</title>\n",
       "<path d=\"M1127.9,-1110.94C1077.37,-1100.17 1012.03,-1086.25 959.755,-1075.12\" fill=\"none\" stroke=\"black\"/>\n",
       "<polygon fill=\"black\" points=\"960.328,-1071.66 949.819,-1073 958.87,-1078.51 960.328,-1071.66\" stroke=\"black\"/>\n",
       "</g>\n",
       "<!-- 140220753648272&#45;&gt;140220752424720 -->\n",
       "<g class=\"edge\" id=\"edge24\"><title>140220753648272-&gt;140220752424720</title>\n",
       "<path d=\"M191.023,-1114.29C201.085,-1112.71 211.277,-1111.23 221,-1110 404.664,-1086.81 618.878,-1071.19 749.431,-1062.95\" fill=\"none\" stroke=\"black\"/>\n",
       "<polygon fill=\"black\" points=\"749.7,-1066.44 759.462,-1062.32 749.262,-1059.45 749.7,-1066.44\" stroke=\"black\"/>\n",
       "</g>\n",
       "<!-- 140220752611408&#45;&gt;140220752424720 -->\n",
       "<g class=\"edge\" id=\"edge25\"><title>140220752611408-&gt;140220752424720</title>\n",
       "<path d=\"M1335.87,-1113.69C1328.15,-1112.38 1320.43,-1111.13 1313,-1110 1204.39,-1093.52 1080.2,-1078.73 990.998,-1068.81\" fill=\"none\" stroke=\"black\"/>\n",
       "<polygon fill=\"black\" points=\"991.168,-1065.31 980.844,-1067.69 990.398,-1072.27 991.168,-1065.31\" stroke=\"black\"/>\n",
       "</g>\n",
       "<!-- 140220852968400&#45;&gt;140220752424720 -->\n",
       "<g class=\"edge\" id=\"edge26\"><title>140220852968400-&gt;140220752424720</title>\n",
       "<path d=\"M1569.85,-1118.09C1546.39,-1115.32 1520.68,-1112.41 1497,-1110 1321.06,-1092.08 1116.94,-1075.23 990.617,-1065.27\" fill=\"none\" stroke=\"black\"/>\n",
       "<polygon fill=\"black\" points=\"990.771,-1061.77 980.527,-1064.47 990.222,-1068.74 990.771,-1061.77\" stroke=\"black\"/>\n",
       "</g>\n",
       "<!-- 140220752741776 -->\n",
       "<g class=\"node\" id=\"node28\"><title>140220752741776</title>\n",
       "<polygon fill=\"none\" points=\"699.5,-963 699.5,-999 1040.5,-999 1040.5,-963 699.5,-963\" stroke=\"black\"/>\n",
       "<text font-family=\"Times,serif\" font-size=\"14.00\" text-anchor=\"middle\" x=\"870\" y=\"-977.3\">batch_normalization_14: BatchNormalization</text>\n",
       "</g>\n",
       "<!-- 140220752424720&#45;&gt;140220752741776 -->\n",
       "<g class=\"edge\" id=\"edge27\"><title>140220752424720-&gt;140220752741776</title>\n",
       "<path d=\"M870,-1036.94C870,-1028.81 870,-1018.88 870,-1009.7\" fill=\"none\" stroke=\"black\"/>\n",
       "<polygon fill=\"black\" points=\"873.5,-1009.44 870,-999.441 866.5,-1009.44 873.5,-1009.44\" stroke=\"black\"/>\n",
       "</g>\n",
       "<!-- 140220752101328 -->\n",
       "<g class=\"node\" id=\"node29\"><title>140220752101328</title>\n",
       "<polygon fill=\"none\" points=\"801.5,-889 801.5,-925 938.5,-925 938.5,-889 801.5,-889\" stroke=\"black\"/>\n",
       "<text font-family=\"Times,serif\" font-size=\"14.00\" text-anchor=\"middle\" x=\"870\" y=\"-903.3\">dense_19: Dense</text>\n",
       "</g>\n",
       "<!-- 140220752741776&#45;&gt;140220752101328 -->\n",
       "<g class=\"edge\" id=\"edge28\"><title>140220752741776-&gt;140220752101328</title>\n",
       "<path d=\"M870,-962.937C870,-954.807 870,-944.876 870,-935.705\" fill=\"none\" stroke=\"black\"/>\n",
       "<polygon fill=\"black\" points=\"873.5,-935.441 870,-925.441 866.5,-935.441 873.5,-935.441\" stroke=\"black\"/>\n",
       "</g>\n",
       "<!-- 140220751761360 -->\n",
       "<g class=\"node\" id=\"node30\"><title>140220751761360</title>\n",
       "<polygon fill=\"none\" points=\"794,-815 794,-851 946,-851 946,-815 794,-815\" stroke=\"black\"/>\n",
       "<text font-family=\"Times,serif\" font-size=\"14.00\" text-anchor=\"middle\" x=\"870\" y=\"-829.3\">p_re_lu_18: PReLU</text>\n",
       "</g>\n",
       "<!-- 140220752101328&#45;&gt;140220751761360 -->\n",
       "<g class=\"edge\" id=\"edge29\"><title>140220752101328-&gt;140220751761360</title>\n",
       "<path d=\"M870,-888.937C870,-880.807 870,-870.876 870,-861.705\" fill=\"none\" stroke=\"black\"/>\n",
       "<polygon fill=\"black\" points=\"873.5,-861.441 870,-851.441 866.5,-861.441 873.5,-861.441\" stroke=\"black\"/>\n",
       "</g>\n",
       "<!-- 140220751240080 -->\n",
       "<g class=\"node\" id=\"node31\"><title>140220751240080</title>\n",
       "<polygon fill=\"none\" points=\"791.5,-741 791.5,-777 948.5,-777 948.5,-741 791.5,-741\" stroke=\"black\"/>\n",
       "<text font-family=\"Times,serif\" font-size=\"14.00\" text-anchor=\"middle\" x=\"870\" y=\"-755.3\">dropout_3: Dropout</text>\n",
       "</g>\n",
       "<!-- 140220751761360&#45;&gt;140220751240080 -->\n",
       "<g class=\"edge\" id=\"edge30\"><title>140220751761360-&gt;140220751240080</title>\n",
       "<path d=\"M870,-814.937C870,-806.807 870,-796.876 870,-787.705\" fill=\"none\" stroke=\"black\"/>\n",
       "<polygon fill=\"black\" points=\"873.5,-787.441 870,-777.441 866.5,-787.441 873.5,-787.441\" stroke=\"black\"/>\n",
       "</g>\n",
       "<!-- 140220751309456 -->\n",
       "<g class=\"node\" id=\"node32\"><title>140220751309456</title>\n",
       "<polygon fill=\"none\" points=\"801.5,-667 801.5,-703 938.5,-703 938.5,-667 801.5,-667\" stroke=\"black\"/>\n",
       "<text font-family=\"Times,serif\" font-size=\"14.00\" text-anchor=\"middle\" x=\"870\" y=\"-681.3\">dense_20: Dense</text>\n",
       "</g>\n",
       "<!-- 140220751240080&#45;&gt;140220751309456 -->\n",
       "<g class=\"edge\" id=\"edge31\"><title>140220751240080-&gt;140220751309456</title>\n",
       "<path d=\"M870,-740.937C870,-732.807 870,-722.876 870,-713.705\" fill=\"none\" stroke=\"black\"/>\n",
       "<polygon fill=\"black\" points=\"873.5,-713.441 870,-703.441 866.5,-713.441 873.5,-713.441\" stroke=\"black\"/>\n",
       "</g>\n",
       "<!-- 140220750835216 -->\n",
       "<g class=\"node\" id=\"node33\"><title>140220750835216</title>\n",
       "<polygon fill=\"none\" points=\"794,-593 794,-629 946,-629 946,-593 794,-593\" stroke=\"black\"/>\n",
       "<text font-family=\"Times,serif\" font-size=\"14.00\" text-anchor=\"middle\" x=\"870\" y=\"-607.3\">p_re_lu_19: PReLU</text>\n",
       "</g>\n",
       "<!-- 140220751309456&#45;&gt;140220750835216 -->\n",
       "<g class=\"edge\" id=\"edge32\"><title>140220751309456-&gt;140220750835216</title>\n",
       "<path d=\"M870,-666.937C870,-658.807 870,-648.876 870,-639.705\" fill=\"none\" stroke=\"black\"/>\n",
       "<polygon fill=\"black\" points=\"873.5,-639.441 870,-629.441 866.5,-639.441 873.5,-639.441\" stroke=\"black\"/>\n",
       "</g>\n",
       "<!-- 140220750176144 -->\n",
       "<g class=\"node\" id=\"node34\"><title>140220750176144</title>\n",
       "<polygon fill=\"none\" points=\"791.5,-519 791.5,-555 948.5,-555 948.5,-519 791.5,-519\" stroke=\"black\"/>\n",
       "<text font-family=\"Times,serif\" font-size=\"14.00\" text-anchor=\"middle\" x=\"870\" y=\"-533.3\">dropout_4: Dropout</text>\n",
       "</g>\n",
       "<!-- 140220750835216&#45;&gt;140220750176144 -->\n",
       "<g class=\"edge\" id=\"edge33\"><title>140220750835216-&gt;140220750176144</title>\n",
       "<path d=\"M870,-592.937C870,-584.807 870,-574.876 870,-565.705\" fill=\"none\" stroke=\"black\"/>\n",
       "<polygon fill=\"black\" points=\"873.5,-565.441 870,-555.441 866.5,-565.441 873.5,-565.441\" stroke=\"black\"/>\n",
       "</g>\n",
       "<!-- 140220749929424 -->\n",
       "<g class=\"node\" id=\"node35\"><title>140220749929424</title>\n",
       "<polygon fill=\"none\" points=\"801.5,-445 801.5,-481 938.5,-481 938.5,-445 801.5,-445\" stroke=\"black\"/>\n",
       "<text font-family=\"Times,serif\" font-size=\"14.00\" text-anchor=\"middle\" x=\"870\" y=\"-459.3\">dense_21: Dense</text>\n",
       "</g>\n",
       "<!-- 140220750176144&#45;&gt;140220749929424 -->\n",
       "<g class=\"edge\" id=\"edge34\"><title>140220750176144-&gt;140220749929424</title>\n",
       "<path d=\"M870,-518.937C870,-510.807 870,-500.876 870,-491.705\" fill=\"none\" stroke=\"black\"/>\n",
       "<polygon fill=\"black\" points=\"873.5,-491.441 870,-481.441 866.5,-491.441 873.5,-491.441\" stroke=\"black\"/>\n",
       "</g>\n",
       "<!-- 140220750393936 -->\n",
       "<g class=\"node\" id=\"node36\"><title>140220750393936</title>\n",
       "<polygon fill=\"none\" points=\"794,-371 794,-407 946,-407 946,-371 794,-371\" stroke=\"black\"/>\n",
       "<text font-family=\"Times,serif\" font-size=\"14.00\" text-anchor=\"middle\" x=\"870\" y=\"-385.3\">p_re_lu_20: PReLU</text>\n",
       "</g>\n",
       "<!-- 140220749929424&#45;&gt;140220750393936 -->\n",
       "<g class=\"edge\" id=\"edge35\"><title>140220749929424-&gt;140220750393936</title>\n",
       "<path d=\"M870,-444.937C870,-436.807 870,-426.876 870,-417.705\" fill=\"none\" stroke=\"black\"/>\n",
       "<polygon fill=\"black\" points=\"873.5,-417.441 870,-407.441 866.5,-417.441 873.5,-417.441\" stroke=\"black\"/>\n",
       "</g>\n",
       "<!-- 140220749729744 -->\n",
       "<g class=\"node\" id=\"node37\"><title>140220749729744</title>\n",
       "<polygon fill=\"none\" points=\"791.5,-297 791.5,-333 948.5,-333 948.5,-297 791.5,-297\" stroke=\"black\"/>\n",
       "<text font-family=\"Times,serif\" font-size=\"14.00\" text-anchor=\"middle\" x=\"870\" y=\"-311.3\">dropout_5: Dropout</text>\n",
       "</g>\n",
       "<!-- 140220750393936&#45;&gt;140220749729744 -->\n",
       "<g class=\"edge\" id=\"edge36\"><title>140220750393936-&gt;140220749729744</title>\n",
       "<path d=\"M870,-370.937C870,-362.807 870,-352.876 870,-343.705\" fill=\"none\" stroke=\"black\"/>\n",
       "<polygon fill=\"black\" points=\"873.5,-343.441 870,-333.441 866.5,-343.441 873.5,-343.441\" stroke=\"black\"/>\n",
       "</g>\n",
       "<!-- 140220749479184 -->\n",
       "<g class=\"node\" id=\"node38\"><title>140220749479184</title>\n",
       "<polygon fill=\"none\" points=\"801.5,-223 801.5,-259 938.5,-259 938.5,-223 801.5,-223\" stroke=\"black\"/>\n",
       "<text font-family=\"Times,serif\" font-size=\"14.00\" text-anchor=\"middle\" x=\"870\" y=\"-237.3\">dense_22: Dense</text>\n",
       "</g>\n",
       "<!-- 140220749729744&#45;&gt;140220749479184 -->\n",
       "<g class=\"edge\" id=\"edge37\"><title>140220749729744-&gt;140220749479184</title>\n",
       "<path d=\"M870,-296.937C870,-288.807 870,-278.876 870,-269.705\" fill=\"none\" stroke=\"black\"/>\n",
       "<polygon fill=\"black\" points=\"873.5,-269.441 870,-259.441 866.5,-269.441 873.5,-269.441\" stroke=\"black\"/>\n",
       "</g>\n",
       "<!-- 140220749799184 -->\n",
       "<g class=\"node\" id=\"node39\"><title>140220749799184</title>\n",
       "<polygon fill=\"none\" points=\"794,-149 794,-185 946,-185 946,-149 794,-149\" stroke=\"black\"/>\n",
       "<text font-family=\"Times,serif\" font-size=\"14.00\" text-anchor=\"middle\" x=\"870\" y=\"-163.3\">p_re_lu_21: PReLU</text>\n",
       "</g>\n",
       "<!-- 140220749479184&#45;&gt;140220749799184 -->\n",
       "<g class=\"edge\" id=\"edge38\"><title>140220749479184-&gt;140220749799184</title>\n",
       "<path d=\"M870,-222.937C870,-214.807 870,-204.876 870,-195.705\" fill=\"none\" stroke=\"black\"/>\n",
       "<polygon fill=\"black\" points=\"873.5,-195.441 870,-185.441 866.5,-195.441 873.5,-195.441\" stroke=\"black\"/>\n",
       "</g>\n",
       "<!-- 140220749281360 -->\n",
       "<g class=\"node\" id=\"node40\"><title>140220749281360</title>\n",
       "<polygon fill=\"none\" points=\"791.5,-75 791.5,-111 948.5,-111 948.5,-75 791.5,-75\" stroke=\"black\"/>\n",
       "<text font-family=\"Times,serif\" font-size=\"14.00\" text-anchor=\"middle\" x=\"870\" y=\"-89.3\">dropout_6: Dropout</text>\n",
       "</g>\n",
       "<!-- 140220749799184&#45;&gt;140220749281360 -->\n",
       "<g class=\"edge\" id=\"edge39\"><title>140220749799184-&gt;140220749281360</title>\n",
       "<path d=\"M870,-148.937C870,-140.807 870,-130.876 870,-121.705\" fill=\"none\" stroke=\"black\"/>\n",
       "<polygon fill=\"black\" points=\"873.5,-121.441 870,-111.441 866.5,-121.441 873.5,-121.441\" stroke=\"black\"/>\n",
       "</g>\n",
       "<!-- 140220825263696 -->\n",
       "<g class=\"node\" id=\"node41\"><title>140220825263696</title>\n",
       "<polygon fill=\"none\" points=\"790,-1 790,-37 950,-37 950,-1 790,-1\" stroke=\"black\"/>\n",
       "<text font-family=\"Times,serif\" font-size=\"14.00\" text-anchor=\"middle\" x=\"870\" y=\"-15.3\">main_output: Dense</text>\n",
       "</g>\n",
       "<!-- 140220749281360&#45;&gt;140220825263696 -->\n",
       "<g class=\"edge\" id=\"edge40\"><title>140220749281360-&gt;140220825263696</title>\n",
       "<path d=\"M870,-74.937C870,-66.8072 870,-56.8761 870,-47.7047\" fill=\"none\" stroke=\"black\"/>\n",
       "<polygon fill=\"black\" points=\"873.5,-47.4406 870,-37.4407 866.5,-47.4407 873.5,-47.4406\" stroke=\"black\"/>\n",
       "</g>\n",
       "</g>\n",
       "</svg>"
      ],
      "text/plain": [
       "<IPython.core.display.SVG object>"
      ]
     },
     "execution_count": 75,
     "metadata": {},
     "output_type": "execute_result"
    }
   ],
   "source": [
    "from IPython.display import Image, display, SVG\n",
    "from keras.utils.vis_utils import model_to_dot\n",
    "\n",
    "# Show the model in ipython notebook\n",
    "SVG(model_to_dot(real_estate_price_model).create(prog='dot', format='svg'))"
   ]
  },
  {
   "cell_type": "code",
   "execution_count": 76,
   "metadata": {
    "collapsed": false,
    "deletable": true,
    "editable": true
   },
   "outputs": [],
   "source": [
    "# Save the model as png file\n",
    "from keras.utils.vis_utils import plot_model\n",
    "plot_model(real_estate_price_model, to_file='/mnt/h/Kaggle/Competitions/Russian Bank/models/'+version_str+'/model.png', show_shapes=True)"
   ]
  },
  {
   "cell_type": "code",
   "execution_count": 77,
   "metadata": {
    "collapsed": true,
    "deletable": true,
    "editable": true
   },
   "outputs": [],
   "source": [
    "def root_mean_squared_logarithmic_error(y_true, y_pred):\n",
    "    y_pred_log = K.log(y_pred + 1.)\n",
    "    y_true_log = K.log(y_true + 1.)\n",
    "    return K.sqrt(K.mean(K.square(y_pred_log - y_true_log), axis = -1))"
   ]
  },
  {
   "cell_type": "code",
   "execution_count": 78,
   "metadata": {
    "collapsed": true,
    "deletable": true,
    "editable": true
   },
   "outputs": [],
   "source": [
    "real_estate_price_model.compile(optimizer = \"adam\", \n",
    "                          loss = root_mean_squared_logarithmic_error\n",
    "                         )"
   ]
  },
  {
   "cell_type": "markdown",
   "metadata": {
    "deletable": true,
    "editable": true
   },
   "source": [
    "### Train the model"
   ]
  },
  {
   "cell_type": "code",
   "execution_count": 79,
   "metadata": {
    "collapsed": true,
    "deletable": true,
    "editable": true
   },
   "outputs": [],
   "source": [
    "epochs = 100"
   ]
  },
  {
   "cell_type": "code",
   "execution_count": 80,
   "metadata": {
    "collapsed": false,
    "deletable": true,
    "editable": true
   },
   "outputs": [],
   "source": [
    "checkpointer = ModelCheckpoint(filepath=\"/mnt/h/Kaggle/Competitions/Russian Bank/models/\" + version_str + \"/\" + \"weights.{epoch:02d}-{val_loss:.2f}.hdf5\", verbose=1, save_best_only=True)\n",
    "tensorboard = TensorBoard(log_dir=\"/mnt/h/Kaggle/Competitions/Russian Bank/models/\" + version_str + \"/logs/\",\n",
    "                          histogram_freq=0, \n",
    "                          write_graph=True, \n",
    "                         # write_grads=True, \n",
    "                          write_images=False, \n",
    "                          embeddings_freq=5, \n",
    "                          embeddings_layer_names=[\n",
    "                              'sub_area_embedding'\n",
    "                          ], embeddings_metadata={\n",
    "                              'sub_area_embedding':'/mnt/h/Kaggle/Competitions/Russian Bank/models/metadata/sub_area_metadata.tsv'\n",
    "                          })\n",
    "early_stopping = EarlyStopping(monitor='val_loss', patience=20, verbose=0, mode='auto')\n",
    "callbacks = [checkpointer, tensorboard, early_stopping]"
   ]
  },
  {
   "cell_type": "code",
   "execution_count": 81,
   "metadata": {
    "collapsed": true,
    "deletable": true,
    "editable": true
   },
   "outputs": [
    {
     "ename": "KeyboardInterrupt",
     "evalue": "",
     "output_type": "error",
     "traceback": [
      "\u001b[0;31m---------------------------------------------------------------------------\u001b[0m",
      "\u001b[0;31mKeyboardInterrupt\u001b[0m                         Traceback (most recent call last)",
      "\u001b[0;32m<ipython-input-81-347a046a132e>\u001b[0m in \u001b[0;36m<module>\u001b[0;34m()\u001b[0m\n\u001b[1;32m     13\u001b[0m                       \u001b[0mvalidation_split\u001b[0m\u001b[0;34m=\u001b[0m\u001b[0;36m0.20\u001b[0m\u001b[0;34m,\u001b[0m\u001b[0;34m\u001b[0m\u001b[0m\n\u001b[1;32m     14\u001b[0m                       \u001b[0mshuffle\u001b[0m\u001b[0;34m=\u001b[0m\u001b[0mTrue\u001b[0m\u001b[0;34m,\u001b[0m\u001b[0;34m\u001b[0m\u001b[0m\n\u001b[0;32m---> 15\u001b[0;31m                       epochs=epochs)\n\u001b[0m",
      "\u001b[0;32m/usr/local/lib/python2.7/dist-packages/keras/engine/training.pyc\u001b[0m in \u001b[0;36mfit\u001b[0;34m(self, x, y, batch_size, epochs, verbose, callbacks, validation_split, validation_data, shuffle, class_weight, sample_weight, initial_epoch, **kwargs)\u001b[0m\n\u001b[1;32m   1474\u001b[0m         \u001b[0;32melse\u001b[0m\u001b[0;34m:\u001b[0m\u001b[0;34m\u001b[0m\u001b[0m\n\u001b[1;32m   1475\u001b[0m             \u001b[0mins\u001b[0m \u001b[0;34m=\u001b[0m \u001b[0mx\u001b[0m \u001b[0;34m+\u001b[0m \u001b[0my\u001b[0m \u001b[0;34m+\u001b[0m \u001b[0msample_weights\u001b[0m\u001b[0;34m\u001b[0m\u001b[0m\n\u001b[0;32m-> 1476\u001b[0;31m         \u001b[0mself\u001b[0m\u001b[0;34m.\u001b[0m\u001b[0m_make_train_function\u001b[0m\u001b[0;34m(\u001b[0m\u001b[0;34m)\u001b[0m\u001b[0;34m\u001b[0m\u001b[0m\n\u001b[0m\u001b[1;32m   1477\u001b[0m         \u001b[0mf\u001b[0m \u001b[0;34m=\u001b[0m \u001b[0mself\u001b[0m\u001b[0;34m.\u001b[0m\u001b[0mtrain_function\u001b[0m\u001b[0;34m\u001b[0m\u001b[0m\n\u001b[1;32m   1478\u001b[0m \u001b[0;34m\u001b[0m\u001b[0m\n",
      "\u001b[0;32m/usr/local/lib/python2.7/dist-packages/keras/engine/training.pyc\u001b[0m in \u001b[0;36m_make_train_function\u001b[0;34m(self)\u001b[0m\n\u001b[1;32m   1006\u001b[0m                 \u001b[0mself\u001b[0m\u001b[0;34m.\u001b[0m\u001b[0m_collected_trainable_weights\u001b[0m\u001b[0;34m,\u001b[0m\u001b[0;34m\u001b[0m\u001b[0m\n\u001b[1;32m   1007\u001b[0m                 \u001b[0mself\u001b[0m\u001b[0;34m.\u001b[0m\u001b[0mconstraints\u001b[0m\u001b[0;34m,\u001b[0m\u001b[0;34m\u001b[0m\u001b[0m\n\u001b[0;32m-> 1008\u001b[0;31m                 self.total_loss)\n\u001b[0m\u001b[1;32m   1009\u001b[0m             \u001b[0mupdates\u001b[0m \u001b[0;34m=\u001b[0m \u001b[0mself\u001b[0m\u001b[0;34m.\u001b[0m\u001b[0mupdates\u001b[0m \u001b[0;34m+\u001b[0m \u001b[0mtraining_updates\u001b[0m\u001b[0;34m\u001b[0m\u001b[0m\n\u001b[1;32m   1010\u001b[0m             \u001b[0;31m# Gets loss and metrics. Updates weights at each call.\u001b[0m\u001b[0;34m\u001b[0m\u001b[0;34m\u001b[0m\u001b[0m\n",
      "\u001b[0;32m/usr/local/lib/python2.7/dist-packages/keras/optimizers.pyc\u001b[0m in \u001b[0;36mget_updates\u001b[0;34m(self, params, constraints, loss)\u001b[0m\n\u001b[1;32m    379\u001b[0m \u001b[0;34m\u001b[0m\u001b[0m\n\u001b[1;32m    380\u001b[0m     \u001b[0;32mdef\u001b[0m \u001b[0mget_updates\u001b[0m\u001b[0;34m(\u001b[0m\u001b[0mself\u001b[0m\u001b[0;34m,\u001b[0m \u001b[0mparams\u001b[0m\u001b[0;34m,\u001b[0m \u001b[0mconstraints\u001b[0m\u001b[0;34m,\u001b[0m \u001b[0mloss\u001b[0m\u001b[0;34m)\u001b[0m\u001b[0;34m:\u001b[0m\u001b[0;34m\u001b[0m\u001b[0m\n\u001b[0;32m--> 381\u001b[0;31m         \u001b[0mgrads\u001b[0m \u001b[0;34m=\u001b[0m \u001b[0mself\u001b[0m\u001b[0;34m.\u001b[0m\u001b[0mget_gradients\u001b[0m\u001b[0;34m(\u001b[0m\u001b[0mloss\u001b[0m\u001b[0;34m,\u001b[0m \u001b[0mparams\u001b[0m\u001b[0;34m)\u001b[0m\u001b[0;34m\u001b[0m\u001b[0m\n\u001b[0m\u001b[1;32m    382\u001b[0m         \u001b[0mself\u001b[0m\u001b[0;34m.\u001b[0m\u001b[0mupdates\u001b[0m \u001b[0;34m=\u001b[0m \u001b[0;34m[\u001b[0m\u001b[0mK\u001b[0m\u001b[0;34m.\u001b[0m\u001b[0mupdate_add\u001b[0m\u001b[0;34m(\u001b[0m\u001b[0mself\u001b[0m\u001b[0;34m.\u001b[0m\u001b[0miterations\u001b[0m\u001b[0;34m,\u001b[0m \u001b[0;36m1\u001b[0m\u001b[0;34m)\u001b[0m\u001b[0;34m]\u001b[0m\u001b[0;34m\u001b[0m\u001b[0m\n\u001b[1;32m    383\u001b[0m \u001b[0;34m\u001b[0m\u001b[0m\n",
      "\u001b[0;32m/usr/local/lib/python2.7/dist-packages/keras/optimizers.pyc\u001b[0m in \u001b[0;36mget_gradients\u001b[0;34m(self, loss, params)\u001b[0m\n\u001b[1;32m     45\u001b[0m \u001b[0;34m\u001b[0m\u001b[0m\n\u001b[1;32m     46\u001b[0m     \u001b[0;32mdef\u001b[0m \u001b[0mget_gradients\u001b[0m\u001b[0;34m(\u001b[0m\u001b[0mself\u001b[0m\u001b[0;34m,\u001b[0m \u001b[0mloss\u001b[0m\u001b[0;34m,\u001b[0m \u001b[0mparams\u001b[0m\u001b[0;34m)\u001b[0m\u001b[0;34m:\u001b[0m\u001b[0;34m\u001b[0m\u001b[0m\n\u001b[0;32m---> 47\u001b[0;31m         \u001b[0mgrads\u001b[0m \u001b[0;34m=\u001b[0m \u001b[0mK\u001b[0m\u001b[0;34m.\u001b[0m\u001b[0mgradients\u001b[0m\u001b[0;34m(\u001b[0m\u001b[0mloss\u001b[0m\u001b[0;34m,\u001b[0m \u001b[0mparams\u001b[0m\u001b[0;34m)\u001b[0m\u001b[0;34m\u001b[0m\u001b[0m\n\u001b[0m\u001b[1;32m     48\u001b[0m         \u001b[0;32mif\u001b[0m \u001b[0mhasattr\u001b[0m\u001b[0;34m(\u001b[0m\u001b[0mself\u001b[0m\u001b[0;34m,\u001b[0m \u001b[0;34m'clipnorm'\u001b[0m\u001b[0;34m)\u001b[0m \u001b[0;32mand\u001b[0m \u001b[0mself\u001b[0m\u001b[0;34m.\u001b[0m\u001b[0mclipnorm\u001b[0m \u001b[0;34m>\u001b[0m \u001b[0;36m0\u001b[0m\u001b[0;34m:\u001b[0m\u001b[0;34m\u001b[0m\u001b[0m\n\u001b[1;32m     49\u001b[0m             \u001b[0mnorm\u001b[0m \u001b[0;34m=\u001b[0m \u001b[0mK\u001b[0m\u001b[0;34m.\u001b[0m\u001b[0msqrt\u001b[0m\u001b[0;34m(\u001b[0m\u001b[0msum\u001b[0m\u001b[0;34m(\u001b[0m\u001b[0;34m[\u001b[0m\u001b[0mK\u001b[0m\u001b[0;34m.\u001b[0m\u001b[0msum\u001b[0m\u001b[0;34m(\u001b[0m\u001b[0mK\u001b[0m\u001b[0;34m.\u001b[0m\u001b[0msquare\u001b[0m\u001b[0;34m(\u001b[0m\u001b[0mg\u001b[0m\u001b[0;34m)\u001b[0m\u001b[0;34m)\u001b[0m \u001b[0;32mfor\u001b[0m \u001b[0mg\u001b[0m \u001b[0;32min\u001b[0m \u001b[0mgrads\u001b[0m\u001b[0;34m]\u001b[0m\u001b[0;34m)\u001b[0m\u001b[0;34m)\u001b[0m\u001b[0;34m\u001b[0m\u001b[0m\n",
      "\u001b[0;32m/usr/local/lib/python2.7/dist-packages/keras/backend/tensorflow_backend.pyc\u001b[0m in \u001b[0;36mgradients\u001b[0;34m(loss, variables)\u001b[0m\n\u001b[1;32m   2164\u001b[0m         \u001b[0mA\u001b[0m \u001b[0mgradients\u001b[0m \u001b[0mtensor\u001b[0m\u001b[0;34m.\u001b[0m\u001b[0;34m\u001b[0m\u001b[0m\n\u001b[1;32m   2165\u001b[0m     \"\"\"\n\u001b[0;32m-> 2166\u001b[0;31m     \u001b[0;32mreturn\u001b[0m \u001b[0mtf\u001b[0m\u001b[0;34m.\u001b[0m\u001b[0mgradients\u001b[0m\u001b[0;34m(\u001b[0m\u001b[0mloss\u001b[0m\u001b[0;34m,\u001b[0m \u001b[0mvariables\u001b[0m\u001b[0;34m,\u001b[0m \u001b[0mcolocate_gradients_with_ops\u001b[0m\u001b[0;34m=\u001b[0m\u001b[0mTrue\u001b[0m\u001b[0;34m)\u001b[0m\u001b[0;34m\u001b[0m\u001b[0m\n\u001b[0m\u001b[1;32m   2167\u001b[0m \u001b[0;34m\u001b[0m\u001b[0m\n\u001b[1;32m   2168\u001b[0m \u001b[0;34m\u001b[0m\u001b[0m\n",
      "\u001b[0;32m/usr/local/lib/python2.7/dist-packages/tensorflow/python/ops/gradients_impl.pyc\u001b[0m in \u001b[0;36mgradients\u001b[0;34m(ys, xs, grad_ys, name, colocate_gradients_with_ops, gate_gradients, aggregation_method)\u001b[0m\n\u001b[1;32m    480\u001b[0m                 \u001b[0;31m# If grad_fn was found, do not use SymbolicGradient even for\u001b[0m\u001b[0;34m\u001b[0m\u001b[0;34m\u001b[0m\u001b[0m\n\u001b[1;32m    481\u001b[0m                 \u001b[0;31m# functions.\u001b[0m\u001b[0;34m\u001b[0m\u001b[0;34m\u001b[0m\u001b[0m\n\u001b[0;32m--> 482\u001b[0;31m                 \u001b[0min_grads\u001b[0m \u001b[0;34m=\u001b[0m \u001b[0mgrad_fn\u001b[0m\u001b[0;34m(\u001b[0m\u001b[0mop\u001b[0m\u001b[0;34m,\u001b[0m \u001b[0;34m*\u001b[0m\u001b[0mout_grads\u001b[0m\u001b[0;34m)\u001b[0m\u001b[0;34m\u001b[0m\u001b[0m\n\u001b[0m\u001b[1;32m    483\u001b[0m               \u001b[0;32melse\u001b[0m\u001b[0;34m:\u001b[0m\u001b[0;34m\u001b[0m\u001b[0m\n\u001b[1;32m    484\u001b[0m                 \u001b[0;31m# For function call ops, we add a 'SymbolicGradient'\u001b[0m\u001b[0;34m\u001b[0m\u001b[0;34m\u001b[0m\u001b[0m\n",
      "\u001b[0;32m/usr/local/lib/python2.7/dist-packages/tensorflow/python/ops/math_grad.pyc\u001b[0m in \u001b[0;36m_MulGrad\u001b[0;34m(op, grad)\u001b[0m\n\u001b[1;32m    611\u001b[0m   \u001b[0mx\u001b[0m \u001b[0;34m=\u001b[0m \u001b[0mmath_ops\u001b[0m\u001b[0;34m.\u001b[0m\u001b[0mconj\u001b[0m\u001b[0;34m(\u001b[0m\u001b[0mx\u001b[0m\u001b[0;34m)\u001b[0m\u001b[0;34m\u001b[0m\u001b[0m\n\u001b[1;32m    612\u001b[0m   \u001b[0my\u001b[0m \u001b[0;34m=\u001b[0m \u001b[0mmath_ops\u001b[0m\u001b[0;34m.\u001b[0m\u001b[0mconj\u001b[0m\u001b[0;34m(\u001b[0m\u001b[0my\u001b[0m\u001b[0;34m)\u001b[0m\u001b[0;34m\u001b[0m\u001b[0m\n\u001b[0;32m--> 613\u001b[0;31m   return (array_ops.reshape(math_ops.reduce_sum(grad * y, rx), sx),\n\u001b[0m\u001b[1;32m    614\u001b[0m           array_ops.reshape(math_ops.reduce_sum(x * grad, ry), sy))\n\u001b[1;32m    615\u001b[0m \u001b[0;34m\u001b[0m\u001b[0m\n",
      "\u001b[0;32m/usr/local/lib/python2.7/dist-packages/tensorflow/python/ops/math_ops.pyc\u001b[0m in \u001b[0;36mreduce_sum\u001b[0;34m(input_tensor, axis, keep_dims, name, reduction_indices)\u001b[0m\n\u001b[1;32m   1204\u001b[0m       \u001b[0m_ReductionDims\u001b[0m\u001b[0;34m(\u001b[0m\u001b[0minput_tensor\u001b[0m\u001b[0;34m,\u001b[0m \u001b[0maxis\u001b[0m\u001b[0;34m,\u001b[0m \u001b[0mreduction_indices\u001b[0m\u001b[0;34m)\u001b[0m\u001b[0;34m,\u001b[0m\u001b[0;34m\u001b[0m\u001b[0m\n\u001b[1;32m   1205\u001b[0m       \u001b[0mkeep_dims\u001b[0m\u001b[0;34m,\u001b[0m\u001b[0;34m\u001b[0m\u001b[0m\n\u001b[0;32m-> 1206\u001b[0;31m       name=name)\n\u001b[0m\u001b[1;32m   1207\u001b[0m \u001b[0;34m\u001b[0m\u001b[0m\n\u001b[1;32m   1208\u001b[0m \u001b[0;34m\u001b[0m\u001b[0m\n",
      "\u001b[0;32m/usr/local/lib/python2.7/dist-packages/tensorflow/python/ops/gen_math_ops.pyc\u001b[0m in \u001b[0;36m_sum\u001b[0;34m(input, reduction_indices, keep_dims, name)\u001b[0m\n\u001b[1;32m   2802\u001b[0m   result = _op_def_lib.apply_op(\"Sum\", input=input,\n\u001b[1;32m   2803\u001b[0m                                 \u001b[0mreduction_indices\u001b[0m\u001b[0;34m=\u001b[0m\u001b[0mreduction_indices\u001b[0m\u001b[0;34m,\u001b[0m\u001b[0;34m\u001b[0m\u001b[0m\n\u001b[0;32m-> 2804\u001b[0;31m                                 keep_dims=keep_dims, name=name)\n\u001b[0m\u001b[1;32m   2805\u001b[0m   \u001b[0;32mreturn\u001b[0m \u001b[0mresult\u001b[0m\u001b[0;34m\u001b[0m\u001b[0m\n\u001b[1;32m   2806\u001b[0m \u001b[0;34m\u001b[0m\u001b[0m\n",
      "\u001b[0;32m/usr/local/lib/python2.7/dist-packages/tensorflow/python/framework/op_def_library.pyc\u001b[0m in \u001b[0;36mapply_op\u001b[0;34m(self, op_type_name, name, **keywords)\u001b[0m\n\u001b[1;32m    761\u001b[0m         op = g.create_op(op_type_name, inputs, output_types, name=scope,\n\u001b[1;32m    762\u001b[0m                          \u001b[0minput_types\u001b[0m\u001b[0;34m=\u001b[0m\u001b[0minput_types\u001b[0m\u001b[0;34m,\u001b[0m \u001b[0mattrs\u001b[0m\u001b[0;34m=\u001b[0m\u001b[0mattr_protos\u001b[0m\u001b[0;34m,\u001b[0m\u001b[0;34m\u001b[0m\u001b[0m\n\u001b[0;32m--> 763\u001b[0;31m                          op_def=op_def)\n\u001b[0m\u001b[1;32m    764\u001b[0m         \u001b[0;32mif\u001b[0m \u001b[0moutput_structure\u001b[0m\u001b[0;34m:\u001b[0m\u001b[0;34m\u001b[0m\u001b[0m\n\u001b[1;32m    765\u001b[0m           \u001b[0moutputs\u001b[0m \u001b[0;34m=\u001b[0m \u001b[0mop\u001b[0m\u001b[0;34m.\u001b[0m\u001b[0moutputs\u001b[0m\u001b[0;34m\u001b[0m\u001b[0m\n",
      "\u001b[0;32m/usr/local/lib/python2.7/dist-packages/tensorflow/python/framework/ops.pyc\u001b[0m in \u001b[0;36mcreate_op\u001b[0;34m(self, op_type, inputs, dtypes, input_types, name, attrs, op_def, compute_shapes, compute_device)\u001b[0m\n\u001b[1;32m   2327\u001b[0m                     original_op=self._default_original_op, op_def=op_def)\n\u001b[1;32m   2328\u001b[0m     \u001b[0;32mif\u001b[0m \u001b[0mcompute_shapes\u001b[0m\u001b[0;34m:\u001b[0m\u001b[0;34m\u001b[0m\u001b[0m\n\u001b[0;32m-> 2329\u001b[0;31m       \u001b[0mset_shapes_for_outputs\u001b[0m\u001b[0;34m(\u001b[0m\u001b[0mret\u001b[0m\u001b[0;34m)\u001b[0m\u001b[0;34m\u001b[0m\u001b[0m\n\u001b[0m\u001b[1;32m   2330\u001b[0m     \u001b[0mself\u001b[0m\u001b[0;34m.\u001b[0m\u001b[0m_add_op\u001b[0m\u001b[0;34m(\u001b[0m\u001b[0mret\u001b[0m\u001b[0;34m)\u001b[0m\u001b[0;34m\u001b[0m\u001b[0m\n\u001b[1;32m   2331\u001b[0m     \u001b[0mself\u001b[0m\u001b[0;34m.\u001b[0m\u001b[0m_record_op_seen_by_control_dependencies\u001b[0m\u001b[0;34m(\u001b[0m\u001b[0mret\u001b[0m\u001b[0;34m)\u001b[0m\u001b[0;34m\u001b[0m\u001b[0m\n",
      "\u001b[0;32m/usr/local/lib/python2.7/dist-packages/tensorflow/python/framework/ops.pyc\u001b[0m in \u001b[0;36mset_shapes_for_outputs\u001b[0;34m(op)\u001b[0m\n\u001b[1;32m   1715\u001b[0m       \u001b[0mshape_func\u001b[0m \u001b[0;34m=\u001b[0m \u001b[0m_call_cpp_shape_fn_and_require_op\u001b[0m\u001b[0;34m\u001b[0m\u001b[0m\n\u001b[1;32m   1716\u001b[0m \u001b[0;34m\u001b[0m\u001b[0m\n\u001b[0;32m-> 1717\u001b[0;31m   \u001b[0mshapes\u001b[0m \u001b[0;34m=\u001b[0m \u001b[0mshape_func\u001b[0m\u001b[0;34m(\u001b[0m\u001b[0mop\u001b[0m\u001b[0;34m)\u001b[0m\u001b[0;34m\u001b[0m\u001b[0m\n\u001b[0m\u001b[1;32m   1718\u001b[0m   \u001b[0;32mif\u001b[0m \u001b[0mshapes\u001b[0m \u001b[0;32mis\u001b[0m \u001b[0mNone\u001b[0m\u001b[0;34m:\u001b[0m\u001b[0;34m\u001b[0m\u001b[0m\n\u001b[1;32m   1719\u001b[0m     raise RuntimeError(\n",
      "\u001b[0;32m/usr/local/lib/python2.7/dist-packages/tensorflow/python/framework/ops.pyc\u001b[0m in \u001b[0;36mcall_with_requiring\u001b[0;34m(op)\u001b[0m\n\u001b[1;32m   1665\u001b[0m \u001b[0;34m\u001b[0m\u001b[0m\n\u001b[1;32m   1666\u001b[0m   \u001b[0;32mdef\u001b[0m \u001b[0mcall_with_requiring\u001b[0m\u001b[0;34m(\u001b[0m\u001b[0mop\u001b[0m\u001b[0;34m)\u001b[0m\u001b[0;34m:\u001b[0m\u001b[0;34m\u001b[0m\u001b[0m\n\u001b[0;32m-> 1667\u001b[0;31m     \u001b[0;32mreturn\u001b[0m \u001b[0mcall_cpp_shape_fn\u001b[0m\u001b[0;34m(\u001b[0m\u001b[0mop\u001b[0m\u001b[0;34m,\u001b[0m \u001b[0mrequire_shape_fn\u001b[0m\u001b[0;34m=\u001b[0m\u001b[0mTrue\u001b[0m\u001b[0;34m)\u001b[0m\u001b[0;34m\u001b[0m\u001b[0m\n\u001b[0m\u001b[1;32m   1668\u001b[0m \u001b[0;34m\u001b[0m\u001b[0m\n\u001b[1;32m   1669\u001b[0m   \u001b[0m_call_cpp_shape_fn_and_require_op\u001b[0m \u001b[0;34m=\u001b[0m \u001b[0mcall_with_requiring\u001b[0m\u001b[0;34m\u001b[0m\u001b[0m\n",
      "\u001b[0;32m/usr/local/lib/python2.7/dist-packages/tensorflow/python/framework/common_shapes.pyc\u001b[0m in \u001b[0;36mcall_cpp_shape_fn\u001b[0;34m(op, input_tensors_needed, input_tensors_as_shapes_needed, debug_python_shape_fn, require_shape_fn)\u001b[0m\n\u001b[1;32m    608\u001b[0m     res = _call_cpp_shape_fn_impl(op, input_tensors_needed,\n\u001b[1;32m    609\u001b[0m                                   \u001b[0minput_tensors_as_shapes_needed\u001b[0m\u001b[0;34m,\u001b[0m\u001b[0;34m\u001b[0m\u001b[0m\n\u001b[0;32m--> 610\u001b[0;31m                                   debug_python_shape_fn, require_shape_fn)\n\u001b[0m\u001b[1;32m    611\u001b[0m     \u001b[0;32mif\u001b[0m \u001b[0;32mnot\u001b[0m \u001b[0misinstance\u001b[0m\u001b[0;34m(\u001b[0m\u001b[0mres\u001b[0m\u001b[0;34m,\u001b[0m \u001b[0mdict\u001b[0m\u001b[0;34m)\u001b[0m\u001b[0;34m:\u001b[0m\u001b[0;34m\u001b[0m\u001b[0m\n\u001b[1;32m    612\u001b[0m       \u001b[0;31m# Handles the case where _call_cpp_shape_fn_impl calls unknown_shape(op).\u001b[0m\u001b[0;34m\u001b[0m\u001b[0;34m\u001b[0m\u001b[0m\n",
      "\u001b[0;32m/usr/local/lib/python2.7/dist-packages/tensorflow/python/framework/common_shapes.pyc\u001b[0m in \u001b[0;36m_call_cpp_shape_fn_impl\u001b[0;34m(op, input_tensors_needed, input_tensors_as_shapes_needed, debug_python_shape_fn, require_shape_fn)\u001b[0m\n\u001b[1;32m    647\u001b[0m     \u001b[0;31m# pylint: enable=protected-access\u001b[0m\u001b[0;34m\u001b[0m\u001b[0;34m\u001b[0m\u001b[0m\n\u001b[1;32m    648\u001b[0m     \u001b[0;32mreturn\u001b[0m \u001b[0mr\u001b[0m\u001b[0;34m.\u001b[0m\u001b[0mSerializeToString\u001b[0m\u001b[0;34m(\u001b[0m\u001b[0;34m)\u001b[0m\u001b[0;34m\u001b[0m\u001b[0m\n\u001b[0;32m--> 649\u001b[0;31m   \u001b[0minput_shapes\u001b[0m \u001b[0;34m=\u001b[0m \u001b[0;34m[\u001b[0m\u001b[0mtensor_to_inference_result\u001b[0m\u001b[0;34m(\u001b[0m\u001b[0mi\u001b[0m\u001b[0;34m)\u001b[0m \u001b[0;32mfor\u001b[0m \u001b[0mi\u001b[0m \u001b[0;32min\u001b[0m \u001b[0mop\u001b[0m\u001b[0;34m.\u001b[0m\u001b[0minputs\u001b[0m\u001b[0;34m]\u001b[0m\u001b[0;34m\u001b[0m\u001b[0m\n\u001b[0m\u001b[1;32m    650\u001b[0m \u001b[0;34m\u001b[0m\u001b[0m\n\u001b[1;32m    651\u001b[0m   \u001b[0minput_tensors\u001b[0m \u001b[0;34m=\u001b[0m \u001b[0;34m[\u001b[0m\u001b[0mNone\u001b[0m \u001b[0;32mfor\u001b[0m \u001b[0mi\u001b[0m \u001b[0;32min\u001b[0m \u001b[0minput_shapes\u001b[0m\u001b[0;34m]\u001b[0m\u001b[0;34m\u001b[0m\u001b[0m\n",
      "\u001b[0;32m/usr/local/lib/python2.7/dist-packages/tensorflow/python/framework/common_shapes.pyc\u001b[0m in \u001b[0;36mtensor_to_inference_result\u001b[0;34m(t)\u001b[0m\n\u001b[1;32m    644\u001b[0m     \u001b[0;31m# pylint: disable=protected-access\u001b[0m\u001b[0;34m\u001b[0m\u001b[0;34m\u001b[0m\u001b[0m\n\u001b[1;32m    645\u001b[0m     \u001b[0mr\u001b[0m\u001b[0;34m.\u001b[0m\u001b[0mhandle_shape\u001b[0m\u001b[0;34m.\u001b[0m\u001b[0mCopyFrom\u001b[0m\u001b[0;34m(\u001b[0m\u001b[0mt\u001b[0m\u001b[0;34m.\u001b[0m\u001b[0m_handle_shape\u001b[0m\u001b[0;34m)\u001b[0m\u001b[0;34m\u001b[0m\u001b[0m\n\u001b[0;32m--> 646\u001b[0;31m     \u001b[0mr\u001b[0m\u001b[0;34m.\u001b[0m\u001b[0mhandle_dtype\u001b[0m \u001b[0;34m=\u001b[0m \u001b[0mt\u001b[0m\u001b[0;34m.\u001b[0m\u001b[0m_handle_dtype\u001b[0m\u001b[0;34m\u001b[0m\u001b[0m\n\u001b[0m\u001b[1;32m    647\u001b[0m     \u001b[0;31m# pylint: enable=protected-access\u001b[0m\u001b[0;34m\u001b[0m\u001b[0;34m\u001b[0m\u001b[0m\n\u001b[1;32m    648\u001b[0m     \u001b[0;32mreturn\u001b[0m \u001b[0mr\u001b[0m\u001b[0;34m.\u001b[0m\u001b[0mSerializeToString\u001b[0m\u001b[0;34m(\u001b[0m\u001b[0;34m)\u001b[0m\u001b[0;34m\u001b[0m\u001b[0m\n",
      "\u001b[0;32m/usr/local/lib/python2.7/dist-packages/google/protobuf/internal/python_message.pyc\u001b[0m in \u001b[0;36mfield_setter\u001b[0;34m(self, new_value)\u001b[0m\n\u001b[1;32m    658\u001b[0m     \u001b[0;31m# Testing the value for truthiness captures all of the proto3 defaults\u001b[0m\u001b[0;34m\u001b[0m\u001b[0;34m\u001b[0m\u001b[0m\n\u001b[1;32m    659\u001b[0m     \u001b[0;31m# (0, 0.0, enum 0, and False).\u001b[0m\u001b[0;34m\u001b[0m\u001b[0;34m\u001b[0m\u001b[0m\n\u001b[0;32m--> 660\u001b[0;31m     \u001b[0mnew_value\u001b[0m \u001b[0;34m=\u001b[0m \u001b[0mtype_checker\u001b[0m\u001b[0;34m.\u001b[0m\u001b[0mCheckValue\u001b[0m\u001b[0;34m(\u001b[0m\u001b[0mnew_value\u001b[0m\u001b[0;34m)\u001b[0m\u001b[0;34m\u001b[0m\u001b[0m\n\u001b[0m\u001b[1;32m    661\u001b[0m     \u001b[0;32mif\u001b[0m \u001b[0mclear_when_set_to_default\u001b[0m \u001b[0;32mand\u001b[0m \u001b[0;32mnot\u001b[0m \u001b[0mnew_value\u001b[0m\u001b[0;34m:\u001b[0m\u001b[0;34m\u001b[0m\u001b[0m\n\u001b[1;32m    662\u001b[0m       \u001b[0mself\u001b[0m\u001b[0;34m.\u001b[0m\u001b[0m_fields\u001b[0m\u001b[0;34m.\u001b[0m\u001b[0mpop\u001b[0m\u001b[0;34m(\u001b[0m\u001b[0mfield\u001b[0m\u001b[0;34m,\u001b[0m \u001b[0mNone\u001b[0m\u001b[0;34m)\u001b[0m\u001b[0;34m\u001b[0m\u001b[0m\n",
      "\u001b[0;31mKeyboardInterrupt\u001b[0m: "
     ]
    }
   ],
   "source": [
    "real_estate_price_model.fit(x={\n",
    "    'temporal_input' : train_split_df_temporal_features,\n",
    "    'property_input' : train_split_df_property_features,\n",
    "    'locality_input' : train_split_df_locality_features,\n",
    "    'economy_input' : train_split_df_economy_features,\n",
    "    'population_input' : train_split_df_population_features,\n",
    "    'state_input' : train_split_df_categorical_features['state_refractored'],\n",
    "    'material_input' : train_split_df_categorical_features['material'],\n",
    "    'sub_area_input' : train_split_df_categorical_features['sub_area']},\n",
    "                      y = train_split_df['price_doc'].values,\n",
    "                      callbacks=callbacks,\n",
    "                      verbose = 2,\n",
    "                      validation_split=0.20,\n",
    "                      shuffle=True,\n",
    "                      epochs=epochs)"
   ]
  },
  {
   "cell_type": "code",
   "execution_count": 85,
   "metadata": {
    "collapsed": false,
    "deletable": true,
    "editable": true
   },
   "outputs": [],
   "source": [
    "real_estate_price_model.load_weights('/mnt/h/Kaggle/Competitions/Russian Bank/models/v'+str(version) + '/weights.42-0.23.hdf5')"
   ]
  },
  {
   "cell_type": "code",
   "execution_count": 86,
   "metadata": {
    "collapsed": false
   },
   "outputs": [
    {
     "data": {
      "text/plain": [
       "('Test loss: ', 0.22221496408303371)"
      ]
     },
     "execution_count": 86,
     "metadata": {},
     "output_type": "execute_result"
    }
   ],
   "source": [
    "test_loss = real_estate_price_model.evaluate(x={\n",
    "    'temporal_input' : train_split_df_temporal_features,\n",
    "    'property_input' : train_split_df_property_features,\n",
    "    'locality_input' : train_split_df_locality_features,\n",
    "    'economy_input' : train_split_df_economy_features,\n",
    "    'population_input' : train_split_df_population_features,\n",
    "    'state_input' : train_split_df_categorical_features['state_refractored'],\n",
    "    'material_input' : train_split_df_categorical_features['material'],\n",
    "    'sub_area_input' : train_split_df_categorical_features['sub_area']},\n",
    "                      y = train_split_df['price_doc'].values,\n",
    "                      verbose = 2)\n",
    "'Test loss: ', test_loss"
   ]
  },
  {
   "cell_type": "code",
   "execution_count": 87,
   "metadata": {
    "collapsed": false,
    "deletable": true,
    "editable": true
   },
   "outputs": [
    {
     "data": {
      "text/plain": [
       "('Test loss: ', 0.21863640793978073)"
      ]
     },
     "execution_count": 87,
     "metadata": {},
     "output_type": "execute_result"
    }
   ],
   "source": [
    "test_loss = real_estate_price_model.evaluate(x={\n",
    "    'temporal_input' : test_split_df_temporal_features,\n",
    "    'property_input' : test_split_df_property_features,\n",
    "    'locality_input' : test_split_df_locality_features,\n",
    "    'economy_input' : test_split_df_economy_features,\n",
    "    'population_input' : test_split_df_population_features,\n",
    "    'state_input' : test_split_df_categorical_features['state_refractored'],\n",
    "    'material_input' : test_split_df_categorical_features['material'],\n",
    "    'sub_area_input' : test_split_df_categorical_features['sub_area']},\n",
    "                      y = test_split_df['price_doc'].values,\n",
    "                      verbose = 2)\n",
    "'Test loss: ', test_loss"
   ]
  },
  {
   "cell_type": "code",
   "execution_count": 93,
   "metadata": {
    "collapsed": true
   },
   "outputs": [],
   "source": [
    "from sklearn.model_selection import StratifiedKFold\n",
    "from sklearn.model_selection import KFold"
   ]
  },
  {
   "cell_type": "code",
   "execution_count": 112,
   "metadata": {
    "collapsed": true
   },
   "outputs": [],
   "source": [
    "seed = 7\n",
    "kfold = StratifiedKFold(n_splits=2, shuffle=True, random_state=seed)"
   ]
  },
  {
   "cell_type": "code",
   "execution_count": 113,
   "metadata": {
    "collapsed": false
   },
   "outputs": [
    {
     "data": {
      "text/plain": [
       "2"
      ]
     },
     "execution_count": 113,
     "metadata": {},
     "output_type": "execute_result"
    }
   ],
   "source": [
    "kfold.get_n_splits(final_train_df, final_train_df[[LABEL]].values)"
   ]
  },
  {
   "cell_type": "code",
   "execution_count": 114,
   "metadata": {
    "collapsed": false
   },
   "outputs": [
    {
     "name": "stderr",
     "output_type": "stream",
     "text": [
      "/usr/local/lib/python2.7/dist-packages/sklearn/model_selection/_split.py:581: Warning: The least populated class in y has only 1 members, which is too few. The minimum number of groups for any class cannot be less than n_splits=2.\n",
      "  % (min_groups, self.n_splits)), Warning)\n"
     ]
    },
    {
     "name": "stdout",
     "output_type": "stream",
     "text": [
      "Cross validating.... step:  0\n",
      "Temp train loss:  0.223935881243  index:  0\n",
      "Temp test loss:  0.219874751205  index:  0\n",
      "Cross validating.... step:  1\n",
      "Temp train loss:  0.219874751205  index:  1\n",
      "Temp test loss:  0.223935881243  index:  1\n",
      "[0.22393588124323105, 0.21987475120539024, 0.21987475120539024, 0.22393588124323105]\n"
     ]
    }
   ],
   "source": [
    "eval_loss_scores = []\n",
    "\n",
    "for idx, (train, test) in enumerate(kfold.split(final_train_df, final_train_df[[LABEL]].values.ravel())):\n",
    "    \n",
    "    temp_x, temp_y = final_train_df.ix[train, :], final_train_df.ix[train, :][LABEL].values\n",
    "    temp_test_x, temp_test_y = final_train_df.ix[test, :], final_train_df.ix[test, :][LABEL].values\n",
    "    \n",
    "    temp_train_split_df_temporal_features = extract_temporal_features(temp_x)\n",
    "    temp_test_split_df_temporal_features = extract_temporal_features(temp_test_x)\n",
    "    \n",
    "    temp_train_split_df_property_features = extract_property_place_features(temp_x)\n",
    "    temp_test_split_df_property_features = extract_property_place_features(temp_test_x)\n",
    "    \n",
    "    temp_train_split_df_locality_features = extract_locality_features(temp_x)\n",
    "    temp_test_split_df_locality_features = extract_locality_features(temp_test_x)\n",
    "    \n",
    "    temp_train_split_df_economy_features = extract_economy_features(temp_x)\n",
    "    temp_test_split_df_economy_features = extract_economy_features(temp_test_x)\n",
    "    \n",
    "    temp_train_split_df_population_features = extract_population_features(temp_x)\n",
    "    temp_test_split_df_population_features = extract_population_features(temp_test_x)\n",
    "    \n",
    "    temp_train_split_df_categorical_features = extract_categorical_features(temp_x)\n",
    "    temp_test_split_df_categorical_features = extract_categorical_features(temp_test_x)\n",
    "    \n",
    "    print 'Cross validating.... step: ', idx\n",
    "    \n",
    "    temp_train_loss = real_estate_price_model.evaluate(x={\n",
    "        'temporal_input' : temp_train_split_df_temporal_features,\n",
    "        'property_input' : temp_train_split_df_property_features,\n",
    "        'locality_input' : temp_train_split_df_locality_features,\n",
    "        'economy_input' : temp_train_split_df_economy_features,\n",
    "        'population_input' : temp_train_split_df_population_features,\n",
    "        'state_input' : temp_train_split_df_categorical_features['state_refractored'],\n",
    "        'material_input' : temp_train_split_df_categorical_features['material'],\n",
    "        'sub_area_input' : temp_train_split_df_categorical_features['sub_area']},\n",
    "                      y = temp_y,\n",
    "                      verbose = 2)\n",
    "    print 'Temp train loss: ', temp_train_loss, ' index: ', idx\n",
    "    eval_loss_scores.append(temp_train_loss)\n",
    "    \n",
    "    temp_test_loss = real_estate_price_model.evaluate(x={\n",
    "        'temporal_input' : temp_test_split_df_temporal_features,\n",
    "        'property_input' : temp_test_split_df_property_features,\n",
    "        'locality_input' : temp_test_split_df_locality_features,\n",
    "        'economy_input' : temp_test_split_df_economy_features,\n",
    "        'population_input' : temp_test_split_df_population_features,\n",
    "        'state_input' : temp_test_split_df_categorical_features['state_refractored'],\n",
    "        'material_input' : temp_test_split_df_categorical_features['material'],\n",
    "        'sub_area_input' : temp_test_split_df_categorical_features['sub_area']},\n",
    "                      y = temp_test_y,\n",
    "                      verbose = 2)\n",
    "    print 'Temp test loss: ', temp_test_loss, ' index: ', idx\n",
    "    eval_loss_scores.append(temp_test_loss)\n",
    "    \n",
    "    \n",
    "print eval_loss_scores\n"
   ]
  },
  {
   "cell_type": "code",
   "execution_count": 115,
   "metadata": {
    "collapsed": false
   },
   "outputs": [
    {
     "name": "stdout",
     "output_type": "stream",
     "text": [
      "0.22% (+/- 0.00%)\n"
     ]
    }
   ],
   "source": [
    "print(\"%.2f%% (+/- %.2f%%)\" % (np.mean(eval_loss_scores), np.std(eval_loss_scores)))"
   ]
  },
  {
   "cell_type": "code",
   "execution_count": 116,
   "metadata": {
    "collapsed": true
   },
   "outputs": [],
   "source": [
    "real_estate_price_model.save('/mnt/h/Kaggle/Competitions/Russian Bank/models/v'+str(version) + '/trained_model_0.22_val_loss.h5')"
   ]
  },
  {
   "cell_type": "code",
   "execution_count": 117,
   "metadata": {
    "collapsed": true
   },
   "outputs": [],
   "source": [
    "from keras.models import load_model"
   ]
  },
  {
   "cell_type": "code",
   "execution_count": 118,
   "metadata": {
    "collapsed": true
   },
   "outputs": [],
   "source": [
    "real_estate_price_model_duplicate = load_model('/mnt/h/Kaggle/Competitions/Russian Bank/models/v'+str(version) + '/trained_model_0.22_val_loss.h5', custom_objects={\"root_mean_squared_logarithmic_error\":root_mean_squared_logarithmic_error})"
   ]
  },
  {
   "cell_type": "code",
   "execution_count": 121,
   "metadata": {
    "collapsed": true,
    "deletable": true,
    "editable": true
   },
   "outputs": [],
   "source": [
    "test_temporal_features, test_property_features, test_locality_features, test_economy_features, test_population_features, test_categorical_features = format_input(test_split_df[:10])\n",
    "test_preds = real_estate_price_model_duplicate.predict(x={\n",
    "    'temporal_input' : test_temporal_features,\n",
    "    'property_input' : test_property_features,\n",
    "    'locality_input' : test_locality_features,\n",
    "    'economy_input' : test_economy_features,\n",
    "    'population_input' : test_population_features,\n",
    "    'state_input' : test_categorical_features['state_refractored'],\n",
    "    'material_input' : test_categorical_features['material'],\n",
    "    'sub_area_input' : test_categorical_features['sub_area']})\n",
    "test_actuals = test_split_df[:10].price_doc.values"
   ]
  },
  {
   "cell_type": "code",
   "execution_count": 122,
   "metadata": {
    "collapsed": true,
    "deletable": true,
    "editable": true
   },
   "outputs": [
    {
     "data": {
      "text/plain": [
       "[(6200000, 5940329.5),\n",
       " (9000000, 9858800.0),\n",
       " (3752736, 3800002.5),\n",
       " (5850000, 6003214.5),\n",
       " (3266912, 3176527.2),\n",
       " (7079708, 6007599.0),\n",
       " (5500000, 5722229.5),\n",
       " (4620233, 4111444.5),\n",
       " (8400000, 7828964.0),\n",
       " (15850000, 12758972.0)]"
      ]
     },
     "execution_count": 122,
     "metadata": {},
     "output_type": "execute_result"
    }
   ],
   "source": [
    "zip(test_actuals, test_preds.ravel())"
   ]
  },
  {
   "cell_type": "code",
   "execution_count": 123,
   "metadata": {
    "collapsed": true,
    "deletable": true,
    "editable": true
   },
   "outputs": [],
   "source": [
    "kaggle_test = pd.read_csv(\"/mnt/h/Kaggle/Competitions/Russian Bank/data/test.csv/test.csv\")"
   ]
  },
  {
   "cell_type": "code",
   "execution_count": 124,
   "metadata": {
    "collapsed": false,
    "deletable": true,
    "editable": true
   },
   "outputs": [
    {
     "data": {
      "text/html": [
       "<div>\n",
       "<table border=\"1\" class=\"dataframe\">\n",
       "  <thead>\n",
       "    <tr style=\"text-align: right;\">\n",
       "      <th></th>\n",
       "      <th>id</th>\n",
       "      <th>timestamp</th>\n",
       "      <th>full_sq</th>\n",
       "      <th>life_sq</th>\n",
       "      <th>floor</th>\n",
       "      <th>max_floor</th>\n",
       "      <th>material</th>\n",
       "      <th>build_year</th>\n",
       "      <th>num_room</th>\n",
       "      <th>kitch_sq</th>\n",
       "      <th>...</th>\n",
       "      <th>cafe_count_5000_price_1500</th>\n",
       "      <th>cafe_count_5000_price_2500</th>\n",
       "      <th>cafe_count_5000_price_4000</th>\n",
       "      <th>cafe_count_5000_price_high</th>\n",
       "      <th>big_church_count_5000</th>\n",
       "      <th>church_count_5000</th>\n",
       "      <th>mosque_count_5000</th>\n",
       "      <th>leisure_count_5000</th>\n",
       "      <th>sport_count_5000</th>\n",
       "      <th>market_count_5000</th>\n",
       "    </tr>\n",
       "  </thead>\n",
       "  <tbody>\n",
       "    <tr>\n",
       "      <th>0</th>\n",
       "      <td>30474</td>\n",
       "      <td>2015-07-01</td>\n",
       "      <td>39.0</td>\n",
       "      <td>20.7</td>\n",
       "      <td>2</td>\n",
       "      <td>9</td>\n",
       "      <td>1</td>\n",
       "      <td>1998.0</td>\n",
       "      <td>1</td>\n",
       "      <td>8.9</td>\n",
       "      <td>...</td>\n",
       "      <td>8</td>\n",
       "      <td>0</td>\n",
       "      <td>0</td>\n",
       "      <td>0</td>\n",
       "      <td>1</td>\n",
       "      <td>10</td>\n",
       "      <td>1</td>\n",
       "      <td>0</td>\n",
       "      <td>14</td>\n",
       "      <td>1</td>\n",
       "    </tr>\n",
       "    <tr>\n",
       "      <th>1</th>\n",
       "      <td>30475</td>\n",
       "      <td>2015-07-01</td>\n",
       "      <td>79.2</td>\n",
       "      <td>NaN</td>\n",
       "      <td>8</td>\n",
       "      <td>17</td>\n",
       "      <td>1</td>\n",
       "      <td>0.0</td>\n",
       "      <td>3</td>\n",
       "      <td>1.0</td>\n",
       "      <td>...</td>\n",
       "      <td>4</td>\n",
       "      <td>1</td>\n",
       "      <td>1</td>\n",
       "      <td>0</td>\n",
       "      <td>2</td>\n",
       "      <td>11</td>\n",
       "      <td>0</td>\n",
       "      <td>1</td>\n",
       "      <td>12</td>\n",
       "      <td>1</td>\n",
       "    </tr>\n",
       "    <tr>\n",
       "      <th>2</th>\n",
       "      <td>30476</td>\n",
       "      <td>2015-07-01</td>\n",
       "      <td>40.5</td>\n",
       "      <td>25.1</td>\n",
       "      <td>3</td>\n",
       "      <td>5</td>\n",
       "      <td>2</td>\n",
       "      <td>1960.0</td>\n",
       "      <td>2</td>\n",
       "      <td>4.8</td>\n",
       "      <td>...</td>\n",
       "      <td>42</td>\n",
       "      <td>11</td>\n",
       "      <td>4</td>\n",
       "      <td>0</td>\n",
       "      <td>10</td>\n",
       "      <td>21</td>\n",
       "      <td>0</td>\n",
       "      <td>10</td>\n",
       "      <td>71</td>\n",
       "      <td>11</td>\n",
       "    </tr>\n",
       "    <tr>\n",
       "      <th>3</th>\n",
       "      <td>30477</td>\n",
       "      <td>2015-07-01</td>\n",
       "      <td>62.8</td>\n",
       "      <td>36.0</td>\n",
       "      <td>17</td>\n",
       "      <td>17</td>\n",
       "      <td>1</td>\n",
       "      <td>2016.0</td>\n",
       "      <td>2</td>\n",
       "      <td>62.8</td>\n",
       "      <td>...</td>\n",
       "      <td>1</td>\n",
       "      <td>1</td>\n",
       "      <td>2</td>\n",
       "      <td>0</td>\n",
       "      <td>0</td>\n",
       "      <td>10</td>\n",
       "      <td>0</td>\n",
       "      <td>0</td>\n",
       "      <td>2</td>\n",
       "      <td>0</td>\n",
       "    </tr>\n",
       "    <tr>\n",
       "      <th>4</th>\n",
       "      <td>30478</td>\n",
       "      <td>2015-07-01</td>\n",
       "      <td>40.0</td>\n",
       "      <td>40.0</td>\n",
       "      <td>17</td>\n",
       "      <td>17</td>\n",
       "      <td>1</td>\n",
       "      <td>0.0</td>\n",
       "      <td>1</td>\n",
       "      <td>1.0</td>\n",
       "      <td>...</td>\n",
       "      <td>5</td>\n",
       "      <td>1</td>\n",
       "      <td>1</td>\n",
       "      <td>0</td>\n",
       "      <td>2</td>\n",
       "      <td>12</td>\n",
       "      <td>0</td>\n",
       "      <td>1</td>\n",
       "      <td>11</td>\n",
       "      <td>1</td>\n",
       "    </tr>\n",
       "  </tbody>\n",
       "</table>\n",
       "<p>5 rows × 291 columns</p>\n",
       "</div>"
      ],
      "text/plain": [
       "      id   timestamp  full_sq  life_sq  floor  max_floor  material  \\\n",
       "0  30474  2015-07-01     39.0     20.7      2          9         1   \n",
       "1  30475  2015-07-01     79.2      NaN      8         17         1   \n",
       "2  30476  2015-07-01     40.5     25.1      3          5         2   \n",
       "3  30477  2015-07-01     62.8     36.0     17         17         1   \n",
       "4  30478  2015-07-01     40.0     40.0     17         17         1   \n",
       "\n",
       "   build_year  num_room  kitch_sq        ...          \\\n",
       "0      1998.0         1       8.9        ...           \n",
       "1         0.0         3       1.0        ...           \n",
       "2      1960.0         2       4.8        ...           \n",
       "3      2016.0         2      62.8        ...           \n",
       "4         0.0         1       1.0        ...           \n",
       "\n",
       "   cafe_count_5000_price_1500 cafe_count_5000_price_2500  \\\n",
       "0                           8                          0   \n",
       "1                           4                          1   \n",
       "2                          42                         11   \n",
       "3                           1                          1   \n",
       "4                           5                          1   \n",
       "\n",
       "  cafe_count_5000_price_4000  cafe_count_5000_price_high  \\\n",
       "0                          0                           0   \n",
       "1                          1                           0   \n",
       "2                          4                           0   \n",
       "3                          2                           0   \n",
       "4                          1                           0   \n",
       "\n",
       "   big_church_count_5000  church_count_5000  mosque_count_5000  \\\n",
       "0                      1                 10                  1   \n",
       "1                      2                 11                  0   \n",
       "2                     10                 21                  0   \n",
       "3                      0                 10                  0   \n",
       "4                      2                 12                  0   \n",
       "\n",
       "   leisure_count_5000  sport_count_5000  market_count_5000  \n",
       "0                   0                14                  1  \n",
       "1                   1                12                  1  \n",
       "2                  10                71                 11  \n",
       "3                   0                 2                  0  \n",
       "4                   1                11                  1  \n",
       "\n",
       "[5 rows x 291 columns]"
      ]
     },
     "execution_count": 124,
     "metadata": {},
     "output_type": "execute_result"
    }
   ],
   "source": [
    "kaggle_test.head()"
   ]
  },
  {
   "cell_type": "code",
   "execution_count": 125,
   "metadata": {
    "collapsed": true,
    "deletable": true,
    "editable": true
   },
   "outputs": [],
   "source": [
    "macro_df = pd.read_csv(\"/mnt/h/Kaggle/Competitions/Russian Bank/data/macro.csv/macro.csv\")"
   ]
  },
  {
   "cell_type": "code",
   "execution_count": 126,
   "metadata": {
    "collapsed": true,
    "deletable": true,
    "editable": true
   },
   "outputs": [],
   "source": [
    "final_kaggle_df = pd.merge(kaggle_test, macro_df, on='timestamp')"
   ]
  },
  {
   "cell_type": "code",
   "execution_count": 127,
   "metadata": {
    "collapsed": false,
    "deletable": true,
    "editable": true
   },
   "outputs": [
    {
     "data": {
      "text/html": [
       "<div>\n",
       "<table border=\"1\" class=\"dataframe\">\n",
       "  <thead>\n",
       "    <tr style=\"text-align: right;\">\n",
       "      <th></th>\n",
       "      <th>id</th>\n",
       "      <th>timestamp</th>\n",
       "      <th>full_sq</th>\n",
       "      <th>life_sq</th>\n",
       "      <th>floor</th>\n",
       "      <th>max_floor</th>\n",
       "      <th>material</th>\n",
       "      <th>build_year</th>\n",
       "      <th>num_room</th>\n",
       "      <th>kitch_sq</th>\n",
       "      <th>...</th>\n",
       "      <th>provision_retail_space_modern_sqm</th>\n",
       "      <th>turnover_catering_per_cap</th>\n",
       "      <th>theaters_viewers_per_1000_cap</th>\n",
       "      <th>seats_theather_rfmin_per_100000_cap</th>\n",
       "      <th>museum_visitis_per_100_cap</th>\n",
       "      <th>bandwidth_sports</th>\n",
       "      <th>population_reg_sports_share</th>\n",
       "      <th>students_reg_sports_share</th>\n",
       "      <th>apartment_build</th>\n",
       "      <th>apartment_fund_sqm</th>\n",
       "    </tr>\n",
       "  </thead>\n",
       "  <tbody>\n",
       "    <tr>\n",
       "      <th>0</th>\n",
       "      <td>30474</td>\n",
       "      <td>2015-07-01</td>\n",
       "      <td>39.0</td>\n",
       "      <td>20.7</td>\n",
       "      <td>2</td>\n",
       "      <td>9</td>\n",
       "      <td>1</td>\n",
       "      <td>1998.0</td>\n",
       "      <td>1</td>\n",
       "      <td>8.9</td>\n",
       "      <td>...</td>\n",
       "      <td>NaN</td>\n",
       "      <td>10805.0</td>\n",
       "      <td>NaN</td>\n",
       "      <td>0.45888</td>\n",
       "      <td>NaN</td>\n",
       "      <td>463938.0</td>\n",
       "      <td>NaN</td>\n",
       "      <td>NaN</td>\n",
       "      <td>NaN</td>\n",
       "      <td>234576.9</td>\n",
       "    </tr>\n",
       "    <tr>\n",
       "      <th>1</th>\n",
       "      <td>30475</td>\n",
       "      <td>2015-07-01</td>\n",
       "      <td>79.2</td>\n",
       "      <td>NaN</td>\n",
       "      <td>8</td>\n",
       "      <td>17</td>\n",
       "      <td>1</td>\n",
       "      <td>0.0</td>\n",
       "      <td>3</td>\n",
       "      <td>1.0</td>\n",
       "      <td>...</td>\n",
       "      <td>NaN</td>\n",
       "      <td>10805.0</td>\n",
       "      <td>NaN</td>\n",
       "      <td>0.45888</td>\n",
       "      <td>NaN</td>\n",
       "      <td>463938.0</td>\n",
       "      <td>NaN</td>\n",
       "      <td>NaN</td>\n",
       "      <td>NaN</td>\n",
       "      <td>234576.9</td>\n",
       "    </tr>\n",
       "    <tr>\n",
       "      <th>2</th>\n",
       "      <td>30476</td>\n",
       "      <td>2015-07-01</td>\n",
       "      <td>40.5</td>\n",
       "      <td>25.1</td>\n",
       "      <td>3</td>\n",
       "      <td>5</td>\n",
       "      <td>2</td>\n",
       "      <td>1960.0</td>\n",
       "      <td>2</td>\n",
       "      <td>4.8</td>\n",
       "      <td>...</td>\n",
       "      <td>NaN</td>\n",
       "      <td>10805.0</td>\n",
       "      <td>NaN</td>\n",
       "      <td>0.45888</td>\n",
       "      <td>NaN</td>\n",
       "      <td>463938.0</td>\n",
       "      <td>NaN</td>\n",
       "      <td>NaN</td>\n",
       "      <td>NaN</td>\n",
       "      <td>234576.9</td>\n",
       "    </tr>\n",
       "    <tr>\n",
       "      <th>3</th>\n",
       "      <td>30477</td>\n",
       "      <td>2015-07-01</td>\n",
       "      <td>62.8</td>\n",
       "      <td>36.0</td>\n",
       "      <td>17</td>\n",
       "      <td>17</td>\n",
       "      <td>1</td>\n",
       "      <td>2016.0</td>\n",
       "      <td>2</td>\n",
       "      <td>62.8</td>\n",
       "      <td>...</td>\n",
       "      <td>NaN</td>\n",
       "      <td>10805.0</td>\n",
       "      <td>NaN</td>\n",
       "      <td>0.45888</td>\n",
       "      <td>NaN</td>\n",
       "      <td>463938.0</td>\n",
       "      <td>NaN</td>\n",
       "      <td>NaN</td>\n",
       "      <td>NaN</td>\n",
       "      <td>234576.9</td>\n",
       "    </tr>\n",
       "    <tr>\n",
       "      <th>4</th>\n",
       "      <td>30478</td>\n",
       "      <td>2015-07-01</td>\n",
       "      <td>40.0</td>\n",
       "      <td>40.0</td>\n",
       "      <td>17</td>\n",
       "      <td>17</td>\n",
       "      <td>1</td>\n",
       "      <td>0.0</td>\n",
       "      <td>1</td>\n",
       "      <td>1.0</td>\n",
       "      <td>...</td>\n",
       "      <td>NaN</td>\n",
       "      <td>10805.0</td>\n",
       "      <td>NaN</td>\n",
       "      <td>0.45888</td>\n",
       "      <td>NaN</td>\n",
       "      <td>463938.0</td>\n",
       "      <td>NaN</td>\n",
       "      <td>NaN</td>\n",
       "      <td>NaN</td>\n",
       "      <td>234576.9</td>\n",
       "    </tr>\n",
       "  </tbody>\n",
       "</table>\n",
       "<p>5 rows × 390 columns</p>\n",
       "</div>"
      ],
      "text/plain": [
       "      id   timestamp  full_sq  life_sq  floor  max_floor  material  \\\n",
       "0  30474  2015-07-01     39.0     20.7      2          9         1   \n",
       "1  30475  2015-07-01     79.2      NaN      8         17         1   \n",
       "2  30476  2015-07-01     40.5     25.1      3          5         2   \n",
       "3  30477  2015-07-01     62.8     36.0     17         17         1   \n",
       "4  30478  2015-07-01     40.0     40.0     17         17         1   \n",
       "\n",
       "   build_year  num_room  kitch_sq         ...          \\\n",
       "0      1998.0         1       8.9         ...           \n",
       "1         0.0         3       1.0         ...           \n",
       "2      1960.0         2       4.8         ...           \n",
       "3      2016.0         2      62.8         ...           \n",
       "4         0.0         1       1.0         ...           \n",
       "\n",
       "   provision_retail_space_modern_sqm turnover_catering_per_cap  \\\n",
       "0                                NaN                   10805.0   \n",
       "1                                NaN                   10805.0   \n",
       "2                                NaN                   10805.0   \n",
       "3                                NaN                   10805.0   \n",
       "4                                NaN                   10805.0   \n",
       "\n",
       "  theaters_viewers_per_1000_cap  seats_theather_rfmin_per_100000_cap  \\\n",
       "0                           NaN                              0.45888   \n",
       "1                           NaN                              0.45888   \n",
       "2                           NaN                              0.45888   \n",
       "3                           NaN                              0.45888   \n",
       "4                           NaN                              0.45888   \n",
       "\n",
       "   museum_visitis_per_100_cap  bandwidth_sports  population_reg_sports_share  \\\n",
       "0                         NaN          463938.0                          NaN   \n",
       "1                         NaN          463938.0                          NaN   \n",
       "2                         NaN          463938.0                          NaN   \n",
       "3                         NaN          463938.0                          NaN   \n",
       "4                         NaN          463938.0                          NaN   \n",
       "\n",
       "   students_reg_sports_share  apartment_build  apartment_fund_sqm  \n",
       "0                        NaN              NaN            234576.9  \n",
       "1                        NaN              NaN            234576.9  \n",
       "2                        NaN              NaN            234576.9  \n",
       "3                        NaN              NaN            234576.9  \n",
       "4                        NaN              NaN            234576.9  \n",
       "\n",
       "[5 rows x 390 columns]"
      ]
     },
     "execution_count": 127,
     "metadata": {},
     "output_type": "execute_result"
    }
   ],
   "source": [
    "final_kaggle_df.head()"
   ]
  },
  {
   "cell_type": "code",
   "execution_count": 128,
   "metadata": {
    "collapsed": true,
    "deletable": true,
    "editable": true
   },
   "outputs": [],
   "source": [
    "final_kaggle_df = prepare_dataset(final_kaggle_df)"
   ]
  },
  {
   "cell_type": "code",
   "execution_count": 129,
   "metadata": {
    "collapsed": true,
    "deletable": true,
    "editable": true
   },
   "outputs": [],
   "source": [
    "for continuous_norm_col in normalize_columns:\n",
    "    scaler = norm_scalers[continuous_norm_col]\n",
    "    scaled_values = scaler.transform(final_kaggle_df[[continuous_norm_col]].values)\n",
    "    final_kaggle_df[continuous_norm_col + \"_scaled_feature\"] = scaled_values"
   ]
  },
  {
   "cell_type": "code",
   "execution_count": 130,
   "metadata": {
    "collapsed": true,
    "deletable": true,
    "editable": true
   },
   "outputs": [],
   "source": [
    "for one_hot_col in one_hot_cols:\n",
    "    l_scaler = ont_hot_scalers[one_hot_col][0]\n",
    "    scaler = ont_hot_scalers[one_hot_col][1]\n",
    "    r = l_scaler.transform(final_kaggle_df[[one_hot_col]].values)\n",
    "    r = np.expand_dims(r, axis=1)\n",
    "    scaled_values = scaler.transform(r)\n",
    "    final_kaggle_df[one_hot_col + \"_scaled_feature\"] = list(scaled_values)"
   ]
  },
  {
   "cell_type": "code",
   "execution_count": 131,
   "metadata": {
    "collapsed": true,
    "deletable": true,
    "editable": true
   },
   "outputs": [],
   "source": [
    "for label_col in label_cols:\n",
    "    label_enc = label_scalers[label_col]\n",
    "    encoded_values = label_enc.transform(final_kaggle_df[[label_col]].values)\n",
    "    final_kaggle_df[label_col + \"_scaled_feature\"] = encoded_values"
   ]
  },
  {
   "cell_type": "code",
   "execution_count": 132,
   "metadata": {
    "collapsed": true,
    "deletable": true,
    "editable": true
   },
   "outputs": [
    {
     "data": {
      "text/plain": [
       "['micex_cbi_tr_scaled_feature',\n",
       " 'unemployment_scaled_feature',\n",
       " 'apartment_build_scaled_feature',\n",
       " 'railroad_station_avto_min_scaled_feature',\n",
       " 'rts_scaled_feature',\n",
       " 'pop_migration_scaled_feature',\n",
       " 'work_all_scaled_feature',\n",
       " 'max_floor_scaled_feature',\n",
       " 'housing_fund_sqm_scaled_feature',\n",
       " 'heating_share_scaled_feature',\n",
       " 'catering_km_scaled_feature',\n",
       " 'zd_vokzaly_avto_km_scaled_feature',\n",
       " 'mortality_scaled_feature',\n",
       " 'water_km_scaled_feature',\n",
       " 'green_part_1000_scaled_feature',\n",
       " 'deposits_rate_scaled_feature',\n",
       " 'park_km_scaled_feature',\n",
       " 'big_road1_km_scaled_feature',\n",
       " 'hospice_morgue_km_scaled_feature',\n",
       " 'metro_km_avto_scaled_feature',\n",
       " 'ekder_male_scaled_feature',\n",
       " 'female_f_scaled_feature',\n",
       " 'deposits_growth_scaled_feature',\n",
       " 'usdrub_scaled_feature',\n",
       " 'deposits_value_scaled_feature',\n",
       " 'gdp_annual_growth_scaled_feature',\n",
       " 'big_church_km_scaled_feature',\n",
       " 'exhibition_km_scaled_feature',\n",
       " 'area_m_scaled_feature',\n",
       " 'young_male_scaled_feature',\n",
       " 'ekder_all_scaled_feature',\n",
       " 'divorce_rate_scaled_feature',\n",
       " 'employment_scaled_feature',\n",
       " 'hot_water_share_scaled_feature',\n",
       " 'brent_scaled_feature',\n",
       " 'income_per_cap_scaled_feature',\n",
       " 'incineration_km_scaled_feature',\n",
       " 'full_sq_scaled_feature',\n",
       " 'mosque_km_scaled_feature',\n",
       " 'rent_price_3room_eco_scaled_feature',\n",
       " 'industrial_km_scaled_feature',\n",
       " 'real_dispos_income_per_cap_growth_scaled_feature',\n",
       " 'young_all_scaled_feature',\n",
       " 'work_male_scaled_feature',\n",
       " 'childbirth_scaled_feature',\n",
       " 'mortgage_growth_scaled_feature',\n",
       " 'power_transmission_line_km_scaled_feature',\n",
       " 'water_treatment_km_scaled_feature',\n",
       " 'university_km_scaled_feature',\n",
       " 'church_synagogue_km_scaled_feature',\n",
       " 'construction_value_scaled_feature',\n",
       " 'mortgage_value_scaled_feature',\n",
       " 'green_zone_km_scaled_feature',\n",
       " 'indust_part_scaled_feature',\n",
       " 'pop_natural_increase_scaled_feature',\n",
       " 'timestamp_month_scaled_feature',\n",
       " 'metro_min_avto_scaled_feature',\n",
       " 'oil_urals_scaled_feature',\n",
       " 'ppi_scaled_feature',\n",
       " 'labor_force_scaled_feature',\n",
       " 'timestamp_year_scaled_feature',\n",
       " 'work_female_scaled_feature',\n",
       " 'railroad_km_scaled_feature',\n",
       " 'mortgage_rate_scaled_feature',\n",
       " 'oil_chemistry_km_scaled_feature',\n",
       " 'nuclear_reactor_km_scaled_feature',\n",
       " 'public_transport_station_km_scaled_feature',\n",
       " 'timestamp_day_scaled_feature',\n",
       " 'green_part_1500_scaled_feature',\n",
       " 'old_house_share_scaled_feature',\n",
       " 'rent_price_2room_eco_scaled_feature',\n",
       " 'water_pipes_share_scaled_feature',\n",
       " 'ttk_km_scaled_feature',\n",
       " 'build_year_scaled_feature',\n",
       " 'life_sq_scaled_feature',\n",
       " 'baths_share_scaled_feature',\n",
       " 'additional_education_km_scaled_feature',\n",
       " 'rent_price_1room_bus_scaled_feature',\n",
       " 'kindergarten_km_scaled_feature',\n",
       " 'average_provision_of_build_contract_scaled_feature',\n",
       " 'gdp_quart_growth_scaled_feature',\n",
       " 'salary_growth_scaled_feature',\n",
       " 'gas_share_scaled_feature',\n",
       " 'gdp_quart_scaled_feature',\n",
       " 'num_room_scaled_feature',\n",
       " 'cemetery_km_scaled_feature',\n",
       " 'big_road2_km_scaled_feature',\n",
       " 'young_female_scaled_feature',\n",
       " 'incidence_population_scaled_feature',\n",
       " 'gdp_deflator_scaled_feature',\n",
       " 'ekder_female_scaled_feature',\n",
       " 'pop_total_inc_scaled_feature',\n",
       " 'kitch_sq_scaled_feature',\n",
       " 'rent_price_2room_bus_scaled_feature',\n",
       " 'grp_growth_scaled_feature',\n",
       " 'swim_pool_km_scaled_feature',\n",
       " 'gdp_annual_scaled_feature',\n",
       " 'grp_scaled_feature',\n",
       " 'floor_scaled_feature',\n",
       " 'lodging_sqm_per_cap_scaled_feature',\n",
       " 'school_km_scaled_feature',\n",
       " 'rent_price_1room_eco_scaled_feature',\n",
       " 'public_healthcare_km_scaled_feature',\n",
       " 'ts_km_scaled_feature',\n",
       " 'sewerage_share_scaled_feature',\n",
       " 'shopping_centers_km_scaled_feature',\n",
       " 'male_f_scaled_feature',\n",
       " 'preschool_km_scaled_feature',\n",
       " 'apartment_fund_sqm_scaled_feature',\n",
       " 'electric_stove_share_scaled_feature',\n",
       " 'salary_scaled_feature',\n",
       " 'cpi_scaled_feature',\n",
       " 'rent_price_4+room_bus_scaled_feature',\n",
       " 'micex_scaled_feature',\n",
       " 'rent_price_3room_bus_scaled_feature',\n",
       " 'average_provision_of_build_contract_moscow_scaled_feature',\n",
       " 'average_life_exp_scaled_feature',\n",
       " 'marriages_per_1000_cap_scaled_feature',\n",
       " 'material_scaled_feature',\n",
       " 'state_refractored_scaled_feature',\n",
       " 'sub_area_scaled_feature',\n",
       " 'big_market_raion_scaled_feature',\n",
       " 'nuclear_reactor_raion_scaled_feature',\n",
       " 'thermal_power_plant_raion_scaled_feature',\n",
       " 'detention_facility_raion_scaled_feature',\n",
       " 'full_all_scaled_feature',\n",
       " 'shopping_centers_raion_scaled_feature',\n",
       " 'office_raion_scaled_feature',\n",
       " 'healthcare_centers_raion_scaled_feature',\n",
       " 'university_top_20_raion_scaled_feature']"
      ]
     },
     "execution_count": 132,
     "metadata": {},
     "output_type": "execute_result"
    }
   ],
   "source": [
    "[c for c in final_kaggle_df.columns.tolist() if \"_scaled_feature\" in c]"
   ]
  },
  {
   "cell_type": "code",
   "execution_count": 133,
   "metadata": {
    "collapsed": false,
    "deletable": true,
    "editable": true
   },
   "outputs": [],
   "source": [
    "kaggle_temporal_features, kaggle_property_features, kaggle_locality_features, kaggle_economy_features, kaggle_population_features, kaggle_categorical_features = format_input(final_kaggle_df)\n",
    "kaggle_preds = real_estate_price_model.predict(x={\n",
    "    'temporal_input' : kaggle_temporal_features,\n",
    "    'property_input' : kaggle_property_features,\n",
    "    'locality_input' : kaggle_locality_features,\n",
    "    'economy_input' : kaggle_economy_features,\n",
    "    'population_input' : kaggle_population_features,\n",
    "    'state_input' : kaggle_categorical_features['state_refractored'],\n",
    "    'material_input' : kaggle_categorical_features['material'],\n",
    "    'sub_area_input' : kaggle_categorical_features['sub_area']})"
   ]
  },
  {
   "cell_type": "code",
   "execution_count": 134,
   "metadata": {
    "collapsed": false,
    "deletable": true,
    "editable": true
   },
   "outputs": [],
   "source": [
    "final_kaggle_df['price_doc'] = kaggle_preds"
   ]
  },
  {
   "cell_type": "code",
   "execution_count": 135,
   "metadata": {
    "collapsed": true,
    "deletable": true,
    "editable": true
   },
   "outputs": [
    {
     "data": {
      "text/plain": [
       "0        5980774.50\n",
       "1        8872418.00\n",
       "2        6303998.50\n",
       "3        6438242.00\n",
       "4        5553354.00\n",
       "5       10193707.00\n",
       "6        4533308.00\n",
       "7        3993631.25\n",
       "8        5263940.50\n",
       "9        6027741.00\n",
       "10       6201747.50\n",
       "11       5373631.50\n",
       "12       4847195.50\n",
       "13       4771602.00\n",
       "14       7559910.50\n",
       "15       5897097.50\n",
       "16      22925302.00\n",
       "17      19785556.00\n",
       "18       6392773.00\n",
       "19      16061372.00\n",
       "20       7623739.50\n",
       "21      10940440.00\n",
       "22       8212951.50\n",
       "23       9520482.00\n",
       "24       5555577.50\n",
       "25      10672373.00\n",
       "26      12706780.00\n",
       "27       7793685.50\n",
       "28       3351842.75\n",
       "29       8073909.50\n",
       "           ...     \n",
       "7632    61418112.00\n",
       "7633    59308260.00\n",
       "7634    64542184.00\n",
       "7635    60552920.00\n",
       "7636    59762240.00\n",
       "7637    61289656.00\n",
       "7638    59197656.00\n",
       "7639    60669584.00\n",
       "7640    61010928.00\n",
       "7641    59416784.00\n",
       "7642    61607088.00\n",
       "7643    62349140.00\n",
       "7644    62745964.00\n",
       "7645    59315360.00\n",
       "7646    62894176.00\n",
       "7647    60057056.00\n",
       "7648    61008092.00\n",
       "7649    61011548.00\n",
       "7650    61277440.00\n",
       "7651    59496816.00\n",
       "7652    63504336.00\n",
       "7653    59906120.00\n",
       "7654    60706724.00\n",
       "7655    59389928.00\n",
       "7656    60746824.00\n",
       "7657    61871724.00\n",
       "7658    60676820.00\n",
       "7659    59026992.00\n",
       "7660    59700312.00\n",
       "7661    62072824.00\n",
       "Name: price_doc, dtype: float32"
      ]
     },
     "execution_count": 135,
     "metadata": {},
     "output_type": "execute_result"
    }
   ],
   "source": [
    "final_kaggle_df['price_doc']"
   ]
  },
  {
   "cell_type": "code",
   "execution_count": 136,
   "metadata": {
    "collapsed": true,
    "deletable": true,
    "editable": true
   },
   "outputs": [
    {
     "data": {
      "text/html": [
       "<div>\n",
       "<table border=\"1\" class=\"dataframe\">\n",
       "  <thead>\n",
       "    <tr style=\"text-align: right;\">\n",
       "      <th></th>\n",
       "      <th>id</th>\n",
       "      <th>price_doc</th>\n",
       "    </tr>\n",
       "  </thead>\n",
       "  <tbody>\n",
       "    <tr>\n",
       "      <th>0</th>\n",
       "      <td>30474</td>\n",
       "      <td>5980774.50</td>\n",
       "    </tr>\n",
       "    <tr>\n",
       "      <th>1</th>\n",
       "      <td>30475</td>\n",
       "      <td>8872418.00</td>\n",
       "    </tr>\n",
       "    <tr>\n",
       "      <th>2</th>\n",
       "      <td>30476</td>\n",
       "      <td>6303998.50</td>\n",
       "    </tr>\n",
       "    <tr>\n",
       "      <th>3</th>\n",
       "      <td>30477</td>\n",
       "      <td>6438242.00</td>\n",
       "    </tr>\n",
       "    <tr>\n",
       "      <th>4</th>\n",
       "      <td>30478</td>\n",
       "      <td>5553354.00</td>\n",
       "    </tr>\n",
       "    <tr>\n",
       "      <th>5</th>\n",
       "      <td>30479</td>\n",
       "      <td>10193707.00</td>\n",
       "    </tr>\n",
       "    <tr>\n",
       "      <th>6</th>\n",
       "      <td>30480</td>\n",
       "      <td>4533308.00</td>\n",
       "    </tr>\n",
       "    <tr>\n",
       "      <th>7</th>\n",
       "      <td>30481</td>\n",
       "      <td>3993631.25</td>\n",
       "    </tr>\n",
       "    <tr>\n",
       "      <th>8</th>\n",
       "      <td>30482</td>\n",
       "      <td>5263940.50</td>\n",
       "    </tr>\n",
       "    <tr>\n",
       "      <th>9</th>\n",
       "      <td>30483</td>\n",
       "      <td>6027741.00</td>\n",
       "    </tr>\n",
       "    <tr>\n",
       "      <th>10</th>\n",
       "      <td>30484</td>\n",
       "      <td>6201747.50</td>\n",
       "    </tr>\n",
       "    <tr>\n",
       "      <th>11</th>\n",
       "      <td>30485</td>\n",
       "      <td>5373631.50</td>\n",
       "    </tr>\n",
       "    <tr>\n",
       "      <th>12</th>\n",
       "      <td>30486</td>\n",
       "      <td>4847195.50</td>\n",
       "    </tr>\n",
       "    <tr>\n",
       "      <th>13</th>\n",
       "      <td>30487</td>\n",
       "      <td>4771602.00</td>\n",
       "    </tr>\n",
       "    <tr>\n",
       "      <th>14</th>\n",
       "      <td>30488</td>\n",
       "      <td>7559910.50</td>\n",
       "    </tr>\n",
       "    <tr>\n",
       "      <th>15</th>\n",
       "      <td>30489</td>\n",
       "      <td>5897097.50</td>\n",
       "    </tr>\n",
       "    <tr>\n",
       "      <th>16</th>\n",
       "      <td>30490</td>\n",
       "      <td>22925302.00</td>\n",
       "    </tr>\n",
       "    <tr>\n",
       "      <th>17</th>\n",
       "      <td>30491</td>\n",
       "      <td>19785556.00</td>\n",
       "    </tr>\n",
       "    <tr>\n",
       "      <th>18</th>\n",
       "      <td>30492</td>\n",
       "      <td>6392773.00</td>\n",
       "    </tr>\n",
       "    <tr>\n",
       "      <th>19</th>\n",
       "      <td>30493</td>\n",
       "      <td>16061372.00</td>\n",
       "    </tr>\n",
       "    <tr>\n",
       "      <th>20</th>\n",
       "      <td>30494</td>\n",
       "      <td>7623739.50</td>\n",
       "    </tr>\n",
       "    <tr>\n",
       "      <th>21</th>\n",
       "      <td>30495</td>\n",
       "      <td>10940440.00</td>\n",
       "    </tr>\n",
       "    <tr>\n",
       "      <th>22</th>\n",
       "      <td>30496</td>\n",
       "      <td>8212951.50</td>\n",
       "    </tr>\n",
       "    <tr>\n",
       "      <th>23</th>\n",
       "      <td>30497</td>\n",
       "      <td>9520482.00</td>\n",
       "    </tr>\n",
       "    <tr>\n",
       "      <th>24</th>\n",
       "      <td>30498</td>\n",
       "      <td>5555577.50</td>\n",
       "    </tr>\n",
       "    <tr>\n",
       "      <th>25</th>\n",
       "      <td>30499</td>\n",
       "      <td>10672373.00</td>\n",
       "    </tr>\n",
       "    <tr>\n",
       "      <th>26</th>\n",
       "      <td>30500</td>\n",
       "      <td>12706780.00</td>\n",
       "    </tr>\n",
       "    <tr>\n",
       "      <th>27</th>\n",
       "      <td>30501</td>\n",
       "      <td>7793685.50</td>\n",
       "    </tr>\n",
       "    <tr>\n",
       "      <th>28</th>\n",
       "      <td>30502</td>\n",
       "      <td>3351842.75</td>\n",
       "    </tr>\n",
       "    <tr>\n",
       "      <th>29</th>\n",
       "      <td>30503</td>\n",
       "      <td>8073909.50</td>\n",
       "    </tr>\n",
       "    <tr>\n",
       "      <th>...</th>\n",
       "      <td>...</td>\n",
       "      <td>...</td>\n",
       "    </tr>\n",
       "    <tr>\n",
       "      <th>7632</th>\n",
       "      <td>38106</td>\n",
       "      <td>61418112.00</td>\n",
       "    </tr>\n",
       "    <tr>\n",
       "      <th>7633</th>\n",
       "      <td>38107</td>\n",
       "      <td>59308260.00</td>\n",
       "    </tr>\n",
       "    <tr>\n",
       "      <th>7634</th>\n",
       "      <td>38108</td>\n",
       "      <td>64542184.00</td>\n",
       "    </tr>\n",
       "    <tr>\n",
       "      <th>7635</th>\n",
       "      <td>38109</td>\n",
       "      <td>60552920.00</td>\n",
       "    </tr>\n",
       "    <tr>\n",
       "      <th>7636</th>\n",
       "      <td>38110</td>\n",
       "      <td>59762240.00</td>\n",
       "    </tr>\n",
       "    <tr>\n",
       "      <th>7637</th>\n",
       "      <td>38111</td>\n",
       "      <td>61289656.00</td>\n",
       "    </tr>\n",
       "    <tr>\n",
       "      <th>7638</th>\n",
       "      <td>38112</td>\n",
       "      <td>59197656.00</td>\n",
       "    </tr>\n",
       "    <tr>\n",
       "      <th>7639</th>\n",
       "      <td>38113</td>\n",
       "      <td>60669584.00</td>\n",
       "    </tr>\n",
       "    <tr>\n",
       "      <th>7640</th>\n",
       "      <td>38114</td>\n",
       "      <td>61010928.00</td>\n",
       "    </tr>\n",
       "    <tr>\n",
       "      <th>7641</th>\n",
       "      <td>38115</td>\n",
       "      <td>59416784.00</td>\n",
       "    </tr>\n",
       "    <tr>\n",
       "      <th>7642</th>\n",
       "      <td>38116</td>\n",
       "      <td>61607088.00</td>\n",
       "    </tr>\n",
       "    <tr>\n",
       "      <th>7643</th>\n",
       "      <td>38117</td>\n",
       "      <td>62349140.00</td>\n",
       "    </tr>\n",
       "    <tr>\n",
       "      <th>7644</th>\n",
       "      <td>38118</td>\n",
       "      <td>62745964.00</td>\n",
       "    </tr>\n",
       "    <tr>\n",
       "      <th>7645</th>\n",
       "      <td>38119</td>\n",
       "      <td>59315360.00</td>\n",
       "    </tr>\n",
       "    <tr>\n",
       "      <th>7646</th>\n",
       "      <td>38120</td>\n",
       "      <td>62894176.00</td>\n",
       "    </tr>\n",
       "    <tr>\n",
       "      <th>7647</th>\n",
       "      <td>38121</td>\n",
       "      <td>60057056.00</td>\n",
       "    </tr>\n",
       "    <tr>\n",
       "      <th>7648</th>\n",
       "      <td>38122</td>\n",
       "      <td>61008092.00</td>\n",
       "    </tr>\n",
       "    <tr>\n",
       "      <th>7649</th>\n",
       "      <td>38123</td>\n",
       "      <td>61011548.00</td>\n",
       "    </tr>\n",
       "    <tr>\n",
       "      <th>7650</th>\n",
       "      <td>38124</td>\n",
       "      <td>61277440.00</td>\n",
       "    </tr>\n",
       "    <tr>\n",
       "      <th>7651</th>\n",
       "      <td>38125</td>\n",
       "      <td>59496816.00</td>\n",
       "    </tr>\n",
       "    <tr>\n",
       "      <th>7652</th>\n",
       "      <td>38126</td>\n",
       "      <td>63504336.00</td>\n",
       "    </tr>\n",
       "    <tr>\n",
       "      <th>7653</th>\n",
       "      <td>38127</td>\n",
       "      <td>59906120.00</td>\n",
       "    </tr>\n",
       "    <tr>\n",
       "      <th>7654</th>\n",
       "      <td>38128</td>\n",
       "      <td>60706724.00</td>\n",
       "    </tr>\n",
       "    <tr>\n",
       "      <th>7655</th>\n",
       "      <td>38129</td>\n",
       "      <td>59389928.00</td>\n",
       "    </tr>\n",
       "    <tr>\n",
       "      <th>7656</th>\n",
       "      <td>38130</td>\n",
       "      <td>60746824.00</td>\n",
       "    </tr>\n",
       "    <tr>\n",
       "      <th>7657</th>\n",
       "      <td>38131</td>\n",
       "      <td>61871724.00</td>\n",
       "    </tr>\n",
       "    <tr>\n",
       "      <th>7658</th>\n",
       "      <td>38132</td>\n",
       "      <td>60676820.00</td>\n",
       "    </tr>\n",
       "    <tr>\n",
       "      <th>7659</th>\n",
       "      <td>38133</td>\n",
       "      <td>59026992.00</td>\n",
       "    </tr>\n",
       "    <tr>\n",
       "      <th>7660</th>\n",
       "      <td>38134</td>\n",
       "      <td>59700312.00</td>\n",
       "    </tr>\n",
       "    <tr>\n",
       "      <th>7661</th>\n",
       "      <td>38135</td>\n",
       "      <td>62072824.00</td>\n",
       "    </tr>\n",
       "  </tbody>\n",
       "</table>\n",
       "<p>7662 rows × 2 columns</p>\n",
       "</div>"
      ],
      "text/plain": [
       "         id    price_doc\n",
       "0     30474   5980774.50\n",
       "1     30475   8872418.00\n",
       "2     30476   6303998.50\n",
       "3     30477   6438242.00\n",
       "4     30478   5553354.00\n",
       "5     30479  10193707.00\n",
       "6     30480   4533308.00\n",
       "7     30481   3993631.25\n",
       "8     30482   5263940.50\n",
       "9     30483   6027741.00\n",
       "10    30484   6201747.50\n",
       "11    30485   5373631.50\n",
       "12    30486   4847195.50\n",
       "13    30487   4771602.00\n",
       "14    30488   7559910.50\n",
       "15    30489   5897097.50\n",
       "16    30490  22925302.00\n",
       "17    30491  19785556.00\n",
       "18    30492   6392773.00\n",
       "19    30493  16061372.00\n",
       "20    30494   7623739.50\n",
       "21    30495  10940440.00\n",
       "22    30496   8212951.50\n",
       "23    30497   9520482.00\n",
       "24    30498   5555577.50\n",
       "25    30499  10672373.00\n",
       "26    30500  12706780.00\n",
       "27    30501   7793685.50\n",
       "28    30502   3351842.75\n",
       "29    30503   8073909.50\n",
       "...     ...          ...\n",
       "7632  38106  61418112.00\n",
       "7633  38107  59308260.00\n",
       "7634  38108  64542184.00\n",
       "7635  38109  60552920.00\n",
       "7636  38110  59762240.00\n",
       "7637  38111  61289656.00\n",
       "7638  38112  59197656.00\n",
       "7639  38113  60669584.00\n",
       "7640  38114  61010928.00\n",
       "7641  38115  59416784.00\n",
       "7642  38116  61607088.00\n",
       "7643  38117  62349140.00\n",
       "7644  38118  62745964.00\n",
       "7645  38119  59315360.00\n",
       "7646  38120  62894176.00\n",
       "7647  38121  60057056.00\n",
       "7648  38122  61008092.00\n",
       "7649  38123  61011548.00\n",
       "7650  38124  61277440.00\n",
       "7651  38125  59496816.00\n",
       "7652  38126  63504336.00\n",
       "7653  38127  59906120.00\n",
       "7654  38128  60706724.00\n",
       "7655  38129  59389928.00\n",
       "7656  38130  60746824.00\n",
       "7657  38131  61871724.00\n",
       "7658  38132  60676820.00\n",
       "7659  38133  59026992.00\n",
       "7660  38134  59700312.00\n",
       "7661  38135  62072824.00\n",
       "\n",
       "[7662 rows x 2 columns]"
      ]
     },
     "execution_count": 136,
     "metadata": {},
     "output_type": "execute_result"
    }
   ],
   "source": [
    "final_kaggle_df[['id', 'price_doc']]"
   ]
  },
  {
   "cell_type": "code",
   "execution_count": 137,
   "metadata": {
    "collapsed": true,
    "deletable": true,
    "editable": true
   },
   "outputs": [],
   "source": [
    "final_kaggle_df[['id', 'price_doc']].to_csv(\"/mnt/h/Kaggle/Competitions/Russian Bank/models/v\" + str(version) + \"/submission.csv\", index=False) # output submission csv file"
   ]
  }
 ],
 "metadata": {
  "kernelspec": {
   "display_name": "Python 2",
   "language": "python",
   "name": "python2"
  },
  "language_info": {
   "codemirror_mode": {
    "name": "ipython",
    "version": 2
   },
   "file_extension": ".py",
   "mimetype": "text/x-python",
   "name": "python",
   "nbconvert_exporter": "python",
   "pygments_lexer": "ipython2",
   "version": "2.7.6"
  }
 },
 "nbformat": 4,
 "nbformat_minor": 2
}
