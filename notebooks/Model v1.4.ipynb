{
 "cells": [
  {
   "cell_type": "markdown",
   "metadata": {
    "deletable": true,
    "editable": true
   },
   "source": [
    "# Model v1.4"
   ]
  },
  {
   "cell_type": "markdown",
   "metadata": {},
   "source": [
    "## Leaderboard score: 1.28702"
   ]
  },
  {
   "cell_type": "code",
   "execution_count": 1,
   "metadata": {
    "collapsed": false,
    "deletable": true,
    "editable": true
   },
   "outputs": [
    {
     "name": "stderr",
     "output_type": "stream",
     "text": [
      "Using TensorFlow backend.\n"
     ]
    }
   ],
   "source": [
    "from keras.layers import Input, LSTM, Dense, Dropout, Embedding, TimeDistributed, Reshape\n",
    "from keras.layers.advanced_activations import PReLU\n",
    "from keras.layers.normalization import BatchNormalization"
   ]
  },
  {
   "cell_type": "code",
   "execution_count": 2,
   "metadata": {
    "collapsed": true,
    "deletable": true,
    "editable": true
   },
   "outputs": [],
   "source": [
    "from keras.models import Model, Sequential\n",
    "from keras.layers.merge import Concatenate"
   ]
  },
  {
   "cell_type": "code",
   "execution_count": 3,
   "metadata": {
    "collapsed": true,
    "deletable": true,
    "editable": true
   },
   "outputs": [],
   "source": [
    "from keras.callbacks import TensorBoard, ModelCheckpoint, EarlyStopping"
   ]
  },
  {
   "cell_type": "code",
   "execution_count": 4,
   "metadata": {
    "collapsed": true,
    "deletable": true,
    "editable": true
   },
   "outputs": [],
   "source": [
    "import tensorflow as tf\n",
    "from keras import backend as K"
   ]
  },
  {
   "cell_type": "code",
   "execution_count": 5,
   "metadata": {
    "collapsed": true,
    "deletable": true,
    "editable": true
   },
   "outputs": [],
   "source": [
    "from sklearn import preprocessing\n",
    "from sklearn.model_selection import train_test_split"
   ]
  },
  {
   "cell_type": "code",
   "execution_count": 6,
   "metadata": {
    "collapsed": true,
    "deletable": true,
    "editable": true
   },
   "outputs": [],
   "source": [
    "from sklearn_pandas import DataFrameMapper"
   ]
  },
  {
   "cell_type": "code",
   "execution_count": 7,
   "metadata": {
    "collapsed": true,
    "deletable": true,
    "editable": true
   },
   "outputs": [],
   "source": [
    "import pandas as pd\n",
    "import numpy as np"
   ]
  },
  {
   "cell_type": "code",
   "execution_count": 8,
   "metadata": {
    "collapsed": true,
    "deletable": true,
    "editable": true
   },
   "outputs": [],
   "source": [
    "from keras.utils.np_utils import to_categorical"
   ]
  },
  {
   "cell_type": "code",
   "execution_count": 140,
   "metadata": {
    "collapsed": true,
    "deletable": true,
    "editable": true
   },
   "outputs": [],
   "source": [
    "version = 1.4\n",
    "version_str = \"v\" + str(version)"
   ]
  },
  {
   "cell_type": "code",
   "execution_count": 11,
   "metadata": {
    "collapsed": true,
    "deletable": true,
    "editable": true
   },
   "outputs": [],
   "source": [
    "LABEL = \"price_doc\""
   ]
  },
  {
   "cell_type": "code",
   "execution_count": 12,
   "metadata": {
    "collapsed": true,
    "deletable": true,
    "editable": true
   },
   "outputs": [],
   "source": [
    "def prepare_dataset(df, test=False, trunc_fields=False):\n",
    "    global LABEL\n",
    "    t_fields = ['id', 'timestamp', 'full_sq', 'life_sq', 'floor', 'max_floor','material', 'build_year', 'num_room', 'kitch_sq', 'state', 'product_type', 'sub_area', LABEL]\n",
    "    \n",
    "    if not test:\n",
    "        if trunc_fields:\n",
    "            df = df[t_fields.append + LABEL]\n",
    "        else:\n",
    "            df = df\n",
    "    else:\n",
    "        if trunc_fields:\n",
    "            df = df[t_fields]\n",
    "        else:\n",
    "            df = df\n",
    "    \n",
    "    df['timestamp_converted'] = pd.to_datetime(df['timestamp'])\n",
    "    df['timestamp_day'] = df.apply(lambda row: row['timestamp_converted'].day, axis=1)\n",
    "    df['timestamp_month'] = df.apply(lambda row: row['timestamp_converted'].month, axis=1)\n",
    "    df['timestamp_year'] = df.apply(lambda row: row['timestamp_converted'].year, axis=1)\n",
    "    df['state_refractored'] = df.apply( lambda row: 5 if row['state'] == 33 else row['state'] , axis = 1)\n",
    "    \n",
    "    df = df.fillna(0)\n",
    "    \n",
    "    df['state_refractored'] = df['state_refractored'].astype(int)    \n",
    "    df['material'] = df['material'].astype(int)    \n",
    "    return df"
   ]
  },
  {
   "cell_type": "code",
   "execution_count": 72,
   "metadata": {
    "collapsed": false,
    "deletable": true,
    "editable": true
   },
   "outputs": [],
   "source": [
    "final_train_df = pd.read_csv(\"/mnt/h/Kaggle/Competitions/Russian Bank/data/final_training_dataset.csv\")"
   ]
  },
  {
   "cell_type": "code",
   "execution_count": 73,
   "metadata": {
    "collapsed": false,
    "deletable": true,
    "editable": true
   },
   "outputs": [],
   "source": [
    "final_train_df = prepare_dataset(final_train_df)"
   ]
  },
  {
   "cell_type": "code",
   "execution_count": 74,
   "metadata": {
    "collapsed": true,
    "deletable": true,
    "editable": true
   },
   "outputs": [],
   "source": [
    "del final_train_df['Unnamed: 0']"
   ]
  },
  {
   "cell_type": "code",
   "execution_count": 75,
   "metadata": {
    "collapsed": false,
    "deletable": true,
    "editable": true
   },
   "outputs": [
    {
     "data": {
      "text/html": [
       "<div>\n",
       "<table border=\"1\" class=\"dataframe\">\n",
       "  <thead>\n",
       "    <tr style=\"text-align: right;\">\n",
       "      <th></th>\n",
       "      <th>id</th>\n",
       "      <th>timestamp</th>\n",
       "      <th>full_sq</th>\n",
       "      <th>life_sq</th>\n",
       "      <th>floor</th>\n",
       "      <th>max_floor</th>\n",
       "      <th>material</th>\n",
       "      <th>build_year</th>\n",
       "      <th>num_room</th>\n",
       "      <th>kitch_sq</th>\n",
       "      <th>...</th>\n",
       "      <th>provision_retail_space_modern_sqm</th>\n",
       "      <th>turnover_catering_per_cap</th>\n",
       "      <th>theaters_viewers_per_1000_cap</th>\n",
       "      <th>seats_theather_rfmin_per_100000_cap</th>\n",
       "      <th>museum_visitis_per_100_cap</th>\n",
       "      <th>bandwidth_sports</th>\n",
       "      <th>population_reg_sports_share</th>\n",
       "      <th>students_reg_sports_share</th>\n",
       "      <th>apartment_build</th>\n",
       "      <th>apartment_fund_sqm</th>\n",
       "    </tr>\n",
       "  </thead>\n",
       "  <tbody>\n",
       "    <tr>\n",
       "      <th>0</th>\n",
       "      <td>1</td>\n",
       "      <td>2011-08-20</td>\n",
       "      <td>43</td>\n",
       "      <td>27.0</td>\n",
       "      <td>4.0</td>\n",
       "      <td>0.0</td>\n",
       "      <td>0</td>\n",
       "      <td>0.0</td>\n",
       "      <td>0.0</td>\n",
       "      <td>0.0</td>\n",
       "      <td>...</td>\n",
       "      <td>271.0</td>\n",
       "      <td>6943.0</td>\n",
       "      <td>565.0</td>\n",
       "      <td>0.45356</td>\n",
       "      <td>1240.0</td>\n",
       "      <td>269768.0</td>\n",
       "      <td>22.37</td>\n",
       "      <td>64.12</td>\n",
       "      <td>23587.0</td>\n",
       "      <td>230310.0</td>\n",
       "    </tr>\n",
       "    <tr>\n",
       "      <th>1</th>\n",
       "      <td>2</td>\n",
       "      <td>2011-08-23</td>\n",
       "      <td>34</td>\n",
       "      <td>19.0</td>\n",
       "      <td>3.0</td>\n",
       "      <td>0.0</td>\n",
       "      <td>0</td>\n",
       "      <td>0.0</td>\n",
       "      <td>0.0</td>\n",
       "      <td>0.0</td>\n",
       "      <td>...</td>\n",
       "      <td>271.0</td>\n",
       "      <td>6943.0</td>\n",
       "      <td>565.0</td>\n",
       "      <td>0.45356</td>\n",
       "      <td>1240.0</td>\n",
       "      <td>269768.0</td>\n",
       "      <td>22.37</td>\n",
       "      <td>64.12</td>\n",
       "      <td>23587.0</td>\n",
       "      <td>230310.0</td>\n",
       "    </tr>\n",
       "    <tr>\n",
       "      <th>2</th>\n",
       "      <td>3</td>\n",
       "      <td>2011-08-27</td>\n",
       "      <td>43</td>\n",
       "      <td>29.0</td>\n",
       "      <td>2.0</td>\n",
       "      <td>0.0</td>\n",
       "      <td>0</td>\n",
       "      <td>0.0</td>\n",
       "      <td>0.0</td>\n",
       "      <td>0.0</td>\n",
       "      <td>...</td>\n",
       "      <td>271.0</td>\n",
       "      <td>6943.0</td>\n",
       "      <td>565.0</td>\n",
       "      <td>0.45356</td>\n",
       "      <td>1240.0</td>\n",
       "      <td>269768.0</td>\n",
       "      <td>22.37</td>\n",
       "      <td>64.12</td>\n",
       "      <td>23587.0</td>\n",
       "      <td>230310.0</td>\n",
       "    </tr>\n",
       "    <tr>\n",
       "      <th>3</th>\n",
       "      <td>4</td>\n",
       "      <td>2011-09-01</td>\n",
       "      <td>89</td>\n",
       "      <td>50.0</td>\n",
       "      <td>9.0</td>\n",
       "      <td>0.0</td>\n",
       "      <td>0</td>\n",
       "      <td>0.0</td>\n",
       "      <td>0.0</td>\n",
       "      <td>0.0</td>\n",
       "      <td>...</td>\n",
       "      <td>271.0</td>\n",
       "      <td>6943.0</td>\n",
       "      <td>565.0</td>\n",
       "      <td>0.45356</td>\n",
       "      <td>1240.0</td>\n",
       "      <td>269768.0</td>\n",
       "      <td>22.37</td>\n",
       "      <td>64.12</td>\n",
       "      <td>23587.0</td>\n",
       "      <td>230310.0</td>\n",
       "    </tr>\n",
       "    <tr>\n",
       "      <th>4</th>\n",
       "      <td>5</td>\n",
       "      <td>2011-09-05</td>\n",
       "      <td>77</td>\n",
       "      <td>77.0</td>\n",
       "      <td>4.0</td>\n",
       "      <td>0.0</td>\n",
       "      <td>0</td>\n",
       "      <td>0.0</td>\n",
       "      <td>0.0</td>\n",
       "      <td>0.0</td>\n",
       "      <td>...</td>\n",
       "      <td>271.0</td>\n",
       "      <td>6943.0</td>\n",
       "      <td>565.0</td>\n",
       "      <td>0.45356</td>\n",
       "      <td>1240.0</td>\n",
       "      <td>269768.0</td>\n",
       "      <td>22.37</td>\n",
       "      <td>64.12</td>\n",
       "      <td>23587.0</td>\n",
       "      <td>230310.0</td>\n",
       "    </tr>\n",
       "  </tbody>\n",
       "</table>\n",
       "<p>5 rows × 396 columns</p>\n",
       "</div>"
      ],
      "text/plain": [
       "   id   timestamp  full_sq  life_sq  floor  max_floor  material  build_year  \\\n",
       "0   1  2011-08-20       43     27.0    4.0        0.0         0         0.0   \n",
       "1   2  2011-08-23       34     19.0    3.0        0.0         0         0.0   \n",
       "2   3  2011-08-27       43     29.0    2.0        0.0         0         0.0   \n",
       "3   4  2011-09-01       89     50.0    9.0        0.0         0         0.0   \n",
       "4   5  2011-09-05       77     77.0    4.0        0.0         0         0.0   \n",
       "\n",
       "   num_room  kitch_sq         ...          provision_retail_space_modern_sqm  \\\n",
       "0       0.0       0.0         ...                                      271.0   \n",
       "1       0.0       0.0         ...                                      271.0   \n",
       "2       0.0       0.0         ...                                      271.0   \n",
       "3       0.0       0.0         ...                                      271.0   \n",
       "4       0.0       0.0         ...                                      271.0   \n",
       "\n",
       "  turnover_catering_per_cap theaters_viewers_per_1000_cap  \\\n",
       "0                    6943.0                         565.0   \n",
       "1                    6943.0                         565.0   \n",
       "2                    6943.0                         565.0   \n",
       "3                    6943.0                         565.0   \n",
       "4                    6943.0                         565.0   \n",
       "\n",
       "   seats_theather_rfmin_per_100000_cap  museum_visitis_per_100_cap  \\\n",
       "0                              0.45356                      1240.0   \n",
       "1                              0.45356                      1240.0   \n",
       "2                              0.45356                      1240.0   \n",
       "3                              0.45356                      1240.0   \n",
       "4                              0.45356                      1240.0   \n",
       "\n",
       "   bandwidth_sports  population_reg_sports_share  students_reg_sports_share  \\\n",
       "0          269768.0                        22.37                      64.12   \n",
       "1          269768.0                        22.37                      64.12   \n",
       "2          269768.0                        22.37                      64.12   \n",
       "3          269768.0                        22.37                      64.12   \n",
       "4          269768.0                        22.37                      64.12   \n",
       "\n",
       "   apartment_build  apartment_fund_sqm  \n",
       "0          23587.0            230310.0  \n",
       "1          23587.0            230310.0  \n",
       "2          23587.0            230310.0  \n",
       "3          23587.0            230310.0  \n",
       "4          23587.0            230310.0  \n",
       "\n",
       "[5 rows x 396 columns]"
      ]
     },
     "execution_count": 75,
     "metadata": {},
     "output_type": "execute_result"
    }
   ],
   "source": [
    "final_train_df.head()"
   ]
  },
  {
   "cell_type": "markdown",
   "metadata": {
    "deletable": true,
    "editable": true
   },
   "source": [
    "## Data prep"
   ]
  },
  {
   "cell_type": "code",
   "execution_count": 76,
   "metadata": {
    "collapsed": true,
    "deletable": true,
    "editable": true
   },
   "outputs": [],
   "source": [
    "def dedup(listy):\n",
    "    return list(set(listy))"
   ]
  },
  {
   "cell_type": "code",
   "execution_count": 77,
   "metadata": {
    "collapsed": false,
    "deletable": true,
    "editable": true
   },
   "outputs": [],
   "source": [
    "property_columns = [\n",
    "    # Place features\n",
    " 'full_sq',\n",
    " 'kitch_sq',\n",
    " 'floor',\n",
    " 'life_sq',\n",
    " 'build_year',\n",
    " 'num_room',\n",
    " 'max_floor',\n",
    " 'sub_area',\n",
    "]\n",
    "\n",
    "time_columns = [\n",
    " 'timestamp_day',\n",
    " 'timestamp_month',\n",
    " 'timestamp_year',\n",
    "]\n",
    "\n",
    "population_columns = [\n",
    "    # Economy: Population\n",
    "    'male_f',\n",
    "    'female_f',\n",
    "    'young_all',\n",
    "    'young_male',\n",
    "    'young_female',\n",
    "    'work_all',\n",
    "    'work_male',\n",
    "    'work_female',\n",
    "    'ekder_all',\n",
    "    'ekder_male',\n",
    "    'ekder_female',\n",
    "    \n",
    "    'marriages_per_1000_cap',\n",
    "    'divorce_rate',\n",
    "    'pop_natural_increase',\n",
    "    'pop_migration',\n",
    "    'pop_total_inc',\n",
    "    'childbirth',\n",
    "    'mortality',\n",
    "    'average_life_exp',\n",
    "]\n",
    "\n",
    "locality_columns = [\n",
    " 'metro_min_avto',\n",
    "    \n",
    " 'railroad_station_avto_min',\n",
    "    \n",
    " 'green_part_1000',\n",
    " 'green_part_1500',\n",
    "    \n",
    "     # Raion = number of...\n",
    "  'big_market_raion',\n",
    "  'nuclear_reactor_raion',\n",
    "  'detention_facility_raion',\n",
    "  'full_all',\n",
    "  'shopping_centers_raion',\n",
    "  'office_raion',\n",
    "  'thermal_power_plant_raion',\n",
    "  'healthcare_centers_raion',\n",
    "  'university_top_20_raion',\n",
    "    \n",
    "  # Locality features...\n",
    " 'railroad_km',\n",
    " 'green_zone_km',\n",
    " 'kindergarten_km',\n",
    " 'public_transport_station_km',\n",
    " 'metro_km_avto',\n",
    " 'park_km',\n",
    " 'cemetery_km',\n",
    " 'mosque_km',\n",
    " 'public_healthcare_km',\n",
    " 'catering_km',\n",
    " 'big_road2_km',\n",
    " 'hospice_morgue_km',\n",
    " 'swim_pool_km',\n",
    " 'water_treatment_km',\n",
    " 'power_transmission_line_km',\n",
    " 'water_km',\n",
    " 'school_km',\n",
    " 'ttk_km',\n",
    " 'area_m',\n",
    " 'ts_km',\n",
    " 'university_km',\n",
    " 'oil_chemistry_km',\n",
    " 'exhibition_km',\n",
    " 'shopping_centers_km',\n",
    " 'zd_vokzaly_avto_km',\n",
    " 'preschool_km',\n",
    " 'big_road1_km',\n",
    " 'additional_education_km',\n",
    " 'church_synagogue_km',\n",
    " 'big_church_km',\n",
    " 'incineration_km',\n",
    " 'industrial_km',\n",
    " 'nuclear_reactor_km',\n",
    "]\n",
    "\n",
    "economy_columns = [\n",
    "    \n",
    "    \n",
    "     'usdrub',\n",
    " 'micex_cbi_tr',\n",
    " 'brent', \n",
    "    \n",
    "     'micex',\n",
    "    \n",
    "    'oil_urals',\n",
    "     \n",
    " # Economy features\n",
    " 'gdp_quart',\n",
    " 'gdp_quart_growth',\n",
    " 'cpi',\n",
    "    'ppi',\n",
    "    'gdp_deflator',\n",
    "    'gdp_annual',\n",
    "    'gdp_annual_growth',\n",
    "    'average_provision_of_build_contract',\n",
    "    'average_provision_of_build_contract_moscow',\n",
    "    'rts',\n",
    "    'deposits_value',\n",
    "    'deposits_growth',\n",
    "    'deposits_rate',\n",
    "    'mortgage_value',\n",
    "    'mortgage_growth',\n",
    "    'mortgage_rate',\n",
    "    'grp',\n",
    "    'grp_growth',\n",
    "    'income_per_cap',\n",
    "    'real_dispos_income_per_cap_growth',\n",
    "    'salary',\n",
    "    'salary_growth',\n",
    "    'labor_force',\n",
    "    'unemployment',\n",
    "    'employment',\n",
    "    'construction_value',\n",
    "    'housing_fund_sqm',\n",
    "    'lodging_sqm_per_cap',\n",
    "    'water_pipes_share',\n",
    "    'baths_share',\n",
    "    'sewerage_share',\n",
    "    'gas_share',\n",
    "    'hot_water_share',\n",
    "    'electric_stove_share',\n",
    "    'heating_share',\n",
    "    'old_house_share',\n",
    "    'incidence_population',\n",
    "    'rent_price_4+room_bus',\n",
    "    'rent_price_3room_bus',\n",
    "    'rent_price_2room_bus',\n",
    "    'rent_price_1room_bus',\n",
    "    'rent_price_3room_eco',\n",
    "    'rent_price_2room_eco',\n",
    "    'rent_price_1room_eco',\n",
    "    'apartment_build',\n",
    "    'apartment_fund_sqm',\n",
    "    'indust_part',\n",
    "]\n",
    "\n",
    "one_hot_cols = [\n",
    "    'material',\n",
    "    'state_refractored'\n",
    "]\n",
    "\n",
    "columns = dedup(property_columns + population_columns + economy_columns + locality_columns + time_columns + one_hot_cols)\n",
    "\n",
    "label_cols = [\n",
    "    'sub_area',\n",
    "    'big_market_raion',\n",
    "    'nuclear_reactor_raion',\n",
    "    'thermal_power_plant_raion',\n",
    "    'detention_facility_raion',\n",
    "    'big_market_raion',\n",
    "  'nuclear_reactor_raion',\n",
    "  'detention_facility_raion',\n",
    "  'full_all',\n",
    "  'shopping_centers_raion',\n",
    "  'office_raion',\n",
    "  'thermal_power_plant_raion',\n",
    "  'healthcare_centers_raion',\n",
    "  'university_top_20_raion',\n",
    "]\n",
    "\n",
    "exclude_normalize_columns = [\n",
    "    # Specific columns to exclude...\n",
    "] + one_hot_cols + label_cols\n",
    "\n",
    "normalize_columns = [c for c in columns if c not in exclude_normalize_columns]\n",
    "\n",
    "#locality_columns = [c for c in columns if \"_km\" in c]\n",
    "continuous_columns = [c for c in columns if c not in one_hot_cols and c not in label_cols]\n",
    "continuous_columns_without_locality = [c for c in continuous_columns if c not in locality_columns]"
   ]
  },
  {
   "cell_type": "code",
   "execution_count": 78,
   "metadata": {
    "collapsed": false,
    "deletable": true,
    "editable": true
   },
   "outputs": [],
   "source": [
    "final_train_df = final_train_df[columns + [LABEL, 'timestamp_converted']]"
   ]
  },
  {
   "cell_type": "code",
   "execution_count": 79,
   "metadata": {
    "collapsed": false,
    "deletable": true,
    "editable": true
   },
   "outputs": [
    {
     "data": {
      "text/html": [
       "<div>\n",
       "<table border=\"1\" class=\"dataframe\">\n",
       "  <thead>\n",
       "    <tr style=\"text-align: right;\">\n",
       "      <th></th>\n",
       "      <th>micex_cbi_tr</th>\n",
       "      <th>unemployment</th>\n",
       "      <th>apartment_build</th>\n",
       "      <th>railroad_station_avto_min</th>\n",
       "      <th>rts</th>\n",
       "      <th>pop_migration</th>\n",
       "      <th>work_all</th>\n",
       "      <th>state_refractored</th>\n",
       "      <th>healthcare_centers_raion</th>\n",
       "      <th>max_floor</th>\n",
       "      <th>...</th>\n",
       "      <th>salary</th>\n",
       "      <th>cpi</th>\n",
       "      <th>rent_price_4+room_bus</th>\n",
       "      <th>micex</th>\n",
       "      <th>rent_price_3room_bus</th>\n",
       "      <th>average_provision_of_build_contract_moscow</th>\n",
       "      <th>average_life_exp</th>\n",
       "      <th>marriages_per_1000_cap</th>\n",
       "      <th>price_doc</th>\n",
       "      <th>timestamp_converted</th>\n",
       "    </tr>\n",
       "  </thead>\n",
       "  <tbody>\n",
       "    <tr>\n",
       "      <th>0</th>\n",
       "      <td>204.78</td>\n",
       "      <td>0.014</td>\n",
       "      <td>23587.0</td>\n",
       "      <td>6.905893</td>\n",
       "      <td>1575.33</td>\n",
       "      <td>5.1</td>\n",
       "      <td>98207</td>\n",
       "      <td>0</td>\n",
       "      <td>1</td>\n",
       "      <td>0.0</td>\n",
       "      <td>...</td>\n",
       "      <td>44898.7</td>\n",
       "      <td>354.0</td>\n",
       "      <td>136.11</td>\n",
       "      <td>1438.74</td>\n",
       "      <td>77.93</td>\n",
       "      <td>6.74</td>\n",
       "      <td>75.79</td>\n",
       "      <td>8.5</td>\n",
       "      <td>5850000</td>\n",
       "      <td>2011-08-20</td>\n",
       "    </tr>\n",
       "    <tr>\n",
       "      <th>1</th>\n",
       "      <td>204.92</td>\n",
       "      <td>0.014</td>\n",
       "      <td>23587.0</td>\n",
       "      <td>4.679745</td>\n",
       "      <td>1578.91</td>\n",
       "      <td>5.1</td>\n",
       "      <td>70194</td>\n",
       "      <td>0</td>\n",
       "      <td>1</td>\n",
       "      <td>0.0</td>\n",
       "      <td>...</td>\n",
       "      <td>44898.7</td>\n",
       "      <td>354.0</td>\n",
       "      <td>136.11</td>\n",
       "      <td>1444.11</td>\n",
       "      <td>77.93</td>\n",
       "      <td>6.74</td>\n",
       "      <td>75.79</td>\n",
       "      <td>8.5</td>\n",
       "      <td>6000000</td>\n",
       "      <td>2011-08-23</td>\n",
       "    </tr>\n",
       "    <tr>\n",
       "      <th>2</th>\n",
       "      <td>204.84</td>\n",
       "      <td>0.014</td>\n",
       "      <td>23587.0</td>\n",
       "      <td>1.701420</td>\n",
       "      <td>1596.17</td>\n",
       "      <td>5.1</td>\n",
       "      <td>63388</td>\n",
       "      <td>0</td>\n",
       "      <td>1</td>\n",
       "      <td>0.0</td>\n",
       "      <td>...</td>\n",
       "      <td>44898.7</td>\n",
       "      <td>354.0</td>\n",
       "      <td>136.11</td>\n",
       "      <td>1458.84</td>\n",
       "      <td>77.93</td>\n",
       "      <td>6.74</td>\n",
       "      <td>75.79</td>\n",
       "      <td>8.5</td>\n",
       "      <td>5700000</td>\n",
       "      <td>2011-08-27</td>\n",
       "    </tr>\n",
       "    <tr>\n",
       "      <th>3</th>\n",
       "      <td>205.42</td>\n",
       "      <td>0.014</td>\n",
       "      <td>23587.0</td>\n",
       "      <td>5.271136</td>\n",
       "      <td>1703.86</td>\n",
       "      <td>5.1</td>\n",
       "      <td>120381</td>\n",
       "      <td>0</td>\n",
       "      <td>1</td>\n",
       "      <td>0.0</td>\n",
       "      <td>...</td>\n",
       "      <td>44898.7</td>\n",
       "      <td>353.2</td>\n",
       "      <td>155.22</td>\n",
       "      <td>1551.58</td>\n",
       "      <td>94.02</td>\n",
       "      <td>6.74</td>\n",
       "      <td>75.79</td>\n",
       "      <td>8.5</td>\n",
       "      <td>13100000</td>\n",
       "      <td>2011-09-01</td>\n",
       "    </tr>\n",
       "    <tr>\n",
       "      <th>4</th>\n",
       "      <td>198.24</td>\n",
       "      <td>0.014</td>\n",
       "      <td>23587.0</td>\n",
       "      <td>2.156284</td>\n",
       "      <td>1617.01</td>\n",
       "      <td>5.1</td>\n",
       "      <td>68043</td>\n",
       "      <td>0</td>\n",
       "      <td>4</td>\n",
       "      <td>0.0</td>\n",
       "      <td>...</td>\n",
       "      <td>44898.7</td>\n",
       "      <td>353.2</td>\n",
       "      <td>155.22</td>\n",
       "      <td>1492.83</td>\n",
       "      <td>94.02</td>\n",
       "      <td>6.74</td>\n",
       "      <td>75.79</td>\n",
       "      <td>8.5</td>\n",
       "      <td>16331452</td>\n",
       "      <td>2011-09-05</td>\n",
       "    </tr>\n",
       "  </tbody>\n",
       "</table>\n",
       "<p>5 rows × 132 columns</p>\n",
       "</div>"
      ],
      "text/plain": [
       "   micex_cbi_tr  unemployment  apartment_build  railroad_station_avto_min  \\\n",
       "0        204.78         0.014          23587.0                   6.905893   \n",
       "1        204.92         0.014          23587.0                   4.679745   \n",
       "2        204.84         0.014          23587.0                   1.701420   \n",
       "3        205.42         0.014          23587.0                   5.271136   \n",
       "4        198.24         0.014          23587.0                   2.156284   \n",
       "\n",
       "       rts  pop_migration  work_all  state_refractored  \\\n",
       "0  1575.33            5.1     98207                  0   \n",
       "1  1578.91            5.1     70194                  0   \n",
       "2  1596.17            5.1     63388                  0   \n",
       "3  1703.86            5.1    120381                  0   \n",
       "4  1617.01            5.1     68043                  0   \n",
       "\n",
       "   healthcare_centers_raion  max_floor         ...            salary    cpi  \\\n",
       "0                         1        0.0         ...           44898.7  354.0   \n",
       "1                         1        0.0         ...           44898.7  354.0   \n",
       "2                         1        0.0         ...           44898.7  354.0   \n",
       "3                         1        0.0         ...           44898.7  353.2   \n",
       "4                         4        0.0         ...           44898.7  353.2   \n",
       "\n",
       "   rent_price_4+room_bus    micex  rent_price_3room_bus  \\\n",
       "0                 136.11  1438.74                 77.93   \n",
       "1                 136.11  1444.11                 77.93   \n",
       "2                 136.11  1458.84                 77.93   \n",
       "3                 155.22  1551.58                 94.02   \n",
       "4                 155.22  1492.83                 94.02   \n",
       "\n",
       "   average_provision_of_build_contract_moscow  average_life_exp  \\\n",
       "0                                        6.74             75.79   \n",
       "1                                        6.74             75.79   \n",
       "2                                        6.74             75.79   \n",
       "3                                        6.74             75.79   \n",
       "4                                        6.74             75.79   \n",
       "\n",
       "   marriages_per_1000_cap  price_doc  timestamp_converted  \n",
       "0                     8.5    5850000           2011-08-20  \n",
       "1                     8.5    6000000           2011-08-23  \n",
       "2                     8.5    5700000           2011-08-27  \n",
       "3                     8.5   13100000           2011-09-01  \n",
       "4                     8.5   16331452           2011-09-05  \n",
       "\n",
       "[5 rows x 132 columns]"
      ]
     },
     "execution_count": 79,
     "metadata": {},
     "output_type": "execute_result"
    }
   ],
   "source": [
    "final_train_df.head()"
   ]
  },
  {
   "cell_type": "code",
   "execution_count": 80,
   "metadata": {
    "collapsed": false,
    "deletable": true,
    "editable": true
   },
   "outputs": [
    {
     "name": "stderr",
     "output_type": "stream",
     "text": [
      "/usr/local/lib/python2.7/dist-packages/ipykernel/__main__.py:1: FutureWarning: convert_objects is deprecated.  Use the data-type specific converters pd.to_datetime, pd.to_timedelta and pd.to_numeric.\n",
      "  if __name__ == '__main__':\n"
     ]
    }
   ],
   "source": [
    "final_train_df = final_train_df.convert_objects(convert_numeric=True)"
   ]
  },
  {
   "cell_type": "markdown",
   "metadata": {
    "deletable": true,
    "editable": true
   },
   "source": [
    "## Prepare numeric data scalers & normalizers"
   ]
  },
  {
   "cell_type": "code",
   "execution_count": 81,
   "metadata": {
    "collapsed": true,
    "deletable": true,
    "editable": true
   },
   "outputs": [],
   "source": [
    "norm_scalers = {column : preprocessing.StandardScaler() for column in normalize_columns}"
   ]
  },
  {
   "cell_type": "code",
   "execution_count": 82,
   "metadata": {
    "collapsed": false,
    "deletable": true,
    "editable": true
   },
   "outputs": [
    {
     "data": {
      "text/plain": [
       "{'additional_education_km': StandardScaler(copy=True, with_mean=True, with_std=True),\n",
       " 'apartment_build': StandardScaler(copy=True, with_mean=True, with_std=True),\n",
       " 'apartment_fund_sqm': StandardScaler(copy=True, with_mean=True, with_std=True),\n",
       " 'area_m': StandardScaler(copy=True, with_mean=True, with_std=True),\n",
       " 'average_life_exp': StandardScaler(copy=True, with_mean=True, with_std=True),\n",
       " 'average_provision_of_build_contract': StandardScaler(copy=True, with_mean=True, with_std=True),\n",
       " 'average_provision_of_build_contract_moscow': StandardScaler(copy=True, with_mean=True, with_std=True),\n",
       " 'baths_share': StandardScaler(copy=True, with_mean=True, with_std=True),\n",
       " 'big_church_km': StandardScaler(copy=True, with_mean=True, with_std=True),\n",
       " 'big_road1_km': StandardScaler(copy=True, with_mean=True, with_std=True),\n",
       " 'big_road2_km': StandardScaler(copy=True, with_mean=True, with_std=True),\n",
       " 'brent': StandardScaler(copy=True, with_mean=True, with_std=True),\n",
       " 'build_year': StandardScaler(copy=True, with_mean=True, with_std=True),\n",
       " 'catering_km': StandardScaler(copy=True, with_mean=True, with_std=True),\n",
       " 'cemetery_km': StandardScaler(copy=True, with_mean=True, with_std=True),\n",
       " 'childbirth': StandardScaler(copy=True, with_mean=True, with_std=True),\n",
       " 'church_synagogue_km': StandardScaler(copy=True, with_mean=True, with_std=True),\n",
       " 'construction_value': StandardScaler(copy=True, with_mean=True, with_std=True),\n",
       " 'cpi': StandardScaler(copy=True, with_mean=True, with_std=True),\n",
       " 'deposits_growth': StandardScaler(copy=True, with_mean=True, with_std=True),\n",
       " 'deposits_rate': StandardScaler(copy=True, with_mean=True, with_std=True),\n",
       " 'deposits_value': StandardScaler(copy=True, with_mean=True, with_std=True),\n",
       " 'divorce_rate': StandardScaler(copy=True, with_mean=True, with_std=True),\n",
       " 'ekder_all': StandardScaler(copy=True, with_mean=True, with_std=True),\n",
       " 'ekder_female': StandardScaler(copy=True, with_mean=True, with_std=True),\n",
       " 'ekder_male': StandardScaler(copy=True, with_mean=True, with_std=True),\n",
       " 'electric_stove_share': StandardScaler(copy=True, with_mean=True, with_std=True),\n",
       " 'employment': StandardScaler(copy=True, with_mean=True, with_std=True),\n",
       " 'exhibition_km': StandardScaler(copy=True, with_mean=True, with_std=True),\n",
       " 'female_f': StandardScaler(copy=True, with_mean=True, with_std=True),\n",
       " 'floor': StandardScaler(copy=True, with_mean=True, with_std=True),\n",
       " 'full_sq': StandardScaler(copy=True, with_mean=True, with_std=True),\n",
       " 'gas_share': StandardScaler(copy=True, with_mean=True, with_std=True),\n",
       " 'gdp_annual': StandardScaler(copy=True, with_mean=True, with_std=True),\n",
       " 'gdp_annual_growth': StandardScaler(copy=True, with_mean=True, with_std=True),\n",
       " 'gdp_deflator': StandardScaler(copy=True, with_mean=True, with_std=True),\n",
       " 'gdp_quart': StandardScaler(copy=True, with_mean=True, with_std=True),\n",
       " 'gdp_quart_growth': StandardScaler(copy=True, with_mean=True, with_std=True),\n",
       " 'green_part_1000': StandardScaler(copy=True, with_mean=True, with_std=True),\n",
       " 'green_part_1500': StandardScaler(copy=True, with_mean=True, with_std=True),\n",
       " 'green_zone_km': StandardScaler(copy=True, with_mean=True, with_std=True),\n",
       " 'grp': StandardScaler(copy=True, with_mean=True, with_std=True),\n",
       " 'grp_growth': StandardScaler(copy=True, with_mean=True, with_std=True),\n",
       " 'heating_share': StandardScaler(copy=True, with_mean=True, with_std=True),\n",
       " 'hospice_morgue_km': StandardScaler(copy=True, with_mean=True, with_std=True),\n",
       " 'hot_water_share': StandardScaler(copy=True, with_mean=True, with_std=True),\n",
       " 'housing_fund_sqm': StandardScaler(copy=True, with_mean=True, with_std=True),\n",
       " 'incidence_population': StandardScaler(copy=True, with_mean=True, with_std=True),\n",
       " 'incineration_km': StandardScaler(copy=True, with_mean=True, with_std=True),\n",
       " 'income_per_cap': StandardScaler(copy=True, with_mean=True, with_std=True),\n",
       " 'indust_part': StandardScaler(copy=True, with_mean=True, with_std=True),\n",
       " 'industrial_km': StandardScaler(copy=True, with_mean=True, with_std=True),\n",
       " 'kindergarten_km': StandardScaler(copy=True, with_mean=True, with_std=True),\n",
       " 'kitch_sq': StandardScaler(copy=True, with_mean=True, with_std=True),\n",
       " 'labor_force': StandardScaler(copy=True, with_mean=True, with_std=True),\n",
       " 'life_sq': StandardScaler(copy=True, with_mean=True, with_std=True),\n",
       " 'lodging_sqm_per_cap': StandardScaler(copy=True, with_mean=True, with_std=True),\n",
       " 'male_f': StandardScaler(copy=True, with_mean=True, with_std=True),\n",
       " 'marriages_per_1000_cap': StandardScaler(copy=True, with_mean=True, with_std=True),\n",
       " 'max_floor': StandardScaler(copy=True, with_mean=True, with_std=True),\n",
       " 'metro_km_avto': StandardScaler(copy=True, with_mean=True, with_std=True),\n",
       " 'metro_min_avto': StandardScaler(copy=True, with_mean=True, with_std=True),\n",
       " 'micex': StandardScaler(copy=True, with_mean=True, with_std=True),\n",
       " 'micex_cbi_tr': StandardScaler(copy=True, with_mean=True, with_std=True),\n",
       " 'mortality': StandardScaler(copy=True, with_mean=True, with_std=True),\n",
       " 'mortgage_growth': StandardScaler(copy=True, with_mean=True, with_std=True),\n",
       " 'mortgage_rate': StandardScaler(copy=True, with_mean=True, with_std=True),\n",
       " 'mortgage_value': StandardScaler(copy=True, with_mean=True, with_std=True),\n",
       " 'mosque_km': StandardScaler(copy=True, with_mean=True, with_std=True),\n",
       " 'nuclear_reactor_km': StandardScaler(copy=True, with_mean=True, with_std=True),\n",
       " 'num_room': StandardScaler(copy=True, with_mean=True, with_std=True),\n",
       " 'oil_chemistry_km': StandardScaler(copy=True, with_mean=True, with_std=True),\n",
       " 'oil_urals': StandardScaler(copy=True, with_mean=True, with_std=True),\n",
       " 'old_house_share': StandardScaler(copy=True, with_mean=True, with_std=True),\n",
       " 'park_km': StandardScaler(copy=True, with_mean=True, with_std=True),\n",
       " 'pop_migration': StandardScaler(copy=True, with_mean=True, with_std=True),\n",
       " 'pop_natural_increase': StandardScaler(copy=True, with_mean=True, with_std=True),\n",
       " 'pop_total_inc': StandardScaler(copy=True, with_mean=True, with_std=True),\n",
       " 'power_transmission_line_km': StandardScaler(copy=True, with_mean=True, with_std=True),\n",
       " 'ppi': StandardScaler(copy=True, with_mean=True, with_std=True),\n",
       " 'preschool_km': StandardScaler(copy=True, with_mean=True, with_std=True),\n",
       " 'public_healthcare_km': StandardScaler(copy=True, with_mean=True, with_std=True),\n",
       " 'public_transport_station_km': StandardScaler(copy=True, with_mean=True, with_std=True),\n",
       " 'railroad_km': StandardScaler(copy=True, with_mean=True, with_std=True),\n",
       " 'railroad_station_avto_min': StandardScaler(copy=True, with_mean=True, with_std=True),\n",
       " 'real_dispos_income_per_cap_growth': StandardScaler(copy=True, with_mean=True, with_std=True),\n",
       " 'rent_price_1room_bus': StandardScaler(copy=True, with_mean=True, with_std=True),\n",
       " 'rent_price_1room_eco': StandardScaler(copy=True, with_mean=True, with_std=True),\n",
       " 'rent_price_2room_bus': StandardScaler(copy=True, with_mean=True, with_std=True),\n",
       " 'rent_price_2room_eco': StandardScaler(copy=True, with_mean=True, with_std=True),\n",
       " 'rent_price_3room_bus': StandardScaler(copy=True, with_mean=True, with_std=True),\n",
       " 'rent_price_3room_eco': StandardScaler(copy=True, with_mean=True, with_std=True),\n",
       " 'rent_price_4+room_bus': StandardScaler(copy=True, with_mean=True, with_std=True),\n",
       " 'rts': StandardScaler(copy=True, with_mean=True, with_std=True),\n",
       " 'salary': StandardScaler(copy=True, with_mean=True, with_std=True),\n",
       " 'salary_growth': StandardScaler(copy=True, with_mean=True, with_std=True),\n",
       " 'school_km': StandardScaler(copy=True, with_mean=True, with_std=True),\n",
       " 'sewerage_share': StandardScaler(copy=True, with_mean=True, with_std=True),\n",
       " 'shopping_centers_km': StandardScaler(copy=True, with_mean=True, with_std=True),\n",
       " 'swim_pool_km': StandardScaler(copy=True, with_mean=True, with_std=True),\n",
       " 'timestamp_day': StandardScaler(copy=True, with_mean=True, with_std=True),\n",
       " 'timestamp_month': StandardScaler(copy=True, with_mean=True, with_std=True),\n",
       " 'timestamp_year': StandardScaler(copy=True, with_mean=True, with_std=True),\n",
       " 'ts_km': StandardScaler(copy=True, with_mean=True, with_std=True),\n",
       " 'ttk_km': StandardScaler(copy=True, with_mean=True, with_std=True),\n",
       " 'unemployment': StandardScaler(copy=True, with_mean=True, with_std=True),\n",
       " 'university_km': StandardScaler(copy=True, with_mean=True, with_std=True),\n",
       " 'usdrub': StandardScaler(copy=True, with_mean=True, with_std=True),\n",
       " 'water_km': StandardScaler(copy=True, with_mean=True, with_std=True),\n",
       " 'water_pipes_share': StandardScaler(copy=True, with_mean=True, with_std=True),\n",
       " 'water_treatment_km': StandardScaler(copy=True, with_mean=True, with_std=True),\n",
       " 'work_all': StandardScaler(copy=True, with_mean=True, with_std=True),\n",
       " 'work_female': StandardScaler(copy=True, with_mean=True, with_std=True),\n",
       " 'work_male': StandardScaler(copy=True, with_mean=True, with_std=True),\n",
       " 'young_all': StandardScaler(copy=True, with_mean=True, with_std=True),\n",
       " 'young_female': StandardScaler(copy=True, with_mean=True, with_std=True),\n",
       " 'young_male': StandardScaler(copy=True, with_mean=True, with_std=True),\n",
       " 'zd_vokzaly_avto_km': StandardScaler(copy=True, with_mean=True, with_std=True)}"
      ]
     },
     "execution_count": 82,
     "metadata": {},
     "output_type": "execute_result"
    }
   ],
   "source": [
    "norm_scalers"
   ]
  },
  {
   "cell_type": "code",
   "execution_count": 83,
   "metadata": {
    "collapsed": false,
    "deletable": true,
    "editable": true
   },
   "outputs": [
    {
     "data": {
      "text/plain": [
       "118"
      ]
     },
     "execution_count": 83,
     "metadata": {},
     "output_type": "execute_result"
    }
   ],
   "source": [
    "len(norm_scalers)"
   ]
  },
  {
   "cell_type": "code",
   "execution_count": 84,
   "metadata": {
    "collapsed": true,
    "deletable": true,
    "editable": true
   },
   "outputs": [],
   "source": [
    "ont_hot_scalers = {column : (preprocessing.LabelEncoder(), preprocessing.OneHotEncoder(sparse=False)) for column in one_hot_cols}"
   ]
  },
  {
   "cell_type": "code",
   "execution_count": 85,
   "metadata": {
    "collapsed": false,
    "deletable": true,
    "editable": true
   },
   "outputs": [
    {
     "data": {
      "text/plain": [
       "{'material': (LabelEncoder(),\n",
       "  OneHotEncoder(categorical_features='all', dtype=<type 'numpy.float64'>,\n",
       "         handle_unknown='error', n_values='auto', sparse=False)),\n",
       " 'state_refractored': (LabelEncoder(),\n",
       "  OneHotEncoder(categorical_features='all', dtype=<type 'numpy.float64'>,\n",
       "         handle_unknown='error', n_values='auto', sparse=False))}"
      ]
     },
     "execution_count": 85,
     "metadata": {},
     "output_type": "execute_result"
    }
   ],
   "source": [
    "ont_hot_scalers"
   ]
  },
  {
   "cell_type": "code",
   "execution_count": 86,
   "metadata": {
    "collapsed": true,
    "deletable": true,
    "editable": true
   },
   "outputs": [],
   "source": [
    "label_scalers = {column : preprocessing.LabelEncoder() for column in label_cols}"
   ]
  },
  {
   "cell_type": "code",
   "execution_count": 87,
   "metadata": {
    "collapsed": false,
    "deletable": true,
    "editable": true
   },
   "outputs": [
    {
     "data": {
      "text/plain": [
       "{'big_market_raion': LabelEncoder(),\n",
       " 'detention_facility_raion': LabelEncoder(),\n",
       " 'full_all': LabelEncoder(),\n",
       " 'healthcare_centers_raion': LabelEncoder(),\n",
       " 'nuclear_reactor_raion': LabelEncoder(),\n",
       " 'office_raion': LabelEncoder(),\n",
       " 'shopping_centers_raion': LabelEncoder(),\n",
       " 'sub_area': LabelEncoder(),\n",
       " 'thermal_power_plant_raion': LabelEncoder(),\n",
       " 'university_top_20_raion': LabelEncoder()}"
      ]
     },
     "execution_count": 87,
     "metadata": {},
     "output_type": "execute_result"
    }
   ],
   "source": [
    "label_scalers"
   ]
  },
  {
   "cell_type": "code",
   "execution_count": 88,
   "metadata": {
    "collapsed": false,
    "deletable": true,
    "editable": true
   },
   "outputs": [],
   "source": [
    "for column in normalize_columns:\n",
    "    c_scaler = norm_scalers[column]\n",
    "    try:\n",
    "        c_scaler.fit(final_train_df[[column]].values)\n",
    "    except:\n",
    "        print 'failed: ', column"
   ]
  },
  {
   "cell_type": "code",
   "execution_count": 89,
   "metadata": {
    "collapsed": false,
    "deletable": true,
    "editable": true
   },
   "outputs": [],
   "source": [
    "for column in one_hot_cols:\n",
    "    label_enc, one_hot_enc = ont_hot_scalers[column]\n",
    "    r = label_enc.fit_transform(final_train_df[[column]].values)\n",
    "    r = np.expand_dims(r, axis=1)\n",
    "    one_hot_enc.fit(r)"
   ]
  },
  {
   "cell_type": "code",
   "execution_count": 90,
   "metadata": {
    "collapsed": false,
    "deletable": true,
    "editable": true
   },
   "outputs": [],
   "source": [
    "for column in label_cols:\n",
    "    label_enc = label_scalers[column]\n",
    "    label_enc.fit(final_train_df[[column]].values)"
   ]
  },
  {
   "cell_type": "markdown",
   "metadata": {
    "deletable": true,
    "editable": true
   },
   "source": [
    "### Test the scalers..."
   ]
  },
  {
   "cell_type": "code",
   "execution_count": 91,
   "metadata": {
    "collapsed": false,
    "deletable": true,
    "editable": true
   },
   "outputs": [
    {
     "name": "stderr",
     "output_type": "stream",
     "text": [
      "/usr/local/lib/python2.7/dist-packages/sklearn/preprocessing/data.py:649: DeprecationWarning: Passing 1d arrays as data is deprecated in 0.17 and will raise ValueError in 0.19. Reshape your data either using X.reshape(-1, 1) if your data has a single feature or X.reshape(1, -1) if it contains a single sample.\n",
      "  warnings.warn(DEPRECATION_MSG_1D, DeprecationWarning)\n"
     ]
    },
    {
     "data": {
      "text/plain": [
       "array([ 0.40933319])"
      ]
     },
     "execution_count": 91,
     "metadata": {},
     "output_type": "execute_result"
    }
   ],
   "source": [
    "norm_scalers['timestamp_day'].transform([final_train_df.ix[0]['timestamp_day']])"
   ]
  },
  {
   "cell_type": "code",
   "execution_count": 92,
   "metadata": {
    "collapsed": false,
    "deletable": true,
    "editable": true
   },
   "outputs": [
    {
     "name": "stderr",
     "output_type": "stream",
     "text": [
      "/usr/local/lib/python2.7/dist-packages/sklearn/utils/validation.py:395: DeprecationWarning: Passing 1d arrays as data is deprecated in 0.17 and will raise ValueError in 0.19. Reshape your data either using X.reshape(-1, 1) if your data has a single feature or X.reshape(1, -1) if it contains a single sample.\n",
      "  DeprecationWarning)\n"
     ]
    },
    {
     "data": {
      "text/plain": [
       "array([[ 1.,  0.,  0.,  0.,  0.,  0.,  0.]])"
      ]
     },
     "execution_count": 92,
     "metadata": {},
     "output_type": "execute_result"
    }
   ],
   "source": [
    "ont_hot_scalers['material'][1].transform([final_train_df.ix[70]['material']])"
   ]
  },
  {
   "cell_type": "code",
   "execution_count": 93,
   "metadata": {
    "collapsed": false,
    "deletable": true,
    "editable": true
   },
   "outputs": [
    {
     "data": {
      "text/plain": [
       "array([9])"
      ]
     },
     "execution_count": 93,
     "metadata": {},
     "output_type": "execute_result"
    }
   ],
   "source": [
    "label_scalers['sub_area'].transform([final_train_df.ix[0]['sub_area']])"
   ]
  },
  {
   "cell_type": "code",
   "execution_count": 94,
   "metadata": {
    "collapsed": false,
    "deletable": true,
    "editable": true
   },
   "outputs": [],
   "source": [
    "sub_area_metadata = open('/mnt/h/Kaggle/Competitions/Russian Bank/models/metadata/sub_area_metadata.tsv', 'w+')\n",
    "sub_area_metadata.write(\"Sub area\\n\" + \"\\n\".join([label_scalers['sub_area'].inverse_transform([i])[0] for i in range(146)]))\n",
    "sub_area_metadata.close()"
   ]
  },
  {
   "cell_type": "markdown",
   "metadata": {
    "deletable": true,
    "editable": true
   },
   "source": [
    "### Save them to disk"
   ]
  },
  {
   "cell_type": "code",
   "execution_count": 95,
   "metadata": {
    "collapsed": true,
    "deletable": true,
    "editable": true
   },
   "outputs": [],
   "source": [
    "from sklearn.externals import joblib"
   ]
  },
  {
   "cell_type": "code",
   "execution_count": 96,
   "metadata": {
    "collapsed": false,
    "deletable": true,
    "editable": true
   },
   "outputs": [
    {
     "data": {
      "text/plain": [
       "['/mnt/h/Kaggle/Competitions/Russian Bank/code/data/norm_scalers.pkl']"
      ]
     },
     "execution_count": 96,
     "metadata": {},
     "output_type": "execute_result"
    }
   ],
   "source": [
    "joblib.dump(norm_scalers, '/mnt/h/Kaggle/Competitions/Russian Bank/code/data/norm_scalers.pkl') "
   ]
  },
  {
   "cell_type": "code",
   "execution_count": 97,
   "metadata": {
    "collapsed": false,
    "deletable": true,
    "editable": true
   },
   "outputs": [
    {
     "data": {
      "text/plain": [
       "['/mnt/h/Kaggle/Competitions/Russian Bank/code/data/one_hot_scalers.pkl']"
      ]
     },
     "execution_count": 97,
     "metadata": {},
     "output_type": "execute_result"
    }
   ],
   "source": [
    "joblib.dump(ont_hot_scalers, '/mnt/h/Kaggle/Competitions/Russian Bank/code/data/one_hot_scalers.pkl') "
   ]
  },
  {
   "cell_type": "code",
   "execution_count": 98,
   "metadata": {
    "collapsed": false,
    "deletable": true,
    "editable": true
   },
   "outputs": [
    {
     "data": {
      "text/plain": [
       "['/mnt/h/Kaggle/Competitions/Russian Bank/code/data/label_scalers.pkl']"
      ]
     },
     "execution_count": 98,
     "metadata": {},
     "output_type": "execute_result"
    }
   ],
   "source": [
    "joblib.dump(label_scalers, '/mnt/h/Kaggle/Competitions/Russian Bank/code/data/label_scalers.pkl') "
   ]
  },
  {
   "cell_type": "markdown",
   "metadata": {
    "collapsed": true,
    "deletable": true,
    "editable": true
   },
   "source": [
    "### Transform the whole training data"
   ]
  },
  {
   "cell_type": "code",
   "execution_count": 99,
   "metadata": {
    "collapsed": false,
    "deletable": true,
    "editable": true
   },
   "outputs": [],
   "source": [
    "for continuous_norm_col in normalize_columns:\n",
    "    scaler = norm_scalers[continuous_norm_col]\n",
    "    scaled_values = scaler.transform(final_train_df[[continuous_norm_col]].values)\n",
    "    final_train_df[continuous_norm_col + \"_scaled_feature\"] = scaled_values"
   ]
  },
  {
   "cell_type": "code",
   "execution_count": 100,
   "metadata": {
    "collapsed": false,
    "deletable": true,
    "editable": true
   },
   "outputs": [],
   "source": [
    "for one_hot_col in one_hot_cols:\n",
    "    l_scaler = ont_hot_scalers[one_hot_col][0]\n",
    "    scaler = ont_hot_scalers[one_hot_col][1]\n",
    "    r = l_scaler.transform(final_train_df[[one_hot_col]].values)\n",
    "    r = np.expand_dims(r, axis=1)\n",
    "    scaled_values = scaler.transform(r)\n",
    "    final_train_df[one_hot_col + \"_scaled_feature\"] = list(scaled_values)"
   ]
  },
  {
   "cell_type": "code",
   "execution_count": 101,
   "metadata": {
    "collapsed": true,
    "deletable": true,
    "editable": true
   },
   "outputs": [],
   "source": [
    "for label_col in label_cols:\n",
    "    label_enc = label_scalers[label_col]\n",
    "    encoded_values = label_enc.transform(final_train_df[[label_col]].values)\n",
    "    final_train_df[label_col + \"_scaled_feature\"] = encoded_values"
   ]
  },
  {
   "cell_type": "code",
   "execution_count": 102,
   "metadata": {
    "collapsed": true,
    "deletable": true,
    "editable": true
   },
   "outputs": [],
   "source": [
    "def extract_normalized_feature(df, feature_name):\n",
    "    return np.array(df[feature_name + \"_scaled_feature\"].values.tolist())"
   ]
  },
  {
   "cell_type": "code",
   "execution_count": 103,
   "metadata": {
    "collapsed": false,
    "deletable": true,
    "editable": true
   },
   "outputs": [
    {
     "data": {
      "text/plain": [
       "array([-0.29487286, -0.53152276, -0.29487286, ..., -0.24228399,\n",
       "        0.25731024, -0.29487286])"
      ]
     },
     "execution_count": 103,
     "metadata": {},
     "output_type": "execute_result"
    }
   ],
   "source": [
    "extract_normalized_feature(final_train_df, \"full_sq\")"
   ]
  },
  {
   "cell_type": "code",
   "execution_count": 104,
   "metadata": {
    "collapsed": false,
    "deletable": true,
    "editable": true
   },
   "outputs": [
    {
     "data": {
      "text/plain": [
       "array([-0.00404841, -0.16882931,  0.03714682, ..., -0.56018395,\n",
       "        0.09893965,  0.0165492 ])"
      ]
     },
     "execution_count": 104,
     "metadata": {},
     "output_type": "execute_result"
    }
   ],
   "source": [
    "extract_normalized_feature(final_train_df, \"life_sq\")"
   ]
  },
  {
   "cell_type": "code",
   "execution_count": 105,
   "metadata": {
    "collapsed": false,
    "deletable": true,
    "editable": true
   },
   "outputs": [
    {
     "data": {
      "text/plain": [
       "array([  9,  70, 129, ..., 103,  77,  75])"
      ]
     },
     "execution_count": 105,
     "metadata": {},
     "output_type": "execute_result"
    }
   ],
   "source": [
    "extract_normalized_feature(final_train_df, \"sub_area\")"
   ]
  },
  {
   "cell_type": "code",
   "execution_count": 106,
   "metadata": {
    "collapsed": false,
    "deletable": true,
    "editable": true
   },
   "outputs": [
    {
     "data": {
      "text/plain": [
       "('metro_min_avto',\n",
       " array([-0.36180133, -0.61411914, -0.43340412, ..., -0.42855279,\n",
       "        -0.24162376, -0.66784139]))"
      ]
     },
     "execution_count": 106,
     "metadata": {},
     "output_type": "execute_result"
    }
   ],
   "source": [
    "locality_columns[0], extract_normalized_feature(final_train_df, locality_columns[0])"
   ]
  },
  {
   "cell_type": "code",
   "execution_count": 107,
   "metadata": {
    "collapsed": false,
    "deletable": true,
    "editable": true
   },
   "outputs": [
    {
     "data": {
      "text/plain": [
       "array([  9,  70, 129, ..., 103,  77,  75])"
      ]
     },
     "execution_count": 107,
     "metadata": {},
     "output_type": "execute_result"
    }
   ],
   "source": [
    "extract_normalized_feature(final_train_df, \"sub_area\")"
   ]
  },
  {
   "cell_type": "code",
   "execution_count": 108,
   "metadata": {
    "collapsed": true,
    "deletable": true,
    "editable": true
   },
   "outputs": [],
   "source": [
    "def extract_temporal_features(df):\n",
    "    global time_columns\n",
    "    vals = []\n",
    "    for c in time_columns:\n",
    "        vals.append(extract_normalized_feature(df, c).reshape(-1, 1))\n",
    "    return np.hstack(tuple(vals))"
   ]
  },
  {
   "cell_type": "code",
   "execution_count": 109,
   "metadata": {
    "collapsed": true,
    "deletable": true,
    "editable": true
   },
   "outputs": [],
   "source": [
    "def extract_property_place_features(df):\n",
    "    global property_columns\n",
    "    vals = []\n",
    "    for c in property_columns:\n",
    "        vals.append(extract_normalized_feature(df, c).reshape(-1, 1))\n",
    "    return np.hstack(tuple(vals))"
   ]
  },
  {
   "cell_type": "code",
   "execution_count": 110,
   "metadata": {
    "collapsed": true,
    "deletable": true,
    "editable": true
   },
   "outputs": [],
   "source": [
    "def extract_economy_features(df):\n",
    "    global economy_columns\n",
    "    vals = []\n",
    "    for c in economy_columns:\n",
    "        vals.append(extract_normalized_feature(df, c).reshape(-1, 1))\n",
    "    return np.hstack(tuple(vals))"
   ]
  },
  {
   "cell_type": "code",
   "execution_count": 111,
   "metadata": {
    "collapsed": true,
    "deletable": true,
    "editable": true
   },
   "outputs": [],
   "source": [
    "def extract_population_features(df):\n",
    "    global population_columns\n",
    "    vals = []\n",
    "    for c in population_columns:\n",
    "        vals.append(extract_normalized_feature(df, c).reshape(-1, 1))\n",
    "    return np.hstack(tuple(vals))"
   ]
  },
  {
   "cell_type": "code",
   "execution_count": 112,
   "metadata": {
    "collapsed": true,
    "deletable": true,
    "editable": true
   },
   "outputs": [],
   "source": [
    "def extract_locality_features(df):\n",
    "    global locality_columns\n",
    "    vals = []\n",
    "    for c in locality_columns:\n",
    "        vals.append(extract_normalized_feature(df, c).reshape(-1, 1))\n",
    "    return np.hstack(tuple(vals))"
   ]
  },
  {
   "cell_type": "code",
   "execution_count": 113,
   "metadata": {
    "collapsed": true,
    "deletable": true,
    "editable": true
   },
   "outputs": [],
   "source": [
    "def extract_categorical_features(df):\n",
    "    global one_hot_cols, label_cols\n",
    "    vals = {}\n",
    "    for c in one_hot_cols + label_cols:\n",
    "        vals[c]  = extract_normalized_feature(df, c)\n",
    "    return vals"
   ]
  },
  {
   "cell_type": "code",
   "execution_count": 114,
   "metadata": {
    "collapsed": false,
    "deletable": true,
    "editable": true
   },
   "outputs": [],
   "source": [
    "#extract_continuous_features(final_train_df).shape # 51 + 3 (one hot columns) + 1 (label) = 55 (total dataframe columns excluding id)..."
   ]
  },
  {
   "cell_type": "code",
   "execution_count": 115,
   "metadata": {
    "collapsed": false,
    "deletable": true,
    "editable": true
   },
   "outputs": [
    {
     "data": {
      "text/plain": [
       "(30471, 46)"
      ]
     },
     "execution_count": 115,
     "metadata": {},
     "output_type": "execute_result"
    }
   ],
   "source": [
    "extract_locality_features(final_train_df).shape"
   ]
  },
  {
   "cell_type": "code",
   "execution_count": 116,
   "metadata": {
    "collapsed": false,
    "deletable": true,
    "editable": true
   },
   "outputs": [
    {
     "data": {
      "text/plain": [
       "{'big_market_raion': array([0, 0, 0, ..., 0, 0, 0]),\n",
       " 'detention_facility_raion': array([0, 0, 0, ..., 0, 0, 0]),\n",
       " 'full_all': array([78, 59, 89, ..., 18, 73, 54]),\n",
       " 'healthcare_centers_raion': array([1, 1, 1, ..., 0, 2, 2]),\n",
       " 'material': array([[ 1.,  0.,  0., ...,  0.,  0.,  0.],\n",
       "        [ 1.,  0.,  0., ...,  0.,  0.,  0.],\n",
       "        [ 1.,  0.,  0., ...,  0.,  0.,  0.],\n",
       "        ..., \n",
       "        [ 0.,  1.,  0., ...,  0.,  0.,  0.],\n",
       "        [ 0.,  1.,  0., ...,  0.,  0.,  0.],\n",
       "        [ 0.,  1.,  0., ...,  0.,  0.,  0.]]),\n",
       " 'nuclear_reactor_raion': array([0, 0, 0, ..., 0, 0, 0]),\n",
       " 'office_raion': array([1, 0, 1, ..., 0, 5, 1]),\n",
       " 'shopping_centers_raion': array([13,  3,  0, ...,  1,  4,  5]),\n",
       " 'state_refractored': array([[ 1.,  0.,  0.,  0.,  0.,  0.],\n",
       "        [ 1.,  0.,  0.,  0.,  0.,  0.],\n",
       "        [ 1.,  0.,  0.,  0.,  0.,  0.],\n",
       "        ..., \n",
       "        [ 0.,  1.,  0.,  0.,  0.,  0.],\n",
       "        [ 0.,  0.,  1.,  0.,  0.,  0.],\n",
       "        [ 0.,  0.,  1.,  0.,  0.,  0.]]),\n",
       " 'sub_area': array([  9,  70, 129, ..., 103,  77,  75]),\n",
       " 'thermal_power_plant_raion': array([0, 0, 0, ..., 0, 0, 0]),\n",
       " 'university_top_20_raion': array([0, 0, 0, ..., 0, 1, 0])}"
      ]
     },
     "execution_count": 116,
     "metadata": {},
     "output_type": "execute_result"
    }
   ],
   "source": [
    "extract_categorical_features(final_train_df)"
   ]
  },
  {
   "cell_type": "markdown",
   "metadata": {},
   "source": [
    "### Generate LSTM timestep input data"
   ]
  },
  {
   "cell_type": "code",
   "execution_count": 117,
   "metadata": {
    "collapsed": true
   },
   "outputs": [],
   "source": [
    "timesteps = 3"
   ]
  },
  {
   "cell_type": "code",
   "execution_count": 121,
   "metadata": {
    "collapsed": false
   },
   "outputs": [],
   "source": [
    "final_train_df['timestamp_converted'] = pd.to_datetime(final_train_df['timestamp_converted'])"
   ]
  },
  {
   "cell_type": "code",
   "execution_count": 127,
   "metadata": {
    "collapsed": true
   },
   "outputs": [
    {
     "name": "stderr",
     "output_type": "stream",
     "text": [
      "/usr/local/lib/python2.7/dist-packages/ipykernel/__main__.py:1: FutureWarning: sort(columns=....) is deprecated, use sort_values(by=.....)\n",
      "  if __name__ == '__main__':\n"
     ]
    },
    {
     "data": {
      "text/html": [
       "<div>\n",
       "<table border=\"1\" class=\"dataframe\">\n",
       "  <thead>\n",
       "    <tr style=\"text-align: right;\">\n",
       "      <th></th>\n",
       "      <th>timestamp_converted</th>\n",
       "      <th>price_doc</th>\n",
       "    </tr>\n",
       "  </thead>\n",
       "  <tbody>\n",
       "    <tr>\n",
       "      <th>0</th>\n",
       "      <td>2011-08-20</td>\n",
       "      <td>5850000</td>\n",
       "    </tr>\n",
       "    <tr>\n",
       "      <th>1</th>\n",
       "      <td>2011-08-23</td>\n",
       "      <td>6000000</td>\n",
       "    </tr>\n",
       "    <tr>\n",
       "      <th>2</th>\n",
       "      <td>2011-08-27</td>\n",
       "      <td>5700000</td>\n",
       "    </tr>\n",
       "    <tr>\n",
       "      <th>3</th>\n",
       "      <td>2011-09-01</td>\n",
       "      <td>13100000</td>\n",
       "    </tr>\n",
       "    <tr>\n",
       "      <th>4</th>\n",
       "      <td>2011-09-05</td>\n",
       "      <td>16331452</td>\n",
       "    </tr>\n",
       "    <tr>\n",
       "      <th>5</th>\n",
       "      <td>2011-09-06</td>\n",
       "      <td>9100000</td>\n",
       "    </tr>\n",
       "    <tr>\n",
       "      <th>6</th>\n",
       "      <td>2011-09-08</td>\n",
       "      <td>5500000</td>\n",
       "    </tr>\n",
       "    <tr>\n",
       "      <th>7</th>\n",
       "      <td>2011-09-09</td>\n",
       "      <td>2000000</td>\n",
       "    </tr>\n",
       "    <tr>\n",
       "      <th>8</th>\n",
       "      <td>2011-09-10</td>\n",
       "      <td>5300000</td>\n",
       "    </tr>\n",
       "    <tr>\n",
       "      <th>9</th>\n",
       "      <td>2011-09-13</td>\n",
       "      <td>2000000</td>\n",
       "    </tr>\n",
       "    <tr>\n",
       "      <th>10</th>\n",
       "      <td>2011-09-16</td>\n",
       "      <td>4650000</td>\n",
       "    </tr>\n",
       "    <tr>\n",
       "      <th>11</th>\n",
       "      <td>2011-09-16</td>\n",
       "      <td>4800000</td>\n",
       "    </tr>\n",
       "    <tr>\n",
       "      <th>12</th>\n",
       "      <td>2011-09-17</td>\n",
       "      <td>5100000</td>\n",
       "    </tr>\n",
       "    <tr>\n",
       "      <th>14</th>\n",
       "      <td>2011-09-19</td>\n",
       "      <td>5000000</td>\n",
       "    </tr>\n",
       "    <tr>\n",
       "      <th>13</th>\n",
       "      <td>2011-09-19</td>\n",
       "      <td>5200000</td>\n",
       "    </tr>\n",
       "    <tr>\n",
       "      <th>15</th>\n",
       "      <td>2011-09-20</td>\n",
       "      <td>1850000</td>\n",
       "    </tr>\n",
       "    <tr>\n",
       "      <th>16</th>\n",
       "      <td>2011-09-20</td>\n",
       "      <td>6300000</td>\n",
       "    </tr>\n",
       "    <tr>\n",
       "      <th>17</th>\n",
       "      <td>2011-09-20</td>\n",
       "      <td>5900000</td>\n",
       "    </tr>\n",
       "    <tr>\n",
       "      <th>18</th>\n",
       "      <td>2011-09-22</td>\n",
       "      <td>7900000</td>\n",
       "    </tr>\n",
       "    <tr>\n",
       "      <th>19</th>\n",
       "      <td>2011-09-22</td>\n",
       "      <td>5200000</td>\n",
       "    </tr>\n",
       "    <tr>\n",
       "      <th>20</th>\n",
       "      <td>2011-09-22</td>\n",
       "      <td>8200000</td>\n",
       "    </tr>\n",
       "    <tr>\n",
       "      <th>21</th>\n",
       "      <td>2011-09-22</td>\n",
       "      <td>5200000</td>\n",
       "    </tr>\n",
       "    <tr>\n",
       "      <th>22</th>\n",
       "      <td>2011-09-23</td>\n",
       "      <td>6250000</td>\n",
       "    </tr>\n",
       "    <tr>\n",
       "      <th>23</th>\n",
       "      <td>2011-09-23</td>\n",
       "      <td>5750000</td>\n",
       "    </tr>\n",
       "    <tr>\n",
       "      <th>24</th>\n",
       "      <td>2011-09-23</td>\n",
       "      <td>6000000</td>\n",
       "    </tr>\n",
       "    <tr>\n",
       "      <th>25</th>\n",
       "      <td>2011-09-24</td>\n",
       "      <td>1050000</td>\n",
       "    </tr>\n",
       "    <tr>\n",
       "      <th>28</th>\n",
       "      <td>2011-09-26</td>\n",
       "      <td>8254400</td>\n",
       "    </tr>\n",
       "    <tr>\n",
       "      <th>26</th>\n",
       "      <td>2011-09-26</td>\n",
       "      <td>5000000</td>\n",
       "    </tr>\n",
       "    <tr>\n",
       "      <th>27</th>\n",
       "      <td>2011-09-26</td>\n",
       "      <td>4700000</td>\n",
       "    </tr>\n",
       "    <tr>\n",
       "      <th>31</th>\n",
       "      <td>2011-09-27</td>\n",
       "      <td>18300000</td>\n",
       "    </tr>\n",
       "    <tr>\n",
       "      <th>...</th>\n",
       "      <td>...</td>\n",
       "      <td>...</td>\n",
       "    </tr>\n",
       "    <tr>\n",
       "      <th>30447</th>\n",
       "      <td>2015-06-27</td>\n",
       "      <td>6373324</td>\n",
       "    </tr>\n",
       "    <tr>\n",
       "      <th>30446</th>\n",
       "      <td>2015-06-27</td>\n",
       "      <td>6125400</td>\n",
       "    </tr>\n",
       "    <tr>\n",
       "      <th>30445</th>\n",
       "      <td>2015-06-27</td>\n",
       "      <td>10139368</td>\n",
       "    </tr>\n",
       "    <tr>\n",
       "      <th>30444</th>\n",
       "      <td>2015-06-27</td>\n",
       "      <td>11438948</td>\n",
       "    </tr>\n",
       "    <tr>\n",
       "      <th>30442</th>\n",
       "      <td>2015-06-27</td>\n",
       "      <td>4350000</td>\n",
       "    </tr>\n",
       "    <tr>\n",
       "      <th>30441</th>\n",
       "      <td>2015-06-27</td>\n",
       "      <td>25039300</td>\n",
       "    </tr>\n",
       "    <tr>\n",
       "      <th>30440</th>\n",
       "      <td>2015-06-27</td>\n",
       "      <td>10000000</td>\n",
       "    </tr>\n",
       "    <tr>\n",
       "      <th>30439</th>\n",
       "      <td>2015-06-27</td>\n",
       "      <td>8535937</td>\n",
       "    </tr>\n",
       "    <tr>\n",
       "      <th>30443</th>\n",
       "      <td>2015-06-27</td>\n",
       "      <td>7567425</td>\n",
       "    </tr>\n",
       "    <tr>\n",
       "      <th>30460</th>\n",
       "      <td>2015-06-29</td>\n",
       "      <td>9500000</td>\n",
       "    </tr>\n",
       "    <tr>\n",
       "      <th>30459</th>\n",
       "      <td>2015-06-29</td>\n",
       "      <td>5778893</td>\n",
       "    </tr>\n",
       "    <tr>\n",
       "      <th>30458</th>\n",
       "      <td>2015-06-29</td>\n",
       "      <td>6370777</td>\n",
       "    </tr>\n",
       "    <tr>\n",
       "      <th>30456</th>\n",
       "      <td>2015-06-29</td>\n",
       "      <td>1000000</td>\n",
       "    </tr>\n",
       "    <tr>\n",
       "      <th>30455</th>\n",
       "      <td>2015-06-29</td>\n",
       "      <td>9014972</td>\n",
       "    </tr>\n",
       "    <tr>\n",
       "      <th>30457</th>\n",
       "      <td>2015-06-29</td>\n",
       "      <td>7800000</td>\n",
       "    </tr>\n",
       "    <tr>\n",
       "      <th>30453</th>\n",
       "      <td>2015-06-29</td>\n",
       "      <td>4066740</td>\n",
       "    </tr>\n",
       "    <tr>\n",
       "      <th>30452</th>\n",
       "      <td>2015-06-29</td>\n",
       "      <td>6800000</td>\n",
       "    </tr>\n",
       "    <tr>\n",
       "      <th>30451</th>\n",
       "      <td>2015-06-29</td>\n",
       "      <td>2394300</td>\n",
       "    </tr>\n",
       "    <tr>\n",
       "      <th>30450</th>\n",
       "      <td>2015-06-29</td>\n",
       "      <td>12610000</td>\n",
       "    </tr>\n",
       "    <tr>\n",
       "      <th>30454</th>\n",
       "      <td>2015-06-29</td>\n",
       "      <td>6300000</td>\n",
       "    </tr>\n",
       "    <tr>\n",
       "      <th>30469</th>\n",
       "      <td>2015-06-30</td>\n",
       "      <td>13500000</td>\n",
       "    </tr>\n",
       "    <tr>\n",
       "      <th>30461</th>\n",
       "      <td>2015-06-30</td>\n",
       "      <td>5000000</td>\n",
       "    </tr>\n",
       "    <tr>\n",
       "      <th>30462</th>\n",
       "      <td>2015-06-30</td>\n",
       "      <td>10544070</td>\n",
       "    </tr>\n",
       "    <tr>\n",
       "      <th>30463</th>\n",
       "      <td>2015-06-30</td>\n",
       "      <td>12000000</td>\n",
       "    </tr>\n",
       "    <tr>\n",
       "      <th>30464</th>\n",
       "      <td>2015-06-30</td>\n",
       "      <td>10262010</td>\n",
       "    </tr>\n",
       "    <tr>\n",
       "      <th>30465</th>\n",
       "      <td>2015-06-30</td>\n",
       "      <td>6750554</td>\n",
       "    </tr>\n",
       "    <tr>\n",
       "      <th>30466</th>\n",
       "      <td>2015-06-30</td>\n",
       "      <td>7400000</td>\n",
       "    </tr>\n",
       "    <tr>\n",
       "      <th>30467</th>\n",
       "      <td>2015-06-30</td>\n",
       "      <td>25000000</td>\n",
       "    </tr>\n",
       "    <tr>\n",
       "      <th>30468</th>\n",
       "      <td>2015-06-30</td>\n",
       "      <td>6970959</td>\n",
       "    </tr>\n",
       "    <tr>\n",
       "      <th>30470</th>\n",
       "      <td>2015-06-30</td>\n",
       "      <td>5600000</td>\n",
       "    </tr>\n",
       "  </tbody>\n",
       "</table>\n",
       "<p>30471 rows × 2 columns</p>\n",
       "</div>"
      ],
      "text/plain": [
       "      timestamp_converted  price_doc\n",
       "0              2011-08-20    5850000\n",
       "1              2011-08-23    6000000\n",
       "2              2011-08-27    5700000\n",
       "3              2011-09-01   13100000\n",
       "4              2011-09-05   16331452\n",
       "5              2011-09-06    9100000\n",
       "6              2011-09-08    5500000\n",
       "7              2011-09-09    2000000\n",
       "8              2011-09-10    5300000\n",
       "9              2011-09-13    2000000\n",
       "10             2011-09-16    4650000\n",
       "11             2011-09-16    4800000\n",
       "12             2011-09-17    5100000\n",
       "14             2011-09-19    5000000\n",
       "13             2011-09-19    5200000\n",
       "15             2011-09-20    1850000\n",
       "16             2011-09-20    6300000\n",
       "17             2011-09-20    5900000\n",
       "18             2011-09-22    7900000\n",
       "19             2011-09-22    5200000\n",
       "20             2011-09-22    8200000\n",
       "21             2011-09-22    5200000\n",
       "22             2011-09-23    6250000\n",
       "23             2011-09-23    5750000\n",
       "24             2011-09-23    6000000\n",
       "25             2011-09-24    1050000\n",
       "28             2011-09-26    8254400\n",
       "26             2011-09-26    5000000\n",
       "27             2011-09-26    4700000\n",
       "31             2011-09-27   18300000\n",
       "...                   ...        ...\n",
       "30447          2015-06-27    6373324\n",
       "30446          2015-06-27    6125400\n",
       "30445          2015-06-27   10139368\n",
       "30444          2015-06-27   11438948\n",
       "30442          2015-06-27    4350000\n",
       "30441          2015-06-27   25039300\n",
       "30440          2015-06-27   10000000\n",
       "30439          2015-06-27    8535937\n",
       "30443          2015-06-27    7567425\n",
       "30460          2015-06-29    9500000\n",
       "30459          2015-06-29    5778893\n",
       "30458          2015-06-29    6370777\n",
       "30456          2015-06-29    1000000\n",
       "30455          2015-06-29    9014972\n",
       "30457          2015-06-29    7800000\n",
       "30453          2015-06-29    4066740\n",
       "30452          2015-06-29    6800000\n",
       "30451          2015-06-29    2394300\n",
       "30450          2015-06-29   12610000\n",
       "30454          2015-06-29    6300000\n",
       "30469          2015-06-30   13500000\n",
       "30461          2015-06-30    5000000\n",
       "30462          2015-06-30   10544070\n",
       "30463          2015-06-30   12000000\n",
       "30464          2015-06-30   10262010\n",
       "30465          2015-06-30    6750554\n",
       "30466          2015-06-30    7400000\n",
       "30467          2015-06-30   25000000\n",
       "30468          2015-06-30    6970959\n",
       "30470          2015-06-30    5600000\n",
       "\n",
       "[30471 rows x 2 columns]"
      ]
     },
     "execution_count": 127,
     "metadata": {},
     "output_type": "execute_result"
    }
   ],
   "source": [
    "final_train_df.sort('timestamp_converted')[['timestamp_converted', 'price_doc']]"
   ]
  },
  {
   "cell_type": "code",
   "execution_count": null,
   "metadata": {
    "collapsed": true
   },
   "outputs": [],
   "source": []
  },
  {
   "cell_type": "code",
   "execution_count": null,
   "metadata": {
    "collapsed": true
   },
   "outputs": [],
   "source": []
  },
  {
   "cell_type": "code",
   "execution_count": null,
   "metadata": {
    "collapsed": true
   },
   "outputs": [],
   "source": []
  },
  {
   "cell_type": "code",
   "execution_count": 128,
   "metadata": {
    "collapsed": true,
    "deletable": true,
    "editable": true
   },
   "outputs": [],
   "source": [
    "def train_validate_test_split(df, train_percent=.6, validate_percent=.2):\n",
    "    perm = np.random.permutation(df.index)\n",
    "    m = len(df)\n",
    "    train_end = int(train_percent * m)\n",
    "    validate_end = int(validate_percent * m) + train_end\n",
    "    train = df.ix[perm[:train_end]]\n",
    "    validate = df.ix[perm[train_end:validate_end]]\n",
    "    test = df.ix[perm[validate_end:]]\n",
    "    return train, validate, test"
   ]
  },
  {
   "cell_type": "code",
   "execution_count": 129,
   "metadata": {
    "collapsed": true,
    "deletable": true,
    "editable": true
   },
   "outputs": [],
   "source": [
    "train_split_df, test_split_df = train_test_split(final_train_df, test_size = 0.1)"
   ]
  },
  {
   "cell_type": "code",
   "execution_count": 130,
   "metadata": {
    "collapsed": true,
    "deletable": true,
    "editable": true
   },
   "outputs": [],
   "source": [
    "train_split_df_temporal_features = extract_temporal_features(train_split_df)\n",
    "test_split_df_temporal_features = extract_temporal_features(test_split_df)"
   ]
  },
  {
   "cell_type": "code",
   "execution_count": 131,
   "metadata": {
    "collapsed": false,
    "deletable": true,
    "editable": true
   },
   "outputs": [],
   "source": [
    "train_split_df_property_features = extract_property_place_features(train_split_df)\n",
    "test_split_df_property_features = extract_property_place_features(test_split_df)"
   ]
  },
  {
   "cell_type": "code",
   "execution_count": 132,
   "metadata": {
    "collapsed": false,
    "deletable": true,
    "editable": true
   },
   "outputs": [],
   "source": [
    "train_split_df_locality_features = extract_locality_features(train_split_df)\n",
    "test_split_df_locality_features = extract_locality_features(test_split_df)"
   ]
  },
  {
   "cell_type": "code",
   "execution_count": 133,
   "metadata": {
    "collapsed": true,
    "deletable": true,
    "editable": true
   },
   "outputs": [],
   "source": [
    "train_split_df_economy_features = extract_economy_features(train_split_df)\n",
    "test_split_df_economy_features = extract_economy_features(test_split_df)"
   ]
  },
  {
   "cell_type": "code",
   "execution_count": 134,
   "metadata": {
    "collapsed": true,
    "deletable": true,
    "editable": true
   },
   "outputs": [],
   "source": [
    "train_split_df_population_features = extract_population_features(train_split_df)\n",
    "test_split_df_population_features = extract_population_features(test_split_df)"
   ]
  },
  {
   "cell_type": "code",
   "execution_count": 135,
   "metadata": {
    "collapsed": false,
    "deletable": true,
    "editable": true
   },
   "outputs": [],
   "source": [
    "train_split_df_categorical_features = extract_categorical_features(train_split_df)\n",
    "test_split_df_categorical_features = extract_categorical_features(test_split_df)"
   ]
  },
  {
   "cell_type": "code",
   "execution_count": 136,
   "metadata": {
    "collapsed": true,
    "deletable": true,
    "editable": true
   },
   "outputs": [],
   "source": [
    "def format_input(df):\n",
    "    temporal_features = extract_temporal_features(df)\n",
    "    property_features = extract_property_place_features(df)\n",
    "    locality_features = extract_locality_features(df)\n",
    "    economy_features = extract_economy_features(df)\n",
    "    population_features = extract_population_features(df)\n",
    "    categorical_features = extract_categorical_features(df)\n",
    "    return temporal_features, property_features, locality_features, economy_features, population_features, categorical_features"
   ]
  },
  {
   "cell_type": "markdown",
   "metadata": {
    "deletable": true,
    "editable": true
   },
   "source": [
    "## Model"
   ]
  },
  {
   "cell_type": "code",
   "execution_count": 152,
   "metadata": {
    "collapsed": false,
    "deletable": true,
    "editable": true
   },
   "outputs": [],
   "source": [
    "\"\"\"\n",
    "The main model, version: 1.4\n",
    "\"\"\" \n",
    "def main_model_v1_4(cat_num_classes={}, output_activation='relu'):\n",
    "    \n",
    "    with tf.name_scope(\"house_price_model\"):\n",
    "    \n",
    "        # Constants\n",
    "        num_locality_features = len(locality_columns)\n",
    "        num_economy_features = len(economy_columns)\n",
    "        num_population_features = len(population_columns)\n",
    "        num_property_features = len(property_columns)\n",
    "        num_temporal_features = len(time_columns)\n",
    "        num_material_classes = cat_num_classes[\"material\"]\n",
    "        num_state_classes = cat_num_classes['state']\n",
    "        \n",
    "        # Inputs\n",
    "        with tf.name_scope(\"inputs\"):\n",
    "            ## Continuous\n",
    "            time_input = Input(shape=(num_temporal_features,), name=\"temporal_input\")\n",
    "            property_input = Input(shape=(num_property_features,), name='property_input')\n",
    "            locality_input = Input(shape=(num_locality_features,), name='locality_input')\n",
    "            economy_input = Input(shape=(num_economy_features,), name=\"economy_input\")\n",
    "            population_input = Input(shape=(num_population_features,), name=\"population_input\")\n",
    "            ## Categorical (one-hot encoding; not using embeddings cuz number of classes is very small, but maybe should try later???)\n",
    "            material_input = Input(shape=(num_material_classes,), name='material_input')\n",
    "            state_input = Input(shape=(num_state_classes,), name='state_input')\n",
    "            ## Categorical (labelled)\n",
    "            sub_area_input = Input(shape=(1,), dtype='int32', name='sub_area_input')\n",
    "            sub_area_vocab_size = 200 # It's actually 146, but rounding it to 200\n",
    "            sub_area_embedding_dim = 8\n",
    "            \n",
    "        with tf.name_scope(\"sub_area_embedding\"):\n",
    "            # Network\n",
    "            ## Embedding\n",
    "            sub_area_vector = Embedding(output_dim=sub_area_embedding_dim, input_dim=sub_area_vocab_size, input_length=1, name=\"sub_area_embedding\")(sub_area_input)\n",
    "            sub_area_vector = TimeDistributed(Dense(128, activation='relu'))(sub_area_vector)\n",
    "            sub_area_vector = Reshape((128,))(sub_area_vector)\n",
    "            \n",
    "        with tf.name_scope(\"temporal_network\"):\n",
    "            temporal_model = Sequential()\n",
    "            temporal_model.add(Dense(128, activation='relu', input_dim=num_temporal_features))\n",
    "            time_vector = temporal_model(time_input)\n",
    "           # time_output = Dense(1, activation='relu', name=\"time_output\")(time_vector)\n",
    "            \n",
    "        with tf.name_scope(\"property_network\"):\n",
    "            ## Map continuous input features into network\n",
    "            property_model = Sequential()\n",
    "            property_model.add(Dense(128, activation='relu', input_dim=num_property_features))\n",
    "            property_vector = property_model(property_input)\n",
    "           # property_output = Dense(1, activation='relu', name=\"property_output\")(property_vector)\n",
    "            \n",
    "        with tf.name_scope(\"locality_network\"):\n",
    "            ## Map locality based input features into network via submodel\n",
    "            locality_model = Sequential()\n",
    "            locality_model.add(Dense(128, activation='relu', input_dim=num_locality_features))\n",
    "            locality_vector = locality_model(locality_input)\n",
    "           # locality_output = Dense(1, activation='relu', name=\"locality_output\")(locality_vector)\n",
    "            \n",
    "        with tf.name_scope(\"economy_network\"):\n",
    "            ## Map continuous input features into network\n",
    "            economy_model = Sequential()\n",
    "            economy_model.add(Dense(256, activation='relu', input_dim=num_economy_features))\n",
    "            economy_model.add(Dropout(0.1))\n",
    "            economy_model.add(Dense(128, activation='relu'))\n",
    "            economy_vector = economy_model(economy_input)\n",
    "           # economy_output = Dense(1, activation='relu', name=\"economy_output\")(economy_vector)\n",
    "            \n",
    "        with tf.name_scope(\"population_network\"):\n",
    "            ## Map continuous input features into network\n",
    "            population_model = Sequential()\n",
    "            population_model.add(Dense(128, activation='relu', input_dim=num_population_features))\n",
    "            population_vector = population_model(population_input)\n",
    "           # population_output = Dense(1, activation='relu', name=\"population_output\")(population_vector)\n",
    "            \n",
    "        with tf.name_scope(\"material_network\"):\n",
    "            ## Map material input feature into network\n",
    "            material_vector = Dense(128, activation='relu')(material_input)\n",
    "            \n",
    "        with tf.name_scope(\"state_network\"): \n",
    "            ## Map state input feature into network\n",
    "            state_vector = Dense(128, activation='relu')(state_input)\n",
    "            \n",
    "        with tf.name_scope(\"merge_layer\"):\n",
    "            ## Concatenate all suboutput vectors into one big vector\n",
    "            merged_output_vector = Concatenate()([time_vector, property_vector, locality_vector, economy_vector, population_vector, material_vector, state_vector, sub_area_vector])\n",
    "            merged_output_vector = BatchNormalization()(merged_output_vector) # Batch normalize this combined pre-output vector\n",
    "\n",
    "        with tf.name_scope(\"fully_connected\"):\n",
    "            ## Some final hidden layers\n",
    "            merged_output_vector = Dense(256, activation='relu')(merged_output_vector)\n",
    "            merged_output_vector = Dropout(0.2)(merged_output_vector)\n",
    "            merged_output_vector = Dense(128, activation='relu')(merged_output_vector)\n",
    "    \n",
    "        main_output = Dense(1, activation=output_activation, name=\"main_output\")(merged_output_vector)\n",
    "        \n",
    "        return [time_input, property_input, locality_input, economy_input, population_input, material_input, state_input, sub_area_input], main_output"
   ]
  },
  {
   "cell_type": "code",
   "execution_count": 153,
   "metadata": {
    "collapsed": false,
    "deletable": true,
    "editable": true
   },
   "outputs": [],
   "source": [
    "num_classes_material = train_split_df_categorical_features['material'].shape[1]\n",
    "num_classes_state = train_split_df_categorical_features['state_refractored'].shape[1]\n",
    "\n",
    "inputs, outputs = main_model_v1_4({\"material\" : num_classes_material, \"state\" : num_classes_state})\n",
    "\n",
    "real_estate_price_model = Model(inputs=inputs, outputs=outputs)"
   ]
  },
  {
   "cell_type": "code",
   "execution_count": 154,
   "metadata": {
    "collapsed": false,
    "deletable": true,
    "editable": true,
    "scrolled": false
   },
   "outputs": [
    {
     "data": {
      "image/svg+xml": [
       "<svg height=\"712pt\" viewBox=\"0.00 0.00 2015.00 712.00\" width=\"2015pt\" xmlns=\"http://www.w3.org/2000/svg\" xmlns:xlink=\"http://www.w3.org/1999/xlink\">\n",
       "<g class=\"graph\" id=\"graph0\" transform=\"scale(1 1) rotate(0) translate(4 708)\">\n",
       "<title>G</title>\n",
       "<polygon fill=\"white\" points=\"-4,4 -4,-708 2011,-708 2011,4 -4,4\" stroke=\"none\"/>\n",
       "<!-- 140668148398096 -->\n",
       "<g class=\"node\" id=\"node1\"><title>140668148398096</title>\n",
       "<polygon fill=\"none\" points=\"97.5,-667 97.5,-703 312.5,-703 312.5,-667 97.5,-667\" stroke=\"black\"/>\n",
       "<text font-family=\"Times,serif\" font-size=\"14.00\" text-anchor=\"middle\" x=\"205\" y=\"-681.3\">sub_area_input: InputLayer</text>\n",
       "</g>\n",
       "<!-- 140668293749328 -->\n",
       "<g class=\"node\" id=\"node2\"><title>140668293749328</title>\n",
       "<polygon fill=\"none\" points=\"75.5,-593 75.5,-629 334.5,-629 334.5,-593 75.5,-593\" stroke=\"black\"/>\n",
       "<text font-family=\"Times,serif\" font-size=\"14.00\" text-anchor=\"middle\" x=\"205\" y=\"-607.3\">sub_area_embedding: Embedding</text>\n",
       "</g>\n",
       "<!-- 140668148398096&#45;&gt;140668293749328 -->\n",
       "<g class=\"edge\" id=\"edge1\"><title>140668148398096-&gt;140668293749328</title>\n",
       "<path d=\"M205,-666.937C205,-658.807 205,-648.876 205,-639.705\" fill=\"none\" stroke=\"black\"/>\n",
       "<polygon fill=\"black\" points=\"208.5,-639.441 205,-629.441 201.5,-639.441 208.5,-639.441\" stroke=\"black\"/>\n",
       "</g>\n",
       "<!-- 140668303937040 -->\n",
       "<g class=\"node\" id=\"node10\"><title>140668303937040</title>\n",
       "<polygon fill=\"none\" points=\"-0.5,-519 -0.5,-555 410.5,-555 410.5,-519 -0.5,-519\" stroke=\"black\"/>\n",
       "<text font-family=\"Times,serif\" font-size=\"14.00\" text-anchor=\"middle\" x=\"205\" y=\"-533.3\">time_distributed_3(dense_29): TimeDistributed(Dense)</text>\n",
       "</g>\n",
       "<!-- 140668293749328&#45;&gt;140668303937040 -->\n",
       "<g class=\"edge\" id=\"edge2\"><title>140668293749328-&gt;140668303937040</title>\n",
       "<path d=\"M205,-592.937C205,-584.807 205,-574.876 205,-565.705\" fill=\"none\" stroke=\"black\"/>\n",
       "<polygon fill=\"black\" points=\"208.5,-565.441 205,-555.441 201.5,-565.441 208.5,-565.441\" stroke=\"black\"/>\n",
       "</g>\n",
       "<!-- 140668293750544 -->\n",
       "<g class=\"node\" id=\"node3\"><title>140668293750544</title>\n",
       "<polygon fill=\"none\" points=\"428.5,-519 428.5,-555 643.5,-555 643.5,-519 428.5,-519\" stroke=\"black\"/>\n",
       "<text font-family=\"Times,serif\" font-size=\"14.00\" text-anchor=\"middle\" x=\"536\" y=\"-533.3\">temporal_input: InputLayer</text>\n",
       "</g>\n",
       "<!-- 140668293750160 -->\n",
       "<g class=\"node\" id=\"node11\"><title>140668293750160</title>\n",
       "<polygon fill=\"none\" points=\"441.5,-445 441.5,-481 642.5,-481 642.5,-445 441.5,-445\" stroke=\"black\"/>\n",
       "<text font-family=\"Times,serif\" font-size=\"14.00\" text-anchor=\"middle\" x=\"542\" y=\"-459.3\">sequential_11: Sequential</text>\n",
       "</g>\n",
       "<!-- 140668293750544&#45;&gt;140668293750160 -->\n",
       "<g class=\"edge\" id=\"edge3\"><title>140668293750544-&gt;140668293750160</title>\n",
       "<path d=\"M537.422,-518.937C538.099,-510.807 538.927,-500.876 539.691,-491.705\" fill=\"none\" stroke=\"black\"/>\n",
       "<polygon fill=\"black\" points=\"543.204,-491.697 540.547,-481.441 536.228,-491.115 543.204,-491.697\" stroke=\"black\"/>\n",
       "</g>\n",
       "<!-- 140668293749456 -->\n",
       "<g class=\"node\" id=\"node4\"><title>140668293749456</title>\n",
       "<polygon fill=\"none\" points=\"661.5,-519 661.5,-555 874.5,-555 874.5,-519 661.5,-519\" stroke=\"black\"/>\n",
       "<text font-family=\"Times,serif\" font-size=\"14.00\" text-anchor=\"middle\" x=\"768\" y=\"-533.3\">property_input: InputLayer</text>\n",
       "</g>\n",
       "<!-- 140668045717264 -->\n",
       "<g class=\"node\" id=\"node12\"><title>140668045717264</title>\n",
       "<polygon fill=\"none\" points=\"670.5,-445 670.5,-481 871.5,-481 871.5,-445 670.5,-445\" stroke=\"black\"/>\n",
       "<text font-family=\"Times,serif\" font-size=\"14.00\" text-anchor=\"middle\" x=\"771\" y=\"-459.3\">sequential_12: Sequential</text>\n",
       "</g>\n",
       "<!-- 140668293749456&#45;&gt;140668045717264 -->\n",
       "<g class=\"edge\" id=\"edge4\"><title>140668293749456-&gt;140668045717264</title>\n",
       "<path d=\"M768.711,-518.937C769.05,-510.807 769.463,-500.876 769.846,-491.705\" fill=\"none\" stroke=\"black\"/>\n",
       "<polygon fill=\"black\" points=\"773.354,-491.578 770.273,-481.441 766.36,-491.286 773.354,-491.578\" stroke=\"black\"/>\n",
       "</g>\n",
       "<!-- 140668074877072 -->\n",
       "<g class=\"node\" id=\"node5\"><title>140668074877072</title>\n",
       "<polygon fill=\"none\" points=\"892.5,-519 892.5,-555 1095.5,-555 1095.5,-519 892.5,-519\" stroke=\"black\"/>\n",
       "<text font-family=\"Times,serif\" font-size=\"14.00\" text-anchor=\"middle\" x=\"994\" y=\"-533.3\">locality_input: InputLayer</text>\n",
       "</g>\n",
       "<!-- 140668293749968 -->\n",
       "<g class=\"node\" id=\"node13\"><title>140668293749968</title>\n",
       "<polygon fill=\"none\" points=\"895.5,-445 895.5,-481 1096.5,-481 1096.5,-445 895.5,-445\" stroke=\"black\"/>\n",
       "<text font-family=\"Times,serif\" font-size=\"14.00\" text-anchor=\"middle\" x=\"996\" y=\"-459.3\">sequential_13: Sequential</text>\n",
       "</g>\n",
       "<!-- 140668074877072&#45;&gt;140668293749968 -->\n",
       "<g class=\"edge\" id=\"edge5\"><title>140668074877072-&gt;140668293749968</title>\n",
       "<path d=\"M994.474,-518.937C994.7,-510.807 994.976,-500.876 995.23,-491.705\" fill=\"none\" stroke=\"black\"/>\n",
       "<polygon fill=\"black\" points=\"998.736,-491.534 995.516,-481.441 991.739,-491.34 998.736,-491.534\" stroke=\"black\"/>\n",
       "</g>\n",
       "<!-- 140668293750416 -->\n",
       "<g class=\"node\" id=\"node6\"><title>140668293750416</title>\n",
       "<polygon fill=\"none\" points=\"1113.5,-519 1113.5,-555 1328.5,-555 1328.5,-519 1113.5,-519\" stroke=\"black\"/>\n",
       "<text font-family=\"Times,serif\" font-size=\"14.00\" text-anchor=\"middle\" x=\"1221\" y=\"-533.3\">economy_input: InputLayer</text>\n",
       "</g>\n",
       "<!-- 140667489221392 -->\n",
       "<g class=\"node\" id=\"node14\"><title>140667489221392</title>\n",
       "<polygon fill=\"none\" points=\"1118.5,-445 1118.5,-481 1319.5,-481 1319.5,-445 1118.5,-445\" stroke=\"black\"/>\n",
       "<text font-family=\"Times,serif\" font-size=\"14.00\" text-anchor=\"middle\" x=\"1219\" y=\"-459.3\">sequential_14: Sequential</text>\n",
       "</g>\n",
       "<!-- 140668293750416&#45;&gt;140667489221392 -->\n",
       "<g class=\"edge\" id=\"edge6\"><title>140668293750416-&gt;140667489221392</title>\n",
       "<path d=\"M1220.53,-518.937C1220.3,-510.807 1220.02,-500.876 1219.77,-491.705\" fill=\"none\" stroke=\"black\"/>\n",
       "<polygon fill=\"black\" points=\"1223.26,-491.34 1219.48,-481.441 1216.26,-491.534 1223.26,-491.34\" stroke=\"black\"/>\n",
       "</g>\n",
       "<!-- 140668303511824 -->\n",
       "<g class=\"node\" id=\"node7\"><title>140668303511824</title>\n",
       "<polygon fill=\"none\" points=\"1346.5,-519 1346.5,-555 1573.5,-555 1573.5,-519 1346.5,-519\" stroke=\"black\"/>\n",
       "<text font-family=\"Times,serif\" font-size=\"14.00\" text-anchor=\"middle\" x=\"1460\" y=\"-533.3\">population_input: InputLayer</text>\n",
       "</g>\n",
       "<!-- 140667912724112 -->\n",
       "<g class=\"node\" id=\"node15\"><title>140667912724112</title>\n",
       "<polygon fill=\"none\" points=\"1351.5,-445 1351.5,-481 1552.5,-481 1552.5,-445 1351.5,-445\" stroke=\"black\"/>\n",
       "<text font-family=\"Times,serif\" font-size=\"14.00\" text-anchor=\"middle\" x=\"1452\" y=\"-459.3\">sequential_15: Sequential</text>\n",
       "</g>\n",
       "<!-- 140668303511824&#45;&gt;140667912724112 -->\n",
       "<g class=\"edge\" id=\"edge7\"><title>140668303511824-&gt;140667912724112</title>\n",
       "<path d=\"M1458.1,-518.937C1457.19,-510.719 1456.07,-500.66 1455.05,-491.406\" fill=\"none\" stroke=\"black\"/>\n",
       "<polygon fill=\"black\" points=\"1458.52,-490.993 1453.94,-481.441 1451.56,-491.766 1458.52,-490.993\" stroke=\"black\"/>\n",
       "</g>\n",
       "<!-- 140668303511760 -->\n",
       "<g class=\"node\" id=\"node8\"><title>140668303511760</title>\n",
       "<polygon fill=\"none\" points=\"1591.5,-519 1591.5,-555 1802.5,-555 1802.5,-519 1591.5,-519\" stroke=\"black\"/>\n",
       "<text font-family=\"Times,serif\" font-size=\"14.00\" text-anchor=\"middle\" x=\"1697\" y=\"-533.3\">material_input: InputLayer</text>\n",
       "</g>\n",
       "<!-- 140668032044880 -->\n",
       "<g class=\"node\" id=\"node16\"><title>140668032044880</title>\n",
       "<polygon fill=\"none\" points=\"1605.5,-445 1605.5,-481 1742.5,-481 1742.5,-445 1605.5,-445\" stroke=\"black\"/>\n",
       "<text font-family=\"Times,serif\" font-size=\"14.00\" text-anchor=\"middle\" x=\"1674\" y=\"-459.3\">dense_36: Dense</text>\n",
       "</g>\n",
       "<!-- 140668303511760&#45;&gt;140668032044880 -->\n",
       "<g class=\"edge\" id=\"edge8\"><title>140668303511760-&gt;140668032044880</title>\n",
       "<path d=\"M1691.55,-518.937C1688.9,-510.63 1685.64,-500.444 1682.66,-491.108\" fill=\"none\" stroke=\"black\"/>\n",
       "<polygon fill=\"black\" points=\"1685.95,-489.901 1679.57,-481.441 1679.28,-492.032 1685.95,-489.901\" stroke=\"black\"/>\n",
       "</g>\n",
       "<!-- 140668303512848 -->\n",
       "<g class=\"node\" id=\"node9\"><title>140668303512848</title>\n",
       "<polygon fill=\"none\" points=\"1820.5,-519 1820.5,-555 2007.5,-555 2007.5,-519 1820.5,-519\" stroke=\"black\"/>\n",
       "<text font-family=\"Times,serif\" font-size=\"14.00\" text-anchor=\"middle\" x=\"1914\" y=\"-533.3\">state_input: InputLayer</text>\n",
       "</g>\n",
       "<!-- 140667489938832 -->\n",
       "<g class=\"node\" id=\"node17\"><title>140667489938832</title>\n",
       "<polygon fill=\"none\" points=\"1830.5,-445 1830.5,-481 1967.5,-481 1967.5,-445 1830.5,-445\" stroke=\"black\"/>\n",
       "<text font-family=\"Times,serif\" font-size=\"14.00\" text-anchor=\"middle\" x=\"1899\" y=\"-459.3\">dense_37: Dense</text>\n",
       "</g>\n",
       "<!-- 140668303512848&#45;&gt;140667489938832 -->\n",
       "<g class=\"edge\" id=\"edge9\"><title>140668303512848-&gt;140667489938832</title>\n",
       "<path d=\"M1910.45,-518.937C1908.73,-510.719 1906.64,-500.66 1904.71,-491.406\" fill=\"none\" stroke=\"black\"/>\n",
       "<polygon fill=\"black\" points=\"1908.1,-490.517 1902.63,-481.441 1901.25,-491.944 1908.1,-490.517\" stroke=\"black\"/>\n",
       "</g>\n",
       "<!-- 140668045806992 -->\n",
       "<g class=\"node\" id=\"node18\"><title>140668045806992</title>\n",
       "<polygon fill=\"none\" points=\"197,-445 197,-481 357,-481 357,-445 197,-445\" stroke=\"black\"/>\n",
       "<text font-family=\"Times,serif\" font-size=\"14.00\" text-anchor=\"middle\" x=\"277\" y=\"-459.3\">reshape_3: Reshape</text>\n",
       "</g>\n",
       "<!-- 140668303937040&#45;&gt;140668045806992 -->\n",
       "<g class=\"edge\" id=\"edge10\"><title>140668303937040-&gt;140668045806992</title>\n",
       "<path d=\"M222.063,-518.937C231.076,-509.924 242.304,-498.696 252.256,-488.744\" fill=\"none\" stroke=\"black\"/>\n",
       "<polygon fill=\"black\" points=\"254.963,-490.987 259.559,-481.441 250.013,-486.037 254.963,-490.987\" stroke=\"black\"/>\n",
       "</g>\n",
       "<!-- 140668184262544 -->\n",
       "<g class=\"node\" id=\"node19\"><title>140668184262544</title>\n",
       "<polygon fill=\"none\" points=\"996.5,-371 996.5,-407 1217.5,-407 1217.5,-371 996.5,-371\" stroke=\"black\"/>\n",
       "<text font-family=\"Times,serif\" font-size=\"14.00\" text-anchor=\"middle\" x=\"1107\" y=\"-385.3\">concatenate_3: Concatenate</text>\n",
       "</g>\n",
       "<!-- 140668293750160&#45;&gt;140668184262544 -->\n",
       "<g class=\"edge\" id=\"edge11\"><title>140668293750160-&gt;140668184262544</title>\n",
       "<path d=\"M642.602,-446.569C648.825,-445.681 654.996,-444.817 661,-444 771.06,-429.017 896.689,-413.993 986.506,-403.61\" fill=\"none\" stroke=\"black\"/>\n",
       "<polygon fill=\"black\" points=\"986.92,-407.085 996.453,-402.462 986.118,-400.132 986.92,-407.085\" stroke=\"black\"/>\n",
       "</g>\n",
       "<!-- 140668045717264&#45;&gt;140668184262544 -->\n",
       "<g class=\"edge\" id=\"edge12\"><title>140668045717264-&gt;140668184262544</title>\n",
       "<path d=\"M850.627,-444.937C900.854,-434.174 965.814,-420.254 1017.78,-409.119\" fill=\"none\" stroke=\"black\"/>\n",
       "<polygon fill=\"black\" points=\"1018.61,-412.52 1027.65,-407.003 1017.14,-405.676 1018.61,-412.52\" stroke=\"black\"/>\n",
       "</g>\n",
       "<!-- 140668293749968&#45;&gt;140668184262544 -->\n",
       "<g class=\"edge\" id=\"edge13\"><title>140668293749968-&gt;140668184262544</title>\n",
       "<path d=\"M1022.31,-444.937C1037.13,-435.323 1055.83,-423.19 1071.89,-412.774\" fill=\"none\" stroke=\"black\"/>\n",
       "<polygon fill=\"black\" points=\"1074.01,-415.568 1080.5,-407.19 1070.2,-409.696 1074.01,-415.568\" stroke=\"black\"/>\n",
       "</g>\n",
       "<!-- 140667489221392&#45;&gt;140668184262544 -->\n",
       "<g class=\"edge\" id=\"edge14\"><title>140667489221392-&gt;140668184262544</title>\n",
       "<path d=\"M1192.46,-444.937C1177.5,-435.323 1158.63,-423.19 1142.43,-412.774\" fill=\"none\" stroke=\"black\"/>\n",
       "<polygon fill=\"black\" points=\"1144.04,-409.654 1133.74,-407.19 1140.26,-415.542 1144.04,-409.654\" stroke=\"black\"/>\n",
       "</g>\n",
       "<!-- 140667912724112&#45;&gt;140668184262544 -->\n",
       "<g class=\"edge\" id=\"edge15\"><title>140667912724112-&gt;140668184262544</title>\n",
       "<path d=\"M1370.24,-444.937C1318.56,-434.152 1251.69,-420.196 1198.28,-409.05\" fill=\"none\" stroke=\"black\"/>\n",
       "<polygon fill=\"black\" points=\"1198.98,-405.62 1188.47,-407.003 1197.55,-412.472 1198.98,-405.62\" stroke=\"black\"/>\n",
       "</g>\n",
       "<!-- 140668032044880&#45;&gt;140668184262544 -->\n",
       "<g class=\"edge\" id=\"edge16\"><title>140668032044880-&gt;140668184262544</title>\n",
       "<path d=\"M1605.34,-450.618C1590.72,-448.319 1575.36,-445.997 1561,-444 1448.28,-428.325 1319.42,-413.27 1227.85,-403.057\" fill=\"none\" stroke=\"black\"/>\n",
       "<polygon fill=\"black\" points=\"1228.03,-399.556 1217.71,-401.929 1227.26,-406.513 1228.03,-399.556\" stroke=\"black\"/>\n",
       "</g>\n",
       "<!-- 140667489938832&#45;&gt;140668184262544 -->\n",
       "<g class=\"edge\" id=\"edge17\"><title>140667489938832-&gt;140668184262544</title>\n",
       "<path d=\"M1830.16,-453.086C1805.25,-450.003 1776.88,-446.658 1751,-444 1568.98,-425.307 1357.52,-408.516 1227.99,-398.79\" fill=\"none\" stroke=\"black\"/>\n",
       "<polygon fill=\"black\" points=\"1227.89,-395.272 1217.65,-398.015 1227.36,-402.252 1227.89,-395.272\" stroke=\"black\"/>\n",
       "</g>\n",
       "<!-- 140668045806992&#45;&gt;140668184262544 -->\n",
       "<g class=\"edge\" id=\"edge18\"><title>140668045806992-&gt;140668184262544</title>\n",
       "<path d=\"M357.389,-452.111C381.374,-449.31 407.735,-446.379 432,-444 625.566,-425.024 850.855,-408.022 986.023,-398.368\" fill=\"none\" stroke=\"black\"/>\n",
       "<polygon fill=\"black\" points=\"986.676,-401.83 996.402,-397.628 986.178,-394.848 986.676,-401.83\" stroke=\"black\"/>\n",
       "</g>\n",
       "<!-- 140668045192144 -->\n",
       "<g class=\"node\" id=\"node20\"><title>140668045192144</title>\n",
       "<polygon fill=\"none\" points=\"941,-297 941,-333 1273,-333 1273,-297 941,-297\" stroke=\"black\"/>\n",
       "<text font-family=\"Times,serif\" font-size=\"14.00\" text-anchor=\"middle\" x=\"1107\" y=\"-311.3\">batch_normalization_3: BatchNormalization</text>\n",
       "</g>\n",
       "<!-- 140668184262544&#45;&gt;140668045192144 -->\n",
       "<g class=\"edge\" id=\"edge19\"><title>140668184262544-&gt;140668045192144</title>\n",
       "<path d=\"M1107,-370.937C1107,-362.807 1107,-352.876 1107,-343.705\" fill=\"none\" stroke=\"black\"/>\n",
       "<polygon fill=\"black\" points=\"1110.5,-343.441 1107,-333.441 1103.5,-343.441 1110.5,-343.441\" stroke=\"black\"/>\n",
       "</g>\n",
       "<!-- 140668184622160 -->\n",
       "<g class=\"node\" id=\"node21\"><title>140668184622160</title>\n",
       "<polygon fill=\"none\" points=\"1038.5,-223 1038.5,-259 1175.5,-259 1175.5,-223 1038.5,-223\" stroke=\"black\"/>\n",
       "<text font-family=\"Times,serif\" font-size=\"14.00\" text-anchor=\"middle\" x=\"1107\" y=\"-237.3\">dense_38: Dense</text>\n",
       "</g>\n",
       "<!-- 140668045192144&#45;&gt;140668184622160 -->\n",
       "<g class=\"edge\" id=\"edge20\"><title>140668045192144-&gt;140668184622160</title>\n",
       "<path d=\"M1107,-296.937C1107,-288.807 1107,-278.876 1107,-269.705\" fill=\"none\" stroke=\"black\"/>\n",
       "<polygon fill=\"black\" points=\"1110.5,-269.441 1107,-259.441 1103.5,-269.441 1110.5,-269.441\" stroke=\"black\"/>\n",
       "</g>\n",
       "<!-- 140667487640912 -->\n",
       "<g class=\"node\" id=\"node22\"><title>140667487640912</title>\n",
       "<polygon fill=\"none\" points=\"1024,-149 1024,-185 1190,-185 1190,-149 1024,-149\" stroke=\"black\"/>\n",
       "<text font-family=\"Times,serif\" font-size=\"14.00\" text-anchor=\"middle\" x=\"1107\" y=\"-163.3\">dropout_12: Dropout</text>\n",
       "</g>\n",
       "<!-- 140668184622160&#45;&gt;140667487640912 -->\n",
       "<g class=\"edge\" id=\"edge21\"><title>140668184622160-&gt;140667487640912</title>\n",
       "<path d=\"M1107,-222.937C1107,-214.807 1107,-204.876 1107,-195.705\" fill=\"none\" stroke=\"black\"/>\n",
       "<polygon fill=\"black\" points=\"1110.5,-195.441 1107,-185.441 1103.5,-195.441 1110.5,-195.441\" stroke=\"black\"/>\n",
       "</g>\n",
       "<!-- 140668039860048 -->\n",
       "<g class=\"node\" id=\"node23\"><title>140668039860048</title>\n",
       "<polygon fill=\"none\" points=\"1038.5,-75 1038.5,-111 1175.5,-111 1175.5,-75 1038.5,-75\" stroke=\"black\"/>\n",
       "<text font-family=\"Times,serif\" font-size=\"14.00\" text-anchor=\"middle\" x=\"1107\" y=\"-89.3\">dense_39: Dense</text>\n",
       "</g>\n",
       "<!-- 140667487640912&#45;&gt;140668039860048 -->\n",
       "<g class=\"edge\" id=\"edge22\"><title>140667487640912-&gt;140668039860048</title>\n",
       "<path d=\"M1107,-148.937C1107,-140.807 1107,-130.876 1107,-121.705\" fill=\"none\" stroke=\"black\"/>\n",
       "<polygon fill=\"black\" points=\"1110.5,-121.441 1107,-111.441 1103.5,-121.441 1110.5,-121.441\" stroke=\"black\"/>\n",
       "</g>\n",
       "<!-- 140667489299600 -->\n",
       "<g class=\"node\" id=\"node24\"><title>140667489299600</title>\n",
       "<polygon fill=\"none\" points=\"1027,-1 1027,-37 1187,-37 1187,-1 1027,-1\" stroke=\"black\"/>\n",
       "<text font-family=\"Times,serif\" font-size=\"14.00\" text-anchor=\"middle\" x=\"1107\" y=\"-15.3\">main_output: Dense</text>\n",
       "</g>\n",
       "<!-- 140668039860048&#45;&gt;140667489299600 -->\n",
       "<g class=\"edge\" id=\"edge23\"><title>140668039860048-&gt;140667489299600</title>\n",
       "<path d=\"M1107,-74.937C1107,-66.8072 1107,-56.8761 1107,-47.7047\" fill=\"none\" stroke=\"black\"/>\n",
       "<polygon fill=\"black\" points=\"1110.5,-47.4406 1107,-37.4407 1103.5,-47.4407 1110.5,-47.4406\" stroke=\"black\"/>\n",
       "</g>\n",
       "</g>\n",
       "</svg>"
      ],
      "text/plain": [
       "<IPython.core.display.SVG object>"
      ]
     },
     "execution_count": 154,
     "metadata": {},
     "output_type": "execute_result"
    }
   ],
   "source": [
    "from IPython.display import Image, display, SVG\n",
    "from keras.utils.vis_utils import model_to_dot\n",
    "\n",
    "# Show the model in ipython notebook\n",
    "SVG(model_to_dot(real_estate_price_model).create(prog='dot', format='svg'))"
   ]
  },
  {
   "cell_type": "code",
   "execution_count": 155,
   "metadata": {
    "collapsed": false,
    "deletable": true,
    "editable": true
   },
   "outputs": [],
   "source": [
    "# Save the model as png file\n",
    "from keras.utils.vis_utils import plot_model\n",
    "plot_model(real_estate_price_model, to_file='/mnt/h/Kaggle/Competitions/Russian Bank/models/'+version_str+'/model.png', show_shapes=True)"
   ]
  },
  {
   "cell_type": "code",
   "execution_count": 156,
   "metadata": {
    "collapsed": true,
    "deletable": true,
    "editable": true
   },
   "outputs": [],
   "source": [
    "def root_mean_squared_logarithmic_error(y_true, y_pred):\n",
    "    y_pred_log = K.log(y_pred + 1.)\n",
    "    y_true_log = K.log(y_true + 1.)\n",
    "    return K.sqrt(K.mean(K.square(y_pred_log - y_true_log), axis = -1))"
   ]
  },
  {
   "cell_type": "code",
   "execution_count": 158,
   "metadata": {
    "collapsed": true,
    "deletable": true,
    "editable": true
   },
   "outputs": [],
   "source": [
    "real_estate_price_model.compile(optimizer = \"adam\", \n",
    "                          loss = root_mean_squared_logarithmic_error\n",
    "                         )"
   ]
  },
  {
   "cell_type": "markdown",
   "metadata": {
    "deletable": true,
    "editable": true
   },
   "source": [
    "### Train the model"
   ]
  },
  {
   "cell_type": "code",
   "execution_count": 159,
   "metadata": {
    "collapsed": true,
    "deletable": true,
    "editable": true
   },
   "outputs": [],
   "source": [
    "epochs = 100"
   ]
  },
  {
   "cell_type": "code",
   "execution_count": 163,
   "metadata": {
    "collapsed": false,
    "deletable": true,
    "editable": true
   },
   "outputs": [],
   "source": [
    "checkpointer = ModelCheckpoint(filepath=\"/mnt/h/Kaggle/Competitions/Russian Bank/models/\" + version_str + \"/\" + \"weights.{epoch:02d}-{val_loss:.2f}.hdf5\", verbose=1, save_best_only=True)\n",
    "tensorboard = TensorBoard(log_dir=\"/mnt/h/Kaggle/Competitions/Russian Bank/models/\" + version_str + \"/logs/\",\n",
    "                          histogram_freq=0, \n",
    "                          write_graph=True, \n",
    "                         # write_grads=True, \n",
    "                          write_images=False, \n",
    "                          embeddings_freq=5, \n",
    "                          embeddings_layer_names=[\n",
    "                              'sub_area_embedding'\n",
    "                          ], embeddings_metadata={\n",
    "                              'sub_area_embedding':'/mnt/h/Kaggle/Competitions/Russian Bank/models/metadata/sub_area_metadata.tsv'\n",
    "                          })\n",
    "early_stopping = EarlyStopping(monitor='val_loss', patience=20, verbose=0, mode='auto')\n",
    "callbacks = [checkpointer, tensorboard, early_stopping]"
   ]
  },
  {
   "cell_type": "code",
   "execution_count": 164,
   "metadata": {
    "collapsed": false,
    "deletable": true,
    "editable": true
   },
   "outputs": [
    {
     "name": "stdout",
     "output_type": "stream",
     "text": [
      "Train on 21938 samples, validate on 5485 samples\n",
      "Epoch 1/100\n",
      "Epoch 00000: val_loss improved from inf to 2.47087, saving model to /mnt/h/Kaggle/Competitions/Russian Bank/models/v1.4/weights.00-2.47.hdf5\n",
      "55s - loss: 4.1457 - val_loss: 2.4709\n",
      "Epoch 2/100\n",
      "Epoch 00001: val_loss improved from 2.47087 to 0.88499, saving model to /mnt/h/Kaggle/Competitions/Russian Bank/models/v1.4/weights.01-0.88.hdf5\n",
      "33s - loss: 1.6061 - val_loss: 0.8850\n",
      "Epoch 3/100\n",
      "Epoch 00002: val_loss improved from 0.88499 to 0.34025, saving model to /mnt/h/Kaggle/Competitions/Russian Bank/models/v1.4/weights.02-0.34.hdf5\n",
      "42s - loss: 0.5496 - val_loss: 0.3402\n",
      "Epoch 4/100\n",
      "Epoch 00003: val_loss improved from 0.34025 to 0.27329, saving model to /mnt/h/Kaggle/Competitions/Russian Bank/models/v1.4/weights.03-0.27.hdf5\n",
      "41s - loss: 0.3073 - val_loss: 0.2733\n",
      "Epoch 5/100\n",
      "Epoch 00004: val_loss improved from 0.27329 to 0.26612, saving model to /mnt/h/Kaggle/Competitions/Russian Bank/models/v1.4/weights.04-0.27.hdf5\n",
      "40s - loss: 0.2814 - val_loss: 0.2661\n",
      "Epoch 6/100\n",
      "Epoch 00005: val_loss improved from 0.26612 to 0.25928, saving model to /mnt/h/Kaggle/Competitions/Russian Bank/models/v1.4/weights.05-0.26.hdf5\n",
      "59s - loss: 0.2768 - val_loss: 0.2593\n",
      "Epoch 7/100\n",
      "Epoch 00006: val_loss improved from 0.25928 to 0.25639, saving model to /mnt/h/Kaggle/Competitions/Russian Bank/models/v1.4/weights.06-0.26.hdf5\n",
      "35s - loss: 0.2752 - val_loss: 0.2564\n",
      "Epoch 8/100\n",
      "Epoch 00007: val_loss did not improve\n",
      "38s - loss: 0.2744 - val_loss: 0.2609\n",
      "Epoch 9/100\n",
      "Epoch 00008: val_loss did not improve\n",
      "33s - loss: 0.2744 - val_loss: 0.2753\n",
      "Epoch 10/100\n",
      "Epoch 00009: val_loss improved from 0.25639 to 0.25426, saving model to /mnt/h/Kaggle/Competitions/Russian Bank/models/v1.4/weights.09-0.25.hdf5\n",
      "34s - loss: 0.2730 - val_loss: 0.2543\n",
      "Epoch 11/100\n",
      "Epoch 00010: val_loss did not improve\n",
      "48s - loss: 0.2718 - val_loss: 0.2823\n",
      "Epoch 12/100\n",
      "Epoch 00011: val_loss improved from 0.25426 to 0.25074, saving model to /mnt/h/Kaggle/Competitions/Russian Bank/models/v1.4/weights.11-0.25.hdf5\n",
      "28s - loss: 0.2736 - val_loss: 0.2507\n",
      "Epoch 13/100\n",
      "Epoch 00012: val_loss did not improve\n",
      "31s - loss: 0.2715 - val_loss: 0.2539\n",
      "Epoch 14/100\n",
      "Epoch 00013: val_loss did not improve\n",
      "33s - loss: nan - val_loss: nan\n",
      "Epoch 15/100\n"
     ]
    },
    {
     "ename": "KeyboardInterrupt",
     "evalue": "",
     "output_type": "error",
     "traceback": [
      "\u001b[0;31m---------------------------------------------------------------------------\u001b[0m",
      "\u001b[0;31mKeyboardInterrupt\u001b[0m                         Traceback (most recent call last)",
      "\u001b[0;32m<ipython-input-164-347a046a132e>\u001b[0m in \u001b[0;36m<module>\u001b[0;34m()\u001b[0m\n\u001b[1;32m     13\u001b[0m                       \u001b[0mvalidation_split\u001b[0m\u001b[0;34m=\u001b[0m\u001b[0;36m0.20\u001b[0m\u001b[0;34m,\u001b[0m\u001b[0;34m\u001b[0m\u001b[0m\n\u001b[1;32m     14\u001b[0m                       \u001b[0mshuffle\u001b[0m\u001b[0;34m=\u001b[0m\u001b[0mTrue\u001b[0m\u001b[0;34m,\u001b[0m\u001b[0;34m\u001b[0m\u001b[0m\n\u001b[0;32m---> 15\u001b[0;31m                       epochs=epochs)\n\u001b[0m",
      "\u001b[0;32m/usr/local/lib/python2.7/dist-packages/keras/engine/training.pyc\u001b[0m in \u001b[0;36mfit\u001b[0;34m(self, x, y, batch_size, epochs, verbose, callbacks, validation_split, validation_data, shuffle, class_weight, sample_weight, initial_epoch, **kwargs)\u001b[0m\n\u001b[1;32m   1491\u001b[0m                               \u001b[0mval_f\u001b[0m\u001b[0;34m=\u001b[0m\u001b[0mval_f\u001b[0m\u001b[0;34m,\u001b[0m \u001b[0mval_ins\u001b[0m\u001b[0;34m=\u001b[0m\u001b[0mval_ins\u001b[0m\u001b[0;34m,\u001b[0m \u001b[0mshuffle\u001b[0m\u001b[0;34m=\u001b[0m\u001b[0mshuffle\u001b[0m\u001b[0;34m,\u001b[0m\u001b[0;34m\u001b[0m\u001b[0m\n\u001b[1;32m   1492\u001b[0m                               \u001b[0mcallback_metrics\u001b[0m\u001b[0;34m=\u001b[0m\u001b[0mcallback_metrics\u001b[0m\u001b[0;34m,\u001b[0m\u001b[0;34m\u001b[0m\u001b[0m\n\u001b[0;32m-> 1493\u001b[0;31m                               initial_epoch=initial_epoch)\n\u001b[0m\u001b[1;32m   1494\u001b[0m \u001b[0;34m\u001b[0m\u001b[0m\n\u001b[1;32m   1495\u001b[0m     \u001b[0;32mdef\u001b[0m \u001b[0mevaluate\u001b[0m\u001b[0;34m(\u001b[0m\u001b[0mself\u001b[0m\u001b[0;34m,\u001b[0m \u001b[0mx\u001b[0m\u001b[0;34m,\u001b[0m \u001b[0my\u001b[0m\u001b[0;34m,\u001b[0m \u001b[0mbatch_size\u001b[0m\u001b[0;34m=\u001b[0m\u001b[0;36m32\u001b[0m\u001b[0;34m,\u001b[0m \u001b[0mverbose\u001b[0m\u001b[0;34m=\u001b[0m\u001b[0;36m1\u001b[0m\u001b[0;34m,\u001b[0m \u001b[0msample_weight\u001b[0m\u001b[0;34m=\u001b[0m\u001b[0mNone\u001b[0m\u001b[0;34m)\u001b[0m\u001b[0;34m:\u001b[0m\u001b[0;34m\u001b[0m\u001b[0m\n",
      "\u001b[0;32m/usr/local/lib/python2.7/dist-packages/keras/engine/training.pyc\u001b[0m in \u001b[0;36m_fit_loop\u001b[0;34m(self, f, ins, out_labels, batch_size, epochs, verbose, callbacks, val_f, val_ins, shuffle, callback_metrics, initial_epoch)\u001b[0m\n\u001b[1;32m   1145\u001b[0m                 \u001b[0mbatch_logs\u001b[0m\u001b[0;34m[\u001b[0m\u001b[0;34m'size'\u001b[0m\u001b[0;34m]\u001b[0m \u001b[0;34m=\u001b[0m \u001b[0mlen\u001b[0m\u001b[0;34m(\u001b[0m\u001b[0mbatch_ids\u001b[0m\u001b[0;34m)\u001b[0m\u001b[0;34m\u001b[0m\u001b[0m\n\u001b[1;32m   1146\u001b[0m                 \u001b[0mcallbacks\u001b[0m\u001b[0;34m.\u001b[0m\u001b[0mon_batch_begin\u001b[0m\u001b[0;34m(\u001b[0m\u001b[0mbatch_index\u001b[0m\u001b[0;34m,\u001b[0m \u001b[0mbatch_logs\u001b[0m\u001b[0;34m)\u001b[0m\u001b[0;34m\u001b[0m\u001b[0m\n\u001b[0;32m-> 1147\u001b[0;31m                 \u001b[0mouts\u001b[0m \u001b[0;34m=\u001b[0m \u001b[0mf\u001b[0m\u001b[0;34m(\u001b[0m\u001b[0mins_batch\u001b[0m\u001b[0;34m)\u001b[0m\u001b[0;34m\u001b[0m\u001b[0m\n\u001b[0m\u001b[1;32m   1148\u001b[0m                 \u001b[0;32mif\u001b[0m \u001b[0;32mnot\u001b[0m \u001b[0misinstance\u001b[0m\u001b[0;34m(\u001b[0m\u001b[0mouts\u001b[0m\u001b[0;34m,\u001b[0m \u001b[0mlist\u001b[0m\u001b[0;34m)\u001b[0m\u001b[0;34m:\u001b[0m\u001b[0;34m\u001b[0m\u001b[0m\n\u001b[1;32m   1149\u001b[0m                     \u001b[0mouts\u001b[0m \u001b[0;34m=\u001b[0m \u001b[0;34m[\u001b[0m\u001b[0mouts\u001b[0m\u001b[0;34m]\u001b[0m\u001b[0;34m\u001b[0m\u001b[0m\n",
      "\u001b[0;32m/usr/local/lib/python2.7/dist-packages/keras/backend/tensorflow_backend.pyc\u001b[0m in \u001b[0;36m__call__\u001b[0;34m(self, inputs)\u001b[0m\n\u001b[1;32m   2129\u001b[0m         \u001b[0msession\u001b[0m \u001b[0;34m=\u001b[0m \u001b[0mget_session\u001b[0m\u001b[0;34m(\u001b[0m\u001b[0;34m)\u001b[0m\u001b[0;34m\u001b[0m\u001b[0m\n\u001b[1;32m   2130\u001b[0m         updated = session.run(self.outputs + [self.updates_op],\n\u001b[0;32m-> 2131\u001b[0;31m                               feed_dict=feed_dict)\n\u001b[0m\u001b[1;32m   2132\u001b[0m         \u001b[0;32mreturn\u001b[0m \u001b[0mupdated\u001b[0m\u001b[0;34m[\u001b[0m\u001b[0;34m:\u001b[0m\u001b[0mlen\u001b[0m\u001b[0;34m(\u001b[0m\u001b[0mself\u001b[0m\u001b[0;34m.\u001b[0m\u001b[0moutputs\u001b[0m\u001b[0;34m)\u001b[0m\u001b[0;34m]\u001b[0m\u001b[0;34m\u001b[0m\u001b[0m\n\u001b[1;32m   2133\u001b[0m \u001b[0;34m\u001b[0m\u001b[0m\n",
      "\u001b[0;32m/usr/local/lib/python2.7/dist-packages/tensorflow/python/client/session.pyc\u001b[0m in \u001b[0;36mrun\u001b[0;34m(self, fetches, feed_dict, options, run_metadata)\u001b[0m\n\u001b[1;32m    765\u001b[0m     \u001b[0;32mtry\u001b[0m\u001b[0;34m:\u001b[0m\u001b[0;34m\u001b[0m\u001b[0m\n\u001b[1;32m    766\u001b[0m       result = self._run(None, fetches, feed_dict, options_ptr,\n\u001b[0;32m--> 767\u001b[0;31m                          run_metadata_ptr)\n\u001b[0m\u001b[1;32m    768\u001b[0m       \u001b[0;32mif\u001b[0m \u001b[0mrun_metadata\u001b[0m\u001b[0;34m:\u001b[0m\u001b[0;34m\u001b[0m\u001b[0m\n\u001b[1;32m    769\u001b[0m         \u001b[0mproto_data\u001b[0m \u001b[0;34m=\u001b[0m \u001b[0mtf_session\u001b[0m\u001b[0;34m.\u001b[0m\u001b[0mTF_GetBuffer\u001b[0m\u001b[0;34m(\u001b[0m\u001b[0mrun_metadata_ptr\u001b[0m\u001b[0;34m)\u001b[0m\u001b[0;34m\u001b[0m\u001b[0m\n",
      "\u001b[0;32m/usr/local/lib/python2.7/dist-packages/tensorflow/python/client/session.pyc\u001b[0m in \u001b[0;36m_run\u001b[0;34m(self, handle, fetches, feed_dict, options, run_metadata)\u001b[0m\n\u001b[1;32m    963\u001b[0m     \u001b[0;32mif\u001b[0m \u001b[0mfinal_fetches\u001b[0m \u001b[0;32mor\u001b[0m \u001b[0mfinal_targets\u001b[0m\u001b[0;34m:\u001b[0m\u001b[0;34m\u001b[0m\u001b[0m\n\u001b[1;32m    964\u001b[0m       results = self._do_run(handle, final_targets, final_fetches,\n\u001b[0;32m--> 965\u001b[0;31m                              feed_dict_string, options, run_metadata)\n\u001b[0m\u001b[1;32m    966\u001b[0m     \u001b[0;32melse\u001b[0m\u001b[0;34m:\u001b[0m\u001b[0;34m\u001b[0m\u001b[0m\n\u001b[1;32m    967\u001b[0m       \u001b[0mresults\u001b[0m \u001b[0;34m=\u001b[0m \u001b[0;34m[\u001b[0m\u001b[0;34m]\u001b[0m\u001b[0;34m\u001b[0m\u001b[0m\n",
      "\u001b[0;32m/usr/local/lib/python2.7/dist-packages/tensorflow/python/client/session.pyc\u001b[0m in \u001b[0;36m_do_run\u001b[0;34m(self, handle, target_list, fetch_list, feed_dict, options, run_metadata)\u001b[0m\n\u001b[1;32m   1013\u001b[0m     \u001b[0;32mif\u001b[0m \u001b[0mhandle\u001b[0m \u001b[0;32mis\u001b[0m \u001b[0mNone\u001b[0m\u001b[0;34m:\u001b[0m\u001b[0;34m\u001b[0m\u001b[0m\n\u001b[1;32m   1014\u001b[0m       return self._do_call(_run_fn, self._session, feed_dict, fetch_list,\n\u001b[0;32m-> 1015\u001b[0;31m                            target_list, options, run_metadata)\n\u001b[0m\u001b[1;32m   1016\u001b[0m     \u001b[0;32melse\u001b[0m\u001b[0;34m:\u001b[0m\u001b[0;34m\u001b[0m\u001b[0m\n\u001b[1;32m   1017\u001b[0m       return self._do_call(_prun_fn, self._session, handle, feed_dict,\n",
      "\u001b[0;32m/usr/local/lib/python2.7/dist-packages/tensorflow/python/client/session.pyc\u001b[0m in \u001b[0;36m_do_call\u001b[0;34m(self, fn, *args)\u001b[0m\n\u001b[1;32m   1020\u001b[0m   \u001b[0;32mdef\u001b[0m \u001b[0m_do_call\u001b[0m\u001b[0;34m(\u001b[0m\u001b[0mself\u001b[0m\u001b[0;34m,\u001b[0m \u001b[0mfn\u001b[0m\u001b[0;34m,\u001b[0m \u001b[0;34m*\u001b[0m\u001b[0margs\u001b[0m\u001b[0;34m)\u001b[0m\u001b[0;34m:\u001b[0m\u001b[0;34m\u001b[0m\u001b[0m\n\u001b[1;32m   1021\u001b[0m     \u001b[0;32mtry\u001b[0m\u001b[0;34m:\u001b[0m\u001b[0;34m\u001b[0m\u001b[0m\n\u001b[0;32m-> 1022\u001b[0;31m       \u001b[0;32mreturn\u001b[0m \u001b[0mfn\u001b[0m\u001b[0;34m(\u001b[0m\u001b[0;34m*\u001b[0m\u001b[0margs\u001b[0m\u001b[0;34m)\u001b[0m\u001b[0;34m\u001b[0m\u001b[0m\n\u001b[0m\u001b[1;32m   1023\u001b[0m     \u001b[0;32mexcept\u001b[0m \u001b[0merrors\u001b[0m\u001b[0;34m.\u001b[0m\u001b[0mOpError\u001b[0m \u001b[0;32mas\u001b[0m \u001b[0me\u001b[0m\u001b[0;34m:\u001b[0m\u001b[0;34m\u001b[0m\u001b[0m\n\u001b[1;32m   1024\u001b[0m       \u001b[0mmessage\u001b[0m \u001b[0;34m=\u001b[0m \u001b[0mcompat\u001b[0m\u001b[0;34m.\u001b[0m\u001b[0mas_text\u001b[0m\u001b[0;34m(\u001b[0m\u001b[0me\u001b[0m\u001b[0;34m.\u001b[0m\u001b[0mmessage\u001b[0m\u001b[0;34m)\u001b[0m\u001b[0;34m\u001b[0m\u001b[0m\n",
      "\u001b[0;32m/usr/local/lib/python2.7/dist-packages/tensorflow/python/client/session.pyc\u001b[0m in \u001b[0;36m_run_fn\u001b[0;34m(session, feed_dict, fetch_list, target_list, options, run_metadata)\u001b[0m\n\u001b[1;32m   1002\u001b[0m         return tf_session.TF_Run(session, options,\n\u001b[1;32m   1003\u001b[0m                                  \u001b[0mfeed_dict\u001b[0m\u001b[0;34m,\u001b[0m \u001b[0mfetch_list\u001b[0m\u001b[0;34m,\u001b[0m \u001b[0mtarget_list\u001b[0m\u001b[0;34m,\u001b[0m\u001b[0;34m\u001b[0m\u001b[0m\n\u001b[0;32m-> 1004\u001b[0;31m                                  status, run_metadata)\n\u001b[0m\u001b[1;32m   1005\u001b[0m \u001b[0;34m\u001b[0m\u001b[0m\n\u001b[1;32m   1006\u001b[0m     \u001b[0;32mdef\u001b[0m \u001b[0m_prun_fn\u001b[0m\u001b[0;34m(\u001b[0m\u001b[0msession\u001b[0m\u001b[0;34m,\u001b[0m \u001b[0mhandle\u001b[0m\u001b[0;34m,\u001b[0m \u001b[0mfeed_dict\u001b[0m\u001b[0;34m,\u001b[0m \u001b[0mfetch_list\u001b[0m\u001b[0;34m)\u001b[0m\u001b[0;34m:\u001b[0m\u001b[0;34m\u001b[0m\u001b[0m\n",
      "\u001b[0;31mKeyboardInterrupt\u001b[0m: "
     ]
    }
   ],
   "source": [
    "real_estate_price_model.fit(x={\n",
    "    'temporal_input' : train_split_df_temporal_features,\n",
    "    'property_input' : train_split_df_property_features,\n",
    "    'locality_input' : train_split_df_locality_features,\n",
    "    'economy_input' : train_split_df_economy_features,\n",
    "    'population_input' : train_split_df_population_features,\n",
    "    'state_input' : train_split_df_categorical_features['state_refractored'],\n",
    "    'material_input' : train_split_df_categorical_features['material'],\n",
    "    'sub_area_input' : train_split_df_categorical_features['sub_area']},\n",
    "                      y = train_split_df['price_doc'].values,\n",
    "                      callbacks=callbacks,\n",
    "                      verbose = 2,\n",
    "                      validation_split=0.20,\n",
    "                      shuffle=True,\n",
    "                      epochs=epochs)"
   ]
  },
  {
   "cell_type": "code",
   "execution_count": 165,
   "metadata": {
    "collapsed": false,
    "deletable": true,
    "editable": true
   },
   "outputs": [],
   "source": [
    "real_estate_price_model.load_weights('/mnt/h/Kaggle/Competitions/Russian Bank/models/v'+str(version) + '/weights.11-0.25.hdf5')"
   ]
  },
  {
   "cell_type": "code",
   "execution_count": 166,
   "metadata": {
    "collapsed": false,
    "deletable": true,
    "editable": true
   },
   "outputs": [
    {
     "data": {
      "text/plain": [
       "('Test loss: ', 0.25667131966823464)"
      ]
     },
     "execution_count": 166,
     "metadata": {},
     "output_type": "execute_result"
    }
   ],
   "source": [
    "test_loss = real_estate_price_model.evaluate(x={\n",
    "    'temporal_input' : train_split_df_temporal_features,\n",
    "    'property_input' : train_split_df_property_features,\n",
    "    'locality_input' : train_split_df_locality_features,\n",
    "    'economy_input' : train_split_df_economy_features,\n",
    "    'population_input' : train_split_df_population_features,\n",
    "    'state_input' : train_split_df_categorical_features['state_refractored'],\n",
    "    'material_input' : train_split_df_categorical_features['material'],\n",
    "    'sub_area_input' : train_split_df_categorical_features['sub_area']},\n",
    "                      y = train_split_df['price_doc'].values,\n",
    "                      verbose = 2)\n",
    "'Test loss: ', test_loss"
   ]
  },
  {
   "cell_type": "code",
   "execution_count": 167,
   "metadata": {
    "collapsed": false,
    "deletable": true,
    "editable": true
   },
   "outputs": [
    {
     "data": {
      "text/plain": [
       "('Test loss: ', 0.25278858171673274)"
      ]
     },
     "execution_count": 167,
     "metadata": {},
     "output_type": "execute_result"
    }
   ],
   "source": [
    "test_loss = real_estate_price_model.evaluate(x={\n",
    "    'temporal_input' : test_split_df_temporal_features,\n",
    "    'property_input' : test_split_df_property_features,\n",
    "    'locality_input' : test_split_df_locality_features,\n",
    "    'economy_input' : test_split_df_economy_features,\n",
    "    'population_input' : test_split_df_population_features,\n",
    "    'state_input' : test_split_df_categorical_features['state_refractored'],\n",
    "    'material_input' : test_split_df_categorical_features['material'],\n",
    "    'sub_area_input' : test_split_df_categorical_features['sub_area']},\n",
    "                      y = test_split_df['price_doc'].values,\n",
    "                      verbose = 2)\n",
    "'Test loss: ', test_loss"
   ]
  },
  {
   "cell_type": "code",
   "execution_count": 168,
   "metadata": {
    "collapsed": true,
    "deletable": true,
    "editable": true
   },
   "outputs": [],
   "source": [
    "from sklearn.model_selection import StratifiedKFold\n",
    "from sklearn.model_selection import KFold"
   ]
  },
  {
   "cell_type": "code",
   "execution_count": 173,
   "metadata": {
    "collapsed": true,
    "deletable": true,
    "editable": true
   },
   "outputs": [],
   "source": [
    "seed = 7\n",
    "kfold = StratifiedKFold(n_splits=10, shuffle=True, random_state=seed)"
   ]
  },
  {
   "cell_type": "code",
   "execution_count": 174,
   "metadata": {
    "collapsed": false,
    "deletable": true,
    "editable": true
   },
   "outputs": [
    {
     "data": {
      "text/plain": [
       "10"
      ]
     },
     "execution_count": 174,
     "metadata": {},
     "output_type": "execute_result"
    }
   ],
   "source": [
    "kfold.get_n_splits(final_train_df, final_train_df[[LABEL]].values)"
   ]
  },
  {
   "cell_type": "code",
   "execution_count": 175,
   "metadata": {
    "collapsed": false,
    "deletable": true,
    "editable": true
   },
   "outputs": [
    {
     "name": "stderr",
     "output_type": "stream",
     "text": [
      "/usr/local/lib/python2.7/dist-packages/sklearn/model_selection/_split.py:581: Warning: The least populated class in y has only 1 members, which is too few. The minimum number of groups for any class cannot be less than n_splits=10.\n",
      "  % (min_groups, self.n_splits)), Warning)\n"
     ]
    },
    {
     "name": "stdout",
     "output_type": "stream",
     "text": [
      "Cross validating.... step:  0\n",
      "Temp train loss:  0.257335607751  index:  0\n",
      "Temp test loss:  0.24733681869  index:  0\n",
      "Cross validating.... step:  1\n",
      "Temp train loss:  0.256205141998  index:  1\n",
      "Temp test loss:  0.256955237215  index:  1\n",
      "Cross validating.... step:  2\n",
      "Temp train loss:  0.255959373801  index:  2\n",
      "Temp test loss:  0.259116310246  index:  2\n",
      "Cross validating.... step:  3\n",
      "Temp train loss:  0.256238041165  index:  3\n",
      "Temp test loss:  0.256682146679  index:  3\n",
      "Cross validating.... step:  4\n",
      "Temp train loss:  0.256279371555  index:  4\n",
      "Temp test loss:  0.256315248842  index:  4\n",
      "Cross validating.... step:  5\n",
      "Temp train loss:  0.256571986227  index:  5\n",
      "Temp test loss:  0.253675635494  index:  5\n",
      "Cross validating.... step:  6\n",
      "Temp train loss:  0.256022065618  index:  6\n",
      "Temp test loss:  0.258701146453  index:  6\n",
      "Cross validating.... step:  7\n",
      "Temp train loss:  0.256084526982  index:  7\n",
      "Temp test loss:  0.258093024726  index:  7\n",
      "Cross validating.... step:  8\n",
      "Temp train loss:  0.256365214531  index:  8\n",
      "Temp test loss:  0.255514141013  index:  8\n",
      "Cross validating.... step:  9\n",
      "Temp train loss:  0.255776031366  index:  9\n",
      "Temp test loss:  0.261078378813  index:  9\n",
      "[0.25733560775073422, 0.24733681869031188, 0.25620514199828975, 0.25695523721507835, 0.25595937380059097, 0.25911631024574722, 0.25623804116483229, 0.25668214667927136, 0.25627937155505098, 0.25631524884184187, 0.25657198622719546, 0.25367563549369154, 0.25602206561785928, 0.25870114645252412, 0.25608452698212114, 0.25809302472592982, 0.25636521453103839, 0.25551414101284048, 0.25577603136604621, 0.2610783788129058]\n"
     ]
    }
   ],
   "source": [
    "eval_loss_scores = []\n",
    "\n",
    "for idx, (train, test) in enumerate(kfold.split(final_train_df, final_train_df[[LABEL]].values.ravel())):\n",
    "    \n",
    "    temp_x, temp_y = final_train_df.ix[train, :], final_train_df.ix[train, :][LABEL].values\n",
    "    temp_test_x, temp_test_y = final_train_df.ix[test, :], final_train_df.ix[test, :][LABEL].values\n",
    "    \n",
    "    temp_train_split_df_temporal_features = extract_temporal_features(temp_x)\n",
    "    temp_test_split_df_temporal_features = extract_temporal_features(temp_test_x)\n",
    "    \n",
    "    temp_train_split_df_property_features = extract_property_place_features(temp_x)\n",
    "    temp_test_split_df_property_features = extract_property_place_features(temp_test_x)\n",
    "    \n",
    "    temp_train_split_df_locality_features = extract_locality_features(temp_x)\n",
    "    temp_test_split_df_locality_features = extract_locality_features(temp_test_x)\n",
    "    \n",
    "    temp_train_split_df_economy_features = extract_economy_features(temp_x)\n",
    "    temp_test_split_df_economy_features = extract_economy_features(temp_test_x)\n",
    "    \n",
    "    temp_train_split_df_population_features = extract_population_features(temp_x)\n",
    "    temp_test_split_df_population_features = extract_population_features(temp_test_x)\n",
    "    \n",
    "    temp_train_split_df_categorical_features = extract_categorical_features(temp_x)\n",
    "    temp_test_split_df_categorical_features = extract_categorical_features(temp_test_x)\n",
    "    \n",
    "    print 'Cross validating.... step: ', idx\n",
    "    \n",
    "    temp_train_loss = real_estate_price_model.evaluate(x={\n",
    "        'temporal_input' : temp_train_split_df_temporal_features,\n",
    "        'property_input' : temp_train_split_df_property_features,\n",
    "        'locality_input' : temp_train_split_df_locality_features,\n",
    "        'economy_input' : temp_train_split_df_economy_features,\n",
    "        'population_input' : temp_train_split_df_population_features,\n",
    "        'state_input' : temp_train_split_df_categorical_features['state_refractored'],\n",
    "        'material_input' : temp_train_split_df_categorical_features['material'],\n",
    "        'sub_area_input' : temp_train_split_df_categorical_features['sub_area']},\n",
    "                      y = temp_y,\n",
    "                      verbose = 2)\n",
    "    print 'Temp train loss: ', temp_train_loss, ' index: ', idx\n",
    "    eval_loss_scores.append(temp_train_loss)\n",
    "    \n",
    "    temp_test_loss = real_estate_price_model.evaluate(x={\n",
    "        'temporal_input' : temp_test_split_df_temporal_features,\n",
    "        'property_input' : temp_test_split_df_property_features,\n",
    "        'locality_input' : temp_test_split_df_locality_features,\n",
    "        'economy_input' : temp_test_split_df_economy_features,\n",
    "        'population_input' : temp_test_split_df_population_features,\n",
    "        'state_input' : temp_test_split_df_categorical_features['state_refractored'],\n",
    "        'material_input' : temp_test_split_df_categorical_features['material'],\n",
    "        'sub_area_input' : temp_test_split_df_categorical_features['sub_area']},\n",
    "                      y = temp_test_y,\n",
    "                      verbose = 2)\n",
    "    print 'Temp test loss: ', temp_test_loss, ' index: ', idx\n",
    "    eval_loss_scores.append(temp_test_loss)\n",
    "    \n",
    "    \n",
    "print eval_loss_scores\n"
   ]
  },
  {
   "cell_type": "code",
   "execution_count": 176,
   "metadata": {
    "collapsed": false,
    "deletable": true,
    "editable": true
   },
   "outputs": [
    {
     "name": "stdout",
     "output_type": "stream",
     "text": [
      "0.26% (+/- 0.00%)\n"
     ]
    }
   ],
   "source": [
    "print(\"%.2f%% (+/- %.2f%%)\" % (np.mean(eval_loss_scores), np.std(eval_loss_scores)))"
   ]
  },
  {
   "cell_type": "code",
   "execution_count": 177,
   "metadata": {
    "collapsed": true,
    "deletable": true,
    "editable": true
   },
   "outputs": [],
   "source": [
    "real_estate_price_model.save('/mnt/h/Kaggle/Competitions/Russian Bank/models/v'+str(version) + '/trained_model_0.25_val_loss.h5')"
   ]
  },
  {
   "cell_type": "code",
   "execution_count": 117,
   "metadata": {
    "collapsed": true,
    "deletable": true,
    "editable": true
   },
   "outputs": [],
   "source": [
    "from keras.models import load_model"
   ]
  },
  {
   "cell_type": "code",
   "execution_count": 118,
   "metadata": {
    "collapsed": true,
    "deletable": true,
    "editable": true
   },
   "outputs": [],
   "source": [
    "real_estate_price_model_duplicate = load_model('/mnt/h/Kaggle/Competitions/Russian Bank/models/v'+str(version) + '/trained_model_0.22_val_loss.h5', custom_objects={\"root_mean_squared_logarithmic_error\":root_mean_squared_logarithmic_error})"
   ]
  },
  {
   "cell_type": "code",
   "execution_count": 179,
   "metadata": {
    "collapsed": false,
    "deletable": true,
    "editable": true
   },
   "outputs": [],
   "source": [
    "test_temporal_features, test_property_features, test_locality_features, test_economy_features, test_population_features, test_categorical_features = format_input(test_split_df[:10])\n",
    "test_preds = real_estate_price_model.predict(x={\n",
    "    'temporal_input' : test_temporal_features,\n",
    "    'property_input' : test_property_features,\n",
    "    'locality_input' : test_locality_features,\n",
    "    'economy_input' : test_economy_features,\n",
    "    'population_input' : test_population_features,\n",
    "    'state_input' : test_categorical_features['state_refractored'],\n",
    "    'material_input' : test_categorical_features['material'],\n",
    "    'sub_area_input' : test_categorical_features['sub_area']})\n",
    "test_actuals = test_split_df[:10].price_doc.values"
   ]
  },
  {
   "cell_type": "code",
   "execution_count": 180,
   "metadata": {
    "collapsed": false,
    "deletable": true,
    "editable": true
   },
   "outputs": [
    {
     "data": {
      "text/plain": [
       "[(1000000, 8965329.0),\n",
       " (6150000, 5593523.0),\n",
       " (15043290, 10756976.0),\n",
       " (3965000, 8996704.0),\n",
       " (9400000, 8185104.0),\n",
       " (6000000, 6850981.5),\n",
       " (8200000, 7513697.5),\n",
       " (4438471, 4747888.0),\n",
       " (6200000, 6144947.0),\n",
       " (3614688, 3157598.8)]"
      ]
     },
     "execution_count": 180,
     "metadata": {},
     "output_type": "execute_result"
    }
   ],
   "source": [
    "zip(test_actuals, test_preds.ravel())"
   ]
  },
  {
   "cell_type": "code",
   "execution_count": 181,
   "metadata": {
    "collapsed": true,
    "deletable": true,
    "editable": true
   },
   "outputs": [],
   "source": [
    "kaggle_test = pd.read_csv(\"/mnt/h/Kaggle/Competitions/Russian Bank/data/test.csv/test.csv\")"
   ]
  },
  {
   "cell_type": "code",
   "execution_count": 182,
   "metadata": {
    "collapsed": false,
    "deletable": true,
    "editable": true
   },
   "outputs": [
    {
     "data": {
      "text/html": [
       "<div>\n",
       "<table border=\"1\" class=\"dataframe\">\n",
       "  <thead>\n",
       "    <tr style=\"text-align: right;\">\n",
       "      <th></th>\n",
       "      <th>id</th>\n",
       "      <th>timestamp</th>\n",
       "      <th>full_sq</th>\n",
       "      <th>life_sq</th>\n",
       "      <th>floor</th>\n",
       "      <th>max_floor</th>\n",
       "      <th>material</th>\n",
       "      <th>build_year</th>\n",
       "      <th>num_room</th>\n",
       "      <th>kitch_sq</th>\n",
       "      <th>...</th>\n",
       "      <th>cafe_count_5000_price_1500</th>\n",
       "      <th>cafe_count_5000_price_2500</th>\n",
       "      <th>cafe_count_5000_price_4000</th>\n",
       "      <th>cafe_count_5000_price_high</th>\n",
       "      <th>big_church_count_5000</th>\n",
       "      <th>church_count_5000</th>\n",
       "      <th>mosque_count_5000</th>\n",
       "      <th>leisure_count_5000</th>\n",
       "      <th>sport_count_5000</th>\n",
       "      <th>market_count_5000</th>\n",
       "    </tr>\n",
       "  </thead>\n",
       "  <tbody>\n",
       "    <tr>\n",
       "      <th>0</th>\n",
       "      <td>30474</td>\n",
       "      <td>2015-07-01</td>\n",
       "      <td>39.0</td>\n",
       "      <td>20.7</td>\n",
       "      <td>2</td>\n",
       "      <td>9</td>\n",
       "      <td>1</td>\n",
       "      <td>1998.0</td>\n",
       "      <td>1</td>\n",
       "      <td>8.9</td>\n",
       "      <td>...</td>\n",
       "      <td>8</td>\n",
       "      <td>0</td>\n",
       "      <td>0</td>\n",
       "      <td>0</td>\n",
       "      <td>1</td>\n",
       "      <td>10</td>\n",
       "      <td>1</td>\n",
       "      <td>0</td>\n",
       "      <td>14</td>\n",
       "      <td>1</td>\n",
       "    </tr>\n",
       "    <tr>\n",
       "      <th>1</th>\n",
       "      <td>30475</td>\n",
       "      <td>2015-07-01</td>\n",
       "      <td>79.2</td>\n",
       "      <td>NaN</td>\n",
       "      <td>8</td>\n",
       "      <td>17</td>\n",
       "      <td>1</td>\n",
       "      <td>0.0</td>\n",
       "      <td>3</td>\n",
       "      <td>1.0</td>\n",
       "      <td>...</td>\n",
       "      <td>4</td>\n",
       "      <td>1</td>\n",
       "      <td>1</td>\n",
       "      <td>0</td>\n",
       "      <td>2</td>\n",
       "      <td>11</td>\n",
       "      <td>0</td>\n",
       "      <td>1</td>\n",
       "      <td>12</td>\n",
       "      <td>1</td>\n",
       "    </tr>\n",
       "    <tr>\n",
       "      <th>2</th>\n",
       "      <td>30476</td>\n",
       "      <td>2015-07-01</td>\n",
       "      <td>40.5</td>\n",
       "      <td>25.1</td>\n",
       "      <td>3</td>\n",
       "      <td>5</td>\n",
       "      <td>2</td>\n",
       "      <td>1960.0</td>\n",
       "      <td>2</td>\n",
       "      <td>4.8</td>\n",
       "      <td>...</td>\n",
       "      <td>42</td>\n",
       "      <td>11</td>\n",
       "      <td>4</td>\n",
       "      <td>0</td>\n",
       "      <td>10</td>\n",
       "      <td>21</td>\n",
       "      <td>0</td>\n",
       "      <td>10</td>\n",
       "      <td>71</td>\n",
       "      <td>11</td>\n",
       "    </tr>\n",
       "    <tr>\n",
       "      <th>3</th>\n",
       "      <td>30477</td>\n",
       "      <td>2015-07-01</td>\n",
       "      <td>62.8</td>\n",
       "      <td>36.0</td>\n",
       "      <td>17</td>\n",
       "      <td>17</td>\n",
       "      <td>1</td>\n",
       "      <td>2016.0</td>\n",
       "      <td>2</td>\n",
       "      <td>62.8</td>\n",
       "      <td>...</td>\n",
       "      <td>1</td>\n",
       "      <td>1</td>\n",
       "      <td>2</td>\n",
       "      <td>0</td>\n",
       "      <td>0</td>\n",
       "      <td>10</td>\n",
       "      <td>0</td>\n",
       "      <td>0</td>\n",
       "      <td>2</td>\n",
       "      <td>0</td>\n",
       "    </tr>\n",
       "    <tr>\n",
       "      <th>4</th>\n",
       "      <td>30478</td>\n",
       "      <td>2015-07-01</td>\n",
       "      <td>40.0</td>\n",
       "      <td>40.0</td>\n",
       "      <td>17</td>\n",
       "      <td>17</td>\n",
       "      <td>1</td>\n",
       "      <td>0.0</td>\n",
       "      <td>1</td>\n",
       "      <td>1.0</td>\n",
       "      <td>...</td>\n",
       "      <td>5</td>\n",
       "      <td>1</td>\n",
       "      <td>1</td>\n",
       "      <td>0</td>\n",
       "      <td>2</td>\n",
       "      <td>12</td>\n",
       "      <td>0</td>\n",
       "      <td>1</td>\n",
       "      <td>11</td>\n",
       "      <td>1</td>\n",
       "    </tr>\n",
       "  </tbody>\n",
       "</table>\n",
       "<p>5 rows × 291 columns</p>\n",
       "</div>"
      ],
      "text/plain": [
       "      id   timestamp  full_sq  life_sq  floor  max_floor  material  \\\n",
       "0  30474  2015-07-01     39.0     20.7      2          9         1   \n",
       "1  30475  2015-07-01     79.2      NaN      8         17         1   \n",
       "2  30476  2015-07-01     40.5     25.1      3          5         2   \n",
       "3  30477  2015-07-01     62.8     36.0     17         17         1   \n",
       "4  30478  2015-07-01     40.0     40.0     17         17         1   \n",
       "\n",
       "   build_year  num_room  kitch_sq        ...          \\\n",
       "0      1998.0         1       8.9        ...           \n",
       "1         0.0         3       1.0        ...           \n",
       "2      1960.0         2       4.8        ...           \n",
       "3      2016.0         2      62.8        ...           \n",
       "4         0.0         1       1.0        ...           \n",
       "\n",
       "   cafe_count_5000_price_1500 cafe_count_5000_price_2500  \\\n",
       "0                           8                          0   \n",
       "1                           4                          1   \n",
       "2                          42                         11   \n",
       "3                           1                          1   \n",
       "4                           5                          1   \n",
       "\n",
       "  cafe_count_5000_price_4000  cafe_count_5000_price_high  \\\n",
       "0                          0                           0   \n",
       "1                          1                           0   \n",
       "2                          4                           0   \n",
       "3                          2                           0   \n",
       "4                          1                           0   \n",
       "\n",
       "   big_church_count_5000  church_count_5000  mosque_count_5000  \\\n",
       "0                      1                 10                  1   \n",
       "1                      2                 11                  0   \n",
       "2                     10                 21                  0   \n",
       "3                      0                 10                  0   \n",
       "4                      2                 12                  0   \n",
       "\n",
       "   leisure_count_5000  sport_count_5000  market_count_5000  \n",
       "0                   0                14                  1  \n",
       "1                   1                12                  1  \n",
       "2                  10                71                 11  \n",
       "3                   0                 2                  0  \n",
       "4                   1                11                  1  \n",
       "\n",
       "[5 rows x 291 columns]"
      ]
     },
     "execution_count": 182,
     "metadata": {},
     "output_type": "execute_result"
    }
   ],
   "source": [
    "kaggle_test.head()"
   ]
  },
  {
   "cell_type": "code",
   "execution_count": 183,
   "metadata": {
    "collapsed": true,
    "deletable": true,
    "editable": true
   },
   "outputs": [],
   "source": [
    "macro_df = pd.read_csv(\"/mnt/h/Kaggle/Competitions/Russian Bank/data/macro.csv/macro.csv\")"
   ]
  },
  {
   "cell_type": "code",
   "execution_count": 184,
   "metadata": {
    "collapsed": true,
    "deletable": true,
    "editable": true
   },
   "outputs": [],
   "source": [
    "final_kaggle_df = pd.merge(kaggle_test, macro_df, on='timestamp')"
   ]
  },
  {
   "cell_type": "code",
   "execution_count": 185,
   "metadata": {
    "collapsed": false,
    "deletable": true,
    "editable": true
   },
   "outputs": [
    {
     "data": {
      "text/html": [
       "<div>\n",
       "<table border=\"1\" class=\"dataframe\">\n",
       "  <thead>\n",
       "    <tr style=\"text-align: right;\">\n",
       "      <th></th>\n",
       "      <th>id</th>\n",
       "      <th>timestamp</th>\n",
       "      <th>full_sq</th>\n",
       "      <th>life_sq</th>\n",
       "      <th>floor</th>\n",
       "      <th>max_floor</th>\n",
       "      <th>material</th>\n",
       "      <th>build_year</th>\n",
       "      <th>num_room</th>\n",
       "      <th>kitch_sq</th>\n",
       "      <th>...</th>\n",
       "      <th>provision_retail_space_modern_sqm</th>\n",
       "      <th>turnover_catering_per_cap</th>\n",
       "      <th>theaters_viewers_per_1000_cap</th>\n",
       "      <th>seats_theather_rfmin_per_100000_cap</th>\n",
       "      <th>museum_visitis_per_100_cap</th>\n",
       "      <th>bandwidth_sports</th>\n",
       "      <th>population_reg_sports_share</th>\n",
       "      <th>students_reg_sports_share</th>\n",
       "      <th>apartment_build</th>\n",
       "      <th>apartment_fund_sqm</th>\n",
       "    </tr>\n",
       "  </thead>\n",
       "  <tbody>\n",
       "    <tr>\n",
       "      <th>0</th>\n",
       "      <td>30474</td>\n",
       "      <td>2015-07-01</td>\n",
       "      <td>39.0</td>\n",
       "      <td>20.7</td>\n",
       "      <td>2</td>\n",
       "      <td>9</td>\n",
       "      <td>1</td>\n",
       "      <td>1998.0</td>\n",
       "      <td>1</td>\n",
       "      <td>8.9</td>\n",
       "      <td>...</td>\n",
       "      <td>NaN</td>\n",
       "      <td>10805.0</td>\n",
       "      <td>NaN</td>\n",
       "      <td>0.45888</td>\n",
       "      <td>NaN</td>\n",
       "      <td>463938.0</td>\n",
       "      <td>NaN</td>\n",
       "      <td>NaN</td>\n",
       "      <td>NaN</td>\n",
       "      <td>234576.9</td>\n",
       "    </tr>\n",
       "    <tr>\n",
       "      <th>1</th>\n",
       "      <td>30475</td>\n",
       "      <td>2015-07-01</td>\n",
       "      <td>79.2</td>\n",
       "      <td>NaN</td>\n",
       "      <td>8</td>\n",
       "      <td>17</td>\n",
       "      <td>1</td>\n",
       "      <td>0.0</td>\n",
       "      <td>3</td>\n",
       "      <td>1.0</td>\n",
       "      <td>...</td>\n",
       "      <td>NaN</td>\n",
       "      <td>10805.0</td>\n",
       "      <td>NaN</td>\n",
       "      <td>0.45888</td>\n",
       "      <td>NaN</td>\n",
       "      <td>463938.0</td>\n",
       "      <td>NaN</td>\n",
       "      <td>NaN</td>\n",
       "      <td>NaN</td>\n",
       "      <td>234576.9</td>\n",
       "    </tr>\n",
       "    <tr>\n",
       "      <th>2</th>\n",
       "      <td>30476</td>\n",
       "      <td>2015-07-01</td>\n",
       "      <td>40.5</td>\n",
       "      <td>25.1</td>\n",
       "      <td>3</td>\n",
       "      <td>5</td>\n",
       "      <td>2</td>\n",
       "      <td>1960.0</td>\n",
       "      <td>2</td>\n",
       "      <td>4.8</td>\n",
       "      <td>...</td>\n",
       "      <td>NaN</td>\n",
       "      <td>10805.0</td>\n",
       "      <td>NaN</td>\n",
       "      <td>0.45888</td>\n",
       "      <td>NaN</td>\n",
       "      <td>463938.0</td>\n",
       "      <td>NaN</td>\n",
       "      <td>NaN</td>\n",
       "      <td>NaN</td>\n",
       "      <td>234576.9</td>\n",
       "    </tr>\n",
       "    <tr>\n",
       "      <th>3</th>\n",
       "      <td>30477</td>\n",
       "      <td>2015-07-01</td>\n",
       "      <td>62.8</td>\n",
       "      <td>36.0</td>\n",
       "      <td>17</td>\n",
       "      <td>17</td>\n",
       "      <td>1</td>\n",
       "      <td>2016.0</td>\n",
       "      <td>2</td>\n",
       "      <td>62.8</td>\n",
       "      <td>...</td>\n",
       "      <td>NaN</td>\n",
       "      <td>10805.0</td>\n",
       "      <td>NaN</td>\n",
       "      <td>0.45888</td>\n",
       "      <td>NaN</td>\n",
       "      <td>463938.0</td>\n",
       "      <td>NaN</td>\n",
       "      <td>NaN</td>\n",
       "      <td>NaN</td>\n",
       "      <td>234576.9</td>\n",
       "    </tr>\n",
       "    <tr>\n",
       "      <th>4</th>\n",
       "      <td>30478</td>\n",
       "      <td>2015-07-01</td>\n",
       "      <td>40.0</td>\n",
       "      <td>40.0</td>\n",
       "      <td>17</td>\n",
       "      <td>17</td>\n",
       "      <td>1</td>\n",
       "      <td>0.0</td>\n",
       "      <td>1</td>\n",
       "      <td>1.0</td>\n",
       "      <td>...</td>\n",
       "      <td>NaN</td>\n",
       "      <td>10805.0</td>\n",
       "      <td>NaN</td>\n",
       "      <td>0.45888</td>\n",
       "      <td>NaN</td>\n",
       "      <td>463938.0</td>\n",
       "      <td>NaN</td>\n",
       "      <td>NaN</td>\n",
       "      <td>NaN</td>\n",
       "      <td>234576.9</td>\n",
       "    </tr>\n",
       "  </tbody>\n",
       "</table>\n",
       "<p>5 rows × 390 columns</p>\n",
       "</div>"
      ],
      "text/plain": [
       "      id   timestamp  full_sq  life_sq  floor  max_floor  material  \\\n",
       "0  30474  2015-07-01     39.0     20.7      2          9         1   \n",
       "1  30475  2015-07-01     79.2      NaN      8         17         1   \n",
       "2  30476  2015-07-01     40.5     25.1      3          5         2   \n",
       "3  30477  2015-07-01     62.8     36.0     17         17         1   \n",
       "4  30478  2015-07-01     40.0     40.0     17         17         1   \n",
       "\n",
       "   build_year  num_room  kitch_sq         ...          \\\n",
       "0      1998.0         1       8.9         ...           \n",
       "1         0.0         3       1.0         ...           \n",
       "2      1960.0         2       4.8         ...           \n",
       "3      2016.0         2      62.8         ...           \n",
       "4         0.0         1       1.0         ...           \n",
       "\n",
       "   provision_retail_space_modern_sqm turnover_catering_per_cap  \\\n",
       "0                                NaN                   10805.0   \n",
       "1                                NaN                   10805.0   \n",
       "2                                NaN                   10805.0   \n",
       "3                                NaN                   10805.0   \n",
       "4                                NaN                   10805.0   \n",
       "\n",
       "  theaters_viewers_per_1000_cap  seats_theather_rfmin_per_100000_cap  \\\n",
       "0                           NaN                              0.45888   \n",
       "1                           NaN                              0.45888   \n",
       "2                           NaN                              0.45888   \n",
       "3                           NaN                              0.45888   \n",
       "4                           NaN                              0.45888   \n",
       "\n",
       "   museum_visitis_per_100_cap  bandwidth_sports  population_reg_sports_share  \\\n",
       "0                         NaN          463938.0                          NaN   \n",
       "1                         NaN          463938.0                          NaN   \n",
       "2                         NaN          463938.0                          NaN   \n",
       "3                         NaN          463938.0                          NaN   \n",
       "4                         NaN          463938.0                          NaN   \n",
       "\n",
       "   students_reg_sports_share  apartment_build  apartment_fund_sqm  \n",
       "0                        NaN              NaN            234576.9  \n",
       "1                        NaN              NaN            234576.9  \n",
       "2                        NaN              NaN            234576.9  \n",
       "3                        NaN              NaN            234576.9  \n",
       "4                        NaN              NaN            234576.9  \n",
       "\n",
       "[5 rows x 390 columns]"
      ]
     },
     "execution_count": 185,
     "metadata": {},
     "output_type": "execute_result"
    }
   ],
   "source": [
    "final_kaggle_df.head()"
   ]
  },
  {
   "cell_type": "code",
   "execution_count": 186,
   "metadata": {
    "collapsed": true,
    "deletable": true,
    "editable": true
   },
   "outputs": [],
   "source": [
    "final_kaggle_df = prepare_dataset(final_kaggle_df)"
   ]
  },
  {
   "cell_type": "code",
   "execution_count": 187,
   "metadata": {
    "collapsed": true,
    "deletable": true,
    "editable": true
   },
   "outputs": [],
   "source": [
    "for continuous_norm_col in normalize_columns:\n",
    "    scaler = norm_scalers[continuous_norm_col]\n",
    "    scaled_values = scaler.transform(final_kaggle_df[[continuous_norm_col]].values)\n",
    "    final_kaggle_df[continuous_norm_col + \"_scaled_feature\"] = scaled_values"
   ]
  },
  {
   "cell_type": "code",
   "execution_count": 188,
   "metadata": {
    "collapsed": true,
    "deletable": true,
    "editable": true
   },
   "outputs": [],
   "source": [
    "for one_hot_col in one_hot_cols:\n",
    "    l_scaler = ont_hot_scalers[one_hot_col][0]\n",
    "    scaler = ont_hot_scalers[one_hot_col][1]\n",
    "    r = l_scaler.transform(final_kaggle_df[[one_hot_col]].values)\n",
    "    r = np.expand_dims(r, axis=1)\n",
    "    scaled_values = scaler.transform(r)\n",
    "    final_kaggle_df[one_hot_col + \"_scaled_feature\"] = list(scaled_values)"
   ]
  },
  {
   "cell_type": "code",
   "execution_count": 189,
   "metadata": {
    "collapsed": true,
    "deletable": true,
    "editable": true
   },
   "outputs": [],
   "source": [
    "for label_col in label_cols:\n",
    "    label_enc = label_scalers[label_col]\n",
    "    encoded_values = label_enc.transform(final_kaggle_df[[label_col]].values)\n",
    "    final_kaggle_df[label_col + \"_scaled_feature\"] = encoded_values"
   ]
  },
  {
   "cell_type": "code",
   "execution_count": 190,
   "metadata": {
    "collapsed": false,
    "deletable": true,
    "editable": true
   },
   "outputs": [
    {
     "data": {
      "text/plain": [
       "['micex_cbi_tr_scaled_feature',\n",
       " 'unemployment_scaled_feature',\n",
       " 'apartment_build_scaled_feature',\n",
       " 'railroad_station_avto_min_scaled_feature',\n",
       " 'rts_scaled_feature',\n",
       " 'pop_migration_scaled_feature',\n",
       " 'work_all_scaled_feature',\n",
       " 'max_floor_scaled_feature',\n",
       " 'housing_fund_sqm_scaled_feature',\n",
       " 'heating_share_scaled_feature',\n",
       " 'catering_km_scaled_feature',\n",
       " 'zd_vokzaly_avto_km_scaled_feature',\n",
       " 'mortality_scaled_feature',\n",
       " 'water_km_scaled_feature',\n",
       " 'green_part_1000_scaled_feature',\n",
       " 'deposits_rate_scaled_feature',\n",
       " 'park_km_scaled_feature',\n",
       " 'big_road1_km_scaled_feature',\n",
       " 'hospice_morgue_km_scaled_feature',\n",
       " 'metro_km_avto_scaled_feature',\n",
       " 'ekder_male_scaled_feature',\n",
       " 'female_f_scaled_feature',\n",
       " 'deposits_growth_scaled_feature',\n",
       " 'usdrub_scaled_feature',\n",
       " 'deposits_value_scaled_feature',\n",
       " 'gdp_annual_growth_scaled_feature',\n",
       " 'big_church_km_scaled_feature',\n",
       " 'exhibition_km_scaled_feature',\n",
       " 'area_m_scaled_feature',\n",
       " 'young_male_scaled_feature',\n",
       " 'ekder_all_scaled_feature',\n",
       " 'divorce_rate_scaled_feature',\n",
       " 'employment_scaled_feature',\n",
       " 'hot_water_share_scaled_feature',\n",
       " 'brent_scaled_feature',\n",
       " 'income_per_cap_scaled_feature',\n",
       " 'incineration_km_scaled_feature',\n",
       " 'full_sq_scaled_feature',\n",
       " 'mosque_km_scaled_feature',\n",
       " 'rent_price_3room_eco_scaled_feature',\n",
       " 'industrial_km_scaled_feature',\n",
       " 'real_dispos_income_per_cap_growth_scaled_feature',\n",
       " 'young_all_scaled_feature',\n",
       " 'work_male_scaled_feature',\n",
       " 'childbirth_scaled_feature',\n",
       " 'mortgage_growth_scaled_feature',\n",
       " 'power_transmission_line_km_scaled_feature',\n",
       " 'water_treatment_km_scaled_feature',\n",
       " 'university_km_scaled_feature',\n",
       " 'church_synagogue_km_scaled_feature',\n",
       " 'construction_value_scaled_feature',\n",
       " 'mortgage_value_scaled_feature',\n",
       " 'green_zone_km_scaled_feature',\n",
       " 'indust_part_scaled_feature',\n",
       " 'pop_natural_increase_scaled_feature',\n",
       " 'timestamp_month_scaled_feature',\n",
       " 'metro_min_avto_scaled_feature',\n",
       " 'oil_urals_scaled_feature',\n",
       " 'ppi_scaled_feature',\n",
       " 'labor_force_scaled_feature',\n",
       " 'timestamp_year_scaled_feature',\n",
       " 'work_female_scaled_feature',\n",
       " 'railroad_km_scaled_feature',\n",
       " 'mortgage_rate_scaled_feature',\n",
       " 'oil_chemistry_km_scaled_feature',\n",
       " 'nuclear_reactor_km_scaled_feature',\n",
       " 'public_transport_station_km_scaled_feature',\n",
       " 'timestamp_day_scaled_feature',\n",
       " 'green_part_1500_scaled_feature',\n",
       " 'old_house_share_scaled_feature',\n",
       " 'rent_price_2room_eco_scaled_feature',\n",
       " 'water_pipes_share_scaled_feature',\n",
       " 'ttk_km_scaled_feature',\n",
       " 'build_year_scaled_feature',\n",
       " 'life_sq_scaled_feature',\n",
       " 'baths_share_scaled_feature',\n",
       " 'additional_education_km_scaled_feature',\n",
       " 'rent_price_1room_bus_scaled_feature',\n",
       " 'kindergarten_km_scaled_feature',\n",
       " 'average_provision_of_build_contract_scaled_feature',\n",
       " 'gdp_quart_growth_scaled_feature',\n",
       " 'salary_growth_scaled_feature',\n",
       " 'gas_share_scaled_feature',\n",
       " 'gdp_quart_scaled_feature',\n",
       " 'num_room_scaled_feature',\n",
       " 'cemetery_km_scaled_feature',\n",
       " 'big_road2_km_scaled_feature',\n",
       " 'young_female_scaled_feature',\n",
       " 'incidence_population_scaled_feature',\n",
       " 'gdp_deflator_scaled_feature',\n",
       " 'ekder_female_scaled_feature',\n",
       " 'pop_total_inc_scaled_feature',\n",
       " 'kitch_sq_scaled_feature',\n",
       " 'rent_price_2room_bus_scaled_feature',\n",
       " 'grp_growth_scaled_feature',\n",
       " 'swim_pool_km_scaled_feature',\n",
       " 'gdp_annual_scaled_feature',\n",
       " 'grp_scaled_feature',\n",
       " 'floor_scaled_feature',\n",
       " 'lodging_sqm_per_cap_scaled_feature',\n",
       " 'school_km_scaled_feature',\n",
       " 'rent_price_1room_eco_scaled_feature',\n",
       " 'public_healthcare_km_scaled_feature',\n",
       " 'ts_km_scaled_feature',\n",
       " 'sewerage_share_scaled_feature',\n",
       " 'shopping_centers_km_scaled_feature',\n",
       " 'male_f_scaled_feature',\n",
       " 'preschool_km_scaled_feature',\n",
       " 'apartment_fund_sqm_scaled_feature',\n",
       " 'electric_stove_share_scaled_feature',\n",
       " 'salary_scaled_feature',\n",
       " 'cpi_scaled_feature',\n",
       " 'rent_price_4+room_bus_scaled_feature',\n",
       " 'micex_scaled_feature',\n",
       " 'rent_price_3room_bus_scaled_feature',\n",
       " 'average_provision_of_build_contract_moscow_scaled_feature',\n",
       " 'average_life_exp_scaled_feature',\n",
       " 'marriages_per_1000_cap_scaled_feature',\n",
       " 'material_scaled_feature',\n",
       " 'state_refractored_scaled_feature',\n",
       " 'sub_area_scaled_feature',\n",
       " 'big_market_raion_scaled_feature',\n",
       " 'nuclear_reactor_raion_scaled_feature',\n",
       " 'thermal_power_plant_raion_scaled_feature',\n",
       " 'detention_facility_raion_scaled_feature',\n",
       " 'full_all_scaled_feature',\n",
       " 'shopping_centers_raion_scaled_feature',\n",
       " 'office_raion_scaled_feature',\n",
       " 'healthcare_centers_raion_scaled_feature',\n",
       " 'university_top_20_raion_scaled_feature']"
      ]
     },
     "execution_count": 190,
     "metadata": {},
     "output_type": "execute_result"
    }
   ],
   "source": [
    "[c for c in final_kaggle_df.columns.tolist() if \"_scaled_feature\" in c]"
   ]
  },
  {
   "cell_type": "code",
   "execution_count": 191,
   "metadata": {
    "collapsed": false,
    "deletable": true,
    "editable": true
   },
   "outputs": [],
   "source": [
    "kaggle_temporal_features, kaggle_property_features, kaggle_locality_features, kaggle_economy_features, kaggle_population_features, kaggle_categorical_features = format_input(final_kaggle_df)\n",
    "kaggle_preds = real_estate_price_model.predict(x={\n",
    "    'temporal_input' : kaggle_temporal_features,\n",
    "    'property_input' : kaggle_property_features,\n",
    "    'locality_input' : kaggle_locality_features,\n",
    "    'economy_input' : kaggle_economy_features,\n",
    "    'population_input' : kaggle_population_features,\n",
    "    'state_input' : kaggle_categorical_features['state_refractored'],\n",
    "    'material_input' : kaggle_categorical_features['material'],\n",
    "    'sub_area_input' : kaggle_categorical_features['sub_area']})"
   ]
  },
  {
   "cell_type": "code",
   "execution_count": 192,
   "metadata": {
    "collapsed": false,
    "deletable": true,
    "editable": true
   },
   "outputs": [],
   "source": [
    "final_kaggle_df['price_doc'] = kaggle_preds"
   ]
  },
  {
   "cell_type": "code",
   "execution_count": 193,
   "metadata": {
    "collapsed": false,
    "deletable": true,
    "editable": true
   },
   "outputs": [
    {
     "data": {
      "text/plain": [
       "0        6091260.0\n",
       "1        7621912.0\n",
       "2        5901579.5\n",
       "3        7160403.0\n",
       "4        5148064.0\n",
       "5        8885802.0\n",
       "6        4799355.0\n",
       "7        4075868.0\n",
       "8        5328503.0\n",
       "9        4843736.0\n",
       "10       6873499.0\n",
       "11       4890808.0\n",
       "12       4357015.0\n",
       "13       4411308.0\n",
       "14       5515977.5\n",
       "15       6245361.0\n",
       "16      12693578.0\n",
       "17      13694822.0\n",
       "18       6223145.5\n",
       "19      12390278.0\n",
       "20       6895234.0\n",
       "21       8917516.0\n",
       "22       8090024.0\n",
       "23       8483940.0\n",
       "24       5255595.0\n",
       "25      10034618.0\n",
       "26      10508640.0\n",
       "27       7819937.0\n",
       "28       3144108.0\n",
       "29       7716635.5\n",
       "           ...    \n",
       "7632    35145488.0\n",
       "7633    34686472.0\n",
       "7634    37453340.0\n",
       "7635    35543336.0\n",
       "7636    34921200.0\n",
       "7637    35086264.0\n",
       "7638    34785384.0\n",
       "7639    35598932.0\n",
       "7640    35557420.0\n",
       "7641    34417004.0\n",
       "7642    36356344.0\n",
       "7643    35481448.0\n",
       "7644    36443536.0\n",
       "7645    34557164.0\n",
       "7646    36116244.0\n",
       "7647    36303456.0\n",
       "7648    36367688.0\n",
       "7649    35612724.0\n",
       "7650    35585164.0\n",
       "7651    35875512.0\n",
       "7652    36600544.0\n",
       "7653    36096352.0\n",
       "7654    33643944.0\n",
       "7655    34550292.0\n",
       "7656    35135824.0\n",
       "7657    36332480.0\n",
       "7658    35188104.0\n",
       "7659    34919344.0\n",
       "7660    35693288.0\n",
       "7661    36397440.0\n",
       "Name: price_doc, dtype: float32"
      ]
     },
     "execution_count": 193,
     "metadata": {},
     "output_type": "execute_result"
    }
   ],
   "source": [
    "final_kaggle_df['price_doc']"
   ]
  },
  {
   "cell_type": "code",
   "execution_count": 194,
   "metadata": {
    "collapsed": false,
    "deletable": true,
    "editable": true
   },
   "outputs": [
    {
     "data": {
      "text/html": [
       "<div>\n",
       "<table border=\"1\" class=\"dataframe\">\n",
       "  <thead>\n",
       "    <tr style=\"text-align: right;\">\n",
       "      <th></th>\n",
       "      <th>id</th>\n",
       "      <th>price_doc</th>\n",
       "    </tr>\n",
       "  </thead>\n",
       "  <tbody>\n",
       "    <tr>\n",
       "      <th>0</th>\n",
       "      <td>30474</td>\n",
       "      <td>6091260.0</td>\n",
       "    </tr>\n",
       "    <tr>\n",
       "      <th>1</th>\n",
       "      <td>30475</td>\n",
       "      <td>7621912.0</td>\n",
       "    </tr>\n",
       "    <tr>\n",
       "      <th>2</th>\n",
       "      <td>30476</td>\n",
       "      <td>5901579.5</td>\n",
       "    </tr>\n",
       "    <tr>\n",
       "      <th>3</th>\n",
       "      <td>30477</td>\n",
       "      <td>7160403.0</td>\n",
       "    </tr>\n",
       "    <tr>\n",
       "      <th>4</th>\n",
       "      <td>30478</td>\n",
       "      <td>5148064.0</td>\n",
       "    </tr>\n",
       "    <tr>\n",
       "      <th>5</th>\n",
       "      <td>30479</td>\n",
       "      <td>8885802.0</td>\n",
       "    </tr>\n",
       "    <tr>\n",
       "      <th>6</th>\n",
       "      <td>30480</td>\n",
       "      <td>4799355.0</td>\n",
       "    </tr>\n",
       "    <tr>\n",
       "      <th>7</th>\n",
       "      <td>30481</td>\n",
       "      <td>4075868.0</td>\n",
       "    </tr>\n",
       "    <tr>\n",
       "      <th>8</th>\n",
       "      <td>30482</td>\n",
       "      <td>5328503.0</td>\n",
       "    </tr>\n",
       "    <tr>\n",
       "      <th>9</th>\n",
       "      <td>30483</td>\n",
       "      <td>4843736.0</td>\n",
       "    </tr>\n",
       "    <tr>\n",
       "      <th>10</th>\n",
       "      <td>30484</td>\n",
       "      <td>6873499.0</td>\n",
       "    </tr>\n",
       "    <tr>\n",
       "      <th>11</th>\n",
       "      <td>30485</td>\n",
       "      <td>4890808.0</td>\n",
       "    </tr>\n",
       "    <tr>\n",
       "      <th>12</th>\n",
       "      <td>30486</td>\n",
       "      <td>4357015.0</td>\n",
       "    </tr>\n",
       "    <tr>\n",
       "      <th>13</th>\n",
       "      <td>30487</td>\n",
       "      <td>4411308.0</td>\n",
       "    </tr>\n",
       "    <tr>\n",
       "      <th>14</th>\n",
       "      <td>30488</td>\n",
       "      <td>5515977.5</td>\n",
       "    </tr>\n",
       "    <tr>\n",
       "      <th>15</th>\n",
       "      <td>30489</td>\n",
       "      <td>6245361.0</td>\n",
       "    </tr>\n",
       "    <tr>\n",
       "      <th>16</th>\n",
       "      <td>30490</td>\n",
       "      <td>12693578.0</td>\n",
       "    </tr>\n",
       "    <tr>\n",
       "      <th>17</th>\n",
       "      <td>30491</td>\n",
       "      <td>13694822.0</td>\n",
       "    </tr>\n",
       "    <tr>\n",
       "      <th>18</th>\n",
       "      <td>30492</td>\n",
       "      <td>6223145.5</td>\n",
       "    </tr>\n",
       "    <tr>\n",
       "      <th>19</th>\n",
       "      <td>30493</td>\n",
       "      <td>12390278.0</td>\n",
       "    </tr>\n",
       "    <tr>\n",
       "      <th>20</th>\n",
       "      <td>30494</td>\n",
       "      <td>6895234.0</td>\n",
       "    </tr>\n",
       "    <tr>\n",
       "      <th>21</th>\n",
       "      <td>30495</td>\n",
       "      <td>8917516.0</td>\n",
       "    </tr>\n",
       "    <tr>\n",
       "      <th>22</th>\n",
       "      <td>30496</td>\n",
       "      <td>8090024.0</td>\n",
       "    </tr>\n",
       "    <tr>\n",
       "      <th>23</th>\n",
       "      <td>30497</td>\n",
       "      <td>8483940.0</td>\n",
       "    </tr>\n",
       "    <tr>\n",
       "      <th>24</th>\n",
       "      <td>30498</td>\n",
       "      <td>5255595.0</td>\n",
       "    </tr>\n",
       "    <tr>\n",
       "      <th>25</th>\n",
       "      <td>30499</td>\n",
       "      <td>10034618.0</td>\n",
       "    </tr>\n",
       "    <tr>\n",
       "      <th>26</th>\n",
       "      <td>30500</td>\n",
       "      <td>10508640.0</td>\n",
       "    </tr>\n",
       "    <tr>\n",
       "      <th>27</th>\n",
       "      <td>30501</td>\n",
       "      <td>7819937.0</td>\n",
       "    </tr>\n",
       "    <tr>\n",
       "      <th>28</th>\n",
       "      <td>30502</td>\n",
       "      <td>3144108.0</td>\n",
       "    </tr>\n",
       "    <tr>\n",
       "      <th>29</th>\n",
       "      <td>30503</td>\n",
       "      <td>7716635.5</td>\n",
       "    </tr>\n",
       "    <tr>\n",
       "      <th>...</th>\n",
       "      <td>...</td>\n",
       "      <td>...</td>\n",
       "    </tr>\n",
       "    <tr>\n",
       "      <th>7632</th>\n",
       "      <td>38106</td>\n",
       "      <td>35145488.0</td>\n",
       "    </tr>\n",
       "    <tr>\n",
       "      <th>7633</th>\n",
       "      <td>38107</td>\n",
       "      <td>34686472.0</td>\n",
       "    </tr>\n",
       "    <tr>\n",
       "      <th>7634</th>\n",
       "      <td>38108</td>\n",
       "      <td>37453340.0</td>\n",
       "    </tr>\n",
       "    <tr>\n",
       "      <th>7635</th>\n",
       "      <td>38109</td>\n",
       "      <td>35543336.0</td>\n",
       "    </tr>\n",
       "    <tr>\n",
       "      <th>7636</th>\n",
       "      <td>38110</td>\n",
       "      <td>34921200.0</td>\n",
       "    </tr>\n",
       "    <tr>\n",
       "      <th>7637</th>\n",
       "      <td>38111</td>\n",
       "      <td>35086264.0</td>\n",
       "    </tr>\n",
       "    <tr>\n",
       "      <th>7638</th>\n",
       "      <td>38112</td>\n",
       "      <td>34785384.0</td>\n",
       "    </tr>\n",
       "    <tr>\n",
       "      <th>7639</th>\n",
       "      <td>38113</td>\n",
       "      <td>35598932.0</td>\n",
       "    </tr>\n",
       "    <tr>\n",
       "      <th>7640</th>\n",
       "      <td>38114</td>\n",
       "      <td>35557420.0</td>\n",
       "    </tr>\n",
       "    <tr>\n",
       "      <th>7641</th>\n",
       "      <td>38115</td>\n",
       "      <td>34417004.0</td>\n",
       "    </tr>\n",
       "    <tr>\n",
       "      <th>7642</th>\n",
       "      <td>38116</td>\n",
       "      <td>36356344.0</td>\n",
       "    </tr>\n",
       "    <tr>\n",
       "      <th>7643</th>\n",
       "      <td>38117</td>\n",
       "      <td>35481448.0</td>\n",
       "    </tr>\n",
       "    <tr>\n",
       "      <th>7644</th>\n",
       "      <td>38118</td>\n",
       "      <td>36443536.0</td>\n",
       "    </tr>\n",
       "    <tr>\n",
       "      <th>7645</th>\n",
       "      <td>38119</td>\n",
       "      <td>34557164.0</td>\n",
       "    </tr>\n",
       "    <tr>\n",
       "      <th>7646</th>\n",
       "      <td>38120</td>\n",
       "      <td>36116244.0</td>\n",
       "    </tr>\n",
       "    <tr>\n",
       "      <th>7647</th>\n",
       "      <td>38121</td>\n",
       "      <td>36303456.0</td>\n",
       "    </tr>\n",
       "    <tr>\n",
       "      <th>7648</th>\n",
       "      <td>38122</td>\n",
       "      <td>36367688.0</td>\n",
       "    </tr>\n",
       "    <tr>\n",
       "      <th>7649</th>\n",
       "      <td>38123</td>\n",
       "      <td>35612724.0</td>\n",
       "    </tr>\n",
       "    <tr>\n",
       "      <th>7650</th>\n",
       "      <td>38124</td>\n",
       "      <td>35585164.0</td>\n",
       "    </tr>\n",
       "    <tr>\n",
       "      <th>7651</th>\n",
       "      <td>38125</td>\n",
       "      <td>35875512.0</td>\n",
       "    </tr>\n",
       "    <tr>\n",
       "      <th>7652</th>\n",
       "      <td>38126</td>\n",
       "      <td>36600544.0</td>\n",
       "    </tr>\n",
       "    <tr>\n",
       "      <th>7653</th>\n",
       "      <td>38127</td>\n",
       "      <td>36096352.0</td>\n",
       "    </tr>\n",
       "    <tr>\n",
       "      <th>7654</th>\n",
       "      <td>38128</td>\n",
       "      <td>33643944.0</td>\n",
       "    </tr>\n",
       "    <tr>\n",
       "      <th>7655</th>\n",
       "      <td>38129</td>\n",
       "      <td>34550292.0</td>\n",
       "    </tr>\n",
       "    <tr>\n",
       "      <th>7656</th>\n",
       "      <td>38130</td>\n",
       "      <td>35135824.0</td>\n",
       "    </tr>\n",
       "    <tr>\n",
       "      <th>7657</th>\n",
       "      <td>38131</td>\n",
       "      <td>36332480.0</td>\n",
       "    </tr>\n",
       "    <tr>\n",
       "      <th>7658</th>\n",
       "      <td>38132</td>\n",
       "      <td>35188104.0</td>\n",
       "    </tr>\n",
       "    <tr>\n",
       "      <th>7659</th>\n",
       "      <td>38133</td>\n",
       "      <td>34919344.0</td>\n",
       "    </tr>\n",
       "    <tr>\n",
       "      <th>7660</th>\n",
       "      <td>38134</td>\n",
       "      <td>35693288.0</td>\n",
       "    </tr>\n",
       "    <tr>\n",
       "      <th>7661</th>\n",
       "      <td>38135</td>\n",
       "      <td>36397440.0</td>\n",
       "    </tr>\n",
       "  </tbody>\n",
       "</table>\n",
       "<p>7662 rows × 2 columns</p>\n",
       "</div>"
      ],
      "text/plain": [
       "         id   price_doc\n",
       "0     30474   6091260.0\n",
       "1     30475   7621912.0\n",
       "2     30476   5901579.5\n",
       "3     30477   7160403.0\n",
       "4     30478   5148064.0\n",
       "5     30479   8885802.0\n",
       "6     30480   4799355.0\n",
       "7     30481   4075868.0\n",
       "8     30482   5328503.0\n",
       "9     30483   4843736.0\n",
       "10    30484   6873499.0\n",
       "11    30485   4890808.0\n",
       "12    30486   4357015.0\n",
       "13    30487   4411308.0\n",
       "14    30488   5515977.5\n",
       "15    30489   6245361.0\n",
       "16    30490  12693578.0\n",
       "17    30491  13694822.0\n",
       "18    30492   6223145.5\n",
       "19    30493  12390278.0\n",
       "20    30494   6895234.0\n",
       "21    30495   8917516.0\n",
       "22    30496   8090024.0\n",
       "23    30497   8483940.0\n",
       "24    30498   5255595.0\n",
       "25    30499  10034618.0\n",
       "26    30500  10508640.0\n",
       "27    30501   7819937.0\n",
       "28    30502   3144108.0\n",
       "29    30503   7716635.5\n",
       "...     ...         ...\n",
       "7632  38106  35145488.0\n",
       "7633  38107  34686472.0\n",
       "7634  38108  37453340.0\n",
       "7635  38109  35543336.0\n",
       "7636  38110  34921200.0\n",
       "7637  38111  35086264.0\n",
       "7638  38112  34785384.0\n",
       "7639  38113  35598932.0\n",
       "7640  38114  35557420.0\n",
       "7641  38115  34417004.0\n",
       "7642  38116  36356344.0\n",
       "7643  38117  35481448.0\n",
       "7644  38118  36443536.0\n",
       "7645  38119  34557164.0\n",
       "7646  38120  36116244.0\n",
       "7647  38121  36303456.0\n",
       "7648  38122  36367688.0\n",
       "7649  38123  35612724.0\n",
       "7650  38124  35585164.0\n",
       "7651  38125  35875512.0\n",
       "7652  38126  36600544.0\n",
       "7653  38127  36096352.0\n",
       "7654  38128  33643944.0\n",
       "7655  38129  34550292.0\n",
       "7656  38130  35135824.0\n",
       "7657  38131  36332480.0\n",
       "7658  38132  35188104.0\n",
       "7659  38133  34919344.0\n",
       "7660  38134  35693288.0\n",
       "7661  38135  36397440.0\n",
       "\n",
       "[7662 rows x 2 columns]"
      ]
     },
     "execution_count": 194,
     "metadata": {},
     "output_type": "execute_result"
    }
   ],
   "source": [
    "final_kaggle_df[['id', 'price_doc']]"
   ]
  },
  {
   "cell_type": "code",
   "execution_count": 195,
   "metadata": {
    "collapsed": true,
    "deletable": true,
    "editable": true
   },
   "outputs": [],
   "source": [
    "final_kaggle_df[['id', 'price_doc']].to_csv(\"/mnt/h/Kaggle/Competitions/Russian Bank/models/v\" + str(version) + \"/submission.csv\", index=False) # output submission csv file"
   ]
  },
  {
   "cell_type": "code",
   "execution_count": null,
   "metadata": {
    "collapsed": true
   },
   "outputs": [],
   "source": []
  }
 ],
 "metadata": {
  "kernelspec": {
   "display_name": "Python 2",
   "language": "python",
   "name": "python2"
  },
  "language_info": {
   "codemirror_mode": {
    "name": "ipython",
    "version": 2
   },
   "file_extension": ".py",
   "mimetype": "text/x-python",
   "name": "python",
   "nbconvert_exporter": "python",
   "pygments_lexer": "ipython2",
   "version": "2.7.6"
  }
 },
 "nbformat": 4,
 "nbformat_minor": 2
}
