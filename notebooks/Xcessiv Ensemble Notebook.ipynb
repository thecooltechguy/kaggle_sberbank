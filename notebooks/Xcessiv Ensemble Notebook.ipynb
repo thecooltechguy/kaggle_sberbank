{
 "cells": [
  {
   "cell_type": "code",
   "execution_count": 3,
   "metadata": {
    "collapsed": true
   },
   "outputs": [],
   "source": [
    "import pandas as pd\n",
    "\n",
    "LABEL = \"price_doc\"\n",
    "\n",
    "def extract_main_dataset():\n",
    "    global LABEL\n",
    "      \n",
    "    drop_id = True\n",
    "    drop_cols = []\n",
    "    \n",
    "    if drop_id:\n",
    "        drop_cols.append('id')\n",
    "    \n",
    "    train_csv = \"/mnt/h/Kaggle/Competitions/Russian Bank/data/train.csv/train.csv\"\n",
    "    test_csv = \"/mnt/h/Kaggle/Competitions/Russian Bank/data/test.csv/test.csv\"\n",
    "    macro_csv = \"/mnt/h/Kaggle/Competitions/Russian Bank/data/macro.csv/macro.csv\"\n",
    "    fixup_file = \"/mnt/h/Kaggle/Competitions/Russian Bank/data/BAD_ADDRESS_FIX.xlsx\"\n",
    "    \n",
    "    train_df = pd.read_csv(train_csv).set_index('id')\n",
    "\n",
    "    test_df = pd.read_csv(test_csv).set_index('id')\n",
    "    macro_df = pd.read_csv(macro_csv)\n",
    "    \n",
    "    df_fixup = pd.read_excel(fixup_file)\n",
    "    df_fixup.set_index('id', inplace=True)\n",
    "    \n",
    "    fix_train_indexset = set(df_fixup[df_fixup.index < train_df.index.max()].index)\n",
    "    bad_train_indexset = set(train_df[train_df.kremlin_km == train_df.kremlin_km.min()].index)\n",
    "    unfixed_set = bad_train_indexset.difference(fix_train_indexset)\n",
    "\n",
    "    train_df.drop(unfixed_set, inplace=True)\n",
    "\n",
    "    df = pd.concat([train_df, test_df])\n",
    "\n",
    "\t# There should be a call to do this, I just don't know it ;) \n",
    "    # - edit:  update might be able to do it, but I think the columns would have to be NaN'd out before it works.  \n",
    "    # So these two lines can stay IMO...\n",
    "    for c in df_fixup.columns:\n",
    "        df.loc[df_fixup.index, c] = df_fixup[c]\n",
    "        \n",
    "    df_fixed = df\n",
    "    df_fixed.reset_index(inplace=True)\n",
    "    # Merge in macroeconomy features\n",
    "    df_fixed = pd.merge(df_fixed, macro_df, on='timestamp')\n",
    "    df_fixed = df_fixed.drop(['timestamp'], axis=1)\n",
    "\n",
    "    \n",
    "    # One-hot encode categorical columns\n",
    "    df_fixed = pd.get_dummies(df_fixed)\n",
    "    \n",
    "    train = df_fixed[df_fixed.price_doc.notnull()]\n",
    "    test = df_fixed[df_fixed.price_doc.isnull()].drop(LABEL, axis=1)\n",
    "    \n",
    "    return train.drop(drop_cols, axis=1), train[LABEL]"
   ]
  },
  {
   "cell_type": "code",
   "execution_count": null,
   "metadata": {},
   "outputs": [],
   "source": [
    "extract_main_dataset()[0]"
   ]
  }
 ],
 "metadata": {
  "kernelspec": {
   "display_name": "Python 2",
   "language": "python",
   "name": "python2"
  },
  "language_info": {
   "codemirror_mode": {
    "name": "ipython",
    "version": 2
   },
   "file_extension": ".py",
   "mimetype": "text/x-python",
   "name": "python",
   "nbconvert_exporter": "python",
   "pygments_lexer": "ipython2",
   "version": "2.7.6"
  }
 },
 "nbformat": 4,
 "nbformat_minor": 2
}
