{
 "cells": [
  {
   "cell_type": "code",
   "execution_count": 1,
   "metadata": {
    "collapsed": true
   },
   "outputs": [],
   "source": [
    "import pandas as pd, numpy as np"
   ]
  },
  {
   "cell_type": "code",
   "execution_count": 2,
   "metadata": {
    "collapsed": true
   },
   "outputs": [],
   "source": [
    "%matplotlib inline"
   ]
  },
  {
   "cell_type": "markdown",
   "metadata": {},
   "source": [
    "## Import data"
   ]
  },
  {
   "cell_type": "code",
   "execution_count": 3,
   "metadata": {
    "collapsed": true
   },
   "outputs": [],
   "source": [
    "train_df = pd.read_csv(\"../data/train.csv/train.csv\", index_col='id', parse_dates=['timestamp'])\n",
    "test_df = pd.read_csv(\"../data/test.csv/test.csv\", index_col='id', parse_dates=['timestamp'])\n",
    "macro_df = pd.read_csv(\"../data/macro.csv/macro.csv\", parse_dates=['timestamp'])"
   ]
  },
  {
   "cell_type": "markdown",
   "metadata": {},
   "source": [
    "### Incorporate the data fixes into the training set\n",
    "\n",
    "**Note:** We also need to decide whether we should actually incorporate this updated extra data into the training set when creating and implementing new models..."
   ]
  },
  {
   "cell_type": "code",
   "execution_count": 4,
   "metadata": {
    "collapsed": true
   },
   "outputs": [],
   "source": [
    "df_fixup = pd.read_excel('../data/BAD_ADDRESS_FIX.xlsx', index_col='id')"
   ]
  },
  {
   "cell_type": "code",
   "execution_count": 5,
   "metadata": {
    "collapsed": true
   },
   "outputs": [],
   "source": [
    "fix_train_indexset = set(df_fixup[df_fixup.index < train_df.index.max()].index)\n",
    "bad_train_indexset = set(train_df[train_df.kremlin_km == train_df.kremlin_km.min()].index)\n",
    "unfixed_set = bad_train_indexset.difference(fix_train_indexset)\n",
    "\n",
    "train_df.drop(unfixed_set, inplace=True)\n",
    "\n",
    "full_df = pd.concat([train_df, test_df])"
   ]
  },
  {
   "cell_type": "code",
   "execution_count": 6,
   "metadata": {
    "collapsed": true
   },
   "outputs": [],
   "source": [
    "for c in df_fixup.columns:\n",
    "    full_df.loc[df_fixup.index, c] = df_fixup[c]"
   ]
  },
  {
   "cell_type": "code",
   "execution_count": 7,
   "metadata": {
    "collapsed": true
   },
   "outputs": [],
   "source": [
    "# Derive training and testing sets back from the fixed full dataframe...\n",
    "df_fixed = full_df\n",
    "df_fixed.reset_index(inplace=True)"
   ]
  },
  {
   "cell_type": "code",
   "execution_count": 8,
   "metadata": {},
   "outputs": [
    {
     "data": {
      "text/html": [
       "<div>\n",
       "<style>\n",
       "    .dataframe thead tr:only-child th {\n",
       "        text-align: right;\n",
       "    }\n",
       "\n",
       "    .dataframe thead th {\n",
       "        text-align: left;\n",
       "    }\n",
       "\n",
       "    .dataframe tbody tr th {\n",
       "        vertical-align: top;\n",
       "    }\n",
       "</style>\n",
       "<table border=\"1\" class=\"dataframe\">\n",
       "  <thead>\n",
       "    <tr style=\"text-align: right;\">\n",
       "      <th></th>\n",
       "      <th>id</th>\n",
       "      <th>0_13_all</th>\n",
       "      <th>0_13_female</th>\n",
       "      <th>0_13_male</th>\n",
       "      <th>0_17_all</th>\n",
       "      <th>0_17_female</th>\n",
       "      <th>0_17_male</th>\n",
       "      <th>0_6_all</th>\n",
       "      <th>0_6_female</th>\n",
       "      <th>0_6_male</th>\n",
       "      <th>...</th>\n",
       "      <th>water_km</th>\n",
       "      <th>water_treatment_km</th>\n",
       "      <th>work_all</th>\n",
       "      <th>work_female</th>\n",
       "      <th>work_male</th>\n",
       "      <th>workplaces_km</th>\n",
       "      <th>young_all</th>\n",
       "      <th>young_female</th>\n",
       "      <th>young_male</th>\n",
       "      <th>zd_vokzaly_avto_km</th>\n",
       "    </tr>\n",
       "  </thead>\n",
       "  <tbody>\n",
       "    <tr>\n",
       "      <th>0</th>\n",
       "      <td>1</td>\n",
       "      <td>18654</td>\n",
       "      <td>8945</td>\n",
       "      <td>9709</td>\n",
       "      <td>23603</td>\n",
       "      <td>11317</td>\n",
       "      <td>12286</td>\n",
       "      <td>9576</td>\n",
       "      <td>4677</td>\n",
       "      <td>4899</td>\n",
       "      <td>...</td>\n",
       "      <td>0.992631</td>\n",
       "      <td>23.683460</td>\n",
       "      <td>98207</td>\n",
       "      <td>45930</td>\n",
       "      <td>52277</td>\n",
       "      <td>0.884350</td>\n",
       "      <td>21154</td>\n",
       "      <td>10147</td>\n",
       "      <td>11007</td>\n",
       "      <td>14.231961</td>\n",
       "    </tr>\n",
       "    <tr>\n",
       "      <th>1</th>\n",
       "      <td>2</td>\n",
       "      <td>13729</td>\n",
       "      <td>6800</td>\n",
       "      <td>6929</td>\n",
       "      <td>17700</td>\n",
       "      <td>8702</td>\n",
       "      <td>8998</td>\n",
       "      <td>6880</td>\n",
       "      <td>3414</td>\n",
       "      <td>3466</td>\n",
       "      <td>...</td>\n",
       "      <td>0.698081</td>\n",
       "      <td>1.317476</td>\n",
       "      <td>70194</td>\n",
       "      <td>34572</td>\n",
       "      <td>35622</td>\n",
       "      <td>0.686252</td>\n",
       "      <td>15727</td>\n",
       "      <td>7802</td>\n",
       "      <td>7925</td>\n",
       "      <td>9.242586</td>\n",
       "    </tr>\n",
       "    <tr>\n",
       "      <th>2</th>\n",
       "      <td>3</td>\n",
       "      <td>11252</td>\n",
       "      <td>5336</td>\n",
       "      <td>5916</td>\n",
       "      <td>14884</td>\n",
       "      <td>7063</td>\n",
       "      <td>7821</td>\n",
       "      <td>5879</td>\n",
       "      <td>2784</td>\n",
       "      <td>3095</td>\n",
       "      <td>...</td>\n",
       "      <td>0.468265</td>\n",
       "      <td>4.912660</td>\n",
       "      <td>63388</td>\n",
       "      <td>31575</td>\n",
       "      <td>31813</td>\n",
       "      <td>1.510089</td>\n",
       "      <td>13028</td>\n",
       "      <td>6193</td>\n",
       "      <td>6835</td>\n",
       "      <td>9.540544</td>\n",
       "    </tr>\n",
       "    <tr>\n",
       "      <th>3</th>\n",
       "      <td>4</td>\n",
       "      <td>24934</td>\n",
       "      <td>12152</td>\n",
       "      <td>12782</td>\n",
       "      <td>32063</td>\n",
       "      <td>15550</td>\n",
       "      <td>16513</td>\n",
       "      <td>13087</td>\n",
       "      <td>6442</td>\n",
       "      <td>6645</td>\n",
       "      <td>...</td>\n",
       "      <td>1.200336</td>\n",
       "      <td>15.623710</td>\n",
       "      <td>120381</td>\n",
       "      <td>60341</td>\n",
       "      <td>60040</td>\n",
       "      <td>0.622272</td>\n",
       "      <td>28563</td>\n",
       "      <td>13883</td>\n",
       "      <td>14680</td>\n",
       "      <td>17.478380</td>\n",
       "    </tr>\n",
       "    <tr>\n",
       "      <th>4</th>\n",
       "      <td>5</td>\n",
       "      <td>11631</td>\n",
       "      <td>5408</td>\n",
       "      <td>6223</td>\n",
       "      <td>15237</td>\n",
       "      <td>7124</td>\n",
       "      <td>8113</td>\n",
       "      <td>5706</td>\n",
       "      <td>2724</td>\n",
       "      <td>2982</td>\n",
       "      <td>...</td>\n",
       "      <td>0.820294</td>\n",
       "      <td>10.683540</td>\n",
       "      <td>68043</td>\n",
       "      <td>33807</td>\n",
       "      <td>34236</td>\n",
       "      <td>0.892668</td>\n",
       "      <td>13368</td>\n",
       "      <td>6209</td>\n",
       "      <td>7159</td>\n",
       "      <td>1.595898</td>\n",
       "    </tr>\n",
       "  </tbody>\n",
       "</table>\n",
       "<p>5 rows × 292 columns</p>\n",
       "</div>"
      ],
      "text/plain": [
       "   id  0_13_all  0_13_female  0_13_male  0_17_all  0_17_female  0_17_male  \\\n",
       "0   1     18654         8945       9709     23603        11317      12286   \n",
       "1   2     13729         6800       6929     17700         8702       8998   \n",
       "2   3     11252         5336       5916     14884         7063       7821   \n",
       "3   4     24934        12152      12782     32063        15550      16513   \n",
       "4   5     11631         5408       6223     15237         7124       8113   \n",
       "\n",
       "   0_6_all  0_6_female  0_6_male         ...          water_km  \\\n",
       "0     9576        4677      4899         ...          0.992631   \n",
       "1     6880        3414      3466         ...          0.698081   \n",
       "2     5879        2784      3095         ...          0.468265   \n",
       "3    13087        6442      6645         ...          1.200336   \n",
       "4     5706        2724      2982         ...          0.820294   \n",
       "\n",
       "   water_treatment_km  work_all  work_female  work_male  workplaces_km  \\\n",
       "0           23.683460     98207        45930      52277       0.884350   \n",
       "1            1.317476     70194        34572      35622       0.686252   \n",
       "2            4.912660     63388        31575      31813       1.510089   \n",
       "3           15.623710    120381        60341      60040       0.622272   \n",
       "4           10.683540     68043        33807      34236       0.892668   \n",
       "\n",
       "   young_all  young_female  young_male  zd_vokzaly_avto_km  \n",
       "0      21154         10147       11007           14.231961  \n",
       "1      15727          7802        7925            9.242586  \n",
       "2      13028          6193        6835            9.540544  \n",
       "3      28563         13883       14680           17.478380  \n",
       "4      13368          6209        7159            1.595898  \n",
       "\n",
       "[5 rows x 292 columns]"
      ]
     },
     "execution_count": 8,
     "metadata": {},
     "output_type": "execute_result"
    }
   ],
   "source": [
    "df_fixed.head()"
   ]
  },
  {
   "cell_type": "code",
   "execution_count": 9,
   "metadata": {
    "collapsed": true
   },
   "outputs": [],
   "source": [
    "assert df_fixed.shape[0] == train_df.shape[0] + test_df.shape[0]"
   ]
  },
  {
   "cell_type": "markdown",
   "metadata": {},
   "source": [
    "## Preview data"
   ]
  },
  {
   "cell_type": "code",
   "execution_count": 10,
   "metadata": {},
   "outputs": [
    {
     "data": {
      "text/html": [
       "<div>\n",
       "<style>\n",
       "    .dataframe thead tr:only-child th {\n",
       "        text-align: right;\n",
       "    }\n",
       "\n",
       "    .dataframe thead th {\n",
       "        text-align: left;\n",
       "    }\n",
       "\n",
       "    .dataframe tbody tr th {\n",
       "        vertical-align: top;\n",
       "    }\n",
       "</style>\n",
       "<table border=\"1\" class=\"dataframe\">\n",
       "  <thead>\n",
       "    <tr style=\"text-align: right;\">\n",
       "      <th></th>\n",
       "      <th>timestamp</th>\n",
       "      <th>full_sq</th>\n",
       "      <th>life_sq</th>\n",
       "      <th>floor</th>\n",
       "      <th>max_floor</th>\n",
       "      <th>material</th>\n",
       "      <th>build_year</th>\n",
       "      <th>num_room</th>\n",
       "      <th>kitch_sq</th>\n",
       "      <th>state</th>\n",
       "      <th>...</th>\n",
       "      <th>cafe_count_5000_price_2500</th>\n",
       "      <th>cafe_count_5000_price_4000</th>\n",
       "      <th>cafe_count_5000_price_high</th>\n",
       "      <th>big_church_count_5000</th>\n",
       "      <th>church_count_5000</th>\n",
       "      <th>mosque_count_5000</th>\n",
       "      <th>leisure_count_5000</th>\n",
       "      <th>sport_count_5000</th>\n",
       "      <th>market_count_5000</th>\n",
       "      <th>price_doc</th>\n",
       "    </tr>\n",
       "    <tr>\n",
       "      <th>id</th>\n",
       "      <th></th>\n",
       "      <th></th>\n",
       "      <th></th>\n",
       "      <th></th>\n",
       "      <th></th>\n",
       "      <th></th>\n",
       "      <th></th>\n",
       "      <th></th>\n",
       "      <th></th>\n",
       "      <th></th>\n",
       "      <th></th>\n",
       "      <th></th>\n",
       "      <th></th>\n",
       "      <th></th>\n",
       "      <th></th>\n",
       "      <th></th>\n",
       "      <th></th>\n",
       "      <th></th>\n",
       "      <th></th>\n",
       "      <th></th>\n",
       "      <th></th>\n",
       "    </tr>\n",
       "  </thead>\n",
       "  <tbody>\n",
       "    <tr>\n",
       "      <th>1</th>\n",
       "      <td>2011-08-20</td>\n",
       "      <td>43</td>\n",
       "      <td>27.0</td>\n",
       "      <td>4.0</td>\n",
       "      <td>NaN</td>\n",
       "      <td>NaN</td>\n",
       "      <td>NaN</td>\n",
       "      <td>NaN</td>\n",
       "      <td>NaN</td>\n",
       "      <td>NaN</td>\n",
       "      <td>...</td>\n",
       "      <td>9</td>\n",
       "      <td>4</td>\n",
       "      <td>0</td>\n",
       "      <td>13</td>\n",
       "      <td>22</td>\n",
       "      <td>1</td>\n",
       "      <td>0</td>\n",
       "      <td>52</td>\n",
       "      <td>4</td>\n",
       "      <td>5850000</td>\n",
       "    </tr>\n",
       "    <tr>\n",
       "      <th>2</th>\n",
       "      <td>2011-08-23</td>\n",
       "      <td>34</td>\n",
       "      <td>19.0</td>\n",
       "      <td>3.0</td>\n",
       "      <td>NaN</td>\n",
       "      <td>NaN</td>\n",
       "      <td>NaN</td>\n",
       "      <td>NaN</td>\n",
       "      <td>NaN</td>\n",
       "      <td>NaN</td>\n",
       "      <td>...</td>\n",
       "      <td>15</td>\n",
       "      <td>3</td>\n",
       "      <td>0</td>\n",
       "      <td>15</td>\n",
       "      <td>29</td>\n",
       "      <td>1</td>\n",
       "      <td>10</td>\n",
       "      <td>66</td>\n",
       "      <td>14</td>\n",
       "      <td>6000000</td>\n",
       "    </tr>\n",
       "    <tr>\n",
       "      <th>3</th>\n",
       "      <td>2011-08-27</td>\n",
       "      <td>43</td>\n",
       "      <td>29.0</td>\n",
       "      <td>2.0</td>\n",
       "      <td>NaN</td>\n",
       "      <td>NaN</td>\n",
       "      <td>NaN</td>\n",
       "      <td>NaN</td>\n",
       "      <td>NaN</td>\n",
       "      <td>NaN</td>\n",
       "      <td>...</td>\n",
       "      <td>10</td>\n",
       "      <td>3</td>\n",
       "      <td>0</td>\n",
       "      <td>11</td>\n",
       "      <td>27</td>\n",
       "      <td>0</td>\n",
       "      <td>4</td>\n",
       "      <td>67</td>\n",
       "      <td>10</td>\n",
       "      <td>5700000</td>\n",
       "    </tr>\n",
       "    <tr>\n",
       "      <th>4</th>\n",
       "      <td>2011-09-01</td>\n",
       "      <td>89</td>\n",
       "      <td>50.0</td>\n",
       "      <td>9.0</td>\n",
       "      <td>NaN</td>\n",
       "      <td>NaN</td>\n",
       "      <td>NaN</td>\n",
       "      <td>NaN</td>\n",
       "      <td>NaN</td>\n",
       "      <td>NaN</td>\n",
       "      <td>...</td>\n",
       "      <td>11</td>\n",
       "      <td>2</td>\n",
       "      <td>1</td>\n",
       "      <td>4</td>\n",
       "      <td>4</td>\n",
       "      <td>0</td>\n",
       "      <td>0</td>\n",
       "      <td>26</td>\n",
       "      <td>3</td>\n",
       "      <td>13100000</td>\n",
       "    </tr>\n",
       "    <tr>\n",
       "      <th>5</th>\n",
       "      <td>2011-09-05</td>\n",
       "      <td>77</td>\n",
       "      <td>77.0</td>\n",
       "      <td>4.0</td>\n",
       "      <td>NaN</td>\n",
       "      <td>NaN</td>\n",
       "      <td>NaN</td>\n",
       "      <td>NaN</td>\n",
       "      <td>NaN</td>\n",
       "      <td>NaN</td>\n",
       "      <td>...</td>\n",
       "      <td>319</td>\n",
       "      <td>108</td>\n",
       "      <td>17</td>\n",
       "      <td>135</td>\n",
       "      <td>236</td>\n",
       "      <td>2</td>\n",
       "      <td>91</td>\n",
       "      <td>195</td>\n",
       "      <td>14</td>\n",
       "      <td>16331452</td>\n",
       "    </tr>\n",
       "  </tbody>\n",
       "</table>\n",
       "<p>5 rows × 291 columns</p>\n",
       "</div>"
      ],
      "text/plain": [
       "    timestamp  full_sq  life_sq  floor  max_floor  material  build_year  \\\n",
       "id                                                                        \n",
       "1  2011-08-20       43     27.0    4.0        NaN       NaN         NaN   \n",
       "2  2011-08-23       34     19.0    3.0        NaN       NaN         NaN   \n",
       "3  2011-08-27       43     29.0    2.0        NaN       NaN         NaN   \n",
       "4  2011-09-01       89     50.0    9.0        NaN       NaN         NaN   \n",
       "5  2011-09-05       77     77.0    4.0        NaN       NaN         NaN   \n",
       "\n",
       "    num_room  kitch_sq  state    ...     cafe_count_5000_price_2500  \\\n",
       "id                               ...                                  \n",
       "1        NaN       NaN    NaN    ...                              9   \n",
       "2        NaN       NaN    NaN    ...                             15   \n",
       "3        NaN       NaN    NaN    ...                             10   \n",
       "4        NaN       NaN    NaN    ...                             11   \n",
       "5        NaN       NaN    NaN    ...                            319   \n",
       "\n",
       "   cafe_count_5000_price_4000  cafe_count_5000_price_high  \\\n",
       "id                                                          \n",
       "1                           4                           0   \n",
       "2                           3                           0   \n",
       "3                           3                           0   \n",
       "4                           2                           1   \n",
       "5                         108                          17   \n",
       "\n",
       "    big_church_count_5000  church_count_5000  mosque_count_5000  \\\n",
       "id                                                                \n",
       "1                      13                 22                  1   \n",
       "2                      15                 29                  1   \n",
       "3                      11                 27                  0   \n",
       "4                       4                  4                  0   \n",
       "5                     135                236                  2   \n",
       "\n",
       "    leisure_count_5000  sport_count_5000  market_count_5000  price_doc  \n",
       "id                                                                      \n",
       "1                    0                52                  4    5850000  \n",
       "2                   10                66                 14    6000000  \n",
       "3                    4                67                 10    5700000  \n",
       "4                    0                26                  3   13100000  \n",
       "5                   91               195                 14   16331452  \n",
       "\n",
       "[5 rows x 291 columns]"
      ]
     },
     "execution_count": 10,
     "metadata": {},
     "output_type": "execute_result"
    }
   ],
   "source": [
    "train_df.head()"
   ]
  },
  {
   "cell_type": "code",
   "execution_count": 11,
   "metadata": {},
   "outputs": [
    {
     "data": {
      "text/html": [
       "<div>\n",
       "<style>\n",
       "    .dataframe thead tr:only-child th {\n",
       "        text-align: right;\n",
       "    }\n",
       "\n",
       "    .dataframe thead th {\n",
       "        text-align: left;\n",
       "    }\n",
       "\n",
       "    .dataframe tbody tr th {\n",
       "        vertical-align: top;\n",
       "    }\n",
       "</style>\n",
       "<table border=\"1\" class=\"dataframe\">\n",
       "  <thead>\n",
       "    <tr style=\"text-align: right;\">\n",
       "      <th></th>\n",
       "      <th>timestamp</th>\n",
       "      <th>oil_urals</th>\n",
       "      <th>gdp_quart</th>\n",
       "      <th>gdp_quart_growth</th>\n",
       "      <th>cpi</th>\n",
       "      <th>ppi</th>\n",
       "      <th>gdp_deflator</th>\n",
       "      <th>balance_trade</th>\n",
       "      <th>balance_trade_growth</th>\n",
       "      <th>usdrub</th>\n",
       "      <th>...</th>\n",
       "      <th>provision_retail_space_modern_sqm</th>\n",
       "      <th>turnover_catering_per_cap</th>\n",
       "      <th>theaters_viewers_per_1000_cap</th>\n",
       "      <th>seats_theather_rfmin_per_100000_cap</th>\n",
       "      <th>museum_visitis_per_100_cap</th>\n",
       "      <th>bandwidth_sports</th>\n",
       "      <th>population_reg_sports_share</th>\n",
       "      <th>students_reg_sports_share</th>\n",
       "      <th>apartment_build</th>\n",
       "      <th>apartment_fund_sqm</th>\n",
       "    </tr>\n",
       "  </thead>\n",
       "  <tbody>\n",
       "    <tr>\n",
       "      <th>0</th>\n",
       "      <td>2010-01-01</td>\n",
       "      <td>76.1</td>\n",
       "      <td>NaN</td>\n",
       "      <td>NaN</td>\n",
       "      <td>NaN</td>\n",
       "      <td>NaN</td>\n",
       "      <td>NaN</td>\n",
       "      <td>NaN</td>\n",
       "      <td>NaN</td>\n",
       "      <td>NaN</td>\n",
       "      <td>...</td>\n",
       "      <td>690.0</td>\n",
       "      <td>6221.0</td>\n",
       "      <td>527.0</td>\n",
       "      <td>0.41</td>\n",
       "      <td>993.0</td>\n",
       "      <td>NaN</td>\n",
       "      <td>NaN</td>\n",
       "      <td>63.03</td>\n",
       "      <td>22825.0</td>\n",
       "      <td>NaN</td>\n",
       "    </tr>\n",
       "    <tr>\n",
       "      <th>1</th>\n",
       "      <td>2010-01-02</td>\n",
       "      <td>76.1</td>\n",
       "      <td>NaN</td>\n",
       "      <td>NaN</td>\n",
       "      <td>NaN</td>\n",
       "      <td>NaN</td>\n",
       "      <td>NaN</td>\n",
       "      <td>NaN</td>\n",
       "      <td>NaN</td>\n",
       "      <td>NaN</td>\n",
       "      <td>...</td>\n",
       "      <td>690.0</td>\n",
       "      <td>6221.0</td>\n",
       "      <td>527.0</td>\n",
       "      <td>0.41</td>\n",
       "      <td>993.0</td>\n",
       "      <td>NaN</td>\n",
       "      <td>NaN</td>\n",
       "      <td>63.03</td>\n",
       "      <td>22825.0</td>\n",
       "      <td>NaN</td>\n",
       "    </tr>\n",
       "    <tr>\n",
       "      <th>2</th>\n",
       "      <td>2010-01-03</td>\n",
       "      <td>76.1</td>\n",
       "      <td>NaN</td>\n",
       "      <td>NaN</td>\n",
       "      <td>NaN</td>\n",
       "      <td>NaN</td>\n",
       "      <td>NaN</td>\n",
       "      <td>NaN</td>\n",
       "      <td>NaN</td>\n",
       "      <td>NaN</td>\n",
       "      <td>...</td>\n",
       "      <td>690.0</td>\n",
       "      <td>6221.0</td>\n",
       "      <td>527.0</td>\n",
       "      <td>0.41</td>\n",
       "      <td>993.0</td>\n",
       "      <td>NaN</td>\n",
       "      <td>NaN</td>\n",
       "      <td>63.03</td>\n",
       "      <td>22825.0</td>\n",
       "      <td>NaN</td>\n",
       "    </tr>\n",
       "    <tr>\n",
       "      <th>3</th>\n",
       "      <td>2010-01-04</td>\n",
       "      <td>76.1</td>\n",
       "      <td>NaN</td>\n",
       "      <td>NaN</td>\n",
       "      <td>NaN</td>\n",
       "      <td>NaN</td>\n",
       "      <td>NaN</td>\n",
       "      <td>NaN</td>\n",
       "      <td>NaN</td>\n",
       "      <td>29.905</td>\n",
       "      <td>...</td>\n",
       "      <td>690.0</td>\n",
       "      <td>6221.0</td>\n",
       "      <td>527.0</td>\n",
       "      <td>0.41</td>\n",
       "      <td>993.0</td>\n",
       "      <td>NaN</td>\n",
       "      <td>NaN</td>\n",
       "      <td>63.03</td>\n",
       "      <td>22825.0</td>\n",
       "      <td>NaN</td>\n",
       "    </tr>\n",
       "    <tr>\n",
       "      <th>4</th>\n",
       "      <td>2010-01-05</td>\n",
       "      <td>76.1</td>\n",
       "      <td>NaN</td>\n",
       "      <td>NaN</td>\n",
       "      <td>NaN</td>\n",
       "      <td>NaN</td>\n",
       "      <td>NaN</td>\n",
       "      <td>NaN</td>\n",
       "      <td>NaN</td>\n",
       "      <td>29.836</td>\n",
       "      <td>...</td>\n",
       "      <td>690.0</td>\n",
       "      <td>6221.0</td>\n",
       "      <td>527.0</td>\n",
       "      <td>0.41</td>\n",
       "      <td>993.0</td>\n",
       "      <td>NaN</td>\n",
       "      <td>NaN</td>\n",
       "      <td>63.03</td>\n",
       "      <td>22825.0</td>\n",
       "      <td>NaN</td>\n",
       "    </tr>\n",
       "  </tbody>\n",
       "</table>\n",
       "<p>5 rows × 100 columns</p>\n",
       "</div>"
      ],
      "text/plain": [
       "   timestamp  oil_urals  gdp_quart  gdp_quart_growth  cpi  ppi  gdp_deflator  \\\n",
       "0 2010-01-01       76.1        NaN               NaN  NaN  NaN           NaN   \n",
       "1 2010-01-02       76.1        NaN               NaN  NaN  NaN           NaN   \n",
       "2 2010-01-03       76.1        NaN               NaN  NaN  NaN           NaN   \n",
       "3 2010-01-04       76.1        NaN               NaN  NaN  NaN           NaN   \n",
       "4 2010-01-05       76.1        NaN               NaN  NaN  NaN           NaN   \n",
       "\n",
       "   balance_trade  balance_trade_growth  usdrub         ...          \\\n",
       "0            NaN                   NaN     NaN         ...           \n",
       "1            NaN                   NaN     NaN         ...           \n",
       "2            NaN                   NaN     NaN         ...           \n",
       "3            NaN                   NaN  29.905         ...           \n",
       "4            NaN                   NaN  29.836         ...           \n",
       "\n",
       "   provision_retail_space_modern_sqm  turnover_catering_per_cap  \\\n",
       "0                              690.0                     6221.0   \n",
       "1                              690.0                     6221.0   \n",
       "2                              690.0                     6221.0   \n",
       "3                              690.0                     6221.0   \n",
       "4                              690.0                     6221.0   \n",
       "\n",
       "   theaters_viewers_per_1000_cap  seats_theather_rfmin_per_100000_cap  \\\n",
       "0                          527.0                                 0.41   \n",
       "1                          527.0                                 0.41   \n",
       "2                          527.0                                 0.41   \n",
       "3                          527.0                                 0.41   \n",
       "4                          527.0                                 0.41   \n",
       "\n",
       "   museum_visitis_per_100_cap  bandwidth_sports  population_reg_sports_share  \\\n",
       "0                       993.0               NaN                          NaN   \n",
       "1                       993.0               NaN                          NaN   \n",
       "2                       993.0               NaN                          NaN   \n",
       "3                       993.0               NaN                          NaN   \n",
       "4                       993.0               NaN                          NaN   \n",
       "\n",
       "   students_reg_sports_share  apartment_build  apartment_fund_sqm  \n",
       "0                      63.03          22825.0                 NaN  \n",
       "1                      63.03          22825.0                 NaN  \n",
       "2                      63.03          22825.0                 NaN  \n",
       "3                      63.03          22825.0                 NaN  \n",
       "4                      63.03          22825.0                 NaN  \n",
       "\n",
       "[5 rows x 100 columns]"
      ]
     },
     "execution_count": 11,
     "metadata": {},
     "output_type": "execute_result"
    }
   ],
   "source": [
    "macro_df.head()"
   ]
  },
  {
   "cell_type": "markdown",
   "metadata": {},
   "source": [
    "## Imputation\n",
    "From a quick glance, it becomes immediately evident that we need to impute the NaN values... So, let's do that now.\n",
    "\n",
    "There are many ways to go about doing this, but let's follow this approach:\n",
    "\n",
    "- For the product_type and other *categorical columns*, let's impute it with the **mode** (most common)\n",
    "- For the *continuous columns* and other variables, let's use a simple **median** to impute their NaN column values\n",
    "\n",
    "** Note: **\n",
    "We can also impute the NaN values using pandas's own interpolate functions, which can interpolate linearly, cubically, polynomially, etc.\n",
    "\n",
    "** TODO: ** Need to evaluate these different imputation methods to find the best one!"
   ]
  },
  {
   "cell_type": "code",
   "execution_count": 12,
   "metadata": {
    "collapsed": true
   },
   "outputs": [],
   "source": [
    "impute_with_mode_cols = ['material', 'product_type', 'state', 'ID_'] # The categorical columns in our dataset"
   ]
  },
  {
   "cell_type": "markdown",
   "metadata": {},
   "source": [
    "### Training + Testing set"
   ]
  },
  {
   "cell_type": "code",
   "execution_count": 13,
   "metadata": {
    "collapsed": true
   },
   "outputs": [],
   "source": [
    "exclude_imputation_cols = ['price_doc'] # The testing set obviously has NaN price_doc values, so ignore this intentionally"
   ]
  },
  {
   "cell_type": "code",
   "execution_count": 14,
   "metadata": {
    "collapsed": true
   },
   "outputs": [],
   "source": [
    "# Get the columns that have NaN values.\n",
    "impute_cols = [c for c in df_fixed.columns[df_fixed.isnull().any()].tolist() if c not in exclude_imputation_cols]"
   ]
  },
  {
   "cell_type": "code",
   "execution_count": 15,
   "metadata": {
    "collapsed": true
   },
   "outputs": [],
   "source": [
    "df_fixed_imputed = df_fixed.copy()"
   ]
  },
  {
   "cell_type": "code",
   "execution_count": 16,
   "metadata": {
    "collapsed": true
   },
   "outputs": [],
   "source": [
    "for col in impute_cols:\n",
    "    # Check if we should impute this with the mode.\n",
    "    impute_with_mode = False\n",
    "    if \"ID_\" in col:\n",
    "        impute_with_mode = True\n",
    "    else:\n",
    "        impute_with_mode = any(icol == col for icol in impute_with_mode_cols)\n",
    "    \n",
    "    if impute_with_mode:\n",
    "        # Impute this column with the mode.\n",
    "        mode = df_fixed[col].dropna().mode()[0]\n",
    "        df_fixed_imputed[col] = df_fixed_imputed[col].fillna(value=mode)\n",
    "    else:\n",
    "        # Impute this column with the median.\n",
    "        median = df_fixed[col].dropna().median()\n",
    "        df_fixed_imputed[col] = df_fixed_imputed[col].fillna(value=median)"
   ]
  },
  {
   "cell_type": "code",
   "execution_count": 17,
   "metadata": {
    "collapsed": true
   },
   "outputs": [],
   "source": [
    "# Everything's cleaned up! ;)\n",
    "assert len([c for c in df_fixed_imputed.columns[df_fixed_imputed.isnull().any()].tolist() if c not in exclude_imputation_cols]) == 0"
   ]
  },
  {
   "cell_type": "markdown",
   "metadata": {},
   "source": [
    "### Macroeconomy set"
   ]
  },
  {
   "cell_type": "code",
   "execution_count": 18,
   "metadata": {
    "collapsed": true
   },
   "outputs": [],
   "source": [
    "# Get the columns that have NaN values.\n",
    "impute_cols = [c for c in macro_df.columns[macro_df.isnull().any()].tolist()]"
   ]
  },
  {
   "cell_type": "code",
   "execution_count": 19,
   "metadata": {
    "collapsed": true
   },
   "outputs": [],
   "source": [
    "macro_df_imputed = macro_df.copy()"
   ]
  },
  {
   "cell_type": "code",
   "execution_count": 20,
   "metadata": {
    "collapsed": true
   },
   "outputs": [],
   "source": [
    "# These columns store numbers as strings (aka. pandas objects) with commas, so they need some cleaning & parsing...\n",
    "problematic_cols = ['child_on_acc_pre_school', 'modern_education_share', 'old_education_build_share']"
   ]
  },
  {
   "cell_type": "code",
   "execution_count": 21,
   "metadata": {
    "collapsed": true
   },
   "outputs": [],
   "source": [
    "for c in problematic_cols:\n",
    "    macro_df_imputed[c].replace('#!', np.nan, inplace=True)\n",
    "    macro_df_imputed[c] = macro_df_imputed.apply(lambda row: str(row['child_on_acc_pre_school']).replace(\",\",\"\") if row['child_on_acc_pre_school'] else row['child_on_acc_pre_school'], 1)\n",
    "    macro_df_imputed[c]  = macro_df_imputed[c].astype(np.float32)"
   ]
  },
  {
   "cell_type": "code",
   "execution_count": 22,
   "metadata": {
    "collapsed": true
   },
   "outputs": [],
   "source": [
    "for col in impute_cols:\n",
    "    # Check if we should impute this with the mode.\n",
    "    impute_with_mode = False\n",
    "    if \"ID_\" in col:\n",
    "        impute_with_mode = True\n",
    "    else:\n",
    "        impute_with_mode = any(icol == col for icol in impute_with_mode_cols)\n",
    "    \n",
    "    if impute_with_mode:\n",
    "        # Impute this column with the mode.\n",
    "        print 'Imputing column %s with mode.' % col\n",
    "        mode = macro_df_imputed[col].dropna().mode()[0]\n",
    "        macro_df_imputed[col] = macro_df_imputed[col].fillna(value=mode)\n",
    "    else:\n",
    "        # Impute this column with the median.\n",
    "        median = macro_df_imputed[col].dropna().median()\n",
    "        macro_df_imputed[col] = macro_df_imputed[col].fillna(value=median)"
   ]
  },
  {
   "cell_type": "code",
   "execution_count": 23,
   "metadata": {
    "collapsed": true
   },
   "outputs": [],
   "source": [
    "# Everything's cleaned up! ;)\n",
    "assert len( macro_df_imputed.columns[macro_df_imputed.isnull().any()].tolist()) == 0"
   ]
  },
  {
   "cell_type": "markdown",
   "metadata": {},
   "source": [
    "## Compute some basic features on the fixed dataset\n",
    "\n",
    "** Notes: **\n",
    "The 'id' variable is actually important since it contains some time-based information, as discussed in the Kaggle Forumns.\n",
    "Although this variable cannot be inputed into deep neural networks, they can be harnessed by XGBoost and other gradient boosting models, right?"
   ]
  },
  {
   "cell_type": "code",
   "execution_count": 24,
   "metadata": {
    "collapsed": true
   },
   "outputs": [],
   "source": [
    "full_df_features = df_fixed_imputed.copy()"
   ]
  },
  {
   "cell_type": "markdown",
   "metadata": {},
   "source": [
    "### Target variable transformations\n",
    "Transforming the target variables using functions like log, log(x + 1), exp, etc.\n",
    "\n",
    "** Note: ** The testing dataset is included in the full dataset, and thus, we should not transform the target variables in the fullset that are null! Only transform the target variables in the fullset that are NOT null, since these values belong to the training set"
   ]
  },
  {
   "cell_type": "code",
   "execution_count": 25,
   "metadata": {
    "collapsed": true
   },
   "outputs": [],
   "source": [
    "LABEL = \"price_doc\""
   ]
  },
  {
   "cell_type": "code",
   "execution_count": 26,
   "metadata": {
    "collapsed": true
   },
   "outputs": [],
   "source": [
    "def extract_label_transformation_cols(df, include_label_col=True):\n",
    "    global LABEL\n",
    "    transformed_cols = []\n",
    "    for c in df.columns.tolist():\n",
    "        if LABEL in c and \"spl_\" not in c:\n",
    "            # This is a label transformation col, because it contains the label keyword but is not a \"spl\" column\n",
    "            if c == LABEL:\n",
    "                if include_label_col:\n",
    "                    transformed_cols.append(c)\n",
    "            else:\n",
    "                transformed_cols.append(c)\n",
    "    return transformed_cols"
   ]
  },
  {
   "cell_type": "code",
   "execution_count": 27,
   "metadata": {
    "collapsed": true
   },
   "outputs": [],
   "source": [
    "full_df_features[LABEL + \"_log\"] = full_df_features.apply(lambda row: np.log(row[LABEL]) if row[LABEL] else row[LABEL], axis=1)"
   ]
  },
  {
   "cell_type": "code",
   "execution_count": 28,
   "metadata": {
    "collapsed": true
   },
   "outputs": [],
   "source": [
    "full_df_features[LABEL + \"_log10\"] = full_df_features.apply(lambda row: np.log10(row[LABEL]) if row[LABEL] else row[LABEL], axis=1)"
   ]
  },
  {
   "cell_type": "code",
   "execution_count": 29,
   "metadata": {
    "collapsed": true
   },
   "outputs": [],
   "source": [
    "full_df_features[LABEL + \"_log1p\"] = full_df_features.apply(lambda row: np.log1p(row[LABEL]) if row[LABEL] else row[LABEL], axis=1)"
   ]
  },
  {
   "cell_type": "code",
   "execution_count": 30,
   "metadata": {
    "collapsed": true
   },
   "outputs": [],
   "source": [
    "full_df_features[LABEL + \"_log2\"] = full_df_features.apply(lambda row: np.log2(row[LABEL]) if row[LABEL] else row[LABEL], axis=1)"
   ]
  },
  {
   "cell_type": "code",
   "execution_count": 31,
   "metadata": {
    "collapsed": true
   },
   "outputs": [],
   "source": [
    "full_df_features[LABEL + \"_logaddexp2\"] = full_df_features.apply(lambda row: np.logaddexp(row[LABEL], 2) if row[LABEL] else row[LABEL], axis=1)"
   ]
  },
  {
   "cell_type": "code",
   "execution_count": 32,
   "metadata": {
    "collapsed": true
   },
   "outputs": [],
   "source": [
    "full_df_features[LABEL + \"_square\"] = full_df_features.apply(lambda row: np.square(row[LABEL]) if row[LABEL] else row[LABEL], axis=1)"
   ]
  },
  {
   "cell_type": "code",
   "execution_count": 33,
   "metadata": {
    "collapsed": true
   },
   "outputs": [],
   "source": [
    "full_df_features[LABEL + \"_sqrt\"] = full_df_features.apply(lambda row: np.sqrt(row[LABEL]) if row[LABEL] else row[LABEL], axis=1)"
   ]
  },
  {
   "cell_type": "code",
   "execution_count": 34,
   "metadata": {
    "collapsed": true
   },
   "outputs": [],
   "source": [
    "full_df_features[LABEL + \"_pow3\"] = full_df_features.apply(lambda row: np.power(row[LABEL], 3) if row[LABEL] else row[LABEL], axis=1)"
   ]
  },
  {
   "cell_type": "code",
   "execution_count": 35,
   "metadata": {
    "collapsed": true
   },
   "outputs": [],
   "source": [
    "label_transform_cols = extract_label_transformation_cols(full_df_features)"
   ]
  },
  {
   "cell_type": "markdown",
   "metadata": {},
   "source": [
    "#### Preview the distributions of the various target variable transformations\n",
    "\n",
    "** Note: ** The original target variable distribution is very skewed, whereas some other distributions (e.g. log and sqrt) are more symmetrical"
   ]
  },
  {
   "cell_type": "code",
   "execution_count": 36,
   "metadata": {},
   "outputs": [
    {
     "data": {
      "text/plain": [
       "array([[<matplotlib.axes._subplots.AxesSubplot object at 0x7f67db4bd050>,\n",
       "        <matplotlib.axes._subplots.AxesSubplot object at 0x7f67db4de110>,\n",
       "        <matplotlib.axes._subplots.AxesSubplot object at 0x7f67db41d9d0>],\n",
       "       [<matplotlib.axes._subplots.AxesSubplot object at 0x7f67db3a3ad0>,\n",
       "        <matplotlib.axes._subplots.AxesSubplot object at 0x7f67db316750>,\n",
       "        <matplotlib.axes._subplots.AxesSubplot object at 0x7f67db29c790>],\n",
       "       [<matplotlib.axes._subplots.AxesSubplot object at 0x7f67db205290>,\n",
       "        <matplotlib.axes._subplots.AxesSubplot object at 0x7f67d681d390>,\n",
       "        <matplotlib.axes._subplots.AxesSubplot object at 0x7f67d67f7dd0>]], dtype=object)"
      ]
     },
     "execution_count": 36,
     "metadata": {},
     "output_type": "execute_result"
    },
    {
     "data": {
      "image/png": "[encoded data removed]",
      "text/plain": [
       "<matplotlib.figure.Figure at 0x7f67db518d10>"
      ]
     },
     "metadata": {},
     "output_type": "display_data"
    }
   ],
   "source": [
    "full_df_features[label_transform_cols].hist(figsize = (25, 25))"
   ]
  },
  {
   "cell_type": "code",
   "execution_count": 71,
   "metadata": {
    "collapsed": true
   },
   "outputs": [],
   "source": [
    "def add_relations_to_target_variable_as_feature(df, cols):\n",
    "    global LABEL\n",
    "    if type(cols) == str:\n",
    "        meaned_df = df[df[LABEL].notnull()].groupby(cols, as_index=False)[LABEL].mean().rename(columns={LABEL : 'spl_%s_x_%s_mean' % (cols, LABEL)})\n",
    "        medianed_df = df[df[LABEL].notnull()].groupby(cols, as_index=False)[LABEL].median().rename(columns={LABEL : 'spl_%s_x_%s_median' % (cols, LABEL)})\n",
    "        minned_df = df[df[LABEL].notnull()].groupby(cols, as_index=False)[LABEL].min().rename(columns={LABEL : 'spl_%s_x_%s_min' % (cols, LABEL)})\n",
    "        maxxed_df = df[df[LABEL].notnull()].groupby(cols, as_index=False)[LABEL].max().rename(columns={LABEL : 'spl_%s_x_%s_max' % (cols, LABEL)})\n",
    "    \n",
    "        # Merge these datasets with the given dataframe on the specified column\n",
    "        merged_df = df.merge(meaned_df,on=cols).merge(medianed_df,on=cols).merge(minned_df,on=cols).merge(maxxed_df,on=cols)\n",
    "        return merged_df\n",
    "    elif type(cols) in (list, tuple):\n",
    "        merged = False\n",
    "        for c in cols:\n",
    "            meaned_df = df[df.price_doc.notnull()].groupby(c, as_index=False)[LABEL].mean().rename(columns={LABEL : 'spl_%s_x_%s_mean' % (c, LABEL)})\n",
    "            medianed_df = df[df.price_doc.notnull()].groupby(c, as_index=False)[LABEL].median().rename(columns={LABEL : 'spl_%s_x_%s_median' % (c, LABEL)})\n",
    "            minned_df = df[df.price_doc.notnull()].groupby(c, as_index=False)[LABEL].min().rename(columns={LABEL : 'spl_%s_x_%s_min' % (c, LABEL)})\n",
    "            maxxed_df = df[df.price_doc.notnull()].groupby(c, as_index=False)[LABEL].max().rename(columns={LABEL : 'spl_%s_x_%s_max' % (c, LABEL)})\n",
    "            \n",
    "            # Merge these datasets with the given dataframe on the specified column\n",
    "            if not merged:\n",
    "                merged_df = df.merge(meaned_df,on=c).merge(medianed_df,on=c).merge(minned_df,on=c).merge(maxxed_df,on=c)\n",
    "                merged = True\n",
    "            else:\n",
    "                merged_df = merged_df.merge(meaned_df,on=c).merge(medianed_df,on=c).merge(minned_df,on=c).merge(maxxed_df,on=c)\n",
    "        return merged_df\n",
    "    else:\n",
    "        raise ValueError(\"Inappropriate type passed to the 'cols' parameter: %s\" % str(type(cols)))"
   ]
  },
  {
   "cell_type": "code",
   "execution_count": 61,
   "metadata": {},
   "outputs": [
    {
     "data": {
      "text/html": [
       "<div>\n",
       "<style>\n",
       "    .dataframe thead tr:only-child th {\n",
       "        text-align: right;\n",
       "    }\n",
       "\n",
       "    .dataframe thead th {\n",
       "        text-align: left;\n",
       "    }\n",
       "\n",
       "    .dataframe tbody tr th {\n",
       "        vertical-align: top;\n",
       "    }\n",
       "</style>\n",
       "<table border=\"1\" class=\"dataframe\">\n",
       "  <thead>\n",
       "    <tr style=\"text-align: right;\">\n",
       "      <th></th>\n",
       "      <th>id</th>\n",
       "      <th>0_13_all</th>\n",
       "      <th>0_13_female</th>\n",
       "      <th>0_13_male</th>\n",
       "      <th>0_17_all</th>\n",
       "      <th>0_17_female</th>\n",
       "      <th>0_17_male</th>\n",
       "      <th>0_6_all</th>\n",
       "      <th>0_6_female</th>\n",
       "      <th>0_6_male</th>\n",
       "      <th>...</th>\n",
       "      <th>price_doc_log1p</th>\n",
       "      <th>price_doc_log2</th>\n",
       "      <th>price_doc_logaddexp2</th>\n",
       "      <th>price_doc_square</th>\n",
       "      <th>price_doc_sqrt</th>\n",
       "      <th>price_doc_pow3</th>\n",
       "      <th>spl_state_x_price_doc_mean</th>\n",
       "      <th>spl_state_x_price_doc_median</th>\n",
       "      <th>spl_state_x_price_doc_min</th>\n",
       "      <th>spl_state_x_price_doc_max</th>\n",
       "    </tr>\n",
       "  </thead>\n",
       "  <tbody>\n",
       "    <tr>\n",
       "      <th>0</th>\n",
       "      <td>1</td>\n",
       "      <td>18654</td>\n",
       "      <td>8945</td>\n",
       "      <td>9709</td>\n",
       "      <td>23603</td>\n",
       "      <td>11317</td>\n",
       "      <td>12286</td>\n",
       "      <td>9576</td>\n",
       "      <td>4677</td>\n",
       "      <td>4899</td>\n",
       "      <td>...</td>\n",
       "      <td>15.581952</td>\n",
       "      <td>22.480005</td>\n",
       "      <td>5850000.0</td>\n",
       "      <td>3.422250e+13</td>\n",
       "      <td>2418.677324</td>\n",
       "      <td>2.002016e+20</td>\n",
       "      <td>6.653839e+06</td>\n",
       "      <td>6000000.0</td>\n",
       "      <td>190000.0</td>\n",
       "      <td>111111112.0</td>\n",
       "    </tr>\n",
       "    <tr>\n",
       "      <th>1</th>\n",
       "      <td>2</td>\n",
       "      <td>13729</td>\n",
       "      <td>6800</td>\n",
       "      <td>6929</td>\n",
       "      <td>17700</td>\n",
       "      <td>8702</td>\n",
       "      <td>8998</td>\n",
       "      <td>6880</td>\n",
       "      <td>3414</td>\n",
       "      <td>3466</td>\n",
       "      <td>...</td>\n",
       "      <td>15.607270</td>\n",
       "      <td>22.516531</td>\n",
       "      <td>6000000.0</td>\n",
       "      <td>3.600000e+13</td>\n",
       "      <td>2449.489743</td>\n",
       "      <td>2.160000e+20</td>\n",
       "      <td>6.653839e+06</td>\n",
       "      <td>6000000.0</td>\n",
       "      <td>190000.0</td>\n",
       "      <td>111111112.0</td>\n",
       "    </tr>\n",
       "    <tr>\n",
       "      <th>2</th>\n",
       "      <td>3</td>\n",
       "      <td>11252</td>\n",
       "      <td>5336</td>\n",
       "      <td>5916</td>\n",
       "      <td>14884</td>\n",
       "      <td>7063</td>\n",
       "      <td>7821</td>\n",
       "      <td>5879</td>\n",
       "      <td>2784</td>\n",
       "      <td>3095</td>\n",
       "      <td>...</td>\n",
       "      <td>15.555977</td>\n",
       "      <td>22.442530</td>\n",
       "      <td>5700000.0</td>\n",
       "      <td>3.249000e+13</td>\n",
       "      <td>2387.467277</td>\n",
       "      <td>1.851930e+20</td>\n",
       "      <td>6.653839e+06</td>\n",
       "      <td>6000000.0</td>\n",
       "      <td>190000.0</td>\n",
       "      <td>111111112.0</td>\n",
       "    </tr>\n",
       "    <tr>\n",
       "      <th>3</th>\n",
       "      <td>4</td>\n",
       "      <td>24934</td>\n",
       "      <td>12152</td>\n",
       "      <td>12782</td>\n",
       "      <td>32063</td>\n",
       "      <td>15550</td>\n",
       "      <td>16513</td>\n",
       "      <td>13087</td>\n",
       "      <td>6442</td>\n",
       "      <td>6645</td>\n",
       "      <td>...</td>\n",
       "      <td>16.388123</td>\n",
       "      <td>23.643063</td>\n",
       "      <td>13100000.0</td>\n",
       "      <td>1.716100e+14</td>\n",
       "      <td>3619.392214</td>\n",
       "      <td>2.248091e+21</td>\n",
       "      <td>6.653839e+06</td>\n",
       "      <td>6000000.0</td>\n",
       "      <td>190000.0</td>\n",
       "      <td>111111112.0</td>\n",
       "    </tr>\n",
       "    <tr>\n",
       "      <th>4</th>\n",
       "      <td>5</td>\n",
       "      <td>11631</td>\n",
       "      <td>5408</td>\n",
       "      <td>6223</td>\n",
       "      <td>15237</td>\n",
       "      <td>7124</td>\n",
       "      <td>8113</td>\n",
       "      <td>5706</td>\n",
       "      <td>2724</td>\n",
       "      <td>2982</td>\n",
       "      <td>...</td>\n",
       "      <td>16.608603</td>\n",
       "      <td>23.961150</td>\n",
       "      <td>16331452.0</td>\n",
       "      <td>2.667163e+14</td>\n",
       "      <td>4041.219123</td>\n",
       "      <td>4.355865e+21</td>\n",
       "      <td>6.653839e+06</td>\n",
       "      <td>6000000.0</td>\n",
       "      <td>190000.0</td>\n",
       "      <td>111111112.0</td>\n",
       "    </tr>\n",
       "  </tbody>\n",
       "</table>\n",
       "<p>5 rows × 304 columns</p>\n",
       "</div>"
      ],
      "text/plain": [
       "   id  0_13_all  0_13_female  0_13_male  0_17_all  0_17_female  0_17_male  \\\n",
       "0   1     18654         8945       9709     23603        11317      12286   \n",
       "1   2     13729         6800       6929     17700         8702       8998   \n",
       "2   3     11252         5336       5916     14884         7063       7821   \n",
       "3   4     24934        12152      12782     32063        15550      16513   \n",
       "4   5     11631         5408       6223     15237         7124       8113   \n",
       "\n",
       "   0_6_all  0_6_female  0_6_male            ...              price_doc_log1p  \\\n",
       "0     9576        4677      4899            ...                    15.581952   \n",
       "1     6880        3414      3466            ...                    15.607270   \n",
       "2     5879        2784      3095            ...                    15.555977   \n",
       "3    13087        6442      6645            ...                    16.388123   \n",
       "4     5706        2724      2982            ...                    16.608603   \n",
       "\n",
       "   price_doc_log2  price_doc_logaddexp2  price_doc_square  price_doc_sqrt  \\\n",
       "0       22.480005             5850000.0      3.422250e+13     2418.677324   \n",
       "1       22.516531             6000000.0      3.600000e+13     2449.489743   \n",
       "2       22.442530             5700000.0      3.249000e+13     2387.467277   \n",
       "3       23.643063            13100000.0      1.716100e+14     3619.392214   \n",
       "4       23.961150            16331452.0      2.667163e+14     4041.219123   \n",
       "\n",
       "   price_doc_pow3  spl_state_x_price_doc_mean  spl_state_x_price_doc_median  \\\n",
       "0    2.002016e+20                6.653839e+06                     6000000.0   \n",
       "1    2.160000e+20                6.653839e+06                     6000000.0   \n",
       "2    1.851930e+20                6.653839e+06                     6000000.0   \n",
       "3    2.248091e+21                6.653839e+06                     6000000.0   \n",
       "4    4.355865e+21                6.653839e+06                     6000000.0   \n",
       "\n",
       "   spl_state_x_price_doc_min  spl_state_x_price_doc_max  \n",
       "0                   190000.0                111111112.0  \n",
       "1                   190000.0                111111112.0  \n",
       "2                   190000.0                111111112.0  \n",
       "3                   190000.0                111111112.0  \n",
       "4                   190000.0                111111112.0  \n",
       "\n",
       "[5 rows x 304 columns]"
      ]
     },
     "execution_count": 61,
     "metadata": {},
     "output_type": "execute_result"
    }
   ],
   "source": [
    "# Note: This operation doesn't modify the given dataframe inplace, but returns a modified dataframe...\n",
    "# In other words, this function's operations on the given dataframe are immutable\n",
    "add_relations_to_target_variable_as_feature(full_df_features, 'state').head()"
   ]
  },
  {
   "cell_type": "markdown",
   "metadata": {},
   "source": [
    "### Time features from timestamp (month, day of week, year, etc.)\n",
    "Computed separately for the days, weeks, months, and years"
   ]
  },
  {
   "cell_type": "markdown",
   "metadata": {},
   "source": [
    "#### Days"
   ]
  },
  {
   "cell_type": "code",
   "execution_count": 62,
   "metadata": {
    "collapsed": true
   },
   "outputs": [],
   "source": [
    "SATURDAY, SUNDAY = 5, 6 # Pandas's weekday codes for the weekend"
   ]
  },
  {
   "cell_type": "code",
   "execution_count": 63,
   "metadata": {
    "collapsed": true
   },
   "outputs": [],
   "source": [
    "full_df_features['timestamp_dayofweek'] = full_df_features.apply(lambda row: row['timestamp'].dayofweek, axis=1)"
   ]
  },
  {
   "cell_type": "code",
   "execution_count": 64,
   "metadata": {
    "collapsed": true
   },
   "outputs": [],
   "source": [
    "full_df_features['timestamp_isweekday'] = full_df_features.apply(lambda row: row['timestamp'].weekday() not in (SATURDAY, SUNDAY), axis=1)"
   ]
  },
  {
   "cell_type": "code",
   "execution_count": 65,
   "metadata": {
    "collapsed": true
   },
   "outputs": [],
   "source": [
    "full_df_features['timestamp_dayofmonth'] = full_df_features.apply(lambda row: row['timestamp'].day, axis=1)"
   ]
  },
  {
   "cell_type": "code",
   "execution_count": 66,
   "metadata": {
    "collapsed": true
   },
   "outputs": [],
   "source": [
    "full_df_features['timestamp_daysinmonth'] = full_df_features.apply(lambda row: row['timestamp'].daysinmonth, axis=1)"
   ]
  },
  {
   "cell_type": "code",
   "execution_count": 67,
   "metadata": {
    "collapsed": true
   },
   "outputs": [],
   "source": [
    "full_df_features['timestamp_dayofyear'] = full_df_features.apply(lambda row: row['timestamp'].dayofyear, axis=1)"
   ]
  },
  {
   "cell_type": "code",
   "execution_count": 72,
   "metadata": {},
   "outputs": [
    {
     "data": {
      "text/html": [
       "<div>\n",
       "<style>\n",
       "    .dataframe thead tr:only-child th {\n",
       "        text-align: right;\n",
       "    }\n",
       "\n",
       "    .dataframe thead th {\n",
       "        text-align: left;\n",
       "    }\n",
       "\n",
       "    .dataframe tbody tr th {\n",
       "        vertical-align: top;\n",
       "    }\n",
       "</style>\n",
       "<table border=\"1\" class=\"dataframe\">\n",
       "  <thead>\n",
       "    <tr style=\"text-align: right;\">\n",
       "      <th></th>\n",
       "      <th>id</th>\n",
       "      <th>0_13_all</th>\n",
       "      <th>0_13_female</th>\n",
       "      <th>0_13_male</th>\n",
       "      <th>0_17_all</th>\n",
       "      <th>0_17_female</th>\n",
       "      <th>0_17_male</th>\n",
       "      <th>0_6_all</th>\n",
       "      <th>0_6_female</th>\n",
       "      <th>0_6_male</th>\n",
       "      <th>...</th>\n",
       "      <th>spl_timestamp_dayofmonth_x_price_doc_min</th>\n",
       "      <th>spl_timestamp_dayofmonth_x_price_doc_max</th>\n",
       "      <th>spl_timestamp_daysinmonth_x_price_doc_mean</th>\n",
       "      <th>spl_timestamp_daysinmonth_x_price_doc_median</th>\n",
       "      <th>spl_timestamp_daysinmonth_x_price_doc_min</th>\n",
       "      <th>spl_timestamp_daysinmonth_x_price_doc_max</th>\n",
       "      <th>spl_timestamp_dayofyear_x_price_doc_mean</th>\n",
       "      <th>spl_timestamp_dayofyear_x_price_doc_median</th>\n",
       "      <th>spl_timestamp_dayofyear_x_price_doc_min</th>\n",
       "      <th>spl_timestamp_dayofyear_x_price_doc_max</th>\n",
       "    </tr>\n",
       "  </thead>\n",
       "  <tbody>\n",
       "    <tr>\n",
       "      <th>0</th>\n",
       "      <td>1</td>\n",
       "      <td>18654</td>\n",
       "      <td>8945</td>\n",
       "      <td>9709</td>\n",
       "      <td>23603</td>\n",
       "      <td>11317</td>\n",
       "      <td>12286</td>\n",
       "      <td>9576</td>\n",
       "      <td>4677</td>\n",
       "      <td>4899</td>\n",
       "      <td>...</td>\n",
       "      <td>338570.0</td>\n",
       "      <td>58200000.0</td>\n",
       "      <td>7.111932e+06</td>\n",
       "      <td>6250000.0</td>\n",
       "      <td>260000.0</td>\n",
       "      <td>111111112.0</td>\n",
       "      <td>7313398.32</td>\n",
       "      <td>6900000.0</td>\n",
       "      <td>990000.0</td>\n",
       "      <td>22000000.0</td>\n",
       "    </tr>\n",
       "    <tr>\n",
       "      <th>1</th>\n",
       "      <td>9925</td>\n",
       "      <td>1207</td>\n",
       "      <td>584</td>\n",
       "      <td>623</td>\n",
       "      <td>1542</td>\n",
       "      <td>742</td>\n",
       "      <td>801</td>\n",
       "      <td>656</td>\n",
       "      <td>316</td>\n",
       "      <td>340</td>\n",
       "      <td>...</td>\n",
       "      <td>338570.0</td>\n",
       "      <td>58200000.0</td>\n",
       "      <td>7.111932e+06</td>\n",
       "      <td>6250000.0</td>\n",
       "      <td>260000.0</td>\n",
       "      <td>111111112.0</td>\n",
       "      <td>7313398.32</td>\n",
       "      <td>6900000.0</td>\n",
       "      <td>990000.0</td>\n",
       "      <td>22000000.0</td>\n",
       "    </tr>\n",
       "    <tr>\n",
       "      <th>2</th>\n",
       "      <td>9926</td>\n",
       "      <td>27123</td>\n",
       "      <td>12783</td>\n",
       "      <td>14340</td>\n",
       "      <td>34341</td>\n",
       "      <td>16247</td>\n",
       "      <td>18094</td>\n",
       "      <td>14080</td>\n",
       "      <td>6623</td>\n",
       "      <td>7457</td>\n",
       "      <td>...</td>\n",
       "      <td>338570.0</td>\n",
       "      <td>58200000.0</td>\n",
       "      <td>7.111932e+06</td>\n",
       "      <td>6250000.0</td>\n",
       "      <td>260000.0</td>\n",
       "      <td>111111112.0</td>\n",
       "      <td>7313398.32</td>\n",
       "      <td>6900000.0</td>\n",
       "      <td>990000.0</td>\n",
       "      <td>22000000.0</td>\n",
       "    </tr>\n",
       "    <tr>\n",
       "      <th>3</th>\n",
       "      <td>9927</td>\n",
       "      <td>4971</td>\n",
       "      <td>2407</td>\n",
       "      <td>2564</td>\n",
       "      <td>5971</td>\n",
       "      <td>2916</td>\n",
       "      <td>3055</td>\n",
       "      <td>2539</td>\n",
       "      <td>1223</td>\n",
       "      <td>1316</td>\n",
       "      <td>...</td>\n",
       "      <td>338570.0</td>\n",
       "      <td>58200000.0</td>\n",
       "      <td>7.111932e+06</td>\n",
       "      <td>6250000.0</td>\n",
       "      <td>260000.0</td>\n",
       "      <td>111111112.0</td>\n",
       "      <td>7313398.32</td>\n",
       "      <td>6900000.0</td>\n",
       "      <td>990000.0</td>\n",
       "      <td>22000000.0</td>\n",
       "    </tr>\n",
       "    <tr>\n",
       "      <th>4</th>\n",
       "      <td>9928</td>\n",
       "      <td>3112</td>\n",
       "      <td>1512</td>\n",
       "      <td>1600</td>\n",
       "      <td>3831</td>\n",
       "      <td>1858</td>\n",
       "      <td>1973</td>\n",
       "      <td>1706</td>\n",
       "      <td>844</td>\n",
       "      <td>862</td>\n",
       "      <td>...</td>\n",
       "      <td>338570.0</td>\n",
       "      <td>58200000.0</td>\n",
       "      <td>7.111932e+06</td>\n",
       "      <td>6250000.0</td>\n",
       "      <td>260000.0</td>\n",
       "      <td>111111112.0</td>\n",
       "      <td>7313398.32</td>\n",
       "      <td>6900000.0</td>\n",
       "      <td>990000.0</td>\n",
       "      <td>22000000.0</td>\n",
       "    </tr>\n",
       "  </tbody>\n",
       "</table>\n",
       "<p>5 rows × 325 columns</p>\n",
       "</div>"
      ],
      "text/plain": [
       "     id  0_13_all  0_13_female  0_13_male  0_17_all  0_17_female  0_17_male  \\\n",
       "0     1     18654         8945       9709     23603        11317      12286   \n",
       "1  9925      1207          584        623      1542          742        801   \n",
       "2  9926     27123        12783      14340     34341        16247      18094   \n",
       "3  9927      4971         2407       2564      5971         2916       3055   \n",
       "4  9928      3112         1512       1600      3831         1858       1973   \n",
       "\n",
       "   0_6_all  0_6_female  0_6_male                   ...                     \\\n",
       "0     9576        4677      4899                   ...                      \n",
       "1      656         316       340                   ...                      \n",
       "2    14080        6623      7457                   ...                      \n",
       "3     2539        1223      1316                   ...                      \n",
       "4     1706         844       862                   ...                      \n",
       "\n",
       "   spl_timestamp_dayofmonth_x_price_doc_min  \\\n",
       "0                                  338570.0   \n",
       "1                                  338570.0   \n",
       "2                                  338570.0   \n",
       "3                                  338570.0   \n",
       "4                                  338570.0   \n",
       "\n",
       "   spl_timestamp_dayofmonth_x_price_doc_max  \\\n",
       "0                                58200000.0   \n",
       "1                                58200000.0   \n",
       "2                                58200000.0   \n",
       "3                                58200000.0   \n",
       "4                                58200000.0   \n",
       "\n",
       "   spl_timestamp_daysinmonth_x_price_doc_mean  \\\n",
       "0                                7.111932e+06   \n",
       "1                                7.111932e+06   \n",
       "2                                7.111932e+06   \n",
       "3                                7.111932e+06   \n",
       "4                                7.111932e+06   \n",
       "\n",
       "   spl_timestamp_daysinmonth_x_price_doc_median  \\\n",
       "0                                     6250000.0   \n",
       "1                                     6250000.0   \n",
       "2                                     6250000.0   \n",
       "3                                     6250000.0   \n",
       "4                                     6250000.0   \n",
       "\n",
       "   spl_timestamp_daysinmonth_x_price_doc_min  \\\n",
       "0                                   260000.0   \n",
       "1                                   260000.0   \n",
       "2                                   260000.0   \n",
       "3                                   260000.0   \n",
       "4                                   260000.0   \n",
       "\n",
       "   spl_timestamp_daysinmonth_x_price_doc_max  \\\n",
       "0                                111111112.0   \n",
       "1                                111111112.0   \n",
       "2                                111111112.0   \n",
       "3                                111111112.0   \n",
       "4                                111111112.0   \n",
       "\n",
       "   spl_timestamp_dayofyear_x_price_doc_mean  \\\n",
       "0                                7313398.32   \n",
       "1                                7313398.32   \n",
       "2                                7313398.32   \n",
       "3                                7313398.32   \n",
       "4                                7313398.32   \n",
       "\n",
       "   spl_timestamp_dayofyear_x_price_doc_median  \\\n",
       "0                                   6900000.0   \n",
       "1                                   6900000.0   \n",
       "2                                   6900000.0   \n",
       "3                                   6900000.0   \n",
       "4                                   6900000.0   \n",
       "\n",
       "   spl_timestamp_dayofyear_x_price_doc_min  \\\n",
       "0                                 990000.0   \n",
       "1                                 990000.0   \n",
       "2                                 990000.0   \n",
       "3                                 990000.0   \n",
       "4                                 990000.0   \n",
       "\n",
       "   spl_timestamp_dayofyear_x_price_doc_max  \n",
       "0                               22000000.0  \n",
       "1                               22000000.0  \n",
       "2                               22000000.0  \n",
       "3                               22000000.0  \n",
       "4                               22000000.0  \n",
       "\n",
       "[5 rows x 325 columns]"
      ]
     },
     "execution_count": 72,
     "metadata": {},
     "output_type": "execute_result"
    }
   ],
   "source": [
    "# Add the relations of these features to the target variable...\n",
    "add_relations_to_target_variable_as_feature(full_df_features, ['timestamp_dayofweek', 'timestamp_isweekday', 'timestamp_dayofmonth', 'timestamp_daysinmonth', 'timestamp_dayofyear']).head(10)"
   ]
  },
  {
   "cell_type": "markdown",
   "metadata": {},
   "source": [
    "#### Weeks"
   ]
  },
  {
   "cell_type": "code",
   "execution_count": 140,
   "metadata": {
    "collapsed": true
   },
   "outputs": [],
   "source": [
    "full_df_features['timestamp_weekofyear'] = full_df_features.apply(lambda row: row['timestamp'].week, axis=1)"
   ]
  },
  {
   "cell_type": "markdown",
   "metadata": {},
   "source": [
    "#### Month"
   ]
  },
  {
   "cell_type": "code",
   "execution_count": 81,
   "metadata": {
    "collapsed": true
   },
   "outputs": [],
   "source": [
    "full_df_features['timestamp_month'] = full_df_features.apply(lambda row: row['timestamp'].month, axis=1)"
   ]
  },
  {
   "cell_type": "code",
   "execution_count": 115,
   "metadata": {
    "collapsed": true
   },
   "outputs": [],
   "source": [
    "full_df_features['timestamp_ismonthstart'] = full_df_features.apply(lambda row: row['timestamp'].is_month_start, axis=1)"
   ]
  },
  {
   "cell_type": "code",
   "execution_count": 116,
   "metadata": {
    "collapsed": true
   },
   "outputs": [],
   "source": [
    "full_df_features['timestamp_ismonthend'] = full_df_features.apply(lambda row: row['timestamp'].is_month_end, axis=1)"
   ]
  },
  {
   "cell_type": "markdown",
   "metadata": {},
   "source": [
    "#### Year"
   ]
  },
  {
   "cell_type": "code",
   "execution_count": 152,
   "metadata": {
    "collapsed": true
   },
   "outputs": [],
   "source": [
    "full_df_features['timestamp_year'] = full_df_features.apply(lambda row: row['timestamp'].year, axis=1)"
   ]
  },
  {
   "cell_type": "code",
   "execution_count": 111,
   "metadata": {
    "collapsed": true
   },
   "outputs": [],
   "source": [
    "full_df_features['timestamp_isleapyear'] = full_df_features.apply(lambda row: row['timestamp'].is_leap_year, axis=1)"
   ]
  },
  {
   "cell_type": "code",
   "execution_count": 145,
   "metadata": {
    "collapsed": true
   },
   "outputs": [],
   "source": [
    "full_df_features['timestamp_isquarterstart'] = full_df_features.apply(lambda row: row['timestamp'].is_quarter_start, axis=1)"
   ]
  },
  {
   "cell_type": "code",
   "execution_count": 146,
   "metadata": {
    "collapsed": true
   },
   "outputs": [],
   "source": [
    "full_df_features['timestamp_isquarterend'] = full_df_features.apply(lambda row: row['timestamp'].is_quarter_end, axis=1)"
   ]
  },
  {
   "cell_type": "code",
   "execution_count": 150,
   "metadata": {
    "collapsed": true
   },
   "outputs": [],
   "source": [
    "full_df_features['timestamp_isyearstart'] = full_df_features.apply(lambda row: row['timestamp'].is_year_start, axis=1)"
   ]
  },
  {
   "cell_type": "code",
   "execution_count": 151,
   "metadata": {
    "collapsed": true
   },
   "outputs": [],
   "source": [
    "full_df_features['timestamp_isyearend'] = full_df_features.apply(lambda row: row['timestamp'].is_year_end, axis=1)"
   ]
  },
  {
   "cell_type": "markdown",
   "metadata": {},
   "source": [
    "### Property features\n",
    "Based on features like full_sq, life_sq, etc.\n",
    "\n",
    "** Note: ** It would be interesting to also compute some ** *crossed features* ** of the various non-timestamp columns, such as those describing:\n",
    "\n",
    "    1. property\n",
    "    2. economy\n",
    "    3. social atmosphere\n",
    "    \n",
    "   *and others*"
   ]
  },
  {
   "cell_type": "markdown",
   "metadata": {},
   "source": [
    "#### Differences"
   ]
  },
  {
   "cell_type": "code",
   "execution_count": 157,
   "metadata": {
    "collapsed": true
   },
   "outputs": [],
   "source": [
    "full_df_features['fullsq_diff_lifesq'] = np.absolute(full_df_features['full_sq'] - full_df_features['life_sq'])"
   ]
  },
  {
   "cell_type": "code",
   "execution_count": 158,
   "metadata": {
    "collapsed": true
   },
   "outputs": [],
   "source": [
    "full_df_features['fullsq_diff_kitch_sq'] = np.absolute(full_df_features['full_sq'] - full_df_features['kitch_sq'])"
   ]
  },
  {
   "cell_type": "code",
   "execution_count": 159,
   "metadata": {
    "collapsed": true
   },
   "outputs": [],
   "source": [
    "full_df_features['lifesq_diff_kitch_sq'] = np.absolute(full_df_features['life_sq'] - full_df_features['kitch_sq'])"
   ]
  },
  {
   "cell_type": "code",
   "execution_count": 163,
   "metadata": {
    "collapsed": true
   },
   "outputs": [],
   "source": [
    "full_df_features['floor_diff_maxfloor'] = np.absolute(full_df_features['max_floor'] - full_df_features['floor'])"
   ]
  },
  {
   "cell_type": "code",
   "execution_count": 165,
   "metadata": {
    "collapsed": true
   },
   "outputs": [],
   "source": [
    "full_df_features['timestampyear_diff_buildyear'] = np.absolute(full_df_features['timestamp_year'] - full_df_features['build_year'])"
   ]
  },
  {
   "cell_type": "markdown",
   "metadata": {},
   "source": [
    "#### Ratios"
   ]
  },
  {
   "cell_type": "code",
   "execution_count": 170,
   "metadata": {
    "collapsed": true
   },
   "outputs": [],
   "source": [
    "full_df_features['lifesq_div_full_sq'] = full_df_features['life_sq'] / full_df_features['full_sq']"
   ]
  },
  {
   "cell_type": "code",
   "execution_count": 171,
   "metadata": {
    "collapsed": true
   },
   "outputs": [],
   "source": [
    "full_df_features['kitchsq_div_full_sq'] = full_df_features['kitch_sq'] / full_df_features['full_sq']"
   ]
  },
  {
   "cell_type": "code",
   "execution_count": 172,
   "metadata": {
    "collapsed": true
   },
   "outputs": [],
   "source": [
    "full_df_features['kitchsq_div_life_sq'] = full_df_features['kitch_sq'] / full_df_features['life_sq']"
   ]
  },
  {
   "cell_type": "code",
   "execution_count": 173,
   "metadata": {
    "collapsed": true
   },
   "outputs": [],
   "source": [
    "full_df_features['floor_div_maxfloor'] = full_df_features['floor'] / full_df_features['max_floor']"
   ]
  },
  {
   "cell_type": "code",
   "execution_count": 173,
   "metadata": {
    "collapsed": true
   },
   "outputs": [],
   "source": [
    "full_df_features['floor_div_maxfloor'] = full_df_features['floor'] / full_df_features['max_floor']"
   ]
  },
  {
   "cell_type": "code",
   "execution_count": 177,
   "metadata": {
    "collapsed": true
   },
   "outputs": [],
   "source": [
    "full_df_features['buildyear_div_timestampyear'] = full_df_features['build_year'] / full_df_features['timestamp_year']"
   ]
  },
  {
   "cell_type": "markdown",
   "metadata": {},
   "source": [
    "## Split the fixed dataset into the training and testing subsets\n",
    "\n",
    "** Note: ** When using the training set as input to machine learning models, remember to only use ONE of the target variable transformations (including the raw target variable itself) and OMIT the others in order to prevent leakage!\n",
    "\n",
    "** *However* **, make sure to NOT drop the **spl** columns that describe the mean/median target variables in terms of various categorical (or also bucketized) columns!"
   ]
  },
  {
   "cell_type": "code",
   "execution_count": 63,
   "metadata": {
    "collapsed": true
   },
   "outputs": [],
   "source": [
    "train_df = df_fixed_imputed[df_fixed_imputed.price_doc.notnull()]\n",
    "test_df = df_fixed_imputed[df_fixed_imputed.price_doc.isnull()].drop(\"price_doc\", axis=1)"
   ]
  },
  {
   "cell_type": "markdown",
   "metadata": {},
   "source": [
    "### Also remove any target variable transformation columns from the test set"
   ]
  },
  {
   "cell_type": "code",
   "execution_count": null,
   "metadata": {
    "collapsed": true
   },
   "outputs": [],
   "source": [
    "for c in test_df.columns.tolist():\n",
    "    if LABEL in c:\n",
    "        if 'spl_' not in c:\n",
    "            print 'Dropping label transformation column, %s, from the test set.' % c\n",
    "            test_df.drop(c, inplace=True, axis=1)"
   ]
  },
  {
   "cell_type": "code",
   "execution_count": 66,
   "metadata": {
    "collapsed": true
   },
   "outputs": [],
   "source": [
    "# Everything's cleaned up! ;)\n",
    "assert len( train_df.columns[train_df.isnull().any()].tolist()) == 0\n",
    "assert len( test_df.columns[test_df.isnull().any()].tolist()) == 0"
   ]
  },
  {
   "cell_type": "code",
   "execution_count": null,
   "metadata": {
    "collapsed": true
   },
   "outputs": [],
   "source": []
  }
 ],
 "metadata": {
  "kernelspec": {
   "display_name": "Python 2",
   "language": "python",
   "name": "python2"
  },
  "language_info": {
   "codemirror_mode": {
    "name": "ipython",
    "version": 2
   },
   "file_extension": ".py",
   "mimetype": "text/x-python",
   "name": "python",
   "nbconvert_exporter": "python",
   "pygments_lexer": "ipython2",
   "version": "2.7.6"
  }
 },
 "nbformat": 4,
 "nbformat_minor": 2
}
