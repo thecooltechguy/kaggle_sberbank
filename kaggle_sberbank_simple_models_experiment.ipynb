{
 "cells": [
  {
   "cell_type": "markdown",
   "metadata": {},
   "source": [
    "# Experimenting with simple models with a hold-out validation set"
   ]
  },
  {
   "cell_type": "code",
   "execution_count": 1,
   "metadata": {
    "collapsed": true
   },
   "outputs": [],
   "source": [
    "% matplotlib inline"
   ]
  },
  {
   "cell_type": "code",
   "execution_count": 2,
   "metadata": {
    "collapsed": true
   },
   "outputs": [],
   "source": [
    "import pandas as pd, numpy as np"
   ]
  },
  {
   "cell_type": "code",
   "execution_count": 3,
   "metadata": {
    "collapsed": true
   },
   "outputs": [],
   "source": [
    "seed = 2018"
   ]
  },
  {
   "cell_type": "code",
   "execution_count": 4,
   "metadata": {
    "collapsed": true
   },
   "outputs": [],
   "source": [
    "np.random.seed(seed)"
   ]
  },
  {
   "cell_type": "markdown",
   "metadata": {},
   "source": [
    "## Data"
   ]
  },
  {
   "cell_type": "code",
   "execution_count": 5,
   "metadata": {
    "collapsed": true
   },
   "outputs": [],
   "source": [
    "LABEL = 'price_doc'"
   ]
  },
  {
   "cell_type": "code",
   "execution_count": 6,
   "metadata": {
    "collapsed": true
   },
   "outputs": [],
   "source": [
    "train_df = pd.read_csv(\"../data/train.csv\", index_col='id', parse_dates=['timestamp'])\n",
    "test_df = pd.read_csv(\"../data/test.csv\", index_col='id', parse_dates=['timestamp'])\n",
    "macro_df = pd.read_csv(\"../data/macro.csv\", parse_dates=['timestamp'])"
   ]
  },
  {
   "cell_type": "markdown",
   "metadata": {},
   "source": [
    "## Incorporate fixes into dataset"
   ]
  },
  {
   "cell_type": "code",
   "execution_count": 7,
   "metadata": {
    "collapsed": true
   },
   "outputs": [],
   "source": [
    "df_fixup = pd.read_excel('../data/BAD_ADDRESS_FIX.xlsx', index_col='id')\n",
    "\n",
    "fix_train_indexset = set(df_fixup[df_fixup.index < train_df.index.max()].index)\n",
    "bad_train_indexset = set(train_df[train_df.kremlin_km == train_df.kremlin_km.min()].index)\n",
    "unfixed_set = bad_train_indexset.difference(fix_train_indexset)\n",
    "\n",
    "train_df.drop(unfixed_set, inplace=True)\n",
    "\n",
    "full_df = pd.concat([train_df, test_df])\n",
    "\n",
    "for c in df_fixup.columns:\n",
    "    full_df.loc[df_fixup.index, c] = df_fixup[c]\n",
    "    \n",
    "# Derive training and testing sets back from the fixed full dataframe...\n",
    "df_fixed = full_df\n",
    "df_fixed.reset_index(inplace=True)"
   ]
  },
  {
   "cell_type": "markdown",
   "metadata": {},
   "source": [
    "## Imputation"
   ]
  },
  {
   "cell_type": "code",
   "execution_count": 8,
   "metadata": {
    "collapsed": true
   },
   "outputs": [],
   "source": [
    "impute_with_mode_cols = ['material', 'product_type', 'state', 'ID_'] # The categorical columns in our dataset"
   ]
  },
  {
   "cell_type": "code",
   "execution_count": 9,
   "metadata": {
    "collapsed": true
   },
   "outputs": [],
   "source": [
    "exclude_imputation_cols = ['price_doc'] # The testing set obviously has NaN price_doc values, so ignore this intentionally\n",
    "# Get the columns that have NaN values.\n",
    "impute_cols = [c for c in df_fixed.columns[df_fixed.isnull().any()].tolist() if c not in exclude_imputation_cols]\n",
    "df_fixed_imputed = df_fixed.copy()\n",
    "\n",
    "for col in impute_cols:\n",
    "    # Check if we should impute this with the mode.\n",
    "    impute_with_mode = False\n",
    "    if \"ID_\" in col:\n",
    "        impute_with_mode = True\n",
    "    else:\n",
    "        impute_with_mode = any(icol == col for icol in impute_with_mode_cols)\n",
    "    \n",
    "    if impute_with_mode:\n",
    "        # Impute this column with the mode.\n",
    "        mode = df_fixed[col].dropna().mode()[0]\n",
    "        df_fixed_imputed[col] = df_fixed_imputed[col].fillna(value=mode)\n",
    "    else:\n",
    "        # Impute this column with the median.\n",
    "        median = df_fixed[col].dropna().median()\n",
    "        df_fixed_imputed[col] = df_fixed_imputed[col].fillna(value=median)"
   ]
  },
  {
   "cell_type": "code",
   "execution_count": 10,
   "metadata": {
    "collapsed": true
   },
   "outputs": [],
   "source": [
    "# Get the columns that have NaN values.\n",
    "impute_cols = [c for c in macro_df.columns[macro_df.isnull().any()].tolist()]"
   ]
  },
  {
   "cell_type": "code",
   "execution_count": 11,
   "metadata": {
    "collapsed": true
   },
   "outputs": [],
   "source": [
    "macro_df_imputed = macro_df\n",
    "\n",
    "# These columns store numbers as strings (aka. pandas objects) with commas, so they need some cleaning & parsing...\n",
    "problematic_cols = ['child_on_acc_pre_school', 'modern_education_share', 'old_education_build_share']\n",
    "\n",
    "for c in problematic_cols:\n",
    "    macro_df_imputed[c].replace('#!', np.nan, inplace=True)\n",
    "    macro_df_imputed[c] = macro_df_imputed.apply(lambda row: str(row['child_on_acc_pre_school']).replace(\",\",\"\") if row['child_on_acc_pre_school'] else row['child_on_acc_pre_school'], 1)\n",
    "    macro_df_imputed[c]  = macro_df_imputed[c].astype(np.float32)\n",
    "    \n",
    "for col in impute_cols:\n",
    "    # Check if we should impute this with the mode.\n",
    "    impute_with_mode = False\n",
    "    if \"ID_\" in col:\n",
    "        impute_with_mode = True\n",
    "    else:\n",
    "        impute_with_mode = any(icol == col for icol in impute_with_mode_cols)\n",
    "    \n",
    "    if impute_with_mode:\n",
    "        # Impute this column with the mode.\n",
    "        print 'Imputing column %s with mode.' % col\n",
    "        mode = macro_df_imputed[col].dropna().mode()[0]\n",
    "        macro_df_imputed[col] = macro_df_imputed[col].fillna(value=mode)\n",
    "    else:\n",
    "        # Impute this column with the median.\n",
    "        median = macro_df_imputed[col].dropna().median()\n",
    "        macro_df_imputed[col] = macro_df_imputed[col].fillna(value=median)"
   ]
  },
  {
   "cell_type": "code",
   "execution_count": 12,
   "metadata": {
    "collapsed": true
   },
   "outputs": [],
   "source": [
    "full_df_features = df_fixed_imputed.copy()"
   ]
  },
  {
   "cell_type": "markdown",
   "metadata": {},
   "source": [
    "## Clean up data"
   ]
  },
  {
   "cell_type": "code",
   "execution_count": 13,
   "metadata": {
    "collapsed": true
   },
   "outputs": [],
   "source": [
    "full_df_features.loc[full_df_features['build_year'] == 20052009, 'build_year'] = 2007\n",
    "full_df_features.loc[full_df_features['build_year'].isin([1, 0, 3, 20, 71, 215, 4965]), 'build_year'] = full_df_features['build_year'].mode()[0]\n",
    "full_df_features.loc[full_df_features.state == 33, 'state'] = 5\n",
    "# Some floors have values greater than the max_floor, so let's fix that.\n",
    "full_df_features.loc[full_df_features.floor > full_df_features.max_floor, ['floor', 'max_floor']] = full_df_features.loc[full_df_features.floor > full_df_features.max_floor, ['floor', 'max_floor']].max(1)"
   ]
  },
  {
   "cell_type": "markdown",
   "metadata": {},
   "source": [
    "## Some basic temporal features"
   ]
  },
  {
   "cell_type": "code",
   "execution_count": 14,
   "metadata": {
    "collapsed": true
   },
   "outputs": [],
   "source": [
    "full_df_features['timestamp_year'] = full_df_features.apply(lambda row: row['timestamp'].year, axis=1)\n",
    "# The max year in the dataset is 2015. Test set only contains 2015 days.\n",
    "# This feature will probably help models better generalize, since years closer to 2016 will have higher prices, etc.\n",
    "full_df_features['timestamp_yearsuntil2016'] = 2016 - full_df_features['timestamp_year']"
   ]
  },
  {
   "cell_type": "code",
   "execution_count": 15,
   "metadata": {
    "collapsed": true
   },
   "outputs": [],
   "source": [
    "full_df_features['timestamp_year_bucketized_prepost2013'] = pd.cut(full_df_features['timestamp_year'], [full_df_features['timestamp_year'].min() - 1, \n",
    "                                                                                                        2013,\n",
    "                                                                                                        full_df_features['timestamp_year'].max()])\n",
    "full_df_features['timestamp_year_bucketized_pre2012post2013'] = pd.cut(full_df_features['timestamp_year'], [full_df_features['timestamp_year'].min() - 1,\n",
    "                                                                                                            2012,\n",
    "                                                                                                            2013,\n",
    "                                                                                                            full_df_features['timestamp_year'].max()])"
   ]
  },
  {
   "cell_type": "code",
   "execution_count": 16,
   "metadata": {
    "collapsed": true
   },
   "outputs": [],
   "source": [
    "full_df_features['timestamp_yearsuntil2016_bucketized_prepost2013'] = pd.cut(full_df_features['timestamp_yearsuntil2016'], [full_df_features['timestamp_yearsuntil2016'].min() - 1, \n",
    "                                                                                                        3,\n",
    "                                                                                                        full_df_features['timestamp_yearsuntil2016'].max()])\n",
    "full_df_features['timestamp_yearsuntil2016_bucketized_pre2012post2013'] = pd.cut(full_df_features['timestamp_yearsuntil2016'], [full_df_features['timestamp_yearsuntil2016'].min() - 1,\n",
    "                                                                                                            3,\n",
    "                                                                                                            4,\n",
    "                                                                                                            full_df_features['timestamp_yearsuntil2016'].max()])"
   ]
  },
  {
   "cell_type": "code",
   "execution_count": 17,
   "metadata": {},
   "outputs": [
    {
     "data": {
      "text/plain": [
       "\"\\nfull_df_features['timestamp_dayofweek'] = full_df_features.apply(lambda row: row['timestamp'].dayofweek, axis=1)\\nfull_df_features['timestamp_isweekday'] = full_df_features.apply(lambda row: row['timestamp'].weekday() not in (SATURDAY, SUNDAY), axis=1)\\nfull_df_features['timestamp_dayofmonth'] = full_df_features.apply(lambda row: row['timestamp'].day, axis=1)\\nfull_df_features['timestamp_daysinmonth'] = full_df_features.apply(lambda row: row['timestamp'].daysinmonth, axis=1)\\nfull_df_features['timestamp_dayofyear'] = full_df_features.apply(lambda row: row['timestamp'].dayofyear, axis=1)\\n\""
      ]
     },
     "execution_count": 17,
     "metadata": {},
     "output_type": "execute_result"
    }
   ],
   "source": [
    "SATURDAY, SUNDAY = 5, 6 # Pandas's weekday codes for the weekend\n",
    "full_df_features['timestamp_dayofyear'] = full_df_features.apply(lambda row: row['timestamp'].dayofyear, axis=1)\n",
    "\"\"\"\n",
    "full_df_features['timestamp_dayofweek'] = full_df_features.apply(lambda row: row['timestamp'].dayofweek, axis=1)\n",
    "full_df_features['timestamp_isweekday'] = full_df_features.apply(lambda row: row['timestamp'].weekday() not in (SATURDAY, SUNDAY), axis=1)\n",
    "full_df_features['timestamp_dayofmonth'] = full_df_features.apply(lambda row: row['timestamp'].day, axis=1)\n",
    "full_df_features['timestamp_daysinmonth'] = full_df_features.apply(lambda row: row['timestamp'].daysinmonth, axis=1)\n",
    "full_df_features['timestamp_dayofyear'] = full_df_features.apply(lambda row: row['timestamp'].dayofyear, axis=1)\n",
    "\"\"\""
   ]
  },
  {
   "cell_type": "code",
   "execution_count": 18,
   "metadata": {
    "collapsed": true
   },
   "outputs": [],
   "source": [
    "#full_df_features['timestamp_weekofyear'] = full_df_features.apply(lambda row: row['timestamp'].week, axis=1)"
   ]
  },
  {
   "cell_type": "code",
   "execution_count": 19,
   "metadata": {
    "collapsed": true
   },
   "outputs": [],
   "source": [
    "full_df_features['timestamp_month'] = full_df_features.apply(lambda row: row['timestamp'].month, axis=1)"
   ]
  },
  {
   "cell_type": "markdown",
   "metadata": {},
   "source": [
    "## Split back into training and testing sets."
   ]
  },
  {
   "cell_type": "code",
   "execution_count": 20,
   "metadata": {},
   "outputs": [
    {
     "data": {
      "text/plain": [
       "(38080, 399)"
      ]
     },
     "execution_count": 20,
     "metadata": {},
     "output_type": "execute_result"
    }
   ],
   "source": [
    "full_df_features_with_macro = pd.merge(full_df_features, macro_df_imputed, on='timestamp')\n",
    "full_df_features_with_macro.shape"
   ]
  },
  {
   "cell_type": "code",
   "execution_count": 21,
   "metadata": {
    "collapsed": true
   },
   "outputs": [],
   "source": [
    "### Drop timestamp column to prevent overfitting\n",
    "full_df_features_with_macro = full_df_features_with_macro.drop('timestamp', axis=1)"
   ]
  },
  {
   "cell_type": "code",
   "execution_count": 22,
   "metadata": {
    "collapsed": true
   },
   "outputs": [],
   "source": [
    "def collect_and_cluster_categorical(df, col, groupsize):\n",
    "    \"\"\"\n",
    "    NOTE: Can also use in Mercedes competition, to cluster certain tests together... Try it out!\n",
    "    \"\"\"\n",
    "    global LABEL\n",
    "    \n",
    "    cg_groups = []\n",
    "    \n",
    "    cdf = df.groupby(col, as_index=False)[LABEL].median().reset_index().sort_values(LABEL, ascending=False)\n",
    "        \n",
    "    for g, _df in cdf.groupby(np.arange(len(cdf)) // groupsize):\n",
    "        cg_groups.append(_df[col].astype(str).values.tolist())\n",
    "            \n",
    "    def resolve_col_group(_col, groups):\n",
    "        for idx, g in enumerate(groups):\n",
    "            if _col in g:\n",
    "                return idx\n",
    "        return -1\n",
    "        \n",
    "    return pd.Series(data=df[col].astype(str).apply(lambda x : resolve_col_group(x, cg_groups)))"
   ]
  },
  {
   "cell_type": "markdown",
   "metadata": {},
   "source": [
    "### One-hot encoded version"
   ]
  },
  {
   "cell_type": "code",
   "execution_count": 23,
   "metadata": {
    "collapsed": true
   },
   "outputs": [],
   "source": [
    "full_df_features_with_macro_onehot = full_df_features_with_macro.copy()"
   ]
  },
  {
   "cell_type": "code",
   "execution_count": 24,
   "metadata": {
    "collapsed": true
   },
   "outputs": [],
   "source": [
    "full_df_features_with_macro_onehot['sub_area_index_8'] = collect_and_cluster_categorical(full_df_features_with_macro_onehot, 'sub_area', full_df_features_with_macro_onehot['sub_area'].unique().shape[0] // 8)\n",
    "full_df_features_with_macro_onehot['sub_area_index_10'] = collect_and_cluster_categorical(full_df_features_with_macro_onehot, 'sub_area', full_df_features_with_macro_onehot['sub_area'].unique().shape[0] // 10)"
   ]
  },
  {
   "cell_type": "code",
   "execution_count": 25,
   "metadata": {},
   "outputs": [
    {
     "data": {
      "text/plain": [
       "(38080, 568)"
      ]
     },
     "execution_count": 25,
     "metadata": {},
     "output_type": "execute_result"
    }
   ],
   "source": [
    "full_df_features_with_macro_onehot = pd.get_dummies(full_df_features_with_macro_onehot)\n",
    "full_df_features_with_macro_onehot.shape"
   ]
  },
  {
   "cell_type": "code",
   "execution_count": 26,
   "metadata": {
    "collapsed": true
   },
   "outputs": [],
   "source": [
    "id_cols = [c for c in full_df_features_with_macro.columns if 'ID_' in c]\n",
    "special_categoricals = ['state', 'material','sub_area_index_8', 'sub_area_index_10' ]\n",
    "implicit_categorical_cols = id_cols + special_categoricals"
   ]
  },
  {
   "cell_type": "code",
   "execution_count": 27,
   "metadata": {
    "collapsed": true
   },
   "outputs": [],
   "source": [
    "full_df_features_with_macro_onehot = pd.get_dummies(full_df_features_with_macro_onehot, columns=implicit_categorical_cols)"
   ]
  },
  {
   "cell_type": "code",
   "execution_count": 28,
   "metadata": {},
   "outputs": [
    {
     "data": {
      "text/plain": [
       "((30418, 1209), (7662, 1209))"
      ]
     },
     "execution_count": 28,
     "metadata": {},
     "output_type": "execute_result"
    }
   ],
   "source": [
    "# Train has price_doc but no id\n",
    "# Test has id, but no price doc\n",
    "train_df_withmacro_onehot = full_df_features_with_macro_onehot[full_df_features_with_macro_onehot.price_doc.notnull()]\n",
    "test_df_withmacro_onehot = full_df_features_with_macro_onehot[full_df_features_with_macro_onehot.price_doc.isnull()]\n",
    "test_df_withmacro_onehot = test_df_withmacro_onehot.drop(['price_doc'], axis=1)\n",
    "train_df_withmacro_onehot = train_df_withmacro_onehot.drop('id', axis=1)\n",
    "train_df_withmacro_onehot.shape, test_df_withmacro_onehot.shape"
   ]
  },
  {
   "cell_type": "markdown",
   "metadata": {},
   "source": [
    "### Label-encoded version"
   ]
  },
  {
   "cell_type": "code",
   "execution_count": 29,
   "metadata": {
    "collapsed": true
   },
   "outputs": [],
   "source": [
    "from sklearn.preprocessing import LabelEncoder"
   ]
  },
  {
   "cell_type": "code",
   "execution_count": 30,
   "metadata": {
    "collapsed": true
   },
   "outputs": [],
   "source": [
    "full_df_features_with_macro_labelecoded = full_df_features_with_macro.copy()"
   ]
  },
  {
   "cell_type": "code",
   "execution_count": 31,
   "metadata": {
    "collapsed": true
   },
   "outputs": [],
   "source": [
    "for c in ['big_market_raion',\n",
    "          'big_road1_1line',\n",
    "          'culture_objects_top_25',\n",
    "          'detention_facility_raion',\n",
    "          'ecology',\n",
    "          'incineration_raion',\n",
    "          'nuclear_reactor_raion',\n",
    "          'oil_chemistry_raion',\n",
    "          'product_type',\n",
    "          'radiation_raion',\n",
    "          'railroad_1line',\n",
    "          'railroad_terminal_raion',\n",
    "          'thermal_power_plant_raion',\n",
    "          'water_1line']:\n",
    "    full_df_features_with_macro_labelecoded[c] = LabelEncoder().fit_transform(full_df_features_with_macro_labelecoded[c].values)"
   ]
  },
  {
   "cell_type": "code",
   "execution_count": 32,
   "metadata": {
    "collapsed": true
   },
   "outputs": [],
   "source": [
    "full_df_features_with_macro_labelecoded['sub_area_index_8'] = collect_and_cluster_categorical(full_df_features_with_macro_labelecoded, 'sub_area', full_df_features_with_macro_labelecoded['sub_area'].unique().shape[0] // 8)\n",
    "full_df_features_with_macro_labelecoded['sub_area_index_10'] = collect_and_cluster_categorical(full_df_features_with_macro_labelecoded, 'sub_area', full_df_features_with_macro_labelecoded['sub_area'].unique().shape[0] // 10)"
   ]
  },
  {
   "cell_type": "code",
   "execution_count": 33,
   "metadata": {
    "collapsed": true
   },
   "outputs": [],
   "source": [
    "full_df_features_with_macro_labelecoded['sub_area'] = LabelEncoder().fit_transform(full_df_features_with_macro_labelecoded['sub_area'].values)"
   ]
  },
  {
   "cell_type": "code",
   "execution_count": 34,
   "metadata": {
    "collapsed": true
   },
   "outputs": [],
   "source": [
    "for c in full_df_features_with_macro_labelecoded.select_dtypes(include=[np.bool]).columns.tolist():\n",
    "    full_df_features_with_macro_labelecoded[c] = full_df_features_with_macro_labelecoded[c].astype(int)"
   ]
  },
  {
   "cell_type": "code",
   "execution_count": 35,
   "metadata": {
    "collapsed": true
   },
   "outputs": [],
   "source": [
    "for c in full_df_features_with_macro_labelecoded.select_dtypes(exclude=[\"number\",\"bool_\",\"object_\"]).columns.tolist():\n",
    "    full_df_features_with_macro_labelecoded[c] = full_df_features_with_macro_labelecoded[c].cat.codes.astype(int)"
   ]
  },
  {
   "cell_type": "code",
   "execution_count": 36,
   "metadata": {},
   "outputs": [
    {
     "data": {
      "text/plain": [
       "((30418, 399), (7662, 399))"
      ]
     },
     "execution_count": 36,
     "metadata": {},
     "output_type": "execute_result"
    }
   ],
   "source": [
    "train_df_with_macro_labelecoded = full_df_features_with_macro_labelecoded[full_df_features_with_macro_labelecoded.price_doc.notnull()]\n",
    "test_df_with_macro_labelecoded = full_df_features_with_macro_labelecoded[full_df_features_with_macro_labelecoded.price_doc.isnull()]\n",
    "test_df_with_macro_labelecoded = test_df_with_macro_labelecoded.drop('price_doc', axis=1)\n",
    "train_df_with_macro_labelecoded = train_df_with_macro_labelecoded.drop('id', axis=1)\n",
    "train_df_with_macro_labelecoded.shape, test_df_with_macro_labelecoded.shape"
   ]
  },
  {
   "cell_type": "markdown",
   "metadata": {},
   "source": [
    "## Create hold-out validation set\n",
    "Last 2 months of training set in 2015."
   ]
  },
  {
   "cell_type": "code",
   "execution_count": 37,
   "metadata": {
    "collapsed": true
   },
   "outputs": [],
   "source": [
    "from sklearn.metrics import mean_squared_error\n",
    "from math import sqrt"
   ]
  },
  {
   "cell_type": "code",
   "execution_count": 38,
   "metadata": {
    "collapsed": true
   },
   "outputs": [],
   "source": [
    "def rmsle(y_true, y_preds):\n",
    "    return sqrt(mean_squared_error(y_pred=np.log1p(y_preds), y_true=np.log1p(y_true)))"
   ]
  },
  {
   "cell_type": "code",
   "execution_count": 39,
   "metadata": {
    "collapsed": true
   },
   "outputs": [],
   "source": [
    "def clean_inputs(df, is_train=True, transform_target=True, exclude_cols=['timestamp_year', 'timestamp_month', 'timestamp_dayofyear']):\n",
    "    if is_train:\n",
    "        return df.drop(['price_doc'] + exclude_cols, axis=1), np.log1p(df['price_doc'].values)\n",
    "    else:\n",
    "        # Testing set\n",
    "        return df.drop(['id'] + exclude_cols, axis=1)"
   ]
  },
  {
   "cell_type": "code",
   "execution_count": 40,
   "metadata": {
    "collapsed": true
   },
   "outputs": [],
   "source": [
    "def split_into_train_and_val(df, last_n_months=2, last_n_weeks=6, use_months=True):\n",
    "    if use_months:\n",
    "        max_month_in_2015 = df[df.timestamp_year == 2015 ].timestamp_month.max()\n",
    "        val_df = df[(df.timestamp_year == 2015) & (df.timestamp_month >= max_month_in_2015 - last_n_months)]\n",
    "        train_df = df[~df.index.isin(val_df.index)]\n",
    "        return train_df, val_df\n",
    "    else:\n",
    "        max_week_in_2015 = (df[df.timestamp_year == 2015 ].timestamp_dayofyear // 7).max()\n",
    "        val_df = df[(df.timestamp_year == 2015) & ( (df.timestamp_dayofyear // 7) >= max_week_in_2015 - last_n_weeks)]\n",
    "        train_df = df[~df.index.isin(val_df.index)]\n",
    "        return train_df, val_df"
   ]
  },
  {
   "cell_type": "code",
   "execution_count": 41,
   "metadata": {
    "collapsed": true
   },
   "outputs": [],
   "source": [
    "def evaluate_model_on_holdout_set(estimator, train, val, transform_target=True, exclude_cols=['timestamp_year', 'timestamp_month', 'timestamp_dayofyear']):\n",
    "    print 'Fitting model on training set...'\n",
    "    estimator.fit(*clean_inputs(train, is_train=True, transform_target=transform_target, exclude_cols = exclude_cols))\n",
    "    val_input, val_output = clean_inputs(val, is_train=True, transform_target=transform_target, exclude_cols = exclude_cols)\n",
    "    print 'Predicting the hold-out validation set...'\n",
    "    y_preds = estimator.predict(val_input)\n",
    "    y_true = val_output\n",
    "    print 'Scoring model...'\n",
    "    if not transform_target:\n",
    "        score = rmsle(y_true, y_preds)\n",
    "    else:\n",
    "        score = sqrt(mean_squared_error(y_pred=y_preds, y_true=y_true))\n",
    "    print 'RMSLE: ', score\n",
    "    return score"
   ]
  },
  {
   "cell_type": "markdown",
   "metadata": {},
   "source": [
    "# Model Type 1: Linear models"
   ]
  },
  {
   "cell_type": "code",
   "execution_count": 49,
   "metadata": {
    "collapsed": true
   },
   "outputs": [],
   "source": [
    "linear_train, linear_val = split_into_train_and_val(train_df_withmacro_onehot)"
   ]
  },
  {
   "cell_type": "code",
   "execution_count": 50,
   "metadata": {
    "collapsed": true
   },
   "outputs": [],
   "source": [
    "linear_train_after_2013, linear_val_after_2013 = split_into_train_and_val(train_df_withmacro_onehot)\n",
    "linear_train_after_2013 = linear_train_after_2013[linear_train_after_2013.timestamp_year >= 2013]"
   ]
  },
  {
   "cell_type": "code",
   "execution_count": 42,
   "metadata": {
    "collapsed": true
   },
   "outputs": [],
   "source": [
    "linear_train_after_2014, linear_val_after_2014 = split_into_train_and_val(train_df_withmacro_onehot)\n",
    "linear_train_after_2014 = linear_train_after_2014[linear_train_after_2014.timestamp_year >= 2014]"
   ]
  },
  {
   "cell_type": "code",
   "execution_count": 43,
   "metadata": {
    "collapsed": true
   },
   "outputs": [],
   "source": [
    "linear_train_after_2015, linear_val_after_2015 = split_into_train_and_val(train_df_withmacro_onehot)\n",
    "linear_train_after_2015 = linear_train_after_2015[linear_train_after_2015.timestamp_year >= 2015]"
   ]
  },
  {
   "cell_type": "code",
   "execution_count": 44,
   "metadata": {
    "collapsed": true
   },
   "outputs": [],
   "source": [
    "linear_train_before_2013, linear_val_before_2013 = split_into_train_and_val(train_df_withmacro_onehot)\n",
    "linear_train_before_2013 = linear_train_before_2013[linear_train_before_2013.timestamp_year < 2013]"
   ]
  },
  {
   "cell_type": "markdown",
   "metadata": {},
   "source": [
    "## Linear"
   ]
  },
  {
   "cell_type": "code",
   "execution_count": 88,
   "metadata": {
    "collapsed": true
   },
   "outputs": [],
   "source": [
    "from sklearn.linear_model import LinearRegression"
   ]
  },
  {
   "cell_type": "code",
   "execution_count": 89,
   "metadata": {
    "collapsed": true
   },
   "outputs": [],
   "source": [
    "linear_reg = LinearRegression(normalize=True)"
   ]
  },
  {
   "cell_type": "code",
   "execution_count": 90,
   "metadata": {
    "collapsed": true
   },
   "outputs": [
    {
     "name": "stderr",
     "output_type": "stream",
     "text": [
      "/usr/local/lib/python2.7/dist-packages/ipykernel_launcher.py:2: RuntimeWarning: overflow encountered in expm1\n",
      "  \n"
     ]
    },
    {
     "data": {
      "text/plain": [
       "array([  4.92658224e+06,   8.21830777e+06,   4.77500720e+06, ...,\n",
       "        -1.00000000e+00,  -1.00000000e+00,  -1.00000000e+00])"
      ]
     },
     "execution_count": 90,
     "metadata": {},
     "output_type": "execute_result"
    }
   ],
   "source": [
    "linear_reg.fit(*clean_inputs(train_df_withmacro_onehot))\n",
    "kaggle_linearreg_preds = np.expm1(linear_reg.predict(clean_inputs(test_df_withmacro_onehot, is_train=False)))\n",
    "kaggle_linearreg_preds"
   ]
  },
  {
   "cell_type": "code",
   "execution_count": 91,
   "metadata": {},
   "outputs": [
    {
     "name": "stderr",
     "output_type": "stream",
     "text": [
      "/usr/local/lib/python2.7/dist-packages/ipykernel_launcher.py:2: RuntimeWarning: overflow encountered in expm1\n",
      "  \n"
     ]
    },
    {
     "data": {
      "text/plain": [
       "array([ inf,  inf,  inf, ...,  inf,  inf,  inf])"
      ]
     },
     "execution_count": 91,
     "metadata": {},
     "output_type": "execute_result"
    }
   ],
   "source": [
    "linear_reg.fit(*clean_inputs(train_df_withmacro_onehot[train_df_withmacro_onehot.timestamp_year < 2013]))\n",
    "kaggle_linearreg_lt_2013_preds = np.expm1(linear_reg.predict(clean_inputs(test_df_withmacro_onehot, is_train=False)))\n",
    "kaggle_linearreg_lt_2013_preds"
   ]
  },
  {
   "cell_type": "code",
   "execution_count": 92,
   "metadata": {},
   "outputs": [
    {
     "name": "stderr",
     "output_type": "stream",
     "text": [
      "/usr/local/lib/python2.7/dist-packages/ipykernel_launcher.py:2: RuntimeWarning: overflow encountered in expm1\n",
      "  \n"
     ]
    },
    {
     "data": {
      "text/plain": [
       "array([-1., -1.,  0., ..., -1., -1., -1.])"
      ]
     },
     "execution_count": 92,
     "metadata": {},
     "output_type": "execute_result"
    }
   ],
   "source": [
    "linear_reg.fit(*clean_inputs(train_df_withmacro_onehot[train_df_withmacro_onehot.timestamp_year >= 2013]))\n",
    "kaggle_linenarreg_gt_2013_preds = np.expm1(linear_reg.predict(clean_inputs(test_df_withmacro_onehot, is_train=False)))\n",
    "kaggle_linenarreg_gt_2013_preds"
   ]
  },
  {
   "cell_type": "code",
   "execution_count": 94,
   "metadata": {
    "collapsed": true
   },
   "outputs": [],
   "source": [
    "kaggle_preds_df['kaggle_linearreg_preds'] = kaggle_linearreg_preds"
   ]
  },
  {
   "cell_type": "code",
   "execution_count": 51,
   "metadata": {},
   "outputs": [
    {
     "name": "stdout",
     "output_type": "stream",
     "text": [
      "Fitting model on training set...\n",
      "Predicting the hold-out validation set...\n",
      "Scoring model...\n",
      "RMSLE:  4664377886.03\n"
     ]
    },
    {
     "data": {
      "text/plain": [
       "4664377886.027782"
      ]
     },
     "execution_count": 51,
     "metadata": {},
     "output_type": "execute_result"
    }
   ],
   "source": [
    "evaluate_model_on_holdout_set(linear_reg, linear_train, linear_val)"
   ]
  },
  {
   "cell_type": "code",
   "execution_count": 52,
   "metadata": {},
   "outputs": [
    {
     "name": "stdout",
     "output_type": "stream",
     "text": [
      "Fitting model on training set...\n",
      "Predicting the hold-out validation set...\n",
      "Scoring model...\n",
      "RMSLE:  95362977.9057\n"
     ]
    },
    {
     "data": {
      "text/plain": [
       "95362977.90569763"
      ]
     },
     "execution_count": 52,
     "metadata": {},
     "output_type": "execute_result"
    }
   ],
   "source": [
    "evaluate_model_on_holdout_set(linear_reg, linear_train_after_2013, linear_val_after_2013)"
   ]
  },
  {
   "cell_type": "code",
   "execution_count": 54,
   "metadata": {},
   "outputs": [
    {
     "name": "stdout",
     "output_type": "stream",
     "text": [
      "Fitting model on training set...\n",
      "Predicting the hold-out validation set...\n",
      "Scoring model...\n",
      "RMSLE:  181923163.592\n"
     ]
    },
    {
     "data": {
      "text/plain": [
       "181923163.59201717"
      ]
     },
     "execution_count": 54,
     "metadata": {},
     "output_type": "execute_result"
    }
   ],
   "source": [
    "evaluate_model_on_holdout_set(linear_reg, linear_train_after_2014, linear_val_after_2014)"
   ]
  },
  {
   "cell_type": "code",
   "execution_count": 134,
   "metadata": {},
   "outputs": [
    {
     "name": "stdout",
     "output_type": "stream",
     "text": [
      "Fitting model on training set...\n",
      "Predicting the hold-out validation set...\n",
      "Scoring model...\n",
      "RMSLE:  5.40952448196e+13\n"
     ]
    },
    {
     "data": {
      "text/plain": [
       "54095244819573.61"
      ]
     },
     "execution_count": 134,
     "metadata": {},
     "output_type": "execute_result"
    }
   ],
   "source": [
    "evaluate_model_on_holdout_set(linear_reg, linear_train_before_2013, linear_val_before_2013)"
   ]
  },
  {
   "cell_type": "markdown",
   "metadata": {},
   "source": [
    "## Lasso"
   ]
  },
  {
   "cell_type": "code",
   "execution_count": 95,
   "metadata": {
    "collapsed": true
   },
   "outputs": [],
   "source": [
    "from sklearn.linear_model import Lasso"
   ]
  },
  {
   "cell_type": "code",
   "execution_count": 96,
   "metadata": {
    "collapsed": true
   },
   "outputs": [],
   "source": [
    "lasso_reg = Lasso(normalize=True, random_state=seed)"
   ]
  },
  {
   "cell_type": "code",
   "execution_count": 97,
   "metadata": {},
   "outputs": [
    {
     "data": {
      "text/plain": [
       "array([ 6013401.97824096,  6013401.97824096,  6013401.97824096, ...,\n",
       "        6013401.97824096,  6013401.97824096,  6013401.97824096])"
      ]
     },
     "execution_count": 97,
     "metadata": {},
     "output_type": "execute_result"
    }
   ],
   "source": [
    "lasso_reg.fit(*clean_inputs(train_df_withmacro_onehot))\n",
    "kaggle_lasso_preds = np.expm1(lasso_reg.predict(clean_inputs(test_df_withmacro_onehot, is_train=False)))\n",
    "kaggle_lasso_preds"
   ]
  },
  {
   "cell_type": "code",
   "execution_count": 98,
   "metadata": {},
   "outputs": [
    {
     "data": {
      "text/plain": [
       "array([ 5196427.85649383,  5196427.85649383,  5196427.85649383, ...,\n",
       "        5196427.85649383,  5196427.85649383,  5196427.85649383])"
      ]
     },
     "execution_count": 98,
     "metadata": {},
     "output_type": "execute_result"
    }
   ],
   "source": [
    "lasso_reg.fit(*clean_inputs(train_df_withmacro_onehot[train_df_withmacro_onehot.timestamp_year < 2013]))\n",
    "kaggle_lasso_lt_2013_preds = np.expm1(lasso_reg.predict(clean_inputs(test_df_withmacro_onehot, is_train=False)))\n",
    "kaggle_lasso_lt_2013_preds"
   ]
  },
  {
   "cell_type": "code",
   "execution_count": 59,
   "metadata": {},
   "outputs": [
    {
     "name": "stderr",
     "output_type": "stream",
     "text": [
      "/usr/local/lib/python2.7/dist-packages/scipy/linalg/basic.py:223: RuntimeWarning: scipy.linalg.solve\n",
      "Ill-conditioned matrix detected. Result is not guaranteed to be accurate.\n",
      "Reciprocal condition number: 3.41961161477e-19\n",
      "  ' condition number: {}'.format(rcond), RuntimeWarning)\n"
     ]
    },
    {
     "data": {
      "text/plain": [
       "array([ 4052131.32199135,  8042745.99926154,  4149170.80608331, ...,\n",
       "        1407854.17254524,  1486680.00736567,  2643018.00315866])"
      ]
     },
     "execution_count": 59,
     "metadata": {},
     "output_type": "execute_result"
    }
   ],
   "source": [
    "linear_model.fit(*clean_inputs(train_df_withmacro_onehot[train_df_withmacro_onehot.timestamp_year >= 2013]))\n",
    "kaggle_ridge_gt_2013_preds = np.expm1(linear_model.predict(clean_inputs(test_df_withmacro_onehot, is_train=False)))\n",
    "kaggle_ridge_gt_2013_preds"
   ]
  },
  {
   "cell_type": "code",
   "execution_count": 57,
   "metadata": {},
   "outputs": [
    {
     "name": "stdout",
     "output_type": "stream",
     "text": [
      "Fitting model on training set...\n",
      "Predicting the hold-out validation set...\n",
      "Scoring model...\n",
      "RMSLE:  0.589788905493\n"
     ]
    },
    {
     "data": {
      "text/plain": [
       "0.5897889054928692"
      ]
     },
     "execution_count": 57,
     "metadata": {},
     "output_type": "execute_result"
    }
   ],
   "source": [
    "evaluate_model_on_holdout_set(lasso_reg, linear_train, linear_val)"
   ]
  },
  {
   "cell_type": "code",
   "execution_count": 58,
   "metadata": {},
   "outputs": [
    {
     "name": "stdout",
     "output_type": "stream",
     "text": [
      "Fitting model on training set...\n",
      "Predicting the hold-out validation set...\n",
      "Scoring model...\n",
      "RMSLE:  0.58271082583\n"
     ]
    },
    {
     "data": {
      "text/plain": [
       "0.5827108258296179"
      ]
     },
     "execution_count": 58,
     "metadata": {},
     "output_type": "execute_result"
    }
   ],
   "source": [
    "evaluate_model_on_holdout_set(lasso_reg, linear_train_after_2013, linear_val_after_2013)"
   ]
  },
  {
   "cell_type": "code",
   "execution_count": 59,
   "metadata": {},
   "outputs": [
    {
     "name": "stdout",
     "output_type": "stream",
     "text": [
      "Fitting model on training set...\n",
      "Predicting the hold-out validation set...\n",
      "Scoring model...\n",
      "RMSLE:  0.577253324596\n"
     ]
    },
    {
     "data": {
      "text/plain": [
       "0.577253324595594"
      ]
     },
     "execution_count": 59,
     "metadata": {},
     "output_type": "execute_result"
    }
   ],
   "source": [
    "evaluate_model_on_holdout_set(lasso_reg, linear_train_after_2014, linear_val_after_2014)"
   ]
  },
  {
   "cell_type": "code",
   "execution_count": 60,
   "metadata": {},
   "outputs": [
    {
     "name": "stdout",
     "output_type": "stream",
     "text": [
      "Fitting model on training set...\n",
      "Predicting the hold-out validation set...\n",
      "Scoring model...\n",
      "RMSLE:  0.573223247528\n"
     ]
    },
    {
     "data": {
      "text/plain": [
       "0.5732232475284266"
      ]
     },
     "execution_count": 60,
     "metadata": {},
     "output_type": "execute_result"
    }
   ],
   "source": [
    "evaluate_model_on_holdout_set(lasso_reg, linear_train_after_2015, linear_val_after_2015)"
   ]
  },
  {
   "cell_type": "code",
   "execution_count": 139,
   "metadata": {},
   "outputs": [
    {
     "name": "stdout",
     "output_type": "stream",
     "text": [
      "Fitting model on training set...\n",
      "Predicting the hold-out validation set...\n",
      "Scoring model...\n",
      "RMSLE:  0.637072653479\n"
     ]
    },
    {
     "data": {
      "text/plain": [
       "0.6370726534786059"
      ]
     },
     "execution_count": 139,
     "metadata": {},
     "output_type": "execute_result"
    }
   ],
   "source": [
    "evaluate_model_on_holdout_set(lasso_reg, linear_train_before_2013, linear_val_before_2013)"
   ]
  },
  {
   "cell_type": "markdown",
   "metadata": {},
   "source": [
    "## BayesianRidge"
   ]
  },
  {
   "cell_type": "code",
   "execution_count": 42,
   "metadata": {
    "collapsed": true
   },
   "outputs": [],
   "source": [
    "from sklearn.linear_model import BayesianRidge"
   ]
  },
  {
   "cell_type": "code",
   "execution_count": 46,
   "metadata": {
    "collapsed": true
   },
   "outputs": [],
   "source": [
    "linear_model = BayesianRidge(normalize=True)"
   ]
  },
  {
   "cell_type": "code",
   "execution_count": 44,
   "metadata": {},
   "outputs": [
    {
     "data": {
      "text/plain": [
       "array([ 5072930.70733216,  8455056.98343063,  5342883.61615634, ...,\n",
       "        4352316.09653251,  5061583.8424752 ,  8583082.56347125])"
      ]
     },
     "execution_count": 44,
     "metadata": {},
     "output_type": "execute_result"
    }
   ],
   "source": [
    "linear_model.fit(*clean_inputs(train_df_withmacro_onehot))\n",
    "kaggle_bayesia_ridge_all = np.expm1(linear_model.predict(clean_inputs(test_df_withmacro_onehot, is_train=False)))\n",
    "kaggle_bayesia_ridge_all"
   ]
  },
  {
   "cell_type": "code",
   "execution_count": 47,
   "metadata": {},
   "outputs": [
    {
     "data": {
      "text/plain": [
       "array([ 5073646.86511655,  5347877.34348044,  5984324.79417417, ...,\n",
       "        3853669.69833371,  5946474.85490824,  7283669.8976881 ])"
      ]
     },
     "execution_count": 47,
     "metadata": {},
     "output_type": "execute_result"
    }
   ],
   "source": [
    "linear_model.fit(*clean_inputs(train_df_withmacro_onehot[train_df_withmacro_onehot.timestamp_year < 2013]))\n",
    "kaggle_bayesia_ridge_lt_2013 = np.expm1(linear_model.predict(clean_inputs(test_df_withmacro_onehot, is_train=False)))\n",
    "kaggle_bayesia_ridge_lt_2013"
   ]
  },
  {
   "cell_type": "code",
   "execution_count": 48,
   "metadata": {},
   "outputs": [
    {
     "data": {
      "text/plain": [
       "array([ 4896599.78832916,  8886107.05283952,  5040037.03599187, ...,\n",
       "        4249929.40380958,  4892064.77281312,  8367490.90122886])"
      ]
     },
     "execution_count": 48,
     "metadata": {},
     "output_type": "execute_result"
    }
   ],
   "source": [
    "linear_model.fit(*clean_inputs(train_df_withmacro_onehot[train_df_withmacro_onehot.timestamp_year >= 2013]))\n",
    "kaggle_bayesia_ridge_gt_2013 = np.expm1(linear_model.predict(clean_inputs(test_df_withmacro_onehot, is_train=False)))\n",
    "kaggle_bayesia_ridge_gt_2013"
   ]
  },
  {
   "cell_type": "code",
   "execution_count": 63,
   "metadata": {},
   "outputs": [
    {
     "name": "stdout",
     "output_type": "stream",
     "text": [
      "Fitting model on training set...\n",
      "Predicting the hold-out validation set...\n",
      "Scoring model...\n",
      "RMSLE:  0.407259145589\n"
     ]
    },
    {
     "data": {
      "text/plain": [
       "0.40725914558891596"
      ]
     },
     "execution_count": 63,
     "metadata": {},
     "output_type": "execute_result"
    }
   ],
   "source": [
    "evaluate_model_on_holdout_set(linear_model, linear_train, linear_val)"
   ]
  },
  {
   "cell_type": "code",
   "execution_count": 64,
   "metadata": {},
   "outputs": [
    {
     "name": "stdout",
     "output_type": "stream",
     "text": [
      "Fitting model on training set...\n",
      "Predicting the hold-out validation set...\n",
      "Scoring model...\n",
      "RMSLE:  0.389724269438\n"
     ]
    },
    {
     "data": {
      "text/plain": [
       "0.38972426943819344"
      ]
     },
     "execution_count": 64,
     "metadata": {},
     "output_type": "execute_result"
    }
   ],
   "source": [
    "evaluate_model_on_holdout_set(linear_model, linear_train_after_2013, linear_val_after_2013)"
   ]
  },
  {
   "cell_type": "code",
   "execution_count": 65,
   "metadata": {},
   "outputs": [
    {
     "name": "stdout",
     "output_type": "stream",
     "text": [
      "Fitting model on training set...\n",
      "Predicting the hold-out validation set...\n",
      "Scoring model...\n",
      "RMSLE:  0.389942275359\n"
     ]
    },
    {
     "data": {
      "text/plain": [
       "0.3899422753591761"
      ]
     },
     "execution_count": 65,
     "metadata": {},
     "output_type": "execute_result"
    }
   ],
   "source": [
    "evaluate_model_on_holdout_set(linear_model, linear_train_after_2014, linear_val_after_2014)"
   ]
  },
  {
   "cell_type": "code",
   "execution_count": 66,
   "metadata": {},
   "outputs": [
    {
     "name": "stdout",
     "output_type": "stream",
     "text": [
      "Fitting model on training set...\n",
      "Predicting the hold-out validation set...\n",
      "Scoring model...\n",
      "RMSLE:  7.58975879887\n"
     ]
    },
    {
     "data": {
      "text/plain": [
       "7.589758798867985"
      ]
     },
     "execution_count": 66,
     "metadata": {},
     "output_type": "execute_result"
    }
   ],
   "source": [
    "evaluate_model_on_holdout_set(linear_model, linear_train_after_2015, linear_val_after_2015)"
   ]
  },
  {
   "cell_type": "code",
   "execution_count": 67,
   "metadata": {},
   "outputs": [
    {
     "name": "stdout",
     "output_type": "stream",
     "text": [
      "Fitting model on training set...\n",
      "Predicting the hold-out validation set...\n",
      "Scoring model...\n",
      "RMSLE:  0.486200072658\n"
     ]
    },
    {
     "data": {
      "text/plain": [
       "0.4862000726580878"
      ]
     },
     "execution_count": 67,
     "metadata": {},
     "output_type": "execute_result"
    }
   ],
   "source": [
    "evaluate_model_on_holdout_set(linear_model, linear_train_before_2013, linear_val_before_2013)"
   ]
  },
  {
   "cell_type": "markdown",
   "metadata": {},
   "source": [
    "## ElasticNet"
   ]
  },
  {
   "cell_type": "code",
   "execution_count": 99,
   "metadata": {
    "collapsed": true
   },
   "outputs": [],
   "source": [
    "from sklearn.linear_model import ElasticNet"
   ]
  },
  {
   "cell_type": "code",
   "execution_count": 100,
   "metadata": {
    "collapsed": true
   },
   "outputs": [],
   "source": [
    "linear_model = ElasticNet(normalize=True, random_state=seed)"
   ]
  },
  {
   "cell_type": "code",
   "execution_count": 101,
   "metadata": {},
   "outputs": [
    {
     "data": {
      "text/plain": [
       "array([ 6013401.97824096,  6013401.97824096,  6013401.97824096, ...,\n",
       "        6013401.97824096,  6013401.97824096,  6013401.97824096])"
      ]
     },
     "execution_count": 101,
     "metadata": {},
     "output_type": "execute_result"
    }
   ],
   "source": [
    "linear_model.fit(*clean_inputs(train_df_withmacro_onehot))\n",
    "kaggle_elasticnet_preds = np.expm1(linear_model.predict(clean_inputs(test_df_withmacro_onehot, is_train=False)))\n",
    "kaggle_elasticnet_preds"
   ]
  },
  {
   "cell_type": "code",
   "execution_count": 58,
   "metadata": {},
   "outputs": [
    {
     "data": {
      "text/plain": [
       "array([ 2666333.18500723,  1856988.92364304,  2840593.6201275 , ...,\n",
       "          10339.72061306,    16429.11509716,    19049.81982119])"
      ]
     },
     "execution_count": 58,
     "metadata": {},
     "output_type": "execute_result"
    }
   ],
   "source": [
    "linear_model.fit(*clean_inputs(train_df_withmacro_onehot[train_df_withmacro_onehot.timestamp_year < 2013]))\n",
    "kaggle_ridge_lt_2013_preds = np.expm1(linear_model.predict(clean_inputs(test_df_withmacro_onehot, is_train=False)))\n",
    "kaggle_ridge_lt_2013_preds"
   ]
  },
  {
   "cell_type": "code",
   "execution_count": 59,
   "metadata": {},
   "outputs": [
    {
     "name": "stderr",
     "output_type": "stream",
     "text": [
      "/usr/local/lib/python2.7/dist-packages/scipy/linalg/basic.py:223: RuntimeWarning: scipy.linalg.solve\n",
      "Ill-conditioned matrix detected. Result is not guaranteed to be accurate.\n",
      "Reciprocal condition number: 3.41961161477e-19\n",
      "  ' condition number: {}'.format(rcond), RuntimeWarning)\n"
     ]
    },
    {
     "data": {
      "text/plain": [
       "array([ 4052131.32199135,  8042745.99926154,  4149170.80608331, ...,\n",
       "        1407854.17254524,  1486680.00736567,  2643018.00315866])"
      ]
     },
     "execution_count": 59,
     "metadata": {},
     "output_type": "execute_result"
    }
   ],
   "source": [
    "linear_model.fit(*clean_inputs(train_df_withmacro_onehot[train_df_withmacro_onehot.timestamp_year >= 2013]))\n",
    "kaggle_ridge_gt_2013_preds = np.expm1(linear_model.predict(clean_inputs(test_df_withmacro_onehot, is_train=False)))\n",
    "kaggle_ridge_gt_2013_preds"
   ]
  },
  {
   "cell_type": "code",
   "execution_count": 70,
   "metadata": {},
   "outputs": [
    {
     "name": "stdout",
     "output_type": "stream",
     "text": [
      "Fitting model on training set...\n",
      "Predicting the hold-out validation set...\n",
      "Scoring model...\n",
      "RMSLE:  0.589788905493\n"
     ]
    },
    {
     "data": {
      "text/plain": [
       "0.5897889054928692"
      ]
     },
     "execution_count": 70,
     "metadata": {},
     "output_type": "execute_result"
    }
   ],
   "source": [
    "evaluate_model_on_holdout_set(linear_model, linear_train, linear_val)"
   ]
  },
  {
   "cell_type": "code",
   "execution_count": 71,
   "metadata": {},
   "outputs": [
    {
     "name": "stdout",
     "output_type": "stream",
     "text": [
      "Fitting model on training set...\n",
      "Predicting the hold-out validation set...\n",
      "Scoring model...\n",
      "RMSLE:  0.58271082583\n"
     ]
    },
    {
     "data": {
      "text/plain": [
       "0.5827108258296179"
      ]
     },
     "execution_count": 71,
     "metadata": {},
     "output_type": "execute_result"
    }
   ],
   "source": [
    "evaluate_model_on_holdout_set(linear_model, linear_train_after_2013, linear_val_after_2013)"
   ]
  },
  {
   "cell_type": "code",
   "execution_count": 72,
   "metadata": {},
   "outputs": [
    {
     "name": "stdout",
     "output_type": "stream",
     "text": [
      "Fitting model on training set...\n",
      "Predicting the hold-out validation set...\n",
      "Scoring model...\n",
      "RMSLE:  0.577253324596\n"
     ]
    },
    {
     "data": {
      "text/plain": [
       "0.577253324595594"
      ]
     },
     "execution_count": 72,
     "metadata": {},
     "output_type": "execute_result"
    }
   ],
   "source": [
    "evaluate_model_on_holdout_set(linear_model, linear_train_after_2014, linear_val_after_2014)"
   ]
  },
  {
   "cell_type": "code",
   "execution_count": 73,
   "metadata": {},
   "outputs": [
    {
     "name": "stdout",
     "output_type": "stream",
     "text": [
      "Fitting model on training set...\n",
      "Predicting the hold-out validation set...\n",
      "Scoring model...\n",
      "RMSLE:  0.573223247528\n"
     ]
    },
    {
     "data": {
      "text/plain": [
       "0.5732232475284266"
      ]
     },
     "execution_count": 73,
     "metadata": {},
     "output_type": "execute_result"
    }
   ],
   "source": [
    "evaluate_model_on_holdout_set(linear_model, linear_train_after_2015, linear_val_after_2015)"
   ]
  },
  {
   "cell_type": "code",
   "execution_count": 74,
   "metadata": {},
   "outputs": [
    {
     "name": "stdout",
     "output_type": "stream",
     "text": [
      "Fitting model on training set...\n",
      "Predicting the hold-out validation set...\n",
      "Scoring model...\n",
      "RMSLE:  0.637072653479\n"
     ]
    },
    {
     "data": {
      "text/plain": [
       "0.6370726534786059"
      ]
     },
     "execution_count": 74,
     "metadata": {},
     "output_type": "execute_result"
    }
   ],
   "source": [
    "evaluate_model_on_holdout_set(linear_model, linear_train_before_2013, linear_val_before_2013)"
   ]
  },
  {
   "cell_type": "markdown",
   "metadata": {},
   "source": [
    "## HuberRegressor"
   ]
  },
  {
   "cell_type": "code",
   "execution_count": 63,
   "metadata": {
    "collapsed": true
   },
   "outputs": [],
   "source": [
    "from sklearn.linear_model import HuberRegressor"
   ]
  },
  {
   "cell_type": "code",
   "execution_count": 64,
   "metadata": {
    "collapsed": true
   },
   "outputs": [],
   "source": [
    "linear_model = HuberRegressor()"
   ]
  },
  {
   "cell_type": "code",
   "execution_count": 65,
   "metadata": {},
   "outputs": [
    {
     "name": "stdout",
     "output_type": "stream",
     "text": [
      "Fitting model on training set...\n",
      "Predicting the hold-out validation set...\n",
      "Scoring model...\n",
      "RMSLE:  2.85960401626\n"
     ]
    },
    {
     "data": {
      "text/plain": [
       "2.859604016262771"
      ]
     },
     "execution_count": 65,
     "metadata": {},
     "output_type": "execute_result"
    }
   ],
   "source": [
    "evaluate_model_on_holdout_set(linear_model, linear_train, linear_val)"
   ]
  },
  {
   "cell_type": "code",
   "execution_count": 66,
   "metadata": {},
   "outputs": [
    {
     "name": "stdout",
     "output_type": "stream",
     "text": [
      "Fitting model on training set...\n",
      "Predicting the hold-out validation set...\n",
      "Scoring model...\n",
      "RMSLE:  0.64817357584\n"
     ]
    },
    {
     "data": {
      "text/plain": [
       "0.6481735758397739"
      ]
     },
     "execution_count": 66,
     "metadata": {},
     "output_type": "execute_result"
    }
   ],
   "source": [
    "evaluate_model_on_holdout_set(linear_model, linear_train_after_2013, linear_val_after_2013)"
   ]
  },
  {
   "cell_type": "code",
   "execution_count": 67,
   "metadata": {},
   "outputs": [
    {
     "name": "stdout",
     "output_type": "stream",
     "text": [
      "Fitting model on training set...\n",
      "Predicting the hold-out validation set...\n",
      "Scoring model...\n",
      "RMSLE:  4.37539452953\n"
     ]
    },
    {
     "data": {
      "text/plain": [
       "4.375394529531269"
      ]
     },
     "execution_count": 67,
     "metadata": {},
     "output_type": "execute_result"
    }
   ],
   "source": [
    "evaluate_model_on_holdout_set(linear_model, linear_train_before_2013, linear_val_before_2013)"
   ]
  },
  {
   "cell_type": "markdown",
   "metadata": {},
   "source": [
    "## Lars"
   ]
  },
  {
   "cell_type": "code",
   "execution_count": 68,
   "metadata": {
    "collapsed": true
   },
   "outputs": [],
   "source": [
    "from sklearn.linear_model import Lars"
   ]
  },
  {
   "cell_type": "code",
   "execution_count": 217,
   "metadata": {
    "collapsed": true
   },
   "outputs": [],
   "source": [
    "linear_model = Lars(normalize=True)"
   ]
  },
  {
   "cell_type": "code",
   "execution_count": 218,
   "metadata": {
    "collapsed": true
   },
   "outputs": [
    {
     "name": "stdout",
     "output_type": "stream",
     "text": [
      "Fitting model on training set...\n"
     ]
    },
    {
     "name": "stderr",
     "output_type": "stream",
     "text": [
      "/usr/local/lib/python2.7/dist-packages/sklearn/linear_model/least_angle.py:309: ConvergenceWarning: Regressors in active set degenerate. Dropping a regressor, after 21 iterations, i.e. alpha=3.571e-04, with an active set of 20 regressors, and the smallest cholesky pivot element being 4.081e-08\n",
      "  ConvergenceWarning)\n",
      "/usr/local/lib/python2.7/dist-packages/sklearn/linear_model/least_angle.py:309: ConvergenceWarning: Regressors in active set degenerate. Dropping a regressor, after 25 iterations, i.e. alpha=3.656e-04, with an active set of 23 regressors, and the smallest cholesky pivot element being 9.996e-08\n",
      "  ConvergenceWarning)\n"
     ]
    },
    {
     "name": "stdout",
     "output_type": "stream",
     "text": [
      "Predicting the hold-out validation set...\n",
      "Scoring model...\n",
      "RMSLE:  81.8215923492\n"
     ]
    },
    {
     "data": {
      "text/plain": [
       "81.82159234924114"
      ]
     },
     "execution_count": 218,
     "metadata": {},
     "output_type": "execute_result"
    }
   ],
   "source": [
    "evaluate_model_on_holdout_set(linear_model, linear_train, linear_val)"
   ]
  },
  {
   "cell_type": "code",
   "execution_count": 219,
   "metadata": {},
   "outputs": [
    {
     "name": "stdout",
     "output_type": "stream",
     "text": [
      "Fitting model on training set...\n"
     ]
    },
    {
     "name": "stderr",
     "output_type": "stream",
     "text": [
      "/usr/local/lib/python2.7/dist-packages/sklearn/linear_model/least_angle.py:309: ConvergenceWarning: Regressors in active set degenerate. Dropping a regressor, after 54 iterations, i.e. alpha=4.089e-04, with an active set of 45 regressors, and the smallest cholesky pivot element being 1.825e-08\n",
      "  ConvergenceWarning)\n",
      "/usr/local/lib/python2.7/dist-packages/sklearn/linear_model/least_angle.py:309: ConvergenceWarning: Regressors in active set degenerate. Dropping a regressor, after 221 iterations, i.e. alpha=4.115e-04, with an active set of 204 regressors, and the smallest cholesky pivot element being 2.356e-08\n",
      "  ConvergenceWarning)\n",
      "/usr/local/lib/python2.7/dist-packages/sklearn/linear_model/least_angle.py:309: ConvergenceWarning: Regressors in active set degenerate. Dropping a regressor, after 221 iterations, i.e. alpha=4.115e-04, with an active set of 204 regressors, and the smallest cholesky pivot element being 1.054e-08\n",
      "  ConvergenceWarning)\n",
      "/usr/local/lib/python2.7/dist-packages/sklearn/linear_model/least_angle.py:309: ConvergenceWarning: Regressors in active set degenerate. Dropping a regressor, after 221 iterations, i.e. alpha=4.111e-04, with an active set of 204 regressors, and the smallest cholesky pivot element being 1.490e-08\n",
      "  ConvergenceWarning)\n",
      "/usr/local/lib/python2.7/dist-packages/sklearn/linear_model/least_angle.py:309: ConvergenceWarning: Regressors in active set degenerate. Dropping a regressor, after 267 iterations, i.e. alpha=4.067e-04, with an active set of 249 regressors, and the smallest cholesky pivot element being 2.220e-16\n",
      "  ConvergenceWarning)\n",
      "/usr/local/lib/python2.7/dist-packages/sklearn/linear_model/least_angle.py:309: ConvergenceWarning: Regressors in active set degenerate. Dropping a regressor, after 379 iterations, i.e. alpha=5.636e-04, with an active set of 331 regressors, and the smallest cholesky pivot element being 2.107e-08\n",
      "  ConvergenceWarning)\n",
      "/usr/local/lib/python2.7/dist-packages/sklearn/linear_model/least_angle.py:309: ConvergenceWarning: Regressors in active set degenerate. Dropping a regressor, after 417 iterations, i.e. alpha=5.578e-04, with an active set of 366 regressors, and the smallest cholesky pivot element being 2.107e-08\n",
      "  ConvergenceWarning)\n"
     ]
    },
    {
     "name": "stdout",
     "output_type": "stream",
     "text": [
      "Predicting the hold-out validation set...\n",
      "Scoring model...\n",
      "RMSLE:  6.9164112614\n"
     ]
    },
    {
     "data": {
      "text/plain": [
       "6.916411261397162"
      ]
     },
     "execution_count": 219,
     "metadata": {},
     "output_type": "execute_result"
    }
   ],
   "source": [
    "evaluate_model_on_holdout_set(linear_model, linear_train_after_2013, linear_val_after_2013)"
   ]
  },
  {
   "cell_type": "code",
   "execution_count": 220,
   "metadata": {},
   "outputs": [
    {
     "name": "stdout",
     "output_type": "stream",
     "text": [
      "Fitting model on training set...\n"
     ]
    },
    {
     "name": "stderr",
     "output_type": "stream",
     "text": [
      "/usr/local/lib/python2.7/dist-packages/sklearn/linear_model/least_angle.py:309: ConvergenceWarning: Regressors in active set degenerate. Dropping a regressor, after 27 iterations, i.e. alpha=4.320e-04, with an active set of 27 regressors, and the smallest cholesky pivot element being 2.356e-08\n",
      "  ConvergenceWarning)\n",
      "/usr/local/lib/python2.7/dist-packages/sklearn/linear_model/least_angle.py:309: ConvergenceWarning: Regressors in active set degenerate. Dropping a regressor, after 42 iterations, i.e. alpha=3.344e-04, with an active set of 41 regressors, and the smallest cholesky pivot element being 1.054e-08\n",
      "  ConvergenceWarning)\n",
      "/usr/local/lib/python2.7/dist-packages/sklearn/linear_model/least_angle.py:309: ConvergenceWarning: Regressors in active set degenerate. Dropping a regressor, after 83 iterations, i.e. alpha=2.496e-04, with an active set of 79 regressors, and the smallest cholesky pivot element being 1.490e-08\n",
      "  ConvergenceWarning)\n",
      "/usr/local/lib/python2.7/dist-packages/sklearn/linear_model/least_angle.py:309: ConvergenceWarning: Regressors in active set degenerate. Dropping a regressor, after 140 iterations, i.e. alpha=2.103e-04, with an active set of 129 regressors, and the smallest cholesky pivot element being 1.490e-08\n",
      "  ConvergenceWarning)\n",
      "/usr/local/lib/python2.7/dist-packages/sklearn/linear_model/least_angle.py:309: ConvergenceWarning: Regressors in active set degenerate. Dropping a regressor, after 156 iterations, i.e. alpha=2.068e-04, with an active set of 142 regressors, and the smallest cholesky pivot element being 2.107e-08\n",
      "  ConvergenceWarning)\n",
      "/usr/local/lib/python2.7/dist-packages/sklearn/linear_model/least_angle.py:309: ConvergenceWarning: Regressors in active set degenerate. Dropping a regressor, after 193 iterations, i.e. alpha=1.994e-04, with an active set of 174 regressors, and the smallest cholesky pivot element being 1.054e-08\n",
      "  ConvergenceWarning)\n",
      "/usr/local/lib/python2.7/dist-packages/sklearn/linear_model/least_angle.py:309: ConvergenceWarning: Regressors in active set degenerate. Dropping a regressor, after 193 iterations, i.e. alpha=1.994e-04, with an active set of 174 regressors, and the smallest cholesky pivot element being 2.107e-08\n",
      "  ConvergenceWarning)\n",
      "/usr/local/lib/python2.7/dist-packages/sklearn/linear_model/least_angle.py:309: ConvergenceWarning: Regressors in active set degenerate. Dropping a regressor, after 212 iterations, i.e. alpha=2.131e-04, with an active set of 185 regressors, and the smallest cholesky pivot element being 6.829e-08\n",
      "  ConvergenceWarning)\n",
      "/usr/local/lib/python2.7/dist-packages/sklearn/linear_model/least_angle.py:309: ConvergenceWarning: Regressors in active set degenerate. Dropping a regressor, after 414 iterations, i.e. alpha=1.206e-03, with an active set of 305 regressors, and the smallest cholesky pivot element being 1.054e-08\n",
      "  ConvergenceWarning)\n"
     ]
    },
    {
     "name": "stdout",
     "output_type": "stream",
     "text": [
      "Predicting the hold-out validation set...\n",
      "Scoring model...\n",
      "RMSLE:  25365318.5468\n"
     ]
    },
    {
     "data": {
      "text/plain": [
       "25365318.546809282"
      ]
     },
     "execution_count": 220,
     "metadata": {},
     "output_type": "execute_result"
    }
   ],
   "source": [
    "evaluate_model_on_holdout_set(linear_model, linear_train_before_2013, linear_val_before_2013)"
   ]
  },
  {
   "cell_type": "markdown",
   "metadata": {},
   "source": [
    "## LassoLars"
   ]
  },
  {
   "cell_type": "code",
   "execution_count": 69,
   "metadata": {
    "collapsed": true
   },
   "outputs": [],
   "source": [
    "from sklearn.linear_model import LassoLars"
   ]
  },
  {
   "cell_type": "code",
   "execution_count": 70,
   "metadata": {
    "collapsed": true
   },
   "outputs": [],
   "source": [
    "linear_model = LassoLars(normalize=True)"
   ]
  },
  {
   "cell_type": "code",
   "execution_count": 71,
   "metadata": {},
   "outputs": [
    {
     "name": "stdout",
     "output_type": "stream",
     "text": [
      "Fitting model on training set...\n",
      "Predicting the hold-out validation set...\n",
      "Scoring model...\n",
      "RMSLE:  0.589788905493\n"
     ]
    },
    {
     "data": {
      "text/plain": [
       "0.5897889054928692"
      ]
     },
     "execution_count": 71,
     "metadata": {},
     "output_type": "execute_result"
    }
   ],
   "source": [
    "evaluate_model_on_holdout_set(linear_model, linear_train, linear_val)"
   ]
  },
  {
   "cell_type": "code",
   "execution_count": 72,
   "metadata": {},
   "outputs": [
    {
     "name": "stdout",
     "output_type": "stream",
     "text": [
      "Fitting model on training set...\n",
      "Predicting the hold-out validation set...\n",
      "Scoring model...\n",
      "RMSLE:  0.58271082583\n"
     ]
    },
    {
     "data": {
      "text/plain": [
       "0.5827108258296179"
      ]
     },
     "execution_count": 72,
     "metadata": {},
     "output_type": "execute_result"
    }
   ],
   "source": [
    "evaluate_model_on_holdout_set(linear_model, linear_train_after_2013, linear_val_after_2013)"
   ]
  },
  {
   "cell_type": "code",
   "execution_count": 73,
   "metadata": {},
   "outputs": [
    {
     "name": "stdout",
     "output_type": "stream",
     "text": [
      "Fitting model on training set...\n",
      "Predicting the hold-out validation set...\n",
      "Scoring model...\n",
      "RMSLE:  0.637072653479\n"
     ]
    },
    {
     "data": {
      "text/plain": [
       "0.6370726534786059"
      ]
     },
     "execution_count": 73,
     "metadata": {},
     "output_type": "execute_result"
    }
   ],
   "source": [
    "evaluate_model_on_holdout_set(linear_model, linear_train_before_2013, linear_val_before_2013)"
   ]
  },
  {
   "cell_type": "markdown",
   "metadata": {},
   "source": [
    "## PassiveAggressiveRegressor"
   ]
  },
  {
   "cell_type": "code",
   "execution_count": 226,
   "metadata": {
    "collapsed": true
   },
   "outputs": [],
   "source": [
    "from sklearn.linear_model import PassiveAggressiveRegressor"
   ]
  },
  {
   "cell_type": "code",
   "execution_count": 227,
   "metadata": {
    "collapsed": true
   },
   "outputs": [],
   "source": [
    "linear_model = PassiveAggressiveRegressor(random_state=seed)"
   ]
  },
  {
   "cell_type": "code",
   "execution_count": 228,
   "metadata": {},
   "outputs": [
    {
     "name": "stdout",
     "output_type": "stream",
     "text": [
      "Fitting model on training set...\n",
      "Predicting the hold-out validation set...\n",
      "Scoring model...\n",
      "RMSLE:  1.0067895609\n"
     ]
    },
    {
     "data": {
      "text/plain": [
       "1.0067895608998327"
      ]
     },
     "execution_count": 228,
     "metadata": {},
     "output_type": "execute_result"
    }
   ],
   "source": [
    "evaluate_model_on_holdout_set(linear_model, linear_train, linear_val)"
   ]
  },
  {
   "cell_type": "code",
   "execution_count": 229,
   "metadata": {},
   "outputs": [
    {
     "name": "stdout",
     "output_type": "stream",
     "text": [
      "Fitting model on training set...\n",
      "Predicting the hold-out validation set...\n",
      "Scoring model...\n",
      "RMSLE:  2.74111635008\n"
     ]
    },
    {
     "data": {
      "text/plain": [
       "2.7411163500765126"
      ]
     },
     "execution_count": 229,
     "metadata": {},
     "output_type": "execute_result"
    }
   ],
   "source": [
    "evaluate_model_on_holdout_set(linear_model, linear_train_after_2013, linear_val_after_2013)"
   ]
  },
  {
   "cell_type": "code",
   "execution_count": 230,
   "metadata": {},
   "outputs": [
    {
     "name": "stdout",
     "output_type": "stream",
     "text": [
      "Fitting model on training set...\n",
      "Predicting the hold-out validation set...\n",
      "Scoring model...\n",
      "RMSLE:  9.82195853725\n"
     ]
    },
    {
     "data": {
      "text/plain": [
       "9.821958537246783"
      ]
     },
     "execution_count": 230,
     "metadata": {},
     "output_type": "execute_result"
    }
   ],
   "source": [
    "evaluate_model_on_holdout_set(linear_model, linear_train_before_2013, linear_val_before_2013)"
   ]
  },
  {
   "cell_type": "markdown",
   "metadata": {},
   "source": [
    "## RANSACRegressor"
   ]
  },
  {
   "cell_type": "code",
   "execution_count": 74,
   "metadata": {
    "collapsed": true
   },
   "outputs": [],
   "source": [
    "from sklearn.linear_model import RANSACRegressor"
   ]
  },
  {
   "cell_type": "code",
   "execution_count": 75,
   "metadata": {
    "collapsed": true
   },
   "outputs": [],
   "source": [
    "linear_model = RANSACRegressor(random_state=seed)"
   ]
  },
  {
   "cell_type": "code",
   "execution_count": 233,
   "metadata": {},
   "outputs": [
    {
     "name": "stdout",
     "output_type": "stream",
     "text": [
      "Fitting model on training set...\n",
      "Predicting the hold-out validation set...\n",
      "Scoring model...\n",
      "RMSLE:  1.08517298745\n"
     ]
    },
    {
     "data": {
      "text/plain": [
       "1.085172987446868"
      ]
     },
     "execution_count": 233,
     "metadata": {},
     "output_type": "execute_result"
    }
   ],
   "source": [
    "evaluate_model_on_holdout_set(linear_model, linear_train, linear_val)"
   ]
  },
  {
   "cell_type": "code",
   "execution_count": 234,
   "metadata": {},
   "outputs": [
    {
     "name": "stdout",
     "output_type": "stream",
     "text": [
      "Fitting model on training set...\n",
      "Predicting the hold-out validation set...\n",
      "Scoring model...\n",
      "RMSLE:  10.9210214058\n"
     ]
    },
    {
     "data": {
      "text/plain": [
       "10.921021405751018"
      ]
     },
     "execution_count": 234,
     "metadata": {},
     "output_type": "execute_result"
    }
   ],
   "source": [
    "evaluate_model_on_holdout_set(linear_model, linear_train_after_2013, linear_val_after_2013)"
   ]
  },
  {
   "cell_type": "code",
   "execution_count": 235,
   "metadata": {},
   "outputs": [
    {
     "name": "stdout",
     "output_type": "stream",
     "text": [
      "Fitting model on training set...\n",
      "Predicting the hold-out validation set...\n",
      "Scoring model...\n",
      "RMSLE:  150.972497865\n"
     ]
    },
    {
     "data": {
      "text/plain": [
       "150.97249786461978"
      ]
     },
     "execution_count": 235,
     "metadata": {},
     "output_type": "execute_result"
    }
   ],
   "source": [
    "evaluate_model_on_holdout_set(linear_model, linear_train_before_2013, linear_val_before_2013)"
   ]
  },
  {
   "cell_type": "markdown",
   "metadata": {},
   "source": [
    "## SGDRegressor"
   ]
  },
  {
   "cell_type": "code",
   "execution_count": 236,
   "metadata": {
    "collapsed": true
   },
   "outputs": [],
   "source": [
    "from sklearn.linear_model import SGDRegressor"
   ]
  },
  {
   "cell_type": "code",
   "execution_count": 237,
   "metadata": {
    "collapsed": true
   },
   "outputs": [],
   "source": [
    "linear_model = SGDRegressor()"
   ]
  },
  {
   "cell_type": "code",
   "execution_count": 238,
   "metadata": {},
   "outputs": [
    {
     "name": "stdout",
     "output_type": "stream",
     "text": [
      "Fitting model on training set...\n",
      "Predicting the hold-out validation set...\n",
      "Scoring model...\n",
      "RMSLE:  2.13617116673e+23\n"
     ]
    },
    {
     "data": {
      "text/plain": [
       "2.136171166728495e+23"
      ]
     },
     "execution_count": 238,
     "metadata": {},
     "output_type": "execute_result"
    }
   ],
   "source": [
    "evaluate_model_on_holdout_set(linear_model, linear_train, linear_val)"
   ]
  },
  {
   "cell_type": "code",
   "execution_count": 239,
   "metadata": {},
   "outputs": [
    {
     "name": "stdout",
     "output_type": "stream",
     "text": [
      "Fitting model on training set...\n",
      "Predicting the hold-out validation set...\n",
      "Scoring model...\n",
      "RMSLE:  3.54946788431e+23\n"
     ]
    },
    {
     "data": {
      "text/plain": [
       "3.5494678843092246e+23"
      ]
     },
     "execution_count": 239,
     "metadata": {},
     "output_type": "execute_result"
    }
   ],
   "source": [
    "evaluate_model_on_holdout_set(linear_model, linear_train_after_2013, linear_val_after_2013)"
   ]
  },
  {
   "cell_type": "code",
   "execution_count": 240,
   "metadata": {},
   "outputs": [
    {
     "name": "stdout",
     "output_type": "stream",
     "text": [
      "Fitting model on training set...\n",
      "Predicting the hold-out validation set...\n",
      "Scoring model...\n",
      "RMSLE:  4.03260923277e+23\n"
     ]
    },
    {
     "data": {
      "text/plain": [
       "4.03260923276632e+23"
      ]
     },
     "execution_count": 240,
     "metadata": {},
     "output_type": "execute_result"
    }
   ],
   "source": [
    "evaluate_model_on_holdout_set(linear_model, linear_train_before_2013, linear_val_before_2013)"
   ]
  },
  {
   "cell_type": "markdown",
   "metadata": {},
   "source": [
    "## Ridge"
   ]
  },
  {
   "cell_type": "code",
   "execution_count": 50,
   "metadata": {
    "collapsed": true
   },
   "outputs": [],
   "source": [
    "from sklearn.linear_model import Ridge"
   ]
  },
  {
   "cell_type": "code",
   "execution_count": 51,
   "metadata": {},
   "outputs": [],
   "source": [
    "linear_model = Ridge()"
   ]
  },
  {
   "cell_type": "code",
   "execution_count": 54,
   "metadata": {},
   "outputs": [
    {
     "data": {
      "text/plain": [
       "array([ 4842170.677799  ,  8178797.90242163,  4789029.95825509, ...,\n",
       "        3293022.17695443,  3484393.99417835,  6124221.85978975])"
      ]
     },
     "execution_count": 54,
     "metadata": {},
     "output_type": "execute_result"
    }
   ],
   "source": [
    "linear_model.fit(*clean_inputs(train_df_withmacro_onehot))\n",
    "kaggle_ridge_preds = np.expm1(linear_model.predict(clean_inputs(test_df_withmacro_onehot, is_train=False)))\n",
    "kaggle_ridge_preds"
   ]
  },
  {
   "cell_type": "code",
   "execution_count": 58,
   "metadata": {},
   "outputs": [
    {
     "data": {
      "text/plain": [
       "array([ 2666333.18500723,  1856988.92364304,  2840593.6201275 , ...,\n",
       "          10339.72061306,    16429.11509716,    19049.81982119])"
      ]
     },
     "execution_count": 58,
     "metadata": {},
     "output_type": "execute_result"
    }
   ],
   "source": [
    "linear_model.fit(*clean_inputs(train_df_withmacro_onehot[train_df_withmacro_onehot.timestamp_year < 2013]))\n",
    "kaggle_ridge_lt_2013_preds = np.expm1(linear_model.predict(clean_inputs(test_df_withmacro_onehot, is_train=False)))\n",
    "kaggle_ridge_lt_2013_preds"
   ]
  },
  {
   "cell_type": "code",
   "execution_count": 59,
   "metadata": {},
   "outputs": [
    {
     "name": "stderr",
     "output_type": "stream",
     "text": [
      "/usr/local/lib/python2.7/dist-packages/scipy/linalg/basic.py:223: RuntimeWarning: scipy.linalg.solve\n",
      "Ill-conditioned matrix detected. Result is not guaranteed to be accurate.\n",
      "Reciprocal condition number: 3.41961161477e-19\n",
      "  ' condition number: {}'.format(rcond), RuntimeWarning)\n"
     ]
    },
    {
     "data": {
      "text/plain": [
       "array([ 4052131.32199135,  8042745.99926154,  4149170.80608331, ...,\n",
       "        1407854.17254524,  1486680.00736567,  2643018.00315866])"
      ]
     },
     "execution_count": 59,
     "metadata": {},
     "output_type": "execute_result"
    }
   ],
   "source": [
    "linear_model.fit(*clean_inputs(train_df_withmacro_onehot[train_df_withmacro_onehot.timestamp_year >= 2013]))\n",
    "kaggle_ridge_gt_2013_preds = np.expm1(linear_model.predict(clean_inputs(test_df_withmacro_onehot, is_train=False)))\n",
    "kaggle_ridge_gt_2013_preds"
   ]
  },
  {
   "cell_type": "code",
   "execution_count": 78,
   "metadata": {},
   "outputs": [
    {
     "name": "stdout",
     "output_type": "stream",
     "text": [
      "Fitting model on training set...\n",
      "Predicting the hold-out validation set...\n",
      "Scoring model...\n",
      "RMSLE:  0.597056509628\n"
     ]
    },
    {
     "name": "stderr",
     "output_type": "stream",
     "text": [
      "/usr/local/lib/python2.7/dist-packages/scipy/linalg/basic.py:223: RuntimeWarning: scipy.linalg.solve\n",
      "Ill-conditioned matrix detected. Result is not guaranteed to be accurate.\n",
      "Reciprocal condition number: 1.5962897319e-19\n",
      "  ' condition number: {}'.format(rcond), RuntimeWarning)\n"
     ]
    },
    {
     "data": {
      "text/plain": [
       "0.5970565096277155"
      ]
     },
     "execution_count": 78,
     "metadata": {},
     "output_type": "execute_result"
    }
   ],
   "source": [
    "evaluate_model_on_holdout_set(linear_model, linear_train, linear_val)"
   ]
  },
  {
   "cell_type": "code",
   "execution_count": 79,
   "metadata": {},
   "outputs": [
    {
     "name": "stdout",
     "output_type": "stream",
     "text": [
      "Fitting model on training set...\n",
      "Predicting the hold-out validation set...\n",
      "Scoring model...\n",
      "RMSLE:  0.407420487756\n"
     ]
    },
    {
     "name": "stderr",
     "output_type": "stream",
     "text": [
      "/usr/local/lib/python2.7/dist-packages/scipy/linalg/basic.py:223: RuntimeWarning: scipy.linalg.solve\n",
      "Ill-conditioned matrix detected. Result is not guaranteed to be accurate.\n",
      "Reciprocal condition number: 4.41029880506e-19\n",
      "  ' condition number: {}'.format(rcond), RuntimeWarning)\n"
     ]
    },
    {
     "data": {
      "text/plain": [
       "0.4074204877564264"
      ]
     },
     "execution_count": 79,
     "metadata": {},
     "output_type": "execute_result"
    }
   ],
   "source": [
    "evaluate_model_on_holdout_set(linear_model, linear_train_after_2013, linear_val_after_2013)"
   ]
  },
  {
   "cell_type": "code",
   "execution_count": 80,
   "metadata": {},
   "outputs": [
    {
     "name": "stdout",
     "output_type": "stream",
     "text": [
      "Fitting model on training set...\n"
     ]
    },
    {
     "name": "stderr",
     "output_type": "stream",
     "text": [
      "/usr/local/lib/python2.7/dist-packages/scipy/linalg/basic.py:223: RuntimeWarning: scipy.linalg.solve\n",
      "Ill-conditioned matrix detected. Result is not guaranteed to be accurate.\n",
      "Reciprocal condition number: 7.57625770681e-19\n",
      "  ' condition number: {}'.format(rcond), RuntimeWarning)\n"
     ]
    },
    {
     "name": "stdout",
     "output_type": "stream",
     "text": [
      "Predicting the hold-out validation set...\n",
      "Scoring model...\n",
      "RMSLE:  2.08081613636\n",
      "Fitting model on training set...\n",
      "Predicting the hold-out validation set...\n",
      "Scoring model...\n",
      "RMSLE:  0.524015603996\n"
     ]
    },
    {
     "name": "stderr",
     "output_type": "stream",
     "text": [
      "/usr/local/lib/python2.7/dist-packages/scipy/linalg/basic.py:223: RuntimeWarning: scipy.linalg.solve\n",
      "Ill-conditioned matrix detected. Result is not guaranteed to be accurate.\n",
      "Reciprocal condition number: 4.14172115989e-18\n",
      "  ' condition number: {}'.format(rcond), RuntimeWarning)\n"
     ]
    },
    {
     "data": {
      "text/plain": [
       "0.524015603995574"
      ]
     },
     "execution_count": 80,
     "metadata": {},
     "output_type": "execute_result"
    }
   ],
   "source": [
    "evaluate_model_on_holdout_set(linear_model, linear_train_after_2014, linear_val_after_2014)\n",
    "evaluate_model_on_holdout_set(linear_model, linear_train_after_2015, linear_val_after_2015)"
   ]
  },
  {
   "cell_type": "code",
   "execution_count": 81,
   "metadata": {},
   "outputs": [
    {
     "name": "stdout",
     "output_type": "stream",
     "text": [
      "Fitting model on training set...\n",
      "Predicting the hold-out validation set...\n",
      "Scoring model...\n",
      "RMSLE:  0.642493114338\n"
     ]
    },
    {
     "name": "stderr",
     "output_type": "stream",
     "text": [
      "/usr/local/lib/python2.7/dist-packages/scipy/linalg/basic.py:223: RuntimeWarning: scipy.linalg.solve\n",
      "Ill-conditioned matrix detected. Result is not guaranteed to be accurate.\n",
      "Reciprocal condition number: 6.57215497714e-19\n",
      "  ' condition number: {}'.format(rcond), RuntimeWarning)\n"
     ]
    },
    {
     "data": {
      "text/plain": [
       "0.642493114338294"
      ]
     },
     "execution_count": 81,
     "metadata": {},
     "output_type": "execute_result"
    }
   ],
   "source": [
    "evaluate_model_on_holdout_set(linear_model, linear_train_before_2013, linear_val_before_2013)"
   ]
  },
  {
   "cell_type": "markdown",
   "metadata": {},
   "source": [
    "# Model Type 2: Tree Models"
   ]
  },
  {
   "cell_type": "code",
   "execution_count": 60,
   "metadata": {
    "collapsed": true
   },
   "outputs": [],
   "source": [
    "from sklearn.tree import DecisionTreeRegressor, ExtraTreeRegressor\n",
    "from sklearn.ensemble import RandomForestRegressor, BaggingRegressor, GradientBoostingRegressor"
   ]
  },
  {
   "cell_type": "code",
   "execution_count": 61,
   "metadata": {
    "collapsed": true
   },
   "outputs": [],
   "source": [
    "tree_train, tree_val = split_into_train_and_val(train_df_with_macro_labelecoded)"
   ]
  },
  {
   "cell_type": "code",
   "execution_count": 62,
   "metadata": {
    "collapsed": true
   },
   "outputs": [],
   "source": [
    "tree_train_after_2013, tree_val_after_2013 = split_into_train_and_val(train_df_with_macro_labelecoded)\n",
    "tree_train_after_2013 = tree_train_after_2013[tree_train_after_2013.timestamp_year >= 2013]"
   ]
  },
  {
   "cell_type": "code",
   "execution_count": 63,
   "metadata": {
    "collapsed": true
   },
   "outputs": [],
   "source": [
    "tree_train_after_2014, tree_val_after_2014 = split_into_train_and_val(train_df_with_macro_labelecoded)\n",
    "tree_train_after_2014 = tree_train_after_2014[tree_train_after_2014.timestamp_year >= 2014]"
   ]
  },
  {
   "cell_type": "code",
   "execution_count": 64,
   "metadata": {
    "collapsed": true
   },
   "outputs": [],
   "source": [
    "tree_train_after_2015, tree_val_after_2015 = split_into_train_and_val(train_df_with_macro_labelecoded)\n",
    "tree_train_after_2015 = tree_train_after_2015[tree_train_after_2015.timestamp_year >= 2015]"
   ]
  },
  {
   "cell_type": "code",
   "execution_count": 65,
   "metadata": {
    "collapsed": true
   },
   "outputs": [],
   "source": [
    "tree_train_before_2013, tree_val_before_2013 = split_into_train_and_val(train_df_with_macro_labelecoded)\n",
    "tree_train_before_2013 = tree_train_before_2013[tree_train_before_2013.timestamp_year < 2013]"
   ]
  },
  {
   "cell_type": "markdown",
   "metadata": {},
   "source": [
    "### Decision Tree Regressor"
   ]
  },
  {
   "cell_type": "code",
   "execution_count": 181,
   "metadata": {
    "collapsed": true
   },
   "outputs": [],
   "source": [
    "tree_model = DecisionTreeRegressor(random_state=seed, max_depth=5)"
   ]
  },
  {
   "cell_type": "code",
   "execution_count": 182,
   "metadata": {},
   "outputs": [
    {
     "name": "stdout",
     "output_type": "stream",
     "text": [
      "Fitting model on training set...\n",
      "Predicting the hold-out validation set...\n",
      "Scoring model...\n",
      "RMSLE:  0.413698821596\n"
     ]
    },
    {
     "data": {
      "text/plain": [
       "0.4136988215958497"
      ]
     },
     "execution_count": 182,
     "metadata": {},
     "output_type": "execute_result"
    }
   ],
   "source": [
    "evaluate_model_on_holdout_set(tree_model, tree_train, tree_val)"
   ]
  },
  {
   "cell_type": "code",
   "execution_count": 183,
   "metadata": {},
   "outputs": [
    {
     "name": "stdout",
     "output_type": "stream",
     "text": [
      "Fitting model on training set...\n",
      "Predicting the hold-out validation set...\n",
      "Scoring model...\n",
      "RMSLE:  0.406549361789\n"
     ]
    },
    {
     "data": {
      "text/plain": [
       "0.40654936178851203"
      ]
     },
     "execution_count": 183,
     "metadata": {},
     "output_type": "execute_result"
    }
   ],
   "source": [
    "evaluate_model_on_holdout_set(tree_model, tree_train_after_2013, tree_val_after_2013)"
   ]
  },
  {
   "cell_type": "code",
   "execution_count": 184,
   "metadata": {},
   "outputs": [
    {
     "name": "stdout",
     "output_type": "stream",
     "text": [
      "Fitting model on training set...\n",
      "Predicting the hold-out validation set...\n",
      "Scoring model...\n",
      "RMSLE:  0.549659588745\n"
     ]
    },
    {
     "data": {
      "text/plain": [
       "0.5496595887451315"
      ]
     },
     "execution_count": 184,
     "metadata": {},
     "output_type": "execute_result"
    }
   ],
   "source": [
    "evaluate_model_on_holdout_set(tree_model, tree_train_before_2013, tree_val_before_2013)"
   ]
  },
  {
   "cell_type": "markdown",
   "metadata": {},
   "source": [
    "### Extra Trees Regressor"
   ]
  },
  {
   "cell_type": "code",
   "execution_count": 94,
   "metadata": {
    "collapsed": true
   },
   "outputs": [],
   "source": [
    "tree_model = ExtraTreeRegressor(random_state=seed, max_depth=7)"
   ]
  },
  {
   "cell_type": "code",
   "execution_count": 95,
   "metadata": {},
   "outputs": [
    {
     "name": "stdout",
     "output_type": "stream",
     "text": [
      "Fitting model on training set...\n",
      "Predicting the hold-out validation set...\n",
      "Scoring model...\n",
      "RMSLE:  0.425424969122\n"
     ]
    },
    {
     "data": {
      "text/plain": [
       "0.4254249691222213"
      ]
     },
     "execution_count": 95,
     "metadata": {},
     "output_type": "execute_result"
    }
   ],
   "source": [
    "evaluate_model_on_holdout_set(tree_model, tree_train, tree_val)"
   ]
  },
  {
   "cell_type": "code",
   "execution_count": 96,
   "metadata": {},
   "outputs": [
    {
     "name": "stdout",
     "output_type": "stream",
     "text": [
      "Fitting model on training set...\n",
      "Predicting the hold-out validation set...\n",
      "Scoring model...\n",
      "RMSLE:  0.405009379885\n"
     ]
    },
    {
     "data": {
      "text/plain": [
       "0.4050093798852482"
      ]
     },
     "execution_count": 96,
     "metadata": {},
     "output_type": "execute_result"
    }
   ],
   "source": [
    "evaluate_model_on_holdout_set(tree_model, tree_train_after_2013, tree_val_after_2013)"
   ]
  },
  {
   "cell_type": "code",
   "execution_count": 97,
   "metadata": {},
   "outputs": [
    {
     "name": "stdout",
     "output_type": "stream",
     "text": [
      "Fitting model on training set...\n",
      "Predicting the hold-out validation set...\n",
      "Scoring model...\n",
      "RMSLE:  0.410980573481\n"
     ]
    },
    {
     "data": {
      "text/plain": [
       "0.41098057348081163"
      ]
     },
     "execution_count": 97,
     "metadata": {},
     "output_type": "execute_result"
    }
   ],
   "source": [
    "evaluate_model_on_holdout_set(tree_model, tree_train_after_2014, tree_val_after_2014)"
   ]
  },
  {
   "cell_type": "code",
   "execution_count": 98,
   "metadata": {},
   "outputs": [
    {
     "name": "stdout",
     "output_type": "stream",
     "text": [
      "Fitting model on training set...\n",
      "Predicting the hold-out validation set...\n",
      "Scoring model...\n",
      "RMSLE:  0.460805136397\n"
     ]
    },
    {
     "data": {
      "text/plain": [
       "0.4608051363974241"
      ]
     },
     "execution_count": 98,
     "metadata": {},
     "output_type": "execute_result"
    }
   ],
   "source": [
    "evaluate_model_on_holdout_set(tree_model, tree_train_after_2015, tree_val_after_2015)"
   ]
  },
  {
   "cell_type": "code",
   "execution_count": 99,
   "metadata": {},
   "outputs": [
    {
     "name": "stdout",
     "output_type": "stream",
     "text": [
      "Fitting model on training set...\n",
      "Predicting the hold-out validation set...\n",
      "Scoring model...\n",
      "RMSLE:  0.73276169334\n"
     ]
    },
    {
     "data": {
      "text/plain": [
       "0.7327616933399277"
      ]
     },
     "execution_count": 99,
     "metadata": {},
     "output_type": "execute_result"
    }
   ],
   "source": [
    "evaluate_model_on_holdout_set(tree_model, tree_train_before_2013, tree_val_before_2013)"
   ]
  },
  {
   "cell_type": "markdown",
   "metadata": {},
   "source": [
    "### RF Regressor (+ TSFRESH, bagging)"
   ]
  },
  {
   "cell_type": "code",
   "execution_count": 100,
   "metadata": {
    "collapsed": true
   },
   "outputs": [],
   "source": [
    "tree_model = RandomForestRegressor(random_state=seed)"
   ]
  },
  {
   "cell_type": "code",
   "execution_count": 101,
   "metadata": {},
   "outputs": [
    {
     "name": "stdout",
     "output_type": "stream",
     "text": [
      "Fitting model on training set...\n",
      "Predicting the hold-out validation set...\n",
      "Scoring model...\n",
      "RMSLE:  0.423356369114\n"
     ]
    },
    {
     "data": {
      "text/plain": [
       "0.42335636911406616"
      ]
     },
     "execution_count": 101,
     "metadata": {},
     "output_type": "execute_result"
    }
   ],
   "source": [
    "evaluate_model_on_holdout_set(tree_model, tree_train, tree_val)"
   ]
  },
  {
   "cell_type": "code",
   "execution_count": 102,
   "metadata": {},
   "outputs": [
    {
     "name": "stdout",
     "output_type": "stream",
     "text": [
      "Fitting model on training set...\n",
      "Predicting the hold-out validation set...\n",
      "Scoring model...\n",
      "RMSLE:  0.424404192268\n"
     ]
    },
    {
     "data": {
      "text/plain": [
       "0.42440419226755993"
      ]
     },
     "execution_count": 102,
     "metadata": {},
     "output_type": "execute_result"
    }
   ],
   "source": [
    "evaluate_model_on_holdout_set(tree_model, tree_train_after_2013, tree_val_after_2013)"
   ]
  },
  {
   "cell_type": "code",
   "execution_count": 103,
   "metadata": {},
   "outputs": [
    {
     "name": "stdout",
     "output_type": "stream",
     "text": [
      "Fitting model on training set...\n",
      "Predicting the hold-out validation set...\n",
      "Scoring model...\n",
      "RMSLE:  0.406819086963\n"
     ]
    },
    {
     "data": {
      "text/plain": [
       "0.40681908696264024"
      ]
     },
     "execution_count": 103,
     "metadata": {},
     "output_type": "execute_result"
    }
   ],
   "source": [
    "evaluate_model_on_holdout_set(tree_model, tree_train_after_2014, tree_val_after_2014)"
   ]
  },
  {
   "cell_type": "code",
   "execution_count": 104,
   "metadata": {},
   "outputs": [
    {
     "name": "stdout",
     "output_type": "stream",
     "text": [
      "Fitting model on training set...\n",
      "Predicting the hold-out validation set...\n",
      "Scoring model...\n",
      "RMSLE:  0.413808415042\n"
     ]
    },
    {
     "data": {
      "text/plain": [
       "0.41380841504150145"
      ]
     },
     "execution_count": 104,
     "metadata": {},
     "output_type": "execute_result"
    }
   ],
   "source": [
    "evaluate_model_on_holdout_set(tree_model, tree_train_after_2015, tree_val_after_2015)"
   ]
  },
  {
   "cell_type": "code",
   "execution_count": 121,
   "metadata": {},
   "outputs": [
    {
     "name": "stdout",
     "output_type": "stream",
     "text": [
      "Fitting model on training set...\n",
      "Predicting the hold-out validation set...\n",
      "Scoring model...\n",
      "RMSLE:  0.782869061288\n"
     ]
    },
    {
     "data": {
      "text/plain": [
       "0.7828690612877902"
      ]
     },
     "execution_count": 121,
     "metadata": {},
     "output_type": "execute_result"
    }
   ],
   "source": [
    "evaluate_model_on_holdout_set(tree_model, tree_train_before_2013, tree_val_before_2013)"
   ]
  },
  {
   "cell_type": "markdown",
   "metadata": {},
   "source": [
    "#### Bagging"
   ]
  },
  {
   "cell_type": "code",
   "execution_count": 66,
   "metadata": {
    "collapsed": true
   },
   "outputs": [],
   "source": [
    "tree_model = BaggingRegressor(RandomForestRegressor(random_state=seed),random_state=seed, n_jobs=-1)"
   ]
  },
  {
   "cell_type": "code",
   "execution_count": 67,
   "metadata": {},
   "outputs": [
    {
     "data": {
      "text/plain": [
       "BaggingRegressor(base_estimator=RandomForestRegressor(bootstrap=True, criterion='mse', max_depth=None,\n",
       "           max_features='auto', max_leaf_nodes=None,\n",
       "           min_impurity_split=1e-07, min_samples_leaf=1,\n",
       "           min_samples_split=2, min_weight_fraction_leaf=0.0,\n",
       "           n_estimators=10, n_jobs=1, oob_score=False, random_state=2018,\n",
       "           verbose=0, warm_start=False),\n",
       "         bootstrap=True, bootstrap_features=False, max_features=1.0,\n",
       "         max_samples=1.0, n_estimators=10, n_jobs=-1, oob_score=False,\n",
       "         random_state=2018, verbose=0, warm_start=False)"
      ]
     },
     "execution_count": 67,
     "metadata": {},
     "output_type": "execute_result"
    }
   ],
   "source": [
    "tree_model.fit(*clean_inputs(train_df_with_macro_labelecoded))"
   ]
  },
  {
   "cell_type": "code",
   "execution_count": 68,
   "metadata": {},
   "outputs": [
    {
     "data": {
      "text/plain": [
       "array([ 5530148.2031598 ,  8535245.46775945,  6080294.03709945, ...,\n",
       "        4217339.13400513,  4811837.3970377 ,  6939269.36360733])"
      ]
     },
     "execution_count": 68,
     "metadata": {},
     "output_type": "execute_result"
    }
   ],
   "source": [
    "kaggle_preds_bagging_et_only = np.expm1(tree_model.predict(clean_inputs(test_df_with_macro_labelecoded, is_train=False)))\n",
    "kaggle_preds_bagging_et_only"
   ]
  },
  {
   "cell_type": "code",
   "execution_count": 78,
   "metadata": {},
   "outputs": [
    {
     "data": {
      "text/plain": [
       "array([ 5186159.4404794 ,  8357021.68509054,  5434661.99767727,\n",
       "        6777532.50849252,  5139355.33530886,  9729432.03199963,\n",
       "        4746683.09396864,  4079728.12685391,  4564851.5747225 ,\n",
       "        5250551.50597019])"
      ]
     },
     "execution_count": 78,
     "metadata": {},
     "output_type": "execute_result"
    }
   ],
   "source": [
    "((kaggle_preds_bagging_et_only + kaggle_ridge_preds)/2.0)[:10]"
   ]
  },
  {
   "cell_type": "code",
   "execution_count": 79,
   "metadata": {
    "collapsed": true
   },
   "outputs": [],
   "source": [
    "kaggle_preds_df = test_df_with_macro_labelecoded.copy()"
   ]
  },
  {
   "cell_type": "code",
   "execution_count": 80,
   "metadata": {
    "collapsed": true
   },
   "outputs": [],
   "source": [
    "kaggle_preds_df['kaggle_bayesia_ridge_all'] = kaggle_bayesia_ridge_all\n",
    "kaggle_preds_df['kaggle_bayesia_ridge_gt_2013'] = kaggle_bayesia_ridge_gt_2013\n",
    "kaggle_preds_df['kaggle_bayesia_ridge_lt_2013'] = kaggle_bayesia_ridge_lt_2013\n",
    "kaggle_preds_df['kaggle_ridge_gt_2013_preds'] = kaggle_ridge_gt_2013_preds\n",
    "kaggle_preds_df['kaggle_ridge_lt_2013_preds'] = kaggle_ridge_lt_2013_preds\n",
    "kaggle_preds_df['kaggle_ridge_preds'] = kaggle_ridge_preds\n",
    "kaggle_preds_df['kaggle_preds_bagging_et_only'] = kaggle_preds_bagging_et_only"
   ]
  },
  {
   "cell_type": "code",
   "execution_count": 84,
   "metadata": {},
   "outputs": [],
   "source": [
    "kaggle_preds_df[['id'] + [c for c in kaggle_preds_df.columns if 'kaggle_' in c]].to_csv(\"kaggle_submission.csv\", index=False)"
   ]
  },
  {
   "cell_type": "code",
   "execution_count": 106,
   "metadata": {},
   "outputs": [
    {
     "name": "stdout",
     "output_type": "stream",
     "text": [
      "Fitting model on training set...\n",
      "Predicting the hold-out validation set...\n",
      "Scoring model...\n",
      "RMSLE:  0.395289145804\n"
     ]
    },
    {
     "data": {
      "text/plain": [
       "0.3952891458044496"
      ]
     },
     "execution_count": 106,
     "metadata": {},
     "output_type": "execute_result"
    }
   ],
   "source": [
    "evaluate_model_on_holdout_set(tree_model, tree_train, tree_val)"
   ]
  },
  {
   "cell_type": "code",
   "execution_count": 107,
   "metadata": {},
   "outputs": [
    {
     "name": "stdout",
     "output_type": "stream",
     "text": [
      "Fitting model on training set...\n",
      "Predicting the hold-out validation set...\n",
      "Scoring model...\n",
      "RMSLE:  0.397087136018\n"
     ]
    },
    {
     "data": {
      "text/plain": [
       "0.3970871360175275"
      ]
     },
     "execution_count": 107,
     "metadata": {},
     "output_type": "execute_result"
    }
   ],
   "source": [
    "evaluate_model_on_holdout_set(tree_model, tree_train_after_2015, tree_val_after_2015)"
   ]
  },
  {
   "cell_type": "code",
   "execution_count": 108,
   "metadata": {},
   "outputs": [
    {
     "name": "stdout",
     "output_type": "stream",
     "text": [
      "Fitting model on training set...\n",
      "Predicting the hold-out validation set...\n",
      "Scoring model...\n",
      "RMSLE:  0.385612991503\n"
     ]
    },
    {
     "data": {
      "text/plain": [
       "0.3856129915025121"
      ]
     },
     "execution_count": 108,
     "metadata": {},
     "output_type": "execute_result"
    }
   ],
   "source": [
    "evaluate_model_on_holdout_set(tree_model, tree_train_after_2014, tree_val_after_2014)"
   ]
  },
  {
   "cell_type": "code",
   "execution_count": 109,
   "metadata": {},
   "outputs": [
    {
     "name": "stdout",
     "output_type": "stream",
     "text": [
      "Fitting model on training set...\n",
      "Predicting the hold-out validation set...\n",
      "Scoring model...\n",
      "RMSLE:  0.395517821881\n"
     ]
    },
    {
     "data": {
      "text/plain": [
       "0.39551782188098333"
      ]
     },
     "execution_count": 109,
     "metadata": {},
     "output_type": "execute_result"
    }
   ],
   "source": [
    "evaluate_model_on_holdout_set(tree_model, tree_train_after_2013, tree_val_after_2013)"
   ]
  },
  {
   "cell_type": "code",
   "execution_count": 121,
   "metadata": {},
   "outputs": [
    {
     "name": "stdout",
     "output_type": "stream",
     "text": [
      "Fitting model on training set...\n",
      "Predicting the hold-out validation set...\n",
      "Scoring model...\n",
      "RMSLE:  0.782869061288\n"
     ]
    },
    {
     "data": {
      "text/plain": [
       "0.7828690612877902"
      ]
     },
     "execution_count": 121,
     "metadata": {},
     "output_type": "execute_result"
    }
   ],
   "source": [
    "evaluate_model_on_holdout_set(tree_model, tree_train_before_2013, tree_val_before_2013)"
   ]
  },
  {
   "cell_type": "markdown",
   "metadata": {},
   "source": [
    "### GBM Regressor"
   ]
  },
  {
   "cell_type": "code",
   "execution_count": 111,
   "metadata": {
    "collapsed": true
   },
   "outputs": [],
   "source": [
    "tree_model = GradientBoostingRegressor(random_state=seed)"
   ]
  },
  {
   "cell_type": "code",
   "execution_count": 108,
   "metadata": {},
   "outputs": [
    {
     "name": "stdout",
     "output_type": "stream",
     "text": [
      "Fitting model on training set...\n",
      "Predicting the hold-out validation set...\n",
      "Scoring model...\n",
      "RMSLE:  0.374294998657\n"
     ]
    },
    {
     "data": {
      "text/plain": [
       "0.37429499865703336"
      ]
     },
     "execution_count": 108,
     "metadata": {},
     "output_type": "execute_result"
    }
   ],
   "source": [
    "evaluate_model_on_holdout_set(tree_model, tree_train, tree_val)"
   ]
  },
  {
   "cell_type": "code",
   "execution_count": 109,
   "metadata": {},
   "outputs": [
    {
     "name": "stdout",
     "output_type": "stream",
     "text": [
      "Fitting model on training set...\n",
      "Predicting the hold-out validation set...\n",
      "Scoring model...\n",
      "RMSLE:  0.371540085863\n"
     ]
    },
    {
     "data": {
      "text/plain": [
       "0.3715400858631102"
      ]
     },
     "execution_count": 109,
     "metadata": {},
     "output_type": "execute_result"
    }
   ],
   "source": [
    "evaluate_model_on_holdout_set(tree_model, tree_train_after_2013, tree_val_after_2013)"
   ]
  },
  {
   "cell_type": "code",
   "execution_count": 110,
   "metadata": {},
   "outputs": [
    {
     "name": "stdout",
     "output_type": "stream",
     "text": [
      "Fitting model on training set...\n",
      "Predicting the hold-out validation set...\n",
      "Scoring model...\n",
      "RMSLE:  0.372608789312\n"
     ]
    },
    {
     "data": {
      "text/plain": [
       "0.3726087893123304"
      ]
     },
     "execution_count": 110,
     "metadata": {},
     "output_type": "execute_result"
    }
   ],
   "source": [
    "evaluate_model_on_holdout_set(tree_model, tree_train_after_2014, tree_val_after_2014)"
   ]
  },
  {
   "cell_type": "code",
   "execution_count": 105,
   "metadata": {},
   "outputs": [
    {
     "name": "stdout",
     "output_type": "stream",
     "text": [
      "Fitting model on training set...\n",
      "Predicting the hold-out validation set...\n",
      "Scoring model...\n",
      "RMSLE:  0.41449796736\n"
     ]
    },
    {
     "data": {
      "text/plain": [
       "0.41449796736021355"
      ]
     },
     "execution_count": 105,
     "metadata": {},
     "output_type": "execute_result"
    }
   ],
   "source": [
    "evaluate_model_on_holdout_set(tree_model, tree_train_after_2015, tree_val_after_2015)"
   ]
  },
  {
   "cell_type": "code",
   "execution_count": 106,
   "metadata": {},
   "outputs": [
    {
     "name": "stdout",
     "output_type": "stream",
     "text": [
      "Fitting model on training set...\n",
      "Predicting the hold-out validation set...\n",
      "Scoring model...\n",
      "RMSLE:  0.505132166054\n"
     ]
    },
    {
     "data": {
      "text/plain": [
       "0.5051321660537982"
      ]
     },
     "execution_count": 106,
     "metadata": {},
     "output_type": "execute_result"
    }
   ],
   "source": [
    "evaluate_model_on_holdout_set(tree_model, tree_train_before_2013, tree_val_before_2013)"
   ]
  },
  {
   "cell_type": "code",
   "execution_count": 112,
   "metadata": {},
   "outputs": [
    {
     "data": {
      "text/plain": [
       "array([ 5506914.76210193,  8301425.87197396,  5022964.86436411, ...,\n",
       "        4640324.66079217,  5438347.01933234,  8829637.0897267 ])"
      ]
     },
     "execution_count": 112,
     "metadata": {},
     "output_type": "execute_result"
    }
   ],
   "source": [
    "tree_model.fit(*clean_inputs(train_df_with_macro_labelecoded))\n",
    "kaggle_gbm_all_preds = np.expm1(tree_model.predict(clean_inputs(test_df_with_macro_labelecoded, is_train=False)))\n",
    "kaggle_gbm_all_preds"
   ]
  },
  {
   "cell_type": "code",
   "execution_count": 113,
   "metadata": {},
   "outputs": [
    {
     "data": {
      "text/plain": [
       "array([ 4383420.51604563,  5616894.82528458,  4648018.56427856, ...,\n",
       "        3556516.30492439,  4973710.17159678,  7846434.08623438])"
      ]
     },
     "execution_count": 113,
     "metadata": {},
     "output_type": "execute_result"
    }
   ],
   "source": [
    "tree_model.fit(*clean_inputs(train_df_with_macro_labelecoded[train_df_with_macro_labelecoded.timestamp_year < 2013]))\n",
    "kaggle_gbm_lt_2013_preds = np.expm1(tree_model.predict(clean_inputs(test_df_with_macro_labelecoded, is_train=False)))\n",
    "kaggle_gbm_lt_2013_preds"
   ]
  },
  {
   "cell_type": "code",
   "execution_count": 114,
   "metadata": {},
   "outputs": [
    {
     "data": {
      "text/plain": [
       "array([ 5622788.73336377,  8318024.0445459 ,  5168531.67533866, ...,\n",
       "        4441114.89722342,  5561661.03329708,  8939657.07496249])"
      ]
     },
     "execution_count": 114,
     "metadata": {},
     "output_type": "execute_result"
    }
   ],
   "source": [
    "tree_model.fit(*clean_inputs(train_df_with_macro_labelecoded[train_df_with_macro_labelecoded.timestamp_year >= 2013]))\n",
    "kaggle_gbm_gt_2013_preds = np.expm1(tree_model.predict(clean_inputs(test_df_with_macro_labelecoded, is_train=False)))\n",
    "kaggle_gbm_gt_2013_preds"
   ]
  },
  {
   "cell_type": "code",
   "execution_count": 115,
   "metadata": {
    "collapsed": true
   },
   "outputs": [],
   "source": [
    "kaggle_preds_df['kaggle_gbm_all_preds'] = kaggle_gbm_all_preds\n",
    "kaggle_preds_df['kaggle_gbm_lt_2013_preds'] = kaggle_gbm_lt_2013_preds\n",
    "kaggle_preds_df['kaggle_gbm_gt_2013_preds'] = kaggle_gbm_gt_2013_preds"
   ]
  },
  {
   "cell_type": "code",
   "execution_count": 118,
   "metadata": {
    "collapsed": true
   },
   "outputs": [],
   "source": [
    "kaggle_preds_df[['id'] + [c for c in kaggle_preds_df.columns if 'kaggle_' in c]].to_csv(\"kaggle_submission.csv\", index=False)"
   ]
  },
  {
   "cell_type": "markdown",
   "metadata": {},
   "source": [
    "#### Bagging GBM"
   ]
  },
  {
   "cell_type": "code",
   "execution_count": 116,
   "metadata": {
    "collapsed": true
   },
   "outputs": [],
   "source": [
    "tree_model = BaggingRegressor(GradientBoostingRegressor(random_state=seed),random_state=seed, n_jobs=-1)"
   ]
  },
  {
   "cell_type": "code",
   "execution_count": 117,
   "metadata": {},
   "outputs": [
    {
     "name": "stdout",
     "output_type": "stream",
     "text": [
      "Fitting model on training set...\n",
      "Predicting the hold-out validation set...\n",
      "Scoring model...\n",
      "RMSLE:  0.377865335333\n"
     ]
    },
    {
     "data": {
      "text/plain": [
       "0.37786533533285394"
      ]
     },
     "execution_count": 117,
     "metadata": {},
     "output_type": "execute_result"
    }
   ],
   "source": [
    "evaluate_model_on_holdout_set(tree_model, tree_train, tree_val)"
   ]
  },
  {
   "cell_type": "code",
   "execution_count": null,
   "metadata": {
    "collapsed": true
   },
   "outputs": [],
   "source": [
    "evaluate_model_on_holdout_set(tree_model, tree_train_after_2013, tree_val_after_2013)"
   ]
  },
  {
   "cell_type": "code",
   "execution_count": null,
   "metadata": {
    "collapsed": true
   },
   "outputs": [],
   "source": [
    "evaluate_model_on_holdout_set(tree_model, tree_train_after_2014, tree_val_after_2014)"
   ]
  },
  {
   "cell_type": "code",
   "execution_count": 119,
   "metadata": {},
   "outputs": [
    {
     "data": {
      "text/plain": [
       "array([ 5372726.72640079,  8258075.02676723,  5259091.04532245, ...,\n",
       "        4376741.80753391,  5509944.31250031,  8769480.11869137])"
      ]
     },
     "execution_count": 119,
     "metadata": {},
     "output_type": "execute_result"
    }
   ],
   "source": [
    "tree_model.fit(*clean_inputs(train_df_with_macro_labelecoded))\n",
    "kaggle_bagginng_gbm_all_preds = np.expm1(tree_model.predict(clean_inputs(test_df_with_macro_labelecoded, is_train=False)))\n",
    "kaggle_bagginng_gbm_all_preds"
   ]
  },
  {
   "cell_type": "code",
   "execution_count": 120,
   "metadata": {},
   "outputs": [
    {
     "data": {
      "text/plain": [
       "array([ 3613600.74665527,  4531660.40525576,  4006445.04311687, ...,\n",
       "        2625868.69293379,  4366591.94700641,  6256571.80922525])"
      ]
     },
     "execution_count": 120,
     "metadata": {},
     "output_type": "execute_result"
    }
   ],
   "source": [
    "tree_model.fit(*clean_inputs(train_df_with_macro_labelecoded[train_df_with_macro_labelecoded.timestamp_year < 2013]))\n",
    "kaggle_bagginng_gbm_lt_2013_preds = np.expm1(tree_model.predict(clean_inputs(test_df_with_macro_labelecoded, is_train=False)))\n",
    "kaggle_bagginng_gbm_lt_2013_preds"
   ]
  },
  {
   "cell_type": "code",
   "execution_count": 121,
   "metadata": {},
   "outputs": [
    {
     "data": {
      "text/plain": [
       "array([ 5494072.88691165,  8172539.84617735,  5168034.60786757, ...,\n",
       "        4491155.67087552,  5524410.10157204,  9082169.89383017])"
      ]
     },
     "execution_count": 121,
     "metadata": {},
     "output_type": "execute_result"
    }
   ],
   "source": [
    "tree_model.fit(*clean_inputs(train_df_with_macro_labelecoded[train_df_with_macro_labelecoded.timestamp_year >= 2013]))\n",
    "kaggle_bagginng_gbm_gt_2013_preds = np.expm1(tree_model.predict(clean_inputs(test_df_with_macro_labelecoded, is_train=False)))\n",
    "kaggle_bagginng_gbm_gt_2013_preds"
   ]
  },
  {
   "cell_type": "code",
   "execution_count": 122,
   "metadata": {
    "collapsed": true
   },
   "outputs": [],
   "source": [
    "kaggle_preds_df['kaggle_bagginng_gbm_all_preds'] = kaggle_bagginng_gbm_all_preds\n",
    "kaggle_preds_df['kaggle_bagginng_gbm_lt_2013_preds'] = kaggle_bagginng_gbm_lt_2013_preds\n",
    "kaggle_preds_df['kaggle_bagginng_gbm_gt_2013_preds'] = kaggle_bagginng_gbm_gt_2013_preds"
   ]
  },
  {
   "cell_type": "code",
   "execution_count": 123,
   "metadata": {
    "collapsed": true
   },
   "outputs": [],
   "source": [
    "kaggle_preds_df[['id'] + [c for c in kaggle_preds_df.columns if 'kaggle_' in c]].to_csv(\"kaggle_submission.csv\", index=False)"
   ]
  },
  {
   "cell_type": "markdown",
   "metadata": {},
   "source": [
    "### Adaboost Regressor"
   ]
  },
  {
   "cell_type": "code",
   "execution_count": 262,
   "metadata": {
    "collapsed": true
   },
   "outputs": [],
   "source": [
    "tree_model = RandomForestRegressor(random_state=seed)"
   ]
  },
  {
   "cell_type": "code",
   "execution_count": null,
   "metadata": {},
   "outputs": [
    {
     "name": "stdout",
     "output_type": "stream",
     "text": [
      "Fitting model on training set...\n"
     ]
    }
   ],
   "source": [
    "evaluate_model_on_holdout_set(tree_model, tree_train, tree_val)"
   ]
  },
  {
   "cell_type": "code",
   "execution_count": null,
   "metadata": {
    "collapsed": true
   },
   "outputs": [],
   "source": [
    "evaluate_model_on_holdout_set(tree_model, tree_train_after_2013, tree_val_after_2013)"
   ]
  },
  {
   "cell_type": "code",
   "execution_count": null,
   "metadata": {
    "collapsed": true
   },
   "outputs": [],
   "source": [
    "evaluate_model_on_holdout_set(tree_model, tree_train_before_2013, tree_val_before_2013)"
   ]
  },
  {
   "cell_type": "markdown",
   "metadata": {},
   "source": [
    "### XGB Regressor"
   ]
  },
  {
   "cell_type": "code",
   "execution_count": 109,
   "metadata": {},
   "outputs": [
    {
     "name": "stderr",
     "output_type": "stream",
     "text": [
      "/usr/local/lib/python2.7/dist-packages/sklearn/cross_validation.py:44: DeprecationWarning: This module was deprecated in version 0.18 in favor of the model_selection module into which all the refactored classes and functions are moved. Also note that the interface of the new CV iterators are different from that of this module. This module will be removed in 0.20.\n",
      "  \"This module will be removed in 0.20.\", DeprecationWarning)\n"
     ]
    },
    {
     "ename": "OSError",
     "evalue": "/usr/local/lib/python2.7/dist-packages/xgboost/./lib/libxgboost.so: invalid ELF header",
     "output_type": "error",
     "traceback": [
      "\u001b[0;31m---------------------------------------------------------------------------\u001b[0m",
      "\u001b[0;31mOSError\u001b[0m                                   Traceback (most recent call last)",
      "\u001b[0;32m<ipython-input-109-745aa3a2d734>\u001b[0m in \u001b[0;36m<module>\u001b[0;34m()\u001b[0m\n\u001b[0;32m----> 1\u001b[0;31m \u001b[0;32mimport\u001b[0m \u001b[0mxgboost\u001b[0m \u001b[0;32mas\u001b[0m \u001b[0mxgb\u001b[0m\u001b[0;34m\u001b[0m\u001b[0m\n\u001b[0m",
      "\u001b[0;32m/usr/local/lib/python2.7/dist-packages/xgboost/__init__.py\u001b[0m in \u001b[0;36m<module>\u001b[0;34m()\u001b[0m\n\u001b[1;32m      9\u001b[0m \u001b[0;32mimport\u001b[0m \u001b[0mos\u001b[0m\u001b[0;34m\u001b[0m\u001b[0m\n\u001b[1;32m     10\u001b[0m \u001b[0;34m\u001b[0m\u001b[0m\n\u001b[0;32m---> 11\u001b[0;31m \u001b[0;32mfrom\u001b[0m \u001b[0;34m.\u001b[0m\u001b[0mcore\u001b[0m \u001b[0;32mimport\u001b[0m \u001b[0mDMatrix\u001b[0m\u001b[0;34m,\u001b[0m \u001b[0mBooster\u001b[0m\u001b[0;34m\u001b[0m\u001b[0m\n\u001b[0m\u001b[1;32m     12\u001b[0m \u001b[0;32mfrom\u001b[0m \u001b[0;34m.\u001b[0m\u001b[0mtraining\u001b[0m \u001b[0;32mimport\u001b[0m \u001b[0mtrain\u001b[0m\u001b[0;34m,\u001b[0m \u001b[0mcv\u001b[0m\u001b[0;34m\u001b[0m\u001b[0m\n\u001b[1;32m     13\u001b[0m \u001b[0;32mfrom\u001b[0m \u001b[0;34m.\u001b[0m \u001b[0;32mimport\u001b[0m \u001b[0mrabit\u001b[0m                   \u001b[0;31m# noqa\u001b[0m\u001b[0;34m\u001b[0m\u001b[0m\n",
      "\u001b[0;32m/usr/local/lib/python2.7/dist-packages/xgboost/core.py\u001b[0m in \u001b[0;36m<module>\u001b[0;34m()\u001b[0m\n\u001b[1;32m    110\u001b[0m \u001b[0;34m\u001b[0m\u001b[0m\n\u001b[1;32m    111\u001b[0m \u001b[0;31m# load the XGBoost library globally\u001b[0m\u001b[0;34m\u001b[0m\u001b[0;34m\u001b[0m\u001b[0m\n\u001b[0;32m--> 112\u001b[0;31m \u001b[0m_LIB\u001b[0m \u001b[0;34m=\u001b[0m \u001b[0m_load_lib\u001b[0m\u001b[0;34m(\u001b[0m\u001b[0;34m)\u001b[0m\u001b[0;34m\u001b[0m\u001b[0m\n\u001b[0m\u001b[1;32m    113\u001b[0m \u001b[0;34m\u001b[0m\u001b[0m\n\u001b[1;32m    114\u001b[0m \u001b[0;34m\u001b[0m\u001b[0m\n",
      "\u001b[0;32m/usr/local/lib/python2.7/dist-packages/xgboost/core.py\u001b[0m in \u001b[0;36m_load_lib\u001b[0;34m()\u001b[0m\n\u001b[1;32m    104\u001b[0m     \u001b[0;32mif\u001b[0m \u001b[0mlen\u001b[0m\u001b[0;34m(\u001b[0m\u001b[0mlib_path\u001b[0m\u001b[0;34m)\u001b[0m \u001b[0;34m==\u001b[0m \u001b[0;36m0\u001b[0m\u001b[0;34m:\u001b[0m\u001b[0;34m\u001b[0m\u001b[0m\n\u001b[1;32m    105\u001b[0m         \u001b[0;32mreturn\u001b[0m \u001b[0mNone\u001b[0m\u001b[0;34m\u001b[0m\u001b[0m\n\u001b[0;32m--> 106\u001b[0;31m     \u001b[0mlib\u001b[0m \u001b[0;34m=\u001b[0m \u001b[0mctypes\u001b[0m\u001b[0;34m.\u001b[0m\u001b[0mcdll\u001b[0m\u001b[0;34m.\u001b[0m\u001b[0mLoadLibrary\u001b[0m\u001b[0;34m(\u001b[0m\u001b[0mlib_path\u001b[0m\u001b[0;34m[\u001b[0m\u001b[0;36m0\u001b[0m\u001b[0;34m]\u001b[0m\u001b[0;34m)\u001b[0m\u001b[0;34m\u001b[0m\u001b[0m\n\u001b[0m\u001b[1;32m    107\u001b[0m     \u001b[0mlib\u001b[0m\u001b[0;34m.\u001b[0m\u001b[0mXGBGetLastError\u001b[0m\u001b[0;34m.\u001b[0m\u001b[0mrestype\u001b[0m \u001b[0;34m=\u001b[0m \u001b[0mctypes\u001b[0m\u001b[0;34m.\u001b[0m\u001b[0mc_char_p\u001b[0m\u001b[0;34m\u001b[0m\u001b[0m\n\u001b[1;32m    108\u001b[0m     \u001b[0;32mreturn\u001b[0m \u001b[0mlib\u001b[0m\u001b[0;34m\u001b[0m\u001b[0m\n",
      "\u001b[0;32m/usr/lib/python2.7/ctypes/__init__.pyc\u001b[0m in \u001b[0;36mLoadLibrary\u001b[0;34m(self, name)\u001b[0m\n\u001b[1;32m    438\u001b[0m \u001b[0;34m\u001b[0m\u001b[0m\n\u001b[1;32m    439\u001b[0m     \u001b[0;32mdef\u001b[0m \u001b[0mLoadLibrary\u001b[0m\u001b[0;34m(\u001b[0m\u001b[0mself\u001b[0m\u001b[0;34m,\u001b[0m \u001b[0mname\u001b[0m\u001b[0;34m)\u001b[0m\u001b[0;34m:\u001b[0m\u001b[0;34m\u001b[0m\u001b[0m\n\u001b[0;32m--> 440\u001b[0;31m         \u001b[0;32mreturn\u001b[0m \u001b[0mself\u001b[0m\u001b[0;34m.\u001b[0m\u001b[0m_dlltype\u001b[0m\u001b[0;34m(\u001b[0m\u001b[0mname\u001b[0m\u001b[0;34m)\u001b[0m\u001b[0;34m\u001b[0m\u001b[0m\n\u001b[0m\u001b[1;32m    441\u001b[0m \u001b[0;34m\u001b[0m\u001b[0m\n\u001b[1;32m    442\u001b[0m \u001b[0mcdll\u001b[0m \u001b[0;34m=\u001b[0m \u001b[0mLibraryLoader\u001b[0m\u001b[0;34m(\u001b[0m\u001b[0mCDLL\u001b[0m\u001b[0;34m)\u001b[0m\u001b[0;34m\u001b[0m\u001b[0m\n",
      "\u001b[0;32m/usr/lib/python2.7/ctypes/__init__.pyc\u001b[0m in \u001b[0;36m__init__\u001b[0;34m(self, name, mode, handle, use_errno, use_last_error)\u001b[0m\n\u001b[1;32m    360\u001b[0m \u001b[0;34m\u001b[0m\u001b[0m\n\u001b[1;32m    361\u001b[0m         \u001b[0;32mif\u001b[0m \u001b[0mhandle\u001b[0m \u001b[0;32mis\u001b[0m \u001b[0mNone\u001b[0m\u001b[0;34m:\u001b[0m\u001b[0;34m\u001b[0m\u001b[0m\n\u001b[0;32m--> 362\u001b[0;31m             \u001b[0mself\u001b[0m\u001b[0;34m.\u001b[0m\u001b[0m_handle\u001b[0m \u001b[0;34m=\u001b[0m \u001b[0m_dlopen\u001b[0m\u001b[0;34m(\u001b[0m\u001b[0mself\u001b[0m\u001b[0;34m.\u001b[0m\u001b[0m_name\u001b[0m\u001b[0;34m,\u001b[0m \u001b[0mmode\u001b[0m\u001b[0;34m)\u001b[0m\u001b[0;34m\u001b[0m\u001b[0m\n\u001b[0m\u001b[1;32m    363\u001b[0m         \u001b[0;32melse\u001b[0m\u001b[0;34m:\u001b[0m\u001b[0;34m\u001b[0m\u001b[0m\n\u001b[1;32m    364\u001b[0m             \u001b[0mself\u001b[0m\u001b[0;34m.\u001b[0m\u001b[0m_handle\u001b[0m \u001b[0;34m=\u001b[0m \u001b[0mhandle\u001b[0m\u001b[0;34m\u001b[0m\u001b[0m\n",
      "\u001b[0;31mOSError\u001b[0m: /usr/local/lib/python2.7/dist-packages/xgboost/./lib/libxgboost.so: invalid ELF header"
     ]
    }
   ],
   "source": [
    "import xgboost as xgb"
   ]
  },
  {
   "cell_type": "code",
   "execution_count": 125,
   "metadata": {},
   "outputs": [
    {
     "name": "stdout",
     "output_type": "stream",
     "text": [
      "Copying file://kaggle_submission.csv [Content-Type=text/csv]...\n",
      "/ [1 files][  1.4 MiB/  1.4 MiB]                                                \n",
      "Operation completed over 1 objects/1.4 MiB.                                      \n"
     ]
    }
   ],
   "source": [
    "! sudo gsutil cp kaggle_submission.csv gs://pencil-app/kaggle_sberbank/data_newest"
   ]
  },
  {
   "cell_type": "code",
   "execution_count": 262,
   "metadata": {
    "collapsed": true
   },
   "outputs": [],
   "source": [
    "tree_model = RandomForestRegressor(random_state=seed)"
   ]
  },
  {
   "cell_type": "code",
   "execution_count": null,
   "metadata": {},
   "outputs": [
    {
     "name": "stdout",
     "output_type": "stream",
     "text": [
      "Fitting model on training set...\n"
     ]
    }
   ],
   "source": [
    "evaluate_model_on_holdout_set(tree_model, tree_train, tree_val)"
   ]
  },
  {
   "cell_type": "code",
   "execution_count": null,
   "metadata": {
    "collapsed": true
   },
   "outputs": [],
   "source": [
    "evaluate_model_on_holdout_set(tree_model, tree_train_after_2013, tree_val_after_2013)"
   ]
  },
  {
   "cell_type": "code",
   "execution_count": null,
   "metadata": {
    "collapsed": true
   },
   "outputs": [],
   "source": [
    "evaluate_model_on_holdout_set(tree_model, tree_train_before_2013, tree_val_before_2013)"
   ]
  },
  {
   "cell_type": "markdown",
   "metadata": {},
   "source": [
    "### Bagging regressors\n",
    "- Random Forests\n",
    "- ET\n",
    "- Linear model types\n",
    "- DTs\n",
    "- XGBoostRegressor"
   ]
  },
  {
   "cell_type": "code",
   "execution_count": 262,
   "metadata": {
    "collapsed": true
   },
   "outputs": [],
   "source": [
    "tree_model = RandomForestRegressor(random_state=seed)"
   ]
  },
  {
   "cell_type": "code",
   "execution_count": null,
   "metadata": {},
   "outputs": [
    {
     "name": "stdout",
     "output_type": "stream",
     "text": [
      "Fitting model on training set...\n"
     ]
    }
   ],
   "source": [
    "evaluate_model_on_holdout_set(tree_model, tree_train, tree_val)"
   ]
  },
  {
   "cell_type": "code",
   "execution_count": null,
   "metadata": {
    "collapsed": true
   },
   "outputs": [],
   "source": [
    "evaluate_model_on_holdout_set(tree_model, tree_train_after_2013, tree_val_after_2013)"
   ]
  },
  {
   "cell_type": "code",
   "execution_count": null,
   "metadata": {
    "collapsed": true
   },
   "outputs": [],
   "source": [
    "evaluate_model_on_holdout_set(tree_model, tree_train_before_2013, tree_val_before_2013)"
   ]
  },
  {
   "cell_type": "code",
   "execution_count": null,
   "metadata": {
    "collapsed": true
   },
   "outputs": [],
   "source": []
  }
 ],
 "metadata": {
  "kernelspec": {
   "display_name": "Python 2",
   "language": "python",
   "name": "python2"
  },
  "language_info": {
   "codemirror_mode": {
    "name": "ipython",
    "version": 2
   },
   "file_extension": ".py",
   "mimetype": "text/x-python",
   "name": "python",
   "nbconvert_exporter": "python",
   "pygments_lexer": "ipython2",
   "version": "2.7.14"
  }
 },
 "nbformat": 4,
 "nbformat_minor": 2
}
